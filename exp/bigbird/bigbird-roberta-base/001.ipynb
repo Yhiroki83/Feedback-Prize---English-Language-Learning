{
 "cells": [
  {
   "cell_type": "code",
   "execution_count": 25,
   "metadata": {
    "papermill": {
     "duration": 0.015868,
     "end_time": "2022-08-31T07:01:57.417077",
     "exception": false,
     "start_time": "2022-08-31T07:01:57.401209",
     "status": "completed"
    },
    "tags": []
   },
   "outputs": [],
   "source": [
    "# ====================================================\n",
    "# CFG\n",
    "# ====================================================\n",
    "import numpy as np\n",
    "class CFG:\n",
    "    wandb = True\n",
    "    DEBUG = False\n",
    "    TO_KAGGLE = True\n",
    "    score_path = \"gs://feedback3/output/scores/scores3.csv\"\n",
    "    MEMO = \"ベースライン\"\n",
    "    file_name = \"001\"\n",
    "    model=\"bigbird/roberta-base\"\n",
    "    n_fold=4\n",
    "    trn_fold=[0,1,2,3]\n",
    "    model_config_path = f\"/home/jupyter/models/{model}/\"\n",
    "    model_bin_path = f\"/home/jupyter/models/{model}/\"\n",
    "    competition='FB3'\n",
    "    apex=True\n",
    "    print_freq=20\n",
    "    num_workers=4\n",
    "    gradient_checkpointing=True\n",
    "    scheduler='cosine' # ['linear', 'cosine']\n",
    "    batch_scheduler=True\n",
    "    num_cycles=0.5\n",
    "    num_warmup_steps=0\n",
    "    epochs=6\n",
    "    encoder_lr=2e-5\n",
    "    decoder_lr=2e-5\n",
    "    min_lr=1e-6\n",
    "    eps=1e-6\n",
    "    betas=(0.9, 0.999)\n",
    "    batch_size=8\n",
    "    max_len=512\n",
    "    weight_decay=0.01\n",
    "    gradient_accumulation_steps=1\n",
    "    max_grad_norm=1000\n",
    "    target_cols=['cohesion', 'syntax', 'vocabulary', 'phraseology', 'grammar', 'conventions']\n",
    "    seed=42\n",
    "    train=True\n",
    "    \n",
    "if CFG.DEBUG:\n",
    "    CFG.epochs = 2\n",
    "    #CFG.trn_fold = [0]"
   ]
  },
  {
   "cell_type": "code",
   "execution_count": 2,
   "metadata": {},
   "outputs": [
    {
     "name": "stderr",
     "output_type": "stream",
     "text": [
      "\u001b[34m\u001b[1mwandb\u001b[0m: Currently logged in as: \u001b[33mhiroki8383\u001b[0m. Use \u001b[1m`wandb login --relogin`\u001b[0m to force relogin\n",
      "\u001b[34m\u001b[1mwandb\u001b[0m: \u001b[33mWARNING\u001b[0m If you're specifying your api key in code, ensure this code is not shared publicly.\n",
      "\u001b[34m\u001b[1mwandb\u001b[0m: \u001b[33mWARNING\u001b[0m Consider setting the WANDB_API_KEY environment variable, or running `wandb login` from the command line.\n",
      "\u001b[34m\u001b[1mwandb\u001b[0m: Appending key for api.wandb.ai to your netrc file: /root/.netrc\n"
     ]
    },
    {
     "data": {
      "text/html": [
       "wandb version 0.13.5 is available!  To upgrade, please run:\n",
       " $ pip install wandb --upgrade"
      ],
      "text/plain": [
       "<IPython.core.display.HTML object>"
      ]
     },
     "metadata": {},
     "output_type": "display_data"
    },
    {
     "data": {
      "text/html": [
       "Tracking run with wandb version 0.12.21"
      ],
      "text/plain": [
       "<IPython.core.display.HTML object>"
      ]
     },
     "metadata": {},
     "output_type": "display_data"
    },
    {
     "data": {
      "text/html": [
       "Run data is saved locally in <code>/home/jupyter/exp/bigbird/bigbird-roberta-base/wandb/run-20221105_032259-2k45honq</code>"
      ],
      "text/plain": [
       "<IPython.core.display.HTML object>"
      ]
     },
     "metadata": {},
     "output_type": "display_data"
    },
    {
     "data": {
      "text/html": [
       "Syncing run <strong><a href=\"https://wandb.ai/hiroki8383/Feedback%20Prize%20-%20English%20Language%20Learning/runs/2k45honq\" target=\"_blank\">001_202211051222</a></strong> to <a href=\"https://wandb.ai/hiroki8383/Feedback%20Prize%20-%20English%20Language%20Learning\" target=\"_blank\">Weights & Biases</a> (<a href=\"https://wandb.me/run\" target=\"_blank\">docs</a>)<br/>"
      ],
      "text/plain": [
       "<IPython.core.display.HTML object>"
      ]
     },
     "metadata": {},
     "output_type": "display_data"
    }
   ],
   "source": [
    "import os\n",
    "import datetime\n",
    "import pickle\n",
    "import glob\n",
    "\n",
    "# ====================================================\n",
    "# datetime\n",
    "# ====================================================\n",
    "t_delta = datetime.timedelta(hours=9)\n",
    "JST = datetime.timezone(t_delta, 'JST')\n",
    "now = datetime.datetime.now(JST)\n",
    "date = now.strftime('%Y%m%d')\n",
    "date2 = now.strftime('%Y%m%d%H%M')\n",
    "\n",
    "\n",
    "# ====================================================\n",
    "# file_path\n",
    "# ====================================================\n",
    "if \"/\" in CFG.model:\n",
    "    model_name = CFG.model.replace(\"/\",\"-\")\n",
    "else:\n",
    "    model_name = CFG.model\n",
    "\n",
    "path =\"/home/jupyter/feedback-prize-english-language-learning/\"\n",
    "if CFG.DEBUG:\n",
    "    OUTPUT_DIR = f'/home/jupyter/output/ex/DEBUG/{model_name}/{CFG.file_name}/{date2}/'\n",
    "else:\n",
    "    OUTPUT_DIR = f'/home/jupyter/output/ex/{model_name}/{CFG.file_name}/{date2}/'\n",
    "if not os.path.exists(OUTPUT_DIR):\n",
    "    os.makedirs(OUTPUT_DIR)\n",
    "\n",
    "\n",
    "\n",
    "# ====================================================\n",
    "# wandb \n",
    "# ====================================================\n",
    "if CFG.wandb:\n",
    "    import wandb\n",
    "    \n",
    "    def class2dict(f):\n",
    "            return dict((name, getattr(f, name)) for name in dir(f) if not name.startswith('__'))\n",
    "        \n",
    "    project='Feedback Prize - English Language Learning'\n",
    "    if CFG.DEBUG:\n",
    "        group = \"DEBUG\"\n",
    "    else:\n",
    "        group = model_name\n",
    "    wandb_name = f\"{CFG.file_name}_{date2}\"\n",
    "    job_type = CFG.file_name  #\"train\"\n",
    "\n",
    "    wandb_api = \"your_id\"\n",
    "    wandb.login(key=wandb_api)\n",
    "    anony = None\n",
    "    run = wandb.init(project=project, \n",
    "                         name = wandb_name,\n",
    "                         config=class2dict(CFG),\n",
    "                         group=group,\n",
    "                         job_type=job_type,\n",
    "                         anonymous=anony)"
   ]
  },
  {
   "cell_type": "markdown",
   "metadata": {
    "papermill": {
     "duration": 0.008876,
     "end_time": "2022-08-31T07:02:06.467728",
     "exception": false,
     "start_time": "2022-08-31T07:02:06.458852",
     "status": "completed"
    },
    "tags": []
   },
   "source": [
    "# Library"
   ]
  },
  {
   "cell_type": "code",
   "execution_count": 3,
   "metadata": {},
   "outputs": [],
   "source": [
    "# !pip download transformers==4.21.2\n",
    "# !pip download tokenizers==0.12.1"
   ]
  },
  {
   "cell_type": "code",
   "execution_count": 4,
   "metadata": {},
   "outputs": [],
   "source": [
    "# !pip install transformers\n",
    "# !pip install tokenizers"
   ]
  },
  {
   "cell_type": "code",
   "execution_count": 5,
   "metadata": {
    "papermill": {
     "duration": 57.587416,
     "end_time": "2022-08-31T07:03:04.064247",
     "exception": false,
     "start_time": "2022-08-31T07:02:06.476831",
     "status": "completed"
    },
    "tags": []
   },
   "outputs": [
    {
     "name": "stdout",
     "output_type": "stream",
     "text": [
      "Requirement already satisfied: iterative-stratification==0.1.7 in /opt/conda/lib/python3.7/site-packages (0.1.7)\n",
      "Requirement already satisfied: numpy in /opt/conda/lib/python3.7/site-packages (from iterative-stratification==0.1.7) (1.21.6)\n",
      "Requirement already satisfied: scipy in /opt/conda/lib/python3.7/site-packages (from iterative-stratification==0.1.7) (1.7.3)\n",
      "Requirement already satisfied: scikit-learn in /opt/conda/lib/python3.7/site-packages (from iterative-stratification==0.1.7) (1.0.2)\n",
      "Requirement already satisfied: threadpoolctl>=2.0.0 in /opt/conda/lib/python3.7/site-packages (from scikit-learn->iterative-stratification==0.1.7) (3.1.0)\n",
      "Requirement already satisfied: joblib>=0.11 in /opt/conda/lib/python3.7/site-packages (from scikit-learn->iterative-stratification==0.1.7) (1.0.1)\n"
     ]
    },
    {
     "name": "stderr",
     "output_type": "stream",
     "text": [
      "WARNING: Running pip as the 'root' user can result in broken permissions and conflicting behaviour with the system package manager. It is recommended to use a virtual environment instead: https://pip.pypa.io/warnings/venv\n"
     ]
    },
    {
     "name": "stdout",
     "output_type": "stream",
     "text": [
      "Found existing installation: transformers 4.21.2\n",
      "Uninstalling transformers-4.21.2:\n",
      "  Successfully uninstalled transformers-4.21.2\n"
     ]
    },
    {
     "name": "stderr",
     "output_type": "stream",
     "text": [
      "WARNING: Running pip as the 'root' user can result in broken permissions and conflicting behaviour with the system package manager. It is recommended to use a virtual environment instead: https://pip.pypa.io/warnings/venv\n"
     ]
    },
    {
     "name": "stdout",
     "output_type": "stream",
     "text": [
      "Found existing installation: tokenizers 0.12.1\n",
      "Uninstalling tokenizers-0.12.1:\n",
      "  Successfully uninstalled tokenizers-0.12.1\n"
     ]
    },
    {
     "name": "stderr",
     "output_type": "stream",
     "text": [
      "WARNING: Running pip as the 'root' user can result in broken permissions and conflicting behaviour with the system package manager. It is recommended to use a virtual environment instead: https://pip.pypa.io/warnings/venv\n"
     ]
    },
    {
     "name": "stdout",
     "output_type": "stream",
     "text": [
      "Looking in links: /home/jupyter/code_baseline/FB3_pip_wheels\n",
      "Processing /home/jupyter/code_baseline/FB3_pip_wheels/transformers-4.21.2-py3-none-any.whl\n",
      "Requirement already satisfied: filelock in /opt/conda/lib/python3.7/site-packages (from transformers) (3.7.1)\n",
      "Requirement already satisfied: huggingface-hub<1.0,>=0.1.0 in /opt/conda/lib/python3.7/site-packages (from transformers) (0.10.1)\n",
      "Requirement already satisfied: tqdm>=4.27 in /opt/conda/lib/python3.7/site-packages (from transformers) (4.64.0)\n",
      "Requirement already satisfied: packaging>=20.0 in /opt/conda/lib/python3.7/site-packages (from transformers) (21.3)\n",
      "Requirement already satisfied: numpy>=1.17 in /opt/conda/lib/python3.7/site-packages (from transformers) (1.21.6)\n",
      "Requirement already satisfied: importlib-metadata in /opt/conda/lib/python3.7/site-packages (from transformers) (4.13.0)\n",
      "Processing /home/jupyter/code_baseline/FB3_pip_wheels/tokenizers-0.12.1-cp37-cp37m-manylinux_2_12_x86_64.manylinux2010_x86_64.whl\n",
      "Requirement already satisfied: requests in /opt/conda/lib/python3.7/site-packages (from transformers) (2.28.1)\n",
      "Requirement already satisfied: regex!=2019.12.17 in /opt/conda/lib/python3.7/site-packages (from transformers) (2021.11.10)\n",
      "Requirement already satisfied: pyyaml>=5.1 in /opt/conda/lib/python3.7/site-packages (from transformers) (6.0)\n",
      "Requirement already satisfied: typing-extensions>=3.7.4.3 in /opt/conda/lib/python3.7/site-packages (from huggingface-hub<1.0,>=0.1.0->transformers) (4.1.1)\n",
      "Requirement already satisfied: pyparsing!=3.0.5,>=2.0.2 in /opt/conda/lib/python3.7/site-packages (from packaging>=20.0->transformers) (3.0.9)\n",
      "Requirement already satisfied: zipp>=0.5 in /opt/conda/lib/python3.7/site-packages (from importlib-metadata->transformers) (3.8.0)\n",
      "Requirement already satisfied: certifi>=2017.4.17 in /opt/conda/lib/python3.7/site-packages (from requests->transformers) (2022.9.24)\n",
      "Requirement already satisfied: urllib3<1.27,>=1.21.1 in /opt/conda/lib/python3.7/site-packages (from requests->transformers) (1.26.12)\n",
      "Requirement already satisfied: charset-normalizer<3,>=2 in /opt/conda/lib/python3.7/site-packages (from requests->transformers) (2.1.0)\n",
      "Requirement already satisfied: idna<4,>=2.5 in /opt/conda/lib/python3.7/site-packages (from requests->transformers) (3.3)\n",
      "Installing collected packages: tokenizers, transformers\n"
     ]
    },
    {
     "name": "stderr",
     "output_type": "stream",
     "text": [
      "ERROR: pip's dependency resolver does not currently take into account all the packages that are installed. This behaviour is the source of the following dependency conflicts.\n",
      "allennlp 2.10.1 requires transformers<4.21,>=4.1, but you have transformers 4.21.2 which is incompatible.\n",
      "WARNING: Running pip as the 'root' user can result in broken permissions and conflicting behaviour with the system package manager. It is recommended to use a virtual environment instead: https://pip.pypa.io/warnings/venv\n"
     ]
    },
    {
     "name": "stdout",
     "output_type": "stream",
     "text": [
      "Successfully installed tokenizers-0.12.1 transformers-4.21.2\n",
      "Looking in links: /home/jupyter/code_baseline/FB3_pip_wheels\n",
      "Requirement already satisfied: tokenizers in /opt/conda/lib/python3.7/site-packages (0.12.1)\n"
     ]
    },
    {
     "name": "stderr",
     "output_type": "stream",
     "text": [
      "WARNING: Running pip as the 'root' user can result in broken permissions and conflicting behaviour with the system package manager. It is recommended to use a virtual environment instead: https://pip.pypa.io/warnings/venv\n"
     ]
    },
    {
     "name": "stdout",
     "output_type": "stream",
     "text": [
      "env: TOKENIZERS_PARALLELISM=true\n"
     ]
    }
   ],
   "source": [
    "# ====================================================\n",
    "# Library\n",
    "# ====================================================\n",
    "import os\n",
    "import gc\n",
    "import re\n",
    "import ast\n",
    "import sys\n",
    "import copy\n",
    "import json\n",
    "import time\n",
    "import math\n",
    "import string\n",
    "import pickle\n",
    "import random\n",
    "import joblib\n",
    "import itertools\n",
    "import warnings\n",
    "import shutil\n",
    "warnings.filterwarnings(\"ignore\")\n",
    "\n",
    "import scipy as sp\n",
    "import numpy as np\n",
    "import pandas as pd\n",
    "pd.set_option('display.max_rows', 500)\n",
    "pd.set_option('display.max_columns', 500)\n",
    "pd.set_option('display.width', 1000)\n",
    "from tqdm.auto import tqdm\n",
    "from sklearn.metrics import mean_squared_error\n",
    "from sklearn.model_selection import StratifiedKFold, GroupKFold, KFold\n",
    "\n",
    "os.system('pip install iterative-stratification==0.1.7')\n",
    "from iterstrat.ml_stratifiers import MultilabelStratifiedKFold\n",
    "\n",
    "import torch\n",
    "import torch.nn as nn\n",
    "from torch.nn import Parameter\n",
    "import torch.nn.functional as F\n",
    "from torch.optim import Adam, SGD, AdamW\n",
    "from torch.utils.data import DataLoader, Dataset\n",
    "\n",
    "os.system('pip uninstall -y transformers')\n",
    "os.system('pip uninstall -y tokenizers')\n",
    "os.system('python -m pip install --no-index --find-links=/home/jupyter/code_baseline/FB3_pip_wheels transformers')\n",
    "os.system('python -m pip install --no-index --find-links=/home/jupyter/code_baseline/FB3_pip_wheels tokenizers')\n",
    "import tokenizers\n",
    "import transformers\n",
    "# print(f\"tokenizers.__version__: {tokenizers.__version__}\")\n",
    "# print(f\"transformers.__version__: {transformers.__version__}\")\n",
    "from transformers import AutoTokenizer, AutoModel, AutoConfig\n",
    "from transformers import get_linear_schedule_with_warmup, get_cosine_schedule_with_warmup\n",
    "%env TOKENIZERS_PARALLELISM=true\n",
    "\n",
    "device = torch.device('cuda' if torch.cuda.is_available() else 'cpu')"
   ]
  },
  {
   "cell_type": "markdown",
   "metadata": {
    "papermill": {
     "duration": 0.007998,
     "end_time": "2022-08-31T07:03:04.079768",
     "exception": false,
     "start_time": "2022-08-31T07:03:04.07177",
     "status": "completed"
    },
    "tags": []
   },
   "source": [
    "# Utils"
   ]
  },
  {
   "cell_type": "code",
   "execution_count": 6,
   "metadata": {
    "papermill": {
     "duration": 0.024132,
     "end_time": "2022-08-31T07:03:04.111108",
     "exception": false,
     "start_time": "2022-08-31T07:03:04.086976",
     "status": "completed"
    },
    "tags": []
   },
   "outputs": [],
   "source": [
    "# ====================================================\n",
    "# Utils\n",
    "# ====================================================\n",
    "def MCRMSE(y_trues, y_preds):\n",
    "    scores = []\n",
    "    idxes = y_trues.shape[1]\n",
    "    for i in range(idxes):\n",
    "        y_true = y_trues[:,i]\n",
    "        y_pred = y_preds[:,i]\n",
    "        score = mean_squared_error(y_true, y_pred, squared=False) # RMSE\n",
    "        scores.append(score)\n",
    "    mcrmse_score = np.mean(scores)\n",
    "    return mcrmse_score, scores\n",
    "\n",
    "\n",
    "def get_score(y_trues, y_preds):\n",
    "    mcrmse_score, scores = MCRMSE(y_trues, y_preds)\n",
    "    return mcrmse_score, scores\n",
    "\n",
    "\n",
    "def get_logger(filename=OUTPUT_DIR+'train'):\n",
    "    from logging import getLogger, INFO, StreamHandler, FileHandler, Formatter\n",
    "    logger = getLogger(__name__)\n",
    "    logger.setLevel(INFO)\n",
    "    handler1 = StreamHandler()\n",
    "    handler1.setFormatter(Formatter(\"%(message)s\"))\n",
    "    handler2 = FileHandler(filename=f\"{filename}.log\")\n",
    "    handler2.setFormatter(Formatter(\"%(message)s\"))\n",
    "    logger.addHandler(handler1)\n",
    "    logger.addHandler(handler2)\n",
    "    return logger\n",
    "\n",
    "LOGGER = get_logger()\n",
    "\n",
    "\n",
    "def seed_everything(seed=42):\n",
    "    random.seed(seed)\n",
    "    os.environ['PYTHONHASHSEED'] = str(seed)\n",
    "    np.random.seed(seed)\n",
    "    torch.manual_seed(seed)\n",
    "    torch.cuda.manual_seed(seed)\n",
    "    torch.backends.cudnn.deterministic = True\n",
    "    \n",
    "seed_everything(seed=42)"
   ]
  },
  {
   "cell_type": "markdown",
   "metadata": {
    "papermill": {
     "duration": 0.012589,
     "end_time": "2022-08-31T07:03:04.13341",
     "exception": false,
     "start_time": "2022-08-31T07:03:04.120821",
     "status": "completed"
    },
    "tags": []
   },
   "source": [
    "# Data Loading"
   ]
  },
  {
   "cell_type": "code",
   "execution_count": 7,
   "metadata": {
    "papermill": {
     "duration": 0.242687,
     "end_time": "2022-08-31T07:03:04.383434",
     "exception": false,
     "start_time": "2022-08-31T07:03:04.140747",
     "status": "completed"
    },
    "tags": []
   },
   "outputs": [],
   "source": [
    "# ====================================================\n",
    "# Data Loading\n",
    "# ====================================================\n",
    "\n",
    "train = pd.read_csv(path+'train.csv')\n",
    "test = pd.read_csv(path+'test.csv')\n",
    "submission = pd.read_csv(path+'sample_submission.csv')\n",
    "\n",
    "Fold = MultilabelStratifiedKFold(n_splits=CFG.n_fold, shuffle=True, random_state=CFG.seed)\n",
    "for n, (train_index, val_index) in enumerate(Fold.split(train, train[CFG.target_cols])):\n",
    "    train.loc[val_index, 'fold'] = int(n)\n",
    "train['fold'] = train['fold'].astype(int)\n",
    "\n",
    "if CFG.DEBUG:\n",
    "    # display(train.groupby('fold').size())\n",
    "    train = train.sample(n=50, random_state=0).reset_index(drop=True)\n",
    "    # display(train.groupby('fold').size())"
   ]
  },
  {
   "cell_type": "markdown",
   "metadata": {
    "papermill": {
     "duration": 0.007561,
     "end_time": "2022-08-31T07:03:04.604916",
     "exception": false,
     "start_time": "2022-08-31T07:03:04.597355",
     "status": "completed"
    },
    "tags": []
   },
   "source": [
    "# tokenizer"
   ]
  },
  {
   "cell_type": "code",
   "execution_count": 8,
   "metadata": {
    "papermill": {
     "duration": 7.351568,
     "end_time": "2022-08-31T07:03:11.964298",
     "exception": false,
     "start_time": "2022-08-31T07:03:04.61273",
     "status": "completed"
    },
    "tags": []
   },
   "outputs": [],
   "source": [
    "# ====================================================\n",
    "# tokenizer models/roberta/roberta-base/config.json\n",
    "# ====================================================\n",
    "tokenizer = AutoTokenizer.from_pretrained(f\"/home/jupyter/models/{CFG.model}/\")\n",
    "CFG.tokenizer = tokenizer"
   ]
  },
  {
   "cell_type": "markdown",
   "metadata": {
    "papermill": {
     "duration": 0.008127,
     "end_time": "2022-08-31T07:03:11.985369",
     "exception": false,
     "start_time": "2022-08-31T07:03:11.977242",
     "status": "completed"
    },
    "tags": []
   },
   "source": [
    "# Dataset"
   ]
  },
  {
   "cell_type": "code",
   "execution_count": 9,
   "metadata": {
    "papermill": {
     "duration": 5.893032,
     "end_time": "2022-08-31T07:03:17.886504",
     "exception": false,
     "start_time": "2022-08-31T07:03:11.993472",
     "status": "completed"
    },
    "tags": []
   },
   "outputs": [],
   "source": [
    "# ====================================================\n",
    "# Define max_len\n",
    "# ====================================================\n",
    "# lengths = []\n",
    "# tk0 = tqdm(train['full_text'].fillna(\"\").values, total=len(train))\n",
    "# for text in tk0:\n",
    "#     length = len(tokenizer(text, add_special_tokens=False)['input_ids'])\n",
    "#     lengths.append(length)\n",
    "# CFG.max_len = max(lengths) + 3 # cls & sep & sep\n",
    "# LOGGER.info(f\"max_len: {CFG.max_len}\")"
   ]
  },
  {
   "cell_type": "code",
   "execution_count": 10,
   "metadata": {
    "papermill": {
     "duration": 0.020447,
     "end_time": "2022-08-31T07:03:17.916566",
     "exception": false,
     "start_time": "2022-08-31T07:03:17.896119",
     "status": "completed"
    },
    "tags": []
   },
   "outputs": [],
   "source": [
    "# ====================================================\n",
    "# Dataset\n",
    "# ====================================================\n",
    "def prepare_input(cfg, text):\n",
    "    inputs = cfg.tokenizer.encode_plus(\n",
    "        text, \n",
    "        return_tensors=None, \n",
    "        add_special_tokens=True, \n",
    "        max_length=CFG.max_len,\n",
    "        pad_to_max_length=True,\n",
    "        truncation=True\n",
    "    )\n",
    "    for k, v in inputs.items():\n",
    "        inputs[k] = torch.tensor(v, dtype=torch.long)\n",
    "    return inputs\n",
    "\n",
    "\n",
    "class TrainDataset(Dataset):\n",
    "    def __init__(self, cfg, df):\n",
    "        self.cfg = cfg\n",
    "        self.texts = df['full_text'].values\n",
    "        self.labels = df[cfg.target_cols].values\n",
    "\n",
    "    def __len__(self):\n",
    "        return len(self.texts)\n",
    "\n",
    "    def __getitem__(self, item):\n",
    "        inputs = prepare_input(self.cfg, self.texts[item])\n",
    "        label = torch.tensor(self.labels[item], dtype=torch.float)\n",
    "        return inputs, label\n",
    "    \n",
    "\n",
    "def collate(inputs):\n",
    "    mask_len = int(inputs[\"attention_mask\"].sum(axis=1).max())\n",
    "    for k, v in inputs.items():\n",
    "        inputs[k] = inputs[k][:,:mask_len]\n",
    "    return inputs"
   ]
  },
  {
   "cell_type": "markdown",
   "metadata": {
    "papermill": {
     "duration": 0.008073,
     "end_time": "2022-08-31T07:03:17.933189",
     "exception": false,
     "start_time": "2022-08-31T07:03:17.925116",
     "status": "completed"
    },
    "tags": []
   },
   "source": [
    "# Model"
   ]
  },
  {
   "cell_type": "code",
   "execution_count": 11,
   "metadata": {
    "papermill": {
     "duration": 0.033105,
     "end_time": "2022-08-31T07:03:17.97447",
     "exception": false,
     "start_time": "2022-08-31T07:03:17.941365",
     "status": "completed"
    },
    "tags": []
   },
   "outputs": [],
   "source": [
    "# ====================================================\n",
    "# Model\n",
    "# ====================================================\n",
    "#MeanPoolingはoutput_hidden_statesに関係している   https://qiita.com/niship2/items/f84751aed893da869cec\n",
    "class MeanPooling(nn.Module):\n",
    "    def __init__(self):\n",
    "        super(MeanPooling, self).__init__()\n",
    "        \n",
    "    def forward(self, last_hidden_state, attention_mask):\n",
    "        input_mask_expanded = attention_mask.unsqueeze(-1).expand(last_hidden_state.size()).float()\n",
    "        sum_embeddings = torch.sum(last_hidden_state * input_mask_expanded, 1)\n",
    "        sum_mask = input_mask_expanded.sum(1)\n",
    "        sum_mask = torch.clamp(sum_mask, min=1e-9)\n",
    "        mean_embeddings = sum_embeddings / sum_mask\n",
    "        return mean_embeddings\n",
    "    \n",
    "\n",
    "class CustomModel(nn.Module):\n",
    "    def __init__(self, cfg, config_path=None, pretrained=False):\n",
    "        super().__init__()\n",
    "        self.cfg = cfg\n",
    "        if config_path is None:\n",
    "            self.config = AutoConfig.from_pretrained(cfg.model_config_path, output_hidden_states=True)\n",
    "            self.config.hidden_dropout = 0.\n",
    "            self.config.hidden_dropout_prob = 0.\n",
    "            self.config.attention_dropout = 0.\n",
    "            self.config.attention_probs_dropout_prob = 0.\n",
    "            LOGGER.info(self.config)\n",
    "        else:\n",
    "            self.config = torch.load(config_path)\n",
    "        if pretrained:\n",
    "            self.model = AutoModel.from_pretrained(cfg.model_bin_path, config=self.config)\n",
    "        else:\n",
    "            self.model = AutoModel(self.config)\n",
    "        if self.cfg.gradient_checkpointing:\n",
    "            self.model.gradient_checkpointing_enable()\n",
    "        self.pool = MeanPooling()\n",
    "        self.fc = nn.Linear(self.config.hidden_size, 6)\n",
    "        self._init_weights(self.fc)\n",
    "        \n",
    "    def _init_weights(self, module):\n",
    "        if isinstance(module, nn.Linear):\n",
    "            module.weight.data.normal_(mean=0.0, std=self.config.initializer_range)\n",
    "            if module.bias is not None:\n",
    "                module.bias.data.zero_()\n",
    "        elif isinstance(module, nn.Embedding):\n",
    "            module.weight.data.normal_(mean=0.0, std=self.config.initializer_range)\n",
    "            if module.padding_idx is not None:\n",
    "                module.weight.data[module.padding_idx].zero_()\n",
    "        elif isinstance(module, nn.LayerNorm):\n",
    "            module.bias.data.zero_()\n",
    "            module.weight.data.fill_(1.0)\n",
    "        \n",
    "    def feature(self, inputs):\n",
    "        outputs = self.model(**inputs)\n",
    "        last_hidden_states = outputs[0]\n",
    "        feature = self.pool(last_hidden_states, inputs['attention_mask'])\n",
    "        return feature\n",
    "\n",
    "    def forward(self, inputs):\n",
    "        feature = self.feature(inputs)\n",
    "        output = self.fc(feature)\n",
    "        return output"
   ]
  },
  {
   "cell_type": "code",
   "execution_count": 12,
   "metadata": {},
   "outputs": [],
   "source": [
    "# model_config_path = f\"/home/jupyter/models/deberta/{model}/model\"\n",
    "# model_bin_path = f\"/home/jupyter/models/deberta/{CFG.model}/model\""
   ]
  },
  {
   "cell_type": "code",
   "execution_count": 13,
   "metadata": {},
   "outputs": [],
   "source": [
    "# conf = AutoConfig.from_pretrained(f\"/home/jupyter/models/deberta/{CFG.model}/model\", output_hidden_states=True)\n",
    "# AutoModel.from_pretrained(f\"/home/jupyter/models/deberta/{CFG.model}/model\", config=conf)"
   ]
  },
  {
   "cell_type": "markdown",
   "metadata": {
    "papermill": {
     "duration": 0.008106,
     "end_time": "2022-08-31T07:03:17.993861",
     "exception": false,
     "start_time": "2022-08-31T07:03:17.985755",
     "status": "completed"
    },
    "tags": []
   },
   "source": [
    "# Loss"
   ]
  },
  {
   "cell_type": "code",
   "execution_count": 14,
   "metadata": {
    "papermill": {
     "duration": 0.021697,
     "end_time": "2022-08-31T07:03:18.02376",
     "exception": false,
     "start_time": "2022-08-31T07:03:18.002063",
     "status": "completed"
    },
    "tags": []
   },
   "outputs": [],
   "source": [
    "# ====================================================\n",
    "# Loss\n",
    "# ====================================================\n",
    "class RMSELoss(nn.Module):\n",
    "    def __init__(self, reduction='mean', eps=1e-9):\n",
    "        super().__init__()\n",
    "        self.mse = nn.MSELoss(reduction='none')\n",
    "        self.reduction = reduction\n",
    "        self.eps = eps\n",
    "\n",
    "    def forward(self, y_pred, y_true):\n",
    "        loss = torch.sqrt(self.mse(y_pred, y_true) + self.eps)\n",
    "        if self.reduction == 'none':\n",
    "            loss = loss\n",
    "        elif self.reduction == 'sum':\n",
    "            loss = loss.sum()\n",
    "        elif self.reduction == 'mean':\n",
    "            loss = loss.mean()\n",
    "        return loss"
   ]
  },
  {
   "cell_type": "markdown",
   "metadata": {
    "papermill": {
     "duration": 0.008452,
     "end_time": "2022-08-31T07:03:18.041557",
     "exception": false,
     "start_time": "2022-08-31T07:03:18.033105",
     "status": "completed"
    },
    "tags": []
   },
   "source": [
    "# Helpler functions"
   ]
  },
  {
   "cell_type": "code",
   "execution_count": 15,
   "metadata": {
    "papermill": {
     "duration": 0.030759,
     "end_time": "2022-08-31T07:03:18.08056",
     "exception": false,
     "start_time": "2022-08-31T07:03:18.049801",
     "status": "completed"
    },
    "tags": []
   },
   "outputs": [],
   "source": [
    "# ====================================================\n",
    "# Helper functions\n",
    "# ====================================================\n",
    "class AverageMeter(object):\n",
    "    \"\"\"Computes and stores the average and current value\"\"\"\n",
    "    def __init__(self):\n",
    "        self.reset()\n",
    "\n",
    "    def reset(self):\n",
    "        self.val = 0\n",
    "        self.avg = 0\n",
    "        self.sum = 0\n",
    "        self.count = 0\n",
    "\n",
    "    def update(self, val, n=1):\n",
    "        self.val = val\n",
    "        self.sum += val * n\n",
    "        self.count += n\n",
    "        self.avg = self.sum / self.count\n",
    "\n",
    "\n",
    "def asMinutes(s):\n",
    "    m = math.floor(s / 60)\n",
    "    s -= m * 60\n",
    "    return '%dm %ds' % (m, s)\n",
    "\n",
    "\n",
    "def timeSince(since, percent):\n",
    "    now = time.time()\n",
    "    s = now - since\n",
    "    es = s / (percent)\n",
    "    rs = es - s\n",
    "    return '%s (remain %s)' % (asMinutes(s), asMinutes(rs))\n",
    "\n",
    "\n",
    "def train_fn(fold, train_loader, model, criterion, optimizer, epoch, scheduler, device):\n",
    "    model.train()\n",
    "    scaler = torch.cuda.amp.GradScaler(enabled=CFG.apex)\n",
    "    losses = AverageMeter()\n",
    "    start = end = time.time()\n",
    "    global_step = 0\n",
    "    for step, (inputs, labels) in enumerate(train_loader):\n",
    "        inputs = collate(inputs)\n",
    "        for k, v in inputs.items():\n",
    "            inputs[k] = v.to(device)\n",
    "        labels = labels.to(device)\n",
    "        batch_size = labels.size(0)\n",
    "        with torch.cuda.amp.autocast(enabled=CFG.apex):\n",
    "            y_preds = model(inputs)\n",
    "            loss = criterion(y_preds, labels)\n",
    "        if CFG.gradient_accumulation_steps > 1:\n",
    "            loss = loss / CFG.gradient_accumulation_steps\n",
    "        losses.update(loss.item(), batch_size)\n",
    "        scaler.scale(loss).backward()\n",
    "        grad_norm = torch.nn.utils.clip_grad_norm_(model.parameters(), CFG.max_grad_norm)\n",
    "        if (step + 1) % CFG.gradient_accumulation_steps == 0:\n",
    "            scaler.step(optimizer)\n",
    "            scaler.update()\n",
    "            optimizer.zero_grad()\n",
    "            global_step += 1\n",
    "            if CFG.batch_scheduler:\n",
    "                scheduler.step()\n",
    "        end = time.time()\n",
    "        if step % CFG.print_freq == 0 or step == (len(train_loader)-1):\n",
    "            print('Epoch: [{0}][{1}/{2}] '\n",
    "                  'Elapsed {remain:s} '\n",
    "                  'Loss: {loss.val:.4f}({loss.avg:.4f}) '\n",
    "                  'Grad: {grad_norm:.4f}  '\n",
    "                  'LR: {lr:.8f}  '\n",
    "                  .format(epoch+1, step, len(train_loader), \n",
    "                          remain=timeSince(start, float(step+1)/len(train_loader)),\n",
    "                          loss=losses,\n",
    "                          grad_norm=grad_norm,\n",
    "                          lr=scheduler.get_lr()[0]))\n",
    "        if CFG.wandb:\n",
    "            wandb.log({f\"[fold{fold}] loss\": losses.val,\n",
    "                       f\"[fold{fold}] lr\": scheduler.get_lr()[0]})\n",
    "    return losses.avg\n",
    "\n",
    "\n",
    "def valid_fn(valid_loader, model, criterion, device):\n",
    "    losses = AverageMeter()\n",
    "    model.eval()\n",
    "    preds = []\n",
    "    start = end = time.time()\n",
    "    for step, (inputs, labels) in enumerate(valid_loader):\n",
    "        inputs = collate(inputs)\n",
    "        for k, v in inputs.items():\n",
    "            inputs[k] = v.to(device)\n",
    "        labels = labels.to(device)\n",
    "        batch_size = labels.size(0)\n",
    "        with torch.no_grad():\n",
    "            y_preds = model(inputs)\n",
    "            loss = criterion(y_preds, labels)\n",
    "        if CFG.gradient_accumulation_steps > 1:\n",
    "            loss = loss / CFG.gradient_accumulation_steps\n",
    "        losses.update(loss.item(), batch_size)\n",
    "        preds.append(y_preds.to('cpu').numpy())\n",
    "        end = time.time()\n",
    "        if step % CFG.print_freq == 0 or step == (len(valid_loader)-1):\n",
    "            print('EVAL: [{0}/{1}] '\n",
    "                  'Elapsed {remain:s} '\n",
    "                  'Loss: {loss.val:.4f}({loss.avg:.4f}) '\n",
    "                  .format(step, len(valid_loader),\n",
    "                          loss=losses,\n",
    "                          remain=timeSince(start, float(step+1)/len(valid_loader))))\n",
    "    predictions = np.concatenate(preds)\n",
    "    return losses.avg, predictions"
   ]
  },
  {
   "cell_type": "markdown",
   "metadata": {
    "papermill": {
     "duration": 0.0081,
     "end_time": "2022-08-31T07:03:18.100232",
     "exception": false,
     "start_time": "2022-08-31T07:03:18.092132",
     "status": "completed"
    },
    "tags": []
   },
   "source": [
    "# train loop"
   ]
  },
  {
   "cell_type": "code",
   "execution_count": 16,
   "metadata": {
    "papermill": {
     "duration": 0.033332,
     "end_time": "2022-08-31T07:03:18.141812",
     "exception": false,
     "start_time": "2022-08-31T07:03:18.10848",
     "status": "completed"
    },
    "tags": []
   },
   "outputs": [],
   "source": [
    "# ====================================================\n",
    "# train loop\n",
    "# ====================================================\n",
    "def train_loop(folds, fold):\n",
    "    \n",
    "    LOGGER.info(f\"========== fold: {fold} training ==========\")\n",
    "\n",
    "    # ====================================================\n",
    "    # loader\n",
    "    # ====================================================\n",
    "    train_folds = folds[folds['fold'] != fold].reset_index(drop=True)\n",
    "    valid_folds = folds[folds['fold'] == fold].reset_index(drop=True)\n",
    "    valid_labels = valid_folds[CFG.target_cols].values\n",
    "    \n",
    "    train_dataset = TrainDataset(CFG, train_folds)\n",
    "    valid_dataset = TrainDataset(CFG, valid_folds)\n",
    "\n",
    "    train_loader = DataLoader(train_dataset,\n",
    "                              batch_size=CFG.batch_size,\n",
    "                              shuffle=True,\n",
    "                              num_workers=CFG.num_workers, pin_memory=True, drop_last=True)\n",
    "    valid_loader = DataLoader(valid_dataset,\n",
    "                              batch_size=CFG.batch_size * 2,\n",
    "                              shuffle=False,\n",
    "                              num_workers=CFG.num_workers, pin_memory=True, drop_last=False)\n",
    "\n",
    "    # ====================================================\n",
    "    # model & optimizer\n",
    "    # ====================================================\n",
    "    model = CustomModel(CFG, config_path=None, pretrained=True)\n",
    "    torch.save(model.config, OUTPUT_DIR+'config.pth')\n",
    "    model.to(device)\n",
    "    \n",
    "    def get_optimizer_params(model, encoder_lr, decoder_lr, weight_decay=0.0):\n",
    "        param_optimizer = list(model.named_parameters())\n",
    "        no_decay = [\"bias\", \"LayerNorm.bias\", \"LayerNorm.weight\"]\n",
    "        optimizer_parameters = [\n",
    "            {'params': [p for n, p in model.model.named_parameters() if not any(nd in n for nd in no_decay)],\n",
    "             'lr': encoder_lr, 'weight_decay': weight_decay},\n",
    "            {'params': [p for n, p in model.model.named_parameters() if any(nd in n for nd in no_decay)],\n",
    "             'lr': encoder_lr, 'weight_decay': 0.0},\n",
    "            {'params': [p for n, p in model.named_parameters() if \"model\" not in n],\n",
    "             'lr': decoder_lr, 'weight_decay': 0.0}\n",
    "        ]\n",
    "        return optimizer_parameters\n",
    "\n",
    "    optimizer_parameters = get_optimizer_params(model,\n",
    "                                                encoder_lr=CFG.encoder_lr, \n",
    "                                                decoder_lr=CFG.decoder_lr,\n",
    "                                                weight_decay=CFG.weight_decay)\n",
    "    optimizer = AdamW(optimizer_parameters, lr=CFG.encoder_lr, eps=CFG.eps, betas=CFG.betas)\n",
    "    \n",
    "    # ====================================================\n",
    "    # scheduler\n",
    "    # ====================================================\n",
    "    def get_scheduler(cfg, optimizer, num_train_steps):\n",
    "        if cfg.scheduler == 'linear':\n",
    "            scheduler = get_linear_schedule_with_warmup(\n",
    "                optimizer, num_warmup_steps=cfg.num_warmup_steps, num_training_steps=num_train_steps\n",
    "            )\n",
    "        elif cfg.scheduler == 'cosine':\n",
    "            scheduler = get_cosine_schedule_with_warmup(\n",
    "                optimizer, num_warmup_steps=cfg.num_warmup_steps, num_training_steps=num_train_steps, num_cycles=cfg.num_cycles\n",
    "            )\n",
    "        return scheduler\n",
    "    \n",
    "    num_train_steps = int(len(train_folds) / CFG.batch_size * CFG.epochs)\n",
    "    scheduler = get_scheduler(CFG, optimizer, num_train_steps)\n",
    "\n",
    "    # ====================================================\n",
    "    # loop\n",
    "    # ====================================================\n",
    "    criterion = nn.SmoothL1Loss(reduction='mean') # RMSELoss(reduction=\"mean\")\n",
    "    \n",
    "    best_score = np.inf\n",
    "\n",
    "    for epoch in range(CFG.epochs):\n",
    "\n",
    "        start_time = time.time()\n",
    "\n",
    "        # train\n",
    "        avg_loss = train_fn(fold, train_loader, model, criterion, optimizer, epoch, scheduler, device)\n",
    "\n",
    "        # eval\n",
    "        avg_val_loss, predictions = valid_fn(valid_loader, model, criterion, device)\n",
    "        \n",
    "        # scoring\n",
    "        score, scores = get_score(valid_labels, predictions)\n",
    "\n",
    "        elapsed = time.time() - start_time\n",
    "\n",
    "        LOGGER.info(f'Epoch {epoch+1} - avg_train_loss: {avg_loss:.4f}  avg_val_loss: {avg_val_loss:.4f}  time: {elapsed:.0f}s')\n",
    "        LOGGER.info(f'Epoch {epoch+1} - Score: {score:.4f}  Scores: {scores}')\n",
    "        if CFG.wandb:\n",
    "            wandb.log({f\"[fold{fold}] epoch\": epoch+1, \n",
    "                       f\"[fold{fold}] avg_train_loss\": avg_loss, \n",
    "                       f\"[fold{fold}] avg_val_loss\": avg_val_loss,\n",
    "                       f\"[fold{fold}] score\": score})\n",
    "        \n",
    "        if best_score > score:\n",
    "            best_score = score\n",
    "            LOGGER.info(f'Epoch {epoch+1} - Save Best Score: {best_score:.4f} Model')\n",
    "            torch.save({'model': model.state_dict(),\n",
    "                        'predictions': predictions},\n",
    "                        OUTPUT_DIR+f\"{CFG.model.replace('/', '-')}_fold{fold}_best.pth\")\n",
    "\n",
    "    predictions = torch.load(OUTPUT_DIR+f\"{CFG.model.replace('/', '-')}_fold{fold}_best.pth\", \n",
    "                             map_location=torch.device('cpu'))['predictions']\n",
    "    valid_folds[[f\"pred_{c}\" for c in CFG.target_cols]] = predictions\n",
    "\n",
    "    torch.cuda.empty_cache()\n",
    "    gc.collect()\n",
    "    \n",
    "    return valid_folds"
   ]
  },
  {
   "cell_type": "code",
   "execution_count": 17,
   "metadata": {
    "papermill": {
     "duration": 11935.46951,
     "end_time": "2022-08-31T10:22:13.621316",
     "exception": false,
     "start_time": "2022-08-31T07:03:18.151806",
     "status": "completed"
    },
    "tags": []
   },
   "outputs": [
    {
     "name": "stderr",
     "output_type": "stream",
     "text": [
      "========== fold: 0 training ==========\n",
      "BigBirdConfig {\n",
      "  \"_name_or_path\": \"/home/jupyter/models/bigbird/roberta-base/\",\n",
      "  \"architectures\": [\n",
      "    \"BigBirdForPreTraining\"\n",
      "  ],\n",
      "  \"attention_dropout\": 0.0,\n",
      "  \"attention_probs_dropout_prob\": 0.0,\n",
      "  \"attention_type\": \"block_sparse\",\n",
      "  \"block_size\": 64,\n",
      "  \"bos_token_id\": 1,\n",
      "  \"classifier_dropout\": null,\n",
      "  \"eos_token_id\": 2,\n",
      "  \"gradient_checkpointing\": false,\n",
      "  \"hidden_act\": \"gelu_fast\",\n",
      "  \"hidden_dropout\": 0.0,\n",
      "  \"hidden_dropout_prob\": 0.0,\n",
      "  \"hidden_size\": 768,\n",
      "  \"initializer_range\": 0.02,\n",
      "  \"intermediate_size\": 3072,\n",
      "  \"layer_norm_eps\": 1e-12,\n",
      "  \"max_position_embeddings\": 4096,\n",
      "  \"model_type\": \"big_bird\",\n",
      "  \"num_attention_heads\": 12,\n",
      "  \"num_hidden_layers\": 12,\n",
      "  \"num_random_blocks\": 3,\n",
      "  \"output_hidden_states\": true,\n",
      "  \"pad_token_id\": 0,\n",
      "  \"position_embedding_type\": \"absolute\",\n",
      "  \"rescale_embeddings\": false,\n",
      "  \"sep_token_id\": 66,\n",
      "  \"transformers_version\": \"4.21.2\",\n",
      "  \"type_vocab_size\": 2,\n",
      "  \"use_bias\": true,\n",
      "  \"use_cache\": true,\n",
      "  \"vocab_size\": 50358\n",
      "}\n",
      "\n",
      "Some weights of the model checkpoint at /home/jupyter/models/bigbird/roberta-base/ were not used when initializing BigBirdModel: ['cls.predictions.transform.dense.weight', 'cls.predictions.transform.LayerNorm.weight', 'cls.seq_relationship.bias', 'cls.predictions.decoder.bias', 'cls.predictions.bias', 'cls.predictions.transform.dense.bias', 'cls.predictions.decoder.weight', 'cls.seq_relationship.weight', 'cls.predictions.transform.LayerNorm.bias']\n",
      "- This IS expected if you are initializing BigBirdModel from the checkpoint of a model trained on another task or with another architecture (e.g. initializing a BertForSequenceClassification model from a BertForPreTraining model).\n",
      "- This IS NOT expected if you are initializing BigBirdModel from the checkpoint of a model that you expect to be exactly identical (initializing a BertForSequenceClassification model from a BertForSequenceClassification model).\n",
      "Attention type 'block_sparse' is not possible if sequence_length: 512 <= num global tokens: 2 * config.block_size + min. num sliding tokens: 3 * config.block_size + config.num_random_blocks * config.block_size + additional buffer: config.num_random_blocks * config.block_size = 704 with config.block_size = 64, config.num_random_blocks = 3. Changing attention type to 'original_full'...\n"
     ]
    },
    {
     "name": "stdout",
     "output_type": "stream",
     "text": [
      "Epoch: [1][0/366] Elapsed 0m 1s (remain 9m 12s) Loss: 2.2433(2.2433) Grad: 259173.7031  LR: 0.00002000  \n",
      "Epoch: [1][20/366] Elapsed 0m 11s (remain 3m 9s) Loss: 0.4234(1.5679) Grad: 193319.4219  LR: 0.00002000  \n",
      "Epoch: [1][40/366] Elapsed 0m 22s (remain 2m 55s) Loss: 0.1933(0.9323) Grad: 77777.7344  LR: 0.00001998  \n",
      "Epoch: [1][60/366] Elapsed 0m 32s (remain 2m 44s) Loss: 0.0816(0.6922) Grad: 156764.7500  LR: 0.00001996  \n",
      "Epoch: [1][80/366] Elapsed 0m 43s (remain 2m 33s) Loss: 0.1773(0.5651) Grad: 141248.6562  LR: 0.00001993  \n",
      "Epoch: [1][100/366] Elapsed 0m 54s (remain 2m 21s) Loss: 0.1629(0.4837) Grad: 115057.3281  LR: 0.00001990  \n",
      "Epoch: [1][120/366] Elapsed 1m 4s (remain 2m 9s) Loss: 0.2757(0.4293) Grad: 92932.2266  LR: 0.00001985  \n",
      "Epoch: [1][140/366] Elapsed 1m 14s (remain 1m 58s) Loss: 0.1094(0.3876) Grad: 148004.4688  LR: 0.00001980  \n",
      "Epoch: [1][160/366] Elapsed 1m 24s (remain 1m 47s) Loss: 0.1865(0.3564) Grad: 208711.7812  LR: 0.00001974  \n",
      "Epoch: [1][180/366] Elapsed 1m 34s (remain 1m 36s) Loss: 0.1159(0.3330) Grad: 39930.9453  LR: 0.00001967  \n",
      "Epoch: [1][200/366] Elapsed 1m 45s (remain 1m 26s) Loss: 0.0900(0.3136) Grad: 53060.4180  LR: 0.00001959  \n",
      "Epoch: [1][220/366] Elapsed 1m 55s (remain 1m 15s) Loss: 0.1266(0.2976) Grad: 143253.1406  LR: 0.00001951  \n",
      "Epoch: [1][240/366] Elapsed 2m 6s (remain 1m 5s) Loss: 0.0759(0.2832) Grad: 132945.3750  LR: 0.00001941  \n",
      "Epoch: [1][260/366] Elapsed 2m 16s (remain 0m 55s) Loss: 0.1028(0.2722) Grad: 126311.0078  LR: 0.00001931  \n",
      "Epoch: [1][280/366] Elapsed 2m 27s (remain 0m 44s) Loss: 0.0669(0.2612) Grad: 45224.8086  LR: 0.00001920  \n",
      "Epoch: [1][300/366] Elapsed 2m 37s (remain 0m 33s) Loss: 0.1023(0.2540) Grad: 48038.1094  LR: 0.00001909  \n",
      "Epoch: [1][320/366] Elapsed 2m 47s (remain 0m 23s) Loss: 0.0770(0.2471) Grad: 45610.9297  LR: 0.00001897  \n",
      "Epoch: [1][340/366] Elapsed 2m 57s (remain 0m 13s) Loss: 0.2180(0.2401) Grad: 73364.4922  LR: 0.00001884  \n",
      "Epoch: [1][360/366] Elapsed 3m 8s (remain 0m 2s) Loss: 0.1407(0.2342) Grad: 40282.9453  LR: 0.00001870  \n",
      "Epoch: [1][365/366] Elapsed 3m 10s (remain 0m 0s) Loss: 0.1205(0.2326) Grad: 103136.2812  LR: 0.00001866  \n",
      "EVAL: [0/62] Elapsed 0m 0s (remain 0m 51s) Loss: 0.1165(0.1165) \n",
      "EVAL: [20/62] Elapsed 0m 14s (remain 0m 28s) Loss: 0.1180(0.1325) \n",
      "EVAL: [40/62] Elapsed 0m 28s (remain 0m 14s) Loss: 0.1233(0.1350) \n"
     ]
    },
    {
     "name": "stderr",
     "output_type": "stream",
     "text": [
      "Epoch 1 - avg_train_loss: 0.2326  avg_val_loss: 0.1386  time: 232s\n",
      "Epoch 1 - Score: 0.5279  Scores: [0.5518601446764141, 0.48330078326358294, 0.45957623299868766, 0.5221925246565304, 0.5718867249290657, 0.5784123771482976]\n",
      "Epoch 1 - Save Best Score: 0.5279 Model\n"
     ]
    },
    {
     "name": "stdout",
     "output_type": "stream",
     "text": [
      "EVAL: [60/62] Elapsed 0m 41s (remain 0m 0s) Loss: 0.1376(0.1386) \n",
      "EVAL: [61/62] Elapsed 0m 41s (remain 0m 0s) Loss: 0.1468(0.1386) \n",
      "Epoch: [2][0/366] Elapsed 0m 0s (remain 4m 6s) Loss: 0.1227(0.1227) Grad: 259975.1562  LR: 0.00001866  \n",
      "Epoch: [2][20/366] Elapsed 0m 10s (remain 2m 58s) Loss: 0.1083(0.1190) Grad: 143475.5469  LR: 0.00001851  \n",
      "Epoch: [2][40/366] Elapsed 0m 21s (remain 2m 48s) Loss: 0.0714(0.1134) Grad: 119417.0859  LR: 0.00001836  \n",
      "Epoch: [2][60/366] Elapsed 0m 31s (remain 2m 38s) Loss: 0.1033(0.1104) Grad: 346658.7812  LR: 0.00001820  \n",
      "Epoch: [2][80/366] Elapsed 0m 41s (remain 2m 27s) Loss: 0.0760(0.1099) Grad: 153539.2812  LR: 0.00001803  \n",
      "Epoch: [2][100/366] Elapsed 0m 52s (remain 2m 17s) Loss: 0.1129(0.1109) Grad: 278624.0312  LR: 0.00001786  \n",
      "Epoch: [2][120/366] Elapsed 1m 2s (remain 2m 6s) Loss: 0.0741(0.1114) Grad: 117183.1641  LR: 0.00001768  \n",
      "Epoch: [2][140/366] Elapsed 1m 12s (remain 1m 55s) Loss: 0.1239(0.1100) Grad: 118869.4141  LR: 0.00001749  \n",
      "Epoch: [2][160/366] Elapsed 1m 22s (remain 1m 45s) Loss: 0.0960(0.1107) Grad: 68178.7891  LR: 0.00001730  \n",
      "Epoch: [2][180/366] Elapsed 1m 33s (remain 1m 35s) Loss: 0.1418(0.1103) Grad: 355078.9062  LR: 0.00001710  \n",
      "Epoch: [2][200/366] Elapsed 1m 43s (remain 1m 24s) Loss: 0.0972(0.1131) Grad: 123386.8047  LR: 0.00001689  \n",
      "Epoch: [2][220/366] Elapsed 1m 53s (remain 1m 14s) Loss: 0.0933(0.1125) Grad: 135978.9531  LR: 0.00001668  \n",
      "Epoch: [2][240/366] Elapsed 2m 3s (remain 1m 3s) Loss: 0.0833(0.1135) Grad: 91390.9219  LR: 0.00001647  \n",
      "Epoch: [2][260/366] Elapsed 2m 13s (remain 0m 53s) Loss: 0.0938(0.1137) Grad: 48483.4805  LR: 0.00001625  \n",
      "Epoch: [2][280/366] Elapsed 2m 23s (remain 0m 43s) Loss: 0.1016(0.1138) Grad: 45043.1562  LR: 0.00001602  \n",
      "Epoch: [2][300/366] Elapsed 2m 33s (remain 0m 33s) Loss: 0.0838(0.1136) Grad: 63019.8359  LR: 0.00001579  \n",
      "Epoch: [2][320/366] Elapsed 2m 43s (remain 0m 22s) Loss: 0.1474(0.1138) Grad: 146996.8594  LR: 0.00001556  \n",
      "Epoch: [2][340/366] Elapsed 2m 53s (remain 0m 12s) Loss: 0.1232(0.1129) Grad: 160044.7500  LR: 0.00001532  \n",
      "Epoch: [2][360/366] Elapsed 3m 3s (remain 0m 2s) Loss: 0.0959(0.1133) Grad: 38342.4023  LR: 0.00001507  \n",
      "Epoch: [2][365/366] Elapsed 3m 5s (remain 0m 0s) Loss: 0.1131(0.1132) Grad: 97768.7266  LR: 0.00001501  \n",
      "EVAL: [0/62] Elapsed 0m 0s (remain 0m 50s) Loss: 0.1047(0.1047) \n",
      "EVAL: [20/62] Elapsed 0m 14s (remain 0m 28s) Loss: 0.0918(0.1121) \n",
      "EVAL: [40/62] Elapsed 0m 28s (remain 0m 14s) Loss: 0.0932(0.1136) \n"
     ]
    },
    {
     "name": "stderr",
     "output_type": "stream",
     "text": [
      "Epoch 2 - avg_train_loss: 0.1132  avg_val_loss: 0.1152  time: 229s\n",
      "Epoch 2 - Score: 0.4808  Scores: [0.5070817558442179, 0.45938550504648823, 0.45318617191398664, 0.4895527795958178, 0.5042175429619661, 0.47118071092368347]\n",
      "Epoch 2 - Save Best Score: 0.4808 Model\n"
     ]
    },
    {
     "name": "stdout",
     "output_type": "stream",
     "text": [
      "EVAL: [60/62] Elapsed 0m 42s (remain 0m 0s) Loss: 0.1099(0.1153) \n",
      "EVAL: [61/62] Elapsed 0m 42s (remain 0m 0s) Loss: 0.0765(0.1152) \n",
      "Epoch: [3][0/366] Elapsed 0m 0s (remain 4m 27s) Loss: 0.1033(0.1033) Grad: 54391.4258  LR: 0.00001500  \n",
      "Epoch: [3][20/366] Elapsed 0m 10s (remain 2m 58s) Loss: 0.1151(0.0934) Grad: 213137.8125  LR: 0.00001475  \n",
      "Epoch: [3][40/366] Elapsed 0m 21s (remain 2m 47s) Loss: 0.1403(0.1037) Grad: 103083.2969  LR: 0.00001450  \n",
      "Epoch: [3][60/366] Elapsed 0m 31s (remain 2m 38s) Loss: 0.0799(0.1015) Grad: 142085.0156  LR: 0.00001424  \n",
      "Epoch: [3][80/366] Elapsed 0m 42s (remain 2m 28s) Loss: 0.0962(0.0984) Grad: 108340.3438  LR: 0.00001398  \n",
      "Epoch: [3][100/366] Elapsed 0m 52s (remain 2m 17s) Loss: 0.0796(0.0969) Grad: 107549.1797  LR: 0.00001372  \n",
      "Epoch: [3][120/366] Elapsed 1m 2s (remain 2m 7s) Loss: 0.0830(0.0959) Grad: 119320.5078  LR: 0.00001345  \n",
      "Epoch: [3][140/366] Elapsed 1m 13s (remain 1m 56s) Loss: 0.1122(0.0952) Grad: 135523.8281  LR: 0.00001318  \n",
      "Epoch: [3][160/366] Elapsed 1m 23s (remain 1m 46s) Loss: 0.0637(0.0946) Grad: 84404.5234  LR: 0.00001291  \n",
      "Epoch: [3][180/366] Elapsed 1m 33s (remain 1m 36s) Loss: 0.0765(0.0941) Grad: 116396.0781  LR: 0.00001263  \n",
      "Epoch: [3][200/366] Elapsed 1m 44s (remain 1m 25s) Loss: 0.1002(0.0938) Grad: 138878.5000  LR: 0.00001236  \n",
      "Epoch: [3][220/366] Elapsed 1m 54s (remain 1m 15s) Loss: 0.1046(0.0930) Grad: 51590.3984  LR: 0.00001208  \n",
      "Epoch: [3][240/366] Elapsed 2m 4s (remain 1m 4s) Loss: 0.0865(0.0945) Grad: 66706.5312  LR: 0.00001180  \n",
      "Epoch: [3][260/366] Elapsed 2m 14s (remain 0m 54s) Loss: 0.0751(0.0954) Grad: 15177.5293  LR: 0.00001152  \n",
      "Epoch: [3][280/366] Elapsed 2m 25s (remain 0m 43s) Loss: 0.1148(0.0960) Grad: 78038.4766  LR: 0.00001123  \n",
      "Epoch: [3][300/366] Elapsed 2m 35s (remain 0m 33s) Loss: 0.1224(0.0962) Grad: 33152.2930  LR: 0.00001095  \n",
      "Epoch: [3][320/366] Elapsed 2m 45s (remain 0m 23s) Loss: 0.1204(0.0965) Grad: 38779.2109  LR: 0.00001066  \n",
      "Epoch: [3][340/366] Elapsed 2m 56s (remain 0m 12s) Loss: 0.1044(0.0980) Grad: 40213.6016  LR: 0.00001038  \n",
      "Epoch: [3][360/366] Elapsed 3m 6s (remain 0m 2s) Loss: 0.1216(0.0980) Grad: 41972.0352  LR: 0.00001009  \n",
      "Epoch: [3][365/366] Elapsed 3m 9s (remain 0m 0s) Loss: 0.1146(0.0981) Grad: 55055.3086  LR: 0.00001002  \n",
      "EVAL: [0/62] Elapsed 0m 0s (remain 0m 49s) Loss: 0.0941(0.0941) \n",
      "EVAL: [20/62] Elapsed 0m 14s (remain 0m 28s) Loss: 0.0934(0.1131) \n",
      "EVAL: [40/62] Elapsed 0m 27s (remain 0m 14s) Loss: 0.0957(0.1128) \n"
     ]
    },
    {
     "name": "stderr",
     "output_type": "stream",
     "text": [
      "Epoch 3 - avg_train_loss: 0.0981  avg_val_loss: 0.1149  time: 231s\n",
      "Epoch 3 - Score: 0.4805  Scores: [0.5037933698930571, 0.46522897170436867, 0.439543081172953, 0.49562309780778413, 0.4953041966186805, 0.48377181009935544]\n",
      "Epoch 3 - Save Best Score: 0.4805 Model\n"
     ]
    },
    {
     "name": "stdout",
     "output_type": "stream",
     "text": [
      "EVAL: [60/62] Elapsed 0m 41s (remain 0m 0s) Loss: 0.1025(0.1150) \n",
      "EVAL: [61/62] Elapsed 0m 41s (remain 0m 0s) Loss: 0.0943(0.1149) \n",
      "Epoch: [4][0/366] Elapsed 0m 0s (remain 4m 29s) Loss: 0.0884(0.0884) Grad: 121576.6641  LR: 0.00001001  \n",
      "Epoch: [4][20/366] Elapsed 0m 10s (remain 2m 59s) Loss: 0.0953(0.0883) Grad: 180755.0312  LR: 0.00000972  \n",
      "Epoch: [4][40/366] Elapsed 0m 21s (remain 2m 48s) Loss: 0.0828(0.0883) Grad: 99493.6016  LR: 0.00000944  \n",
      "Epoch: [4][60/366] Elapsed 0m 31s (remain 2m 38s) Loss: 0.0703(0.0873) Grad: 77580.2656  LR: 0.00000915  \n",
      "Epoch: [4][80/366] Elapsed 0m 42s (remain 2m 28s) Loss: 0.0876(0.0862) Grad: 157739.1094  LR: 0.00000887  \n",
      "Epoch: [4][100/366] Elapsed 0m 52s (remain 2m 18s) Loss: 0.0740(0.0846) Grad: 84184.9609  LR: 0.00000858  \n",
      "Epoch: [4][120/366] Elapsed 1m 2s (remain 2m 7s) Loss: 0.0661(0.0842) Grad: 126091.1797  LR: 0.00000830  \n",
      "Epoch: [4][140/366] Elapsed 1m 13s (remain 1m 56s) Loss: 0.0827(0.0832) Grad: 68226.0469  LR: 0.00000802  \n",
      "Epoch: [4][160/366] Elapsed 1m 23s (remain 1m 46s) Loss: 0.0970(0.0824) Grad: 148679.8125  LR: 0.00000774  \n",
      "Epoch: [4][180/366] Elapsed 1m 33s (remain 1m 35s) Loss: 0.1388(0.0825) Grad: 51587.9336  LR: 0.00000746  \n",
      "Epoch: [4][200/366] Elapsed 1m 44s (remain 1m 25s) Loss: 0.1316(0.0827) Grad: 70845.4922  LR: 0.00000719  \n",
      "Epoch: [4][220/366] Elapsed 1m 54s (remain 1m 15s) Loss: 0.0728(0.0821) Grad: 32217.1055  LR: 0.00000692  \n",
      "Epoch: [4][240/366] Elapsed 2m 4s (remain 1m 4s) Loss: 0.0983(0.0820) Grad: 51335.1875  LR: 0.00000664  \n",
      "Epoch: [4][260/366] Elapsed 2m 14s (remain 0m 54s) Loss: 0.0686(0.0822) Grad: 31331.4277  LR: 0.00000638  \n",
      "Epoch: [4][280/366] Elapsed 2m 25s (remain 0m 43s) Loss: 0.0788(0.0820) Grad: 43547.9961  LR: 0.00000611  \n",
      "Epoch: [4][300/366] Elapsed 2m 35s (remain 0m 33s) Loss: 0.0619(0.0818) Grad: 19412.7090  LR: 0.00000585  \n",
      "Epoch: [4][320/366] Elapsed 2m 45s (remain 0m 23s) Loss: 0.0909(0.0819) Grad: 18100.4961  LR: 0.00000559  \n",
      "Epoch: [4][340/366] Elapsed 2m 56s (remain 0m 12s) Loss: 0.0615(0.0819) Grad: 19107.1367  LR: 0.00000534  \n",
      "Epoch: [4][360/366] Elapsed 3m 6s (remain 0m 2s) Loss: 0.0927(0.0825) Grad: 23088.7305  LR: 0.00000509  \n",
      "Epoch: [4][365/366] Elapsed 3m 9s (remain 0m 0s) Loss: 0.0529(0.0822) Grad: 17466.0410  LR: 0.00000502  \n",
      "EVAL: [0/62] Elapsed 0m 0s (remain 0m 51s) Loss: 0.0758(0.0758) \n",
      "EVAL: [20/62] Elapsed 0m 14s (remain 0m 28s) Loss: 0.0773(0.1078) \n",
      "EVAL: [40/62] Elapsed 0m 28s (remain 0m 14s) Loss: 0.0819(0.1095) \n"
     ]
    },
    {
     "name": "stderr",
     "output_type": "stream",
     "text": [
      "Epoch 4 - avg_train_loss: 0.0822  avg_val_loss: 0.1115  time: 231s\n",
      "Epoch 4 - Score: 0.4728  Scores: [0.5131253967776658, 0.4674640792383513, 0.423255458571911, 0.48209010771180205, 0.4912571958013806, 0.45935940435228145]\n",
      "Epoch 4 - Save Best Score: 0.4728 Model\n"
     ]
    },
    {
     "name": "stdout",
     "output_type": "stream",
     "text": [
      "EVAL: [60/62] Elapsed 0m 41s (remain 0m 0s) Loss: 0.1024(0.1115) \n",
      "EVAL: [61/62] Elapsed 0m 41s (remain 0m 0s) Loss: 0.0749(0.1115) \n",
      "Epoch: [5][0/366] Elapsed 0m 0s (remain 4m 33s) Loss: 0.0892(0.0892) Grad: 65133.4375  LR: 0.00000501  \n",
      "Epoch: [5][20/366] Elapsed 0m 11s (remain 3m 1s) Loss: 0.0778(0.0788) Grad: 91029.5391  LR: 0.00000477  \n",
      "Epoch: [5][40/366] Elapsed 0m 21s (remain 2m 49s) Loss: 0.0641(0.0727) Grad: 120989.1250  LR: 0.00000453  \n",
      "Epoch: [5][60/366] Elapsed 0m 31s (remain 2m 38s) Loss: 0.0644(0.0722) Grad: 110789.0078  LR: 0.00000429  \n",
      "Epoch: [5][80/366] Elapsed 0m 42s (remain 2m 28s) Loss: 0.0781(0.0724) Grad: 140762.5156  LR: 0.00000406  \n",
      "Epoch: [5][100/366] Elapsed 0m 52s (remain 2m 17s) Loss: 0.0721(0.0704) Grad: 112103.5469  LR: 0.00000383  \n",
      "Epoch: [5][120/366] Elapsed 1m 2s (remain 2m 7s) Loss: 0.0715(0.0702) Grad: 82798.3672  LR: 0.00000361  \n",
      "Epoch: [5][140/366] Elapsed 1m 13s (remain 1m 56s) Loss: 0.0803(0.0708) Grad: 180405.6406  LR: 0.00000339  \n",
      "Epoch: [5][160/366] Elapsed 1m 23s (remain 1m 46s) Loss: 0.0722(0.0709) Grad: 95106.9375  LR: 0.00000318  \n",
      "Epoch: [5][180/366] Elapsed 1m 33s (remain 1m 35s) Loss: 0.0887(0.0711) Grad: 118952.5391  LR: 0.00000297  \n",
      "Epoch: [5][200/366] Elapsed 1m 44s (remain 1m 25s) Loss: 0.0518(0.0711) Grad: 121425.8906  LR: 0.00000277  \n",
      "Epoch: [5][220/366] Elapsed 1m 54s (remain 1m 15s) Loss: 0.0754(0.0716) Grad: 200487.4688  LR: 0.00000258  \n",
      "Epoch: [5][240/366] Elapsed 2m 4s (remain 1m 4s) Loss: 0.0727(0.0717) Grad: 94031.5938  LR: 0.00000239  \n",
      "Epoch: [5][260/366] Elapsed 2m 14s (remain 0m 54s) Loss: 0.1044(0.0714) Grad: 98727.0859  LR: 0.00000221  \n",
      "Epoch: [5][280/366] Elapsed 2m 25s (remain 0m 43s) Loss: 0.0759(0.0711) Grad: 413179.0312  LR: 0.00000203  \n",
      "Epoch: [5][300/366] Elapsed 2m 35s (remain 0m 33s) Loss: 0.0609(0.0710) Grad: 92764.7344  LR: 0.00000186  \n",
      "Epoch: [5][320/366] Elapsed 2m 45s (remain 0m 23s) Loss: 0.0750(0.0707) Grad: 109648.7734  LR: 0.00000170  \n",
      "Epoch: [5][340/366] Elapsed 2m 56s (remain 0m 12s) Loss: 0.0797(0.0705) Grad: 87704.8750  LR: 0.00000154  \n",
      "Epoch: [5][360/366] Elapsed 3m 6s (remain 0m 2s) Loss: 0.0641(0.0700) Grad: 112023.3516  LR: 0.00000139  \n",
      "Epoch: [5][365/366] Elapsed 3m 8s (remain 0m 0s) Loss: 0.0537(0.0697) Grad: 98498.8984  LR: 0.00000136  \n",
      "EVAL: [0/62] Elapsed 0m 0s (remain 0m 51s) Loss: 0.0746(0.0746) \n",
      "EVAL: [20/62] Elapsed 0m 14s (remain 0m 28s) Loss: 0.0769(0.1071) \n",
      "EVAL: [40/62] Elapsed 0m 28s (remain 0m 14s) Loss: 0.0843(0.1093) \n"
     ]
    },
    {
     "name": "stderr",
     "output_type": "stream",
     "text": [
      "Epoch 5 - avg_train_loss: 0.0697  avg_val_loss: 0.1111  time: 231s\n",
      "Epoch 5 - Score: 0.4721  Scores: [0.5061758619898871, 0.4671664426567336, 0.4248916488228773, 0.47576508347498403, 0.49644064127398796, 0.46201526188862646]\n",
      "Epoch 5 - Save Best Score: 0.4721 Model\n"
     ]
    },
    {
     "name": "stdout",
     "output_type": "stream",
     "text": [
      "EVAL: [60/62] Elapsed 0m 41s (remain 0m 0s) Loss: 0.1002(0.1112) \n",
      "EVAL: [61/62] Elapsed 0m 41s (remain 0m 0s) Loss: 0.0796(0.1111) \n",
      "Epoch: [6][0/366] Elapsed 0m 0s (remain 4m 28s) Loss: 0.1001(0.1001) Grad: 123144.7500  LR: 0.00000135  \n",
      "Epoch: [6][20/366] Elapsed 0m 10s (remain 2m 59s) Loss: 0.0681(0.0710) Grad: 78522.7031  LR: 0.00000121  \n",
      "Epoch: [6][40/366] Elapsed 0m 21s (remain 2m 48s) Loss: 0.0607(0.0681) Grad: 84477.9297  LR: 0.00000108  \n",
      "Epoch: [6][60/366] Elapsed 0m 31s (remain 2m 38s) Loss: 0.0856(0.0670) Grad: 161497.9531  LR: 0.00000095  \n",
      "Epoch: [6][80/366] Elapsed 0m 42s (remain 2m 28s) Loss: 0.0713(0.0654) Grad: 120220.2812  LR: 0.00000083  \n",
      "Epoch: [6][100/366] Elapsed 0m 52s (remain 2m 17s) Loss: 0.0691(0.0664) Grad: 73594.3594  LR: 0.00000072  \n",
      "Epoch: [6][120/366] Elapsed 1m 2s (remain 2m 7s) Loss: 0.0600(0.0661) Grad: 80917.2031  LR: 0.00000062  \n",
      "Epoch: [6][140/366] Elapsed 1m 13s (remain 1m 56s) Loss: 0.0459(0.0658) Grad: 49855.0859  LR: 0.00000053  \n",
      "Epoch: [6][160/366] Elapsed 1m 23s (remain 1m 46s) Loss: 0.0635(0.0660) Grad: 70726.9531  LR: 0.00000044  \n",
      "Epoch: [6][180/366] Elapsed 1m 33s (remain 1m 35s) Loss: 0.0565(0.0666) Grad: 85996.6484  LR: 0.00000036  \n",
      "Epoch: [6][200/366] Elapsed 1m 44s (remain 1m 25s) Loss: 0.0593(0.0664) Grad: 48873.4883  LR: 0.00000029  \n",
      "Epoch: [6][220/366] Elapsed 1m 54s (remain 1m 15s) Loss: 0.0705(0.0662) Grad: 90841.5938  LR: 0.00000022  \n",
      "Epoch: [6][240/366] Elapsed 2m 4s (remain 1m 4s) Loss: 0.0585(0.0662) Grad: 72186.3125  LR: 0.00000017  \n",
      "Epoch: [6][260/366] Elapsed 2m 15s (remain 0m 54s) Loss: 0.0711(0.0662) Grad: 134055.8906  LR: 0.00000012  \n",
      "Epoch: [6][280/366] Elapsed 2m 25s (remain 0m 43s) Loss: 0.0916(0.0659) Grad: 139163.8125  LR: 0.00000008  \n",
      "Epoch: [6][300/366] Elapsed 2m 35s (remain 0m 33s) Loss: 0.0462(0.0654) Grad: 60110.3984  LR: 0.00000005  \n",
      "Epoch: [6][320/366] Elapsed 2m 46s (remain 0m 23s) Loss: 0.0606(0.0656) Grad: 104637.9922  LR: 0.00000002  \n",
      "Epoch: [6][340/366] Elapsed 2m 56s (remain 0m 12s) Loss: 0.0866(0.0655) Grad: 196551.3594  LR: 0.00000001  \n",
      "Epoch: [6][360/366] Elapsed 3m 6s (remain 0m 2s) Loss: 0.0480(0.0658) Grad: 57581.3008  LR: 0.00000000  \n",
      "Epoch: [6][365/366] Elapsed 3m 9s (remain 0m 0s) Loss: 0.0804(0.0658) Grad: 162409.7188  LR: 0.00000000  \n",
      "EVAL: [0/62] Elapsed 0m 0s (remain 0m 51s) Loss: 0.0740(0.0740) \n",
      "EVAL: [20/62] Elapsed 0m 14s (remain 0m 28s) Loss: 0.0760(0.1076) \n",
      "EVAL: [40/62] Elapsed 0m 28s (remain 0m 14s) Loss: 0.0841(0.1101) \n"
     ]
    },
    {
     "name": "stderr",
     "output_type": "stream",
     "text": [
      "Epoch 6 - avg_train_loss: 0.0658  avg_val_loss: 0.1119  time: 231s\n",
      "Epoch 6 - Score: 0.4737  Scores: [0.5069758044556173, 0.46921745082784516, 0.4261038389864469, 0.47762822752681533, 0.49838966021745196, 0.4636851166112135]\n"
     ]
    },
    {
     "name": "stdout",
     "output_type": "stream",
     "text": [
      "EVAL: [60/62] Elapsed 0m 41s (remain 0m 0s) Loss: 0.1012(0.1119) \n",
      "EVAL: [61/62] Elapsed 0m 41s (remain 0m 0s) Loss: 0.0832(0.1119) \n"
     ]
    },
    {
     "name": "stderr",
     "output_type": "stream",
     "text": [
      "========== fold: 0 result ==========\n",
      "Score: 0.4721  Scores: [0.5061758619898871, 0.4671664426567336, 0.4248916488228773, 0.47576508347498403, 0.49644064127398796, 0.46201526188862646]\n",
      "========== fold: 1 training ==========\n",
      "BigBirdConfig {\n",
      "  \"_name_or_path\": \"/home/jupyter/models/bigbird/roberta-base/\",\n",
      "  \"architectures\": [\n",
      "    \"BigBirdForPreTraining\"\n",
      "  ],\n",
      "  \"attention_dropout\": 0.0,\n",
      "  \"attention_probs_dropout_prob\": 0.0,\n",
      "  \"attention_type\": \"block_sparse\",\n",
      "  \"block_size\": 64,\n",
      "  \"bos_token_id\": 1,\n",
      "  \"classifier_dropout\": null,\n",
      "  \"eos_token_id\": 2,\n",
      "  \"gradient_checkpointing\": false,\n",
      "  \"hidden_act\": \"gelu_fast\",\n",
      "  \"hidden_dropout\": 0.0,\n",
      "  \"hidden_dropout_prob\": 0.0,\n",
      "  \"hidden_size\": 768,\n",
      "  \"initializer_range\": 0.02,\n",
      "  \"intermediate_size\": 3072,\n",
      "  \"layer_norm_eps\": 1e-12,\n",
      "  \"max_position_embeddings\": 4096,\n",
      "  \"model_type\": \"big_bird\",\n",
      "  \"num_attention_heads\": 12,\n",
      "  \"num_hidden_layers\": 12,\n",
      "  \"num_random_blocks\": 3,\n",
      "  \"output_hidden_states\": true,\n",
      "  \"pad_token_id\": 0,\n",
      "  \"position_embedding_type\": \"absolute\",\n",
      "  \"rescale_embeddings\": false,\n",
      "  \"sep_token_id\": 66,\n",
      "  \"transformers_version\": \"4.21.2\",\n",
      "  \"type_vocab_size\": 2,\n",
      "  \"use_bias\": true,\n",
      "  \"use_cache\": true,\n",
      "  \"vocab_size\": 50358\n",
      "}\n",
      "\n",
      "Some weights of the model checkpoint at /home/jupyter/models/bigbird/roberta-base/ were not used when initializing BigBirdModel: ['cls.predictions.transform.dense.weight', 'cls.predictions.transform.LayerNorm.weight', 'cls.seq_relationship.bias', 'cls.predictions.decoder.bias', 'cls.predictions.bias', 'cls.predictions.transform.dense.bias', 'cls.predictions.decoder.weight', 'cls.seq_relationship.weight', 'cls.predictions.transform.LayerNorm.bias']\n",
      "- This IS expected if you are initializing BigBirdModel from the checkpoint of a model trained on another task or with another architecture (e.g. initializing a BertForSequenceClassification model from a BertForPreTraining model).\n",
      "- This IS NOT expected if you are initializing BigBirdModel from the checkpoint of a model that you expect to be exactly identical (initializing a BertForSequenceClassification model from a BertForSequenceClassification model).\n",
      "Attention type 'block_sparse' is not possible if sequence_length: 512 <= num global tokens: 2 * config.block_size + min. num sliding tokens: 3 * config.block_size + config.num_random_blocks * config.block_size + additional buffer: config.num_random_blocks * config.block_size = 704 with config.block_size = 64, config.num_random_blocks = 3. Changing attention type to 'original_full'...\n"
     ]
    },
    {
     "name": "stdout",
     "output_type": "stream",
     "text": [
      "Epoch: [1][0/366] Elapsed 0m 0s (remain 5m 34s) Loss: 2.5090(2.5090) Grad: 258234.4062  LR: 0.00002000  \n",
      "Epoch: [1][20/366] Elapsed 0m 11s (remain 3m 3s) Loss: 0.8044(1.6464) Grad: 230477.9375  LR: 0.00002000  \n",
      "Epoch: [1][40/366] Elapsed 0m 21s (remain 2m 49s) Loss: 0.2719(0.9824) Grad: 56426.1016  LR: 0.00001998  \n",
      "Epoch: [1][60/366] Elapsed 0m 31s (remain 2m 38s) Loss: 0.1634(0.7398) Grad: 120107.7500  LR: 0.00001996  \n",
      "Epoch: [1][80/366] Elapsed 0m 41s (remain 2m 27s) Loss: 0.1420(0.5994) Grad: 133774.3281  LR: 0.00001993  \n",
      "Epoch: [1][100/366] Elapsed 0m 52s (remain 2m 17s) Loss: 0.2126(0.5130) Grad: 93506.6484  LR: 0.00001990  \n",
      "Epoch: [1][120/366] Elapsed 1m 2s (remain 2m 6s) Loss: 0.0623(0.4527) Grad: 46987.0352  LR: 0.00001985  \n",
      "Epoch: [1][140/366] Elapsed 1m 12s (remain 1m 56s) Loss: 0.1647(0.4065) Grad: 100947.7188  LR: 0.00001980  \n",
      "Epoch: [1][160/366] Elapsed 1m 23s (remain 1m 45s) Loss: 0.1130(0.3717) Grad: 46427.3008  LR: 0.00001974  \n",
      "Epoch: [1][180/366] Elapsed 1m 33s (remain 1m 35s) Loss: 0.1116(0.3464) Grad: 67796.7734  LR: 0.00001967  \n",
      "Epoch: [1][200/366] Elapsed 1m 43s (remain 1m 25s) Loss: 0.1253(0.3237) Grad: 56662.2812  LR: 0.00001959  \n",
      "Epoch: [1][220/366] Elapsed 1m 54s (remain 1m 14s) Loss: 0.0787(0.3065) Grad: 65162.1328  LR: 0.00001951  \n",
      "Epoch: [1][240/366] Elapsed 2m 4s (remain 1m 4s) Loss: 0.1957(0.2974) Grad: 229720.8750  LR: 0.00001941  \n",
      "Epoch: [1][260/366] Elapsed 2m 14s (remain 0m 54s) Loss: 0.1077(0.2857) Grad: 99742.5938  LR: 0.00001931  \n",
      "Epoch: [1][280/366] Elapsed 2m 24s (remain 0m 43s) Loss: 0.1834(0.2746) Grad: 49276.2891  LR: 0.00001921  \n",
      "Epoch: [1][300/366] Elapsed 2m 35s (remain 0m 33s) Loss: 0.1074(0.2650) Grad: 89912.8516  LR: 0.00001909  \n",
      "Epoch: [1][320/366] Elapsed 2m 45s (remain 0m 23s) Loss: 0.1378(0.2566) Grad: 39786.4766  LR: 0.00001897  \n",
      "Epoch: [1][340/366] Elapsed 2m 55s (remain 0m 12s) Loss: 0.0948(0.2487) Grad: 63004.9258  LR: 0.00001884  \n",
      "Epoch: [1][360/366] Elapsed 3m 6s (remain 0m 2s) Loss: 0.1250(0.2423) Grad: 131868.0938  LR: 0.00001870  \n",
      "Epoch: [1][365/366] Elapsed 3m 8s (remain 0m 0s) Loss: 0.1168(0.2408) Grad: 54055.8203  LR: 0.00001867  \n",
      "EVAL: [0/62] Elapsed 0m 0s (remain 0m 50s) Loss: 0.0904(0.0904) \n",
      "EVAL: [20/62] Elapsed 0m 14s (remain 0m 28s) Loss: 0.1417(0.1386) \n",
      "EVAL: [40/62] Elapsed 0m 28s (remain 0m 14s) Loss: 0.0940(0.1305) \n"
     ]
    },
    {
     "name": "stderr",
     "output_type": "stream",
     "text": [
      "Epoch 1 - avg_train_loss: 0.2408  avg_val_loss: 0.1293  time: 230s\n",
      "Epoch 1 - Score: 0.5127  Scores: [0.5457597452817262, 0.5019136298727246, 0.47469119063652604, 0.5166495866444689, 0.5320290363168073, 0.5049454893263524]\n",
      "Epoch 1 - Save Best Score: 0.5127 Model\n"
     ]
    },
    {
     "name": "stdout",
     "output_type": "stream",
     "text": [
      "EVAL: [60/62] Elapsed 0m 41s (remain 0m 0s) Loss: 0.1084(0.1294) \n",
      "EVAL: [61/62] Elapsed 0m 41s (remain 0m 0s) Loss: 0.0674(0.1293) \n",
      "Epoch: [2][0/366] Elapsed 0m 0s (remain 4m 10s) Loss: 0.1289(0.1289) Grad: 107212.7969  LR: 0.00001866  \n",
      "Epoch: [2][20/366] Elapsed 0m 10s (remain 3m 0s) Loss: 0.0818(0.1233) Grad: 100404.3750  LR: 0.00001851  \n",
      "Epoch: [2][40/366] Elapsed 0m 21s (remain 2m 48s) Loss: 0.1101(0.1228) Grad: 189510.5469  LR: 0.00001836  \n",
      "Epoch: [2][60/366] Elapsed 0m 31s (remain 2m 37s) Loss: 0.1637(0.1226) Grad: 126733.3750  LR: 0.00001820  \n",
      "Epoch: [2][80/366] Elapsed 0m 41s (remain 2m 26s) Loss: 0.1058(0.1149) Grad: 85820.4297  LR: 0.00001803  \n",
      "Epoch: [2][100/366] Elapsed 0m 52s (remain 2m 16s) Loss: 0.0845(0.1133) Grad: 106713.3516  LR: 0.00001786  \n",
      "Epoch: [2][120/366] Elapsed 1m 2s (remain 2m 6s) Loss: 0.0750(0.1120) Grad: 86556.7734  LR: 0.00001768  \n",
      "Epoch: [2][140/366] Elapsed 1m 12s (remain 1m 55s) Loss: 0.1108(0.1121) Grad: 232400.9688  LR: 0.00001749  \n",
      "Epoch: [2][160/366] Elapsed 1m 22s (remain 1m 45s) Loss: 0.0892(0.1112) Grad: 243130.9688  LR: 0.00001730  \n",
      "Epoch: [2][180/366] Elapsed 1m 33s (remain 1m 35s) Loss: 0.0916(0.1109) Grad: 120700.1875  LR: 0.00001710  \n",
      "Epoch: [2][200/366] Elapsed 1m 43s (remain 1m 24s) Loss: 0.0954(0.1105) Grad: 249891.1562  LR: 0.00001690  \n",
      "Epoch: [2][220/366] Elapsed 1m 53s (remain 1m 14s) Loss: 0.1054(0.1094) Grad: 97150.6484  LR: 0.00001669  \n",
      "Epoch: [2][240/366] Elapsed 2m 3s (remain 1m 4s) Loss: 0.0849(0.1089) Grad: 127837.0234  LR: 0.00001647  \n",
      "Epoch: [2][260/366] Elapsed 2m 14s (remain 0m 53s) Loss: 0.1296(0.1088) Grad: 264697.1562  LR: 0.00001625  \n",
      "Epoch: [2][280/366] Elapsed 2m 24s (remain 0m 43s) Loss: 0.0708(0.1086) Grad: 169157.3281  LR: 0.00001603  \n",
      "Epoch: [2][300/366] Elapsed 2m 34s (remain 0m 33s) Loss: 0.1264(0.1094) Grad: 150288.9531  LR: 0.00001580  \n",
      "Epoch: [2][320/366] Elapsed 2m 44s (remain 0m 23s) Loss: 0.1133(0.1105) Grad: 126377.8828  LR: 0.00001556  \n",
      "Epoch: [2][340/366] Elapsed 2m 54s (remain 0m 12s) Loss: 0.1271(0.1099) Grad: 277332.0938  LR: 0.00001532  \n",
      "Epoch: [2][360/366] Elapsed 3m 5s (remain 0m 2s) Loss: 0.1068(0.1093) Grad: 378201.4375  LR: 0.00001508  \n",
      "Epoch: [2][365/366] Elapsed 3m 7s (remain 0m 0s) Loss: 0.1491(0.1094) Grad: 321834.5312  LR: 0.00001502  \n",
      "EVAL: [0/62] Elapsed 0m 0s (remain 0m 52s) Loss: 0.0977(0.0977) \n",
      "EVAL: [20/62] Elapsed 0m 14s (remain 0m 28s) Loss: 0.1606(0.1385) \n",
      "EVAL: [40/62] Elapsed 0m 28s (remain 0m 14s) Loss: 0.1028(0.1311) \n"
     ]
    },
    {
     "name": "stderr",
     "output_type": "stream",
     "text": [
      "Epoch 2 - avg_train_loss: 0.1094  avg_val_loss: 0.1287  time: 230s\n",
      "Epoch 2 - Score: 0.5117  Scores: [0.5237238357648188, 0.49285682415550286, 0.5185709072025219, 0.491658893799536, 0.5239064810228276, 0.5193074969685993]\n",
      "Epoch 2 - Save Best Score: 0.5117 Model\n"
     ]
    },
    {
     "name": "stdout",
     "output_type": "stream",
     "text": [
      "EVAL: [60/62] Elapsed 0m 41s (remain 0m 0s) Loss: 0.1160(0.1287) \n",
      "EVAL: [61/62] Elapsed 0m 41s (remain 0m 0s) Loss: 0.0855(0.1287) \n",
      "Epoch: [3][0/366] Elapsed 0m 0s (remain 5m 32s) Loss: 0.1632(0.1632) Grad: 362149.7500  LR: 0.00001500  \n",
      "Epoch: [3][20/366] Elapsed 0m 11s (remain 3m 4s) Loss: 0.0875(0.1077) Grad: 94044.5234  LR: 0.00001475  \n",
      "Epoch: [3][40/366] Elapsed 0m 21s (remain 2m 50s) Loss: 0.0716(0.1054) Grad: 156058.7812  LR: 0.00001450  \n",
      "Epoch: [3][60/366] Elapsed 0m 31s (remain 2m 39s) Loss: 0.0671(0.1021) Grad: 111419.4609  LR: 0.00001424  \n",
      "Epoch: [3][80/366] Elapsed 0m 42s (remain 2m 28s) Loss: 0.1078(0.1021) Grad: 214469.8750  LR: 0.00001398  \n",
      "Epoch: [3][100/366] Elapsed 0m 52s (remain 2m 17s) Loss: 0.0865(0.1017) Grad: 115739.0625  LR: 0.00001372  \n",
      "Epoch: [3][120/366] Elapsed 1m 3s (remain 2m 7s) Loss: 0.0855(0.1011) Grad: 216586.6406  LR: 0.00001345  \n",
      "Epoch: [3][140/366] Elapsed 1m 13s (remain 1m 57s) Loss: 0.0857(0.1003) Grad: 224916.1719  LR: 0.00001319  \n",
      "Epoch: [3][160/366] Elapsed 1m 23s (remain 1m 46s) Loss: 0.0913(0.1001) Grad: 83307.2812  LR: 0.00001291  \n",
      "Epoch: [3][180/366] Elapsed 1m 33s (remain 1m 35s) Loss: 0.0814(0.0986) Grad: 129421.2734  LR: 0.00001264  \n",
      "Epoch: [3][200/366] Elapsed 1m 44s (remain 1m 25s) Loss: 0.1083(0.0994) Grad: 190336.9844  LR: 0.00001236  \n",
      "Epoch: [3][220/366] Elapsed 1m 54s (remain 1m 15s) Loss: 0.1244(0.0985) Grad: 102544.8828  LR: 0.00001208  \n",
      "Epoch: [3][240/366] Elapsed 2m 5s (remain 1m 4s) Loss: 0.0920(0.0981) Grad: 76774.8203  LR: 0.00001180  \n",
      "Epoch: [3][260/366] Elapsed 2m 15s (remain 0m 54s) Loss: 0.0739(0.0981) Grad: 80651.6719  LR: 0.00001152  \n",
      "Epoch: [3][280/366] Elapsed 2m 25s (remain 0m 44s) Loss: 0.0732(0.0969) Grad: 169454.9844  LR: 0.00001124  \n",
      "Epoch: [3][300/366] Elapsed 2m 36s (remain 0m 33s) Loss: 0.1516(0.0969) Grad: 296709.0938  LR: 0.00001096  \n",
      "Epoch: [3][320/366] Elapsed 2m 46s (remain 0m 23s) Loss: 0.1263(0.0974) Grad: 257597.7656  LR: 0.00001067  \n",
      "Epoch: [3][340/366] Elapsed 2m 56s (remain 0m 12s) Loss: 0.1048(0.0975) Grad: 283024.8750  LR: 0.00001039  \n",
      "Epoch: [3][360/366] Elapsed 3m 7s (remain 0m 2s) Loss: 0.0967(0.0972) Grad: 143399.1094  LR: 0.00001010  \n",
      "Epoch: [3][365/366] Elapsed 3m 9s (remain 0m 0s) Loss: 0.0889(0.0976) Grad: 151609.2656  LR: 0.00001003  \n",
      "EVAL: [0/62] Elapsed 0m 0s (remain 0m 51s) Loss: 0.0865(0.0865) \n",
      "EVAL: [20/62] Elapsed 0m 14s (remain 0m 28s) Loss: 0.1160(0.1167) \n",
      "EVAL: [40/62] Elapsed 0m 27s (remain 0m 14s) Loss: 0.0923(0.1118) \n"
     ]
    },
    {
     "name": "stderr",
     "output_type": "stream",
     "text": [
      "Epoch 3 - avg_train_loss: 0.0976  avg_val_loss: 0.1128  time: 231s\n",
      "Epoch 3 - Score: 0.4774  Scores: [0.509425239928754, 0.46029202102521205, 0.44447266646835576, 0.4740315297817457, 0.5033990022465991, 0.47306663216690564]\n",
      "Epoch 3 - Save Best Score: 0.4774 Model\n"
     ]
    },
    {
     "name": "stdout",
     "output_type": "stream",
     "text": [
      "EVAL: [60/62] Elapsed 0m 41s (remain 0m 0s) Loss: 0.1039(0.1128) \n",
      "EVAL: [61/62] Elapsed 0m 41s (remain 0m 0s) Loss: 0.0620(0.1128) \n",
      "Epoch: [4][0/366] Elapsed 0m 0s (remain 4m 29s) Loss: 0.0559(0.0559) Grad: 115890.3672  LR: 0.00001001  \n",
      "Epoch: [4][20/366] Elapsed 0m 11s (remain 3m 1s) Loss: 0.1024(0.0842) Grad: 73485.9844  LR: 0.00000973  \n",
      "Epoch: [4][40/366] Elapsed 0m 21s (remain 2m 49s) Loss: 0.1067(0.0831) Grad: 232141.3438  LR: 0.00000944  \n",
      "Epoch: [4][60/366] Elapsed 0m 31s (remain 2m 38s) Loss: 0.0937(0.0830) Grad: 188597.0156  LR: 0.00000916  \n",
      "Epoch: [4][80/366] Elapsed 0m 42s (remain 2m 27s) Loss: 0.0647(0.0830) Grad: 89824.3516  LR: 0.00000887  \n",
      "Epoch: [4][100/366] Elapsed 0m 52s (remain 2m 17s) Loss: 0.0706(0.0818) Grad: 91613.2031  LR: 0.00000859  \n",
      "Epoch: [4][120/366] Elapsed 1m 2s (remain 2m 6s) Loss: 0.0777(0.0838) Grad: 235567.8906  LR: 0.00000831  \n",
      "Epoch: [4][140/366] Elapsed 1m 13s (remain 1m 56s) Loss: 0.0967(0.0833) Grad: 67730.3750  LR: 0.00000803  \n",
      "Epoch: [4][160/366] Elapsed 1m 23s (remain 1m 46s) Loss: 0.1221(0.0842) Grad: 116541.4688  LR: 0.00000775  \n",
      "Epoch: [4][180/366] Elapsed 1m 33s (remain 1m 35s) Loss: 0.0509(0.0836) Grad: 64227.4844  LR: 0.00000747  \n",
      "Epoch: [4][200/366] Elapsed 1m 44s (remain 1m 25s) Loss: 0.0744(0.0836) Grad: 112021.4453  LR: 0.00000720  \n",
      "Epoch: [4][220/366] Elapsed 1m 54s (remain 1m 15s) Loss: 0.0692(0.0839) Grad: 123463.6562  LR: 0.00000692  \n",
      "Epoch: [4][240/366] Elapsed 2m 4s (remain 1m 4s) Loss: 0.0933(0.0841) Grad: 132263.8125  LR: 0.00000665  \n",
      "Epoch: [4][260/366] Elapsed 2m 15s (remain 0m 54s) Loss: 0.0613(0.0832) Grad: 112867.0156  LR: 0.00000639  \n",
      "Epoch: [4][280/366] Elapsed 2m 25s (remain 0m 44s) Loss: 0.0908(0.0829) Grad: 177970.5312  LR: 0.00000612  \n",
      "Epoch: [4][300/366] Elapsed 2m 35s (remain 0m 33s) Loss: 0.2565(0.0836) Grad: 179123.4688  LR: 0.00000586  \n",
      "Epoch: [4][320/366] Elapsed 2m 46s (remain 0m 23s) Loss: 0.0721(0.0836) Grad: 165067.8438  LR: 0.00000560  \n",
      "Epoch: [4][340/366] Elapsed 2m 56s (remain 0m 12s) Loss: 0.0725(0.0833) Grad: 189910.9219  LR: 0.00000535  \n",
      "Epoch: [4][360/366] Elapsed 3m 6s (remain 0m 2s) Loss: 0.1128(0.0837) Grad: 196920.3750  LR: 0.00000510  \n",
      "Epoch: [4][365/366] Elapsed 3m 9s (remain 0m 0s) Loss: 0.0789(0.0836) Grad: 86553.9844  LR: 0.00000503  \n",
      "EVAL: [0/62] Elapsed 0m 0s (remain 0m 53s) Loss: 0.0891(0.0891) \n",
      "EVAL: [20/62] Elapsed 0m 14s (remain 0m 28s) Loss: 0.1247(0.1258) \n",
      "EVAL: [40/62] Elapsed 0m 28s (remain 0m 14s) Loss: 0.0937(0.1190) \n"
     ]
    },
    {
     "name": "stderr",
     "output_type": "stream",
     "text": [
      "Epoch 4 - avg_train_loss: 0.0836  avg_val_loss: 0.1186  time: 231s\n",
      "Epoch 4 - Score: 0.4895  Scores: [0.5195180775425137, 0.4803278844865937, 0.44286028831251834, 0.4880583699013139, 0.5258307564920023, 0.4804834972577969]\n"
     ]
    },
    {
     "name": "stdout",
     "output_type": "stream",
     "text": [
      "EVAL: [60/62] Elapsed 0m 41s (remain 0m 0s) Loss: 0.1107(0.1187) \n",
      "EVAL: [61/62] Elapsed 0m 41s (remain 0m 0s) Loss: 0.0533(0.1186) \n",
      "Epoch: [5][0/366] Elapsed 0m 0s (remain 4m 9s) Loss: 0.0550(0.0550) Grad: 54298.3750  LR: 0.00000502  \n",
      "Epoch: [5][20/366] Elapsed 0m 11s (remain 3m 1s) Loss: 0.0669(0.0669) Grad: 106359.7266  LR: 0.00000478  \n",
      "Epoch: [5][40/366] Elapsed 0m 21s (remain 2m 50s) Loss: 0.0661(0.0690) Grad: 153175.8281  LR: 0.00000453  \n",
      "Epoch: [5][60/366] Elapsed 0m 31s (remain 2m 39s) Loss: 0.0847(0.0717) Grad: 153419.0000  LR: 0.00000430  \n",
      "Epoch: [5][80/366] Elapsed 0m 42s (remain 2m 28s) Loss: 0.0923(0.0719) Grad: 92278.2969  LR: 0.00000406  \n",
      "Epoch: [5][100/366] Elapsed 0m 52s (remain 2m 17s) Loss: 0.0657(0.0713) Grad: 80784.1094  LR: 0.00000384  \n",
      "Epoch: [5][120/366] Elapsed 1m 2s (remain 2m 7s) Loss: 0.0557(0.0712) Grad: 72787.0547  LR: 0.00000361  \n",
      "Epoch: [5][140/366] Elapsed 1m 13s (remain 1m 56s) Loss: 0.1018(0.0725) Grad: 107002.8672  LR: 0.00000340  \n",
      "Epoch: [5][160/366] Elapsed 1m 23s (remain 1m 46s) Loss: 0.0442(0.0729) Grad: 65672.1328  LR: 0.00000319  \n",
      "Epoch: [5][180/366] Elapsed 1m 33s (remain 1m 35s) Loss: 0.0738(0.0727) Grad: 114402.3281  LR: 0.00000298  \n",
      "Epoch: [5][200/366] Elapsed 1m 44s (remain 1m 25s) Loss: 0.0781(0.0727) Grad: 99087.5469  LR: 0.00000278  \n",
      "Epoch: [5][220/366] Elapsed 1m 54s (remain 1m 15s) Loss: 0.1023(0.0732) Grad: 132663.3281  LR: 0.00000258  \n",
      "Epoch: [5][240/366] Elapsed 2m 4s (remain 1m 4s) Loss: 0.0580(0.0735) Grad: 80580.2344  LR: 0.00000240  \n",
      "Epoch: [5][260/366] Elapsed 2m 15s (remain 0m 54s) Loss: 0.0724(0.0728) Grad: 101681.7344  LR: 0.00000221  \n",
      "Epoch: [5][280/366] Elapsed 2m 25s (remain 0m 43s) Loss: 0.0655(0.0728) Grad: 63367.8086  LR: 0.00000204  \n",
      "Epoch: [5][300/366] Elapsed 2m 35s (remain 0m 33s) Loss: 0.0605(0.0728) Grad: 98253.7891  LR: 0.00000187  \n",
      "Epoch: [5][320/366] Elapsed 2m 46s (remain 0m 23s) Loss: 0.0696(0.0731) Grad: 121544.7500  LR: 0.00000171  \n",
      "Epoch: [5][340/366] Elapsed 2m 56s (remain 0m 12s) Loss: 0.0462(0.0729) Grad: 90162.6250  LR: 0.00000155  \n",
      "Epoch: [5][360/366] Elapsed 3m 6s (remain 0m 2s) Loss: 0.0548(0.0727) Grad: 96431.6797  LR: 0.00000140  \n",
      "Epoch: [5][365/366] Elapsed 3m 9s (remain 0m 0s) Loss: 0.1050(0.0727) Grad: 194971.2500  LR: 0.00000136  \n",
      "EVAL: [0/62] Elapsed 0m 0s (remain 0m 51s) Loss: 0.0946(0.0946) \n",
      "EVAL: [20/62] Elapsed 0m 14s (remain 0m 28s) Loss: 0.1150(0.1205) \n",
      "EVAL: [40/62] Elapsed 0m 28s (remain 0m 14s) Loss: 0.0916(0.1156) \n"
     ]
    },
    {
     "name": "stderr",
     "output_type": "stream",
     "text": [
      "Epoch 5 - avg_train_loss: 0.0727  avg_val_loss: 0.1162  time: 231s\n",
      "Epoch 5 - Score: 0.4833  Scores: [0.5253250974663093, 0.47155402980705113, 0.44020366438737574, 0.4818446547346346, 0.5050485694897584, 0.4756254475894313]\n"
     ]
    },
    {
     "name": "stdout",
     "output_type": "stream",
     "text": [
      "EVAL: [60/62] Elapsed 0m 41s (remain 0m 0s) Loss: 0.1188(0.1162) \n",
      "EVAL: [61/62] Elapsed 0m 41s (remain 0m 0s) Loss: 0.0501(0.1162) \n",
      "Epoch: [6][0/366] Elapsed 0m 0s (remain 4m 7s) Loss: 0.0783(0.0783) Grad: 125129.7812  LR: 0.00000136  \n",
      "Epoch: [6][20/366] Elapsed 0m 10s (remain 3m 0s) Loss: 0.0816(0.0728) Grad: 68228.5547  LR: 0.00000122  \n",
      "Epoch: [6][40/366] Elapsed 0m 21s (remain 2m 48s) Loss: 0.0457(0.0669) Grad: 61817.3320  LR: 0.00000108  \n",
      "Epoch: [6][60/366] Elapsed 0m 31s (remain 2m 39s) Loss: 0.0502(0.0660) Grad: 87007.8750  LR: 0.00000096  \n",
      "Epoch: [6][80/366] Elapsed 0m 42s (remain 2m 28s) Loss: 0.0704(0.0656) Grad: 78961.5859  LR: 0.00000084  \n",
      "Epoch: [6][100/366] Elapsed 0m 52s (remain 2m 17s) Loss: 0.0736(0.0663) Grad: 95667.7031  LR: 0.00000073  \n",
      "Epoch: [6][120/366] Elapsed 1m 2s (remain 2m 6s) Loss: 0.0524(0.0665) Grad: 86299.3906  LR: 0.00000063  \n",
      "Epoch: [6][140/366] Elapsed 1m 12s (remain 1m 56s) Loss: 0.0767(0.0674) Grad: 112377.3516  LR: 0.00000053  \n",
      "Epoch: [6][160/366] Elapsed 1m 23s (remain 1m 46s) Loss: 0.0841(0.0678) Grad: 167983.8906  LR: 0.00000044  \n",
      "Epoch: [6][180/366] Elapsed 1m 33s (remain 1m 35s) Loss: 0.0440(0.0676) Grad: 57471.8359  LR: 0.00000036  \n",
      "Epoch: [6][200/366] Elapsed 1m 43s (remain 1m 25s) Loss: 0.0552(0.0686) Grad: 67508.8594  LR: 0.00000029  \n",
      "Epoch: [6][220/366] Elapsed 1m 54s (remain 1m 15s) Loss: 0.0704(0.0680) Grad: 93890.3906  LR: 0.00000023  \n",
      "Epoch: [6][240/366] Elapsed 2m 4s (remain 1m 4s) Loss: 0.0841(0.0683) Grad: 116687.1484  LR: 0.00000017  \n",
      "Epoch: [6][260/366] Elapsed 2m 15s (remain 0m 54s) Loss: 0.0518(0.0684) Grad: 91498.8125  LR: 0.00000012  \n",
      "Epoch: [6][280/366] Elapsed 2m 25s (remain 0m 43s) Loss: 0.0960(0.0685) Grad: 106196.6953  LR: 0.00000008  \n",
      "Epoch: [6][300/366] Elapsed 2m 35s (remain 0m 33s) Loss: 0.0572(0.0682) Grad: 83189.9297  LR: 0.00000005  \n",
      "Epoch: [6][320/366] Elapsed 2m 46s (remain 0m 23s) Loss: 0.0483(0.0681) Grad: 60903.7109  LR: 0.00000002  \n",
      "Epoch: [6][340/366] Elapsed 2m 56s (remain 0m 12s) Loss: 0.0823(0.0678) Grad: 86439.5859  LR: 0.00000001  \n",
      "Epoch: [6][360/366] Elapsed 3m 6s (remain 0m 2s) Loss: 0.0650(0.0678) Grad: 76966.8438  LR: 0.00000000  \n",
      "Epoch: [6][365/366] Elapsed 3m 9s (remain 0m 0s) Loss: 0.0637(0.0677) Grad: 107200.2266  LR: 0.00000000  \n",
      "EVAL: [0/62] Elapsed 0m 0s (remain 0m 52s) Loss: 0.0940(0.0940) \n",
      "EVAL: [20/62] Elapsed 0m 14s (remain 0m 28s) Loss: 0.1186(0.1203) \n",
      "EVAL: [40/62] Elapsed 0m 28s (remain 0m 14s) Loss: 0.0932(0.1154) \n"
     ]
    },
    {
     "name": "stderr",
     "output_type": "stream",
     "text": [
      "Epoch 6 - avg_train_loss: 0.0677  avg_val_loss: 0.1156  time: 231s\n",
      "Epoch 6 - Score: 0.4821  Scores: [0.518913382650742, 0.46830215804516206, 0.44024754125717486, 0.4825686428755688, 0.5064092230294175, 0.47605119809168944]\n"
     ]
    },
    {
     "name": "stdout",
     "output_type": "stream",
     "text": [
      "EVAL: [60/62] Elapsed 0m 41s (remain 0m 0s) Loss: 0.1192(0.1157) \n",
      "EVAL: [61/62] Elapsed 0m 41s (remain 0m 0s) Loss: 0.0505(0.1156) \n"
     ]
    },
    {
     "name": "stderr",
     "output_type": "stream",
     "text": [
      "========== fold: 1 result ==========\n",
      "Score: 0.4774  Scores: [0.509425239928754, 0.46029202102521205, 0.44447266646835576, 0.4740315297817457, 0.5033990022465991, 0.47306663216690564]\n",
      "========== fold: 2 training ==========\n",
      "BigBirdConfig {\n",
      "  \"_name_or_path\": \"/home/jupyter/models/bigbird/roberta-base/\",\n",
      "  \"architectures\": [\n",
      "    \"BigBirdForPreTraining\"\n",
      "  ],\n",
      "  \"attention_dropout\": 0.0,\n",
      "  \"attention_probs_dropout_prob\": 0.0,\n",
      "  \"attention_type\": \"block_sparse\",\n",
      "  \"block_size\": 64,\n",
      "  \"bos_token_id\": 1,\n",
      "  \"classifier_dropout\": null,\n",
      "  \"eos_token_id\": 2,\n",
      "  \"gradient_checkpointing\": false,\n",
      "  \"hidden_act\": \"gelu_fast\",\n",
      "  \"hidden_dropout\": 0.0,\n",
      "  \"hidden_dropout_prob\": 0.0,\n",
      "  \"hidden_size\": 768,\n",
      "  \"initializer_range\": 0.02,\n",
      "  \"intermediate_size\": 3072,\n",
      "  \"layer_norm_eps\": 1e-12,\n",
      "  \"max_position_embeddings\": 4096,\n",
      "  \"model_type\": \"big_bird\",\n",
      "  \"num_attention_heads\": 12,\n",
      "  \"num_hidden_layers\": 12,\n",
      "  \"num_random_blocks\": 3,\n",
      "  \"output_hidden_states\": true,\n",
      "  \"pad_token_id\": 0,\n",
      "  \"position_embedding_type\": \"absolute\",\n",
      "  \"rescale_embeddings\": false,\n",
      "  \"sep_token_id\": 66,\n",
      "  \"transformers_version\": \"4.21.2\",\n",
      "  \"type_vocab_size\": 2,\n",
      "  \"use_bias\": true,\n",
      "  \"use_cache\": true,\n",
      "  \"vocab_size\": 50358\n",
      "}\n",
      "\n",
      "Some weights of the model checkpoint at /home/jupyter/models/bigbird/roberta-base/ were not used when initializing BigBirdModel: ['cls.predictions.transform.dense.weight', 'cls.predictions.transform.LayerNorm.weight', 'cls.seq_relationship.bias', 'cls.predictions.decoder.bias', 'cls.predictions.bias', 'cls.predictions.transform.dense.bias', 'cls.predictions.decoder.weight', 'cls.seq_relationship.weight', 'cls.predictions.transform.LayerNorm.bias']\n",
      "- This IS expected if you are initializing BigBirdModel from the checkpoint of a model trained on another task or with another architecture (e.g. initializing a BertForSequenceClassification model from a BertForPreTraining model).\n",
      "- This IS NOT expected if you are initializing BigBirdModel from the checkpoint of a model that you expect to be exactly identical (initializing a BertForSequenceClassification model from a BertForSequenceClassification model).\n",
      "Attention type 'block_sparse' is not possible if sequence_length: 512 <= num global tokens: 2 * config.block_size + min. num sliding tokens: 3 * config.block_size + config.num_random_blocks * config.block_size + additional buffer: config.num_random_blocks * config.block_size = 704 with config.block_size = 64, config.num_random_blocks = 3. Changing attention type to 'original_full'...\n"
     ]
    },
    {
     "name": "stdout",
     "output_type": "stream",
     "text": [
      "Epoch: [1][0/366] Elapsed 0m 0s (remain 5m 56s) Loss: 2.7757(2.7757) Grad: 260997.3594  LR: 0.00002000  \n",
      "Epoch: [1][20/366] Elapsed 0m 11s (remain 3m 3s) Loss: 0.4464(1.6227) Grad: 169082.0938  LR: 0.00002000  \n",
      "Epoch: [1][40/366] Elapsed 0m 21s (remain 2m 50s) Loss: 0.2633(0.9544) Grad: 45042.4141  LR: 0.00001998  \n",
      "Epoch: [1][60/366] Elapsed 0m 31s (remain 2m 39s) Loss: 0.0987(0.7026) Grad: 184356.9531  LR: 0.00001996  \n",
      "Epoch: [1][80/366] Elapsed 0m 42s (remain 2m 29s) Loss: 0.1173(0.5641) Grad: 86634.9141  LR: 0.00001993  \n",
      "Epoch: [1][100/366] Elapsed 0m 52s (remain 2m 18s) Loss: 0.1341(0.4829) Grad: 88592.2500  LR: 0.00001990  \n",
      "Epoch: [1][120/366] Elapsed 1m 3s (remain 2m 7s) Loss: 0.1445(0.4273) Grad: 274752.3438  LR: 0.00001985  \n",
      "Epoch: [1][140/366] Elapsed 1m 13s (remain 1m 56s) Loss: 0.0521(0.3869) Grad: 42170.1250  LR: 0.00001980  \n",
      "Epoch: [1][160/366] Elapsed 1m 23s (remain 1m 46s) Loss: 0.1035(0.3552) Grad: 73688.1562  LR: 0.00001974  \n",
      "Epoch: [1][180/366] Elapsed 1m 34s (remain 1m 36s) Loss: 0.2035(0.3322) Grad: 85473.6172  LR: 0.00001967  \n",
      "Epoch: [1][200/366] Elapsed 1m 44s (remain 1m 25s) Loss: 0.1209(0.3116) Grad: 89328.9922  LR: 0.00001959  \n",
      "Epoch: [1][220/366] Elapsed 1m 54s (remain 1m 15s) Loss: 0.2013(0.2958) Grad: 259061.7812  LR: 0.00001951  \n",
      "Epoch: [1][240/366] Elapsed 2m 4s (remain 1m 4s) Loss: 0.0843(0.2829) Grad: 63010.7812  LR: 0.00001941  \n",
      "Epoch: [1][260/366] Elapsed 2m 14s (remain 0m 54s) Loss: 0.1069(0.2732) Grad: 110262.8750  LR: 0.00001931  \n",
      "Epoch: [1][280/366] Elapsed 2m 24s (remain 0m 43s) Loss: 0.1157(0.2634) Grad: 148895.8594  LR: 0.00001920  \n",
      "Epoch: [1][300/366] Elapsed 2m 35s (remain 0m 33s) Loss: 0.1302(0.2548) Grad: 34981.5977  LR: 0.00001909  \n",
      "Epoch: [1][320/366] Elapsed 2m 45s (remain 0m 23s) Loss: 0.1805(0.2478) Grad: 105922.8594  LR: 0.00001897  \n",
      "Epoch: [1][340/366] Elapsed 2m 55s (remain 0m 12s) Loss: 0.1761(0.2421) Grad: 140632.3438  LR: 0.00001884  \n",
      "Epoch: [1][360/366] Elapsed 3m 5s (remain 0m 2s) Loss: 0.1476(0.2359) Grad: 113704.7422  LR: 0.00001870  \n",
      "Epoch: [1][365/366] Elapsed 3m 7s (remain 0m 0s) Loss: 0.1051(0.2341) Grad: 105471.2656  LR: 0.00001866  \n",
      "EVAL: [0/62] Elapsed 0m 0s (remain 0m 51s) Loss: 0.1509(0.1509) \n",
      "EVAL: [20/62] Elapsed 0m 13s (remain 0m 27s) Loss: 0.0798(0.1371) \n",
      "EVAL: [40/62] Elapsed 0m 26s (remain 0m 13s) Loss: 0.1023(0.1348) \n"
     ]
    },
    {
     "name": "stderr",
     "output_type": "stream",
     "text": [
      "Epoch 1 - avg_train_loss: 0.2341  avg_val_loss: 0.1338  time: 228s\n",
      "Epoch 1 - Score: 0.5205  Scores: [0.5288328736946171, 0.5145865758290036, 0.4688555964760165, 0.5457249287719264, 0.5407481412192755, 0.5245050129379112]\n",
      "Epoch 1 - Save Best Score: 0.5205 Model\n"
     ]
    },
    {
     "name": "stdout",
     "output_type": "stream",
     "text": [
      "EVAL: [60/62] Elapsed 0m 40s (remain 0m 0s) Loss: 0.1081(0.1338) \n",
      "EVAL: [61/62] Elapsed 0m 40s (remain 0m 0s) Loss: 0.1375(0.1338) \n",
      "Epoch: [2][0/366] Elapsed 0m 0s (remain 4m 13s) Loss: 0.0912(0.0912) Grad: 124187.4219  LR: 0.00001866  \n",
      "Epoch: [2][20/366] Elapsed 0m 10s (remain 2m 57s) Loss: 0.1108(0.1154) Grad: 189597.3906  LR: 0.00001851  \n",
      "Epoch: [2][40/366] Elapsed 0m 21s (remain 2m 47s) Loss: 0.0951(0.1210) Grad: 162754.2656  LR: 0.00001836  \n",
      "Epoch: [2][60/366] Elapsed 0m 31s (remain 2m 37s) Loss: 0.1192(0.1148) Grad: 85421.0469  LR: 0.00001820  \n",
      "Epoch: [2][80/366] Elapsed 0m 42s (remain 2m 28s) Loss: 0.0705(0.1147) Grad: 80108.6484  LR: 0.00001803  \n",
      "Epoch: [2][100/366] Elapsed 0m 52s (remain 2m 18s) Loss: 0.0948(0.1132) Grad: 108448.4688  LR: 0.00001786  \n",
      "Epoch: [2][120/366] Elapsed 1m 2s (remain 2m 7s) Loss: 0.2466(0.1125) Grad: 170506.6719  LR: 0.00001768  \n",
      "Epoch: [2][140/366] Elapsed 1m 13s (remain 1m 56s) Loss: 0.1391(0.1126) Grad: 130351.6953  LR: 0.00001749  \n",
      "Epoch: [2][160/366] Elapsed 1m 23s (remain 1m 46s) Loss: 0.2053(0.1134) Grad: 453960.0000  LR: 0.00001730  \n",
      "Epoch: [2][180/366] Elapsed 1m 33s (remain 1m 35s) Loss: 0.1082(0.1138) Grad: 96105.9141  LR: 0.00001710  \n",
      "Epoch: [2][200/366] Elapsed 1m 44s (remain 1m 25s) Loss: 0.1222(0.1139) Grad: 406077.1875  LR: 0.00001689  \n",
      "Epoch: [2][220/366] Elapsed 1m 54s (remain 1m 15s) Loss: 0.1224(0.1135) Grad: 194494.8594  LR: 0.00001668  \n",
      "Epoch: [2][240/366] Elapsed 2m 4s (remain 1m 4s) Loss: 0.1158(0.1123) Grad: 249756.6875  LR: 0.00001647  \n",
      "Epoch: [2][260/366] Elapsed 2m 14s (remain 0m 54s) Loss: 0.0936(0.1124) Grad: 122080.7891  LR: 0.00001625  \n",
      "Epoch: [2][280/366] Elapsed 2m 25s (remain 0m 43s) Loss: 0.0828(0.1121) Grad: 143638.8125  LR: 0.00001602  \n",
      "Epoch: [2][300/366] Elapsed 2m 35s (remain 0m 33s) Loss: 0.1146(0.1119) Grad: 163529.9688  LR: 0.00001579  \n",
      "Epoch: [2][320/366] Elapsed 2m 45s (remain 0m 23s) Loss: 0.0914(0.1116) Grad: 98470.6328  LR: 0.00001556  \n",
      "Epoch: [2][340/366] Elapsed 2m 56s (remain 0m 12s) Loss: 0.1302(0.1111) Grad: 134327.0781  LR: 0.00001532  \n",
      "Epoch: [2][360/366] Elapsed 3m 6s (remain 0m 2s) Loss: 0.1096(0.1110) Grad: 164391.9062  LR: 0.00001507  \n",
      "Epoch: [2][365/366] Elapsed 3m 8s (remain 0m 0s) Loss: 0.1048(0.1108) Grad: 229875.0469  LR: 0.00001501  \n",
      "EVAL: [0/62] Elapsed 0m 0s (remain 0m 50s) Loss: 0.1443(0.1443) \n",
      "EVAL: [20/62] Elapsed 0m 14s (remain 0m 27s) Loss: 0.0821(0.1169) \n",
      "EVAL: [40/62] Elapsed 0m 27s (remain 0m 14s) Loss: 0.0906(0.1172) \n"
     ]
    },
    {
     "name": "stderr",
     "output_type": "stream",
     "text": [
      "Epoch 2 - avg_train_loss: 0.1108  avg_val_loss: 0.1174  time: 230s\n",
      "Epoch 2 - Score: 0.4864  Scores: [0.5069429459196009, 0.4650767868287212, 0.43807187132969205, 0.5104744045437004, 0.5122032071458696, 0.48546691932151587]\n",
      "Epoch 2 - Save Best Score: 0.4864 Model\n"
     ]
    },
    {
     "name": "stdout",
     "output_type": "stream",
     "text": [
      "EVAL: [60/62] Elapsed 0m 41s (remain 0m 0s) Loss: 0.1037(0.1173) \n",
      "EVAL: [61/62] Elapsed 0m 41s (remain 0m 0s) Loss: 0.1393(0.1174) \n",
      "Epoch: [3][0/366] Elapsed 0m 0s (remain 4m 35s) Loss: 0.1228(0.1228) Grad: 310561.6875  LR: 0.00001500  \n",
      "Epoch: [3][20/366] Elapsed 0m 11s (remain 3m 1s) Loss: 0.0958(0.0960) Grad: 205528.0156  LR: 0.00001475  \n",
      "Epoch: [3][40/366] Elapsed 0m 21s (remain 2m 49s) Loss: 0.1452(0.0959) Grad: 93035.3125  LR: 0.00001450  \n",
      "Epoch: [3][60/366] Elapsed 0m 31s (remain 2m 38s) Loss: 0.1345(0.0963) Grad: 330743.0312  LR: 0.00001424  \n",
      "Epoch: [3][80/366] Elapsed 0m 41s (remain 2m 27s) Loss: 0.1200(0.0950) Grad: 170845.5625  LR: 0.00001398  \n",
      "Epoch: [3][100/366] Elapsed 0m 52s (remain 2m 17s) Loss: 0.0735(0.0944) Grad: 54667.2500  LR: 0.00001372  \n",
      "Epoch: [3][120/366] Elapsed 1m 2s (remain 2m 7s) Loss: 0.1123(0.0962) Grad: 166370.3125  LR: 0.00001345  \n",
      "Epoch: [3][140/366] Elapsed 1m 13s (remain 1m 56s) Loss: 0.0830(0.0959) Grad: 286243.9062  LR: 0.00001318  \n",
      "Epoch: [3][160/366] Elapsed 1m 23s (remain 1m 46s) Loss: 0.0939(0.0961) Grad: 84395.3438  LR: 0.00001291  \n",
      "Epoch: [3][180/366] Elapsed 1m 33s (remain 1m 35s) Loss: 0.0622(0.0976) Grad: 66652.0625  LR: 0.00001263  \n",
      "Epoch: [3][200/366] Elapsed 1m 43s (remain 1m 25s) Loss: 0.0790(0.0964) Grad: 73757.1328  LR: 0.00001236  \n",
      "Epoch: [3][220/366] Elapsed 1m 54s (remain 1m 15s) Loss: 0.0904(0.0978) Grad: 112805.9062  LR: 0.00001208  \n",
      "Epoch: [3][240/366] Elapsed 2m 4s (remain 1m 4s) Loss: 0.0660(0.0974) Grad: 108264.3984  LR: 0.00001180  \n",
      "Epoch: [3][260/366] Elapsed 2m 14s (remain 0m 54s) Loss: 0.0879(0.0973) Grad: 134495.8125  LR: 0.00001152  \n",
      "Epoch: [3][280/366] Elapsed 2m 24s (remain 0m 43s) Loss: 0.0801(0.0974) Grad: 98066.8516  LR: 0.00001123  \n",
      "Epoch: [3][300/366] Elapsed 2m 34s (remain 0m 33s) Loss: 0.0747(0.0978) Grad: 84380.7656  LR: 0.00001095  \n",
      "Epoch: [3][320/366] Elapsed 2m 45s (remain 0m 23s) Loss: 0.0967(0.0973) Grad: 243088.0469  LR: 0.00001066  \n",
      "Epoch: [3][340/366] Elapsed 2m 55s (remain 0m 12s) Loss: 0.0765(0.0972) Grad: 102031.9688  LR: 0.00001038  \n",
      "Epoch: [3][360/366] Elapsed 3m 6s (remain 0m 2s) Loss: 0.1096(0.0971) Grad: 201735.9844  LR: 0.00001009  \n",
      "Epoch: [3][365/366] Elapsed 3m 8s (remain 0m 0s) Loss: 0.0826(0.0971) Grad: 82258.9844  LR: 0.00001002  \n",
      "EVAL: [0/62] Elapsed 0m 0s (remain 0m 53s) Loss: 0.1364(0.1364) \n",
      "EVAL: [20/62] Elapsed 0m 14s (remain 0m 28s) Loss: 0.1072(0.1148) \n",
      "EVAL: [40/62] Elapsed 0m 28s (remain 0m 14s) Loss: 0.1068(0.1153) \n"
     ]
    },
    {
     "name": "stderr",
     "output_type": "stream",
     "text": [
      "Epoch 3 - avg_train_loss: 0.0971  avg_val_loss: 0.1152  time: 231s\n",
      "Epoch 3 - Score: 0.4816  Scores: [0.505585143420628, 0.4591686458522537, 0.44751064296397025, 0.4862261628864082, 0.5169827610585966, 0.4741659635100835]\n",
      "Epoch 3 - Save Best Score: 0.4816 Model\n"
     ]
    },
    {
     "name": "stdout",
     "output_type": "stream",
     "text": [
      "EVAL: [60/62] Elapsed 0m 41s (remain 0m 0s) Loss: 0.1027(0.1149) \n",
      "EVAL: [61/62] Elapsed 0m 41s (remain 0m 0s) Loss: 0.2485(0.1152) \n",
      "Epoch: [4][0/366] Elapsed 0m 0s (remain 4m 34s) Loss: 0.0582(0.0582) Grad: 112126.7266  LR: 0.00001001  \n",
      "Epoch: [4][20/366] Elapsed 0m 10s (remain 2m 58s) Loss: 0.0931(0.0862) Grad: 273323.2812  LR: 0.00000972  \n",
      "Epoch: [4][40/366] Elapsed 0m 21s (remain 2m 47s) Loss: 0.1059(0.0865) Grad: 268784.5312  LR: 0.00000944  \n",
      "Epoch: [4][60/366] Elapsed 0m 31s (remain 2m 36s) Loss: 0.0837(0.0884) Grad: 259590.8125  LR: 0.00000915  \n",
      "Epoch: [4][80/366] Elapsed 0m 41s (remain 2m 26s) Loss: 0.0528(0.0872) Grad: 112189.4062  LR: 0.00000887  \n",
      "Epoch: [4][100/366] Elapsed 0m 52s (remain 2m 16s) Loss: 0.1021(0.0865) Grad: 110729.4219  LR: 0.00000858  \n",
      "Epoch: [4][120/366] Elapsed 1m 2s (remain 2m 6s) Loss: 0.1166(0.0873) Grad: 259268.7500  LR: 0.00000830  \n",
      "Epoch: [4][140/366] Elapsed 1m 12s (remain 1m 55s) Loss: 0.0866(0.0873) Grad: 135425.6875  LR: 0.00000802  \n",
      "Epoch: [4][160/366] Elapsed 1m 22s (remain 1m 45s) Loss: 0.0712(0.0868) Grad: 137751.9219  LR: 0.00000774  \n",
      "Epoch: [4][180/366] Elapsed 1m 32s (remain 1m 34s) Loss: 0.0612(0.0863) Grad: 105119.0781  LR: 0.00000746  \n",
      "Epoch: [4][200/366] Elapsed 1m 42s (remain 1m 24s) Loss: 0.0704(0.0868) Grad: 136440.7344  LR: 0.00000719  \n",
      "Epoch: [4][220/366] Elapsed 1m 53s (remain 1m 14s) Loss: 0.1305(0.0874) Grad: 328123.4375  LR: 0.00000692  \n",
      "Epoch: [4][240/366] Elapsed 2m 3s (remain 1m 4s) Loss: 0.0798(0.0868) Grad: 237465.8125  LR: 0.00000664  \n",
      "Epoch: [4][260/366] Elapsed 2m 14s (remain 0m 54s) Loss: 0.0858(0.0866) Grad: 129424.4062  LR: 0.00000638  \n",
      "Epoch: [4][280/366] Elapsed 2m 24s (remain 0m 43s) Loss: 0.0848(0.0866) Grad: 197170.8750  LR: 0.00000611  \n",
      "Epoch: [4][300/366] Elapsed 2m 34s (remain 0m 33s) Loss: 0.0768(0.0859) Grad: 192854.9531  LR: 0.00000585  \n",
      "Epoch: [4][320/366] Elapsed 2m 45s (remain 0m 23s) Loss: 0.0533(0.0856) Grad: 85106.5469  LR: 0.00000559  \n",
      "Epoch: [4][340/366] Elapsed 2m 55s (remain 0m 12s) Loss: 0.1019(0.0849) Grad: 90924.8203  LR: 0.00000534  \n",
      "Epoch: [4][360/366] Elapsed 3m 5s (remain 0m 2s) Loss: 0.1164(0.0849) Grad: 143189.4531  LR: 0.00000509  \n",
      "Epoch: [4][365/366] Elapsed 3m 8s (remain 0m 0s) Loss: 0.0577(0.0849) Grad: 70968.6484  LR: 0.00000502  \n",
      "EVAL: [0/62] Elapsed 0m 0s (remain 0m 53s) Loss: 0.1324(0.1324) \n",
      "EVAL: [20/62] Elapsed 0m 14s (remain 0m 28s) Loss: 0.1003(0.1126) \n",
      "EVAL: [40/62] Elapsed 0m 28s (remain 0m 14s) Loss: 0.1074(0.1130) \n",
      "EVAL: [60/62] Elapsed 0m 41s (remain 0m 0s) Loss: 0.1031(0.1125) \n",
      "EVAL: [61/62] Elapsed 0m 41s (remain 0m 0s) Loss: 0.1867(0.1127) \n"
     ]
    },
    {
     "name": "stderr",
     "output_type": "stream",
     "text": [
      "Epoch 4 - avg_train_loss: 0.0849  avg_val_loss: 0.1127  time: 231s\n",
      "Epoch 4 - Score: 0.4760  Scores: [0.49993753284547277, 0.45277844144857826, 0.4320101518383725, 0.47482826047325144, 0.5170119959565059, 0.4796412602338254]\n",
      "Epoch 4 - Save Best Score: 0.4760 Model\n"
     ]
    },
    {
     "name": "stdout",
     "output_type": "stream",
     "text": [
      "Epoch: [5][0/366] Elapsed 0m 0s (remain 4m 40s) Loss: 0.0633(0.0633) Grad: 78257.8438  LR: 0.00000501  \n",
      "Epoch: [5][20/366] Elapsed 0m 10s (remain 2m 59s) Loss: 0.0918(0.0727) Grad: 152761.1562  LR: 0.00000477  \n",
      "Epoch: [5][40/366] Elapsed 0m 21s (remain 2m 48s) Loss: 0.0655(0.0713) Grad: 78381.8672  LR: 0.00000453  \n",
      "Epoch: [5][60/366] Elapsed 0m 31s (remain 2m 38s) Loss: 0.0931(0.0742) Grad: 236298.6562  LR: 0.00000429  \n",
      "Epoch: [5][80/366] Elapsed 0m 42s (remain 2m 28s) Loss: 0.0450(0.0737) Grad: 54131.7344  LR: 0.00000406  \n",
      "Epoch: [5][100/366] Elapsed 0m 52s (remain 2m 17s) Loss: 0.0410(0.0741) Grad: 73694.2500  LR: 0.00000383  \n",
      "Epoch: [5][120/366] Elapsed 1m 2s (remain 2m 7s) Loss: 0.0667(0.0735) Grad: 89887.4688  LR: 0.00000361  \n",
      "Epoch: [5][140/366] Elapsed 1m 13s (remain 1m 56s) Loss: 0.1016(0.0739) Grad: 236089.2969  LR: 0.00000339  \n",
      "Epoch: [5][160/366] Elapsed 1m 23s (remain 1m 46s) Loss: 0.0504(0.0752) Grad: 80520.8516  LR: 0.00000318  \n",
      "Epoch: [5][180/366] Elapsed 1m 33s (remain 1m 35s) Loss: 0.0898(0.0760) Grad: 225957.6562  LR: 0.00000297  \n",
      "Epoch: [5][200/366] Elapsed 1m 43s (remain 1m 25s) Loss: 0.0696(0.0761) Grad: 240971.0000  LR: 0.00000277  \n",
      "Epoch: [5][220/366] Elapsed 1m 54s (remain 1m 14s) Loss: 0.0683(0.0762) Grad: 167642.1875  LR: 0.00000258  \n",
      "Epoch: [5][240/366] Elapsed 2m 4s (remain 1m 4s) Loss: 0.0487(0.0760) Grad: 82213.6953  LR: 0.00000239  \n",
      "Epoch: [5][260/366] Elapsed 2m 15s (remain 0m 54s) Loss: 0.0733(0.0757) Grad: 179141.3906  LR: 0.00000221  \n",
      "Epoch: [5][280/366] Elapsed 2m 25s (remain 0m 44s) Loss: 0.0653(0.0756) Grad: 105251.1797  LR: 0.00000203  \n",
      "Epoch: [5][300/366] Elapsed 2m 35s (remain 0m 33s) Loss: 0.0795(0.0754) Grad: 119924.5391  LR: 0.00000186  \n",
      "Epoch: [5][320/366] Elapsed 2m 46s (remain 0m 23s) Loss: 0.0936(0.0754) Grad: 142870.2656  LR: 0.00000170  \n",
      "Epoch: [5][340/366] Elapsed 2m 56s (remain 0m 12s) Loss: 0.0673(0.0750) Grad: 57777.9570  LR: 0.00000154  \n",
      "Epoch: [5][360/366] Elapsed 3m 7s (remain 0m 2s) Loss: 0.1089(0.0747) Grad: 124567.4844  LR: 0.00000139  \n",
      "Epoch: [5][365/366] Elapsed 3m 9s (remain 0m 0s) Loss: 0.0548(0.0746) Grad: 154938.2969  LR: 0.00000136  \n",
      "EVAL: [0/62] Elapsed 0m 0s (remain 0m 52s) Loss: 0.1296(0.1296) \n",
      "EVAL: [20/62] Elapsed 0m 14s (remain 0m 28s) Loss: 0.0950(0.1119) \n",
      "EVAL: [40/62] Elapsed 0m 27s (remain 0m 14s) Loss: 0.1003(0.1121) \n"
     ]
    },
    {
     "name": "stderr",
     "output_type": "stream",
     "text": [
      "Epoch 5 - avg_train_loss: 0.0746  avg_val_loss: 0.1114  time: 232s\n",
      "Epoch 5 - Score: 0.4737  Scores: [0.4982786660613375, 0.4539335083016952, 0.4343617479593867, 0.47664664050911404, 0.5051327977354623, 0.4737169752017497]\n",
      "Epoch 5 - Save Best Score: 0.4737 Model\n"
     ]
    },
    {
     "name": "stdout",
     "output_type": "stream",
     "text": [
      "EVAL: [60/62] Elapsed 0m 41s (remain 0m 0s) Loss: 0.1011(0.1113) \n",
      "EVAL: [61/62] Elapsed 0m 41s (remain 0m 0s) Loss: 0.1644(0.1114) \n",
      "Epoch: [6][0/366] Elapsed 0m 0s (remain 5m 55s) Loss: 0.0558(0.0558) Grad: 70899.6562  LR: 0.00000135  \n",
      "Epoch: [6][20/366] Elapsed 0m 11s (remain 3m 4s) Loss: 0.0583(0.0726) Grad: 64617.6055  LR: 0.00000121  \n",
      "Epoch: [6][40/366] Elapsed 0m 21s (remain 2m 50s) Loss: 0.0751(0.0703) Grad: 88798.8125  LR: 0.00000108  \n",
      "Epoch: [6][60/366] Elapsed 0m 31s (remain 2m 39s) Loss: 0.0617(0.0698) Grad: 87764.9375  LR: 0.00000095  \n",
      "Epoch: [6][80/366] Elapsed 0m 42s (remain 2m 29s) Loss: 0.0617(0.0703) Grad: 182332.1250  LR: 0.00000083  \n",
      "Epoch: [6][100/366] Elapsed 0m 52s (remain 2m 18s) Loss: 0.0592(0.0706) Grad: 71615.9844  LR: 0.00000072  \n",
      "Epoch: [6][120/366] Elapsed 1m 3s (remain 2m 8s) Loss: 0.0487(0.0700) Grad: 129842.7812  LR: 0.00000062  \n",
      "Epoch: [6][140/366] Elapsed 1m 13s (remain 1m 57s) Loss: 0.0596(0.0698) Grad: 96372.9219  LR: 0.00000053  \n",
      "Epoch: [6][160/366] Elapsed 1m 23s (remain 1m 46s) Loss: 0.1064(0.0693) Grad: 120354.0156  LR: 0.00000044  \n",
      "Epoch: [6][180/366] Elapsed 1m 33s (remain 1m 35s) Loss: 0.0601(0.0695) Grad: 86673.2578  LR: 0.00000036  \n",
      "Epoch: [6][200/366] Elapsed 1m 44s (remain 1m 25s) Loss: 0.0576(0.0691) Grad: 94206.6562  LR: 0.00000029  \n",
      "Epoch: [6][220/366] Elapsed 1m 54s (remain 1m 15s) Loss: 0.0620(0.0692) Grad: 143866.7969  LR: 0.00000022  \n",
      "Epoch: [6][240/366] Elapsed 2m 5s (remain 1m 4s) Loss: 0.0749(0.0698) Grad: 79705.4453  LR: 0.00000017  \n",
      "Epoch: [6][260/366] Elapsed 2m 15s (remain 0m 54s) Loss: 0.0585(0.0696) Grad: 75063.9141  LR: 0.00000012  \n",
      "Epoch: [6][280/366] Elapsed 2m 25s (remain 0m 44s) Loss: 0.0777(0.0693) Grad: 120308.2109  LR: 0.00000008  \n",
      "Epoch: [6][300/366] Elapsed 2m 36s (remain 0m 33s) Loss: 0.0569(0.0693) Grad: 102632.2500  LR: 0.00000005  \n",
      "Epoch: [6][320/366] Elapsed 2m 46s (remain 0m 23s) Loss: 0.0586(0.0691) Grad: 108967.1406  LR: 0.00000002  \n",
      "Epoch: [6][340/366] Elapsed 2m 56s (remain 0m 12s) Loss: 0.1424(0.0692) Grad: 104387.1094  LR: 0.00000001  \n",
      "Epoch: [6][360/366] Elapsed 3m 7s (remain 0m 2s) Loss: 0.0954(0.0690) Grad: 112721.9922  LR: 0.00000000  \n",
      "Epoch: [6][365/366] Elapsed 3m 9s (remain 0m 0s) Loss: 0.0678(0.0689) Grad: 80257.6094  LR: 0.00000000  \n",
      "EVAL: [0/62] Elapsed 0m 0s (remain 0m 53s) Loss: 0.1288(0.1288) \n",
      "EVAL: [20/62] Elapsed 0m 14s (remain 0m 28s) Loss: 0.0974(0.1125) \n",
      "EVAL: [40/62] Elapsed 0m 27s (remain 0m 14s) Loss: 0.1020(0.1123) \n"
     ]
    },
    {
     "name": "stderr",
     "output_type": "stream",
     "text": [
      "Epoch 6 - avg_train_loss: 0.0689  avg_val_loss: 0.1117  time: 231s\n",
      "Epoch 6 - Score: 0.4743  Scores: [0.49823097785586146, 0.4548529098585769, 0.43489311099805955, 0.4773670239702987, 0.5062156410999842, 0.4740368637059368]\n"
     ]
    },
    {
     "name": "stdout",
     "output_type": "stream",
     "text": [
      "EVAL: [60/62] Elapsed 0m 41s (remain 0m 0s) Loss: 0.1015(0.1116) \n",
      "EVAL: [61/62] Elapsed 0m 41s (remain 0m 0s) Loss: 0.1685(0.1117) \n"
     ]
    },
    {
     "name": "stderr",
     "output_type": "stream",
     "text": [
      "========== fold: 2 result ==========\n",
      "Score: 0.4737  Scores: [0.4982786660613375, 0.4539335083016952, 0.4343617479593867, 0.47664664050911404, 0.5051327977354623, 0.4737169752017497]\n",
      "========== fold: 3 training ==========\n",
      "BigBirdConfig {\n",
      "  \"_name_or_path\": \"/home/jupyter/models/bigbird/roberta-base/\",\n",
      "  \"architectures\": [\n",
      "    \"BigBirdForPreTraining\"\n",
      "  ],\n",
      "  \"attention_dropout\": 0.0,\n",
      "  \"attention_probs_dropout_prob\": 0.0,\n",
      "  \"attention_type\": \"block_sparse\",\n",
      "  \"block_size\": 64,\n",
      "  \"bos_token_id\": 1,\n",
      "  \"classifier_dropout\": null,\n",
      "  \"eos_token_id\": 2,\n",
      "  \"gradient_checkpointing\": false,\n",
      "  \"hidden_act\": \"gelu_fast\",\n",
      "  \"hidden_dropout\": 0.0,\n",
      "  \"hidden_dropout_prob\": 0.0,\n",
      "  \"hidden_size\": 768,\n",
      "  \"initializer_range\": 0.02,\n",
      "  \"intermediate_size\": 3072,\n",
      "  \"layer_norm_eps\": 1e-12,\n",
      "  \"max_position_embeddings\": 4096,\n",
      "  \"model_type\": \"big_bird\",\n",
      "  \"num_attention_heads\": 12,\n",
      "  \"num_hidden_layers\": 12,\n",
      "  \"num_random_blocks\": 3,\n",
      "  \"output_hidden_states\": true,\n",
      "  \"pad_token_id\": 0,\n",
      "  \"position_embedding_type\": \"absolute\",\n",
      "  \"rescale_embeddings\": false,\n",
      "  \"sep_token_id\": 66,\n",
      "  \"transformers_version\": \"4.21.2\",\n",
      "  \"type_vocab_size\": 2,\n",
      "  \"use_bias\": true,\n",
      "  \"use_cache\": true,\n",
      "  \"vocab_size\": 50358\n",
      "}\n",
      "\n",
      "Some weights of the model checkpoint at /home/jupyter/models/bigbird/roberta-base/ were not used when initializing BigBirdModel: ['cls.predictions.transform.dense.weight', 'cls.predictions.transform.LayerNorm.weight', 'cls.seq_relationship.bias', 'cls.predictions.decoder.bias', 'cls.predictions.bias', 'cls.predictions.transform.dense.bias', 'cls.predictions.decoder.weight', 'cls.seq_relationship.weight', 'cls.predictions.transform.LayerNorm.bias']\n",
      "- This IS expected if you are initializing BigBirdModel from the checkpoint of a model trained on another task or with another architecture (e.g. initializing a BertForSequenceClassification model from a BertForPreTraining model).\n",
      "- This IS NOT expected if you are initializing BigBirdModel from the checkpoint of a model that you expect to be exactly identical (initializing a BertForSequenceClassification model from a BertForSequenceClassification model).\n",
      "Attention type 'block_sparse' is not possible if sequence_length: 512 <= num global tokens: 2 * config.block_size + min. num sliding tokens: 3 * config.block_size + config.num_random_blocks * config.block_size + additional buffer: config.num_random_blocks * config.block_size = 704 with config.block_size = 64, config.num_random_blocks = 3. Changing attention type to 'original_full'...\n"
     ]
    },
    {
     "name": "stdout",
     "output_type": "stream",
     "text": [
      "Epoch: [1][0/366] Elapsed 0m 0s (remain 5m 55s) Loss: 2.7120(2.7120) Grad: 271167.0000  LR: 0.00002000  \n",
      "Epoch: [1][20/366] Elapsed 0m 11s (remain 3m 7s) Loss: 0.7184(1.5396) Grad: 249988.4844  LR: 0.00002000  \n",
      "Epoch: [1][40/366] Elapsed 0m 21s (remain 2m 51s) Loss: 0.1465(0.9040) Grad: 95684.1797  LR: 0.00001998  \n",
      "Epoch: [1][60/366] Elapsed 0m 32s (remain 2m 40s) Loss: 0.1051(0.6672) Grad: 289115.1250  LR: 0.00001996  \n",
      "Epoch: [1][80/366] Elapsed 0m 42s (remain 2m 29s) Loss: 0.1357(0.5435) Grad: 177581.2969  LR: 0.00001993  \n",
      "Epoch: [1][100/366] Elapsed 0m 52s (remain 2m 18s) Loss: 0.1540(0.4679) Grad: 137846.6250  LR: 0.00001990  \n",
      "Epoch: [1][120/366] Elapsed 1m 3s (remain 2m 7s) Loss: 0.1189(0.4142) Grad: 66728.3750  LR: 0.00001985  \n",
      "Epoch: [1][140/366] Elapsed 1m 13s (remain 1m 57s) Loss: 0.1328(0.3738) Grad: 231321.8750  LR: 0.00001980  \n",
      "Epoch: [1][160/366] Elapsed 1m 23s (remain 1m 46s) Loss: 0.1285(0.3481) Grad: 62417.2344  LR: 0.00001974  \n",
      "Epoch: [1][180/366] Elapsed 1m 34s (remain 1m 36s) Loss: 0.1609(0.3236) Grad: 72370.1875  LR: 0.00001967  \n",
      "Epoch: [1][200/366] Elapsed 1m 44s (remain 1m 25s) Loss: 0.1993(0.3074) Grad: 178629.6562  LR: 0.00001959  \n",
      "Epoch: [1][220/366] Elapsed 1m 54s (remain 1m 15s) Loss: 0.1790(0.2925) Grad: 59507.9414  LR: 0.00001951  \n",
      "Epoch: [1][240/366] Elapsed 2m 4s (remain 1m 4s) Loss: 0.1265(0.2795) Grad: 34225.4102  LR: 0.00001941  \n",
      "Epoch: [1][260/366] Elapsed 2m 15s (remain 0m 54s) Loss: 0.1265(0.2691) Grad: 72219.8984  LR: 0.00001931  \n",
      "Epoch: [1][280/366] Elapsed 2m 25s (remain 0m 44s) Loss: 0.0985(0.2588) Grad: 51443.6914  LR: 0.00001920  \n",
      "Epoch: [1][300/366] Elapsed 2m 35s (remain 0m 33s) Loss: 0.1527(0.2499) Grad: 111370.0234  LR: 0.00001909  \n",
      "Epoch: [1][320/366] Elapsed 2m 46s (remain 0m 23s) Loss: 0.1470(0.2430) Grad: 67962.1016  LR: 0.00001897  \n",
      "Epoch: [1][340/366] Elapsed 2m 56s (remain 0m 12s) Loss: 0.1957(0.2368) Grad: 89977.0391  LR: 0.00001884  \n",
      "Epoch: [1][360/366] Elapsed 3m 7s (remain 0m 2s) Loss: 0.0908(0.2307) Grad: 60750.6562  LR: 0.00001870  \n",
      "Epoch: [1][365/366] Elapsed 3m 9s (remain 0m 0s) Loss: 0.1274(0.2292) Grad: 78998.1797  LR: 0.00001866  \n",
      "EVAL: [0/62] Elapsed 0m 0s (remain 0m 53s) Loss: 0.1364(0.1364) \n",
      "EVAL: [20/62] Elapsed 0m 14s (remain 0m 28s) Loss: 0.1000(0.1256) \n",
      "EVAL: [40/62] Elapsed 0m 28s (remain 0m 14s) Loss: 0.1154(0.1243) \n"
     ]
    },
    {
     "name": "stderr",
     "output_type": "stream",
     "text": [
      "Epoch 1 - avg_train_loss: 0.2292  avg_val_loss: 0.1217  time: 231s\n",
      "Epoch 1 - Score: 0.4960  Scores: [0.5511739705206518, 0.47915396700041535, 0.46433298547282903, 0.4983970829230027, 0.5160031672530674, 0.46715252915264394]\n",
      "Epoch 1 - Save Best Score: 0.4960 Model\n"
     ]
    },
    {
     "name": "stdout",
     "output_type": "stream",
     "text": [
      "EVAL: [60/62] Elapsed 0m 41s (remain 0m 0s) Loss: 0.1085(0.1218) \n",
      "EVAL: [61/62] Elapsed 0m 41s (remain 0m 0s) Loss: 0.0542(0.1217) \n",
      "Epoch: [2][0/366] Elapsed 0m 0s (remain 4m 2s) Loss: 0.0932(0.0932) Grad: 130357.7422  LR: 0.00001866  \n",
      "Epoch: [2][20/366] Elapsed 0m 10s (remain 2m 59s) Loss: 0.1661(0.1235) Grad: 366618.5938  LR: 0.00001851  \n",
      "Epoch: [2][40/366] Elapsed 0m 21s (remain 2m 49s) Loss: 0.1098(0.1200) Grad: 207513.2656  LR: 0.00001836  \n",
      "Epoch: [2][60/366] Elapsed 0m 31s (remain 2m 38s) Loss: 0.0579(0.1158) Grad: 86757.3984  LR: 0.00001820  \n",
      "Epoch: [2][80/366] Elapsed 0m 41s (remain 2m 27s) Loss: 0.1017(0.1113) Grad: 105234.4219  LR: 0.00001803  \n",
      "Epoch: [2][100/366] Elapsed 0m 52s (remain 2m 16s) Loss: 0.0726(0.1105) Grad: 107290.6719  LR: 0.00001786  \n",
      "Epoch: [2][120/366] Elapsed 1m 2s (remain 2m 6s) Loss: 0.1571(0.1099) Grad: 85326.7422  LR: 0.00001768  \n",
      "Epoch: [2][140/366] Elapsed 1m 12s (remain 1m 56s) Loss: 0.1313(0.1098) Grad: 198279.0625  LR: 0.00001749  \n",
      "Epoch: [2][160/366] Elapsed 1m 23s (remain 1m 46s) Loss: 0.0624(0.1085) Grad: 146104.6719  LR: 0.00001730  \n",
      "Epoch: [2][180/366] Elapsed 1m 33s (remain 1m 35s) Loss: 0.1127(0.1084) Grad: 93889.3984  LR: 0.00001710  \n",
      "Epoch: [2][200/366] Elapsed 1m 43s (remain 1m 25s) Loss: 0.1358(0.1080) Grad: 164317.7031  LR: 0.00001689  \n",
      "Epoch: [2][220/366] Elapsed 1m 54s (remain 1m 14s) Loss: 0.1045(0.1077) Grad: 149447.3281  LR: 0.00001668  \n",
      "Epoch: [2][240/366] Elapsed 2m 4s (remain 1m 4s) Loss: 0.1234(0.1089) Grad: 92391.1250  LR: 0.00001647  \n",
      "Epoch: [2][260/366] Elapsed 2m 14s (remain 0m 54s) Loss: 0.1144(0.1086) Grad: 127523.7812  LR: 0.00001625  \n",
      "Epoch: [2][280/366] Elapsed 2m 25s (remain 0m 43s) Loss: 0.0957(0.1085) Grad: 143526.4062  LR: 0.00001602  \n",
      "Epoch: [2][300/366] Elapsed 2m 35s (remain 0m 33s) Loss: 0.0985(0.1083) Grad: 86757.1406  LR: 0.00001579  \n",
      "Epoch: [2][320/366] Elapsed 2m 45s (remain 0m 23s) Loss: 0.1037(0.1089) Grad: 178792.0156  LR: 0.00001556  \n",
      "Epoch: [2][340/366] Elapsed 2m 56s (remain 0m 12s) Loss: 0.1343(0.1088) Grad: 102730.9375  LR: 0.00001532  \n",
      "Epoch: [2][360/366] Elapsed 3m 6s (remain 0m 2s) Loss: 0.1480(0.1091) Grad: 141695.1250  LR: 0.00001507  \n",
      "Epoch: [2][365/366] Elapsed 3m 9s (remain 0m 0s) Loss: 0.1249(0.1091) Grad: 133922.2812  LR: 0.00001501  \n",
      "EVAL: [0/62] Elapsed 0m 0s (remain 0m 52s) Loss: 0.1344(0.1344) \n",
      "EVAL: [20/62] Elapsed 0m 14s (remain 0m 28s) Loss: 0.0834(0.1160) \n",
      "EVAL: [40/62] Elapsed 0m 27s (remain 0m 14s) Loss: 0.1136(0.1135) \n"
     ]
    },
    {
     "name": "stderr",
     "output_type": "stream",
     "text": [
      "Epoch 2 - avg_train_loss: 0.1091  avg_val_loss: 0.1125  time: 230s\n",
      "Epoch 2 - Score: 0.4764  Scores: [0.5026825115483574, 0.4597338676053483, 0.4423845834907143, 0.49285534183358815, 0.4950691754771759, 0.465447014953474]\n",
      "Epoch 2 - Save Best Score: 0.4764 Model\n"
     ]
    },
    {
     "name": "stdout",
     "output_type": "stream",
     "text": [
      "EVAL: [60/62] Elapsed 0m 41s (remain 0m 0s) Loss: 0.0886(0.1126) \n",
      "EVAL: [61/62] Elapsed 0m 41s (remain 0m 0s) Loss: 0.0423(0.1125) \n",
      "Epoch: [3][0/366] Elapsed 0m 0s (remain 4m 42s) Loss: 0.0791(0.0791) Grad: 114222.9141  LR: 0.00001500  \n",
      "Epoch: [3][20/366] Elapsed 0m 10s (remain 2m 57s) Loss: 0.1205(0.1005) Grad: 219609.1094  LR: 0.00001475  \n",
      "Epoch: [3][40/366] Elapsed 0m 21s (remain 2m 48s) Loss: 0.1271(0.0998) Grad: 138103.5312  LR: 0.00001450  \n",
      "Epoch: [3][60/366] Elapsed 0m 31s (remain 2m 38s) Loss: 0.0865(0.0966) Grad: 168094.2969  LR: 0.00001424  \n",
      "Epoch: [3][80/366] Elapsed 0m 42s (remain 2m 28s) Loss: 0.1840(0.0994) Grad: 191069.7812  LR: 0.00001398  \n",
      "Epoch: [3][100/366] Elapsed 0m 52s (remain 2m 18s) Loss: 0.0861(0.0984) Grad: 132254.1875  LR: 0.00001372  \n",
      "Epoch: [3][120/366] Elapsed 1m 2s (remain 2m 7s) Loss: 0.1724(0.0968) Grad: 384177.2188  LR: 0.00001345  \n",
      "Epoch: [3][140/366] Elapsed 1m 13s (remain 1m 56s) Loss: 0.0648(0.0978) Grad: 145972.1406  LR: 0.00001318  \n",
      "Epoch: [3][160/366] Elapsed 1m 23s (remain 1m 46s) Loss: 0.0600(0.0970) Grad: 70604.4609  LR: 0.00001291  \n",
      "Epoch: [3][180/366] Elapsed 1m 33s (remain 1m 35s) Loss: 0.1067(0.0970) Grad: 134454.3125  LR: 0.00001263  \n",
      "Epoch: [3][200/366] Elapsed 1m 44s (remain 1m 25s) Loss: 0.1423(0.0967) Grad: 209118.1250  LR: 0.00001236  \n",
      "Epoch: [3][220/366] Elapsed 1m 54s (remain 1m 15s) Loss: 0.1968(0.0962) Grad: 266179.4375  LR: 0.00001208  \n",
      "Epoch: [3][240/366] Elapsed 2m 4s (remain 1m 4s) Loss: 0.0966(0.0966) Grad: 184143.2969  LR: 0.00001180  \n",
      "Epoch: [3][260/366] Elapsed 2m 14s (remain 0m 54s) Loss: 0.0871(0.0963) Grad: 103593.9219  LR: 0.00001152  \n",
      "Epoch: [3][280/366] Elapsed 2m 25s (remain 0m 43s) Loss: 0.1014(0.0959) Grad: 193370.6875  LR: 0.00001123  \n",
      "Epoch: [3][300/366] Elapsed 2m 35s (remain 0m 33s) Loss: 0.0873(0.0962) Grad: 135650.6250  LR: 0.00001095  \n",
      "Epoch: [3][320/366] Elapsed 2m 46s (remain 0m 23s) Loss: 0.0872(0.0965) Grad: 155129.3906  LR: 0.00001066  \n",
      "Epoch: [3][340/366] Elapsed 2m 56s (remain 0m 12s) Loss: 0.0867(0.0970) Grad: 143807.3438  LR: 0.00001038  \n",
      "Epoch: [3][360/366] Elapsed 3m 6s (remain 0m 2s) Loss: 0.1446(0.0966) Grad: 164157.2812  LR: 0.00001009  \n",
      "Epoch: [3][365/366] Elapsed 3m 9s (remain 0m 0s) Loss: 0.1236(0.0966) Grad: 115704.1250  LR: 0.00001002  \n",
      "EVAL: [0/62] Elapsed 0m 0s (remain 0m 52s) Loss: 0.0996(0.0996) \n",
      "EVAL: [20/62] Elapsed 0m 14s (remain 0m 28s) Loss: 0.0844(0.1091) \n",
      "EVAL: [40/62] Elapsed 0m 27s (remain 0m 14s) Loss: 0.1287(0.1088) \n"
     ]
    },
    {
     "name": "stderr",
     "output_type": "stream",
     "text": [
      "Epoch 3 - avg_train_loss: 0.0966  avg_val_loss: 0.1087  time: 231s\n",
      "Epoch 3 - Score: 0.4681  Scores: [0.5023355072815818, 0.4571204669081448, 0.43191989953082227, 0.46316521583915443, 0.498101360984715, 0.45579598695291]\n",
      "Epoch 3 - Save Best Score: 0.4681 Model\n"
     ]
    },
    {
     "name": "stdout",
     "output_type": "stream",
     "text": [
      "EVAL: [60/62] Elapsed 0m 41s (remain 0m 0s) Loss: 0.0872(0.1088) \n",
      "EVAL: [61/62] Elapsed 0m 41s (remain 0m 0s) Loss: 0.0469(0.1087) \n",
      "Epoch: [4][0/366] Elapsed 0m 0s (remain 4m 43s) Loss: 0.0670(0.0670) Grad: 62336.7930  LR: 0.00001001  \n",
      "Epoch: [4][20/366] Elapsed 0m 11s (remain 3m 0s) Loss: 0.0868(0.0879) Grad: 95029.6797  LR: 0.00000972  \n",
      "Epoch: [4][40/366] Elapsed 0m 21s (remain 2m 49s) Loss: 0.1159(0.0875) Grad: 152681.0156  LR: 0.00000944  \n",
      "Epoch: [4][60/366] Elapsed 0m 32s (remain 2m 40s) Loss: 0.0725(0.0861) Grad: 103157.8984  LR: 0.00000915  \n",
      "Epoch: [4][80/366] Elapsed 0m 42s (remain 2m 29s) Loss: 0.0700(0.0851) Grad: 123037.3750  LR: 0.00000887  \n",
      "Epoch: [4][100/366] Elapsed 0m 52s (remain 2m 18s) Loss: 0.0644(0.0848) Grad: 106020.5000  LR: 0.00000858  \n",
      "Epoch: [4][120/366] Elapsed 1m 3s (remain 2m 7s) Loss: 0.0604(0.0852) Grad: 120582.2031  LR: 0.00000830  \n",
      "Epoch: [4][140/366] Elapsed 1m 13s (remain 1m 57s) Loss: 0.0700(0.0868) Grad: 191072.5469  LR: 0.00000802  \n",
      "Epoch: [4][160/366] Elapsed 1m 23s (remain 1m 46s) Loss: 0.0669(0.0873) Grad: 114100.1875  LR: 0.00000774  \n",
      "Epoch: [4][180/366] Elapsed 1m 34s (remain 1m 36s) Loss: 0.0710(0.0863) Grad: 153630.3750  LR: 0.00000746  \n",
      "Epoch: [4][200/366] Elapsed 1m 44s (remain 1m 25s) Loss: 0.0795(0.0859) Grad: 113237.3750  LR: 0.00000719  \n",
      "Epoch: [4][220/366] Elapsed 1m 54s (remain 1m 15s) Loss: 0.0581(0.0854) Grad: 78037.2344  LR: 0.00000692  \n",
      "Epoch: [4][240/366] Elapsed 2m 4s (remain 1m 4s) Loss: 0.0762(0.0850) Grad: 95575.2812  LR: 0.00000664  \n",
      "Epoch: [4][260/366] Elapsed 2m 15s (remain 0m 54s) Loss: 0.0872(0.0850) Grad: 99950.7734  LR: 0.00000638  \n",
      "Epoch: [4][280/366] Elapsed 2m 25s (remain 0m 44s) Loss: 0.0634(0.0849) Grad: 101325.2109  LR: 0.00000611  \n",
      "Epoch: [4][300/366] Elapsed 2m 36s (remain 0m 33s) Loss: 0.1308(0.0850) Grad: 195789.3438  LR: 0.00000585  \n",
      "Epoch: [4][320/366] Elapsed 2m 46s (remain 0m 23s) Loss: 0.0768(0.0850) Grad: 121986.8125  LR: 0.00000559  \n",
      "Epoch: [4][340/366] Elapsed 2m 56s (remain 0m 12s) Loss: 0.0892(0.0848) Grad: 137911.7969  LR: 0.00000534  \n",
      "Epoch: [4][360/366] Elapsed 3m 7s (remain 0m 2s) Loss: 0.0713(0.0845) Grad: 77880.0781  LR: 0.00000509  \n",
      "Epoch: [4][365/366] Elapsed 3m 9s (remain 0m 0s) Loss: 0.0895(0.0844) Grad: 231102.0781  LR: 0.00000502  \n",
      "EVAL: [0/62] Elapsed 0m 0s (remain 0m 51s) Loss: 0.1163(0.1163) \n",
      "EVAL: [20/62] Elapsed 0m 14s (remain 0m 28s) Loss: 0.0778(0.1140) \n",
      "EVAL: [40/62] Elapsed 0m 27s (remain 0m 14s) Loss: 0.1388(0.1129) \n"
     ]
    },
    {
     "name": "stderr",
     "output_type": "stream",
     "text": [
      "Epoch 4 - avg_train_loss: 0.0844  avg_val_loss: 0.1126  time: 231s\n",
      "Epoch 4 - Score: 0.4766  Scores: [0.5184812845414281, 0.46897728668363353, 0.4469388970240243, 0.46218513531280625, 0.49549667305525863, 0.467750692838274]\n"
     ]
    },
    {
     "name": "stdout",
     "output_type": "stream",
     "text": [
      "EVAL: [60/62] Elapsed 0m 41s (remain 0m 0s) Loss: 0.0954(0.1127) \n",
      "EVAL: [61/62] Elapsed 0m 41s (remain 0m 0s) Loss: 0.0342(0.1126) \n",
      "Epoch: [5][0/366] Elapsed 0m 0s (remain 4m 16s) Loss: 0.0802(0.0802) Grad: 119963.0469  LR: 0.00000501  \n",
      "Epoch: [5][20/366] Elapsed 0m 10s (remain 2m 59s) Loss: 0.0612(0.0692) Grad: 86301.6719  LR: 0.00000477  \n",
      "Epoch: [5][40/366] Elapsed 0m 21s (remain 2m 48s) Loss: 0.0678(0.0684) Grad: 102920.9609  LR: 0.00000453  \n",
      "Epoch: [5][60/366] Elapsed 0m 31s (remain 2m 37s) Loss: 0.1002(0.0715) Grad: 272453.4062  LR: 0.00000429  \n",
      "Epoch: [5][80/366] Elapsed 0m 41s (remain 2m 27s) Loss: 0.0575(0.0728) Grad: 66237.0703  LR: 0.00000406  \n",
      "Epoch: [5][100/366] Elapsed 0m 52s (remain 2m 16s) Loss: 0.0707(0.0724) Grad: 78668.2344  LR: 0.00000383  \n",
      "Epoch: [5][120/366] Elapsed 1m 2s (remain 2m 6s) Loss: 0.1535(0.0722) Grad: 127378.5312  LR: 0.00000361  \n",
      "Epoch: [5][140/366] Elapsed 1m 12s (remain 1m 56s) Loss: 0.0947(0.0729) Grad: 133761.3906  LR: 0.00000339  \n",
      "Epoch: [5][160/366] Elapsed 1m 22s (remain 1m 45s) Loss: 0.0998(0.0726) Grad: 108225.9453  LR: 0.00000318  \n",
      "Epoch: [5][180/366] Elapsed 1m 33s (remain 1m 35s) Loss: 0.0752(0.0725) Grad: 84508.8047  LR: 0.00000297  \n",
      "Epoch: [5][200/366] Elapsed 1m 43s (remain 1m 25s) Loss: 0.0532(0.0727) Grad: 102329.1953  LR: 0.00000277  \n",
      "Epoch: [5][220/366] Elapsed 1m 54s (remain 1m 14s) Loss: 0.0886(0.0736) Grad: 88915.8672  LR: 0.00000258  \n",
      "Epoch: [5][240/366] Elapsed 2m 4s (remain 1m 4s) Loss: 0.0959(0.0741) Grad: 131809.4688  LR: 0.00000239  \n",
      "Epoch: [5][260/366] Elapsed 2m 14s (remain 0m 54s) Loss: 0.0843(0.0746) Grad: 127135.4375  LR: 0.00000221  \n",
      "Epoch: [5][280/366] Elapsed 2m 25s (remain 0m 43s) Loss: 0.0765(0.0747) Grad: 147340.9531  LR: 0.00000203  \n",
      "Epoch: [5][300/366] Elapsed 2m 35s (remain 0m 33s) Loss: 0.0572(0.0747) Grad: 88814.5547  LR: 0.00000186  \n",
      "Epoch: [5][320/366] Elapsed 2m 45s (remain 0m 23s) Loss: 0.0834(0.0747) Grad: 113838.4609  LR: 0.00000170  \n",
      "Epoch: [5][340/366] Elapsed 2m 56s (remain 0m 12s) Loss: 0.0721(0.0745) Grad: 94751.8203  LR: 0.00000154  \n",
      "Epoch: [5][360/366] Elapsed 3m 6s (remain 0m 2s) Loss: 0.0682(0.0744) Grad: 134402.0625  LR: 0.00000139  \n",
      "Epoch: [5][365/366] Elapsed 3m 9s (remain 0m 0s) Loss: 0.0776(0.0745) Grad: 153016.8594  LR: 0.00000136  \n",
      "EVAL: [0/62] Elapsed 0m 0s (remain 0m 52s) Loss: 0.1012(0.1012) \n",
      "EVAL: [20/62] Elapsed 0m 14s (remain 0m 28s) Loss: 0.0858(0.1089) \n",
      "EVAL: [40/62] Elapsed 0m 28s (remain 0m 14s) Loss: 0.1330(0.1088) \n"
     ]
    },
    {
     "name": "stderr",
     "output_type": "stream",
     "text": [
      "Epoch 5 - avg_train_loss: 0.0745  avg_val_loss: 0.1088  time: 231s\n",
      "Epoch 5 - Score: 0.4682  Scores: [0.5016879347774976, 0.46074716597051624, 0.4279185329896258, 0.46040155487197165, 0.49649022492886136, 0.4621493605000497]\n"
     ]
    },
    {
     "name": "stdout",
     "output_type": "stream",
     "text": [
      "EVAL: [60/62] Elapsed 0m 41s (remain 0m 0s) Loss: 0.0860(0.1089) \n",
      "EVAL: [61/62] Elapsed 0m 41s (remain 0m 0s) Loss: 0.0420(0.1088) \n",
      "Epoch: [6][0/366] Elapsed 0m 0s (remain 4m 17s) Loss: 0.0727(0.0727) Grad: 63493.1875  LR: 0.00000135  \n",
      "Epoch: [6][20/366] Elapsed 0m 11s (remain 3m 2s) Loss: 0.0507(0.0678) Grad: 100871.0234  LR: 0.00000121  \n",
      "Epoch: [6][40/366] Elapsed 0m 21s (remain 2m 49s) Loss: 0.0757(0.0680) Grad: 96340.1172  LR: 0.00000108  \n",
      "Epoch: [6][60/366] Elapsed 0m 31s (remain 2m 38s) Loss: 0.0681(0.0679) Grad: 174538.4062  LR: 0.00000095  \n",
      "Epoch: [6][80/366] Elapsed 0m 42s (remain 2m 27s) Loss: 0.0783(0.0687) Grad: 73609.2031  LR: 0.00000083  \n",
      "Epoch: [6][100/366] Elapsed 0m 52s (remain 2m 17s) Loss: 0.0617(0.0670) Grad: 96977.4844  LR: 0.00000072  \n",
      "Epoch: [6][120/366] Elapsed 1m 2s (remain 2m 7s) Loss: 0.0819(0.0672) Grad: 241440.0938  LR: 0.00000062  \n",
      "Epoch: [6][140/366] Elapsed 1m 13s (remain 1m 56s) Loss: 0.0528(0.0675) Grad: 145851.0469  LR: 0.00000053  \n",
      "Epoch: [6][160/366] Elapsed 1m 23s (remain 1m 46s) Loss: 0.0749(0.0681) Grad: 61294.7539  LR: 0.00000044  \n",
      "Epoch: [6][180/366] Elapsed 1m 33s (remain 1m 35s) Loss: 0.0544(0.0680) Grad: 70688.0156  LR: 0.00000036  \n",
      "Epoch: [6][200/366] Elapsed 1m 44s (remain 1m 25s) Loss: 0.0463(0.0682) Grad: 75396.7969  LR: 0.00000029  \n",
      "Epoch: [6][220/366] Elapsed 1m 54s (remain 1m 15s) Loss: 0.0646(0.0685) Grad: 89761.2344  LR: 0.00000022  \n",
      "Epoch: [6][240/366] Elapsed 2m 4s (remain 1m 4s) Loss: 0.0741(0.0685) Grad: 88195.2812  LR: 0.00000017  \n",
      "Epoch: [6][260/366] Elapsed 2m 15s (remain 0m 54s) Loss: 0.0661(0.0684) Grad: 85906.8125  LR: 0.00000012  \n",
      "Epoch: [6][280/366] Elapsed 2m 25s (remain 0m 44s) Loss: 0.0709(0.0684) Grad: 104677.7266  LR: 0.00000008  \n",
      "Epoch: [6][300/366] Elapsed 2m 35s (remain 0m 33s) Loss: 0.0611(0.0686) Grad: 99712.2188  LR: 0.00000005  \n",
      "Epoch: [6][320/366] Elapsed 2m 46s (remain 0m 23s) Loss: 0.0676(0.0686) Grad: 132175.1250  LR: 0.00000002  \n",
      "Epoch: [6][340/366] Elapsed 2m 56s (remain 0m 12s) Loss: 0.0517(0.0687) Grad: 68687.6797  LR: 0.00000001  \n",
      "Epoch: [6][360/366] Elapsed 3m 6s (remain 0m 2s) Loss: 0.0986(0.0694) Grad: 138844.5781  LR: 0.00000000  \n",
      "Epoch: [6][365/366] Elapsed 3m 9s (remain 0m 0s) Loss: 0.0847(0.0695) Grad: 127519.0078  LR: 0.00000000  \n",
      "EVAL: [0/62] Elapsed 0m 0s (remain 0m 53s) Loss: 0.1018(0.1018) \n",
      "EVAL: [20/62] Elapsed 0m 14s (remain 0m 28s) Loss: 0.0863(0.1099) \n",
      "EVAL: [40/62] Elapsed 0m 27s (remain 0m 14s) Loss: 0.1387(0.1095) \n"
     ]
    },
    {
     "name": "stderr",
     "output_type": "stream",
     "text": [
      "Epoch 6 - avg_train_loss: 0.0695  avg_val_loss: 0.1098  time: 231s\n",
      "Epoch 6 - Score: 0.4705  Scores: [0.5034520684339548, 0.4626774236625372, 0.4309697923133307, 0.4634751195790048, 0.49937800657253234, 0.46330920179040036]\n"
     ]
    },
    {
     "name": "stdout",
     "output_type": "stream",
     "text": [
      "EVAL: [60/62] Elapsed 0m 41s (remain 0m 0s) Loss: 0.0877(0.1099) \n",
      "EVAL: [61/62] Elapsed 0m 41s (remain 0m 0s) Loss: 0.0410(0.1098) \n"
     ]
    },
    {
     "name": "stderr",
     "output_type": "stream",
     "text": [
      "========== fold: 3 result ==========\n",
      "Score: 0.4681  Scores: [0.5023355072815818, 0.4571204669081448, 0.43191989953082227, 0.46316521583915443, 0.498101360984715, 0.45579598695291]\n",
      "========== CV ==========\n",
      "Score: 0.4729  Scores: [0.5040697172446752, 0.4596540495002175, 0.4339655385772809, 0.47243274540450425, 0.5007807121276082, 0.4662084588431127]\n"
     ]
    },
    {
     "data": {
      "text/html": [
       "Waiting for W&B process to finish... <strong style=\"color:green\">(success).</strong>"
      ],
      "text/plain": [
       "<IPython.core.display.HTML object>"
      ]
     },
     "metadata": {},
     "output_type": "display_data"
    },
    {
     "data": {
      "application/vnd.jupyter.widget-view+json": {
       "model_id": "",
       "version_major": 2,
       "version_minor": 0
      },
      "text/plain": [
       "VBox(children=(Label(value='0.000 MB of 0.000 MB uploaded (0.000 MB deduped)\\r'), FloatProgress(value=1.0, max…"
      ]
     },
     "metadata": {},
     "output_type": "display_data"
    },
    {
     "data": {
      "text/html": [
       "<style>\n",
       "    table.wandb td:nth-child(1) { padding: 0 10px; text-align: left ; width: auto;} td:nth-child(2) {text-align: left ; width: 100%}\n",
       "    .wandb-row { display: flex; flex-direction: row; flex-wrap: wrap; justify-content: flex-start; width: 100% }\n",
       "    .wandb-col { display: flex; flex-direction: column; flex-basis: 100%; flex: 1; padding: 10px; }\n",
       "    </style>\n",
       "<div class=\"wandb-row\"><div class=\"wandb-col\"><h3>Run history:</h3><br/><table class=\"wandb\"><tr><td>[fold0] avg_train_loss</td><td>█▃▂▂▁▁</td></tr><tr><td>[fold0] avg_val_loss</td><td>█▂▂▁▁▁</td></tr><tr><td>[fold0] epoch</td><td>▁▂▄▅▇█</td></tr><tr><td>[fold0] loss</td><td>██▅▄▂▃▄▃▄▄▄▃▂▃▁▃▂▄▃▂▂▁▂▃▄▂▃▁▂▂▂▂▁▂▁▂▁▁▁▂</td></tr><tr><td>[fold0] lr</td><td>███████▇▇▇▇▇▇▆▆▆▆▅▅▅▄▄▄▄▃▃▃▃▂▂▂▂▂▁▁▁▁▁▁▁</td></tr><tr><td>[fold0] score</td><td>█▂▂▁▁▁</td></tr><tr><td>[fold1] avg_train_loss</td><td>█▃▂▂▁▁</td></tr><tr><td>[fold1] avg_val_loss</td><td>██▁▃▂▂</td></tr><tr><td>[fold1] epoch</td><td>▁▂▄▅▇█</td></tr><tr><td>[fold1] loss</td><td>▅█▃▃▆▂▇▃▂▂▂▂▆▂▃▃▄▂▃▃▂▁▃▃▂▂▂▁▂▂▂▂▂▁▁▁▂▁▁▁</td></tr><tr><td>[fold1] lr</td><td>███████▇▇▇▇▇▇▆▆▆▆▅▅▅▄▄▄▄▃▃▃▃▂▂▂▂▂▁▁▁▁▁▁▁</td></tr><tr><td>[fold1] score</td><td>██▁▃▂▂</td></tr><tr><td>[fold2] avg_train_loss</td><td>█▃▂▂▁▁</td></tr><tr><td>[fold2] avg_val_loss</td><td>█▃▂▁▁▁</td></tr><tr><td>[fold2] epoch</td><td>▁▂▄▅▇█</td></tr><tr><td>[fold2] loss</td><td>▆▄▇█▄▄▄▃▅▆▃▃▃▃▂▃▅▂▃▃▃▃▃▄▂▃▂▂▂▂▁▂▂▁▂▁▁▂▃▁</td></tr><tr><td>[fold2] lr</td><td>███████▇▇▇▇▇▇▆▆▆▆▅▅▅▄▄▄▄▃▃▃▃▂▂▂▂▂▁▁▁▁▁▁▁</td></tr><tr><td>[fold2] score</td><td>█▃▂▁▁▁</td></tr><tr><td>[fold3] avg_train_loss</td><td>█▃▂▂▁▁</td></tr><tr><td>[fold3] avg_val_loss</td><td>█▃▁▃▁▂</td></tr><tr><td>[fold3] epoch</td><td>▁▂▄▅▇█</td></tr><tr><td>[fold3] loss</td><td>▄▂█▆▃▃▂▃▃▂▃▂▅▃▂▃▂▄▃▄▂▂▂▁▂▂▂▁▂▁▂▂▂▃▁▁▁▂▂▂</td></tr><tr><td>[fold3] lr</td><td>███████▇▇▇▇▇▇▆▆▆▆▅▅▅▄▄▄▄▃▃▃▃▂▂▂▂▂▁▁▁▁▁▁▁</td></tr><tr><td>[fold3] score</td><td>█▃▁▃▁▂</td></tr></table><br/></div><div class=\"wandb-col\"><h3>Run summary:</h3><br/><table class=\"wandb\"><tr><td>[fold0] avg_train_loss</td><td>0.06576</td></tr><tr><td>[fold0] avg_val_loss</td><td>0.11185</td></tr><tr><td>[fold0] epoch</td><td>6</td></tr><tr><td>[fold0] loss</td><td>0.08043</td></tr><tr><td>[fold0] lr</td><td>0.0</td></tr><tr><td>[fold0] score</td><td>0.47367</td></tr><tr><td>[fold1] avg_train_loss</td><td>0.06772</td></tr><tr><td>[fold1] avg_val_loss</td><td>0.11561</td></tr><tr><td>[fold1] epoch</td><td>6</td></tr><tr><td>[fold1] loss</td><td>0.06366</td></tr><tr><td>[fold1] lr</td><td>0.0</td></tr><tr><td>[fold1] score</td><td>0.48208</td></tr><tr><td>[fold2] avg_train_loss</td><td>0.06895</td></tr><tr><td>[fold2] avg_val_loss</td><td>0.11169</td></tr><tr><td>[fold2] epoch</td><td>6</td></tr><tr><td>[fold2] loss</td><td>0.06778</td></tr><tr><td>[fold2] lr</td><td>0.0</td></tr><tr><td>[fold2] score</td><td>0.47427</td></tr><tr><td>[fold3] avg_train_loss</td><td>0.0695</td></tr><tr><td>[fold3] avg_val_loss</td><td>0.10979</td></tr><tr><td>[fold3] epoch</td><td>6</td></tr><tr><td>[fold3] loss</td><td>0.08474</td></tr><tr><td>[fold3] lr</td><td>0.0</td></tr><tr><td>[fold3] score</td><td>0.47054</td></tr></table><br/></div></div>"
      ],
      "text/plain": [
       "<IPython.core.display.HTML object>"
      ]
     },
     "metadata": {},
     "output_type": "display_data"
    },
    {
     "data": {
      "text/html": [
       "Synced <strong style=\"color:#cdcd00\">001_202211051222</strong>: <a href=\"https://wandb.ai/hiroki8383/Feedback%20Prize%20-%20English%20Language%20Learning/runs/2k45honq\" target=\"_blank\">https://wandb.ai/hiroki8383/Feedback%20Prize%20-%20English%20Language%20Learning/runs/2k45honq</a><br/>Synced 5 W&B file(s), 0 media file(s), 0 artifact file(s) and 0 other file(s)"
      ],
      "text/plain": [
       "<IPython.core.display.HTML object>"
      ]
     },
     "metadata": {},
     "output_type": "display_data"
    },
    {
     "data": {
      "text/html": [
       "Find logs at: <code>./wandb/run-20221105_032259-2k45honq/logs</code>"
      ],
      "text/plain": [
       "<IPython.core.display.HTML object>"
      ]
     },
     "metadata": {},
     "output_type": "display_data"
    }
   ],
   "source": [
    "if __name__ == '__main__':\n",
    "    \n",
    "    def get_result(oof_df):\n",
    "        labels = oof_df[CFG.target_cols].values\n",
    "        preds = oof_df[[f\"pred_{c}\" for c in CFG.target_cols]].values\n",
    "        score, scores = get_score(labels, preds)\n",
    "        LOGGER.info(f'Score: {score:<.4f}  Scores: {scores}')\n",
    "        return score\n",
    "    \n",
    "    if CFG.train:\n",
    "        oof_df = pd.DataFrame()\n",
    "        for fold in range(CFG.n_fold):\n",
    "            if fold in CFG.trn_fold:\n",
    "                _oof_df = train_loop(train, fold)\n",
    "                oof_df = pd.concat([oof_df, _oof_df])\n",
    "                LOGGER.info(f\"========== fold: {fold} result ==========\")\n",
    "                score = get_result(_oof_df)\n",
    "        oof_df = oof_df.reset_index(drop=True)\n",
    "        LOGGER.info(f\"========== CV ==========\")\n",
    "        score = round(get_result(oof_df),3)\n",
    "        oof_df.to_pickle(OUTPUT_DIR+f'oof_df.pkl')\n",
    "        \n",
    "    # if CFG.DEBUG:\n",
    "    #     import send2trash\n",
    "    #     send2trash.send2trash(OUTPUT_DIR)\n",
    "    CFG.OUTPUT_DIR = OUTPUT_DIR\n",
    "    dict_cfg = {k: vars(CFG)[k] for k in vars(CFG) if \"__\" not in k}\n",
    "    with open(OUTPUT_DIR+\"dict_cfg\", 'wb') as web:\n",
    "        pickle.dump(dict_cfg , web)\n",
    "    with open(OUTPUT_DIR+\"class_cfg\", 'wb') as web:\n",
    "        pickle.dump(CFG , web)\n",
    "    \n",
    "    \n",
    "    if CFG.wandb:\n",
    "        wandb.config.update(class2dict(CFG))\n",
    "        wandb.finish()"
   ]
  },
  {
   "cell_type": "code",
   "execution_count": 18,
   "metadata": {},
   "outputs": [
    {
     "name": "stdout",
     "output_type": "stream",
     "text": [
      "/home/jupyter/output/ex/bigbird-roberta-base/001/202211051222/\n"
     ]
    }
   ],
   "source": [
    "print(OUTPUT_DIR)"
   ]
  },
  {
   "cell_type": "code",
   "execution_count": 19,
   "metadata": {},
   "outputs": [],
   "source": [
    "# import os\n",
    "# OUTPUT_DIR = \"/home/jupyter/output/ex/roberta-base/004/202210151736/\"\n",
    "# PREDICT_DIR = OUTPUT_DIR.replace(\"output\",\"predict\")\n",
    "# if not os.path.exists(PREDICT_DIR):\n",
    "#     os.makedirs(PREDICT_DIR)\n"
   ]
  },
  {
   "cell_type": "code",
   "execution_count": 20,
   "metadata": {},
   "outputs": [
    {
     "name": "stdout",
     "output_type": "stream",
     "text": [
      "Starting upload for file bigbird-roberta-base_fold0_best.pth\n"
     ]
    },
    {
     "name": "stderr",
     "output_type": "stream",
     "text": [
      "100% 486M/486M [00:14<00:00, 35.7MB/s] \n"
     ]
    },
    {
     "name": "stdout",
     "output_type": "stream",
     "text": [
      "Upload successful: bigbird-roberta-base_fold0_best.pth (486MB)\n",
      "Starting upload for file config.pth\n"
     ]
    },
    {
     "name": "stderr",
     "output_type": "stream",
     "text": [
      "100% 2.55k/2.55k [00:02<00:00, 1.07kB/s]\n"
     ]
    },
    {
     "name": "stdout",
     "output_type": "stream",
     "text": [
      "Upload successful: config.pth (3KB)\n",
      "Starting upload for file class_cfg\n"
     ]
    },
    {
     "name": "stderr",
     "output_type": "stream",
     "text": [
      "100% 19.0/19.0 [00:01<00:00, 10.0B/s]\n"
     ]
    },
    {
     "name": "stdout",
     "output_type": "stream",
     "text": [
      "Upload successful: class_cfg (19B)\n",
      "Starting upload for file oof_df.pkl\n"
     ]
    },
    {
     "name": "stderr",
     "output_type": "stream",
     "text": [
      "100% 9.09M/9.09M [00:02<00:00, 3.91MB/s]\n"
     ]
    },
    {
     "name": "stdout",
     "output_type": "stream",
     "text": [
      "Upload successful: oof_df.pkl (9MB)\n",
      "Starting upload for file bigbird-roberta-base_fold2_best.pth\n"
     ]
    },
    {
     "name": "stderr",
     "output_type": "stream",
     "text": [
      "100% 486M/486M [00:16<00:00, 30.4MB/s] \n"
     ]
    },
    {
     "name": "stdout",
     "output_type": "stream",
     "text": [
      "Upload successful: bigbird-roberta-base_fold2_best.pth (486MB)\n",
      "Starting upload for file bigbird-roberta-base_fold3_best.pth\n"
     ]
    },
    {
     "name": "stderr",
     "output_type": "stream",
     "text": [
      "100% 486M/486M [00:15<00:00, 32.6MB/s] \n"
     ]
    },
    {
     "name": "stdout",
     "output_type": "stream",
     "text": [
      "Upload successful: bigbird-roberta-base_fold3_best.pth (486MB)\n",
      "Starting upload for file bigbird-roberta-base_fold1_best.pth\n"
     ]
    },
    {
     "name": "stderr",
     "output_type": "stream",
     "text": [
      "100% 486M/486M [00:15<00:00, 32.3MB/s] \n"
     ]
    },
    {
     "name": "stdout",
     "output_type": "stream",
     "text": [
      "Upload successful: bigbird-roberta-base_fold1_best.pth (486MB)\n",
      "Starting upload for file train.log\n"
     ]
    },
    {
     "name": "stderr",
     "output_type": "stream",
     "text": [
      "100% 10.7k/10.7k [00:02<00:00, 4.28kB/s]\n"
     ]
    },
    {
     "name": "stdout",
     "output_type": "stream",
     "text": [
      "Upload successful: train.log (11KB)\n",
      "Starting upload for file dict_cfg\n"
     ]
    },
    {
     "name": "stderr",
     "output_type": "stream",
     "text": [
      "100% 830k/830k [00:02<00:00, 352kB/s]\n"
     ]
    },
    {
     "name": "stdout",
     "output_type": "stream",
     "text": [
      "Upload successful: dict_cfg (830KB)\n",
      "folder upload\n"
     ]
    }
   ],
   "source": [
    "if CFG.TO_KAGGLE:\n",
    "    UPLOAD_DIR = OUTPUT_DIR\n",
    "    EX_NO = f\"{model_name}-{CFG.file_name}\" # 実験番号などを入れる、folderのpathにする\n",
    "    USERID = 'your_id'\n",
    "\n",
    "\n",
    "    def dataset_upload():\n",
    "        import json\n",
    "        from kaggle.api.kaggle_api_extended import KaggleApi\n",
    "\n",
    "        id = f'{USERID}/{EX_NO}'\n",
    "\n",
    "        dataset_metadata = {}\n",
    "        dataset_metadata['id'] = id\n",
    "        dataset_metadata['licenses'] = [{'name': 'CC0-1.0'}]\n",
    "        dataset_metadata['title'] = f'{EX_NO}'\n",
    "\n",
    "        with open(UPLOAD_DIR +'dataset-metadata.json', 'w') as f:\n",
    "            json.dump(dataset_metadata, f, indent=4)\n",
    "\n",
    "        api = KaggleApi()\n",
    "        api.authenticate()\n",
    "\n",
    "        # データセットがない場合\n",
    "        if f'{USERID}/{EX_NO}' not in [str(d) for d in api.dataset_list(user=USERID, search=f'\"{EX_NO}\"')]:\n",
    "            api.dataset_create_new(folder=UPLOAD_DIR,\n",
    "                                   convert_to_csv=False,\n",
    "                                   dir_mode='skip')\n",
    "            \n",
    "            \n",
    "             #フォルダーを削除\n",
    "            if f'{USERID}/{EX_NO}' not in [str(d) for d in api.dataset_list(user=USERID, search=f'\"{EX_NO}\"')]:\n",
    "                remove_files = glob.glob(OUTPUT_DIR+\"*\")\n",
    "                remove_files.remove(OUTPUT_DIR+\"oof_df.pkl\")\n",
    "                for file in remove_files:\n",
    "                    os.remove(file)\n",
    "                print(\"folder upload\")\n",
    "                            #apiコマンドを書き込む\n",
    "                f = open(f'{model_name}_api_command.txt', 'a')\n",
    "                api_command = f\"!kaggle datasets download -d hiroki8383/{EX_NO}\\n\"\n",
    "                f.write(api_command)\n",
    "                f.close()\n",
    "            else:\n",
    "                print(\"folder not upload\")\n",
    "            \n",
    "            \n",
    "        # データセットがある場合→更新されない場合がある（後で原因追及)\n",
    "        else:\n",
    "            print(\"this folder exsits\")\n",
    "            # api.dataset_create_version(folder=UPLOAD_DIR,\n",
    "            #                            version_notes='update',\n",
    "            #                            convert_to_csv=False,\n",
    "            #                            delete_old_versions=False,\n",
    "            #                            dir_mode='zip')\n",
    "\n",
    "        \n",
    "\n",
    "        \n",
    "    dataset_upload()"
   ]
  },
  {
   "cell_type": "code",
   "execution_count": 26,
   "metadata": {
    "tags": []
   },
   "outputs": [
    {
     "name": "stderr",
     "output_type": "stream",
     "text": [
      "Score: 0.4729  Scores: [0.5040697172446752, 0.4596540495002175, 0.4339655385772809, 0.47243274540450425, 0.5007807121276082, 0.4662084588431127]\n"
     ]
    }
   ],
   "source": [
    "if not CFG.DEBUG:\n",
    "    def to_write_score(CFG):\n",
    "        df = pd.read_csv(CFG.score_path)\n",
    "        def get_result2(oof_df):\n",
    "                labels = oof_df[CFG.target_cols].values\n",
    "                preds = oof_df[[f\"pred_{c}\" for c in CFG.target_cols]].values\n",
    "                score, scores = get_score(labels, preds)\n",
    "                LOGGER.info(f'Score: {score:<.4f}  Scores: {scores}')\n",
    "                return score,scores\n",
    "\n",
    "        score,scores = get_result2(oof_df)\n",
    "        name = \"-\".join(OUTPUT_DIR.split(\"/\")[-4:-2])\n",
    "        base = {\"name\":name,\"score\":score,\"memo\":CFG.MEMO} \n",
    "        base.update(dict(zip(CFG.target_cols,scores)))\n",
    "        df = df.append(base,ignore_index=True)\n",
    "        df.to_csv(CFG.score_path,index=False)\n",
    "    to_write_score(CFG)"
   ]
  },
  {
   "cell_type": "code",
   "execution_count": 27,
   "metadata": {},
   "outputs": [
    {
     "data": {
      "text/html": [
       "<div>\n",
       "<style scoped>\n",
       "    .dataframe tbody tr th:only-of-type {\n",
       "        vertical-align: middle;\n",
       "    }\n",
       "\n",
       "    .dataframe tbody tr th {\n",
       "        vertical-align: top;\n",
       "    }\n",
       "\n",
       "    .dataframe thead th {\n",
       "        text-align: right;\n",
       "    }\n",
       "</style>\n",
       "<table border=\"1\" class=\"dataframe\">\n",
       "  <thead>\n",
       "    <tr style=\"text-align: right;\">\n",
       "      <th></th>\n",
       "      <th>name</th>\n",
       "      <th>memo</th>\n",
       "      <th>LB</th>\n",
       "      <th>score</th>\n",
       "      <th>cohesion</th>\n",
       "      <th>syntax</th>\n",
       "      <th>vocabulary</th>\n",
       "      <th>phraseology</th>\n",
       "      <th>grammar</th>\n",
       "      <th>conventions</th>\n",
       "    </tr>\n",
       "  </thead>\n",
       "  <tbody>\n",
       "    <tr>\n",
       "      <th>0</th>\n",
       "      <td>base-discriminator-001</td>\n",
       "      <td>NaN</td>\n",
       "      <td>0.46</td>\n",
       "      <td>0.466957</td>\n",
       "      <td>0.501431</td>\n",
       "      <td>0.455460</td>\n",
       "      <td>0.428477</td>\n",
       "      <td>0.465690</td>\n",
       "      <td>0.485904</td>\n",
       "      <td>0.464780</td>\n",
       "    </tr>\n",
       "    <tr>\n",
       "      <th>1</th>\n",
       "      <td>base-discriminator-002</td>\n",
       "      <td>NaN</td>\n",
       "      <td>0.45</td>\n",
       "      <td>0.474078</td>\n",
       "      <td>0.504413</td>\n",
       "      <td>0.462707</td>\n",
       "      <td>0.432588</td>\n",
       "      <td>0.469546</td>\n",
       "      <td>0.500918</td>\n",
       "      <td>0.474296</td>\n",
       "    </tr>\n",
       "    <tr>\n",
       "      <th>2</th>\n",
       "      <td>deberta-v3-base-003</td>\n",
       "      <td>2epochs</td>\n",
       "      <td>NaN</td>\n",
       "      <td>0.459342</td>\n",
       "      <td>0.496531</td>\n",
       "      <td>0.450482</td>\n",
       "      <td>0.419448</td>\n",
       "      <td>0.457413</td>\n",
       "      <td>0.476347</td>\n",
       "      <td>0.455832</td>\n",
       "    </tr>\n",
       "    <tr>\n",
       "      <th>3</th>\n",
       "      <td>deberta-v3-base-003</td>\n",
       "      <td>6epochs</td>\n",
       "      <td>0.44</td>\n",
       "      <td>0.456879</td>\n",
       "      <td>0.488333</td>\n",
       "      <td>0.448687</td>\n",
       "      <td>0.417134</td>\n",
       "      <td>0.458769</td>\n",
       "      <td>0.479633</td>\n",
       "      <td>0.448721</td>\n",
       "    </tr>\n",
       "    <tr>\n",
       "      <th>4</th>\n",
       "      <td>deberta-v3-base-006</td>\n",
       "      <td>15folds</td>\n",
       "      <td>NaN</td>\n",
       "      <td>0.463635</td>\n",
       "      <td>0.479650</td>\n",
       "      <td>0.475910</td>\n",
       "      <td>0.442828</td>\n",
       "      <td>0.463557</td>\n",
       "      <td>0.456412</td>\n",
       "      <td>0.463457</td>\n",
       "    </tr>\n",
       "    <tr>\n",
       "      <th>5</th>\n",
       "      <td>deberta-v3-base-006</td>\n",
       "      <td>20folds</td>\n",
       "      <td>NaN</td>\n",
       "      <td>0.449212</td>\n",
       "      <td>0.475585</td>\n",
       "      <td>0.433808</td>\n",
       "      <td>0.415852</td>\n",
       "      <td>0.457436</td>\n",
       "      <td>0.484686</td>\n",
       "      <td>0.427907</td>\n",
       "    </tr>\n",
       "    <tr>\n",
       "      <th>6</th>\n",
       "      <td>deberta-v3-base-006</td>\n",
       "      <td>10folds</td>\n",
       "      <td>NaN</td>\n",
       "      <td>0.446338</td>\n",
       "      <td>0.490661</td>\n",
       "      <td>0.435001</td>\n",
       "      <td>0.409460</td>\n",
       "      <td>0.417236</td>\n",
       "      <td>0.481800</td>\n",
       "      <td>0.443871</td>\n",
       "    </tr>\n",
       "    <tr>\n",
       "      <th>7</th>\n",
       "      <td>distilroberta-base-001</td>\n",
       "      <td>4folds</td>\n",
       "      <td>NaN</td>\n",
       "      <td>0.470528</td>\n",
       "      <td>0.501629</td>\n",
       "      <td>0.459765</td>\n",
       "      <td>0.426740</td>\n",
       "      <td>0.473205</td>\n",
       "      <td>0.501976</td>\n",
       "      <td>0.459850</td>\n",
       "    </tr>\n",
       "    <tr>\n",
       "      <th>8</th>\n",
       "      <td>distilroberta-base-002</td>\n",
       "      <td>バッチ16,4folds</td>\n",
       "      <td>NaN</td>\n",
       "      <td>0.471035</td>\n",
       "      <td>0.503345</td>\n",
       "      <td>0.458993</td>\n",
       "      <td>0.427209</td>\n",
       "      <td>0.471235</td>\n",
       "      <td>0.504850</td>\n",
       "      <td>0.460580</td>\n",
       "    </tr>\n",
       "    <tr>\n",
       "      <th>9</th>\n",
       "      <td>microsoft-deberta-v3-large-001</td>\n",
       "      <td>NaN</td>\n",
       "      <td>0.46</td>\n",
       "      <td>0.450311</td>\n",
       "      <td>0.482961</td>\n",
       "      <td>0.445596</td>\n",
       "      <td>0.410873</td>\n",
       "      <td>0.449346</td>\n",
       "      <td>0.466162</td>\n",
       "      <td>0.446928</td>\n",
       "    </tr>\n",
       "    <tr>\n",
       "      <th>10</th>\n",
       "      <td>microsoft-deberta-v3-large-002</td>\n",
       "      <td>NaN</td>\n",
       "      <td>0.44</td>\n",
       "      <td>0.453782</td>\n",
       "      <td>0.486786</td>\n",
       "      <td>0.446127</td>\n",
       "      <td>0.415995</td>\n",
       "      <td>0.452892</td>\n",
       "      <td>0.472186</td>\n",
       "      <td>0.448703</td>\n",
       "    </tr>\n",
       "    <tr>\n",
       "      <th>11</th>\n",
       "      <td>microsoft-deberta-v3-large-004</td>\n",
       "      <td>unscale</td>\n",
       "      <td>0.44</td>\n",
       "      <td>0.460115</td>\n",
       "      <td>0.494655</td>\n",
       "      <td>0.452659</td>\n",
       "      <td>0.419634</td>\n",
       "      <td>0.461738</td>\n",
       "      <td>0.476507</td>\n",
       "      <td>0.455497</td>\n",
       "    </tr>\n",
       "    <tr>\n",
       "      <th>12</th>\n",
       "      <td>roberta-base-003</td>\n",
       "      <td>1fold</td>\n",
       "      <td>0.45</td>\n",
       "      <td>0.459033</td>\n",
       "      <td>0.486786</td>\n",
       "      <td>0.452983</td>\n",
       "      <td>0.423085</td>\n",
       "      <td>0.463976</td>\n",
       "      <td>0.484316</td>\n",
       "      <td>0.443049</td>\n",
       "    </tr>\n",
       "    <tr>\n",
       "      <th>13</th>\n",
       "      <td>roberta-base-004</td>\n",
       "      <td>4folds</td>\n",
       "      <td>0.44</td>\n",
       "      <td>0.466575</td>\n",
       "      <td>0.498291</td>\n",
       "      <td>0.455092</td>\n",
       "      <td>0.427741</td>\n",
       "      <td>0.468486</td>\n",
       "      <td>0.493240</td>\n",
       "      <td>0.456598</td>\n",
       "    </tr>\n",
       "    <tr>\n",
       "      <th>14</th>\n",
       "      <td>roberta-base-005</td>\n",
       "      <td>バッチ16,4folds</td>\n",
       "      <td>0.44</td>\n",
       "      <td>0.463956</td>\n",
       "      <td>0.496089</td>\n",
       "      <td>0.454223</td>\n",
       "      <td>0.425768</td>\n",
       "      <td>0.464463</td>\n",
       "      <td>0.487668</td>\n",
       "      <td>0.455523</td>\n",
       "    </tr>\n",
       "    <tr>\n",
       "      <th>15</th>\n",
       "      <td>roberta-base-006</td>\n",
       "      <td>バッチ32,4folds</td>\n",
       "      <td>NaN</td>\n",
       "      <td>0.464111</td>\n",
       "      <td>0.497241</td>\n",
       "      <td>0.453315</td>\n",
       "      <td>0.425326</td>\n",
       "      <td>0.463499</td>\n",
       "      <td>0.488895</td>\n",
       "      <td>0.456390</td>\n",
       "    </tr>\n",
       "    <tr>\n",
       "      <th>16</th>\n",
       "      <td>roberta-large-002</td>\n",
       "      <td>バッチ8_4folds</td>\n",
       "      <td>0.44</td>\n",
       "      <td>0.461700</td>\n",
       "      <td>NaN</td>\n",
       "      <td>NaN</td>\n",
       "      <td>NaN</td>\n",
       "      <td>NaN</td>\n",
       "      <td>NaN</td>\n",
       "      <td>NaN</td>\n",
       "    </tr>\n",
       "    <tr>\n",
       "      <th>17</th>\n",
       "      <td>roberta-large-003</td>\n",
       "      <td>バッチ16,2_4fold</td>\n",
       "      <td>NaN</td>\n",
       "      <td>0.469800</td>\n",
       "      <td>0.483395</td>\n",
       "      <td>0.457585</td>\n",
       "      <td>0.424750</td>\n",
       "      <td>0.480469</td>\n",
       "      <td>0.494185</td>\n",
       "      <td>0.478415</td>\n",
       "    </tr>\n",
       "    <tr>\n",
       "      <th>18</th>\n",
       "      <td>roberta-large-004</td>\n",
       "      <td>バッチ32,2_4fold</td>\n",
       "      <td>0.45</td>\n",
       "      <td>0.462673</td>\n",
       "      <td>0.487539</td>\n",
       "      <td>0.450118</td>\n",
       "      <td>0.419088</td>\n",
       "      <td>0.469469</td>\n",
       "      <td>0.482251</td>\n",
       "      <td>0.467571</td>\n",
       "    </tr>\n",
       "    <tr>\n",
       "      <th>19</th>\n",
       "      <td>roberta-large-006</td>\n",
       "      <td>バッチ36,2_4fold</td>\n",
       "      <td>0.45</td>\n",
       "      <td>0.466295</td>\n",
       "      <td>0.490185</td>\n",
       "      <td>0.457640</td>\n",
       "      <td>0.423379</td>\n",
       "      <td>0.469386</td>\n",
       "      <td>0.486419</td>\n",
       "      <td>0.470762</td>\n",
       "    </tr>\n",
       "    <tr>\n",
       "      <th>20</th>\n",
       "      <td>roberta-large-007</td>\n",
       "      <td>バッチ40,2_4fold</td>\n",
       "      <td>0.45</td>\n",
       "      <td>0.466273</td>\n",
       "      <td>0.490215</td>\n",
       "      <td>0.453633</td>\n",
       "      <td>0.423818</td>\n",
       "      <td>0.475021</td>\n",
       "      <td>0.485249</td>\n",
       "      <td>0.469699</td>\n",
       "    </tr>\n",
       "    <tr>\n",
       "      <th>21</th>\n",
       "      <td>roberta-large-008</td>\n",
       "      <td>バッチ32_4folds_epochs10</td>\n",
       "      <td>0.44</td>\n",
       "      <td>0.462800</td>\n",
       "      <td>NaN</td>\n",
       "      <td>NaN</td>\n",
       "      <td>NaN</td>\n",
       "      <td>NaN</td>\n",
       "      <td>NaN</td>\n",
       "      <td>NaN</td>\n",
       "    </tr>\n",
       "    <tr>\n",
       "      <th>22</th>\n",
       "      <td>roberta-large-008</td>\n",
       "      <td>バッチ32_4folds_epochs10</td>\n",
       "      <td>0.44</td>\n",
       "      <td>0.462800</td>\n",
       "      <td>NaN</td>\n",
       "      <td>NaN</td>\n",
       "      <td>NaN</td>\n",
       "      <td>NaN</td>\n",
       "      <td>NaN</td>\n",
       "      <td>NaN</td>\n",
       "    </tr>\n",
       "    <tr>\n",
       "      <th>23</th>\n",
       "      <td>roberta-large-mnli-001</td>\n",
       "      <td>4folds</td>\n",
       "      <td>0.44</td>\n",
       "      <td>0.465286</td>\n",
       "      <td>0.493436</td>\n",
       "      <td>0.456988</td>\n",
       "      <td>0.422165</td>\n",
       "      <td>0.470799</td>\n",
       "      <td>0.487859</td>\n",
       "      <td>0.460470</td>\n",
       "    </tr>\n",
       "    <tr>\n",
       "      <th>24</th>\n",
       "      <td>svr-001</td>\n",
       "      <td>4fold</td>\n",
       "      <td>NaN</td>\n",
       "      <td>0.453306</td>\n",
       "      <td>0.483167</td>\n",
       "      <td>0.448158</td>\n",
       "      <td>0.412874</td>\n",
       "      <td>0.455388</td>\n",
       "      <td>0.473294</td>\n",
       "      <td>0.446953</td>\n",
       "    </tr>\n",
       "    <tr>\n",
       "      <th>25</th>\n",
       "      <td>svr-004</td>\n",
       "      <td>4fold</td>\n",
       "      <td>NaN</td>\n",
       "      <td>0.452746</td>\n",
       "      <td>0.481117</td>\n",
       "      <td>0.447022</td>\n",
       "      <td>0.413401</td>\n",
       "      <td>0.455160</td>\n",
       "      <td>0.472988</td>\n",
       "      <td>0.446788</td>\n",
       "    </tr>\n",
       "    <tr>\n",
       "      <th>26</th>\n",
       "      <td>svr-005</td>\n",
       "      <td>10folds,embedding003を使用</td>\n",
       "      <td>NaN</td>\n",
       "      <td>0.455535</td>\n",
       "      <td>0.485642</td>\n",
       "      <td>0.448309</td>\n",
       "      <td>0.414582</td>\n",
       "      <td>0.458728</td>\n",
       "      <td>0.479231</td>\n",
       "      <td>0.446716</td>\n",
       "    </tr>\n",
       "    <tr>\n",
       "      <th>27</th>\n",
       "      <td>funnel-intermediate-001</td>\n",
       "      <td>ベースライン</td>\n",
       "      <td>0.44</td>\n",
       "      <td>0.464516</td>\n",
       "      <td>0.493810</td>\n",
       "      <td>0.461812</td>\n",
       "      <td>0.423381</td>\n",
       "      <td>0.460282</td>\n",
       "      <td>0.479871</td>\n",
       "      <td>0.467938</td>\n",
       "    </tr>\n",
       "    <tr>\n",
       "      <th>28</th>\n",
       "      <td>roberta-base-007</td>\n",
       "      <td>tensorflow ベースライン</td>\n",
       "      <td>0.44</td>\n",
       "      <td>0.460693</td>\n",
       "      <td>0.494831</td>\n",
       "      <td>0.451108</td>\n",
       "      <td>0.421364</td>\n",
       "      <td>0.462382</td>\n",
       "      <td>0.483491</td>\n",
       "      <td>0.450982</td>\n",
       "    </tr>\n",
       "    <tr>\n",
       "      <th>29</th>\n",
       "      <td>roberta-large-020</td>\n",
       "      <td>tensorflowベースライン</td>\n",
       "      <td>0.44</td>\n",
       "      <td>0.461600</td>\n",
       "      <td>NaN</td>\n",
       "      <td>NaN</td>\n",
       "      <td>NaN</td>\n",
       "      <td>NaN</td>\n",
       "      <td>NaN</td>\n",
       "      <td>NaN</td>\n",
       "    </tr>\n",
       "    <tr>\n",
       "      <th>30</th>\n",
       "      <td>funnel-large-001</td>\n",
       "      <td>ベースライン</td>\n",
       "      <td>NaN</td>\n",
       "      <td>0.469392</td>\n",
       "      <td>0.500464</td>\n",
       "      <td>0.465704</td>\n",
       "      <td>0.426260</td>\n",
       "      <td>0.472609</td>\n",
       "      <td>0.485169</td>\n",
       "      <td>0.466142</td>\n",
       "    </tr>\n",
       "    <tr>\n",
       "      <th>31</th>\n",
       "      <td>bigbird-roberta-base-001</td>\n",
       "      <td>ベースライン</td>\n",
       "      <td>NaN</td>\n",
       "      <td>0.472852</td>\n",
       "      <td>0.504070</td>\n",
       "      <td>0.459654</td>\n",
       "      <td>0.433966</td>\n",
       "      <td>0.472433</td>\n",
       "      <td>0.500781</td>\n",
       "      <td>0.466208</td>\n",
       "    </tr>\n",
       "  </tbody>\n",
       "</table>\n",
       "</div>"
      ],
      "text/plain": [
       "                              name                     memo    LB     score  cohesion    syntax  vocabulary  phraseology   grammar  conventions\n",
       "0           base-discriminator-001                      NaN  0.46  0.466957  0.501431  0.455460    0.428477     0.465690  0.485904     0.464780\n",
       "1           base-discriminator-002                      NaN  0.45  0.474078  0.504413  0.462707    0.432588     0.469546  0.500918     0.474296\n",
       "2              deberta-v3-base-003                  2epochs   NaN  0.459342  0.496531  0.450482    0.419448     0.457413  0.476347     0.455832\n",
       "3              deberta-v3-base-003                  6epochs  0.44  0.456879  0.488333  0.448687    0.417134     0.458769  0.479633     0.448721\n",
       "4              deberta-v3-base-006                  15folds   NaN  0.463635  0.479650  0.475910    0.442828     0.463557  0.456412     0.463457\n",
       "5              deberta-v3-base-006                  20folds   NaN  0.449212  0.475585  0.433808    0.415852     0.457436  0.484686     0.427907\n",
       "6              deberta-v3-base-006                  10folds   NaN  0.446338  0.490661  0.435001    0.409460     0.417236  0.481800     0.443871\n",
       "7           distilroberta-base-001                   4folds   NaN  0.470528  0.501629  0.459765    0.426740     0.473205  0.501976     0.459850\n",
       "8           distilroberta-base-002             バッチ16,4folds   NaN  0.471035  0.503345  0.458993    0.427209     0.471235  0.504850     0.460580\n",
       "9   microsoft-deberta-v3-large-001                      NaN  0.46  0.450311  0.482961  0.445596    0.410873     0.449346  0.466162     0.446928\n",
       "10  microsoft-deberta-v3-large-002                      NaN  0.44  0.453782  0.486786  0.446127    0.415995     0.452892  0.472186     0.448703\n",
       "11  microsoft-deberta-v3-large-004                  unscale  0.44  0.460115  0.494655  0.452659    0.419634     0.461738  0.476507     0.455497\n",
       "12                roberta-base-003                    1fold  0.45  0.459033  0.486786  0.452983    0.423085     0.463976  0.484316     0.443049\n",
       "13                roberta-base-004                   4folds  0.44  0.466575  0.498291  0.455092    0.427741     0.468486  0.493240     0.456598\n",
       "14                roberta-base-005             バッチ16,4folds  0.44  0.463956  0.496089  0.454223    0.425768     0.464463  0.487668     0.455523\n",
       "15                roberta-base-006             バッチ32,4folds   NaN  0.464111  0.497241  0.453315    0.425326     0.463499  0.488895     0.456390\n",
       "16               roberta-large-002              バッチ8_4folds  0.44  0.461700       NaN       NaN         NaN          NaN       NaN          NaN\n",
       "17               roberta-large-003            バッチ16,2_4fold   NaN  0.469800  0.483395  0.457585    0.424750     0.480469  0.494185     0.478415\n",
       "18               roberta-large-004            バッチ32,2_4fold  0.45  0.462673  0.487539  0.450118    0.419088     0.469469  0.482251     0.467571\n",
       "19               roberta-large-006            バッチ36,2_4fold  0.45  0.466295  0.490185  0.457640    0.423379     0.469386  0.486419     0.470762\n",
       "20               roberta-large-007            バッチ40,2_4fold  0.45  0.466273  0.490215  0.453633    0.423818     0.475021  0.485249     0.469699\n",
       "21               roberta-large-008    バッチ32_4folds_epochs10  0.44  0.462800       NaN       NaN         NaN          NaN       NaN          NaN\n",
       "22               roberta-large-008    バッチ32_4folds_epochs10  0.44  0.462800       NaN       NaN         NaN          NaN       NaN          NaN\n",
       "23          roberta-large-mnli-001                   4folds  0.44  0.465286  0.493436  0.456988    0.422165     0.470799  0.487859     0.460470\n",
       "24                         svr-001                    4fold   NaN  0.453306  0.483167  0.448158    0.412874     0.455388  0.473294     0.446953\n",
       "25                         svr-004                    4fold   NaN  0.452746  0.481117  0.447022    0.413401     0.455160  0.472988     0.446788\n",
       "26                         svr-005  10folds,embedding003を使用   NaN  0.455535  0.485642  0.448309    0.414582     0.458728  0.479231     0.446716\n",
       "27         funnel-intermediate-001                   ベースライン  0.44  0.464516  0.493810  0.461812    0.423381     0.460282  0.479871     0.467938\n",
       "28                roberta-base-007        tensorflow ベースライン  0.44  0.460693  0.494831  0.451108    0.421364     0.462382  0.483491     0.450982\n",
       "29               roberta-large-020         tensorflowベースライン  0.44  0.461600       NaN       NaN         NaN          NaN       NaN          NaN\n",
       "30                funnel-large-001                   ベースライン   NaN  0.469392  0.500464  0.465704    0.426260     0.472609  0.485169     0.466142\n",
       "31        bigbird-roberta-base-001                   ベースライン   NaN  0.472852  0.504070  0.459654    0.433966     0.472433  0.500781     0.466208"
      ]
     },
     "execution_count": 27,
     "metadata": {},
     "output_type": "execute_result"
    }
   ],
   "source": [
    "df = pd.read_csv(CFG.score_path)\n",
    "df"
   ]
  }
 ],
 "metadata": {
  "kernelspec": {
   "display_name": "Python 3 (ipykernel)",
   "language": "python",
   "name": "python3"
  },
  "language_info": {
   "codemirror_mode": {
    "name": "ipython",
    "version": 3
   },
   "file_extension": ".py",
   "mimetype": "text/x-python",
   "name": "python",
   "nbconvert_exporter": "python",
   "pygments_lexer": "ipython3",
   "version": "3.7.12"
  }
 },
 "nbformat": 4,
 "nbformat_minor": 4
}
