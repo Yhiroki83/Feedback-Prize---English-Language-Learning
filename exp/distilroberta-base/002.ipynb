{
 "cells": [
  {
   "cell_type": "markdown",
   "metadata": {
    "papermill": {
     "duration": 0.006569,
     "end_time": "2022-08-31T07:01:57.395826",
     "exception": false,
     "start_time": "2022-08-31T07:01:57.389257",
     "status": "completed"
    },
    "tags": []
   },
   "source": [
    "# CFG"
   ]
  },
  {
   "cell_type": "code",
   "execution_count": 1,
   "metadata": {
    "papermill": {
     "duration": 0.015868,
     "end_time": "2022-08-31T07:01:57.417077",
     "exception": false,
     "start_time": "2022-08-31T07:01:57.401209",
     "status": "completed"
    },
    "tags": []
   },
   "outputs": [],
   "source": [
    "# ====================================================\n",
    "# CFG\n",
    "# ====================================================\n",
    "class CFG:\n",
    "    wandb = True\n",
    "    DEBUG = False\n",
    "    TO_KAGGLE = True\n",
    "    MEMO = \"バッチ16,4folds\"\n",
    "    file_name = \"002\"\n",
    "    model=\"distilroberta-base\"\n",
    "    n_fold=4\n",
    "    trn_fold=[0,1,2,3]\n",
    "    model_config_path = f\"/home/jupyter/models/roberta/{model}/\"\n",
    "    model_bin_path = f\"/home/jupyter/models/roberta/{model}/\"\n",
    "    competition='FB3'\n",
    "    apex=True\n",
    "    print_freq=20\n",
    "    num_workers=4\n",
    "    gradient_checkpointing=True\n",
    "    scheduler='cosine' # ['linear', 'cosine']\n",
    "    batch_scheduler=True\n",
    "    num_cycles=0.5\n",
    "    num_warmup_steps=0\n",
    "    epochs=6\n",
    "    encoder_lr=2e-5\n",
    "    decoder_lr=2e-5\n",
    "    min_lr=1e-6\n",
    "    eps=1e-6\n",
    "    betas=(0.9, 0.999)\n",
    "    batch_size=16\n",
    "    max_len=512\n",
    "    weight_decay=0.01\n",
    "    gradient_accumulation_steps=1\n",
    "    max_grad_norm=1000\n",
    "    target_cols=['cohesion', 'syntax', 'vocabulary', 'phraseology', 'grammar', 'conventions']\n",
    "    seed=42\n",
    "    train=True\n",
    "    \n",
    "if CFG.DEBUG:\n",
    "    CFG.epochs = 2\n",
    "    CFG.trn_fold = [0]"
   ]
  },
  {
   "cell_type": "code",
   "execution_count": 2,
   "metadata": {},
   "outputs": [
    {
     "name": "stderr",
     "output_type": "stream",
     "text": [
      "\u001b[34m\u001b[1mwandb\u001b[0m: Currently logged in as: \u001b[33mhiroki8383\u001b[0m. Use \u001b[1m`wandb login --relogin`\u001b[0m to force relogin\n",
      "\u001b[34m\u001b[1mwandb\u001b[0m: \u001b[33mWARNING\u001b[0m If you're specifying your api key in code, ensure this code is not shared publicly.\n",
      "\u001b[34m\u001b[1mwandb\u001b[0m: \u001b[33mWARNING\u001b[0m Consider setting the WANDB_API_KEY environment variable, or running `wandb login` from the command line.\n",
      "\u001b[34m\u001b[1mwandb\u001b[0m: Appending key for api.wandb.ai to your netrc file: /root/.netrc\n"
     ]
    },
    {
     "data": {
      "text/html": [
       "wandb version 0.13.4 is available!  To upgrade, please run:\n",
       " $ pip install wandb --upgrade"
      ],
      "text/plain": [
       "<IPython.core.display.HTML object>"
      ]
     },
     "metadata": {},
     "output_type": "display_data"
    },
    {
     "data": {
      "text/html": [
       "Tracking run with wandb version 0.12.21"
      ],
      "text/plain": [
       "<IPython.core.display.HTML object>"
      ]
     },
     "metadata": {},
     "output_type": "display_data"
    },
    {
     "data": {
      "text/html": [
       "Run data is saved locally in <code>/home/jupyter/exp/distilroberta-base/wandb/run-20221020_084231-1meei42c</code>"
      ],
      "text/plain": [
       "<IPython.core.display.HTML object>"
      ]
     },
     "metadata": {},
     "output_type": "display_data"
    },
    {
     "data": {
      "text/html": [
       "Syncing run <strong><a href=\"https://wandb.ai/hiroki8383/Feedback%20Prize%20-%20English%20Language%20Learning/runs/1meei42c\" target=\"_blank\">002_202210201742</a></strong> to <a href=\"https://wandb.ai/hiroki8383/Feedback%20Prize%20-%20English%20Language%20Learning\" target=\"_blank\">Weights & Biases</a> (<a href=\"https://wandb.me/run\" target=\"_blank\">docs</a>)<br/>"
      ],
      "text/plain": [
       "<IPython.core.display.HTML object>"
      ]
     },
     "metadata": {},
     "output_type": "display_data"
    }
   ],
   "source": [
    "import os\n",
    "import datetime\n",
    "import pickle\n",
    "import glob\n",
    "\n",
    "# ====================================================\n",
    "# datetime\n",
    "# ====================================================\n",
    "t_delta = datetime.timedelta(hours=9)\n",
    "JST = datetime.timezone(t_delta, 'JST')\n",
    "now = datetime.datetime.now(JST)\n",
    "date = now.strftime('%Y%m%d')\n",
    "date2 = now.strftime('%Y%m%d%H%M')\n",
    "\n",
    "\n",
    "# ====================================================\n",
    "# file_path\n",
    "# ====================================================\n",
    "if \"/\" in CFG.model:\n",
    "    model_name = CFG.model.split(\"/\")[1]\n",
    "else:\n",
    "    model_name = CFG.model\n",
    "\n",
    "path =\"/home/jupyter/feedback-prize-english-language-learning/\"\n",
    "if CFG.DEBUG:\n",
    "    OUTPUT_DIR = f'/home/jupyter/output/ex/DEBUG/{model_name}/{CFG.file_name}/{date2}/'\n",
    "else:\n",
    "    OUTPUT_DIR = f'/home/jupyter/output/ex/{model_name}/{CFG.file_name}/{date2}/'\n",
    "if not os.path.exists(OUTPUT_DIR):\n",
    "    os.makedirs(OUTPUT_DIR)\n",
    "\n",
    "\n",
    "\n",
    "# ====================================================\n",
    "# wandb \n",
    "# ====================================================\n",
    "if CFG.wandb:\n",
    "    import wandb\n",
    "    \n",
    "    def class2dict(f):\n",
    "            return dict((name, getattr(f, name)) for name in dir(f) if not name.startswith('__'))\n",
    "        \n",
    "    project='Feedback Prize - English Language Learning'\n",
    "    if CFG.DEBUG:\n",
    "        group = \"DEBUG\"\n",
    "    else:\n",
    "        group = model_name\n",
    "    wandb_name = f\"{CFG.file_name}_{date2}\"\n",
    "    job_type = CFG.file_name  #\"train\"\n",
    "\n",
    "    wandb_api = \"your_id\"\n",
    "    wandb.login(key=wandb_api)\n",
    "    anony = None\n",
    "    run = wandb.init(project=project, \n",
    "                         name = wandb_name,\n",
    "                         config=class2dict(CFG),\n",
    "                         group=group,\n",
    "                         job_type=job_type,\n",
    "                         anonymous=anony)"
   ]
  },
  {
   "cell_type": "markdown",
   "metadata": {
    "papermill": {
     "duration": 0.008876,
     "end_time": "2022-08-31T07:02:06.467728",
     "exception": false,
     "start_time": "2022-08-31T07:02:06.458852",
     "status": "completed"
    },
    "tags": []
   },
   "source": [
    "# Library"
   ]
  },
  {
   "cell_type": "code",
   "execution_count": 3,
   "metadata": {},
   "outputs": [],
   "source": [
    "# !pip download transformers==4.21.2\n",
    "# !pip download tokenizers==0.12.1"
   ]
  },
  {
   "cell_type": "code",
   "execution_count": 4,
   "metadata": {},
   "outputs": [],
   "source": [
    "# !pip install transformers\n",
    "# !pip install tokenizers"
   ]
  },
  {
   "cell_type": "code",
   "execution_count": 5,
   "metadata": {
    "papermill": {
     "duration": 57.587416,
     "end_time": "2022-08-31T07:03:04.064247",
     "exception": false,
     "start_time": "2022-08-31T07:02:06.476831",
     "status": "completed"
    },
    "tags": []
   },
   "outputs": [
    {
     "name": "stdout",
     "output_type": "stream",
     "text": [
      "Requirement already satisfied: iterative-stratification==0.1.7 in /opt/conda/lib/python3.7/site-packages (0.1.7)\n",
      "Requirement already satisfied: scikit-learn in /opt/conda/lib/python3.7/site-packages (from iterative-stratification==0.1.7) (1.0.2)\n",
      "Requirement already satisfied: numpy in /opt/conda/lib/python3.7/site-packages (from iterative-stratification==0.1.7) (1.21.6)\n",
      "Requirement already satisfied: scipy in /opt/conda/lib/python3.7/site-packages (from iterative-stratification==0.1.7) (1.7.3)\n",
      "Requirement already satisfied: joblib>=0.11 in /opt/conda/lib/python3.7/site-packages (from scikit-learn->iterative-stratification==0.1.7) (1.0.1)\n",
      "Requirement already satisfied: threadpoolctl>=2.0.0 in /opt/conda/lib/python3.7/site-packages (from scikit-learn->iterative-stratification==0.1.7) (3.1.0)\n"
     ]
    },
    {
     "name": "stderr",
     "output_type": "stream",
     "text": [
      "WARNING: Running pip as the 'root' user can result in broken permissions and conflicting behaviour with the system package manager. It is recommended to use a virtual environment instead: https://pip.pypa.io/warnings/venv\n"
     ]
    },
    {
     "name": "stdout",
     "output_type": "stream",
     "text": [
      "Found existing installation: transformers 4.21.2\n",
      "Uninstalling transformers-4.21.2:\n",
      "  Successfully uninstalled transformers-4.21.2\n"
     ]
    },
    {
     "name": "stderr",
     "output_type": "stream",
     "text": [
      "WARNING: Running pip as the 'root' user can result in broken permissions and conflicting behaviour with the system package manager. It is recommended to use a virtual environment instead: https://pip.pypa.io/warnings/venv\n"
     ]
    },
    {
     "name": "stdout",
     "output_type": "stream",
     "text": [
      "Found existing installation: tokenizers 0.12.1\n",
      "Uninstalling tokenizers-0.12.1:\n",
      "  Successfully uninstalled tokenizers-0.12.1\n"
     ]
    },
    {
     "name": "stderr",
     "output_type": "stream",
     "text": [
      "WARNING: Running pip as the 'root' user can result in broken permissions and conflicting behaviour with the system package manager. It is recommended to use a virtual environment instead: https://pip.pypa.io/warnings/venv\n"
     ]
    },
    {
     "name": "stdout",
     "output_type": "stream",
     "text": [
      "Looking in links: /home/jupyter/code_baseline/FB3_pip_wheels\n",
      "Processing /home/jupyter/code_baseline/FB3_pip_wheels/transformers-4.21.2-py3-none-any.whl\n",
      "Processing /home/jupyter/code_baseline/FB3_pip_wheels/tokenizers-0.12.1-cp37-cp37m-manylinux_2_12_x86_64.manylinux2010_x86_64.whl\n",
      "Requirement already satisfied: filelock in /opt/conda/lib/python3.7/site-packages (from transformers) (3.7.1)\n",
      "Requirement already satisfied: pyyaml>=5.1 in /opt/conda/lib/python3.7/site-packages (from transformers) (6.0)\n",
      "Requirement already satisfied: importlib-metadata in /opt/conda/lib/python3.7/site-packages (from transformers) (4.13.0)\n",
      "Requirement already satisfied: huggingface-hub<1.0,>=0.1.0 in /opt/conda/lib/python3.7/site-packages (from transformers) (0.10.1)\n",
      "Requirement already satisfied: packaging>=20.0 in /opt/conda/lib/python3.7/site-packages (from transformers) (21.3)\n",
      "Requirement already satisfied: requests in /opt/conda/lib/python3.7/site-packages (from transformers) (2.28.1)\n",
      "Requirement already satisfied: regex!=2019.12.17 in /opt/conda/lib/python3.7/site-packages (from transformers) (2021.11.10)\n",
      "Requirement already satisfied: numpy>=1.17 in /opt/conda/lib/python3.7/site-packages (from transformers) (1.21.6)\n",
      "Requirement already satisfied: tqdm>=4.27 in /opt/conda/lib/python3.7/site-packages (from transformers) (4.64.0)\n",
      "Requirement already satisfied: typing-extensions>=3.7.4.3 in /opt/conda/lib/python3.7/site-packages (from huggingface-hub<1.0,>=0.1.0->transformers) (4.1.1)\n",
      "Requirement already satisfied: pyparsing!=3.0.5,>=2.0.2 in /opt/conda/lib/python3.7/site-packages (from packaging>=20.0->transformers) (3.0.9)\n",
      "Requirement already satisfied: zipp>=0.5 in /opt/conda/lib/python3.7/site-packages (from importlib-metadata->transformers) (3.8.0)\n",
      "Requirement already satisfied: charset-normalizer<3,>=2 in /opt/conda/lib/python3.7/site-packages (from requests->transformers) (2.1.0)\n",
      "Requirement already satisfied: urllib3<1.27,>=1.21.1 in /opt/conda/lib/python3.7/site-packages (from requests->transformers) (1.26.12)\n",
      "Requirement already satisfied: certifi>=2017.4.17 in /opt/conda/lib/python3.7/site-packages (from requests->transformers) (2022.9.24)\n",
      "Requirement already satisfied: idna<4,>=2.5 in /opt/conda/lib/python3.7/site-packages (from requests->transformers) (3.3)\n",
      "Installing collected packages: tokenizers, transformers\n"
     ]
    },
    {
     "name": "stderr",
     "output_type": "stream",
     "text": [
      "ERROR: pip's dependency resolver does not currently take into account all the packages that are installed. This behaviour is the source of the following dependency conflicts.\n",
      "allennlp 2.10.1 requires transformers<4.21,>=4.1, but you have transformers 4.21.2 which is incompatible.\n",
      "WARNING: Running pip as the 'root' user can result in broken permissions and conflicting behaviour with the system package manager. It is recommended to use a virtual environment instead: https://pip.pypa.io/warnings/venv\n"
     ]
    },
    {
     "name": "stdout",
     "output_type": "stream",
     "text": [
      "Successfully installed tokenizers-0.12.1 transformers-4.21.2\n",
      "Looking in links: /home/jupyter/code_baseline/FB3_pip_wheels\n",
      "Requirement already satisfied: tokenizers in /opt/conda/lib/python3.7/site-packages (0.12.1)\n"
     ]
    },
    {
     "name": "stderr",
     "output_type": "stream",
     "text": [
      "WARNING: Running pip as the 'root' user can result in broken permissions and conflicting behaviour with the system package manager. It is recommended to use a virtual environment instead: https://pip.pypa.io/warnings/venv\n"
     ]
    },
    {
     "name": "stdout",
     "output_type": "stream",
     "text": [
      "env: TOKENIZERS_PARALLELISM=true\n"
     ]
    }
   ],
   "source": [
    "# ====================================================\n",
    "# Library\n",
    "# ====================================================\n",
    "import os\n",
    "import gc\n",
    "import re\n",
    "import ast\n",
    "import sys\n",
    "import copy\n",
    "import json\n",
    "import time\n",
    "import math\n",
    "import string\n",
    "import pickle\n",
    "import random\n",
    "import joblib\n",
    "import itertools\n",
    "import warnings\n",
    "warnings.filterwarnings(\"ignore\")\n",
    "\n",
    "import scipy as sp\n",
    "import numpy as np\n",
    "import pandas as pd\n",
    "pd.set_option('display.max_rows', 500)\n",
    "pd.set_option('display.max_columns', 500)\n",
    "pd.set_option('display.width', 1000)\n",
    "from tqdm.auto import tqdm\n",
    "from sklearn.metrics import mean_squared_error\n",
    "from sklearn.model_selection import StratifiedKFold, GroupKFold, KFold\n",
    "\n",
    "os.system('pip install iterative-stratification==0.1.7')\n",
    "from iterstrat.ml_stratifiers import MultilabelStratifiedKFold\n",
    "\n",
    "import torch\n",
    "import torch.nn as nn\n",
    "from torch.nn import Parameter\n",
    "import torch.nn.functional as F\n",
    "from torch.optim import Adam, SGD, AdamW\n",
    "from torch.utils.data import DataLoader, Dataset\n",
    "\n",
    "os.system('pip uninstall -y transformers')\n",
    "os.system('pip uninstall -y tokenizers')\n",
    "os.system('python -m pip install --no-index --find-links=/home/jupyter/code_baseline/FB3_pip_wheels transformers')\n",
    "os.system('python -m pip install --no-index --find-links=/home/jupyter/code_baseline/FB3_pip_wheels tokenizers')\n",
    "import tokenizers\n",
    "import transformers\n",
    "# print(f\"tokenizers.__version__: {tokenizers.__version__}\")\n",
    "# print(f\"transformers.__version__: {transformers.__version__}\")\n",
    "from transformers import AutoTokenizer, AutoModel, AutoConfig\n",
    "from transformers import get_linear_schedule_with_warmup, get_cosine_schedule_with_warmup\n",
    "%env TOKENIZERS_PARALLELISM=true\n",
    "\n",
    "device = torch.device('cuda' if torch.cuda.is_available() else 'cpu')"
   ]
  },
  {
   "cell_type": "markdown",
   "metadata": {
    "papermill": {
     "duration": 0.007998,
     "end_time": "2022-08-31T07:03:04.079768",
     "exception": false,
     "start_time": "2022-08-31T07:03:04.07177",
     "status": "completed"
    },
    "tags": []
   },
   "source": [
    "# Utils"
   ]
  },
  {
   "cell_type": "code",
   "execution_count": 6,
   "metadata": {
    "papermill": {
     "duration": 0.024132,
     "end_time": "2022-08-31T07:03:04.111108",
     "exception": false,
     "start_time": "2022-08-31T07:03:04.086976",
     "status": "completed"
    },
    "tags": []
   },
   "outputs": [],
   "source": [
    "# ====================================================\n",
    "# Utils\n",
    "# ====================================================\n",
    "def MCRMSE(y_trues, y_preds):\n",
    "    scores = []\n",
    "    idxes = y_trues.shape[1]\n",
    "    for i in range(idxes):\n",
    "        y_true = y_trues[:,i]\n",
    "        y_pred = y_preds[:,i]\n",
    "        score = mean_squared_error(y_true, y_pred, squared=False) # RMSE\n",
    "        scores.append(score)\n",
    "    mcrmse_score = np.mean(scores)\n",
    "    return mcrmse_score, scores\n",
    "\n",
    "\n",
    "def get_score(y_trues, y_preds):\n",
    "    mcrmse_score, scores = MCRMSE(y_trues, y_preds)\n",
    "    return mcrmse_score, scores\n",
    "\n",
    "\n",
    "def get_logger(filename=OUTPUT_DIR+'train'):\n",
    "    from logging import getLogger, INFO, StreamHandler, FileHandler, Formatter\n",
    "    logger = getLogger(__name__)\n",
    "    logger.setLevel(INFO)\n",
    "    handler1 = StreamHandler()\n",
    "    handler1.setFormatter(Formatter(\"%(message)s\"))\n",
    "    handler2 = FileHandler(filename=f\"{filename}.log\")\n",
    "    handler2.setFormatter(Formatter(\"%(message)s\"))\n",
    "    logger.addHandler(handler1)\n",
    "    logger.addHandler(handler2)\n",
    "    return logger\n",
    "\n",
    "LOGGER = get_logger()\n",
    "\n",
    "\n",
    "def seed_everything(seed=42):\n",
    "    random.seed(seed)\n",
    "    os.environ['PYTHONHASHSEED'] = str(seed)\n",
    "    np.random.seed(seed)\n",
    "    torch.manual_seed(seed)\n",
    "    torch.cuda.manual_seed(seed)\n",
    "    torch.backends.cudnn.deterministic = True\n",
    "    \n",
    "seed_everything(seed=42)"
   ]
  },
  {
   "cell_type": "markdown",
   "metadata": {
    "papermill": {
     "duration": 0.012589,
     "end_time": "2022-08-31T07:03:04.13341",
     "exception": false,
     "start_time": "2022-08-31T07:03:04.120821",
     "status": "completed"
    },
    "tags": []
   },
   "source": [
    "# Data Loading"
   ]
  },
  {
   "cell_type": "code",
   "execution_count": 7,
   "metadata": {
    "papermill": {
     "duration": 0.242687,
     "end_time": "2022-08-31T07:03:04.383434",
     "exception": false,
     "start_time": "2022-08-31T07:03:04.140747",
     "status": "completed"
    },
    "tags": []
   },
   "outputs": [],
   "source": [
    "# ====================================================\n",
    "# Data Loading\n",
    "# ====================================================\n",
    "\n",
    "train = pd.read_csv(path+'train.csv')\n",
    "test = pd.read_csv(path+'test.csv')\n",
    "submission = pd.read_csv(path+'sample_submission.csv')\n",
    "\n",
    "Fold = MultilabelStratifiedKFold(n_splits=CFG.n_fold, shuffle=True, random_state=CFG.seed)\n",
    "for n, (train_index, val_index) in enumerate(Fold.split(train, train[CFG.target_cols])):\n",
    "    train.loc[val_index, 'fold'] = int(n)\n",
    "train['fold'] = train['fold'].astype(int)\n",
    "\n",
    "if CFG.DEBUG:\n",
    "    # display(train.groupby('fold').size())\n",
    "    train = train.sample(n=50, random_state=0).reset_index(drop=True)\n",
    "    # display(train.groupby('fold').size())"
   ]
  },
  {
   "cell_type": "markdown",
   "metadata": {
    "papermill": {
     "duration": 0.007561,
     "end_time": "2022-08-31T07:03:04.604916",
     "exception": false,
     "start_time": "2022-08-31T07:03:04.597355",
     "status": "completed"
    },
    "tags": []
   },
   "source": [
    "# tokenizer"
   ]
  },
  {
   "cell_type": "code",
   "execution_count": 8,
   "metadata": {
    "papermill": {
     "duration": 7.351568,
     "end_time": "2022-08-31T07:03:11.964298",
     "exception": false,
     "start_time": "2022-08-31T07:03:04.61273",
     "status": "completed"
    },
    "tags": []
   },
   "outputs": [],
   "source": [
    "# ====================================================\n",
    "# tokenizer models/roberta/roberta-base/config.json\n",
    "# ====================================================\n",
    "tokenizer = AutoTokenizer.from_pretrained(f\"/home/jupyter/models/roberta/{CFG.model}/\")\n",
    "CFG.tokenizer = tokenizer"
   ]
  },
  {
   "cell_type": "markdown",
   "metadata": {
    "papermill": {
     "duration": 0.008127,
     "end_time": "2022-08-31T07:03:11.985369",
     "exception": false,
     "start_time": "2022-08-31T07:03:11.977242",
     "status": "completed"
    },
    "tags": []
   },
   "source": [
    "# Dataset"
   ]
  },
  {
   "cell_type": "code",
   "execution_count": 9,
   "metadata": {
    "papermill": {
     "duration": 5.893032,
     "end_time": "2022-08-31T07:03:17.886504",
     "exception": false,
     "start_time": "2022-08-31T07:03:11.993472",
     "status": "completed"
    },
    "tags": []
   },
   "outputs": [],
   "source": [
    "# ====================================================\n",
    "# Define max_len\n",
    "# ====================================================\n",
    "# lengths = []\n",
    "# tk0 = tqdm(train['full_text'].fillna(\"\").values, total=len(train))\n",
    "# for text in tk0:\n",
    "#     length = len(tokenizer(text, add_special_tokens=False)['input_ids'])\n",
    "#     lengths.append(length)\n",
    "# CFG.max_len = max(lengths) + 3 # cls & sep & sep\n",
    "# LOGGER.info(f\"max_len: {CFG.max_len}\")"
   ]
  },
  {
   "cell_type": "code",
   "execution_count": 10,
   "metadata": {
    "papermill": {
     "duration": 0.020447,
     "end_time": "2022-08-31T07:03:17.916566",
     "exception": false,
     "start_time": "2022-08-31T07:03:17.896119",
     "status": "completed"
    },
    "tags": []
   },
   "outputs": [],
   "source": [
    "# ====================================================\n",
    "# Dataset\n",
    "# ====================================================\n",
    "def prepare_input(cfg, text):\n",
    "    inputs = cfg.tokenizer.encode_plus(\n",
    "        text, \n",
    "        return_tensors=None, \n",
    "        add_special_tokens=True, \n",
    "        max_length=CFG.max_len,\n",
    "        pad_to_max_length=True,\n",
    "        truncation=True\n",
    "    )\n",
    "    for k, v in inputs.items():\n",
    "        inputs[k] = torch.tensor(v, dtype=torch.long)\n",
    "    return inputs\n",
    "\n",
    "\n",
    "class TrainDataset(Dataset):\n",
    "    def __init__(self, cfg, df):\n",
    "        self.cfg = cfg\n",
    "        self.texts = df['full_text'].values\n",
    "        self.labels = df[cfg.target_cols].values\n",
    "\n",
    "    def __len__(self):\n",
    "        return len(self.texts)\n",
    "\n",
    "    def __getitem__(self, item):\n",
    "        inputs = prepare_input(self.cfg, self.texts[item])\n",
    "        label = torch.tensor(self.labels[item], dtype=torch.float)\n",
    "        return inputs, label\n",
    "    \n",
    "\n",
    "def collate(inputs):\n",
    "    mask_len = int(inputs[\"attention_mask\"].sum(axis=1).max())\n",
    "    for k, v in inputs.items():\n",
    "        inputs[k] = inputs[k][:,:mask_len]\n",
    "    return inputs"
   ]
  },
  {
   "cell_type": "markdown",
   "metadata": {
    "papermill": {
     "duration": 0.008073,
     "end_time": "2022-08-31T07:03:17.933189",
     "exception": false,
     "start_time": "2022-08-31T07:03:17.925116",
     "status": "completed"
    },
    "tags": []
   },
   "source": [
    "# Model"
   ]
  },
  {
   "cell_type": "code",
   "execution_count": 11,
   "metadata": {
    "papermill": {
     "duration": 0.033105,
     "end_time": "2022-08-31T07:03:17.97447",
     "exception": false,
     "start_time": "2022-08-31T07:03:17.941365",
     "status": "completed"
    },
    "tags": []
   },
   "outputs": [],
   "source": [
    "# ====================================================\n",
    "# Model\n",
    "# ====================================================\n",
    "#MeanPoolingはoutput_hidden_statesに関係している   https://qiita.com/niship2/items/f84751aed893da869cec\n",
    "class MeanPooling(nn.Module):\n",
    "    def __init__(self):\n",
    "        super(MeanPooling, self).__init__()\n",
    "        \n",
    "    def forward(self, last_hidden_state, attention_mask):\n",
    "        input_mask_expanded = attention_mask.unsqueeze(-1).expand(last_hidden_state.size()).float()\n",
    "        sum_embeddings = torch.sum(last_hidden_state * input_mask_expanded, 1)\n",
    "        sum_mask = input_mask_expanded.sum(1)\n",
    "        sum_mask = torch.clamp(sum_mask, min=1e-9)\n",
    "        mean_embeddings = sum_embeddings / sum_mask\n",
    "        return mean_embeddings\n",
    "    \n",
    "\n",
    "class CustomModel(nn.Module):\n",
    "    def __init__(self, cfg, config_path=None, pretrained=False):\n",
    "        super().__init__()\n",
    "        self.cfg = cfg\n",
    "        if config_path is None:\n",
    "            self.config = AutoConfig.from_pretrained(cfg.model_config_path, output_hidden_states=True)\n",
    "            self.config.hidden_dropout = 0.\n",
    "            self.config.hidden_dropout_prob = 0.\n",
    "            self.config.attention_dropout = 0.\n",
    "            self.config.attention_probs_dropout_prob = 0.\n",
    "            LOGGER.info(self.config)\n",
    "        else:\n",
    "            self.config = torch.load(config_path)\n",
    "        if pretrained:\n",
    "            self.model = AutoModel.from_pretrained(cfg.model_bin_path, config=self.config)\n",
    "        else:\n",
    "            self.model = AutoModel(self.config)\n",
    "        if self.cfg.gradient_checkpointing:\n",
    "            self.model.gradient_checkpointing_enable()\n",
    "        self.pool = MeanPooling()\n",
    "        self.fc = nn.Linear(self.config.hidden_size, 6)\n",
    "        self._init_weights(self.fc)\n",
    "        \n",
    "    def _init_weights(self, module):\n",
    "        if isinstance(module, nn.Linear):\n",
    "            module.weight.data.normal_(mean=0.0, std=self.config.initializer_range)\n",
    "            if module.bias is not None:\n",
    "                module.bias.data.zero_()\n",
    "        elif isinstance(module, nn.Embedding):\n",
    "            module.weight.data.normal_(mean=0.0, std=self.config.initializer_range)\n",
    "            if module.padding_idx is not None:\n",
    "                module.weight.data[module.padding_idx].zero_()\n",
    "        elif isinstance(module, nn.LayerNorm):\n",
    "            module.bias.data.zero_()\n",
    "            module.weight.data.fill_(1.0)\n",
    "        \n",
    "    def feature(self, inputs):\n",
    "        outputs = self.model(**inputs)\n",
    "        last_hidden_states = outputs[0]\n",
    "        feature = self.pool(last_hidden_states, inputs['attention_mask'])\n",
    "        return feature\n",
    "\n",
    "    def forward(self, inputs):\n",
    "        feature = self.feature(inputs)\n",
    "        output = self.fc(feature)\n",
    "        return output"
   ]
  },
  {
   "cell_type": "code",
   "execution_count": 12,
   "metadata": {},
   "outputs": [],
   "source": [
    "# model_config_path = f\"/home/jupyter/models/deberta/{model}/model\"\n",
    "# model_bin_path = f\"/home/jupyter/models/deberta/{CFG.model}/model\""
   ]
  },
  {
   "cell_type": "code",
   "execution_count": 13,
   "metadata": {},
   "outputs": [],
   "source": [
    "# conf = AutoConfig.from_pretrained(f\"/home/jupyter/models/deberta/{CFG.model}/model\", output_hidden_states=True)\n",
    "# AutoModel.from_pretrained(f\"/home/jupyter/models/deberta/{CFG.model}/model\", config=conf)"
   ]
  },
  {
   "cell_type": "markdown",
   "metadata": {
    "papermill": {
     "duration": 0.008106,
     "end_time": "2022-08-31T07:03:17.993861",
     "exception": false,
     "start_time": "2022-08-31T07:03:17.985755",
     "status": "completed"
    },
    "tags": []
   },
   "source": [
    "# Loss"
   ]
  },
  {
   "cell_type": "code",
   "execution_count": 14,
   "metadata": {
    "papermill": {
     "duration": 0.021697,
     "end_time": "2022-08-31T07:03:18.02376",
     "exception": false,
     "start_time": "2022-08-31T07:03:18.002063",
     "status": "completed"
    },
    "tags": []
   },
   "outputs": [],
   "source": [
    "# ====================================================\n",
    "# Loss\n",
    "# ====================================================\n",
    "class RMSELoss(nn.Module):\n",
    "    def __init__(self, reduction='mean', eps=1e-9):\n",
    "        super().__init__()\n",
    "        self.mse = nn.MSELoss(reduction='none')\n",
    "        self.reduction = reduction\n",
    "        self.eps = eps\n",
    "\n",
    "    def forward(self, y_pred, y_true):\n",
    "        loss = torch.sqrt(self.mse(y_pred, y_true) + self.eps)\n",
    "        if self.reduction == 'none':\n",
    "            loss = loss\n",
    "        elif self.reduction == 'sum':\n",
    "            loss = loss.sum()\n",
    "        elif self.reduction == 'mean':\n",
    "            loss = loss.mean()\n",
    "        return loss"
   ]
  },
  {
   "cell_type": "markdown",
   "metadata": {
    "papermill": {
     "duration": 0.008452,
     "end_time": "2022-08-31T07:03:18.041557",
     "exception": false,
     "start_time": "2022-08-31T07:03:18.033105",
     "status": "completed"
    },
    "tags": []
   },
   "source": [
    "# Helpler functions"
   ]
  },
  {
   "cell_type": "code",
   "execution_count": 15,
   "metadata": {
    "papermill": {
     "duration": 0.030759,
     "end_time": "2022-08-31T07:03:18.08056",
     "exception": false,
     "start_time": "2022-08-31T07:03:18.049801",
     "status": "completed"
    },
    "tags": []
   },
   "outputs": [],
   "source": [
    "# ====================================================\n",
    "# Helper functions\n",
    "# ====================================================\n",
    "class AverageMeter(object):\n",
    "    \"\"\"Computes and stores the average and current value\"\"\"\n",
    "    def __init__(self):\n",
    "        self.reset()\n",
    "\n",
    "    def reset(self):\n",
    "        self.val = 0\n",
    "        self.avg = 0\n",
    "        self.sum = 0\n",
    "        self.count = 0\n",
    "\n",
    "    def update(self, val, n=1):\n",
    "        self.val = val\n",
    "        self.sum += val * n\n",
    "        self.count += n\n",
    "        self.avg = self.sum / self.count\n",
    "\n",
    "\n",
    "def asMinutes(s):\n",
    "    m = math.floor(s / 60)\n",
    "    s -= m * 60\n",
    "    return '%dm %ds' % (m, s)\n",
    "\n",
    "\n",
    "def timeSince(since, percent):\n",
    "    now = time.time()\n",
    "    s = now - since\n",
    "    es = s / (percent)\n",
    "    rs = es - s\n",
    "    return '%s (remain %s)' % (asMinutes(s), asMinutes(rs))\n",
    "\n",
    "\n",
    "def train_fn(fold, train_loader, model, criterion, optimizer, epoch, scheduler, device):\n",
    "    model.train()\n",
    "    scaler = torch.cuda.amp.GradScaler(enabled=CFG.apex)\n",
    "    losses = AverageMeter()\n",
    "    start = end = time.time()\n",
    "    global_step = 0\n",
    "    for step, (inputs, labels) in enumerate(train_loader):\n",
    "        inputs = collate(inputs)\n",
    "        for k, v in inputs.items():\n",
    "            inputs[k] = v.to(device)\n",
    "        labels = labels.to(device)\n",
    "        batch_size = labels.size(0)\n",
    "        with torch.cuda.amp.autocast(enabled=CFG.apex):\n",
    "            y_preds = model(inputs)\n",
    "            loss = criterion(y_preds, labels)\n",
    "        if CFG.gradient_accumulation_steps > 1:\n",
    "            loss = loss / CFG.gradient_accumulation_steps\n",
    "        losses.update(loss.item(), batch_size)\n",
    "        scaler.scale(loss).backward()\n",
    "        grad_norm = torch.nn.utils.clip_grad_norm_(model.parameters(), CFG.max_grad_norm)\n",
    "        if (step + 1) % CFG.gradient_accumulation_steps == 0:\n",
    "            scaler.step(optimizer)\n",
    "            scaler.update()\n",
    "            optimizer.zero_grad()\n",
    "            global_step += 1\n",
    "            if CFG.batch_scheduler:\n",
    "                scheduler.step()\n",
    "        end = time.time()\n",
    "        if step % CFG.print_freq == 0 or step == (len(train_loader)-1):\n",
    "            print('Epoch: [{0}][{1}/{2}] '\n",
    "                  'Elapsed {remain:s} '\n",
    "                  'Loss: {loss.val:.4f}({loss.avg:.4f}) '\n",
    "                  'Grad: {grad_norm:.4f}  '\n",
    "                  'LR: {lr:.8f}  '\n",
    "                  .format(epoch+1, step, len(train_loader), \n",
    "                          remain=timeSince(start, float(step+1)/len(train_loader)),\n",
    "                          loss=losses,\n",
    "                          grad_norm=grad_norm,\n",
    "                          lr=scheduler.get_lr()[0]))\n",
    "        if CFG.wandb:\n",
    "            wandb.log({f\"[fold{fold}] loss\": losses.val,\n",
    "                       f\"[fold{fold}] lr\": scheduler.get_lr()[0]})\n",
    "    return losses.avg\n",
    "\n",
    "\n",
    "def valid_fn(valid_loader, model, criterion, device):\n",
    "    losses = AverageMeter()\n",
    "    model.eval()\n",
    "    preds = []\n",
    "    start = end = time.time()\n",
    "    for step, (inputs, labels) in enumerate(valid_loader):\n",
    "        inputs = collate(inputs)\n",
    "        for k, v in inputs.items():\n",
    "            inputs[k] = v.to(device)\n",
    "        labels = labels.to(device)\n",
    "        batch_size = labels.size(0)\n",
    "        with torch.no_grad():\n",
    "            y_preds = model(inputs)\n",
    "            loss = criterion(y_preds, labels)\n",
    "        if CFG.gradient_accumulation_steps > 1:\n",
    "            loss = loss / CFG.gradient_accumulation_steps\n",
    "        losses.update(loss.item(), batch_size)\n",
    "        preds.append(y_preds.to('cpu').numpy())\n",
    "        end = time.time()\n",
    "        if step % CFG.print_freq == 0 or step == (len(valid_loader)-1):\n",
    "            print('EVAL: [{0}/{1}] '\n",
    "                  'Elapsed {remain:s} '\n",
    "                  'Loss: {loss.val:.4f}({loss.avg:.4f}) '\n",
    "                  .format(step, len(valid_loader),\n",
    "                          loss=losses,\n",
    "                          remain=timeSince(start, float(step+1)/len(valid_loader))))\n",
    "    predictions = np.concatenate(preds)\n",
    "    return losses.avg, predictions"
   ]
  },
  {
   "cell_type": "markdown",
   "metadata": {
    "papermill": {
     "duration": 0.0081,
     "end_time": "2022-08-31T07:03:18.100232",
     "exception": false,
     "start_time": "2022-08-31T07:03:18.092132",
     "status": "completed"
    },
    "tags": []
   },
   "source": [
    "# train loop"
   ]
  },
  {
   "cell_type": "code",
   "execution_count": 16,
   "metadata": {
    "papermill": {
     "duration": 0.033332,
     "end_time": "2022-08-31T07:03:18.141812",
     "exception": false,
     "start_time": "2022-08-31T07:03:18.10848",
     "status": "completed"
    },
    "tags": []
   },
   "outputs": [],
   "source": [
    "# ====================================================\n",
    "# train loop\n",
    "# ====================================================\n",
    "def train_loop(folds, fold):\n",
    "    \n",
    "    LOGGER.info(f\"========== fold: {fold} training ==========\")\n",
    "\n",
    "    # ====================================================\n",
    "    # loader\n",
    "    # ====================================================\n",
    "    train_folds = folds[folds['fold'] != fold].reset_index(drop=True)\n",
    "    valid_folds = folds[folds['fold'] == fold].reset_index(drop=True)\n",
    "    valid_labels = valid_folds[CFG.target_cols].values\n",
    "    \n",
    "    train_dataset = TrainDataset(CFG, train_folds)\n",
    "    valid_dataset = TrainDataset(CFG, valid_folds)\n",
    "\n",
    "    train_loader = DataLoader(train_dataset,\n",
    "                              batch_size=CFG.batch_size,\n",
    "                              shuffle=True,\n",
    "                              num_workers=CFG.num_workers, pin_memory=True, drop_last=True)\n",
    "    valid_loader = DataLoader(valid_dataset,\n",
    "                              batch_size=CFG.batch_size * 2,\n",
    "                              shuffle=False,\n",
    "                              num_workers=CFG.num_workers, pin_memory=True, drop_last=False)\n",
    "\n",
    "    # ====================================================\n",
    "    # model & optimizer\n",
    "    # ====================================================\n",
    "    model = CustomModel(CFG, config_path=None, pretrained=True)\n",
    "    torch.save(model.config, OUTPUT_DIR+'config.pth')\n",
    "    model.to(device)\n",
    "    \n",
    "    def get_optimizer_params(model, encoder_lr, decoder_lr, weight_decay=0.0):\n",
    "        param_optimizer = list(model.named_parameters())\n",
    "        no_decay = [\"bias\", \"LayerNorm.bias\", \"LayerNorm.weight\"]\n",
    "        optimizer_parameters = [\n",
    "            {'params': [p for n, p in model.model.named_parameters() if not any(nd in n for nd in no_decay)],\n",
    "             'lr': encoder_lr, 'weight_decay': weight_decay},\n",
    "            {'params': [p for n, p in model.model.named_parameters() if any(nd in n for nd in no_decay)],\n",
    "             'lr': encoder_lr, 'weight_decay': 0.0},\n",
    "            {'params': [p for n, p in model.named_parameters() if \"model\" not in n],\n",
    "             'lr': decoder_lr, 'weight_decay': 0.0}\n",
    "        ]\n",
    "        return optimizer_parameters\n",
    "\n",
    "    optimizer_parameters = get_optimizer_params(model,\n",
    "                                                encoder_lr=CFG.encoder_lr, \n",
    "                                                decoder_lr=CFG.decoder_lr,\n",
    "                                                weight_decay=CFG.weight_decay)\n",
    "    optimizer = AdamW(optimizer_parameters, lr=CFG.encoder_lr, eps=CFG.eps, betas=CFG.betas)\n",
    "    \n",
    "    # ====================================================\n",
    "    # scheduler\n",
    "    # ====================================================\n",
    "    def get_scheduler(cfg, optimizer, num_train_steps):\n",
    "        if cfg.scheduler == 'linear':\n",
    "            scheduler = get_linear_schedule_with_warmup(\n",
    "                optimizer, num_warmup_steps=cfg.num_warmup_steps, num_training_steps=num_train_steps\n",
    "            )\n",
    "        elif cfg.scheduler == 'cosine':\n",
    "            scheduler = get_cosine_schedule_with_warmup(\n",
    "                optimizer, num_warmup_steps=cfg.num_warmup_steps, num_training_steps=num_train_steps, num_cycles=cfg.num_cycles\n",
    "            )\n",
    "        return scheduler\n",
    "    \n",
    "    num_train_steps = int(len(train_folds) / CFG.batch_size * CFG.epochs)\n",
    "    scheduler = get_scheduler(CFG, optimizer, num_train_steps)\n",
    "\n",
    "    # ====================================================\n",
    "    # loop\n",
    "    # ====================================================\n",
    "    criterion = nn.SmoothL1Loss(reduction='mean') # RMSELoss(reduction=\"mean\")\n",
    "    \n",
    "    best_score = np.inf\n",
    "\n",
    "    for epoch in range(CFG.epochs):\n",
    "\n",
    "        start_time = time.time()\n",
    "\n",
    "        # train\n",
    "        avg_loss = train_fn(fold, train_loader, model, criterion, optimizer, epoch, scheduler, device)\n",
    "\n",
    "        # eval\n",
    "        avg_val_loss, predictions = valid_fn(valid_loader, model, criterion, device)\n",
    "        \n",
    "        # scoring\n",
    "        score, scores = get_score(valid_labels, predictions)\n",
    "\n",
    "        elapsed = time.time() - start_time\n",
    "\n",
    "        LOGGER.info(f'Epoch {epoch+1} - avg_train_loss: {avg_loss:.4f}  avg_val_loss: {avg_val_loss:.4f}  time: {elapsed:.0f}s')\n",
    "        LOGGER.info(f'Epoch {epoch+1} - Score: {score:.4f}  Scores: {scores}')\n",
    "        if CFG.wandb:\n",
    "            wandb.log({f\"[fold{fold}] epoch\": epoch+1, \n",
    "                       f\"[fold{fold}] avg_train_loss\": avg_loss, \n",
    "                       f\"[fold{fold}] avg_val_loss\": avg_val_loss,\n",
    "                       f\"[fold{fold}] score\": score})\n",
    "        \n",
    "        if best_score > score:\n",
    "            best_score = score\n",
    "            LOGGER.info(f'Epoch {epoch+1} - Save Best Score: {best_score:.4f} Model')\n",
    "            torch.save({'model': model.state_dict(),\n",
    "                        'predictions': predictions},\n",
    "                        OUTPUT_DIR+f\"{CFG.model.replace('/', '-')}_fold{fold}_best.pth\")\n",
    "\n",
    "    predictions = torch.load(OUTPUT_DIR+f\"{CFG.model.replace('/', '-')}_fold{fold}_best.pth\", \n",
    "                             map_location=torch.device('cpu'))['predictions']\n",
    "    valid_folds[[f\"pred_{c}\" for c in CFG.target_cols]] = predictions\n",
    "\n",
    "    torch.cuda.empty_cache()\n",
    "    gc.collect()\n",
    "    \n",
    "    return valid_folds"
   ]
  },
  {
   "cell_type": "code",
   "execution_count": 17,
   "metadata": {
    "papermill": {
     "duration": 11935.46951,
     "end_time": "2022-08-31T10:22:13.621316",
     "exception": false,
     "start_time": "2022-08-31T07:03:18.151806",
     "status": "completed"
    },
    "tags": []
   },
   "outputs": [
    {
     "name": "stderr",
     "output_type": "stream",
     "text": [
      "========== fold: 0 training ==========\n",
      "RobertaConfig {\n",
      "  \"_name_or_path\": \"/home/jupyter/models/roberta/distilroberta-base/\",\n",
      "  \"attention_dropout\": 0.0,\n",
      "  \"attention_probs_dropout_prob\": 0.0,\n",
      "  \"bos_token_id\": 0,\n",
      "  \"classifier_dropout\": null,\n",
      "  \"eos_token_id\": 2,\n",
      "  \"hidden_act\": \"gelu\",\n",
      "  \"hidden_dropout\": 0.0,\n",
      "  \"hidden_dropout_prob\": 0.0,\n",
      "  \"hidden_size\": 768,\n",
      "  \"initializer_range\": 0.02,\n",
      "  \"intermediate_size\": 3072,\n",
      "  \"layer_norm_eps\": 1e-05,\n",
      "  \"max_position_embeddings\": 514,\n",
      "  \"model_type\": \"roberta\",\n",
      "  \"num_attention_heads\": 12,\n",
      "  \"num_hidden_layers\": 6,\n",
      "  \"output_hidden_states\": true,\n",
      "  \"output_past\": true,\n",
      "  \"pad_token_id\": 1,\n",
      "  \"position_embedding_type\": \"absolute\",\n",
      "  \"transformers_version\": \"4.21.2\",\n",
      "  \"type_vocab_size\": 1,\n",
      "  \"use_cache\": true,\n",
      "  \"vocab_size\": 50265\n",
      "}\n",
      "\n"
     ]
    },
    {
     "name": "stdout",
     "output_type": "stream",
     "text": [
      "Epoch: [1][0/183] Elapsed 0m 1s (remain 4m 21s) Loss: 2.7417(2.7417) Grad: inf  LR: 0.00002000  \n",
      "Epoch: [1][20/183] Elapsed 0m 9s (remain 1m 10s) Loss: 0.6666(1.8494) Grad: 201893.8125  LR: 0.00001998  \n",
      "Epoch: [1][40/183] Elapsed 0m 16s (remain 0m 58s) Loss: 0.1837(1.0688) Grad: 25318.6133  LR: 0.00001993  \n",
      "Epoch: [1][60/183] Elapsed 0m 24s (remain 0m 49s) Loss: 0.1470(0.7744) Grad: 59787.0195  LR: 0.00001985  \n",
      "Epoch: [1][80/183] Elapsed 0m 32s (remain 0m 41s) Loss: 0.1592(0.6205) Grad: 165255.1094  LR: 0.00001973  \n",
      "Epoch: [1][100/183] Elapsed 0m 40s (remain 0m 33s) Loss: 0.1231(0.5253) Grad: 67120.3906  LR: 0.00001959  \n",
      "Epoch: [1][120/183] Elapsed 0m 48s (remain 0m 25s) Loss: 0.1357(0.4597) Grad: 27397.0508  LR: 0.00001941  \n",
      "Epoch: [1][140/183] Elapsed 0m 56s (remain 0m 16s) Loss: 0.0915(0.4120) Grad: 29622.0762  LR: 0.00001920  \n",
      "Epoch: [1][160/183] Elapsed 1m 4s (remain 0m 8s) Loss: 0.1574(0.3796) Grad: 101460.3281  LR: 0.00001896  \n",
      "Epoch: [1][180/183] Elapsed 1m 11s (remain 0m 0s) Loss: 0.1532(0.3527) Grad: 154638.1719  LR: 0.00001869  \n",
      "Epoch: [1][182/183] Elapsed 1m 13s (remain 0m 0s) Loss: 0.0950(0.3502) Grad: 41393.7578  LR: 0.00001866  \n",
      "EVAL: [0/31] Elapsed 0m 0s (remain 0m 25s) Loss: 0.1407(0.1407) \n",
      "EVAL: [20/31] Elapsed 0m 11s (remain 0m 5s) Loss: 0.0826(0.1281) \n"
     ]
    },
    {
     "name": "stderr",
     "output_type": "stream",
     "text": [
      "Epoch 1 - avg_train_loss: 0.3502  avg_val_loss: 0.1294  time: 90s\n",
      "Epoch 1 - Score: 0.5113  Scores: [0.5215590622655987, 0.5294799999075817, 0.47259084139336166, 0.49382272078741674, 0.5457771181511897, 0.504515055039274]\n",
      "Epoch 1 - Save Best Score: 0.5113 Model\n"
     ]
    },
    {
     "name": "stdout",
     "output_type": "stream",
     "text": [
      "EVAL: [30/31] Elapsed 0m 16s (remain 0m 0s) Loss: 0.0994(0.1294) \n",
      "Epoch: [2][0/183] Elapsed 0m 0s (remain 1m 58s) Loss: 0.1338(0.1338) Grad: 386439.4688  LR: 0.00001865  \n",
      "Epoch: [2][20/183] Elapsed 0m 8s (remain 1m 4s) Loss: 0.1690(0.1606) Grad: 161799.7188  LR: 0.00001835  \n",
      "Epoch: [2][40/183] Elapsed 0m 16s (remain 0m 55s) Loss: 0.1282(0.1469) Grad: 140228.7656  LR: 0.00001802  \n",
      "Epoch: [2][60/183] Elapsed 0m 23s (remain 0m 47s) Loss: 0.1343(0.1438) Grad: 53395.5156  LR: 0.00001766  \n",
      "Epoch: [2][80/183] Elapsed 0m 31s (remain 0m 39s) Loss: 0.1261(0.1373) Grad: 71337.6953  LR: 0.00001728  \n",
      "Epoch: [2][100/183] Elapsed 0m 39s (remain 0m 32s) Loss: 0.1343(0.1326) Grad: 48990.0195  LR: 0.00001688  \n",
      "Epoch: [2][120/183] Elapsed 0m 47s (remain 0m 24s) Loss: 0.1380(0.1291) Grad: 25175.9863  LR: 0.00001646  \n",
      "Epoch: [2][140/183] Elapsed 0m 54s (remain 0m 16s) Loss: 0.1332(0.1271) Grad: 49650.3242  LR: 0.00001601  \n",
      "Epoch: [2][160/183] Elapsed 1m 2s (remain 0m 8s) Loss: 0.1034(0.1262) Grad: 62721.3281  LR: 0.00001554  \n",
      "Epoch: [2][180/183] Elapsed 1m 10s (remain 0m 0s) Loss: 0.0958(0.1266) Grad: 20094.3223  LR: 0.00001506  \n",
      "Epoch: [2][182/183] Elapsed 1m 11s (remain 0m 0s) Loss: 0.1432(0.1267) Grad: 102057.6719  LR: 0.00001501  \n",
      "EVAL: [0/31] Elapsed 0m 0s (remain 0m 25s) Loss: 0.1291(0.1291) \n",
      "EVAL: [20/31] Elapsed 0m 11s (remain 0m 5s) Loss: 0.0902(0.1313) \n"
     ]
    },
    {
     "name": "stderr",
     "output_type": "stream",
     "text": [
      "Epoch 2 - avg_train_loss: 0.1267  avg_val_loss: 0.1325  time: 89s\n",
      "Epoch 2 - Score: 0.5172  Scores: [0.5337046440602825, 0.49568243516779814, 0.5014032748675641, 0.5530535943040318, 0.5311680365701917, 0.4884621155032401]\n"
     ]
    },
    {
     "name": "stdout",
     "output_type": "stream",
     "text": [
      "EVAL: [30/31] Elapsed 0m 17s (remain 0m 0s) Loss: 0.1002(0.1325) \n",
      "Epoch: [3][0/183] Elapsed 0m 0s (remain 1m 57s) Loss: 0.0978(0.0978) Grad: 380620.8750  LR: 0.00001498  \n",
      "Epoch: [3][20/183] Elapsed 0m 8s (remain 1m 4s) Loss: 0.1068(0.1149) Grad: 63261.7578  LR: 0.00001448  \n",
      "Epoch: [3][40/183] Elapsed 0m 16s (remain 0m 55s) Loss: 0.0968(0.1105) Grad: 63790.3984  LR: 0.00001396  \n",
      "Epoch: [3][60/183] Elapsed 0m 23s (remain 0m 47s) Loss: 0.1112(0.1068) Grad: 71194.8750  LR: 0.00001343  \n",
      "Epoch: [3][80/183] Elapsed 0m 31s (remain 0m 39s) Loss: 0.1225(0.1068) Grad: 56445.5391  LR: 0.00001289  \n",
      "Epoch: [3][100/183] Elapsed 0m 39s (remain 0m 31s) Loss: 0.1055(0.1072) Grad: 102858.4609  LR: 0.00001234  \n",
      "Epoch: [3][120/183] Elapsed 0m 47s (remain 0m 24s) Loss: 0.0810(0.1066) Grad: 149763.6719  LR: 0.00001178  \n",
      "Epoch: [3][140/183] Elapsed 0m 54s (remain 0m 16s) Loss: 0.1466(0.1080) Grad: 383750.7812  LR: 0.00001121  \n",
      "Epoch: [3][160/183] Elapsed 1m 2s (remain 0m 8s) Loss: 0.1153(0.1077) Grad: 94577.7344  LR: 0.00001064  \n",
      "Epoch: [3][180/183] Elapsed 1m 10s (remain 0m 0s) Loss: 0.0907(0.1092) Grad: 173639.6719  LR: 0.00001007  \n",
      "Epoch: [3][182/183] Elapsed 1m 11s (remain 0m 0s) Loss: 0.1459(0.1093) Grad: 214929.8438  LR: 0.00001001  \n",
      "EVAL: [0/31] Elapsed 0m 0s (remain 0m 25s) Loss: 0.1177(0.1177) \n",
      "EVAL: [20/31] Elapsed 0m 11s (remain 0m 5s) Loss: 0.0748(0.1113) \n"
     ]
    },
    {
     "name": "stderr",
     "output_type": "stream",
     "text": [
      "Epoch 3 - avg_train_loss: 0.1093  avg_val_loss: 0.1143  time: 88s\n",
      "Epoch 3 - Score: 0.4794  Scores: [0.5105006324404552, 0.47972774396928036, 0.43795036424429623, 0.479724615479615, 0.5045551204212141, 0.46387974128156423]\n",
      "Epoch 3 - Save Best Score: 0.4794 Model\n"
     ]
    },
    {
     "name": "stdout",
     "output_type": "stream",
     "text": [
      "EVAL: [30/31] Elapsed 0m 17s (remain 0m 0s) Loss: 0.0934(0.1143) \n",
      "Epoch: [4][0/183] Elapsed 0m 0s (remain 2m 10s) Loss: 0.1217(0.1217) Grad: 341053.9375  LR: 0.00000999  \n",
      "Epoch: [4][20/183] Elapsed 0m 8s (remain 1m 6s) Loss: 0.1271(0.0958) Grad: 239485.8281  LR: 0.00000941  \n",
      "Epoch: [4][40/183] Elapsed 0m 16s (remain 0m 56s) Loss: 0.0935(0.0941) Grad: 81197.5156  LR: 0.00000884  \n",
      "Epoch: [4][60/183] Elapsed 0m 24s (remain 0m 48s) Loss: 0.0937(0.0964) Grad: 230271.6875  LR: 0.00000828  \n",
      "Epoch: [4][80/183] Elapsed 0m 31s (remain 0m 40s) Loss: 0.1339(0.0998) Grad: 159805.5781  LR: 0.00000772  \n",
      "Epoch: [4][100/183] Elapsed 0m 39s (remain 0m 32s) Loss: 0.1126(0.1013) Grad: 101730.8516  LR: 0.00000717  \n",
      "Epoch: [4][120/183] Elapsed 0m 47s (remain 0m 24s) Loss: 0.0876(0.1000) Grad: 111334.3359  LR: 0.00000662  \n",
      "Epoch: [4][140/183] Elapsed 0m 55s (remain 0m 16s) Loss: 0.0949(0.1013) Grad: 108837.8750  LR: 0.00000609  \n",
      "Epoch: [4][160/183] Elapsed 1m 2s (remain 0m 8s) Loss: 0.0872(0.1007) Grad: 57967.8164  LR: 0.00000557  \n",
      "Epoch: [4][180/183] Elapsed 1m 10s (remain 0m 0s) Loss: 0.1223(0.1008) Grad: 22489.9434  LR: 0.00000507  \n",
      "Epoch: [4][182/183] Elapsed 1m 11s (remain 0m 0s) Loss: 0.0932(0.1009) Grad: 16009.1572  LR: 0.00000502  \n",
      "EVAL: [0/31] Elapsed 0m 0s (remain 0m 25s) Loss: 0.1210(0.1210) \n",
      "EVAL: [20/31] Elapsed 0m 11s (remain 0m 5s) Loss: 0.0794(0.1045) \n"
     ]
    },
    {
     "name": "stderr",
     "output_type": "stream",
     "text": [
      "Epoch 4 - avg_train_loss: 0.1009  avg_val_loss: 0.1085  time: 89s\n",
      "Epoch 4 - Score: 0.4665  Scores: [0.5013606459684039, 0.45397349886525984, 0.4221184889073812, 0.4709415833461413, 0.5006497079941599, 0.44984209122691887]\n",
      "Epoch 4 - Save Best Score: 0.4665 Model\n"
     ]
    },
    {
     "name": "stdout",
     "output_type": "stream",
     "text": [
      "EVAL: [30/31] Elapsed 0m 16s (remain 0m 0s) Loss: 0.0981(0.1085) \n",
      "Epoch: [5][0/183] Elapsed 0m 0s (remain 2m 12s) Loss: 0.0836(0.0836) Grad: 236501.5156  LR: 0.00000499  \n",
      "Epoch: [5][20/183] Elapsed 0m 8s (remain 1m 5s) Loss: 0.0851(0.1008) Grad: 261063.8906  LR: 0.00000451  \n",
      "Epoch: [5][40/183] Elapsed 0m 16s (remain 0m 55s) Loss: 0.0969(0.0999) Grad: 45731.7695  LR: 0.00000404  \n",
      "Epoch: [5][60/183] Elapsed 0m 23s (remain 0m 47s) Loss: 0.0891(0.0961) Grad: 70255.8438  LR: 0.00000359  \n",
      "Epoch: [5][80/183] Elapsed 0m 31s (remain 0m 39s) Loss: 0.1017(0.0965) Grad: 100340.4453  LR: 0.00000316  \n",
      "Epoch: [5][100/183] Elapsed 0m 39s (remain 0m 32s) Loss: 0.0671(0.0960) Grad: 38419.6953  LR: 0.00000275  \n",
      "Epoch: [5][120/183] Elapsed 0m 47s (remain 0m 24s) Loss: 0.1164(0.0957) Grad: 81822.3438  LR: 0.00000237  \n",
      "Epoch: [5][140/183] Elapsed 0m 55s (remain 0m 16s) Loss: 0.0942(0.0951) Grad: 68166.5312  LR: 0.00000202  \n",
      "Epoch: [5][160/183] Elapsed 1m 2s (remain 0m 8s) Loss: 0.0798(0.0955) Grad: 32310.6641  LR: 0.00000168  \n",
      "Epoch: [5][180/183] Elapsed 1m 10s (remain 0m 0s) Loss: 0.0816(0.0955) Grad: 57762.8906  LR: 0.00000138  \n",
      "Epoch: [5][182/183] Elapsed 1m 11s (remain 0m 0s) Loss: 0.1004(0.0955) Grad: 74775.7891  LR: 0.00000135  \n",
      "EVAL: [0/31] Elapsed 0m 0s (remain 0m 25s) Loss: 0.1163(0.1163) \n",
      "EVAL: [20/31] Elapsed 0m 11s (remain 0m 5s) Loss: 0.0786(0.1053) \n"
     ]
    },
    {
     "name": "stderr",
     "output_type": "stream",
     "text": [
      "Epoch 5 - avg_train_loss: 0.0955  avg_val_loss: 0.1089  time: 89s\n",
      "Epoch 5 - Score: 0.4675  Scores: [0.5033733992358971, 0.4567372272224916, 0.4228679296522007, 0.4720750255088612, 0.4981860096936775, 0.45192750120418884]\n"
     ]
    },
    {
     "name": "stdout",
     "output_type": "stream",
     "text": [
      "EVAL: [30/31] Elapsed 0m 16s (remain 0m 0s) Loss: 0.0934(0.1089) \n",
      "Epoch: [6][0/183] Elapsed 0m 0s (remain 2m 1s) Loss: 0.0799(0.0799) Grad: 101475.5234  LR: 0.00000134  \n",
      "Epoch: [6][20/183] Elapsed 0m 8s (remain 1m 5s) Loss: 0.0915(0.0935) Grad: 173797.5781  LR: 0.00000107  \n",
      "Epoch: [6][40/183] Elapsed 0m 16s (remain 0m 56s) Loss: 0.0838(0.0941) Grad: 241550.0469  LR: 0.00000082  \n",
      "Epoch: [6][60/183] Elapsed 0m 23s (remain 0m 47s) Loss: 0.1098(0.0931) Grad: 325861.0000  LR: 0.00000061  \n",
      "Epoch: [6][80/183] Elapsed 0m 31s (remain 0m 39s) Loss: 0.1034(0.0931) Grad: 94845.4219  LR: 0.00000043  \n",
      "Epoch: [6][100/183] Elapsed 0m 39s (remain 0m 31s) Loss: 0.0674(0.0927) Grad: 156414.8594  LR: 0.00000028  \n",
      "Epoch: [6][120/183] Elapsed 0m 47s (remain 0m 24s) Loss: 0.0739(0.0931) Grad: 227501.2188  LR: 0.00000016  \n",
      "Epoch: [6][140/183] Elapsed 0m 54s (remain 0m 16s) Loss: 0.0748(0.0929) Grad: 129531.3672  LR: 0.00000008  \n",
      "Epoch: [6][160/183] Elapsed 1m 2s (remain 0m 8s) Loss: 0.1232(0.0924) Grad: 70241.0312  LR: 0.00000002  \n",
      "Epoch: [6][180/183] Elapsed 1m 10s (remain 0m 0s) Loss: 0.1177(0.0928) Grad: 55776.8789  LR: 0.00000000  \n",
      "Epoch: [6][182/183] Elapsed 1m 11s (remain 0m 0s) Loss: 0.0710(0.0926) Grad: 121178.7891  LR: 0.00000000  \n",
      "EVAL: [0/31] Elapsed 0m 0s (remain 0m 25s) Loss: 0.1181(0.1181) \n",
      "EVAL: [20/31] Elapsed 0m 11s (remain 0m 5s) Loss: 0.0786(0.1047) \n"
     ]
    },
    {
     "name": "stderr",
     "output_type": "stream",
     "text": [
      "Epoch 6 - avg_train_loss: 0.0926  avg_val_loss: 0.1085  time: 89s\n",
      "Epoch 6 - Score: 0.4666  Scores: [0.5021717419016029, 0.4566991304526878, 0.42303455202907203, 0.46850624441926486, 0.49813113240316487, 0.45088868409888166]\n"
     ]
    },
    {
     "name": "stdout",
     "output_type": "stream",
     "text": [
      "EVAL: [30/31] Elapsed 0m 17s (remain 0m 0s) Loss: 0.0941(0.1085) \n"
     ]
    },
    {
     "name": "stderr",
     "output_type": "stream",
     "text": [
      "========== fold: 0 result ==========\n",
      "Score: 0.4665  Scores: [0.5013606459684039, 0.45397349886525984, 0.4221184889073812, 0.4709415833461413, 0.5006497079941599, 0.44984209122691887]\n",
      "========== fold: 1 training ==========\n",
      "RobertaConfig {\n",
      "  \"_name_or_path\": \"/home/jupyter/models/roberta/distilroberta-base/\",\n",
      "  \"attention_dropout\": 0.0,\n",
      "  \"attention_probs_dropout_prob\": 0.0,\n",
      "  \"bos_token_id\": 0,\n",
      "  \"classifier_dropout\": null,\n",
      "  \"eos_token_id\": 2,\n",
      "  \"hidden_act\": \"gelu\",\n",
      "  \"hidden_dropout\": 0.0,\n",
      "  \"hidden_dropout_prob\": 0.0,\n",
      "  \"hidden_size\": 768,\n",
      "  \"initializer_range\": 0.02,\n",
      "  \"intermediate_size\": 3072,\n",
      "  \"layer_norm_eps\": 1e-05,\n",
      "  \"max_position_embeddings\": 514,\n",
      "  \"model_type\": \"roberta\",\n",
      "  \"num_attention_heads\": 12,\n",
      "  \"num_hidden_layers\": 6,\n",
      "  \"output_hidden_states\": true,\n",
      "  \"output_past\": true,\n",
      "  \"pad_token_id\": 1,\n",
      "  \"position_embedding_type\": \"absolute\",\n",
      "  \"transformers_version\": \"4.21.2\",\n",
      "  \"type_vocab_size\": 1,\n",
      "  \"use_cache\": true,\n",
      "  \"vocab_size\": 50265\n",
      "}\n",
      "\n"
     ]
    },
    {
     "name": "stdout",
     "output_type": "stream",
     "text": [
      "Epoch: [1][0/183] Elapsed 0m 0s (remain 2m 8s) Loss: 2.4357(2.4357) Grad: inf  LR: 0.00002000  \n",
      "Epoch: [1][20/183] Elapsed 0m 8s (remain 1m 4s) Loss: 0.5005(1.8405) Grad: 336899.0000  LR: 0.00001998  \n",
      "Epoch: [1][40/183] Elapsed 0m 16s (remain 0m 55s) Loss: 0.2171(1.0638) Grad: 106121.4453  LR: 0.00001993  \n",
      "Epoch: [1][60/183] Elapsed 0m 23s (remain 0m 47s) Loss: 0.1711(0.7696) Grad: 209204.1250  LR: 0.00001985  \n",
      "Epoch: [1][80/183] Elapsed 0m 31s (remain 0m 39s) Loss: 0.1068(0.6208) Grad: 19116.8203  LR: 0.00001973  \n",
      "Epoch: [1][100/183] Elapsed 0m 39s (remain 0m 31s) Loss: 0.1077(0.5237) Grad: 39875.6797  LR: 0.00001959  \n",
      "Epoch: [1][120/183] Elapsed 0m 47s (remain 0m 24s) Loss: 0.1643(0.4608) Grad: 120247.3828  LR: 0.00001941  \n",
      "Epoch: [1][140/183] Elapsed 0m 54s (remain 0m 16s) Loss: 0.1514(0.4155) Grad: 64856.0352  LR: 0.00001920  \n",
      "Epoch: [1][160/183] Elapsed 1m 2s (remain 0m 8s) Loss: 0.1818(0.3809) Grad: 157452.3125  LR: 0.00001896  \n",
      "Epoch: [1][180/183] Elapsed 1m 10s (remain 0m 0s) Loss: 0.1357(0.3557) Grad: 140154.9531  LR: 0.00001869  \n",
      "Epoch: [1][182/183] Elapsed 1m 11s (remain 0m 0s) Loss: 0.1123(0.3530) Grad: 63280.2812  LR: 0.00001867  \n",
      "EVAL: [0/31] Elapsed 0m 0s (remain 0m 25s) Loss: 0.1284(0.1284) \n",
      "EVAL: [20/31] Elapsed 0m 11s (remain 0m 5s) Loss: 0.1196(0.1278) \n"
     ]
    },
    {
     "name": "stderr",
     "output_type": "stream",
     "text": [
      "Epoch 1 - avg_train_loss: 0.3530  avg_val_loss: 0.1255  time: 88s\n",
      "Epoch 1 - Score: 0.5027  Scores: [0.5285089184507066, 0.4873116002739172, 0.4611361924101568, 0.49687828618959756, 0.547416740913459, 0.4951965039543422]\n",
      "Epoch 1 - Save Best Score: 0.5027 Model\n"
     ]
    },
    {
     "name": "stdout",
     "output_type": "stream",
     "text": [
      "EVAL: [30/31] Elapsed 0m 17s (remain 0m 0s) Loss: 0.1070(0.1255) \n",
      "Epoch: [2][0/183] Elapsed 0m 0s (remain 2m 1s) Loss: 0.0893(0.0893) Grad: 92432.1484  LR: 0.00001865  \n",
      "Epoch: [2][20/183] Elapsed 0m 8s (remain 1m 5s) Loss: 0.1492(0.1203) Grad: 122635.3281  LR: 0.00001835  \n",
      "Epoch: [2][40/183] Elapsed 0m 16s (remain 0m 56s) Loss: 0.1129(0.1154) Grad: 107300.5469  LR: 0.00001802  \n",
      "Epoch: [2][60/183] Elapsed 0m 23s (remain 0m 47s) Loss: 0.1802(0.1205) Grad: 176693.4062  LR: 0.00001767  \n",
      "Epoch: [2][80/183] Elapsed 0m 31s (remain 0m 39s) Loss: 0.0889(0.1216) Grad: 33205.4531  LR: 0.00001729  \n",
      "Epoch: [2][100/183] Elapsed 0m 39s (remain 0m 31s) Loss: 0.1088(0.1219) Grad: 54761.2812  LR: 0.00001689  \n",
      "Epoch: [2][120/183] Elapsed 0m 47s (remain 0m 24s) Loss: 0.1277(0.1204) Grad: 33932.0977  LR: 0.00001646  \n",
      "Epoch: [2][140/183] Elapsed 0m 54s (remain 0m 16s) Loss: 0.0865(0.1197) Grad: 47866.4023  LR: 0.00001602  \n",
      "Epoch: [2][160/183] Elapsed 1m 2s (remain 0m 8s) Loss: 0.1428(0.1195) Grad: 79344.6172  LR: 0.00001555  \n",
      "Epoch: [2][180/183] Elapsed 1m 10s (remain 0m 0s) Loss: 0.1583(0.1205) Grad: 92641.7344  LR: 0.00001507  \n",
      "Epoch: [2][182/183] Elapsed 1m 11s (remain 0m 0s) Loss: 0.1419(0.1204) Grad: 44048.6523  LR: 0.00001502  \n",
      "EVAL: [0/31] Elapsed 0m 0s (remain 0m 25s) Loss: 0.1209(0.1209) \n",
      "EVAL: [20/31] Elapsed 0m 11s (remain 0m 5s) Loss: 0.1273(0.1269) \n"
     ]
    },
    {
     "name": "stderr",
     "output_type": "stream",
     "text": [
      "Epoch 2 - avg_train_loss: 0.1204  avg_val_loss: 0.1220  time: 88s\n",
      "Epoch 2 - Score: 0.4953  Scores: [0.522596789167419, 0.47491153324097524, 0.43931921729658036, 0.4913522057908318, 0.5235683326704862, 0.5201908684217635]\n",
      "Epoch 2 - Save Best Score: 0.4953 Model\n"
     ]
    },
    {
     "name": "stdout",
     "output_type": "stream",
     "text": [
      "EVAL: [30/31] Elapsed 0m 17s (remain 0m 0s) Loss: 0.1005(0.1220) \n",
      "Epoch: [3][0/183] Elapsed 0m 0s (remain 2m 12s) Loss: 0.1339(0.1339) Grad: 195489.1250  LR: 0.00001499  \n",
      "Epoch: [3][20/183] Elapsed 0m 8s (remain 1m 4s) Loss: 0.1228(0.1157) Grad: 146705.8438  LR: 0.00001449  \n",
      "Epoch: [3][40/183] Elapsed 0m 16s (remain 0m 55s) Loss: 0.0959(0.1078) Grad: 70795.6875  LR: 0.00001397  \n",
      "Epoch: [3][60/183] Elapsed 0m 23s (remain 0m 47s) Loss: 0.1062(0.1095) Grad: 80654.4844  LR: 0.00001344  \n",
      "Epoch: [3][80/183] Elapsed 0m 31s (remain 0m 39s) Loss: 0.1112(0.1089) Grad: 35293.9727  LR: 0.00001290  \n",
      "Epoch: [3][100/183] Elapsed 0m 39s (remain 0m 32s) Loss: 0.0961(0.1085) Grad: 31067.1426  LR: 0.00001235  \n",
      "Epoch: [3][120/183] Elapsed 0m 47s (remain 0m 24s) Loss: 0.0709(0.1074) Grad: 17550.3730  LR: 0.00001179  \n",
      "Epoch: [3][140/183] Elapsed 0m 54s (remain 0m 16s) Loss: 0.0961(0.1076) Grad: 45453.4219  LR: 0.00001122  \n",
      "Epoch: [3][160/183] Elapsed 1m 2s (remain 0m 8s) Loss: 0.1237(0.1071) Grad: 101986.4766  LR: 0.00001066  \n",
      "Epoch: [3][180/183] Elapsed 1m 10s (remain 0m 0s) Loss: 0.1279(0.1063) Grad: 18511.5820  LR: 0.00001009  \n",
      "Epoch: [3][182/183] Elapsed 1m 11s (remain 0m 0s) Loss: 0.0901(0.1061) Grad: 27749.2500  LR: 0.00001003  \n",
      "EVAL: [0/31] Elapsed 0m 0s (remain 0m 25s) Loss: 0.1090(0.1090) \n",
      "EVAL: [20/31] Elapsed 0m 11s (remain 0m 5s) Loss: 0.1077(0.1163) \n"
     ]
    },
    {
     "name": "stderr",
     "output_type": "stream",
     "text": [
      "Epoch 3 - avg_train_loss: 0.1061  avg_val_loss: 0.1152  time: 88s\n",
      "Epoch 3 - Score: 0.4810  Scores: [0.5170847756633281, 0.462708437171533, 0.4374431543060777, 0.4809864164472229, 0.5140753667521517, 0.4738666541631561]\n",
      "Epoch 3 - Save Best Score: 0.4810 Model\n"
     ]
    },
    {
     "name": "stdout",
     "output_type": "stream",
     "text": [
      "EVAL: [30/31] Elapsed 0m 17s (remain 0m 0s) Loss: 0.0963(0.1152) \n",
      "Epoch: [4][0/183] Elapsed 0m 0s (remain 2m 10s) Loss: 0.0972(0.0972) Grad: 100773.3203  LR: 0.00001000  \n",
      "Epoch: [4][20/183] Elapsed 0m 8s (remain 1m 5s) Loss: 0.0950(0.0987) Grad: 146743.3438  LR: 0.00000943  \n",
      "Epoch: [4][40/183] Elapsed 0m 16s (remain 0m 56s) Loss: 0.0809(0.1014) Grad: 52914.2891  LR: 0.00000886  \n",
      "Epoch: [4][60/183] Elapsed 0m 23s (remain 0m 47s) Loss: 0.1216(0.0998) Grad: 144035.7031  LR: 0.00000829  \n",
      "Epoch: [4][80/183] Elapsed 0m 31s (remain 0m 39s) Loss: 0.1122(0.0982) Grad: 38292.5273  LR: 0.00000774  \n",
      "Epoch: [4][100/183] Elapsed 0m 39s (remain 0m 31s) Loss: 0.1036(0.0973) Grad: 26502.2578  LR: 0.00000718  \n",
      "Epoch: [4][120/183] Elapsed 0m 47s (remain 0m 24s) Loss: 0.0647(0.0970) Grad: 49411.5625  LR: 0.00000664  \n",
      "Epoch: [4][140/183] Elapsed 0m 54s (remain 0m 16s) Loss: 0.1175(0.0983) Grad: 96096.4375  LR: 0.00000611  \n",
      "Epoch: [4][160/183] Elapsed 1m 2s (remain 0m 8s) Loss: 0.0961(0.0974) Grad: 28358.9980  LR: 0.00000559  \n",
      "Epoch: [4][180/183] Elapsed 1m 10s (remain 0m 0s) Loss: 0.1117(0.0982) Grad: 90074.5078  LR: 0.00000508  \n",
      "Epoch: [4][182/183] Elapsed 1m 11s (remain 0m 0s) Loss: 0.1346(0.0985) Grad: 51900.8984  LR: 0.00000503  \n",
      "EVAL: [0/31] Elapsed 0m 0s (remain 0m 25s) Loss: 0.1102(0.1102) \n",
      "EVAL: [20/31] Elapsed 0m 11s (remain 0m 5s) Loss: 0.1104(0.1164) \n"
     ]
    },
    {
     "name": "stderr",
     "output_type": "stream",
     "text": [
      "Epoch 4 - avg_train_loss: 0.0985  avg_val_loss: 0.1137  time: 88s\n",
      "Epoch 4 - Score: 0.4779  Scores: [0.5098947099432405, 0.4628925057238981, 0.4313965125227078, 0.47815092678420235, 0.5101833896751465, 0.4748424281170019]\n",
      "Epoch 4 - Save Best Score: 0.4779 Model\n"
     ]
    },
    {
     "name": "stdout",
     "output_type": "stream",
     "text": [
      "EVAL: [30/31] Elapsed 0m 17s (remain 0m 0s) Loss: 0.1018(0.1137) \n",
      "Epoch: [5][0/183] Elapsed 0m 0s (remain 2m 10s) Loss: 0.0905(0.0905) Grad: 277519.0312  LR: 0.00000501  \n",
      "Epoch: [5][20/183] Elapsed 0m 8s (remain 1m 4s) Loss: 0.0986(0.0928) Grad: 69997.6641  LR: 0.00000452  \n",
      "Epoch: [5][40/183] Elapsed 0m 16s (remain 0m 55s) Loss: 0.0723(0.0885) Grad: 74951.2812  LR: 0.00000405  \n",
      "Epoch: [5][60/183] Elapsed 0m 23s (remain 0m 47s) Loss: 0.0841(0.0898) Grad: 140581.7500  LR: 0.00000360  \n",
      "Epoch: [5][80/183] Elapsed 0m 31s (remain 0m 39s) Loss: 0.0834(0.0897) Grad: 50971.4531  LR: 0.00000318  \n",
      "Epoch: [5][100/183] Elapsed 0m 39s (remain 0m 32s) Loss: 0.0761(0.0901) Grad: 44747.7305  LR: 0.00000277  \n",
      "Epoch: [5][120/183] Elapsed 0m 47s (remain 0m 24s) Loss: 0.1485(0.0908) Grad: 179126.1719  LR: 0.00000239  \n",
      "Epoch: [5][140/183] Elapsed 0m 55s (remain 0m 16s) Loss: 0.0877(0.0904) Grad: 51564.6953  LR: 0.00000203  \n",
      "Epoch: [5][160/183] Elapsed 1m 2s (remain 0m 8s) Loss: 0.0841(0.0907) Grad: 30989.7012  LR: 0.00000170  \n",
      "Epoch: [5][180/183] Elapsed 1m 10s (remain 0m 0s) Loss: 0.0755(0.0907) Grad: 84742.5156  LR: 0.00000139  \n",
      "Epoch: [5][182/183] Elapsed 1m 11s (remain 0m 0s) Loss: 0.0723(0.0907) Grad: 59510.1836  LR: 0.00000136  \n",
      "EVAL: [0/31] Elapsed 0m 0s (remain 0m 25s) Loss: 0.1105(0.1105) \n",
      "EVAL: [20/31] Elapsed 0m 11s (remain 0m 5s) Loss: 0.1099(0.1163) \n"
     ]
    },
    {
     "name": "stderr",
     "output_type": "stream",
     "text": [
      "Epoch 5 - avg_train_loss: 0.0907  avg_val_loss: 0.1140  time: 88s\n",
      "Epoch 5 - Score: 0.4785  Scores: [0.509783482792184, 0.4635835359957527, 0.4292813574819711, 0.47979081726282036, 0.5118518454927204, 0.4766746569137207]\n"
     ]
    },
    {
     "name": "stdout",
     "output_type": "stream",
     "text": [
      "EVAL: [30/31] Elapsed 0m 16s (remain 0m 0s) Loss: 0.1035(0.1140) \n",
      "Epoch: [6][0/183] Elapsed 0m 0s (remain 1m 56s) Loss: 0.0777(0.0777) Grad: 117190.3203  LR: 0.00000135  \n",
      "Epoch: [6][20/183] Elapsed 0m 8s (remain 1m 5s) Loss: 0.1106(0.0901) Grad: 51030.0547  LR: 0.00000108  \n",
      "Epoch: [6][40/183] Elapsed 0m 16s (remain 0m 56s) Loss: 0.0863(0.0871) Grad: 52874.1328  LR: 0.00000083  \n",
      "Epoch: [6][60/183] Elapsed 0m 23s (remain 0m 47s) Loss: 0.1034(0.0879) Grad: 49435.1641  LR: 0.00000062  \n",
      "Epoch: [6][80/183] Elapsed 0m 31s (remain 0m 39s) Loss: 0.1011(0.0868) Grad: 106184.2578  LR: 0.00000044  \n",
      "Epoch: [6][100/183] Elapsed 0m 39s (remain 0m 31s) Loss: 0.0977(0.0883) Grad: 72377.4375  LR: 0.00000029  \n",
      "Epoch: [6][120/183] Elapsed 0m 47s (remain 0m 24s) Loss: 0.0822(0.0875) Grad: 96102.3516  LR: 0.00000017  \n",
      "Epoch: [6][140/183] Elapsed 0m 54s (remain 0m 16s) Loss: 0.1370(0.0877) Grad: 56274.0664  LR: 0.00000008  \n",
      "Epoch: [6][160/183] Elapsed 1m 2s (remain 0m 8s) Loss: 0.0604(0.0875) Grad: 43257.4180  LR: 0.00000002  \n",
      "Epoch: [6][180/183] Elapsed 1m 10s (remain 0m 0s) Loss: 0.0623(0.0876) Grad: 38656.3945  LR: 0.00000000  \n",
      "Epoch: [6][182/183] Elapsed 1m 11s (remain 0m 0s) Loss: 0.0732(0.0877) Grad: 105122.5000  LR: 0.00000000  \n",
      "EVAL: [0/31] Elapsed 0m 0s (remain 0m 25s) Loss: 0.1090(0.1090) \n",
      "EVAL: [20/31] Elapsed 0m 11s (remain 0m 5s) Loss: 0.1085(0.1153) \n"
     ]
    },
    {
     "name": "stderr",
     "output_type": "stream",
     "text": [
      "Epoch 6 - avg_train_loss: 0.0877  avg_val_loss: 0.1132  time: 89s\n",
      "Epoch 6 - Score: 0.4767  Scores: [0.5091446721539364, 0.4625948828686356, 0.4285419449020581, 0.47594831340432764, 0.509984236546168, 0.4742256697285648]\n",
      "Epoch 6 - Save Best Score: 0.4767 Model\n"
     ]
    },
    {
     "name": "stdout",
     "output_type": "stream",
     "text": [
      "EVAL: [30/31] Elapsed 0m 17s (remain 0m 0s) Loss: 0.1013(0.1132) \n"
     ]
    },
    {
     "name": "stderr",
     "output_type": "stream",
     "text": [
      "========== fold: 1 result ==========\n",
      "Score: 0.4767  Scores: [0.5091446721539364, 0.4625948828686356, 0.4285419449020581, 0.47594831340432764, 0.509984236546168, 0.4742256697285648]\n",
      "========== fold: 2 training ==========\n",
      "RobertaConfig {\n",
      "  \"_name_or_path\": \"/home/jupyter/models/roberta/distilroberta-base/\",\n",
      "  \"attention_dropout\": 0.0,\n",
      "  \"attention_probs_dropout_prob\": 0.0,\n",
      "  \"bos_token_id\": 0,\n",
      "  \"classifier_dropout\": null,\n",
      "  \"eos_token_id\": 2,\n",
      "  \"hidden_act\": \"gelu\",\n",
      "  \"hidden_dropout\": 0.0,\n",
      "  \"hidden_dropout_prob\": 0.0,\n",
      "  \"hidden_size\": 768,\n",
      "  \"initializer_range\": 0.02,\n",
      "  \"intermediate_size\": 3072,\n",
      "  \"layer_norm_eps\": 1e-05,\n",
      "  \"max_position_embeddings\": 514,\n",
      "  \"model_type\": \"roberta\",\n",
      "  \"num_attention_heads\": 12,\n",
      "  \"num_hidden_layers\": 6,\n",
      "  \"output_hidden_states\": true,\n",
      "  \"output_past\": true,\n",
      "  \"pad_token_id\": 1,\n",
      "  \"position_embedding_type\": \"absolute\",\n",
      "  \"transformers_version\": \"4.21.2\",\n",
      "  \"type_vocab_size\": 1,\n",
      "  \"use_cache\": true,\n",
      "  \"vocab_size\": 50265\n",
      "}\n",
      "\n"
     ]
    },
    {
     "name": "stdout",
     "output_type": "stream",
     "text": [
      "Epoch: [1][0/183] Elapsed 0m 0s (remain 2m 20s) Loss: 2.3819(2.3819) Grad: inf  LR: 0.00002000  \n",
      "Epoch: [1][20/183] Elapsed 0m 8s (remain 1m 4s) Loss: 0.4108(1.5275) Grad: 123217.5547  LR: 0.00001998  \n",
      "Epoch: [1][40/183] Elapsed 0m 16s (remain 0m 55s) Loss: 0.1834(0.8871) Grad: 61793.5352  LR: 0.00001993  \n",
      "Epoch: [1][60/183] Elapsed 0m 23s (remain 0m 47s) Loss: 0.2069(0.6535) Grad: 75460.6172  LR: 0.00001985  \n",
      "Epoch: [1][80/183] Elapsed 0m 31s (remain 0m 40s) Loss: 0.2131(0.5342) Grad: 211633.1406  LR: 0.00001973  \n",
      "Epoch: [1][100/183] Elapsed 0m 39s (remain 0m 32s) Loss: 0.1174(0.4587) Grad: 34994.5039  LR: 0.00001959  \n",
      "Epoch: [1][120/183] Elapsed 0m 47s (remain 0m 24s) Loss: 0.1066(0.4053) Grad: 67236.2031  LR: 0.00001941  \n",
      "Epoch: [1][140/183] Elapsed 0m 55s (remain 0m 16s) Loss: 0.1337(0.3683) Grad: 38662.1602  LR: 0.00001920  \n",
      "Epoch: [1][160/183] Elapsed 1m 2s (remain 0m 8s) Loss: 0.1276(0.3379) Grad: 31368.5664  LR: 0.00001896  \n",
      "Epoch: [1][180/183] Elapsed 1m 10s (remain 0m 0s) Loss: 0.1724(0.3152) Grad: 42726.8906  LR: 0.00001869  \n",
      "Epoch: [1][182/183] Elapsed 1m 11s (remain 0m 0s) Loss: 0.1202(0.3133) Grad: 91996.8281  LR: 0.00001866  \n",
      "EVAL: [0/31] Elapsed 0m 0s (remain 0m 26s) Loss: 0.1257(0.1257) \n",
      "EVAL: [20/31] Elapsed 0m 11s (remain 0m 5s) Loss: 0.1090(0.1276) \n"
     ]
    },
    {
     "name": "stderr",
     "output_type": "stream",
     "text": [
      "Epoch 1 - avg_train_loss: 0.3133  avg_val_loss: 0.1265  time: 89s\n",
      "Epoch 1 - Score: 0.5051  Scores: [0.5386418335199264, 0.49150409049436067, 0.4647586799904881, 0.5233533586216553, 0.5265593731338504, 0.48605287268717506]\n",
      "Epoch 1 - Save Best Score: 0.5051 Model\n"
     ]
    },
    {
     "name": "stdout",
     "output_type": "stream",
     "text": [
      "EVAL: [30/31] Elapsed 0m 16s (remain 0m 0s) Loss: 0.1109(0.1265) \n",
      "Epoch: [2][0/183] Elapsed 0m 0s (remain 2m 2s) Loss: 0.1086(0.1086) Grad: 72974.1953  LR: 0.00001865  \n",
      "Epoch: [2][20/183] Elapsed 0m 8s (remain 1m 5s) Loss: 0.0939(0.1223) Grad: 19466.6270  LR: 0.00001835  \n",
      "Epoch: [2][40/183] Elapsed 0m 16s (remain 0m 56s) Loss: 0.0781(0.1213) Grad: 26033.3711  LR: 0.00001802  \n",
      "Epoch: [2][60/183] Elapsed 0m 23s (remain 0m 47s) Loss: 0.1077(0.1185) Grad: 56188.1680  LR: 0.00001766  \n",
      "Epoch: [2][80/183] Elapsed 0m 31s (remain 0m 39s) Loss: 0.1436(0.1212) Grad: 32523.7520  LR: 0.00001728  \n",
      "Epoch: [2][100/183] Elapsed 0m 39s (remain 0m 31s) Loss: 0.0911(0.1220) Grad: 30404.9277  LR: 0.00001688  \n",
      "Epoch: [2][120/183] Elapsed 0m 47s (remain 0m 24s) Loss: 0.1279(0.1212) Grad: 41027.7734  LR: 0.00001646  \n",
      "Epoch: [2][140/183] Elapsed 0m 54s (remain 0m 16s) Loss: 0.0784(0.1221) Grad: 58781.5625  LR: 0.00001601  \n",
      "Epoch: [2][160/183] Elapsed 1m 2s (remain 0m 8s) Loss: 0.1095(0.1213) Grad: 66218.7188  LR: 0.00001554  \n",
      "Epoch: [2][180/183] Elapsed 1m 10s (remain 0m 0s) Loss: 0.1151(0.1226) Grad: 112264.3906  LR: 0.00001506  \n",
      "Epoch: [2][182/183] Elapsed 1m 11s (remain 0m 0s) Loss: 0.0941(0.1226) Grad: 63572.6797  LR: 0.00001501  \n",
      "EVAL: [0/31] Elapsed 0m 0s (remain 0m 25s) Loss: 0.1324(0.1324) \n",
      "EVAL: [20/31] Elapsed 0m 11s (remain 0m 5s) Loss: 0.0987(0.1317) \n"
     ]
    },
    {
     "name": "stderr",
     "output_type": "stream",
     "text": [
      "Epoch 2 - avg_train_loss: 0.1226  avg_val_loss: 0.1311  time: 88s\n",
      "Epoch 2 - Score: 0.5148  Scores: [0.5109140880957497, 0.49567260010348296, 0.509733833980682, 0.5326951422052855, 0.5370469475086925, 0.5024782722171605]\n"
     ]
    },
    {
     "name": "stdout",
     "output_type": "stream",
     "text": [
      "EVAL: [30/31] Elapsed 0m 17s (remain 0m 0s) Loss: 0.1042(0.1311) \n",
      "Epoch: [3][0/183] Elapsed 0m 0s (remain 2m 2s) Loss: 0.1008(0.1008) Grad: 347778.5938  LR: 0.00001498  \n",
      "Epoch: [3][20/183] Elapsed 0m 8s (remain 1m 4s) Loss: 0.0751(0.1047) Grad: 40391.9922  LR: 0.00001448  \n",
      "Epoch: [3][40/183] Elapsed 0m 16s (remain 0m 55s) Loss: 0.0848(0.1039) Grad: 52417.6445  LR: 0.00001396  \n",
      "Epoch: [3][60/183] Elapsed 0m 23s (remain 0m 47s) Loss: 0.1436(0.1043) Grad: 50714.6641  LR: 0.00001343  \n",
      "Epoch: [3][80/183] Elapsed 0m 31s (remain 0m 39s) Loss: 0.1303(0.1049) Grad: 231375.4531  LR: 0.00001289  \n",
      "Epoch: [3][100/183] Elapsed 0m 39s (remain 0m 31s) Loss: 0.0938(0.1056) Grad: 53124.9414  LR: 0.00001234  \n",
      "Epoch: [3][120/183] Elapsed 0m 47s (remain 0m 24s) Loss: 0.0867(0.1064) Grad: 48085.6875  LR: 0.00001178  \n",
      "Epoch: [3][140/183] Elapsed 0m 54s (remain 0m 16s) Loss: 0.1310(0.1059) Grad: 85321.6953  LR: 0.00001121  \n",
      "Epoch: [3][160/183] Elapsed 1m 2s (remain 0m 8s) Loss: 0.1077(0.1067) Grad: 30031.0586  LR: 0.00001064  \n",
      "Epoch: [3][180/183] Elapsed 1m 10s (remain 0m 0s) Loss: 0.1170(0.1065) Grad: 48259.5742  LR: 0.00001007  \n",
      "Epoch: [3][182/183] Elapsed 1m 11s (remain 0m 0s) Loss: 0.0732(0.1064) Grad: 35417.5938  LR: 0.00001001  \n",
      "EVAL: [0/31] Elapsed 0m 0s (remain 0m 26s) Loss: 0.1128(0.1128) \n",
      "EVAL: [20/31] Elapsed 0m 11s (remain 0m 5s) Loss: 0.1020(0.1145) \n"
     ]
    },
    {
     "name": "stderr",
     "output_type": "stream",
     "text": [
      "Epoch 3 - avg_train_loss: 0.1064  avg_val_loss: 0.1146  time: 88s\n",
      "Epoch 3 - Score: 0.4801  Scores: [0.5072586353692581, 0.4648165070716551, 0.43890305007358066, 0.4831970071995612, 0.5074773531231497, 0.4786630921226034]\n",
      "Epoch 3 - Save Best Score: 0.4801 Model\n"
     ]
    },
    {
     "name": "stdout",
     "output_type": "stream",
     "text": [
      "EVAL: [30/31] Elapsed 0m 17s (remain 0m 0s) Loss: 0.1085(0.1146) \n",
      "Epoch: [4][0/183] Elapsed 0m 0s (remain 2m 15s) Loss: 0.0724(0.0724) Grad: 95474.5625  LR: 0.00000999  \n",
      "Epoch: [4][20/183] Elapsed 0m 8s (remain 1m 5s) Loss: 0.0895(0.1023) Grad: 301827.1875  LR: 0.00000941  \n",
      "Epoch: [4][40/183] Elapsed 0m 16s (remain 0m 56s) Loss: 0.0942(0.1005) Grad: 211458.5469  LR: 0.00000884  \n",
      "Epoch: [4][60/183] Elapsed 0m 23s (remain 0m 47s) Loss: 0.0790(0.1013) Grad: 23021.3047  LR: 0.00000828  \n",
      "Epoch: [4][80/183] Elapsed 0m 31s (remain 0m 39s) Loss: 0.0839(0.1015) Grad: 17745.0781  LR: 0.00000772  \n",
      "Epoch: [4][100/183] Elapsed 0m 39s (remain 0m 32s) Loss: 0.0817(0.1017) Grad: 19221.5352  LR: 0.00000717  \n",
      "Epoch: [4][120/183] Elapsed 0m 47s (remain 0m 24s) Loss: 0.0689(0.1005) Grad: 41704.8711  LR: 0.00000662  \n",
      "Epoch: [4][140/183] Elapsed 0m 54s (remain 0m 16s) Loss: 0.0953(0.1006) Grad: 24292.1836  LR: 0.00000609  \n",
      "Epoch: [4][160/183] Elapsed 1m 2s (remain 0m 8s) Loss: 0.0733(0.1016) Grad: 90816.9531  LR: 0.00000557  \n",
      "Epoch: [4][180/183] Elapsed 1m 10s (remain 0m 0s) Loss: 0.1063(0.1015) Grad: 40478.9648  LR: 0.00000507  \n",
      "Epoch: [4][182/183] Elapsed 1m 11s (remain 0m 0s) Loss: 0.1093(0.1016) Grad: 93533.8672  LR: 0.00000502  \n",
      "EVAL: [0/31] Elapsed 0m 0s (remain 0m 25s) Loss: 0.1176(0.1176) \n",
      "EVAL: [20/31] Elapsed 0m 11s (remain 0m 5s) Loss: 0.1152(0.1186) \n"
     ]
    },
    {
     "name": "stderr",
     "output_type": "stream",
     "text": [
      "Epoch 4 - avg_train_loss: 0.1016  avg_val_loss: 0.1183  time: 88s\n",
      "Epoch 4 - Score: 0.4880  Scores: [0.5046381192586412, 0.47208314692383163, 0.4452281606830843, 0.48346061849878674, 0.5298614884913212, 0.49284347466332046]\n"
     ]
    },
    {
     "name": "stdout",
     "output_type": "stream",
     "text": [
      "EVAL: [30/31] Elapsed 0m 17s (remain 0m 0s) Loss: 0.1152(0.1183) \n",
      "Epoch: [5][0/183] Elapsed 0m 0s (remain 2m 2s) Loss: 0.0869(0.0869) Grad: 132317.1562  LR: 0.00000499  \n",
      "Epoch: [5][20/183] Elapsed 0m 8s (remain 1m 4s) Loss: 0.0959(0.0874) Grad: 101936.0078  LR: 0.00000451  \n",
      "Epoch: [5][40/183] Elapsed 0m 16s (remain 0m 55s) Loss: 0.0868(0.0926) Grad: 68218.6484  LR: 0.00000404  \n",
      "Epoch: [5][60/183] Elapsed 0m 23s (remain 0m 47s) Loss: 0.0797(0.0926) Grad: 61816.4258  LR: 0.00000359  \n",
      "Epoch: [5][80/183] Elapsed 0m 31s (remain 0m 39s) Loss: 0.0851(0.0932) Grad: 65875.0781  LR: 0.00000316  \n",
      "Epoch: [5][100/183] Elapsed 0m 39s (remain 0m 32s) Loss: 0.1120(0.0940) Grad: 186899.3125  LR: 0.00000275  \n",
      "Epoch: [5][120/183] Elapsed 0m 47s (remain 0m 24s) Loss: 0.0820(0.0939) Grad: 40957.0938  LR: 0.00000237  \n",
      "Epoch: [5][140/183] Elapsed 0m 54s (remain 0m 16s) Loss: 0.0913(0.0941) Grad: 37210.5156  LR: 0.00000202  \n",
      "Epoch: [5][160/183] Elapsed 1m 2s (remain 0m 8s) Loss: 0.0911(0.0941) Grad: 27723.1777  LR: 0.00000168  \n",
      "Epoch: [5][180/183] Elapsed 1m 10s (remain 0m 0s) Loss: 0.0638(0.0944) Grad: 43412.9766  LR: 0.00000138  \n",
      "Epoch: [5][182/183] Elapsed 1m 11s (remain 0m 0s) Loss: 0.0847(0.0943) Grad: 106773.1719  LR: 0.00000135  \n",
      "EVAL: [0/31] Elapsed 0m 0s (remain 0m 25s) Loss: 0.1095(0.1095) \n",
      "EVAL: [20/31] Elapsed 0m 11s (remain 0m 5s) Loss: 0.0980(0.1126) \n"
     ]
    },
    {
     "name": "stderr",
     "output_type": "stream",
     "text": [
      "Epoch 5 - avg_train_loss: 0.0943  avg_val_loss: 0.1123  time: 88s\n",
      "Epoch 5 - Score: 0.4752  Scores: [0.5027854058500779, 0.467352515068533, 0.43567297578669245, 0.4793350800232709, 0.49877297039435553, 0.46709510715612546]\n",
      "Epoch 5 - Save Best Score: 0.4752 Model\n"
     ]
    },
    {
     "name": "stdout",
     "output_type": "stream",
     "text": [
      "EVAL: [30/31] Elapsed 0m 17s (remain 0m 0s) Loss: 0.1013(0.1123) \n",
      "Epoch: [6][0/183] Elapsed 0m 0s (remain 2m 13s) Loss: 0.0841(0.0841) Grad: inf  LR: 0.00000134  \n",
      "Epoch: [6][20/183] Elapsed 0m 8s (remain 1m 6s) Loss: 0.1137(0.0899) Grad: 112749.8906  LR: 0.00000107  \n",
      "Epoch: [6][40/183] Elapsed 0m 16s (remain 0m 56s) Loss: 0.1137(0.0918) Grad: 108201.1641  LR: 0.00000082  \n",
      "Epoch: [6][60/183] Elapsed 0m 24s (remain 0m 48s) Loss: 0.0844(0.0907) Grad: 68130.6797  LR: 0.00000061  \n",
      "Epoch: [6][80/183] Elapsed 0m 31s (remain 0m 40s) Loss: 0.1307(0.0917) Grad: 38643.8164  LR: 0.00000043  \n",
      "Epoch: [6][100/183] Elapsed 0m 39s (remain 0m 32s) Loss: 0.1016(0.0906) Grad: 35650.5898  LR: 0.00000028  \n",
      "Epoch: [6][120/183] Elapsed 0m 47s (remain 0m 24s) Loss: 0.0889(0.0907) Grad: 37691.7031  LR: 0.00000016  \n",
      "Epoch: [6][140/183] Elapsed 0m 55s (remain 0m 16s) Loss: 0.0685(0.0903) Grad: 144979.7500  LR: 0.00000008  \n",
      "Epoch: [6][160/183] Elapsed 1m 2s (remain 0m 8s) Loss: 0.1007(0.0907) Grad: 81130.0703  LR: 0.00000002  \n",
      "Epoch: [6][180/183] Elapsed 1m 10s (remain 0m 0s) Loss: 0.0816(0.0910) Grad: 58056.9180  LR: 0.00000000  \n",
      "Epoch: [6][182/183] Elapsed 1m 11s (remain 0m 0s) Loss: 0.0781(0.0911) Grad: 44755.9375  LR: 0.00000000  \n",
      "EVAL: [0/31] Elapsed 0m 0s (remain 0m 25s) Loss: 0.1088(0.1088) \n",
      "EVAL: [20/31] Elapsed 0m 11s (remain 0m 5s) Loss: 0.1012(0.1115) \n"
     ]
    },
    {
     "name": "stderr",
     "output_type": "stream",
     "text": [
      "Epoch 6 - avg_train_loss: 0.0911  avg_val_loss: 0.1112  time: 89s\n",
      "Epoch 6 - Score: 0.4729  Scores: [0.5021377117304751, 0.4588727488517911, 0.4332807290879617, 0.47604860295177387, 0.5003197471110726, 0.46647191006523686]\n",
      "Epoch 6 - Save Best Score: 0.4729 Model\n"
     ]
    },
    {
     "name": "stdout",
     "output_type": "stream",
     "text": [
      "EVAL: [30/31] Elapsed 0m 16s (remain 0m 0s) Loss: 0.1042(0.1112) \n"
     ]
    },
    {
     "name": "stderr",
     "output_type": "stream",
     "text": [
      "========== fold: 2 result ==========\n",
      "Score: 0.4729  Scores: [0.5021377117304751, 0.4588727488517911, 0.4332807290879617, 0.47604860295177387, 0.5003197471110726, 0.46647191006523686]\n",
      "========== fold: 3 training ==========\n",
      "RobertaConfig {\n",
      "  \"_name_or_path\": \"/home/jupyter/models/roberta/distilroberta-base/\",\n",
      "  \"attention_dropout\": 0.0,\n",
      "  \"attention_probs_dropout_prob\": 0.0,\n",
      "  \"bos_token_id\": 0,\n",
      "  \"classifier_dropout\": null,\n",
      "  \"eos_token_id\": 2,\n",
      "  \"hidden_act\": \"gelu\",\n",
      "  \"hidden_dropout\": 0.0,\n",
      "  \"hidden_dropout_prob\": 0.0,\n",
      "  \"hidden_size\": 768,\n",
      "  \"initializer_range\": 0.02,\n",
      "  \"intermediate_size\": 3072,\n",
      "  \"layer_norm_eps\": 1e-05,\n",
      "  \"max_position_embeddings\": 514,\n",
      "  \"model_type\": \"roberta\",\n",
      "  \"num_attention_heads\": 12,\n",
      "  \"num_hidden_layers\": 6,\n",
      "  \"output_hidden_states\": true,\n",
      "  \"output_past\": true,\n",
      "  \"pad_token_id\": 1,\n",
      "  \"position_embedding_type\": \"absolute\",\n",
      "  \"transformers_version\": \"4.21.2\",\n",
      "  \"type_vocab_size\": 1,\n",
      "  \"use_cache\": true,\n",
      "  \"vocab_size\": 50265\n",
      "}\n",
      "\n"
     ]
    },
    {
     "name": "stdout",
     "output_type": "stream",
     "text": [
      "Epoch: [1][0/183] Elapsed 0m 0s (remain 2m 19s) Loss: 2.4971(2.4971) Grad: inf  LR: 0.00002000  \n",
      "Epoch: [1][20/183] Elapsed 0m 8s (remain 1m 5s) Loss: 0.4381(1.6635) Grad: 160094.6875  LR: 0.00001998  \n",
      "Epoch: [1][40/183] Elapsed 0m 16s (remain 0m 55s) Loss: 0.1382(0.9523) Grad: 29178.9609  LR: 0.00001993  \n",
      "Epoch: [1][60/183] Elapsed 0m 23s (remain 0m 47s) Loss: 0.1604(0.6950) Grad: 71855.6719  LR: 0.00001985  \n",
      "Epoch: [1][80/183] Elapsed 0m 31s (remain 0m 40s) Loss: 0.1762(0.5610) Grad: 77054.6641  LR: 0.00001973  \n",
      "Epoch: [1][100/183] Elapsed 0m 39s (remain 0m 32s) Loss: 0.1167(0.4784) Grad: 129404.1406  LR: 0.00001959  \n",
      "Epoch: [1][120/183] Elapsed 0m 47s (remain 0m 24s) Loss: 0.1441(0.4229) Grad: 68702.0469  LR: 0.00001941  \n",
      "Epoch: [1][140/183] Elapsed 0m 55s (remain 0m 16s) Loss: 0.1004(0.3842) Grad: 98760.1328  LR: 0.00001920  \n",
      "Epoch: [1][160/183] Elapsed 1m 2s (remain 0m 8s) Loss: 0.1555(0.3532) Grad: 40385.2539  LR: 0.00001896  \n",
      "Epoch: [1][180/183] Elapsed 1m 10s (remain 0m 0s) Loss: 0.1285(0.3292) Grad: 38575.0156  LR: 0.00001869  \n",
      "Epoch: [1][182/183] Elapsed 1m 11s (remain 0m 0s) Loss: 0.1785(0.3271) Grad: 137824.0781  LR: 0.00001866  \n",
      "EVAL: [0/31] Elapsed 0m 0s (remain 0m 26s) Loss: 0.1693(0.1693) \n",
      "EVAL: [20/31] Elapsed 0m 11s (remain 0m 5s) Loss: 0.2112(0.1987) \n",
      "EVAL: [30/31] Elapsed 0m 17s (remain 0m 0s) Loss: 0.1579(0.2001) \n"
     ]
    },
    {
     "name": "stderr",
     "output_type": "stream",
     "text": [
      "Epoch 1 - avg_train_loss: 0.3271  avg_val_loss: 0.2001  time: 89s\n",
      "Epoch 1 - Score: 0.6375  Scores: [0.6486824444382663, 0.5510524679239776, 0.5843778052109051, 0.7072095884437091, 0.7179294775423912, 0.615593991042399]\n",
      "Epoch 1 - Save Best Score: 0.6375 Model\n"
     ]
    },
    {
     "name": "stdout",
     "output_type": "stream",
     "text": [
      "Epoch: [2][0/183] Elapsed 0m 1s (remain 3m 23s) Loss: 0.1082(0.1082) Grad: 388351.9688  LR: 0.00001865  \n",
      "Epoch: [2][20/183] Elapsed 0m 8s (remain 1m 7s) Loss: 0.1546(0.1728) Grad: 154569.6406  LR: 0.00001835  \n",
      "Epoch: [2][40/183] Elapsed 0m 16s (remain 0m 57s) Loss: 0.1193(0.1560) Grad: 90441.2344  LR: 0.00001802  \n",
      "Epoch: [2][60/183] Elapsed 0m 24s (remain 0m 48s) Loss: 0.1330(0.1489) Grad: 113193.6719  LR: 0.00001766  \n",
      "Epoch: [2][80/183] Elapsed 0m 32s (remain 0m 40s) Loss: 0.1231(0.1436) Grad: 86872.7266  LR: 0.00001728  \n",
      "Epoch: [2][100/183] Elapsed 0m 39s (remain 0m 32s) Loss: 0.0986(0.1401) Grad: 36399.8242  LR: 0.00001688  \n",
      "Epoch: [2][120/183] Elapsed 0m 47s (remain 0m 24s) Loss: 0.1242(0.1344) Grad: 32519.3789  LR: 0.00001646  \n",
      "Epoch: [2][140/183] Elapsed 0m 55s (remain 0m 16s) Loss: 0.2285(0.1338) Grad: 256895.0469  LR: 0.00001601  \n",
      "Epoch: [2][160/183] Elapsed 1m 3s (remain 0m 8s) Loss: 0.1444(0.1333) Grad: 97542.2812  LR: 0.00001554  \n",
      "Epoch: [2][180/183] Elapsed 1m 10s (remain 0m 0s) Loss: 0.1044(0.1318) Grad: 64870.0820  LR: 0.00001506  \n",
      "Epoch: [2][182/183] Elapsed 1m 11s (remain 0m 0s) Loss: 0.1602(0.1318) Grad: 71107.2969  LR: 0.00001501  \n",
      "EVAL: [0/31] Elapsed 0m 0s (remain 0m 26s) Loss: 0.1089(0.1089) \n",
      "EVAL: [20/31] Elapsed 0m 11s (remain 0m 5s) Loss: 0.1136(0.1143) \n"
     ]
    },
    {
     "name": "stderr",
     "output_type": "stream",
     "text": [
      "Epoch 2 - avg_train_loss: 0.1318  avg_val_loss: 0.1144  time: 89s\n",
      "Epoch 2 - Score: 0.4800  Scores: [0.5087857407117365, 0.465018715974077, 0.4370420608884207, 0.4806913323821237, 0.5251903859526887, 0.4633171590352399]\n",
      "Epoch 2 - Save Best Score: 0.4800 Model\n"
     ]
    },
    {
     "name": "stdout",
     "output_type": "stream",
     "text": [
      "EVAL: [30/31] Elapsed 0m 17s (remain 0m 0s) Loss: 0.0859(0.1144) \n",
      "Epoch: [3][0/183] Elapsed 0m 0s (remain 2m 10s) Loss: 0.1066(0.1066) Grad: inf  LR: 0.00001498  \n",
      "Epoch: [3][20/183] Elapsed 0m 8s (remain 1m 4s) Loss: 0.1429(0.1099) Grad: 152239.2656  LR: 0.00001448  \n",
      "Epoch: [3][40/183] Elapsed 0m 16s (remain 0m 55s) Loss: 0.0876(0.1119) Grad: 154585.4375  LR: 0.00001396  \n",
      "Epoch: [3][60/183] Elapsed 0m 23s (remain 0m 47s) Loss: 0.0965(0.1119) Grad: 111980.9766  LR: 0.00001343  \n",
      "Epoch: [3][80/183] Elapsed 0m 31s (remain 0m 40s) Loss: 0.1310(0.1120) Grad: 83814.1484  LR: 0.00001289  \n",
      "Epoch: [3][100/183] Elapsed 0m 39s (remain 0m 32s) Loss: 0.1159(0.1136) Grad: 32191.1875  LR: 0.00001234  \n",
      "Epoch: [3][120/183] Elapsed 0m 47s (remain 0m 24s) Loss: 0.1275(0.1138) Grad: 31813.5000  LR: 0.00001178  \n",
      "Epoch: [3][140/183] Elapsed 0m 55s (remain 0m 16s) Loss: 0.1011(0.1128) Grad: 125122.9141  LR: 0.00001121  \n",
      "Epoch: [3][160/183] Elapsed 1m 2s (remain 0m 8s) Loss: 0.0933(0.1118) Grad: 71056.3438  LR: 0.00001064  \n",
      "Epoch: [3][180/183] Elapsed 1m 10s (remain 0m 0s) Loss: 0.1114(0.1111) Grad: 33016.0664  LR: 0.00001007  \n",
      "Epoch: [3][182/183] Elapsed 1m 11s (remain 0m 0s) Loss: 0.0982(0.1110) Grad: 25386.9961  LR: 0.00001001  \n",
      "EVAL: [0/31] Elapsed 0m 0s (remain 0m 25s) Loss: 0.1196(0.1196) \n",
      "EVAL: [20/31] Elapsed 0m 11s (remain 0m 5s) Loss: 0.1143(0.1177) \n"
     ]
    },
    {
     "name": "stderr",
     "output_type": "stream",
     "text": [
      "Epoch 3 - avg_train_loss: 0.1110  avg_val_loss: 0.1165  time: 89s\n",
      "Epoch 3 - Score: 0.4850  Scores: [0.5160985263684541, 0.4718477344075218, 0.4401703849082152, 0.47389540165170335, 0.5259104376943329, 0.4821268081353486]\n"
     ]
    },
    {
     "name": "stdout",
     "output_type": "stream",
     "text": [
      "EVAL: [30/31] Elapsed 0m 16s (remain 0m 0s) Loss: 0.0913(0.1165) \n",
      "Epoch: [4][0/183] Elapsed 0m 0s (remain 2m 47s) Loss: 0.0926(0.0926) Grad: 111395.8281  LR: 0.00000999  \n",
      "Epoch: [4][20/183] Elapsed 0m 8s (remain 1m 6s) Loss: 0.0805(0.1014) Grad: 129249.1484  LR: 0.00000941  \n",
      "Epoch: [4][40/183] Elapsed 0m 16s (remain 0m 56s) Loss: 0.0984(0.1067) Grad: 38137.1602  LR: 0.00000884  \n",
      "Epoch: [4][60/183] Elapsed 0m 24s (remain 0m 48s) Loss: 0.0900(0.1037) Grad: 113205.8594  LR: 0.00000828  \n",
      "Epoch: [4][80/183] Elapsed 0m 31s (remain 0m 39s) Loss: 0.1211(0.1035) Grad: 107698.8047  LR: 0.00000772  \n",
      "Epoch: [4][100/183] Elapsed 0m 39s (remain 0m 32s) Loss: 0.0907(0.1031) Grad: 113844.6484  LR: 0.00000717  \n",
      "Epoch: [4][120/183] Elapsed 0m 47s (remain 0m 24s) Loss: 0.0734(0.1028) Grad: 14703.1240  LR: 0.00000662  \n",
      "Epoch: [4][140/183] Elapsed 0m 54s (remain 0m 16s) Loss: 0.1047(0.1027) Grad: 127794.9531  LR: 0.00000609  \n",
      "Epoch: [4][160/183] Elapsed 1m 2s (remain 0m 8s) Loss: 0.0777(0.1028) Grad: 32542.2227  LR: 0.00000557  \n",
      "Epoch: [4][180/183] Elapsed 1m 10s (remain 0m 0s) Loss: 0.1069(0.1032) Grad: 28793.7207  LR: 0.00000507  \n",
      "Epoch: [4][182/183] Elapsed 1m 11s (remain 0m 0s) Loss: 0.1199(0.1032) Grad: 93776.0078  LR: 0.00000502  \n",
      "EVAL: [0/31] Elapsed 0m 0s (remain 0m 26s) Loss: 0.1087(0.1087) \n",
      "EVAL: [20/31] Elapsed 0m 11s (remain 0m 5s) Loss: 0.1178(0.1119) \n"
     ]
    },
    {
     "name": "stderr",
     "output_type": "stream",
     "text": [
      "Epoch 4 - avg_train_loss: 0.1032  avg_val_loss: 0.1124  time: 89s\n",
      "Epoch 4 - Score: 0.4757  Scores: [0.5071734688354607, 0.4695496575478951, 0.42645200903714847, 0.46686935208366714, 0.5208217290175726, 0.46328138468732577]\n",
      "Epoch 4 - Save Best Score: 0.4757 Model\n"
     ]
    },
    {
     "name": "stdout",
     "output_type": "stream",
     "text": [
      "EVAL: [30/31] Elapsed 0m 17s (remain 0m 0s) Loss: 0.0885(0.1124) \n",
      "Epoch: [5][0/183] Elapsed 0m 0s (remain 2m 9s) Loss: 0.0711(0.0711) Grad: 142284.4531  LR: 0.00000499  \n",
      "Epoch: [5][20/183] Elapsed 0m 8s (remain 1m 4s) Loss: 0.0791(0.0993) Grad: 97163.2656  LR: 0.00000451  \n",
      "Epoch: [5][40/183] Elapsed 0m 16s (remain 0m 55s) Loss: 0.0787(0.0941) Grad: 41272.6641  LR: 0.00000404  \n",
      "Epoch: [5][60/183] Elapsed 0m 23s (remain 0m 47s) Loss: 0.1032(0.0951) Grad: 210251.2188  LR: 0.00000359  \n",
      "Epoch: [5][80/183] Elapsed 0m 31s (remain 0m 39s) Loss: 0.1207(0.0953) Grad: 60578.5898  LR: 0.00000316  \n",
      "Epoch: [5][100/183] Elapsed 0m 39s (remain 0m 32s) Loss: 0.0676(0.0958) Grad: 36359.9570  LR: 0.00000275  \n",
      "Epoch: [5][120/183] Elapsed 0m 47s (remain 0m 24s) Loss: 0.0843(0.0961) Grad: 51362.1367  LR: 0.00000237  \n",
      "Epoch: [5][140/183] Elapsed 0m 55s (remain 0m 16s) Loss: 0.0984(0.0968) Grad: 48999.4570  LR: 0.00000202  \n",
      "Epoch: [5][160/183] Elapsed 1m 2s (remain 0m 8s) Loss: 0.1122(0.0962) Grad: 124565.8984  LR: 0.00000168  \n",
      "Epoch: [5][180/183] Elapsed 1m 10s (remain 0m 0s) Loss: 0.1119(0.0964) Grad: 71802.1484  LR: 0.00000138  \n",
      "Epoch: [5][182/183] Elapsed 1m 11s (remain 0m 0s) Loss: 0.0897(0.0962) Grad: 55949.4961  LR: 0.00000135  \n",
      "EVAL: [0/31] Elapsed 0m 0s (remain 0m 26s) Loss: 0.1079(0.1079) \n",
      "EVAL: [20/31] Elapsed 0m 11s (remain 0m 5s) Loss: 0.1148(0.1091) \n"
     ]
    },
    {
     "name": "stderr",
     "output_type": "stream",
     "text": [
      "Epoch 5 - avg_train_loss: 0.0962  avg_val_loss: 0.1095  time: 88s\n",
      "Epoch 5 - Score: 0.4694  Scores: [0.5020922654113142, 0.4608332171046876, 0.4250480729139405, 0.46469433225731815, 0.5124135921660707, 0.451553938962811]\n",
      "Epoch 5 - Save Best Score: 0.4694 Model\n"
     ]
    },
    {
     "name": "stdout",
     "output_type": "stream",
     "text": [
      "EVAL: [30/31] Elapsed 0m 17s (remain 0m 0s) Loss: 0.0859(0.1095) \n",
      "Epoch: [6][0/183] Elapsed 0m 0s (remain 2m 13s) Loss: 0.0805(0.0805) Grad: 122742.6406  LR: 0.00000134  \n",
      "Epoch: [6][20/183] Elapsed 0m 8s (remain 1m 4s) Loss: 0.1044(0.0981) Grad: 44895.8203  LR: 0.00000107  \n",
      "Epoch: [6][40/183] Elapsed 0m 16s (remain 0m 55s) Loss: 0.1094(0.0952) Grad: 80045.2734  LR: 0.00000082  \n",
      "Epoch: [6][60/183] Elapsed 0m 23s (remain 0m 47s) Loss: 0.0833(0.0939) Grad: 64996.9297  LR: 0.00000061  \n",
      "Epoch: [6][80/183] Elapsed 0m 31s (remain 0m 39s) Loss: 0.0854(0.0945) Grad: 78555.9297  LR: 0.00000043  \n",
      "Epoch: [6][100/183] Elapsed 0m 39s (remain 0m 32s) Loss: 0.1116(0.0934) Grad: 139292.2344  LR: 0.00000028  \n",
      "Epoch: [6][120/183] Elapsed 0m 47s (remain 0m 24s) Loss: 0.0954(0.0934) Grad: 83840.8359  LR: 0.00000016  \n",
      "Epoch: [6][140/183] Elapsed 0m 54s (remain 0m 16s) Loss: 0.0867(0.0935) Grad: 45196.2578  LR: 0.00000008  \n",
      "Epoch: [6][160/183] Elapsed 1m 2s (remain 0m 8s) Loss: 0.0931(0.0941) Grad: 72233.4453  LR: 0.00000002  \n",
      "Epoch: [6][180/183] Elapsed 1m 10s (remain 0m 0s) Loss: 0.1080(0.0931) Grad: 84952.0547  LR: 0.00000000  \n",
      "Epoch: [6][182/183] Elapsed 1m 11s (remain 0m 0s) Loss: 0.0874(0.0930) Grad: 61212.3516  LR: 0.00000000  \n",
      "EVAL: [0/31] Elapsed 0m 0s (remain 0m 25s) Loss: 0.1100(0.1100) \n",
      "EVAL: [20/31] Elapsed 0m 11s (remain 0m 5s) Loss: 0.1131(0.1084) \n"
     ]
    },
    {
     "name": "stderr",
     "output_type": "stream",
     "text": [
      "Epoch 6 - avg_train_loss: 0.0930  avg_val_loss: 0.1088  time: 88s\n",
      "Epoch 6 - Score: 0.4679  Scores: [0.5006983849618213, 0.4604897644581767, 0.424813976185523, 0.4618655641861069, 0.5083758026172422, 0.4513356722966365]\n",
      "Epoch 6 - Save Best Score: 0.4679 Model\n"
     ]
    },
    {
     "name": "stdout",
     "output_type": "stream",
     "text": [
      "EVAL: [30/31] Elapsed 0m 17s (remain 0m 0s) Loss: 0.0857(0.1088) \n"
     ]
    },
    {
     "name": "stderr",
     "output_type": "stream",
     "text": [
      "========== fold: 3 result ==========\n",
      "Score: 0.4679  Scores: [0.5006983849618213, 0.4604897644581767, 0.424813976185523, 0.4618655641861069, 0.5083758026172422, 0.4513356722966365]\n",
      "========== CV ==========\n",
      "Score: 0.4710  Scores: [0.5033452952142279, 0.45899280817770166, 0.4272090107490574, 0.4712351533631388, 0.5048501089883966, 0.46057973837179683]\n"
     ]
    },
    {
     "data": {
      "text/html": [
       "Waiting for W&B process to finish... <strong style=\"color:green\">(success).</strong>"
      ],
      "text/plain": [
       "<IPython.core.display.HTML object>"
      ]
     },
     "metadata": {},
     "output_type": "display_data"
    },
    {
     "data": {
      "application/vnd.jupyter.widget-view+json": {
       "model_id": "",
       "version_major": 2,
       "version_minor": 0
      },
      "text/plain": [
       "VBox(children=(Label(value='0.000 MB of 0.000 MB uploaded (0.000 MB deduped)\\r'), FloatProgress(value=1.0, max…"
      ]
     },
     "metadata": {},
     "output_type": "display_data"
    },
    {
     "data": {
      "text/html": [
       "<style>\n",
       "    table.wandb td:nth-child(1) { padding: 0 10px; text-align: left ; width: auto;} td:nth-child(2) {text-align: left ; width: 100%}\n",
       "    .wandb-row { display: flex; flex-direction: row; flex-wrap: wrap; justify-content: flex-start; width: 100% }\n",
       "    .wandb-col { display: flex; flex-direction: column; flex-basis: 100%; flex: 1; padding: 10px; }\n",
       "    </style>\n",
       "<div class=\"wandb-row\"><div class=\"wandb-col\"><h3>Run history:</h3><br/><table class=\"wandb\"><tr><td>[fold0] avg_train_loss</td><td>█▂▁▁▁▁</td></tr><tr><td>[fold0] avg_val_loss</td><td>▇█▃▁▁▁</td></tr><tr><td>[fold0] epoch</td><td>▁▂▄▅▇█</td></tr><tr><td>[fold0] loss</td><td>█▂▁▁▁▁▁▁▁▁▁▁▁▁▁▁▁▂▁▁▁▁▁▁▁▁▁▁▁▁▁▁▁▁▁▁▁▁▁▁</td></tr><tr><td>[fold0] lr</td><td>███████▇▇▇▇▇▇▆▆▆▆▅▅▅▄▄▄▄▃▃▃▃▂▂▂▂▂▁▁▁▁▁▁▁</td></tr><tr><td>[fold0] score</td><td>▇█▃▁▁▁</td></tr><tr><td>[fold1] avg_train_loss</td><td>█▂▁▁▁▁</td></tr><tr><td>[fold1] avg_val_loss</td><td>█▆▂▁▁▁</td></tr><tr><td>[fold1] epoch</td><td>▁▂▄▅▇█</td></tr><tr><td>[fold1] loss</td><td>█▂▁▁▂▁▂▁▁▁▁▁▁▁▁▁▁▁▁▁▁▁▁▁▁▁▁▁▁▁▁▁▁▁▁▁▁▁▁▁</td></tr><tr><td>[fold1] lr</td><td>███████▇▇▇▇▇▇▆▆▆▆▅▅▅▄▄▄▄▃▃▃▃▂▂▂▂▂▁▁▁▁▁▁▁</td></tr><tr><td>[fold1] score</td><td>█▆▂▁▁▁</td></tr><tr><td>[fold2] avg_train_loss</td><td>█▂▁▁▁▁</td></tr><tr><td>[fold2] avg_val_loss</td><td>▆█▂▃▁▁</td></tr><tr><td>[fold2] epoch</td><td>▁▂▄▅▇█</td></tr><tr><td>[fold2] loss</td><td>█▃▂▂▂▂▁▂▁▂▂▂▁▂▁▁▂▁▂▁▁▁▁▁▁▂▁▂▁▁▁▁▁▁▁▁▁▁▁▁</td></tr><tr><td>[fold2] lr</td><td>███████▇▇▇▇▇▇▆▆▆▆▅▅▅▄▄▄▄▃▃▃▃▂▂▂▂▂▁▁▁▁▁▁▁</td></tr><tr><td>[fold2] score</td><td>▆█▂▄▁▁</td></tr><tr><td>[fold3] avg_train_loss</td><td>█▂▂▁▁▁</td></tr><tr><td>[fold3] avg_val_loss</td><td>█▁▂▁▁▁</td></tr><tr><td>[fold3] epoch</td><td>▁▂▄▅▇█</td></tr><tr><td>[fold3] loss</td><td>█▂▁▁▁▁▁▁▁▁▁▁▁▁▁▁▁▁▁▁▁▁▁▁▁▁▁▁▁▁▁▁▁▁▁▁▁▁▁▁</td></tr><tr><td>[fold3] lr</td><td>███████▇▇▇▇▇▇▆▆▆▆▅▅▅▄▄▄▄▃▃▃▃▂▂▂▂▂▁▁▁▁▁▁▁</td></tr><tr><td>[fold3] score</td><td>█▁▂▁▁▁</td></tr></table><br/></div><div class=\"wandb-col\"><h3>Run summary:</h3><br/><table class=\"wandb\"><tr><td>[fold0] avg_train_loss</td><td>0.09261</td></tr><tr><td>[fold0] avg_val_loss</td><td>0.1085</td></tr><tr><td>[fold0] epoch</td><td>6</td></tr><tr><td>[fold0] loss</td><td>0.07098</td></tr><tr><td>[fold0] lr</td><td>0.0</td></tr><tr><td>[fold0] score</td><td>0.46657</td></tr><tr><td>[fold1] avg_train_loss</td><td>0.08766</td></tr><tr><td>[fold1] avg_val_loss</td><td>0.11315</td></tr><tr><td>[fold1] epoch</td><td>6</td></tr><tr><td>[fold1] loss</td><td>0.07318</td></tr><tr><td>[fold1] lr</td><td>0.0</td></tr><tr><td>[fold1] score</td><td>0.47674</td></tr><tr><td>[fold2] avg_train_loss</td><td>0.09112</td></tr><tr><td>[fold2] avg_val_loss</td><td>0.11122</td></tr><tr><td>[fold2] epoch</td><td>6</td></tr><tr><td>[fold2] loss</td><td>0.07815</td></tr><tr><td>[fold2] lr</td><td>0.0</td></tr><tr><td>[fold2] score</td><td>0.47286</td></tr><tr><td>[fold3] avg_train_loss</td><td>0.09303</td></tr><tr><td>[fold3] avg_val_loss</td><td>0.10879</td></tr><tr><td>[fold3] epoch</td><td>6</td></tr><tr><td>[fold3] loss</td><td>0.08743</td></tr><tr><td>[fold3] lr</td><td>0.0</td></tr><tr><td>[fold3] score</td><td>0.46793</td></tr></table><br/></div></div>"
      ],
      "text/plain": [
       "<IPython.core.display.HTML object>"
      ]
     },
     "metadata": {},
     "output_type": "display_data"
    },
    {
     "data": {
      "text/html": [
       "Synced <strong style=\"color:#cdcd00\">002_202210201742</strong>: <a href=\"https://wandb.ai/hiroki8383/Feedback%20Prize%20-%20English%20Language%20Learning/runs/1meei42c\" target=\"_blank\">https://wandb.ai/hiroki8383/Feedback%20Prize%20-%20English%20Language%20Learning/runs/1meei42c</a><br/>Synced 6 W&B file(s), 0 media file(s), 0 artifact file(s) and 0 other file(s)"
      ],
      "text/plain": [
       "<IPython.core.display.HTML object>"
      ]
     },
     "metadata": {},
     "output_type": "display_data"
    },
    {
     "data": {
      "text/html": [
       "Find logs at: <code>./wandb/run-20221020_084231-1meei42c/logs</code>"
      ],
      "text/plain": [
       "<IPython.core.display.HTML object>"
      ]
     },
     "metadata": {},
     "output_type": "display_data"
    }
   ],
   "source": [
    "if __name__ == '__main__':\n",
    "    \n",
    "    def get_result(oof_df):\n",
    "        labels = oof_df[CFG.target_cols].values\n",
    "        preds = oof_df[[f\"pred_{c}\" for c in CFG.target_cols]].values\n",
    "        score, scores = get_score(labels, preds)\n",
    "        LOGGER.info(f'Score: {score:<.4f}  Scores: {scores}')\n",
    "        return score\n",
    "    \n",
    "    if CFG.train:\n",
    "        oof_df = pd.DataFrame()\n",
    "        for fold in range(CFG.n_fold):\n",
    "            if fold in CFG.trn_fold:\n",
    "                _oof_df = train_loop(train, fold)\n",
    "                oof_df = pd.concat([oof_df, _oof_df])\n",
    "                LOGGER.info(f\"========== fold: {fold} result ==========\")\n",
    "                score = get_result(_oof_df)\n",
    "        oof_df = oof_df.reset_index(drop=True)\n",
    "        LOGGER.info(f\"========== CV ==========\")\n",
    "        score = round(get_result(oof_df),3)\n",
    "        oof_df.to_pickle(OUTPUT_DIR+f'oof_df.pkl')\n",
    "        \n",
    "    # if CFG.DEBUG:\n",
    "    #     import send2trash\n",
    "    #     send2trash.send2trash(OUTPUT_DIR)\n",
    "    CFG.OUTPUT_DIR = OUTPUT_DIR\n",
    "    dict_cfg = {k: vars(CFG)[k] for k in vars(CFG) if \"__\" not in k}\n",
    "    with open(OUTPUT_DIR+\"dict_cfg\", 'wb') as web:\n",
    "        pickle.dump(dict_cfg , web)\n",
    "    with open(OUTPUT_DIR+\"class_cfg\", 'wb') as web:\n",
    "        pickle.dump(CFG , web)\n",
    "    \n",
    "    \n",
    "    if CFG.wandb:\n",
    "        wandb.config.update(class2dict(CFG))\n",
    "        wandb.finish()"
   ]
  },
  {
   "cell_type": "code",
   "execution_count": 18,
   "metadata": {},
   "outputs": [],
   "source": [
    "# import os\n",
    "# OUTPUT_DIR = \"/home/jupyter/output/ex/roberta-base/004/202210151736/\"\n",
    "# PREDICT_DIR = OUTPUT_DIR.replace(\"output\",\"predict\")\n",
    "# if not os.path.exists(PREDICT_DIR):\n",
    "#     os.makedirs(PREDICT_DIR)\n"
   ]
  },
  {
   "cell_type": "code",
   "execution_count": 19,
   "metadata": {},
   "outputs": [
    {
     "name": "stdout",
     "output_type": "stream",
     "text": [
      "Starting upload for file config.pth\n"
     ]
    },
    {
     "name": "stderr",
     "output_type": "stream",
     "text": [
      "100% 2.36k/2.36k [00:02<00:00, 955B/s]\n"
     ]
    },
    {
     "name": "stdout",
     "output_type": "stream",
     "text": [
      "Upload successful: config.pth (2KB)\n",
      "Starting upload for file class_cfg\n"
     ]
    },
    {
     "name": "stderr",
     "output_type": "stream",
     "text": [
      "100% 19.0/19.0 [00:02<00:00, 7.18B/s]\n"
     ]
    },
    {
     "name": "stdout",
     "output_type": "stream",
     "text": [
      "Upload successful: class_cfg (19B)\n",
      "Starting upload for file oof_df.pkl\n"
     ]
    },
    {
     "name": "stderr",
     "output_type": "stream",
     "text": [
      "100% 9.09M/9.09M [00:02<00:00, 4.22MB/s]\n"
     ]
    },
    {
     "name": "stdout",
     "output_type": "stream",
     "text": [
      "Upload successful: oof_df.pkl (9MB)\n",
      "Starting upload for file train.log\n"
     ]
    },
    {
     "name": "stderr",
     "output_type": "stream",
     "text": [
      "100% 9.81k/9.81k [00:02<00:00, 4.35kB/s]\n"
     ]
    },
    {
     "name": "stdout",
     "output_type": "stream",
     "text": [
      "Upload successful: train.log (10KB)\n",
      "Starting upload for file distilroberta-base_fold3_best.pth\n"
     ]
    },
    {
     "name": "stderr",
     "output_type": "stream",
     "text": [
      "100% 313M/313M [00:12<00:00, 26.8MB/s] \n"
     ]
    },
    {
     "name": "stdout",
     "output_type": "stream",
     "text": [
      "Upload successful: distilroberta-base_fold3_best.pth (313MB)\n",
      "Starting upload for file distilroberta-base_fold1_best.pth\n"
     ]
    },
    {
     "name": "stderr",
     "output_type": "stream",
     "text": [
      "100% 313M/313M [00:11<00:00, 27.6MB/s] \n"
     ]
    },
    {
     "name": "stdout",
     "output_type": "stream",
     "text": [
      "Upload successful: distilroberta-base_fold1_best.pth (313MB)\n",
      "Starting upload for file distilroberta-base_fold0_best.pth\n"
     ]
    },
    {
     "name": "stderr",
     "output_type": "stream",
     "text": [
      "100% 313M/313M [00:12<00:00, 25.4MB/s] \n"
     ]
    },
    {
     "name": "stdout",
     "output_type": "stream",
     "text": [
      "Upload successful: distilroberta-base_fold0_best.pth (313MB)\n",
      "Starting upload for file dict_cfg\n"
     ]
    },
    {
     "name": "stderr",
     "output_type": "stream",
     "text": [
      "100% 1.30M/1.30M [00:02<00:00, 645kB/s]\n"
     ]
    },
    {
     "name": "stdout",
     "output_type": "stream",
     "text": [
      "Upload successful: dict_cfg (1MB)\n",
      "Starting upload for file distilroberta-base_fold2_best.pth\n"
     ]
    },
    {
     "name": "stderr",
     "output_type": "stream",
     "text": [
      "100% 313M/313M [00:11<00:00, 28.1MB/s] \n"
     ]
    },
    {
     "name": "stdout",
     "output_type": "stream",
     "text": [
      "Upload successful: distilroberta-base_fold2_best.pth (313MB)\n",
      "folder upload\n"
     ]
    }
   ],
   "source": [
    "if CFG.TO_KAGGLE:\n",
    "    UPLOAD_DIR = OUTPUT_DIR\n",
    "    EX_NO = f\"{CFG.model}-{CFG.file_name}\" # 実験番号などを入れる、folderのpathにする\n",
    "    USERID = 'your_id'\n",
    "\n",
    "\n",
    "    def dataset_upload():\n",
    "        import json\n",
    "        from kaggle.api.kaggle_api_extended import KaggleApi\n",
    "\n",
    "        id = f'{USERID}/{EX_NO}'\n",
    "\n",
    "        dataset_metadata = {}\n",
    "        dataset_metadata['id'] = id\n",
    "        dataset_metadata['licenses'] = [{'name': 'CC0-1.0'}]\n",
    "        dataset_metadata['title'] = f'{EX_NO}'\n",
    "\n",
    "        with open(UPLOAD_DIR +'dataset-metadata.json', 'w') as f:\n",
    "            json.dump(dataset_metadata, f, indent=4)\n",
    "\n",
    "        api = KaggleApi()\n",
    "        api.authenticate()\n",
    "\n",
    "        # データセットがない場合\n",
    "        if f'{USERID}/{EX_NO}' not in [str(d) for d in api.dataset_list(user=USERID, search=f'\"{EX_NO}\"')]:\n",
    "            api.dataset_create_new(folder=UPLOAD_DIR,\n",
    "                                   convert_to_csv=False,\n",
    "                                   dir_mode='skip')\n",
    "            \n",
    "            #apiコマンドを書き込む\n",
    "            f = open(f'{CFG.model}_api_command.txt', 'a')\n",
    "            api_command = f\"!kaggle datasets download -d hiroki8383/{EX_NO}\\n\"\n",
    "            f.write(api_command)\n",
    "            f.close()\n",
    "            \n",
    "            #フォルダーを削除\n",
    "            if f'{USERID}/{EX_NO}' not in [str(d) for d in api.dataset_list(user=USERID, search=f'\"{EX_NO}\"')]:\n",
    "                remove_files = glob.glob(OUTPUT_DIR+\"*\")\n",
    "                remove_files.remove(OUTPUT_DIR+\"oof_df.pkl\")\n",
    "                for file in remove_files:\n",
    "                    os.remove(file)\n",
    "                print(\"folder upload\")\n",
    "            else:\n",
    "                print(\"folder not upload\")\n",
    "            \n",
    "            \n",
    "        # データセットがある場合→更新されない場合がある（後で原因追及)\n",
    "        else:\n",
    "            print(\"this folder exsits\")\n",
    "            # api.dataset_create_version(folder=UPLOAD_DIR,\n",
    "            #                            version_notes='update',\n",
    "            #                            convert_to_csv=False,\n",
    "            #                            delete_old_versions=False,\n",
    "            #                            dir_mode='zip')\n",
    "\n",
    "        \n",
    "\n",
    "        \n",
    "    dataset_upload()"
   ]
  },
  {
   "cell_type": "code",
   "execution_count": 20,
   "metadata": {},
   "outputs": [
    {
     "name": "stderr",
     "output_type": "stream",
     "text": [
      "Score: 0.4710  Scores: [0.5033452952142279, 0.45899280817770166, 0.4272090107490574, 0.4712351533631388, 0.5048501089883966, 0.46057973837179683]\n"
     ]
    }
   ],
   "source": [
    "score_path = \"/home/jupyter/output/scores/scores002.csv\"\n",
    "if not CFG.DEBUG:\n",
    "    def to_write_score(MEMO,score_path):\n",
    "        df = pd.read_csv(score_path)\n",
    "        def get_result2(oof_df):\n",
    "                labels = oof_df[CFG.target_cols].values\n",
    "                preds = oof_df[[f\"pred_{c}\" for c in CFG.target_cols]].values\n",
    "                score, scores = get_score(labels, preds)\n",
    "                LOGGER.info(f'Score: {score:<.4f}  Scores: {scores}')\n",
    "                return score,scores\n",
    "\n",
    "        score,scores = get_result2(oof_df)\n",
    "        name = \"-\".join(OUTPUT_DIR.split(\"/\")[-4:-2])\n",
    "        base = {\"name\":name,\"score\":score,\"memo\":CFG.MEMO} \n",
    "        base.update(dict(zip(CFG.target_cols,scores)))\n",
    "        df = df.append(base,ignore_index=True)\n",
    "        df.to_csv(score_path,index=False)\n",
    "    to_write_score(CFG.MEMO,score_path)"
   ]
  },
  {
   "cell_type": "code",
   "execution_count": 21,
   "metadata": {},
   "outputs": [
    {
     "data": {
      "text/html": [
       "<div>\n",
       "<style scoped>\n",
       "    .dataframe tbody tr th:only-of-type {\n",
       "        vertical-align: middle;\n",
       "    }\n",
       "\n",
       "    .dataframe tbody tr th {\n",
       "        vertical-align: top;\n",
       "    }\n",
       "\n",
       "    .dataframe thead th {\n",
       "        text-align: right;\n",
       "    }\n",
       "</style>\n",
       "<table border=\"1\" class=\"dataframe\">\n",
       "  <thead>\n",
       "    <tr style=\"text-align: right;\">\n",
       "      <th></th>\n",
       "      <th>name</th>\n",
       "      <th>memo</th>\n",
       "      <th>LB</th>\n",
       "      <th>score</th>\n",
       "      <th>cohesion</th>\n",
       "      <th>syntax</th>\n",
       "      <th>vocabulary</th>\n",
       "      <th>phraseology</th>\n",
       "      <th>grammar</th>\n",
       "      <th>conventions</th>\n",
       "    </tr>\n",
       "  </thead>\n",
       "  <tbody>\n",
       "    <tr>\n",
       "      <th>0</th>\n",
       "      <td>base-discriminator-001</td>\n",
       "      <td>NaN</td>\n",
       "      <td>0.46</td>\n",
       "      <td>0.466957</td>\n",
       "      <td>0.501431</td>\n",
       "      <td>0.455460</td>\n",
       "      <td>0.428477</td>\n",
       "      <td>0.465690</td>\n",
       "      <td>0.485904</td>\n",
       "      <td>0.464780</td>\n",
       "    </tr>\n",
       "    <tr>\n",
       "      <th>1</th>\n",
       "      <td>base-discriminator-002</td>\n",
       "      <td>NaN</td>\n",
       "      <td>0.45</td>\n",
       "      <td>0.474078</td>\n",
       "      <td>0.504413</td>\n",
       "      <td>0.462707</td>\n",
       "      <td>0.432588</td>\n",
       "      <td>0.469546</td>\n",
       "      <td>0.500918</td>\n",
       "      <td>0.474296</td>\n",
       "    </tr>\n",
       "    <tr>\n",
       "      <th>2</th>\n",
       "      <td>deberta-v3-base-003</td>\n",
       "      <td>2epochs</td>\n",
       "      <td>NaN</td>\n",
       "      <td>0.459342</td>\n",
       "      <td>0.496531</td>\n",
       "      <td>0.450482</td>\n",
       "      <td>0.419448</td>\n",
       "      <td>0.457413</td>\n",
       "      <td>0.476347</td>\n",
       "      <td>0.455832</td>\n",
       "    </tr>\n",
       "    <tr>\n",
       "      <th>3</th>\n",
       "      <td>deberta-v3-base-003</td>\n",
       "      <td>6epochs</td>\n",
       "      <td>0.44</td>\n",
       "      <td>0.456879</td>\n",
       "      <td>0.488333</td>\n",
       "      <td>0.448687</td>\n",
       "      <td>0.417134</td>\n",
       "      <td>0.458769</td>\n",
       "      <td>0.479633</td>\n",
       "      <td>0.448721</td>\n",
       "    </tr>\n",
       "    <tr>\n",
       "      <th>4</th>\n",
       "      <td>deberta-v3-base-006</td>\n",
       "      <td>15folds</td>\n",
       "      <td>NaN</td>\n",
       "      <td>0.463635</td>\n",
       "      <td>0.479650</td>\n",
       "      <td>0.475910</td>\n",
       "      <td>0.442828</td>\n",
       "      <td>0.463557</td>\n",
       "      <td>0.456412</td>\n",
       "      <td>0.463457</td>\n",
       "    </tr>\n",
       "    <tr>\n",
       "      <th>5</th>\n",
       "      <td>deberta-v3-base-006</td>\n",
       "      <td>20folds</td>\n",
       "      <td>NaN</td>\n",
       "      <td>0.449212</td>\n",
       "      <td>0.475585</td>\n",
       "      <td>0.433808</td>\n",
       "      <td>0.415852</td>\n",
       "      <td>0.457436</td>\n",
       "      <td>0.484686</td>\n",
       "      <td>0.427907</td>\n",
       "    </tr>\n",
       "    <tr>\n",
       "      <th>6</th>\n",
       "      <td>deberta-v3-base-006</td>\n",
       "      <td>10folds</td>\n",
       "      <td>NaN</td>\n",
       "      <td>0.446338</td>\n",
       "      <td>0.490661</td>\n",
       "      <td>0.435001</td>\n",
       "      <td>0.409460</td>\n",
       "      <td>0.417236</td>\n",
       "      <td>0.481800</td>\n",
       "      <td>0.443871</td>\n",
       "    </tr>\n",
       "    <tr>\n",
       "      <th>7</th>\n",
       "      <td>microsoft-deberta-v3-large-001</td>\n",
       "      <td>NaN</td>\n",
       "      <td>0.46</td>\n",
       "      <td>0.450311</td>\n",
       "      <td>0.482961</td>\n",
       "      <td>0.445596</td>\n",
       "      <td>0.410873</td>\n",
       "      <td>0.449346</td>\n",
       "      <td>0.466162</td>\n",
       "      <td>0.446928</td>\n",
       "    </tr>\n",
       "    <tr>\n",
       "      <th>8</th>\n",
       "      <td>microsoft-deberta-v3-large-002</td>\n",
       "      <td>NaN</td>\n",
       "      <td>0.44</td>\n",
       "      <td>0.453782</td>\n",
       "      <td>0.486786</td>\n",
       "      <td>0.446127</td>\n",
       "      <td>0.415995</td>\n",
       "      <td>0.452892</td>\n",
       "      <td>0.472186</td>\n",
       "      <td>0.448703</td>\n",
       "    </tr>\n",
       "    <tr>\n",
       "      <th>9</th>\n",
       "      <td>microsoft-deberta-v3-large-004</td>\n",
       "      <td>unscale</td>\n",
       "      <td>0.44</td>\n",
       "      <td>0.460115</td>\n",
       "      <td>0.494655</td>\n",
       "      <td>0.452659</td>\n",
       "      <td>0.419634</td>\n",
       "      <td>0.461738</td>\n",
       "      <td>0.476507</td>\n",
       "      <td>0.455497</td>\n",
       "    </tr>\n",
       "    <tr>\n",
       "      <th>10</th>\n",
       "      <td>roberta-base-003</td>\n",
       "      <td>1fold</td>\n",
       "      <td>0.45</td>\n",
       "      <td>0.459033</td>\n",
       "      <td>0.486786</td>\n",
       "      <td>0.452983</td>\n",
       "      <td>0.423085</td>\n",
       "      <td>0.463976</td>\n",
       "      <td>0.484316</td>\n",
       "      <td>0.443049</td>\n",
       "    </tr>\n",
       "    <tr>\n",
       "      <th>11</th>\n",
       "      <td>roberta-base-004</td>\n",
       "      <td>4folds</td>\n",
       "      <td>0.44</td>\n",
       "      <td>0.466575</td>\n",
       "      <td>0.498291</td>\n",
       "      <td>0.455092</td>\n",
       "      <td>0.427741</td>\n",
       "      <td>0.468486</td>\n",
       "      <td>0.493240</td>\n",
       "      <td>0.456598</td>\n",
       "    </tr>\n",
       "    <tr>\n",
       "      <th>12</th>\n",
       "      <td>roberta-large-002</td>\n",
       "      <td>バッチ8_4folds</td>\n",
       "      <td>0.45</td>\n",
       "      <td>0.461700</td>\n",
       "      <td>NaN</td>\n",
       "      <td>NaN</td>\n",
       "      <td>NaN</td>\n",
       "      <td>NaN</td>\n",
       "      <td>NaN</td>\n",
       "      <td>NaN</td>\n",
       "    </tr>\n",
       "    <tr>\n",
       "      <th>13</th>\n",
       "      <td>roberta-large-003</td>\n",
       "      <td>バッチ16,2_4fold</td>\n",
       "      <td>NaN</td>\n",
       "      <td>0.469800</td>\n",
       "      <td>0.483395</td>\n",
       "      <td>0.457585</td>\n",
       "      <td>0.424750</td>\n",
       "      <td>0.480469</td>\n",
       "      <td>0.494185</td>\n",
       "      <td>0.478415</td>\n",
       "    </tr>\n",
       "    <tr>\n",
       "      <th>14</th>\n",
       "      <td>roberta-large-004</td>\n",
       "      <td>バッチ32,2_4fold</td>\n",
       "      <td>0.45</td>\n",
       "      <td>0.462673</td>\n",
       "      <td>0.487539</td>\n",
       "      <td>0.450118</td>\n",
       "      <td>0.419088</td>\n",
       "      <td>0.469469</td>\n",
       "      <td>0.482251</td>\n",
       "      <td>0.467571</td>\n",
       "    </tr>\n",
       "    <tr>\n",
       "      <th>15</th>\n",
       "      <td>roberta-large-006</td>\n",
       "      <td>バッチ36,2_4fold</td>\n",
       "      <td>0.45</td>\n",
       "      <td>0.466295</td>\n",
       "      <td>0.490185</td>\n",
       "      <td>0.457640</td>\n",
       "      <td>0.423379</td>\n",
       "      <td>0.469386</td>\n",
       "      <td>0.486419</td>\n",
       "      <td>0.470762</td>\n",
       "    </tr>\n",
       "    <tr>\n",
       "      <th>16</th>\n",
       "      <td>roberta-large-007</td>\n",
       "      <td>バッチ40,2_4fold</td>\n",
       "      <td>0.45</td>\n",
       "      <td>0.466273</td>\n",
       "      <td>0.490215</td>\n",
       "      <td>0.453633</td>\n",
       "      <td>0.423818</td>\n",
       "      <td>0.475021</td>\n",
       "      <td>0.485249</td>\n",
       "      <td>0.469699</td>\n",
       "    </tr>\n",
       "    <tr>\n",
       "      <th>17</th>\n",
       "      <td>roberta-large-008</td>\n",
       "      <td>バッチ32_4folds_epochs10</td>\n",
       "      <td>0.44</td>\n",
       "      <td>0.462800</td>\n",
       "      <td>NaN</td>\n",
       "      <td>NaN</td>\n",
       "      <td>NaN</td>\n",
       "      <td>NaN</td>\n",
       "      <td>NaN</td>\n",
       "      <td>NaN</td>\n",
       "    </tr>\n",
       "    <tr>\n",
       "      <th>18</th>\n",
       "      <td>roberta-large-008</td>\n",
       "      <td>バッチ32_4folds_epochs10</td>\n",
       "      <td>0.44</td>\n",
       "      <td>0.462800</td>\n",
       "      <td>NaN</td>\n",
       "      <td>NaN</td>\n",
       "      <td>NaN</td>\n",
       "      <td>NaN</td>\n",
       "      <td>NaN</td>\n",
       "      <td>NaN</td>\n",
       "    </tr>\n",
       "    <tr>\n",
       "      <th>19</th>\n",
       "      <td>svr-001</td>\n",
       "      <td>4fold</td>\n",
       "      <td>NaN</td>\n",
       "      <td>0.453306</td>\n",
       "      <td>0.483167</td>\n",
       "      <td>0.448158</td>\n",
       "      <td>0.412874</td>\n",
       "      <td>0.455388</td>\n",
       "      <td>0.473294</td>\n",
       "      <td>0.446953</td>\n",
       "    </tr>\n",
       "    <tr>\n",
       "      <th>20</th>\n",
       "      <td>roberta-base-005</td>\n",
       "      <td>バッチ16,4folds</td>\n",
       "      <td>NaN</td>\n",
       "      <td>0.463956</td>\n",
       "      <td>0.496089</td>\n",
       "      <td>0.454223</td>\n",
       "      <td>0.425768</td>\n",
       "      <td>0.464463</td>\n",
       "      <td>0.487668</td>\n",
       "      <td>0.455523</td>\n",
       "    </tr>\n",
       "    <tr>\n",
       "      <th>21</th>\n",
       "      <td>roberta-base-006</td>\n",
       "      <td>バッチ32,4folds</td>\n",
       "      <td>NaN</td>\n",
       "      <td>0.464111</td>\n",
       "      <td>0.497241</td>\n",
       "      <td>0.453315</td>\n",
       "      <td>0.425326</td>\n",
       "      <td>0.463499</td>\n",
       "      <td>0.488895</td>\n",
       "      <td>0.456390</td>\n",
       "    </tr>\n",
       "    <tr>\n",
       "      <th>22</th>\n",
       "      <td>distilroberta-base-001</td>\n",
       "      <td>4folds</td>\n",
       "      <td>NaN</td>\n",
       "      <td>0.470528</td>\n",
       "      <td>0.501629</td>\n",
       "      <td>0.459765</td>\n",
       "      <td>0.426740</td>\n",
       "      <td>0.473205</td>\n",
       "      <td>0.501976</td>\n",
       "      <td>0.459850</td>\n",
       "    </tr>\n",
       "    <tr>\n",
       "      <th>23</th>\n",
       "      <td>distilroberta-base-002</td>\n",
       "      <td>バッチ16,4folds</td>\n",
       "      <td>NaN</td>\n",
       "      <td>0.471035</td>\n",
       "      <td>0.503345</td>\n",
       "      <td>0.458993</td>\n",
       "      <td>0.427209</td>\n",
       "      <td>0.471235</td>\n",
       "      <td>0.504850</td>\n",
       "      <td>0.460580</td>\n",
       "    </tr>\n",
       "  </tbody>\n",
       "</table>\n",
       "</div>"
      ],
      "text/plain": [
       "                              name                   memo    LB     score  cohesion    syntax  vocabulary  phraseology   grammar  conventions\n",
       "0           base-discriminator-001                    NaN  0.46  0.466957  0.501431  0.455460    0.428477     0.465690  0.485904     0.464780\n",
       "1           base-discriminator-002                    NaN  0.45  0.474078  0.504413  0.462707    0.432588     0.469546  0.500918     0.474296\n",
       "2              deberta-v3-base-003                2epochs   NaN  0.459342  0.496531  0.450482    0.419448     0.457413  0.476347     0.455832\n",
       "3              deberta-v3-base-003                6epochs  0.44  0.456879  0.488333  0.448687    0.417134     0.458769  0.479633     0.448721\n",
       "4              deberta-v3-base-006                15folds   NaN  0.463635  0.479650  0.475910    0.442828     0.463557  0.456412     0.463457\n",
       "5              deberta-v3-base-006                20folds   NaN  0.449212  0.475585  0.433808    0.415852     0.457436  0.484686     0.427907\n",
       "6              deberta-v3-base-006                10folds   NaN  0.446338  0.490661  0.435001    0.409460     0.417236  0.481800     0.443871\n",
       "7   microsoft-deberta-v3-large-001                    NaN  0.46  0.450311  0.482961  0.445596    0.410873     0.449346  0.466162     0.446928\n",
       "8   microsoft-deberta-v3-large-002                    NaN  0.44  0.453782  0.486786  0.446127    0.415995     0.452892  0.472186     0.448703\n",
       "9   microsoft-deberta-v3-large-004                unscale  0.44  0.460115  0.494655  0.452659    0.419634     0.461738  0.476507     0.455497\n",
       "10                roberta-base-003                  1fold  0.45  0.459033  0.486786  0.452983    0.423085     0.463976  0.484316     0.443049\n",
       "11                roberta-base-004                 4folds  0.44  0.466575  0.498291  0.455092    0.427741     0.468486  0.493240     0.456598\n",
       "12               roberta-large-002            バッチ8_4folds  0.45  0.461700       NaN       NaN         NaN          NaN       NaN          NaN\n",
       "13               roberta-large-003          バッチ16,2_4fold   NaN  0.469800  0.483395  0.457585    0.424750     0.480469  0.494185     0.478415\n",
       "14               roberta-large-004          バッチ32,2_4fold  0.45  0.462673  0.487539  0.450118    0.419088     0.469469  0.482251     0.467571\n",
       "15               roberta-large-006          バッチ36,2_4fold  0.45  0.466295  0.490185  0.457640    0.423379     0.469386  0.486419     0.470762\n",
       "16               roberta-large-007          バッチ40,2_4fold  0.45  0.466273  0.490215  0.453633    0.423818     0.475021  0.485249     0.469699\n",
       "17               roberta-large-008  バッチ32_4folds_epochs10  0.44  0.462800       NaN       NaN         NaN          NaN       NaN          NaN\n",
       "18               roberta-large-008  バッチ32_4folds_epochs10  0.44  0.462800       NaN       NaN         NaN          NaN       NaN          NaN\n",
       "19                         svr-001                  4fold   NaN  0.453306  0.483167  0.448158    0.412874     0.455388  0.473294     0.446953\n",
       "20                roberta-base-005           バッチ16,4folds   NaN  0.463956  0.496089  0.454223    0.425768     0.464463  0.487668     0.455523\n",
       "21                roberta-base-006           バッチ32,4folds   NaN  0.464111  0.497241  0.453315    0.425326     0.463499  0.488895     0.456390\n",
       "22          distilroberta-base-001                 4folds   NaN  0.470528  0.501629  0.459765    0.426740     0.473205  0.501976     0.459850\n",
       "23          distilroberta-base-002           バッチ16,4folds   NaN  0.471035  0.503345  0.458993    0.427209     0.471235  0.504850     0.460580"
      ]
     },
     "execution_count": 21,
     "metadata": {},
     "output_type": "execute_result"
    }
   ],
   "source": [
    "df = pd.read_csv(score_path)\n",
    "df"
   ]
  },
  {
   "cell_type": "code",
   "execution_count": null,
   "metadata": {},
   "outputs": [],
   "source": []
  }
 ],
 "metadata": {
  "kernelspec": {
   "display_name": "Python 3 (ipykernel)",
   "language": "python",
   "name": "python3"
  },
  "language_info": {
   "codemirror_mode": {
    "name": "ipython",
    "version": 3
   },
   "file_extension": ".py",
   "mimetype": "text/x-python",
   "name": "python",
   "nbconvert_exporter": "python",
   "pygments_lexer": "ipython3",
   "version": "3.7.12"
  }
 },
 "nbformat": 4,
 "nbformat_minor": 4
}
