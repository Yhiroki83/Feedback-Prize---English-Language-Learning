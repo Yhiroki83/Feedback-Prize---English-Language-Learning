{
 "cells": [
  {
   "cell_type": "code",
   "execution_count": 1,
   "metadata": {
    "papermill": {
     "duration": 0.015868,
     "end_time": "2022-08-31T07:01:57.417077",
     "exception": false,
     "start_time": "2022-08-31T07:01:57.401209",
     "status": "completed"
    },
    "tags": []
   },
   "outputs": [],
   "source": [
    "# ====================================================\n",
    "# CFG\n",
    "# ====================================================\n",
    "import numpy as np\n",
    "class CFG:\n",
    "    wandb = True\n",
    "    DEBUG = False\n",
    "    TO_KAGGLE = True\n",
    "    score_path = \"/home/jupyter/output/scores/scores003.csv\"\n",
    "    MEMO = \"ベースライン\"\n",
    "    file_name = \"001\"\n",
    "    model=\"funnel/intermediate\"\n",
    "    n_fold=4\n",
    "    trn_fold=[0,1,2,3]\n",
    "    model_config_path = f\"/home/jupyter/models/{model}/\"\n",
    "    model_bin_path = f\"/home/jupyter/models/{model}/\"\n",
    "    competition='FB3'\n",
    "    apex=True\n",
    "    print_freq=20\n",
    "    num_workers=4\n",
    "    gradient_checkpointing=False\n",
    "    scheduler='cosine' # ['linear', 'cosine']\n",
    "    batch_scheduler=True\n",
    "    num_cycles=0.5\n",
    "    num_warmup_steps=0\n",
    "    epochs=6\n",
    "    encoder_lr=2e-5\n",
    "    decoder_lr=2e-5\n",
    "    min_lr=1e-6\n",
    "    eps=1e-6\n",
    "    betas=(0.9, 0.999)\n",
    "    batch_size=8\n",
    "    max_len=512\n",
    "    weight_decay=0.01\n",
    "    gradient_accumulation_steps=1\n",
    "    max_grad_norm=1000\n",
    "    target_cols=['cohesion', 'syntax', 'vocabulary', 'phraseology', 'grammar', 'conventions']\n",
    "    seed=42\n",
    "    train=True\n",
    "    \n",
    "if CFG.DEBUG:\n",
    "    CFG.epochs = 2\n",
    "    CFG.trn_fold = [0]"
   ]
  },
  {
   "cell_type": "code",
   "execution_count": 2,
   "metadata": {},
   "outputs": [
    {
     "name": "stderr",
     "output_type": "stream",
     "text": [
      "\u001b[34m\u001b[1mwandb\u001b[0m: Currently logged in as: \u001b[33mhiroki8383\u001b[0m. Use \u001b[1m`wandb login --relogin`\u001b[0m to force relogin\n",
      "\u001b[34m\u001b[1mwandb\u001b[0m: \u001b[33mWARNING\u001b[0m If you're specifying your api key in code, ensure this code is not shared publicly.\n",
      "\u001b[34m\u001b[1mwandb\u001b[0m: \u001b[33mWARNING\u001b[0m Consider setting the WANDB_API_KEY environment variable, or running `wandb login` from the command line.\n",
      "\u001b[34m\u001b[1mwandb\u001b[0m: Appending key for api.wandb.ai to your netrc file: /root/.netrc\n"
     ]
    },
    {
     "data": {
      "text/html": [
       "wandb version 0.13.4 is available!  To upgrade, please run:\n",
       " $ pip install wandb --upgrade"
      ],
      "text/plain": [
       "<IPython.core.display.HTML object>"
      ]
     },
     "metadata": {},
     "output_type": "display_data"
    },
    {
     "data": {
      "text/html": [
       "Tracking run with wandb version 0.12.21"
      ],
      "text/plain": [
       "<IPython.core.display.HTML object>"
      ]
     },
     "metadata": {},
     "output_type": "display_data"
    },
    {
     "data": {
      "text/html": [
       "Run data is saved locally in <code>/home/jupyter/exp/funnel/intermediate/wandb/run-20221031_092919-1jpwa1zi</code>"
      ],
      "text/plain": [
       "<IPython.core.display.HTML object>"
      ]
     },
     "metadata": {},
     "output_type": "display_data"
    },
    {
     "data": {
      "text/html": [
       "Syncing run <strong><a href=\"https://wandb.ai/hiroki8383/Feedback%20Prize%20-%20English%20Language%20Learning/runs/1jpwa1zi\" target=\"_blank\">001_202210311829</a></strong> to <a href=\"https://wandb.ai/hiroki8383/Feedback%20Prize%20-%20English%20Language%20Learning\" target=\"_blank\">Weights & Biases</a> (<a href=\"https://wandb.me/run\" target=\"_blank\">docs</a>)<br/>"
      ],
      "text/plain": [
       "<IPython.core.display.HTML object>"
      ]
     },
     "metadata": {},
     "output_type": "display_data"
    }
   ],
   "source": [
    "import os\n",
    "import datetime\n",
    "import pickle\n",
    "import glob\n",
    "\n",
    "# ====================================================\n",
    "# datetime\n",
    "# ====================================================\n",
    "t_delta = datetime.timedelta(hours=9)\n",
    "JST = datetime.timezone(t_delta, 'JST')\n",
    "now = datetime.datetime.now(JST)\n",
    "date = now.strftime('%Y%m%d')\n",
    "date2 = now.strftime('%Y%m%d%H%M')\n",
    "\n",
    "\n",
    "# ====================================================\n",
    "# file_path\n",
    "# ====================================================\n",
    "if \"/\" in CFG.model:\n",
    "    model_name = CFG.model.replace(\"/\",\"-\")\n",
    "else:\n",
    "    model_name = CFG.model\n",
    "\n",
    "path =\"/home/jupyter/feedback-prize-english-language-learning/\"\n",
    "if CFG.DEBUG:\n",
    "    OUTPUT_DIR = f'/home/jupyter/output/ex/DEBUG/{model_name}/{CFG.file_name}/{date2}/'\n",
    "else:\n",
    "    OUTPUT_DIR = f'/home/jupyter/output/ex/{model_name}/{CFG.file_name}/{date2}/'\n",
    "if not os.path.exists(OUTPUT_DIR):\n",
    "    os.makedirs(OUTPUT_DIR)\n",
    "\n",
    "\n",
    "\n",
    "# ====================================================\n",
    "# wandb \n",
    "# ====================================================\n",
    "if CFG.wandb:\n",
    "    import wandb\n",
    "    \n",
    "    def class2dict(f):\n",
    "            return dict((name, getattr(f, name)) for name in dir(f) if not name.startswith('__'))\n",
    "        \n",
    "    project='Feedback Prize - English Language Learning'\n",
    "    if CFG.DEBUG:\n",
    "        group = \"DEBUG\"\n",
    "    else:\n",
    "        group = model_name\n",
    "    wandb_name = f\"{CFG.file_name}_{date2}\"\n",
    "    job_type = CFG.file_name  #\"train\"\n",
    "\n",
    "    wandb_api = \"your_id\"\n",
    "    wandb.login(key=wandb_api)\n",
    "    anony = None\n",
    "    run = wandb.init(project=project, \n",
    "                         name = wandb_name,\n",
    "                         config=class2dict(CFG),\n",
    "                         group=group,\n",
    "                         job_type=job_type,\n",
    "                         anonymous=anony)"
   ]
  },
  {
   "cell_type": "markdown",
   "metadata": {
    "papermill": {
     "duration": 0.008876,
     "end_time": "2022-08-31T07:02:06.467728",
     "exception": false,
     "start_time": "2022-08-31T07:02:06.458852",
     "status": "completed"
    },
    "tags": []
   },
   "source": [
    "# Library"
   ]
  },
  {
   "cell_type": "code",
   "execution_count": 3,
   "metadata": {},
   "outputs": [],
   "source": [
    "# !pip download transformers==4.21.2\n",
    "# !pip download tokenizers==0.12.1"
   ]
  },
  {
   "cell_type": "code",
   "execution_count": 4,
   "metadata": {},
   "outputs": [],
   "source": [
    "# !pip install transformers\n",
    "# !pip install tokenizers"
   ]
  },
  {
   "cell_type": "code",
   "execution_count": 5,
   "metadata": {
    "papermill": {
     "duration": 57.587416,
     "end_time": "2022-08-31T07:03:04.064247",
     "exception": false,
     "start_time": "2022-08-31T07:02:06.476831",
     "status": "completed"
    },
    "tags": []
   },
   "outputs": [
    {
     "name": "stdout",
     "output_type": "stream",
     "text": [
      "Requirement already satisfied: iterative-stratification==0.1.7 in /opt/conda/lib/python3.7/site-packages (0.1.7)\n",
      "Requirement already satisfied: numpy in /opt/conda/lib/python3.7/site-packages (from iterative-stratification==0.1.7) (1.21.6)\n",
      "Requirement already satisfied: scikit-learn in /opt/conda/lib/python3.7/site-packages (from iterative-stratification==0.1.7) (1.0.2)\n",
      "Requirement already satisfied: scipy in /opt/conda/lib/python3.7/site-packages (from iterative-stratification==0.1.7) (1.7.3)\n",
      "Requirement already satisfied: threadpoolctl>=2.0.0 in /opt/conda/lib/python3.7/site-packages (from scikit-learn->iterative-stratification==0.1.7) (3.1.0)\n",
      "Requirement already satisfied: joblib>=0.11 in /opt/conda/lib/python3.7/site-packages (from scikit-learn->iterative-stratification==0.1.7) (1.0.1)\n"
     ]
    },
    {
     "name": "stderr",
     "output_type": "stream",
     "text": [
      "WARNING: Running pip as the 'root' user can result in broken permissions and conflicting behaviour with the system package manager. It is recommended to use a virtual environment instead: https://pip.pypa.io/warnings/venv\n"
     ]
    },
    {
     "name": "stdout",
     "output_type": "stream",
     "text": [
      "Found existing installation: transformers 4.21.2\n",
      "Uninstalling transformers-4.21.2:\n",
      "  Successfully uninstalled transformers-4.21.2\n"
     ]
    },
    {
     "name": "stderr",
     "output_type": "stream",
     "text": [
      "WARNING: Running pip as the 'root' user can result in broken permissions and conflicting behaviour with the system package manager. It is recommended to use a virtual environment instead: https://pip.pypa.io/warnings/venv\n"
     ]
    },
    {
     "name": "stdout",
     "output_type": "stream",
     "text": [
      "Found existing installation: tokenizers 0.12.1\n",
      "Uninstalling tokenizers-0.12.1:\n",
      "  Successfully uninstalled tokenizers-0.12.1\n"
     ]
    },
    {
     "name": "stderr",
     "output_type": "stream",
     "text": [
      "WARNING: Running pip as the 'root' user can result in broken permissions and conflicting behaviour with the system package manager. It is recommended to use a virtual environment instead: https://pip.pypa.io/warnings/venv\n"
     ]
    },
    {
     "name": "stdout",
     "output_type": "stream",
     "text": [
      "Looking in links: /home/jupyter/code_baseline/FB3_pip_wheels\n",
      "Processing /home/jupyter/code_baseline/FB3_pip_wheels/transformers-4.21.2-py3-none-any.whl\n",
      "Requirement already satisfied: packaging>=20.0 in /opt/conda/lib/python3.7/site-packages (from transformers) (21.3)\n",
      "Requirement already satisfied: regex!=2019.12.17 in /opt/conda/lib/python3.7/site-packages (from transformers) (2021.11.10)\n",
      "Requirement already satisfied: tqdm>=4.27 in /opt/conda/lib/python3.7/site-packages (from transformers) (4.64.0)\n",
      "Requirement already satisfied: huggingface-hub<1.0,>=0.1.0 in /opt/conda/lib/python3.7/site-packages (from transformers) (0.10.1)\n",
      "Processing /home/jupyter/code_baseline/FB3_pip_wheels/tokenizers-0.12.1-cp37-cp37m-manylinux_2_12_x86_64.manylinux2010_x86_64.whl\n",
      "Requirement already satisfied: pyyaml>=5.1 in /opt/conda/lib/python3.7/site-packages (from transformers) (6.0)\n",
      "Requirement already satisfied: requests in /opt/conda/lib/python3.7/site-packages (from transformers) (2.28.1)\n",
      "Requirement already satisfied: numpy>=1.17 in /opt/conda/lib/python3.7/site-packages (from transformers) (1.21.6)\n",
      "Requirement already satisfied: filelock in /opt/conda/lib/python3.7/site-packages (from transformers) (3.7.1)\n",
      "Requirement already satisfied: importlib-metadata in /opt/conda/lib/python3.7/site-packages (from transformers) (4.13.0)\n",
      "Requirement already satisfied: typing-extensions>=3.7.4.3 in /opt/conda/lib/python3.7/site-packages (from huggingface-hub<1.0,>=0.1.0->transformers) (4.1.1)\n",
      "Requirement already satisfied: pyparsing!=3.0.5,>=2.0.2 in /opt/conda/lib/python3.7/site-packages (from packaging>=20.0->transformers) (3.0.9)\n",
      "Requirement already satisfied: zipp>=0.5 in /opt/conda/lib/python3.7/site-packages (from importlib-metadata->transformers) (3.8.0)\n",
      "Requirement already satisfied: certifi>=2017.4.17 in /opt/conda/lib/python3.7/site-packages (from requests->transformers) (2022.9.24)\n",
      "Requirement already satisfied: idna<4,>=2.5 in /opt/conda/lib/python3.7/site-packages (from requests->transformers) (3.3)\n",
      "Requirement already satisfied: urllib3<1.27,>=1.21.1 in /opt/conda/lib/python3.7/site-packages (from requests->transformers) (1.26.12)\n",
      "Requirement already satisfied: charset-normalizer<3,>=2 in /opt/conda/lib/python3.7/site-packages (from requests->transformers) (2.1.0)\n",
      "Installing collected packages: tokenizers, transformers\n"
     ]
    },
    {
     "name": "stderr",
     "output_type": "stream",
     "text": [
      "ERROR: pip's dependency resolver does not currently take into account all the packages that are installed. This behaviour is the source of the following dependency conflicts.\n",
      "allennlp 2.10.1 requires transformers<4.21,>=4.1, but you have transformers 4.21.2 which is incompatible.\n",
      "WARNING: Running pip as the 'root' user can result in broken permissions and conflicting behaviour with the system package manager. It is recommended to use a virtual environment instead: https://pip.pypa.io/warnings/venv\n"
     ]
    },
    {
     "name": "stdout",
     "output_type": "stream",
     "text": [
      "Successfully installed tokenizers-0.12.1 transformers-4.21.2\n",
      "Looking in links: /home/jupyter/code_baseline/FB3_pip_wheels\n",
      "Requirement already satisfied: tokenizers in /opt/conda/lib/python3.7/site-packages (0.12.1)\n"
     ]
    },
    {
     "name": "stderr",
     "output_type": "stream",
     "text": [
      "WARNING: Running pip as the 'root' user can result in broken permissions and conflicting behaviour with the system package manager. It is recommended to use a virtual environment instead: https://pip.pypa.io/warnings/venv\n"
     ]
    },
    {
     "name": "stdout",
     "output_type": "stream",
     "text": [
      "env: TOKENIZERS_PARALLELISM=true\n"
     ]
    }
   ],
   "source": [
    "# ====================================================\n",
    "# Library\n",
    "# ====================================================\n",
    "import os\n",
    "import gc\n",
    "import re\n",
    "import ast\n",
    "import sys\n",
    "import copy\n",
    "import json\n",
    "import time\n",
    "import math\n",
    "import string\n",
    "import pickle\n",
    "import random\n",
    "import joblib\n",
    "import itertools\n",
    "import warnings\n",
    "import shutil\n",
    "warnings.filterwarnings(\"ignore\")\n",
    "\n",
    "import scipy as sp\n",
    "import numpy as np\n",
    "import pandas as pd\n",
    "pd.set_option('display.max_rows', 500)\n",
    "pd.set_option('display.max_columns', 500)\n",
    "pd.set_option('display.width', 1000)\n",
    "from tqdm.auto import tqdm\n",
    "from sklearn.metrics import mean_squared_error\n",
    "from sklearn.model_selection import StratifiedKFold, GroupKFold, KFold\n",
    "\n",
    "os.system('pip install iterative-stratification==0.1.7')\n",
    "from iterstrat.ml_stratifiers import MultilabelStratifiedKFold\n",
    "\n",
    "import torch\n",
    "import torch.nn as nn\n",
    "from torch.nn import Parameter\n",
    "import torch.nn.functional as F\n",
    "from torch.optim import Adam, SGD, AdamW\n",
    "from torch.utils.data import DataLoader, Dataset\n",
    "\n",
    "os.system('pip uninstall -y transformers')\n",
    "os.system('pip uninstall -y tokenizers')\n",
    "os.system('python -m pip install --no-index --find-links=/home/jupyter/code_baseline/FB3_pip_wheels transformers')\n",
    "os.system('python -m pip install --no-index --find-links=/home/jupyter/code_baseline/FB3_pip_wheels tokenizers')\n",
    "import tokenizers\n",
    "import transformers\n",
    "# print(f\"tokenizers.__version__: {tokenizers.__version__}\")\n",
    "# print(f\"transformers.__version__: {transformers.__version__}\")\n",
    "from transformers import AutoTokenizer, AutoModel, AutoConfig\n",
    "from transformers import get_linear_schedule_with_warmup, get_cosine_schedule_with_warmup\n",
    "%env TOKENIZERS_PARALLELISM=true\n",
    "\n",
    "device = torch.device('cuda' if torch.cuda.is_available() else 'cpu')"
   ]
  },
  {
   "cell_type": "markdown",
   "metadata": {
    "papermill": {
     "duration": 0.007998,
     "end_time": "2022-08-31T07:03:04.079768",
     "exception": false,
     "start_time": "2022-08-31T07:03:04.07177",
     "status": "completed"
    },
    "tags": []
   },
   "source": [
    "# Utils"
   ]
  },
  {
   "cell_type": "code",
   "execution_count": 6,
   "metadata": {
    "papermill": {
     "duration": 0.024132,
     "end_time": "2022-08-31T07:03:04.111108",
     "exception": false,
     "start_time": "2022-08-31T07:03:04.086976",
     "status": "completed"
    },
    "tags": []
   },
   "outputs": [],
   "source": [
    "# ====================================================\n",
    "# Utils\n",
    "# ====================================================\n",
    "def MCRMSE(y_trues, y_preds):\n",
    "    scores = []\n",
    "    idxes = y_trues.shape[1]\n",
    "    for i in range(idxes):\n",
    "        y_true = y_trues[:,i]\n",
    "        y_pred = y_preds[:,i]\n",
    "        score = mean_squared_error(y_true, y_pred, squared=False) # RMSE\n",
    "        scores.append(score)\n",
    "    mcrmse_score = np.mean(scores)\n",
    "    return mcrmse_score, scores\n",
    "\n",
    "\n",
    "def get_score(y_trues, y_preds):\n",
    "    mcrmse_score, scores = MCRMSE(y_trues, y_preds)\n",
    "    return mcrmse_score, scores\n",
    "\n",
    "\n",
    "def get_logger(filename=OUTPUT_DIR+'train'):\n",
    "    from logging import getLogger, INFO, StreamHandler, FileHandler, Formatter\n",
    "    logger = getLogger(__name__)\n",
    "    logger.setLevel(INFO)\n",
    "    handler1 = StreamHandler()\n",
    "    handler1.setFormatter(Formatter(\"%(message)s\"))\n",
    "    handler2 = FileHandler(filename=f\"{filename}.log\")\n",
    "    handler2.setFormatter(Formatter(\"%(message)s\"))\n",
    "    logger.addHandler(handler1)\n",
    "    logger.addHandler(handler2)\n",
    "    return logger\n",
    "\n",
    "LOGGER = get_logger()\n",
    "\n",
    "\n",
    "def seed_everything(seed=42):\n",
    "    random.seed(seed)\n",
    "    os.environ['PYTHONHASHSEED'] = str(seed)\n",
    "    np.random.seed(seed)\n",
    "    torch.manual_seed(seed)\n",
    "    torch.cuda.manual_seed(seed)\n",
    "    torch.backends.cudnn.deterministic = True\n",
    "    \n",
    "seed_everything(seed=42)"
   ]
  },
  {
   "cell_type": "markdown",
   "metadata": {
    "papermill": {
     "duration": 0.012589,
     "end_time": "2022-08-31T07:03:04.13341",
     "exception": false,
     "start_time": "2022-08-31T07:03:04.120821",
     "status": "completed"
    },
    "tags": []
   },
   "source": [
    "# Data Loading"
   ]
  },
  {
   "cell_type": "code",
   "execution_count": 7,
   "metadata": {
    "papermill": {
     "duration": 0.242687,
     "end_time": "2022-08-31T07:03:04.383434",
     "exception": false,
     "start_time": "2022-08-31T07:03:04.140747",
     "status": "completed"
    },
    "tags": []
   },
   "outputs": [],
   "source": [
    "# ====================================================\n",
    "# Data Loading\n",
    "# ====================================================\n",
    "\n",
    "train = pd.read_csv(path+'train.csv')\n",
    "test = pd.read_csv(path+'test.csv')\n",
    "submission = pd.read_csv(path+'sample_submission.csv')\n",
    "\n",
    "Fold = MultilabelStratifiedKFold(n_splits=CFG.n_fold, shuffle=True, random_state=CFG.seed)\n",
    "for n, (train_index, val_index) in enumerate(Fold.split(train, train[CFG.target_cols])):\n",
    "    train.loc[val_index, 'fold'] = int(n)\n",
    "train['fold'] = train['fold'].astype(int)\n",
    "\n",
    "if CFG.DEBUG:\n",
    "    # display(train.groupby('fold').size())\n",
    "    train = train.sample(n=50, random_state=0).reset_index(drop=True)\n",
    "    # display(train.groupby('fold').size())"
   ]
  },
  {
   "cell_type": "markdown",
   "metadata": {
    "papermill": {
     "duration": 0.007561,
     "end_time": "2022-08-31T07:03:04.604916",
     "exception": false,
     "start_time": "2022-08-31T07:03:04.597355",
     "status": "completed"
    },
    "tags": []
   },
   "source": [
    "# tokenizer"
   ]
  },
  {
   "cell_type": "code",
   "execution_count": 8,
   "metadata": {
    "papermill": {
     "duration": 7.351568,
     "end_time": "2022-08-31T07:03:11.964298",
     "exception": false,
     "start_time": "2022-08-31T07:03:04.61273",
     "status": "completed"
    },
    "tags": []
   },
   "outputs": [],
   "source": [
    "# ====================================================\n",
    "# tokenizer models/roberta/roberta-base/config.json\n",
    "# ====================================================\n",
    "tokenizer = AutoTokenizer.from_pretrained(f\"/home/jupyter/models/{CFG.model}/\")\n",
    "CFG.tokenizer = tokenizer"
   ]
  },
  {
   "cell_type": "markdown",
   "metadata": {
    "papermill": {
     "duration": 0.008127,
     "end_time": "2022-08-31T07:03:11.985369",
     "exception": false,
     "start_time": "2022-08-31T07:03:11.977242",
     "status": "completed"
    },
    "tags": []
   },
   "source": [
    "# Dataset"
   ]
  },
  {
   "cell_type": "code",
   "execution_count": 9,
   "metadata": {
    "papermill": {
     "duration": 5.893032,
     "end_time": "2022-08-31T07:03:17.886504",
     "exception": false,
     "start_time": "2022-08-31T07:03:11.993472",
     "status": "completed"
    },
    "tags": []
   },
   "outputs": [],
   "source": [
    "# ====================================================\n",
    "# Define max_len\n",
    "# ====================================================\n",
    "# lengths = []\n",
    "# tk0 = tqdm(train['full_text'].fillna(\"\").values, total=len(train))\n",
    "# for text in tk0:\n",
    "#     length = len(tokenizer(text, add_special_tokens=False)['input_ids'])\n",
    "#     lengths.append(length)\n",
    "# CFG.max_len = max(lengths) + 3 # cls & sep & sep\n",
    "# LOGGER.info(f\"max_len: {CFG.max_len}\")"
   ]
  },
  {
   "cell_type": "code",
   "execution_count": 10,
   "metadata": {
    "papermill": {
     "duration": 0.020447,
     "end_time": "2022-08-31T07:03:17.916566",
     "exception": false,
     "start_time": "2022-08-31T07:03:17.896119",
     "status": "completed"
    },
    "tags": []
   },
   "outputs": [],
   "source": [
    "# ====================================================\n",
    "# Dataset\n",
    "# ====================================================\n",
    "def prepare_input(cfg, text):\n",
    "    inputs = cfg.tokenizer.encode_plus(\n",
    "        text, \n",
    "        return_tensors=None, \n",
    "        add_special_tokens=True, \n",
    "        max_length=CFG.max_len,\n",
    "        pad_to_max_length=True,\n",
    "        truncation=True\n",
    "    )\n",
    "    for k, v in inputs.items():\n",
    "        inputs[k] = torch.tensor(v, dtype=torch.long)\n",
    "    return inputs\n",
    "\n",
    "\n",
    "class TrainDataset(Dataset):\n",
    "    def __init__(self, cfg, df):\n",
    "        self.cfg = cfg\n",
    "        self.texts = df['full_text'].values\n",
    "        self.labels = df[cfg.target_cols].values\n",
    "\n",
    "    def __len__(self):\n",
    "        return len(self.texts)\n",
    "\n",
    "    def __getitem__(self, item):\n",
    "        inputs = prepare_input(self.cfg, self.texts[item])\n",
    "        label = torch.tensor(self.labels[item], dtype=torch.float)\n",
    "        return inputs, label\n",
    "    \n",
    "\n",
    "def collate(inputs):\n",
    "    mask_len = int(inputs[\"attention_mask\"].sum(axis=1).max())\n",
    "    for k, v in inputs.items():\n",
    "        inputs[k] = inputs[k][:,:mask_len]\n",
    "    return inputs"
   ]
  },
  {
   "cell_type": "markdown",
   "metadata": {
    "papermill": {
     "duration": 0.008073,
     "end_time": "2022-08-31T07:03:17.933189",
     "exception": false,
     "start_time": "2022-08-31T07:03:17.925116",
     "status": "completed"
    },
    "tags": []
   },
   "source": [
    "# Model"
   ]
  },
  {
   "cell_type": "code",
   "execution_count": 11,
   "metadata": {
    "papermill": {
     "duration": 0.033105,
     "end_time": "2022-08-31T07:03:17.97447",
     "exception": false,
     "start_time": "2022-08-31T07:03:17.941365",
     "status": "completed"
    },
    "tags": []
   },
   "outputs": [],
   "source": [
    "# ====================================================\n",
    "# Model\n",
    "# ====================================================\n",
    "#MeanPoolingはoutput_hidden_statesに関係している   https://qiita.com/niship2/items/f84751aed893da869cec\n",
    "class MeanPooling(nn.Module):\n",
    "    def __init__(self):\n",
    "        super(MeanPooling, self).__init__()\n",
    "        \n",
    "    def forward(self, last_hidden_state, attention_mask):\n",
    "        input_mask_expanded = attention_mask.unsqueeze(-1).expand(last_hidden_state.size()).float()\n",
    "        sum_embeddings = torch.sum(last_hidden_state * input_mask_expanded, 1)\n",
    "        sum_mask = input_mask_expanded.sum(1)\n",
    "        sum_mask = torch.clamp(sum_mask, min=1e-9)\n",
    "        mean_embeddings = sum_embeddings / sum_mask\n",
    "        return mean_embeddings\n",
    "    \n",
    "\n",
    "class CustomModel(nn.Module):\n",
    "    def __init__(self, cfg, config_path=None, pretrained=False):\n",
    "        super().__init__()\n",
    "        self.cfg = cfg\n",
    "        if config_path is None:\n",
    "            self.config = AutoConfig.from_pretrained(cfg.model_config_path, output_hidden_states=True)\n",
    "            self.config.hidden_dropout = 0.\n",
    "            self.config.hidden_dropout_prob = 0.\n",
    "            self.config.attention_dropout = 0.\n",
    "            self.config.attention_probs_dropout_prob = 0.\n",
    "            LOGGER.info(self.config)\n",
    "        else:\n",
    "            self.config = torch.load(config_path)\n",
    "        if pretrained:\n",
    "            self.model = AutoModel.from_pretrained(cfg.model_bin_path, config=self.config)\n",
    "        else:\n",
    "            self.model = AutoModel(self.config)\n",
    "        if self.cfg.gradient_checkpointing:\n",
    "            self.model.gradient_checkpointing_enable()\n",
    "        self.pool = MeanPooling()\n",
    "        self.fc = nn.Linear(self.config.hidden_size, 6)\n",
    "        self._init_weights(self.fc)\n",
    "        \n",
    "    def _init_weights(self, module):\n",
    "        if isinstance(module, nn.Linear):\n",
    "            module.weight.data.normal_(mean=0.0, std=self.config.initializer_range)\n",
    "            if module.bias is not None:\n",
    "                module.bias.data.zero_()\n",
    "        elif isinstance(module, nn.Embedding):\n",
    "            module.weight.data.normal_(mean=0.0, std=self.config.initializer_range)\n",
    "            if module.padding_idx is not None:\n",
    "                module.weight.data[module.padding_idx].zero_()\n",
    "        elif isinstance(module, nn.LayerNorm):\n",
    "            module.bias.data.zero_()\n",
    "            module.weight.data.fill_(1.0)\n",
    "        \n",
    "    def feature(self, inputs):\n",
    "        outputs = self.model(**inputs)\n",
    "        last_hidden_states = outputs[0]\n",
    "        feature = self.pool(last_hidden_states, inputs['attention_mask'])\n",
    "        return feature\n",
    "\n",
    "    def forward(self, inputs):\n",
    "        feature = self.feature(inputs)\n",
    "        output = self.fc(feature)\n",
    "        return output"
   ]
  },
  {
   "cell_type": "code",
   "execution_count": 12,
   "metadata": {},
   "outputs": [],
   "source": [
    "# model_config_path = f\"/home/jupyter/models/deberta/{model}/model\"\n",
    "# model_bin_path = f\"/home/jupyter/models/deberta/{CFG.model}/model\""
   ]
  },
  {
   "cell_type": "code",
   "execution_count": 13,
   "metadata": {},
   "outputs": [],
   "source": [
    "# conf = AutoConfig.from_pretrained(f\"/home/jupyter/models/deberta/{CFG.model}/model\", output_hidden_states=True)\n",
    "# AutoModel.from_pretrained(f\"/home/jupyter/models/deberta/{CFG.model}/model\", config=conf)"
   ]
  },
  {
   "cell_type": "markdown",
   "metadata": {
    "papermill": {
     "duration": 0.008106,
     "end_time": "2022-08-31T07:03:17.993861",
     "exception": false,
     "start_time": "2022-08-31T07:03:17.985755",
     "status": "completed"
    },
    "tags": []
   },
   "source": [
    "# Loss"
   ]
  },
  {
   "cell_type": "code",
   "execution_count": 14,
   "metadata": {
    "papermill": {
     "duration": 0.021697,
     "end_time": "2022-08-31T07:03:18.02376",
     "exception": false,
     "start_time": "2022-08-31T07:03:18.002063",
     "status": "completed"
    },
    "tags": []
   },
   "outputs": [],
   "source": [
    "# ====================================================\n",
    "# Loss\n",
    "# ====================================================\n",
    "class RMSELoss(nn.Module):\n",
    "    def __init__(self, reduction='mean', eps=1e-9):\n",
    "        super().__init__()\n",
    "        self.mse = nn.MSELoss(reduction='none')\n",
    "        self.reduction = reduction\n",
    "        self.eps = eps\n",
    "\n",
    "    def forward(self, y_pred, y_true):\n",
    "        loss = torch.sqrt(self.mse(y_pred, y_true) + self.eps)\n",
    "        if self.reduction == 'none':\n",
    "            loss = loss\n",
    "        elif self.reduction == 'sum':\n",
    "            loss = loss.sum()\n",
    "        elif self.reduction == 'mean':\n",
    "            loss = loss.mean()\n",
    "        return loss"
   ]
  },
  {
   "cell_type": "markdown",
   "metadata": {
    "papermill": {
     "duration": 0.008452,
     "end_time": "2022-08-31T07:03:18.041557",
     "exception": false,
     "start_time": "2022-08-31T07:03:18.033105",
     "status": "completed"
    },
    "tags": []
   },
   "source": [
    "# Helpler functions"
   ]
  },
  {
   "cell_type": "code",
   "execution_count": 15,
   "metadata": {
    "papermill": {
     "duration": 0.030759,
     "end_time": "2022-08-31T07:03:18.08056",
     "exception": false,
     "start_time": "2022-08-31T07:03:18.049801",
     "status": "completed"
    },
    "tags": []
   },
   "outputs": [],
   "source": [
    "# ====================================================\n",
    "# Helper functions\n",
    "# ====================================================\n",
    "class AverageMeter(object):\n",
    "    \"\"\"Computes and stores the average and current value\"\"\"\n",
    "    def __init__(self):\n",
    "        self.reset()\n",
    "\n",
    "    def reset(self):\n",
    "        self.val = 0\n",
    "        self.avg = 0\n",
    "        self.sum = 0\n",
    "        self.count = 0\n",
    "\n",
    "    def update(self, val, n=1):\n",
    "        self.val = val\n",
    "        self.sum += val * n\n",
    "        self.count += n\n",
    "        self.avg = self.sum / self.count\n",
    "\n",
    "\n",
    "def asMinutes(s):\n",
    "    m = math.floor(s / 60)\n",
    "    s -= m * 60\n",
    "    return '%dm %ds' % (m, s)\n",
    "\n",
    "\n",
    "def timeSince(since, percent):\n",
    "    now = time.time()\n",
    "    s = now - since\n",
    "    es = s / (percent)\n",
    "    rs = es - s\n",
    "    return '%s (remain %s)' % (asMinutes(s), asMinutes(rs))\n",
    "\n",
    "\n",
    "def train_fn(fold, train_loader, model, criterion, optimizer, epoch, scheduler, device):\n",
    "    model.train()\n",
    "    scaler = torch.cuda.amp.GradScaler(enabled=CFG.apex)\n",
    "    losses = AverageMeter()\n",
    "    start = end = time.time()\n",
    "    global_step = 0\n",
    "    for step, (inputs, labels) in enumerate(train_loader):\n",
    "        inputs = collate(inputs)\n",
    "        for k, v in inputs.items():\n",
    "            inputs[k] = v.to(device)\n",
    "        labels = labels.to(device)\n",
    "        batch_size = labels.size(0)\n",
    "        with torch.cuda.amp.autocast(enabled=CFG.apex):\n",
    "            y_preds = model(inputs)\n",
    "            loss = criterion(y_preds, labels)\n",
    "        if CFG.gradient_accumulation_steps > 1:\n",
    "            loss = loss / CFG.gradient_accumulation_steps\n",
    "        losses.update(loss.item(), batch_size)\n",
    "        scaler.scale(loss).backward()\n",
    "        grad_norm = torch.nn.utils.clip_grad_norm_(model.parameters(), CFG.max_grad_norm)\n",
    "        if (step + 1) % CFG.gradient_accumulation_steps == 0:\n",
    "            scaler.step(optimizer)\n",
    "            scaler.update()\n",
    "            optimizer.zero_grad()\n",
    "            global_step += 1\n",
    "            if CFG.batch_scheduler:\n",
    "                scheduler.step()\n",
    "        end = time.time()\n",
    "        if step % CFG.print_freq == 0 or step == (len(train_loader)-1):\n",
    "            print('Epoch: [{0}][{1}/{2}] '\n",
    "                  'Elapsed {remain:s} '\n",
    "                  'Loss: {loss.val:.4f}({loss.avg:.4f}) '\n",
    "                  'Grad: {grad_norm:.4f}  '\n",
    "                  'LR: {lr:.8f}  '\n",
    "                  .format(epoch+1, step, len(train_loader), \n",
    "                          remain=timeSince(start, float(step+1)/len(train_loader)),\n",
    "                          loss=losses,\n",
    "                          grad_norm=grad_norm,\n",
    "                          lr=scheduler.get_lr()[0]))\n",
    "        if CFG.wandb:\n",
    "            wandb.log({f\"[fold{fold}] loss\": losses.val,\n",
    "                       f\"[fold{fold}] lr\": scheduler.get_lr()[0]})\n",
    "    return losses.avg\n",
    "\n",
    "\n",
    "def valid_fn(valid_loader, model, criterion, device):\n",
    "    losses = AverageMeter()\n",
    "    model.eval()\n",
    "    preds = []\n",
    "    start = end = time.time()\n",
    "    for step, (inputs, labels) in enumerate(valid_loader):\n",
    "        inputs = collate(inputs)\n",
    "        for k, v in inputs.items():\n",
    "            inputs[k] = v.to(device)\n",
    "        labels = labels.to(device)\n",
    "        batch_size = labels.size(0)\n",
    "        with torch.no_grad():\n",
    "            y_preds = model(inputs)\n",
    "            loss = criterion(y_preds, labels)\n",
    "        if CFG.gradient_accumulation_steps > 1:\n",
    "            loss = loss / CFG.gradient_accumulation_steps\n",
    "        losses.update(loss.item(), batch_size)\n",
    "        preds.append(y_preds.to('cpu').numpy())\n",
    "        end = time.time()\n",
    "        if step % CFG.print_freq == 0 or step == (len(valid_loader)-1):\n",
    "            print('EVAL: [{0}/{1}] '\n",
    "                  'Elapsed {remain:s} '\n",
    "                  'Loss: {loss.val:.4f}({loss.avg:.4f}) '\n",
    "                  .format(step, len(valid_loader),\n",
    "                          loss=losses,\n",
    "                          remain=timeSince(start, float(step+1)/len(valid_loader))))\n",
    "    predictions = np.concatenate(preds)\n",
    "    return losses.avg, predictions"
   ]
  },
  {
   "cell_type": "markdown",
   "metadata": {
    "papermill": {
     "duration": 0.0081,
     "end_time": "2022-08-31T07:03:18.100232",
     "exception": false,
     "start_time": "2022-08-31T07:03:18.092132",
     "status": "completed"
    },
    "tags": []
   },
   "source": [
    "# train loop"
   ]
  },
  {
   "cell_type": "code",
   "execution_count": 16,
   "metadata": {
    "papermill": {
     "duration": 0.033332,
     "end_time": "2022-08-31T07:03:18.141812",
     "exception": false,
     "start_time": "2022-08-31T07:03:18.10848",
     "status": "completed"
    },
    "tags": []
   },
   "outputs": [],
   "source": [
    "# ====================================================\n",
    "# train loop\n",
    "# ====================================================\n",
    "def train_loop(folds, fold):\n",
    "    \n",
    "    LOGGER.info(f\"========== fold: {fold} training ==========\")\n",
    "\n",
    "    # ====================================================\n",
    "    # loader\n",
    "    # ====================================================\n",
    "    train_folds = folds[folds['fold'] != fold].reset_index(drop=True)\n",
    "    valid_folds = folds[folds['fold'] == fold].reset_index(drop=True)\n",
    "    valid_labels = valid_folds[CFG.target_cols].values\n",
    "    \n",
    "    train_dataset = TrainDataset(CFG, train_folds)\n",
    "    valid_dataset = TrainDataset(CFG, valid_folds)\n",
    "\n",
    "    train_loader = DataLoader(train_dataset,\n",
    "                              batch_size=CFG.batch_size,\n",
    "                              shuffle=True,\n",
    "                              num_workers=CFG.num_workers, pin_memory=True, drop_last=True)\n",
    "    valid_loader = DataLoader(valid_dataset,\n",
    "                              batch_size=CFG.batch_size * 2,\n",
    "                              shuffle=False,\n",
    "                              num_workers=CFG.num_workers, pin_memory=True, drop_last=False)\n",
    "\n",
    "    # ====================================================\n",
    "    # model & optimizer\n",
    "    # ====================================================\n",
    "    model = CustomModel(CFG, config_path=None, pretrained=True)\n",
    "    torch.save(model.config, OUTPUT_DIR+'config.pth')\n",
    "    model.to(device)\n",
    "    \n",
    "    def get_optimizer_params(model, encoder_lr, decoder_lr, weight_decay=0.0):\n",
    "        param_optimizer = list(model.named_parameters())\n",
    "        no_decay = [\"bias\", \"LayerNorm.bias\", \"LayerNorm.weight\"]\n",
    "        optimizer_parameters = [\n",
    "            {'params': [p for n, p in model.model.named_parameters() if not any(nd in n for nd in no_decay)],\n",
    "             'lr': encoder_lr, 'weight_decay': weight_decay},\n",
    "            {'params': [p for n, p in model.model.named_parameters() if any(nd in n for nd in no_decay)],\n",
    "             'lr': encoder_lr, 'weight_decay': 0.0},\n",
    "            {'params': [p for n, p in model.named_parameters() if \"model\" not in n],\n",
    "             'lr': decoder_lr, 'weight_decay': 0.0}\n",
    "        ]\n",
    "        return optimizer_parameters\n",
    "\n",
    "    optimizer_parameters = get_optimizer_params(model,\n",
    "                                                encoder_lr=CFG.encoder_lr, \n",
    "                                                decoder_lr=CFG.decoder_lr,\n",
    "                                                weight_decay=CFG.weight_decay)\n",
    "    optimizer = AdamW(optimizer_parameters, lr=CFG.encoder_lr, eps=CFG.eps, betas=CFG.betas)\n",
    "    \n",
    "    # ====================================================\n",
    "    # scheduler\n",
    "    # ====================================================\n",
    "    def get_scheduler(cfg, optimizer, num_train_steps):\n",
    "        if cfg.scheduler == 'linear':\n",
    "            scheduler = get_linear_schedule_with_warmup(\n",
    "                optimizer, num_warmup_steps=cfg.num_warmup_steps, num_training_steps=num_train_steps\n",
    "            )\n",
    "        elif cfg.scheduler == 'cosine':\n",
    "            scheduler = get_cosine_schedule_with_warmup(\n",
    "                optimizer, num_warmup_steps=cfg.num_warmup_steps, num_training_steps=num_train_steps, num_cycles=cfg.num_cycles\n",
    "            )\n",
    "        return scheduler\n",
    "    \n",
    "    num_train_steps = int(len(train_folds) / CFG.batch_size * CFG.epochs)\n",
    "    scheduler = get_scheduler(CFG, optimizer, num_train_steps)\n",
    "\n",
    "    # ====================================================\n",
    "    # loop\n",
    "    # ====================================================\n",
    "    criterion = nn.SmoothL1Loss(reduction='mean') # RMSELoss(reduction=\"mean\")\n",
    "    \n",
    "    best_score = np.inf\n",
    "\n",
    "    for epoch in range(CFG.epochs):\n",
    "\n",
    "        start_time = time.time()\n",
    "\n",
    "        # train\n",
    "        avg_loss = train_fn(fold, train_loader, model, criterion, optimizer, epoch, scheduler, device)\n",
    "\n",
    "        # eval\n",
    "        avg_val_loss, predictions = valid_fn(valid_loader, model, criterion, device)\n",
    "        \n",
    "        # scoring\n",
    "        score, scores = get_score(valid_labels, predictions)\n",
    "\n",
    "        elapsed = time.time() - start_time\n",
    "\n",
    "        LOGGER.info(f'Epoch {epoch+1} - avg_train_loss: {avg_loss:.4f}  avg_val_loss: {avg_val_loss:.4f}  time: {elapsed:.0f}s')\n",
    "        LOGGER.info(f'Epoch {epoch+1} - Score: {score:.4f}  Scores: {scores}')\n",
    "        if CFG.wandb:\n",
    "            wandb.log({f\"[fold{fold}] epoch\": epoch+1, \n",
    "                       f\"[fold{fold}] avg_train_loss\": avg_loss, \n",
    "                       f\"[fold{fold}] avg_val_loss\": avg_val_loss,\n",
    "                       f\"[fold{fold}] score\": score})\n",
    "        \n",
    "        if best_score > score:\n",
    "            best_score = score\n",
    "            LOGGER.info(f'Epoch {epoch+1} - Save Best Score: {best_score:.4f} Model')\n",
    "            torch.save({'model': model.state_dict(),\n",
    "                        'predictions': predictions},\n",
    "                        OUTPUT_DIR+f\"{CFG.model.replace('/', '-')}_fold{fold}_best.pth\")\n",
    "\n",
    "    predictions = torch.load(OUTPUT_DIR+f\"{CFG.model.replace('/', '-')}_fold{fold}_best.pth\", \n",
    "                             map_location=torch.device('cpu'))['predictions']\n",
    "    valid_folds[[f\"pred_{c}\" for c in CFG.target_cols]] = predictions\n",
    "\n",
    "    torch.cuda.empty_cache()\n",
    "    gc.collect()\n",
    "    \n",
    "    return valid_folds"
   ]
  },
  {
   "cell_type": "code",
   "execution_count": 17,
   "metadata": {
    "papermill": {
     "duration": 11935.46951,
     "end_time": "2022-08-31T10:22:13.621316",
     "exception": false,
     "start_time": "2022-08-31T07:03:18.151806",
     "status": "completed"
    },
    "tags": []
   },
   "outputs": [
    {
     "name": "stderr",
     "output_type": "stream",
     "text": [
      "========== fold: 0 training ==========\n",
      "FunnelConfig {\n",
      "  \"_name_or_path\": \"/home/jupyter/models/funnel/intermediate/\",\n",
      "  \"activation_dropout\": 0.0,\n",
      "  \"architectures\": [\n",
      "    \"FunnelModel\"\n",
      "  ],\n",
      "  \"attention_dropout\": 0.0,\n",
      "  \"attention_probs_dropout_prob\": 0.0,\n",
      "  \"attention_type\": \"relative_shift\",\n",
      "  \"block_repeats\": [\n",
      "    1,\n",
      "    1,\n",
      "    1\n",
      "  ],\n",
      "  \"block_sizes\": [\n",
      "    6,\n",
      "    6,\n",
      "    6\n",
      "  ],\n",
      "  \"d_head\": 64,\n",
      "  \"d_inner\": 3072,\n",
      "  \"d_model\": 768,\n",
      "  \"hidden_act\": \"gelu_new\",\n",
      "  \"hidden_dropout\": 0.0,\n",
      "  \"hidden_dropout_prob\": 0.0,\n",
      "  \"initializer_range\": 0.1,\n",
      "  \"initializer_std\": null,\n",
      "  \"layer_norm_eps\": 1e-09,\n",
      "  \"max_position_embeddings\": 512,\n",
      "  \"model_type\": \"funnel\",\n",
      "  \"n_head\": 12,\n",
      "  \"num_decoder_layers\": 2,\n",
      "  \"output_hidden_states\": true,\n",
      "  \"pool_q_only\": true,\n",
      "  \"pooling_type\": \"mean\",\n",
      "  \"rel_attn_type\": \"factorized\",\n",
      "  \"separate_cls\": true,\n",
      "  \"transformers_version\": \"4.21.2\",\n",
      "  \"truncate_seq\": true,\n",
      "  \"type_vocab_size\": 3,\n",
      "  \"vocab_size\": 30522\n",
      "}\n",
      "\n"
     ]
    },
    {
     "name": "stdout",
     "output_type": "stream",
     "text": [
      "Epoch: [1][0/366] Elapsed 0m 1s (remain 11m 54s) Loss: 2.7511(2.7511) Grad: inf  LR: 0.00002000  \n",
      "Epoch: [1][20/366] Elapsed 0m 14s (remain 3m 53s) Loss: 0.1820(0.8315) Grad: 150743.3281  LR: 0.00002000  \n",
      "Epoch: [1][40/366] Elapsed 0m 26s (remain 3m 30s) Loss: 0.1831(0.5109) Grad: 90155.0000  LR: 0.00001998  \n",
      "Epoch: [1][60/366] Elapsed 0m 38s (remain 3m 14s) Loss: 0.1073(0.3979) Grad: 134025.6719  LR: 0.00001996  \n",
      "Epoch: [1][80/366] Elapsed 0m 51s (remain 3m 2s) Loss: 0.1394(0.3323) Grad: 96354.7812  LR: 0.00001993  \n",
      "Epoch: [1][100/366] Elapsed 1m 4s (remain 2m 49s) Loss: 0.0970(0.2941) Grad: 87220.3594  LR: 0.00001990  \n",
      "Epoch: [1][120/366] Elapsed 1m 17s (remain 2m 36s) Loss: 0.0514(0.2666) Grad: 78636.5703  LR: 0.00001985  \n",
      "Epoch: [1][140/366] Elapsed 1m 29s (remain 2m 23s) Loss: 0.1472(0.2481) Grad: 142381.5781  LR: 0.00001980  \n",
      "Epoch: [1][160/366] Elapsed 1m 42s (remain 2m 10s) Loss: 0.1073(0.2343) Grad: 173763.6250  LR: 0.00001974  \n",
      "Epoch: [1][180/366] Elapsed 1m 55s (remain 1m 57s) Loss: 0.1395(0.2227) Grad: 66817.6016  LR: 0.00001967  \n",
      "Epoch: [1][200/366] Elapsed 2m 7s (remain 1m 44s) Loss: 0.1496(0.2127) Grad: 227437.0938  LR: 0.00001959  \n",
      "Epoch: [1][220/366] Elapsed 2m 20s (remain 1m 32s) Loss: 0.1082(0.2078) Grad: 81664.3359  LR: 0.00001951  \n",
      "Epoch: [1][240/366] Elapsed 2m 32s (remain 1m 19s) Loss: 0.1334(0.2008) Grad: 129164.1641  LR: 0.00001941  \n",
      "Epoch: [1][260/366] Elapsed 2m 45s (remain 1m 6s) Loss: 0.1771(0.1961) Grad: 199219.0781  LR: 0.00001931  \n",
      "Epoch: [1][280/366] Elapsed 2m 58s (remain 0m 53s) Loss: 0.2046(0.1903) Grad: 131157.6406  LR: 0.00001920  \n",
      "Epoch: [1][300/366] Elapsed 3m 11s (remain 0m 41s) Loss: 0.1621(0.1855) Grad: 81703.9531  LR: 0.00001909  \n",
      "Epoch: [1][320/366] Elapsed 3m 23s (remain 0m 28s) Loss: 0.0839(0.1823) Grad: 66356.5234  LR: 0.00001897  \n",
      "Epoch: [1][340/366] Elapsed 3m 36s (remain 0m 15s) Loss: 0.1192(0.1785) Grad: 195549.9219  LR: 0.00001884  \n",
      "Epoch: [1][360/366] Elapsed 3m 48s (remain 0m 3s) Loss: 0.1617(0.1763) Grad: 171634.6719  LR: 0.00001870  \n",
      "Epoch: [1][365/366] Elapsed 3m 52s (remain 0m 0s) Loss: 0.1315(0.1755) Grad: 87923.1328  LR: 0.00001866  \n",
      "EVAL: [0/62] Elapsed 0m 1s (remain 1m 21s) Loss: 0.0992(0.0992) \n",
      "EVAL: [20/62] Elapsed 0m 16s (remain 0m 31s) Loss: 0.1212(0.1397) \n",
      "EVAL: [40/62] Elapsed 0m 31s (remain 0m 16s) Loss: 0.1521(0.1416) \n"
     ]
    },
    {
     "name": "stderr",
     "output_type": "stream",
     "text": [
      "Epoch 1 - avg_train_loss: 0.1755  avg_val_loss: 0.1443  time: 279s\n",
      "Epoch 1 - Score: 0.5376  Scores: [0.5095205567538782, 0.6686999920248118, 0.5441880746262279, 0.4898142142756081, 0.5234393638183819, 0.49005913439148924]\n",
      "Epoch 1 - Save Best Score: 0.5376 Model\n"
     ]
    },
    {
     "name": "stdout",
     "output_type": "stream",
     "text": [
      "EVAL: [60/62] Elapsed 0m 46s (remain 0m 0s) Loss: 0.1444(0.1441) \n",
      "EVAL: [61/62] Elapsed 0m 46s (remain 0m 0s) Loss: 0.2232(0.1443) \n",
      "Epoch: [2][0/366] Elapsed 0m 0s (remain 5m 27s) Loss: 0.2552(0.2552) Grad: 475010.5625  LR: 0.00001866  \n",
      "Epoch: [2][20/366] Elapsed 0m 13s (remain 3m 48s) Loss: 0.1052(0.1295) Grad: 205095.4375  LR: 0.00001851  \n",
      "Epoch: [2][40/366] Elapsed 0m 26s (remain 3m 29s) Loss: 0.0803(0.1144) Grad: 115309.2891  LR: 0.00001836  \n",
      "Epoch: [2][60/366] Elapsed 0m 39s (remain 3m 15s) Loss: 0.0869(0.1119) Grad: 230934.6719  LR: 0.00001820  \n",
      "Epoch: [2][80/366] Elapsed 0m 51s (remain 3m 1s) Loss: 0.0929(0.1101) Grad: 254519.0938  LR: 0.00001803  \n",
      "Epoch: [2][100/366] Elapsed 1m 4s (remain 2m 48s) Loss: 0.1200(0.1075) Grad: 142611.4688  LR: 0.00001786  \n",
      "Epoch: [2][120/366] Elapsed 1m 16s (remain 2m 35s) Loss: 0.1154(0.1077) Grad: 287736.0625  LR: 0.00001768  \n",
      "Epoch: [2][140/366] Elapsed 1m 29s (remain 2m 22s) Loss: 0.0796(0.1080) Grad: 136493.3906  LR: 0.00001749  \n",
      "Epoch: [2][160/366] Elapsed 1m 42s (remain 2m 9s) Loss: 0.1511(0.1082) Grad: 159293.2812  LR: 0.00001730  \n",
      "Epoch: [2][180/366] Elapsed 1m 54s (remain 1m 57s) Loss: 0.0575(0.1078) Grad: 106906.5234  LR: 0.00001710  \n",
      "Epoch: [2][200/366] Elapsed 2m 7s (remain 1m 44s) Loss: 0.1375(0.1081) Grad: 196459.4375  LR: 0.00001689  \n",
      "Epoch: [2][220/366] Elapsed 2m 20s (remain 1m 31s) Loss: 0.1019(0.1086) Grad: 250463.2812  LR: 0.00001668  \n",
      "Epoch: [2][240/366] Elapsed 2m 32s (remain 1m 19s) Loss: 0.0717(0.1076) Grad: 144187.8906  LR: 0.00001647  \n",
      "Epoch: [2][260/366] Elapsed 2m 45s (remain 1m 6s) Loss: 0.1897(0.1074) Grad: 221895.6094  LR: 0.00001625  \n",
      "Epoch: [2][280/366] Elapsed 2m 57s (remain 0m 53s) Loss: 0.0734(0.1074) Grad: 96228.2422  LR: 0.00001602  \n",
      "Epoch: [2][300/366] Elapsed 3m 10s (remain 0m 41s) Loss: 0.0828(0.1077) Grad: 231905.7812  LR: 0.00001579  \n",
      "Epoch: [2][320/366] Elapsed 3m 23s (remain 0m 28s) Loss: 0.1333(0.1083) Grad: 431284.4375  LR: 0.00001556  \n",
      "Epoch: [2][340/366] Elapsed 3m 35s (remain 0m 15s) Loss: 0.1193(0.1087) Grad: 246670.7188  LR: 0.00001532  \n",
      "Epoch: [2][360/366] Elapsed 3m 48s (remain 0m 3s) Loss: 0.0840(0.1083) Grad: 70239.9531  LR: 0.00001507  \n",
      "Epoch: [2][365/366] Elapsed 3m 51s (remain 0m 0s) Loss: 0.1112(0.1084) Grad: 153095.5469  LR: 0.00001501  \n",
      "EVAL: [0/62] Elapsed 0m 0s (remain 1m 0s) Loss: 0.0722(0.0722) \n",
      "EVAL: [20/62] Elapsed 0m 15s (remain 0m 31s) Loss: 0.0728(0.1068) \n",
      "EVAL: [40/62] Elapsed 0m 31s (remain 0m 15s) Loss: 0.0888(0.1075) \n"
     ]
    },
    {
     "name": "stderr",
     "output_type": "stream",
     "text": [
      "Epoch 2 - avg_train_loss: 0.1084  avg_val_loss: 0.1089  time: 278s\n",
      "Epoch 2 - Score: 0.4678  Scores: [0.4962717931314254, 0.45680297741377285, 0.4428657373952123, 0.4615018374590605, 0.4938368237397075, 0.4554111499623152]\n",
      "Epoch 2 - Save Best Score: 0.4678 Model\n"
     ]
    },
    {
     "name": "stdout",
     "output_type": "stream",
     "text": [
      "EVAL: [60/62] Elapsed 0m 46s (remain 0m 0s) Loss: 0.0944(0.1089) \n",
      "EVAL: [61/62] Elapsed 0m 46s (remain 0m 0s) Loss: 0.0939(0.1089) \n",
      "Epoch: [3][0/366] Elapsed 0m 0s (remain 5m 49s) Loss: 0.0714(0.0714) Grad: 211908.4531  LR: 0.00001500  \n",
      "Epoch: [3][20/366] Elapsed 0m 13s (remain 3m 42s) Loss: 0.0776(0.0933) Grad: 125101.2344  LR: 0.00001475  \n",
      "Epoch: [3][40/366] Elapsed 0m 26s (remain 3m 28s) Loss: 0.1030(0.0979) Grad: 190194.2812  LR: 0.00001450  \n",
      "Epoch: [3][60/366] Elapsed 0m 39s (remain 3m 15s) Loss: 0.0866(0.0956) Grad: 274161.3750  LR: 0.00001424  \n",
      "Epoch: [3][80/366] Elapsed 0m 51s (remain 3m 1s) Loss: 0.1012(0.0963) Grad: 173937.6875  LR: 0.00001398  \n",
      "Epoch: [3][100/366] Elapsed 1m 4s (remain 2m 48s) Loss: 0.1417(0.0963) Grad: 401106.9375  LR: 0.00001372  \n",
      "Epoch: [3][120/366] Elapsed 1m 16s (remain 2m 35s) Loss: 0.0803(0.0968) Grad: 168677.9062  LR: 0.00001345  \n",
      "Epoch: [3][140/366] Elapsed 1m 29s (remain 2m 23s) Loss: 0.0656(0.0960) Grad: 144819.1406  LR: 0.00001318  \n",
      "Epoch: [3][160/366] Elapsed 1m 42s (remain 2m 10s) Loss: 0.0884(0.0977) Grad: 117393.3672  LR: 0.00001291  \n",
      "Epoch: [3][180/366] Elapsed 1m 54s (remain 1m 57s) Loss: 0.0765(0.0974) Grad: 174549.3750  LR: 0.00001263  \n",
      "Epoch: [3][200/366] Elapsed 2m 7s (remain 1m 44s) Loss: 0.1130(0.0979) Grad: 280263.5938  LR: 0.00001236  \n",
      "Epoch: [3][220/366] Elapsed 2m 20s (remain 1m 31s) Loss: 0.0976(0.0981) Grad: 272889.2188  LR: 0.00001208  \n",
      "Epoch: [3][240/366] Elapsed 2m 32s (remain 1m 19s) Loss: 0.0594(0.0979) Grad: 67065.9453  LR: 0.00001180  \n",
      "Epoch: [3][260/366] Elapsed 2m 45s (remain 1m 6s) Loss: 0.0710(0.0971) Grad: 99508.2500  LR: 0.00001152  \n",
      "Epoch: [3][280/366] Elapsed 2m 58s (remain 0m 53s) Loss: 0.0782(0.0972) Grad: 184166.6562  LR: 0.00001123  \n",
      "Epoch: [3][300/366] Elapsed 3m 10s (remain 0m 41s) Loss: 0.1133(0.0978) Grad: 204227.1250  LR: 0.00001095  \n",
      "Epoch: [3][320/366] Elapsed 3m 23s (remain 0m 28s) Loss: 0.0955(0.0983) Grad: 244746.5312  LR: 0.00001066  \n",
      "Epoch: [3][340/366] Elapsed 3m 36s (remain 0m 15s) Loss: 0.0684(0.0983) Grad: 158717.0469  LR: 0.00001038  \n",
      "Epoch: [3][360/366] Elapsed 3m 48s (remain 0m 3s) Loss: 0.0686(0.0985) Grad: 89763.3516  LR: 0.00001009  \n",
      "Epoch: [3][365/366] Elapsed 3m 51s (remain 0m 0s) Loss: 0.0993(0.0985) Grad: 123438.1797  LR: 0.00001002  \n",
      "EVAL: [0/62] Elapsed 0m 0s (remain 1m 0s) Loss: 0.0725(0.0725) \n",
      "EVAL: [20/62] Elapsed 0m 15s (remain 0m 31s) Loss: 0.0772(0.1067) \n",
      "EVAL: [40/62] Elapsed 0m 30s (remain 0m 15s) Loss: 0.0973(0.1076) \n"
     ]
    },
    {
     "name": "stderr",
     "output_type": "stream",
     "text": [
      "Epoch 3 - avg_train_loss: 0.0985  avg_val_loss: 0.1085  time: 278s\n",
      "Epoch 3 - Score: 0.4667  Scores: [0.5086084905547179, 0.451160997811144, 0.4327143305962248, 0.47612369557379514, 0.4784257596380111, 0.4528796752531759]\n",
      "Epoch 3 - Save Best Score: 0.4667 Model\n"
     ]
    },
    {
     "name": "stdout",
     "output_type": "stream",
     "text": [
      "EVAL: [60/62] Elapsed 0m 45s (remain 0m 0s) Loss: 0.0906(0.1086) \n",
      "EVAL: [61/62] Elapsed 0m 45s (remain 0m 0s) Loss: 0.0838(0.1085) \n",
      "Epoch: [4][0/366] Elapsed 0m 0s (remain 5m 37s) Loss: 0.0953(0.0953) Grad: 178288.8281  LR: 0.00001001  \n",
      "Epoch: [4][20/366] Elapsed 0m 13s (remain 3m 41s) Loss: 0.0422(0.0936) Grad: 78053.8750  LR: 0.00000972  \n",
      "Epoch: [4][40/366] Elapsed 0m 26s (remain 3m 26s) Loss: 0.0969(0.0917) Grad: 184077.8125  LR: 0.00000944  \n",
      "Epoch: [4][60/366] Elapsed 0m 38s (remain 3m 13s) Loss: 0.0861(0.0915) Grad: 43408.7891  LR: 0.00000915  \n",
      "Epoch: [4][80/366] Elapsed 0m 51s (remain 3m 1s) Loss: 0.1745(0.0952) Grad: 228661.4062  LR: 0.00000887  \n",
      "Epoch: [4][100/366] Elapsed 1m 4s (remain 2m 48s) Loss: 0.0656(0.0942) Grad: 76712.8438  LR: 0.00000858  \n",
      "Epoch: [4][120/366] Elapsed 1m 16s (remain 2m 35s) Loss: 0.1146(0.0949) Grad: 127590.0625  LR: 0.00000830  \n",
      "Epoch: [4][140/366] Elapsed 1m 29s (remain 2m 22s) Loss: 0.0733(0.0953) Grad: 62583.0273  LR: 0.00000802  \n",
      "Epoch: [4][160/366] Elapsed 1m 42s (remain 2m 9s) Loss: 0.1204(0.0943) Grad: 93509.5391  LR: 0.00000774  \n",
      "Epoch: [4][180/366] Elapsed 1m 54s (remain 1m 57s) Loss: 0.0875(0.0938) Grad: 104955.1406  LR: 0.00000746  \n",
      "Epoch: [4][200/366] Elapsed 2m 7s (remain 1m 44s) Loss: 0.1323(0.0933) Grad: 135210.2344  LR: 0.00000719  \n",
      "Epoch: [4][220/366] Elapsed 2m 19s (remain 1m 31s) Loss: 0.0936(0.0930) Grad: 58524.0859  LR: 0.00000692  \n",
      "Epoch: [4][240/366] Elapsed 2m 32s (remain 1m 19s) Loss: 0.1037(0.0925) Grad: 100654.0625  LR: 0.00000664  \n",
      "Epoch: [4][260/366] Elapsed 2m 45s (remain 1m 6s) Loss: 0.1131(0.0921) Grad: 64624.2305  LR: 0.00000638  \n",
      "Epoch: [4][280/366] Elapsed 2m 58s (remain 0m 53s) Loss: 0.0841(0.0922) Grad: 78294.1953  LR: 0.00000611  \n",
      "Epoch: [4][300/366] Elapsed 3m 10s (remain 0m 41s) Loss: 0.0834(0.0921) Grad: 51700.6758  LR: 0.00000585  \n",
      "Epoch: [4][320/366] Elapsed 3m 23s (remain 0m 28s) Loss: 0.0967(0.0919) Grad: 99034.2344  LR: 0.00000559  \n",
      "Epoch: [4][340/366] Elapsed 3m 35s (remain 0m 15s) Loss: 0.1034(0.0913) Grad: 64375.3320  LR: 0.00000534  \n",
      "Epoch: [4][360/366] Elapsed 3m 48s (remain 0m 3s) Loss: 0.1046(0.0914) Grad: 139848.2031  LR: 0.00000509  \n",
      "Epoch: [4][365/366] Elapsed 3m 51s (remain 0m 0s) Loss: 0.0784(0.0914) Grad: 45728.4727  LR: 0.00000502  \n",
      "EVAL: [0/62] Elapsed 0m 0s (remain 1m 0s) Loss: 0.0701(0.0701) \n",
      "EVAL: [20/62] Elapsed 0m 15s (remain 0m 31s) Loss: 0.0759(0.1042) \n",
      "EVAL: [40/62] Elapsed 0m 30s (remain 0m 15s) Loss: 0.0920(0.1049) \n"
     ]
    },
    {
     "name": "stderr",
     "output_type": "stream",
     "text": [
      "Epoch 4 - avg_train_loss: 0.0914  avg_val_loss: 0.1059  time: 278s\n",
      "Epoch 4 - Score: 0.4609  Scores: [0.4861560398106391, 0.4536397691139151, 0.4271415194298398, 0.4602110298504814, 0.4807804066897029, 0.45754704028343063]\n",
      "Epoch 4 - Save Best Score: 0.4609 Model\n"
     ]
    },
    {
     "name": "stdout",
     "output_type": "stream",
     "text": [
      "EVAL: [60/62] Elapsed 0m 45s (remain 0m 0s) Loss: 0.0998(0.1059) \n",
      "EVAL: [61/62] Elapsed 0m 46s (remain 0m 0s) Loss: 0.0908(0.1059) \n",
      "Epoch: [5][0/366] Elapsed 0m 0s (remain 5m 45s) Loss: 0.0695(0.0695) Grad: 104985.0625  LR: 0.00000501  \n",
      "Epoch: [5][20/366] Elapsed 0m 13s (remain 3m 41s) Loss: 0.0735(0.0813) Grad: 112956.7734  LR: 0.00000477  \n",
      "Epoch: [5][40/366] Elapsed 0m 26s (remain 3m 26s) Loss: 0.0588(0.0813) Grad: 203654.8750  LR: 0.00000453  \n",
      "Epoch: [5][60/366] Elapsed 0m 38s (remain 3m 13s) Loss: 0.0817(0.0814) Grad: 192468.5625  LR: 0.00000429  \n",
      "Epoch: [5][80/366] Elapsed 0m 51s (remain 3m 0s) Loss: 0.0888(0.0847) Grad: 132919.7969  LR: 0.00000406  \n",
      "Epoch: [5][100/366] Elapsed 1m 4s (remain 2m 48s) Loss: 0.0680(0.0837) Grad: 134706.0625  LR: 0.00000383  \n",
      "Epoch: [5][120/366] Elapsed 1m 16s (remain 2m 35s) Loss: 0.0920(0.0825) Grad: 135181.5938  LR: 0.00000361  \n",
      "Epoch: [5][140/366] Elapsed 1m 29s (remain 2m 22s) Loss: 0.0924(0.0806) Grad: 121202.7031  LR: 0.00000339  \n",
      "Epoch: [5][160/366] Elapsed 1m 41s (remain 2m 9s) Loss: 0.0709(0.0795) Grad: 107140.6719  LR: 0.00000318  \n",
      "Epoch: [5][180/366] Elapsed 1m 54s (remain 1m 57s) Loss: 0.0631(0.0789) Grad: 106167.5547  LR: 0.00000297  \n",
      "Epoch: [5][200/366] Elapsed 2m 7s (remain 1m 44s) Loss: 0.0823(0.0782) Grad: 121727.6172  LR: 0.00000277  \n",
      "Epoch: [5][220/366] Elapsed 2m 20s (remain 1m 31s) Loss: 0.0569(0.0778) Grad: 130108.2734  LR: 0.00000258  \n",
      "Epoch: [5][240/366] Elapsed 2m 32s (remain 1m 19s) Loss: 0.0808(0.0779) Grad: 130416.7578  LR: 0.00000239  \n",
      "Epoch: [5][260/366] Elapsed 2m 45s (remain 1m 6s) Loss: 0.0900(0.0781) Grad: 116439.3594  LR: 0.00000221  \n",
      "Epoch: [5][280/366] Elapsed 2m 57s (remain 0m 53s) Loss: 0.0889(0.0782) Grad: 147586.6562  LR: 0.00000203  \n",
      "Epoch: [5][300/366] Elapsed 3m 10s (remain 0m 41s) Loss: 0.0881(0.0779) Grad: 189742.0781  LR: 0.00000186  \n",
      "Epoch: [5][320/366] Elapsed 3m 23s (remain 0m 28s) Loss: 0.0927(0.0778) Grad: 190666.5312  LR: 0.00000170  \n",
      "Epoch: [5][340/366] Elapsed 3m 35s (remain 0m 15s) Loss: 0.0634(0.0776) Grad: 71532.2031  LR: 0.00000154  \n",
      "Epoch: [5][360/366] Elapsed 3m 48s (remain 0m 3s) Loss: 0.0779(0.0772) Grad: 133096.9062  LR: 0.00000139  \n",
      "Epoch: [5][365/366] Elapsed 3m 51s (remain 0m 0s) Loss: 0.0792(0.0771) Grad: 100085.0156  LR: 0.00000136  \n",
      "EVAL: [0/62] Elapsed 0m 1s (remain 1m 1s) Loss: 0.0687(0.0687) \n",
      "EVAL: [20/62] Elapsed 0m 16s (remain 0m 31s) Loss: 0.0809(0.1031) \n",
      "EVAL: [40/62] Elapsed 0m 31s (remain 0m 15s) Loss: 0.0891(0.1044) \n"
     ]
    },
    {
     "name": "stderr",
     "output_type": "stream",
     "text": [
      "Epoch 5 - avg_train_loss: 0.0771  avg_val_loss: 0.1054  time: 278s\n",
      "Epoch 5 - Score: 0.4599  Scores: [0.4909263107931965, 0.44784114948038983, 0.416828276114861, 0.4617321969973346, 0.48182234755878733, 0.4600598755584298]\n",
      "Epoch 5 - Save Best Score: 0.4599 Model\n"
     ]
    },
    {
     "name": "stdout",
     "output_type": "stream",
     "text": [
      "EVAL: [60/62] Elapsed 0m 46s (remain 0m 0s) Loss: 0.0946(0.1055) \n",
      "EVAL: [61/62] Elapsed 0m 46s (remain 0m 0s) Loss: 0.0737(0.1054) \n",
      "Epoch: [6][0/366] Elapsed 0m 0s (remain 5m 36s) Loss: 0.0639(0.0639) Grad: 113263.4219  LR: 0.00000135  \n",
      "Epoch: [6][20/366] Elapsed 0m 13s (remain 3m 44s) Loss: 0.0585(0.0738) Grad: 96362.3750  LR: 0.00000121  \n",
      "Epoch: [6][40/366] Elapsed 0m 26s (remain 3m 29s) Loss: 0.0541(0.0711) Grad: 87323.3125  LR: 0.00000108  \n",
      "Epoch: [6][60/366] Elapsed 0m 39s (remain 3m 15s) Loss: 0.0579(0.0716) Grad: 132295.3594  LR: 0.00000095  \n",
      "Epoch: [6][80/366] Elapsed 0m 51s (remain 3m 1s) Loss: 0.0833(0.0714) Grad: 144119.3438  LR: 0.00000083  \n",
      "Epoch: [6][100/366] Elapsed 1m 4s (remain 2m 48s) Loss: 0.1095(0.0716) Grad: 316730.1250  LR: 0.00000072  \n",
      "Epoch: [6][120/366] Elapsed 1m 16s (remain 2m 35s) Loss: 0.1373(0.0720) Grad: 208721.7500  LR: 0.00000062  \n",
      "Epoch: [6][140/366] Elapsed 1m 29s (remain 2m 22s) Loss: 0.0766(0.0715) Grad: 140544.3281  LR: 0.00000053  \n",
      "Epoch: [6][160/366] Elapsed 1m 42s (remain 2m 10s) Loss: 0.0818(0.0723) Grad: 176273.2188  LR: 0.00000044  \n",
      "Epoch: [6][180/366] Elapsed 1m 54s (remain 1m 57s) Loss: 0.0671(0.0720) Grad: 178449.6250  LR: 0.00000036  \n",
      "Epoch: [6][200/366] Elapsed 2m 7s (remain 1m 44s) Loss: 0.0588(0.0723) Grad: 110004.2422  LR: 0.00000029  \n",
      "Epoch: [6][220/366] Elapsed 2m 20s (remain 1m 31s) Loss: 0.0809(0.0723) Grad: 225701.7188  LR: 0.00000022  \n",
      "Epoch: [6][240/366] Elapsed 2m 32s (remain 1m 19s) Loss: 0.0661(0.0728) Grad: 169595.4219  LR: 0.00000017  \n",
      "Epoch: [6][260/366] Elapsed 2m 45s (remain 1m 6s) Loss: 0.0841(0.0727) Grad: 130789.7734  LR: 0.00000012  \n",
      "Epoch: [6][280/366] Elapsed 2m 57s (remain 0m 53s) Loss: 0.0460(0.0725) Grad: 120339.6641  LR: 0.00000008  \n",
      "Epoch: [6][300/366] Elapsed 3m 10s (remain 0m 41s) Loss: 0.0561(0.0722) Grad: 166032.6562  LR: 0.00000005  \n",
      "Epoch: [6][320/366] Elapsed 3m 23s (remain 0m 28s) Loss: 0.0671(0.0720) Grad: 133729.5312  LR: 0.00000002  \n",
      "Epoch: [6][340/366] Elapsed 3m 35s (remain 0m 15s) Loss: 0.0650(0.0715) Grad: 103499.8125  LR: 0.00000001  \n",
      "Epoch: [6][360/366] Elapsed 3m 48s (remain 0m 3s) Loss: 0.0585(0.0715) Grad: 99641.9922  LR: 0.00000000  \n",
      "Epoch: [6][365/366] Elapsed 3m 51s (remain 0m 0s) Loss: 0.0961(0.0716) Grad: 221908.2656  LR: 0.00000000  \n",
      "EVAL: [0/62] Elapsed 0m 1s (remain 1m 1s) Loss: 0.0691(0.0691) \n",
      "EVAL: [20/62] Elapsed 0m 16s (remain 0m 31s) Loss: 0.0805(0.1037) \n",
      "EVAL: [40/62] Elapsed 0m 31s (remain 0m 15s) Loss: 0.0883(0.1052) \n"
     ]
    },
    {
     "name": "stderr",
     "output_type": "stream",
     "text": [
      "Epoch 6 - avg_train_loss: 0.0716  avg_val_loss: 0.1061  time: 278s\n",
      "Epoch 6 - Score: 0.4615  Scores: [0.4908541358503137, 0.4507663429786889, 0.41880591216370744, 0.4642496935052562, 0.482109304141902, 0.4622491689357223]\n"
     ]
    },
    {
     "name": "stdout",
     "output_type": "stream",
     "text": [
      "EVAL: [60/62] Elapsed 0m 46s (remain 0m 0s) Loss: 0.0921(0.1062) \n",
      "EVAL: [61/62] Elapsed 0m 46s (remain 0m 0s) Loss: 0.0743(0.1061) \n"
     ]
    },
    {
     "name": "stderr",
     "output_type": "stream",
     "text": [
      "========== fold: 0 result ==========\n",
      "Score: 0.4599  Scores: [0.4909263107931965, 0.44784114948038983, 0.416828276114861, 0.4617321969973346, 0.48182234755878733, 0.4600598755584298]\n",
      "========== fold: 1 training ==========\n",
      "FunnelConfig {\n",
      "  \"_name_or_path\": \"/home/jupyter/models/funnel/intermediate/\",\n",
      "  \"activation_dropout\": 0.0,\n",
      "  \"architectures\": [\n",
      "    \"FunnelModel\"\n",
      "  ],\n",
      "  \"attention_dropout\": 0.0,\n",
      "  \"attention_probs_dropout_prob\": 0.0,\n",
      "  \"attention_type\": \"relative_shift\",\n",
      "  \"block_repeats\": [\n",
      "    1,\n",
      "    1,\n",
      "    1\n",
      "  ],\n",
      "  \"block_sizes\": [\n",
      "    6,\n",
      "    6,\n",
      "    6\n",
      "  ],\n",
      "  \"d_head\": 64,\n",
      "  \"d_inner\": 3072,\n",
      "  \"d_model\": 768,\n",
      "  \"hidden_act\": \"gelu_new\",\n",
      "  \"hidden_dropout\": 0.0,\n",
      "  \"hidden_dropout_prob\": 0.0,\n",
      "  \"initializer_range\": 0.1,\n",
      "  \"initializer_std\": null,\n",
      "  \"layer_norm_eps\": 1e-09,\n",
      "  \"max_position_embeddings\": 512,\n",
      "  \"model_type\": \"funnel\",\n",
      "  \"n_head\": 12,\n",
      "  \"num_decoder_layers\": 2,\n",
      "  \"output_hidden_states\": true,\n",
      "  \"pool_q_only\": true,\n",
      "  \"pooling_type\": \"mean\",\n",
      "  \"rel_attn_type\": \"factorized\",\n",
      "  \"separate_cls\": true,\n",
      "  \"transformers_version\": \"4.21.2\",\n",
      "  \"truncate_seq\": true,\n",
      "  \"type_vocab_size\": 3,\n",
      "  \"vocab_size\": 30522\n",
      "}\n",
      "\n"
     ]
    },
    {
     "name": "stdout",
     "output_type": "stream",
     "text": [
      "Epoch: [1][0/366] Elapsed 0m 0s (remain 5m 17s) Loss: 2.2740(2.2740) Grad: inf  LR: 0.00002000  \n",
      "Epoch: [1][20/366] Elapsed 0m 13s (remain 3m 40s) Loss: 0.2792(0.6425) Grad: 332421.0625  LR: 0.00002000  \n",
      "Epoch: [1][40/366] Elapsed 0m 26s (remain 3m 26s) Loss: 0.2110(0.4063) Grad: 264622.5312  LR: 0.00001998  \n",
      "Epoch: [1][60/366] Elapsed 0m 38s (remain 3m 14s) Loss: 0.1332(0.3219) Grad: 106611.5312  LR: 0.00001996  \n",
      "Epoch: [1][80/366] Elapsed 0m 51s (remain 3m 1s) Loss: 0.1488(0.2765) Grad: 161770.3125  LR: 0.00001993  \n",
      "Epoch: [1][100/366] Elapsed 1m 4s (remain 2m 47s) Loss: 0.1210(0.2455) Grad: 156411.9688  LR: 0.00001990  \n",
      "Epoch: [1][120/366] Elapsed 1m 16s (remain 2m 35s) Loss: 0.0682(0.2292) Grad: 80889.3047  LR: 0.00001985  \n",
      "Epoch: [1][140/366] Elapsed 1m 29s (remain 2m 22s) Loss: 0.1478(0.2145) Grad: 101744.2031  LR: 0.00001980  \n",
      "Epoch: [1][160/366] Elapsed 1m 42s (remain 2m 9s) Loss: 0.1945(0.2046) Grad: 195067.3438  LR: 0.00001974  \n",
      "Epoch: [1][180/366] Elapsed 1m 54s (remain 1m 57s) Loss: 0.0883(0.1969) Grad: 78514.5234  LR: 0.00001967  \n",
      "Epoch: [1][200/366] Elapsed 2m 7s (remain 1m 44s) Loss: 0.0832(0.1901) Grad: 48547.2852  LR: 0.00001959  \n",
      "Epoch: [1][220/366] Elapsed 2m 19s (remain 1m 31s) Loss: 0.1031(0.1835) Grad: 103927.2578  LR: 0.00001951  \n",
      "Epoch: [1][240/366] Elapsed 2m 32s (remain 1m 19s) Loss: 0.2055(0.1791) Grad: 81795.0469  LR: 0.00001941  \n",
      "Epoch: [1][260/366] Elapsed 2m 45s (remain 1m 6s) Loss: 0.1053(0.1748) Grad: 97076.2422  LR: 0.00001931  \n",
      "Epoch: [1][280/366] Elapsed 2m 57s (remain 0m 53s) Loss: 0.0859(0.1703) Grad: 61509.7109  LR: 0.00001921  \n",
      "Epoch: [1][300/366] Elapsed 3m 10s (remain 0m 41s) Loss: 0.1469(0.1668) Grad: 138097.4844  LR: 0.00001909  \n",
      "Epoch: [1][320/366] Elapsed 3m 22s (remain 0m 28s) Loss: 0.0820(0.1637) Grad: 61258.0273  LR: 0.00001897  \n",
      "Epoch: [1][340/366] Elapsed 3m 35s (remain 0m 15s) Loss: 0.1191(0.1611) Grad: 62372.4453  LR: 0.00001884  \n",
      "Epoch: [1][360/366] Elapsed 3m 48s (remain 0m 3s) Loss: 0.1186(0.1581) Grad: 51546.2188  LR: 0.00001870  \n",
      "Epoch: [1][365/366] Elapsed 3m 51s (remain 0m 0s) Loss: 0.1806(0.1576) Grad: 111106.0000  LR: 0.00001867  \n",
      "EVAL: [0/62] Elapsed 0m 1s (remain 1m 2s) Loss: 0.1118(0.1118) \n",
      "EVAL: [20/62] Elapsed 0m 15s (remain 0m 31s) Loss: 0.1649(0.1371) \n",
      "EVAL: [40/62] Elapsed 0m 30s (remain 0m 15s) Loss: 0.1285(0.1329) \n"
     ]
    },
    {
     "name": "stderr",
     "output_type": "stream",
     "text": [
      "Epoch 1 - avg_train_loss: 0.1576  avg_val_loss: 0.1296  time: 278s\n",
      "Epoch 1 - Score: 0.5084  Scores: [0.5505751048675146, 0.45417253110628436, 0.43432020313750075, 0.4661692782125307, 0.5452584338816492, 0.5997594389346234]\n",
      "Epoch 1 - Save Best Score: 0.5084 Model\n"
     ]
    },
    {
     "name": "stdout",
     "output_type": "stream",
     "text": [
      "EVAL: [60/62] Elapsed 0m 46s (remain 0m 0s) Loss: 0.1123(0.1296) \n",
      "EVAL: [61/62] Elapsed 0m 46s (remain 0m 0s) Loss: 0.1049(0.1296) \n",
      "Epoch: [2][0/366] Elapsed 0m 0s (remain 5m 28s) Loss: 0.2116(0.2116) Grad: 174211.3125  LR: 0.00001866  \n",
      "Epoch: [2][20/366] Elapsed 0m 13s (remain 3m 41s) Loss: 0.1133(0.1041) Grad: 287260.6250  LR: 0.00001851  \n",
      "Epoch: [2][40/366] Elapsed 0m 26s (remain 3m 26s) Loss: 0.0662(0.1024) Grad: 102013.3984  LR: 0.00001836  \n",
      "Epoch: [2][60/366] Elapsed 0m 38s (remain 3m 13s) Loss: 0.0877(0.1037) Grad: 81121.7422  LR: 0.00001820  \n",
      "Epoch: [2][80/366] Elapsed 0m 51s (remain 3m 0s) Loss: 0.1422(0.1039) Grad: 136099.6250  LR: 0.00001803  \n",
      "Epoch: [2][100/366] Elapsed 1m 4s (remain 2m 48s) Loss: 0.0920(0.1032) Grad: 130926.9375  LR: 0.00001786  \n",
      "Epoch: [2][120/366] Elapsed 1m 16s (remain 2m 35s) Loss: 0.1595(0.1017) Grad: 244621.5781  LR: 0.00001768  \n",
      "Epoch: [2][140/366] Elapsed 1m 29s (remain 2m 22s) Loss: 0.0796(0.1011) Grad: 115993.2422  LR: 0.00001749  \n",
      "Epoch: [2][160/366] Elapsed 1m 41s (remain 2m 9s) Loss: 0.0814(0.1028) Grad: 125925.9844  LR: 0.00001730  \n",
      "Epoch: [2][180/366] Elapsed 1m 54s (remain 1m 57s) Loss: 0.0794(0.1014) Grad: 142477.5781  LR: 0.00001710  \n",
      "Epoch: [2][200/366] Elapsed 2m 7s (remain 1m 44s) Loss: 0.1023(0.1017) Grad: 113616.3047  LR: 0.00001690  \n",
      "Epoch: [2][220/366] Elapsed 2m 19s (remain 1m 31s) Loss: 0.1213(0.1028) Grad: 209496.2188  LR: 0.00001669  \n",
      "Epoch: [2][240/366] Elapsed 2m 32s (remain 1m 19s) Loss: 0.1278(0.1045) Grad: 144888.0781  LR: 0.00001647  \n",
      "Epoch: [2][260/366] Elapsed 2m 45s (remain 1m 6s) Loss: 0.0575(0.1038) Grad: 69445.4141  LR: 0.00001625  \n",
      "Epoch: [2][280/366] Elapsed 2m 58s (remain 0m 53s) Loss: 0.1040(0.1044) Grad: 176041.5000  LR: 0.00001603  \n",
      "Epoch: [2][300/366] Elapsed 3m 10s (remain 0m 41s) Loss: 0.1367(0.1043) Grad: 135194.2031  LR: 0.00001580  \n",
      "Epoch: [2][320/366] Elapsed 3m 23s (remain 0m 28s) Loss: 0.0820(0.1035) Grad: 160912.8750  LR: 0.00001556  \n",
      "Epoch: [2][340/366] Elapsed 3m 35s (remain 0m 15s) Loss: 0.1160(0.1027) Grad: 154342.0781  LR: 0.00001532  \n",
      "Epoch: [2][360/366] Elapsed 3m 48s (remain 0m 3s) Loss: 0.1429(0.1028) Grad: 229904.2969  LR: 0.00001508  \n",
      "Epoch: [2][365/366] Elapsed 3m 51s (remain 0m 0s) Loss: 0.1029(0.1028) Grad: 122387.4688  LR: 0.00001502  \n",
      "EVAL: [0/62] Elapsed 0m 1s (remain 1m 2s) Loss: 0.0906(0.0906) \n",
      "EVAL: [20/62] Elapsed 0m 16s (remain 0m 31s) Loss: 0.1094(0.1144) \n",
      "EVAL: [40/62] Elapsed 0m 31s (remain 0m 15s) Loss: 0.1023(0.1131) \n"
     ]
    },
    {
     "name": "stderr",
     "output_type": "stream",
     "text": [
      "Epoch 2 - avg_train_loss: 0.1028  avg_val_loss: 0.1133  time: 278s\n",
      "Epoch 2 - Score: 0.4772  Scores: [0.5045633370584551, 0.4477190775368899, 0.43544525752202207, 0.4704650892421898, 0.48749179173606866, 0.5176004521200996]\n",
      "Epoch 2 - Save Best Score: 0.4772 Model\n"
     ]
    },
    {
     "name": "stdout",
     "output_type": "stream",
     "text": [
      "EVAL: [60/62] Elapsed 0m 46s (remain 0m 0s) Loss: 0.0949(0.1134) \n",
      "EVAL: [61/62] Elapsed 0m 46s (remain 0m 0s) Loss: 0.0483(0.1133) \n",
      "Epoch: [3][0/366] Elapsed 0m 0s (remain 6m 2s) Loss: 0.0654(0.0654) Grad: 136307.3594  LR: 0.00001500  \n",
      "Epoch: [3][20/366] Elapsed 0m 13s (remain 3m 46s) Loss: 0.0856(0.0911) Grad: 122738.3125  LR: 0.00001475  \n",
      "Epoch: [3][40/366] Elapsed 0m 26s (remain 3m 29s) Loss: 0.0831(0.0887) Grad: 103974.6797  LR: 0.00001450  \n",
      "Epoch: [3][60/366] Elapsed 0m 39s (remain 3m 15s) Loss: 0.0424(0.0860) Grad: 89554.1562  LR: 0.00001424  \n",
      "Epoch: [3][80/366] Elapsed 0m 51s (remain 3m 1s) Loss: 0.1227(0.0883) Grad: 127746.1562  LR: 0.00001398  \n",
      "Epoch: [3][100/366] Elapsed 1m 4s (remain 2m 48s) Loss: 0.0716(0.0894) Grad: 121078.6484  LR: 0.00001372  \n",
      "Epoch: [3][120/366] Elapsed 1m 16s (remain 2m 35s) Loss: 0.1179(0.0908) Grad: 192822.2656  LR: 0.00001345  \n",
      "Epoch: [3][140/366] Elapsed 1m 29s (remain 2m 22s) Loss: 0.0972(0.0908) Grad: 111951.1875  LR: 0.00001319  \n",
      "Epoch: [3][160/366] Elapsed 1m 42s (remain 2m 9s) Loss: 0.0715(0.0938) Grad: 111194.6250  LR: 0.00001291  \n",
      "Epoch: [3][180/366] Elapsed 1m 54s (remain 1m 57s) Loss: 0.1247(0.0937) Grad: 72926.1641  LR: 0.00001264  \n",
      "Epoch: [3][200/366] Elapsed 2m 7s (remain 1m 44s) Loss: 0.0911(0.0929) Grad: 197286.0625  LR: 0.00001236  \n",
      "Epoch: [3][220/366] Elapsed 2m 19s (remain 1m 31s) Loss: 0.0975(0.0919) Grad: 115916.1875  LR: 0.00001208  \n",
      "Epoch: [3][240/366] Elapsed 2m 32s (remain 1m 19s) Loss: 0.0775(0.0925) Grad: 67321.3047  LR: 0.00001180  \n",
      "Epoch: [3][260/366] Elapsed 2m 45s (remain 1m 6s) Loss: 0.0768(0.0928) Grad: 158367.7656  LR: 0.00001152  \n",
      "Epoch: [3][280/366] Elapsed 2m 57s (remain 0m 53s) Loss: 0.0773(0.0932) Grad: 113778.2578  LR: 0.00001124  \n",
      "Epoch: [3][300/366] Elapsed 3m 10s (remain 0m 41s) Loss: 0.1287(0.0936) Grad: 224457.3750  LR: 0.00001096  \n",
      "Epoch: [3][320/366] Elapsed 3m 23s (remain 0m 28s) Loss: 0.0692(0.0932) Grad: 143811.3438  LR: 0.00001067  \n",
      "Epoch: [3][340/366] Elapsed 3m 35s (remain 0m 15s) Loss: 0.0900(0.0940) Grad: 121141.3438  LR: 0.00001039  \n",
      "Epoch: [3][360/366] Elapsed 3m 48s (remain 0m 3s) Loss: 0.0668(0.0940) Grad: 110551.0312  LR: 0.00001010  \n",
      "Epoch: [3][365/366] Elapsed 3m 51s (remain 0m 0s) Loss: 0.0989(0.0940) Grad: 250779.3281  LR: 0.00001003  \n",
      "EVAL: [0/62] Elapsed 0m 1s (remain 1m 1s) Loss: 0.1104(0.1104) \n",
      "EVAL: [20/62] Elapsed 0m 15s (remain 0m 31s) Loss: 0.1712(0.1456) \n",
      "EVAL: [40/62] Elapsed 0m 30s (remain 0m 15s) Loss: 0.1185(0.1375) \n"
     ]
    },
    {
     "name": "stderr",
     "output_type": "stream",
     "text": [
      "Epoch 3 - avg_train_loss: 0.0940  avg_val_loss: 0.1322  time: 277s\n",
      "Epoch 3 - Score: 0.5157  Scores: [0.5143173955174585, 0.553192017454163, 0.4829808084625684, 0.4964414287218395, 0.4774373222273749, 0.5698469753031973]\n"
     ]
    },
    {
     "name": "stdout",
     "output_type": "stream",
     "text": [
      "EVAL: [60/62] Elapsed 0m 45s (remain 0m 0s) Loss: 0.1093(0.1323) \n",
      "EVAL: [61/62] Elapsed 0m 45s (remain 0m 0s) Loss: 0.0626(0.1322) \n",
      "Epoch: [4][0/366] Elapsed 0m 0s (remain 5m 30s) Loss: 0.0888(0.0888) Grad: 186025.1406  LR: 0.00001001  \n",
      "Epoch: [4][20/366] Elapsed 0m 13s (remain 3m 41s) Loss: 0.1006(0.0992) Grad: 186337.1875  LR: 0.00000973  \n",
      "Epoch: [4][40/366] Elapsed 0m 26s (remain 3m 26s) Loss: 0.1259(0.0930) Grad: 298771.5625  LR: 0.00000944  \n",
      "Epoch: [4][60/366] Elapsed 0m 38s (remain 3m 14s) Loss: 0.0718(0.0881) Grad: 97353.9531  LR: 0.00000916  \n",
      "Epoch: [4][80/366] Elapsed 0m 51s (remain 3m 1s) Loss: 0.0844(0.0877) Grad: 112512.0234  LR: 0.00000887  \n",
      "Epoch: [4][100/366] Elapsed 1m 4s (remain 2m 48s) Loss: 0.1087(0.0872) Grad: 262923.8438  LR: 0.00000859  \n",
      "Epoch: [4][120/366] Elapsed 1m 16s (remain 2m 35s) Loss: 0.0711(0.0862) Grad: 121916.1094  LR: 0.00000831  \n",
      "Epoch: [4][140/366] Elapsed 1m 29s (remain 2m 22s) Loss: 0.0746(0.0856) Grad: 176140.1875  LR: 0.00000803  \n",
      "Epoch: [4][160/366] Elapsed 1m 42s (remain 2m 9s) Loss: 0.0609(0.0841) Grad: 113659.8750  LR: 0.00000775  \n",
      "Epoch: [4][180/366] Elapsed 1m 54s (remain 1m 57s) Loss: 0.0881(0.0838) Grad: 129013.9609  LR: 0.00000747  \n",
      "Epoch: [4][200/366] Elapsed 2m 7s (remain 1m 44s) Loss: 0.0528(0.0835) Grad: 108405.3438  LR: 0.00000720  \n",
      "Epoch: [4][220/366] Elapsed 2m 19s (remain 1m 31s) Loss: 0.0751(0.0825) Grad: 218163.2188  LR: 0.00000692  \n",
      "Epoch: [4][240/366] Elapsed 2m 32s (remain 1m 19s) Loss: 0.1049(0.0828) Grad: 149320.7344  LR: 0.00000665  \n",
      "Epoch: [4][260/366] Elapsed 2m 45s (remain 1m 6s) Loss: 0.0916(0.0826) Grad: 249710.4688  LR: 0.00000639  \n",
      "Epoch: [4][280/366] Elapsed 2m 57s (remain 0m 53s) Loss: 0.0442(0.0821) Grad: 61006.0273  LR: 0.00000612  \n",
      "Epoch: [4][300/366] Elapsed 3m 10s (remain 0m 41s) Loss: 0.0751(0.0824) Grad: 150058.6562  LR: 0.00000586  \n",
      "Epoch: [4][320/366] Elapsed 3m 22s (remain 0m 28s) Loss: 0.1317(0.0819) Grad: 237433.4062  LR: 0.00000560  \n",
      "Epoch: [4][340/366] Elapsed 3m 35s (remain 0m 15s) Loss: 0.0741(0.0817) Grad: 180236.5781  LR: 0.00000535  \n",
      "Epoch: [4][360/366] Elapsed 3m 48s (remain 0m 3s) Loss: 0.0839(0.0818) Grad: 127204.3438  LR: 0.00000510  \n",
      "Epoch: [4][365/366] Elapsed 3m 51s (remain 0m 0s) Loss: 0.0988(0.0818) Grad: 82501.5391  LR: 0.00000503  \n",
      "EVAL: [0/62] Elapsed 0m 1s (remain 1m 2s) Loss: 0.0869(0.0869) \n",
      "EVAL: [20/62] Elapsed 0m 16s (remain 0m 31s) Loss: 0.1144(0.1116) \n",
      "EVAL: [40/62] Elapsed 0m 31s (remain 0m 15s) Loss: 0.1071(0.1077) \n"
     ]
    },
    {
     "name": "stderr",
     "output_type": "stream",
     "text": [
      "Epoch 4 - avg_train_loss: 0.0818  avg_val_loss: 0.1067  time: 278s\n",
      "Epoch 4 - Score: 0.4631  Scores: [0.49186582101041837, 0.45152897769287004, 0.4208380875739707, 0.46199041329269647, 0.4847622690957025, 0.46782474419331455]\n",
      "Epoch 4 - Save Best Score: 0.4631 Model\n"
     ]
    },
    {
     "name": "stdout",
     "output_type": "stream",
     "text": [
      "EVAL: [60/62] Elapsed 0m 46s (remain 0m 0s) Loss: 0.0889(0.1068) \n",
      "EVAL: [61/62] Elapsed 0m 46s (remain 0m 0s) Loss: 0.0568(0.1067) \n",
      "Epoch: [5][0/366] Elapsed 0m 0s (remain 5m 42s) Loss: 0.0707(0.0707) Grad: 111535.3047  LR: 0.00000502  \n",
      "Epoch: [5][20/366] Elapsed 0m 13s (remain 3m 41s) Loss: 0.0759(0.0761) Grad: 150435.9375  LR: 0.00000478  \n",
      "Epoch: [5][40/366] Elapsed 0m 26s (remain 3m 27s) Loss: 0.0867(0.0742) Grad: 138874.5781  LR: 0.00000453  \n",
      "Epoch: [5][60/366] Elapsed 0m 38s (remain 3m 13s) Loss: 0.0758(0.0739) Grad: 133222.7344  LR: 0.00000430  \n",
      "Epoch: [5][80/366] Elapsed 0m 51s (remain 3m 1s) Loss: 0.0819(0.0716) Grad: 128030.3047  LR: 0.00000406  \n",
      "Epoch: [5][100/366] Elapsed 1m 4s (remain 2m 48s) Loss: 0.1198(0.0715) Grad: 230657.0156  LR: 0.00000384  \n",
      "Epoch: [5][120/366] Elapsed 1m 16s (remain 2m 35s) Loss: 0.0507(0.0712) Grad: 71546.3750  LR: 0.00000361  \n",
      "Epoch: [5][140/366] Elapsed 1m 29s (remain 2m 22s) Loss: 0.0680(0.0713) Grad: 141531.3125  LR: 0.00000340  \n",
      "Epoch: [5][160/366] Elapsed 1m 42s (remain 2m 9s) Loss: 0.1210(0.0728) Grad: 275012.2188  LR: 0.00000319  \n",
      "Epoch: [5][180/366] Elapsed 1m 54s (remain 1m 57s) Loss: 0.0599(0.0719) Grad: 118257.8125  LR: 0.00000298  \n",
      "Epoch: [5][200/366] Elapsed 2m 7s (remain 1m 44s) Loss: 0.0718(0.0723) Grad: 195698.5469  LR: 0.00000278  \n",
      "Epoch: [5][220/366] Elapsed 2m 20s (remain 1m 31s) Loss: 0.0790(0.0726) Grad: 225400.0469  LR: 0.00000258  \n",
      "Epoch: [5][240/366] Elapsed 2m 32s (remain 1m 19s) Loss: 0.0570(0.0722) Grad: 142681.2188  LR: 0.00000240  \n",
      "Epoch: [5][260/366] Elapsed 2m 45s (remain 1m 6s) Loss: 0.0538(0.0717) Grad: 125227.9453  LR: 0.00000221  \n",
      "Epoch: [5][280/366] Elapsed 2m 58s (remain 0m 53s) Loss: 0.0757(0.0716) Grad: 121469.8516  LR: 0.00000204  \n",
      "Epoch: [5][300/366] Elapsed 3m 10s (remain 0m 41s) Loss: 0.0852(0.0716) Grad: 103499.8906  LR: 0.00000187  \n",
      "Epoch: [5][320/366] Elapsed 3m 23s (remain 0m 28s) Loss: 0.0846(0.0714) Grad: 95972.8828  LR: 0.00000171  \n",
      "Epoch: [5][340/366] Elapsed 3m 35s (remain 0m 15s) Loss: 0.0720(0.0710) Grad: 89629.8281  LR: 0.00000155  \n",
      "Epoch: [5][360/366] Elapsed 3m 48s (remain 0m 3s) Loss: 0.0811(0.0707) Grad: 198661.5312  LR: 0.00000140  \n",
      "Epoch: [5][365/366] Elapsed 3m 51s (remain 0m 0s) Loss: 0.0647(0.0706) Grad: 129786.9297  LR: 0.00000136  \n",
      "EVAL: [0/62] Elapsed 0m 1s (remain 1m 3s) Loss: 0.0881(0.0881) \n",
      "EVAL: [20/62] Elapsed 0m 16s (remain 0m 31s) Loss: 0.1105(0.1152) \n",
      "EVAL: [40/62] Elapsed 0m 31s (remain 0m 15s) Loss: 0.1137(0.1102) \n"
     ]
    },
    {
     "name": "stderr",
     "output_type": "stream",
     "text": [
      "Epoch 5 - avg_train_loss: 0.0706  avg_val_loss: 0.1090  time: 278s\n",
      "Epoch 5 - Score: 0.4682  Scores: [0.4985286763399231, 0.45420949028840785, 0.4261694603382121, 0.46977148398271845, 0.48246938066804435, 0.4778706352581491]\n"
     ]
    },
    {
     "name": "stdout",
     "output_type": "stream",
     "text": [
      "EVAL: [60/62] Elapsed 0m 46s (remain 0m 0s) Loss: 0.0853(0.1091) \n",
      "EVAL: [61/62] Elapsed 0m 46s (remain 0m 0s) Loss: 0.0436(0.1090) \n",
      "Epoch: [6][0/366] Elapsed 0m 0s (remain 5m 34s) Loss: 0.0669(0.0669) Grad: 137481.8281  LR: 0.00000136  \n",
      "Epoch: [6][20/366] Elapsed 0m 13s (remain 3m 47s) Loss: 0.0545(0.0695) Grad: 90114.9922  LR: 0.00000122  \n",
      "Epoch: [6][40/366] Elapsed 0m 26s (remain 3m 28s) Loss: 0.1184(0.0682) Grad: 91985.2422  LR: 0.00000108  \n",
      "Epoch: [6][60/366] Elapsed 0m 38s (remain 3m 14s) Loss: 0.0877(0.0683) Grad: 154170.2969  LR: 0.00000096  \n",
      "Epoch: [6][80/366] Elapsed 0m 51s (remain 3m 1s) Loss: 0.0703(0.0671) Grad: 95674.5938  LR: 0.00000084  \n",
      "Epoch: [6][100/366] Elapsed 1m 4s (remain 2m 48s) Loss: 0.0906(0.0666) Grad: 79401.3438  LR: 0.00000073  \n",
      "Epoch: [6][120/366] Elapsed 1m 17s (remain 2m 36s) Loss: 0.0528(0.0660) Grad: 81656.1172  LR: 0.00000063  \n",
      "Epoch: [6][140/366] Elapsed 1m 29s (remain 2m 23s) Loss: 0.0463(0.0652) Grad: 103211.0000  LR: 0.00000053  \n",
      "Epoch: [6][160/366] Elapsed 1m 42s (remain 2m 10s) Loss: 0.0370(0.0640) Grad: 140681.3906  LR: 0.00000044  \n",
      "Epoch: [6][180/366] Elapsed 1m 54s (remain 1m 57s) Loss: 0.0770(0.0645) Grad: 125668.4609  LR: 0.00000036  \n",
      "Epoch: [6][200/366] Elapsed 2m 7s (remain 1m 44s) Loss: 0.0437(0.0645) Grad: 97350.6016  LR: 0.00000029  \n",
      "Epoch: [6][220/366] Elapsed 2m 20s (remain 1m 32s) Loss: 0.0535(0.0647) Grad: 129756.3828  LR: 0.00000023  \n",
      "Epoch: [6][240/366] Elapsed 2m 33s (remain 1m 19s) Loss: 0.0561(0.0644) Grad: 106674.1719  LR: 0.00000017  \n",
      "Epoch: [6][260/366] Elapsed 2m 45s (remain 1m 6s) Loss: 0.0467(0.0642) Grad: 63925.2188  LR: 0.00000012  \n",
      "Epoch: [6][280/366] Elapsed 2m 58s (remain 0m 53s) Loss: 0.0695(0.0640) Grad: 129013.9922  LR: 0.00000008  \n",
      "Epoch: [6][300/366] Elapsed 3m 11s (remain 0m 41s) Loss: 0.0629(0.0644) Grad: 106986.5078  LR: 0.00000005  \n",
      "Epoch: [6][320/366] Elapsed 3m 23s (remain 0m 28s) Loss: 0.0448(0.0644) Grad: 141343.4531  LR: 0.00000002  \n",
      "Epoch: [6][340/366] Elapsed 3m 36s (remain 0m 15s) Loss: 0.0796(0.0642) Grad: 96234.7109  LR: 0.00000001  \n",
      "Epoch: [6][360/366] Elapsed 3m 49s (remain 0m 3s) Loss: 0.0499(0.0646) Grad: 76264.0938  LR: 0.00000000  \n",
      "Epoch: [6][365/366] Elapsed 3m 52s (remain 0m 0s) Loss: 0.0664(0.0645) Grad: 89267.0391  LR: 0.00000000  \n",
      "EVAL: [0/62] Elapsed 0m 1s (remain 1m 2s) Loss: 0.0877(0.0877) \n",
      "EVAL: [20/62] Elapsed 0m 16s (remain 0m 31s) Loss: 0.1095(0.1120) \n",
      "EVAL: [40/62] Elapsed 0m 31s (remain 0m 15s) Loss: 0.1106(0.1080) \n"
     ]
    },
    {
     "name": "stderr",
     "output_type": "stream",
     "text": [
      "Epoch 6 - avg_train_loss: 0.0645  avg_val_loss: 0.1073  time: 278s\n",
      "Epoch 6 - Score: 0.4643  Scores: [0.49618142765185036, 0.45168391557186455, 0.42271418253635945, 0.4635576537133439, 0.48032872728748965, 0.47107973947213055]\n"
     ]
    },
    {
     "name": "stdout",
     "output_type": "stream",
     "text": [
      "EVAL: [60/62] Elapsed 0m 46s (remain 0m 0s) Loss: 0.0853(0.1073) \n",
      "EVAL: [61/62] Elapsed 0m 46s (remain 0m 0s) Loss: 0.0409(0.1073) \n"
     ]
    },
    {
     "name": "stderr",
     "output_type": "stream",
     "text": [
      "========== fold: 1 result ==========\n",
      "Score: 0.4631  Scores: [0.49186582101041837, 0.45152897769287004, 0.4208380875739707, 0.46199041329269647, 0.4847622690957025, 0.46782474419331455]\n",
      "========== fold: 2 training ==========\n",
      "FunnelConfig {\n",
      "  \"_name_or_path\": \"/home/jupyter/models/funnel/intermediate/\",\n",
      "  \"activation_dropout\": 0.0,\n",
      "  \"architectures\": [\n",
      "    \"FunnelModel\"\n",
      "  ],\n",
      "  \"attention_dropout\": 0.0,\n",
      "  \"attention_probs_dropout_prob\": 0.0,\n",
      "  \"attention_type\": \"relative_shift\",\n",
      "  \"block_repeats\": [\n",
      "    1,\n",
      "    1,\n",
      "    1\n",
      "  ],\n",
      "  \"block_sizes\": [\n",
      "    6,\n",
      "    6,\n",
      "    6\n",
      "  ],\n",
      "  \"d_head\": 64,\n",
      "  \"d_inner\": 3072,\n",
      "  \"d_model\": 768,\n",
      "  \"hidden_act\": \"gelu_new\",\n",
      "  \"hidden_dropout\": 0.0,\n",
      "  \"hidden_dropout_prob\": 0.0,\n",
      "  \"initializer_range\": 0.1,\n",
      "  \"initializer_std\": null,\n",
      "  \"layer_norm_eps\": 1e-09,\n",
      "  \"max_position_embeddings\": 512,\n",
      "  \"model_type\": \"funnel\",\n",
      "  \"n_head\": 12,\n",
      "  \"num_decoder_layers\": 2,\n",
      "  \"output_hidden_states\": true,\n",
      "  \"pool_q_only\": true,\n",
      "  \"pooling_type\": \"mean\",\n",
      "  \"rel_attn_type\": \"factorized\",\n",
      "  \"separate_cls\": true,\n",
      "  \"transformers_version\": \"4.21.2\",\n",
      "  \"truncate_seq\": true,\n",
      "  \"type_vocab_size\": 3,\n",
      "  \"vocab_size\": 30522\n",
      "}\n",
      "\n"
     ]
    },
    {
     "name": "stdout",
     "output_type": "stream",
     "text": [
      "Epoch: [1][0/366] Elapsed 0m 0s (remain 5m 35s) Loss: 3.2599(3.2599) Grad: inf  LR: 0.00002000  \n",
      "Epoch: [1][20/366] Elapsed 0m 13s (remain 3m 42s) Loss: 0.2078(0.9458) Grad: 97241.0000  LR: 0.00002000  \n",
      "Epoch: [1][40/366] Elapsed 0m 26s (remain 3m 27s) Loss: 0.1523(0.5686) Grad: 75000.4609  LR: 0.00001998  \n",
      "Epoch: [1][60/366] Elapsed 0m 38s (remain 3m 14s) Loss: 0.0979(0.4325) Grad: 165684.3281  LR: 0.00001996  \n",
      "Epoch: [1][80/366] Elapsed 0m 51s (remain 3m 1s) Loss: 0.1834(0.3612) Grad: 159339.7812  LR: 0.00001993  \n",
      "Epoch: [1][100/366] Elapsed 1m 4s (remain 2m 48s) Loss: 0.1208(0.3139) Grad: 131943.7969  LR: 0.00001990  \n",
      "Epoch: [1][120/366] Elapsed 1m 16s (remain 2m 35s) Loss: 0.1431(0.2854) Grad: 154029.1719  LR: 0.00001985  \n",
      "Epoch: [1][140/366] Elapsed 1m 29s (remain 2m 23s) Loss: 0.0881(0.2605) Grad: 84356.8438  LR: 0.00001980  \n",
      "Epoch: [1][160/366] Elapsed 1m 42s (remain 2m 10s) Loss: 0.1403(0.2430) Grad: 88920.8203  LR: 0.00001974  \n",
      "Epoch: [1][180/366] Elapsed 1m 54s (remain 1m 57s) Loss: 0.1009(0.2325) Grad: 24045.5332  LR: 0.00001967  \n",
      "Epoch: [1][200/366] Elapsed 2m 7s (remain 1m 44s) Loss: 0.1339(0.2226) Grad: 42108.8750  LR: 0.00001959  \n",
      "Epoch: [1][220/366] Elapsed 2m 20s (remain 1m 31s) Loss: 0.1086(0.2140) Grad: 44509.9648  LR: 0.00001951  \n",
      "Epoch: [1][240/366] Elapsed 2m 33s (remain 1m 19s) Loss: 0.1492(0.2067) Grad: 94215.3828  LR: 0.00001941  \n",
      "Epoch: [1][260/366] Elapsed 2m 45s (remain 1m 6s) Loss: 0.1079(0.2007) Grad: 81762.3828  LR: 0.00001931  \n",
      "Epoch: [1][280/366] Elapsed 2m 58s (remain 0m 53s) Loss: 0.1252(0.1954) Grad: 66009.3438  LR: 0.00001920  \n",
      "Epoch: [1][300/366] Elapsed 3m 10s (remain 0m 41s) Loss: 0.1096(0.1908) Grad: 46635.2578  LR: 0.00001909  \n",
      "Epoch: [1][320/366] Elapsed 3m 23s (remain 0m 28s) Loss: 0.1630(0.1864) Grad: 88209.6406  LR: 0.00001897  \n",
      "Epoch: [1][340/366] Elapsed 3m 36s (remain 0m 15s) Loss: 0.0878(0.1825) Grad: 27497.1758  LR: 0.00001884  \n",
      "Epoch: [1][360/366] Elapsed 3m 48s (remain 0m 3s) Loss: 0.1347(0.1800) Grad: 57905.7734  LR: 0.00001870  \n",
      "Epoch: [1][365/366] Elapsed 3m 52s (remain 0m 0s) Loss: 0.1056(0.1789) Grad: 50986.5117  LR: 0.00001866  \n",
      "EVAL: [0/62] Elapsed 0m 1s (remain 1m 4s) Loss: 0.1320(0.1320) \n",
      "EVAL: [20/62] Elapsed 0m 16s (remain 0m 31s) Loss: 0.1082(0.1191) \n",
      "EVAL: [40/62] Elapsed 0m 31s (remain 0m 15s) Loss: 0.1091(0.1149) \n"
     ]
    },
    {
     "name": "stderr",
     "output_type": "stream",
     "text": [
      "Epoch 1 - avg_train_loss: 0.1789  avg_val_loss: 0.1154  time: 278s\n",
      "Epoch 1 - Score: 0.4816  Scores: [0.5248839381561243, 0.4701232549794256, 0.43968725956531607, 0.48889367312067405, 0.49391637235172586, 0.47207338712835967]\n",
      "Epoch 1 - Save Best Score: 0.4816 Model\n"
     ]
    },
    {
     "name": "stdout",
     "output_type": "stream",
     "text": [
      "EVAL: [60/62] Elapsed 0m 46s (remain 0m 0s) Loss: 0.0895(0.1152) \n",
      "EVAL: [61/62] Elapsed 0m 46s (remain 0m 0s) Loss: 0.2456(0.1154) \n",
      "Epoch: [2][0/366] Elapsed 0m 0s (remain 5m 40s) Loss: 0.0625(0.0625) Grad: 144563.6406  LR: 0.00001866  \n",
      "Epoch: [2][20/366] Elapsed 0m 13s (remain 3m 41s) Loss: 0.0824(0.0956) Grad: 167242.4531  LR: 0.00001851  \n",
      "Epoch: [2][40/366] Elapsed 0m 26s (remain 3m 26s) Loss: 0.0806(0.0982) Grad: 143211.5469  LR: 0.00001836  \n",
      "Epoch: [2][60/366] Elapsed 0m 38s (remain 3m 13s) Loss: 0.2058(0.0978) Grad: 369137.7500  LR: 0.00001820  \n",
      "Epoch: [2][80/366] Elapsed 0m 51s (remain 3m 1s) Loss: 0.1154(0.0973) Grad: 113793.9766  LR: 0.00001803  \n",
      "Epoch: [2][100/366] Elapsed 1m 4s (remain 2m 48s) Loss: 0.1316(0.0956) Grad: 228564.7031  LR: 0.00001786  \n",
      "Epoch: [2][120/366] Elapsed 1m 16s (remain 2m 35s) Loss: 0.0686(0.0938) Grad: 131794.3750  LR: 0.00001768  \n",
      "Epoch: [2][140/366] Elapsed 1m 29s (remain 2m 22s) Loss: 0.0527(0.0942) Grad: 73142.0312  LR: 0.00001749  \n",
      "Epoch: [2][160/366] Elapsed 1m 42s (remain 2m 9s) Loss: 0.0939(0.0946) Grad: 137254.2188  LR: 0.00001730  \n",
      "Epoch: [2][180/366] Elapsed 1m 54s (remain 1m 57s) Loss: 0.1139(0.0954) Grad: 175974.6250  LR: 0.00001710  \n",
      "Epoch: [2][200/366] Elapsed 2m 7s (remain 1m 44s) Loss: 0.1266(0.0960) Grad: 126121.9375  LR: 0.00001689  \n",
      "Epoch: [2][220/366] Elapsed 2m 20s (remain 1m 31s) Loss: 0.1140(0.0955) Grad: 124090.0391  LR: 0.00001668  \n",
      "Epoch: [2][240/366] Elapsed 2m 32s (remain 1m 19s) Loss: 0.0500(0.0952) Grad: 96037.6641  LR: 0.00001647  \n",
      "Epoch: [2][260/366] Elapsed 2m 45s (remain 1m 6s) Loss: 0.0980(0.0944) Grad: 183559.8594  LR: 0.00001625  \n",
      "Epoch: [2][280/366] Elapsed 2m 58s (remain 0m 53s) Loss: 0.1080(0.0950) Grad: 187672.5156  LR: 0.00001602  \n",
      "Epoch: [2][300/366] Elapsed 3m 10s (remain 0m 41s) Loss: 0.0643(0.0956) Grad: 131338.1406  LR: 0.00001579  \n",
      "Epoch: [2][320/366] Elapsed 3m 23s (remain 0m 28s) Loss: 0.1049(0.0960) Grad: 173752.6875  LR: 0.00001556  \n",
      "Epoch: [2][340/366] Elapsed 3m 36s (remain 0m 15s) Loss: 0.0865(0.0959) Grad: 117411.9609  LR: 0.00001532  \n",
      "Epoch: [2][360/366] Elapsed 3m 48s (remain 0m 3s) Loss: 0.1949(0.0957) Grad: 159163.3281  LR: 0.00001507  \n",
      "Epoch: [2][365/366] Elapsed 3m 52s (remain 0m 0s) Loss: 0.0774(0.0955) Grad: 217493.7344  LR: 0.00001501  \n",
      "EVAL: [0/62] Elapsed 0m 1s (remain 1m 3s) Loss: 0.1328(0.1328) \n",
      "EVAL: [20/62] Elapsed 0m 16s (remain 0m 31s) Loss: 0.0875(0.1109) \n",
      "EVAL: [40/62] Elapsed 0m 31s (remain 0m 15s) Loss: 0.0848(0.1092) \n"
     ]
    },
    {
     "name": "stderr",
     "output_type": "stream",
     "text": [
      "Epoch 2 - avg_train_loss: 0.0955  avg_val_loss: 0.1105  time: 279s\n",
      "Epoch 2 - Score: 0.4718  Scores: [0.49694680185386875, 0.48735890104940466, 0.43098766321398424, 0.46341712454090195, 0.47385169054745446, 0.47838438540154843]\n",
      "Epoch 2 - Save Best Score: 0.4718 Model\n"
     ]
    },
    {
     "name": "stdout",
     "output_type": "stream",
     "text": [
      "EVAL: [60/62] Elapsed 0m 46s (remain 0m 0s) Loss: 0.1112(0.1104) \n",
      "EVAL: [61/62] Elapsed 0m 46s (remain 0m 0s) Loss: 0.1585(0.1105) \n",
      "Epoch: [3][0/366] Elapsed 0m 0s (remain 5m 57s) Loss: 0.0767(0.0767) Grad: 146912.2969  LR: 0.00001500  \n",
      "Epoch: [3][20/366] Elapsed 0m 13s (remain 3m 47s) Loss: 0.0711(0.0956) Grad: 166256.3281  LR: 0.00001475  \n",
      "Epoch: [3][40/366] Elapsed 0m 26s (remain 3m 30s) Loss: 0.0719(0.0903) Grad: 95261.7734  LR: 0.00001450  \n",
      "Epoch: [3][60/366] Elapsed 0m 39s (remain 3m 15s) Loss: 0.0636(0.0873) Grad: 122081.1328  LR: 0.00001424  \n",
      "Epoch: [3][80/366] Elapsed 0m 51s (remain 3m 2s) Loss: 0.0714(0.0856) Grad: 95305.8359  LR: 0.00001398  \n",
      "Epoch: [3][100/366] Elapsed 1m 4s (remain 2m 49s) Loss: 0.0755(0.0862) Grad: 127428.5000  LR: 0.00001372  \n",
      "Epoch: [3][120/366] Elapsed 1m 17s (remain 2m 36s) Loss: 0.1002(0.0867) Grad: 210207.4531  LR: 0.00001345  \n",
      "Epoch: [3][140/366] Elapsed 1m 29s (remain 2m 23s) Loss: 0.1082(0.0855) Grad: 138518.5312  LR: 0.00001318  \n",
      "Epoch: [3][160/366] Elapsed 1m 42s (remain 2m 10s) Loss: 0.0782(0.0851) Grad: 112660.5625  LR: 0.00001291  \n",
      "Epoch: [3][180/366] Elapsed 1m 55s (remain 1m 57s) Loss: 0.1176(0.0851) Grad: 236315.4531  LR: 0.00001263  \n",
      "Epoch: [3][200/366] Elapsed 2m 7s (remain 1m 44s) Loss: 0.1285(0.0853) Grad: 130855.3828  LR: 0.00001236  \n",
      "Epoch: [3][220/366] Elapsed 2m 20s (remain 1m 32s) Loss: 0.0766(0.0861) Grad: 115475.0391  LR: 0.00001208  \n",
      "Epoch: [3][240/366] Elapsed 2m 33s (remain 1m 19s) Loss: 0.0817(0.0860) Grad: 144157.8594  LR: 0.00001180  \n",
      "Epoch: [3][260/366] Elapsed 2m 45s (remain 1m 6s) Loss: 0.0879(0.0854) Grad: 110533.5000  LR: 0.00001152  \n",
      "Epoch: [3][280/366] Elapsed 2m 58s (remain 0m 53s) Loss: 0.0952(0.0852) Grad: 250998.0938  LR: 0.00001123  \n",
      "Epoch: [3][300/366] Elapsed 3m 11s (remain 0m 41s) Loss: 0.0508(0.0846) Grad: 111077.4375  LR: 0.00001095  \n",
      "Epoch: [3][320/366] Elapsed 3m 23s (remain 0m 28s) Loss: 0.1026(0.0848) Grad: 213592.6719  LR: 0.00001066  \n",
      "Epoch: [3][340/366] Elapsed 3m 36s (remain 0m 15s) Loss: 0.1007(0.0850) Grad: 187154.6719  LR: 0.00001038  \n",
      "Epoch: [3][360/366] Elapsed 3m 49s (remain 0m 3s) Loss: 0.0513(0.0854) Grad: 164686.0938  LR: 0.00001009  \n",
      "Epoch: [3][365/366] Elapsed 3m 52s (remain 0m 0s) Loss: 0.0707(0.0852) Grad: 84028.7578  LR: 0.00001002  \n",
      "EVAL: [0/62] Elapsed 0m 1s (remain 1m 4s) Loss: 0.1381(0.1381) \n",
      "EVAL: [20/62] Elapsed 0m 16s (remain 0m 31s) Loss: 0.1116(0.1137) \n",
      "EVAL: [40/62] Elapsed 0m 31s (remain 0m 15s) Loss: 0.0893(0.1116) \n"
     ]
    },
    {
     "name": "stderr",
     "output_type": "stream",
     "text": [
      "Epoch 3 - avg_train_loss: 0.0852  avg_val_loss: 0.1135  time: 279s\n",
      "Epoch 3 - Score: 0.4784  Scores: [0.49615241726072906, 0.48688165459134886, 0.4385740854845545, 0.47300535994092874, 0.49201137243363924, 0.48400012631637807]\n"
     ]
    },
    {
     "name": "stdout",
     "output_type": "stream",
     "text": [
      "EVAL: [60/62] Elapsed 0m 46s (remain 0m 0s) Loss: 0.1179(0.1133) \n",
      "EVAL: [61/62] Elapsed 0m 46s (remain 0m 0s) Loss: 0.2380(0.1135) \n",
      "Epoch: [4][0/366] Elapsed 0m 0s (remain 5m 37s) Loss: 0.0714(0.0714) Grad: 138589.9844  LR: 0.00001001  \n",
      "Epoch: [4][20/366] Elapsed 0m 13s (remain 3m 42s) Loss: 0.0755(0.0768) Grad: 118635.7109  LR: 0.00000972  \n",
      "Epoch: [4][40/366] Elapsed 0m 26s (remain 3m 29s) Loss: 0.0663(0.0713) Grad: 120411.0078  LR: 0.00000944  \n",
      "Epoch: [4][60/366] Elapsed 0m 39s (remain 3m 15s) Loss: 0.0533(0.0731) Grad: 77593.1641  LR: 0.00000915  \n",
      "Epoch: [4][80/366] Elapsed 0m 51s (remain 3m 2s) Loss: 0.0659(0.0723) Grad: 113624.6797  LR: 0.00000887  \n",
      "Epoch: [4][100/366] Elapsed 1m 4s (remain 2m 48s) Loss: 0.0580(0.0732) Grad: 107594.0234  LR: 0.00000858  \n",
      "Epoch: [4][120/366] Elapsed 1m 16s (remain 2m 35s) Loss: 0.0698(0.0733) Grad: 118930.3984  LR: 0.00000830  \n",
      "Epoch: [4][140/366] Elapsed 1m 29s (remain 2m 23s) Loss: 0.1053(0.0747) Grad: 221463.7188  LR: 0.00000802  \n",
      "Epoch: [4][160/366] Elapsed 1m 42s (remain 2m 10s) Loss: 0.0503(0.0742) Grad: 150202.8125  LR: 0.00000774  \n",
      "Epoch: [4][180/366] Elapsed 1m 54s (remain 1m 57s) Loss: 0.0726(0.0737) Grad: 191589.5781  LR: 0.00000746  \n",
      "Epoch: [4][200/366] Elapsed 2m 7s (remain 1m 44s) Loss: 0.0835(0.0736) Grad: 203001.8750  LR: 0.00000719  \n",
      "Epoch: [4][220/366] Elapsed 2m 20s (remain 1m 31s) Loss: 0.0723(0.0729) Grad: 121988.6172  LR: 0.00000692  \n",
      "Epoch: [4][240/366] Elapsed 2m 33s (remain 1m 19s) Loss: 0.0625(0.0732) Grad: 109618.7500  LR: 0.00000664  \n",
      "Epoch: [4][260/366] Elapsed 2m 45s (remain 1m 6s) Loss: 0.0647(0.0730) Grad: 147419.8438  LR: 0.00000638  \n",
      "Epoch: [4][280/366] Elapsed 2m 58s (remain 0m 53s) Loss: 0.0460(0.0725) Grad: 156003.3438  LR: 0.00000611  \n",
      "Epoch: [4][300/366] Elapsed 3m 10s (remain 0m 41s) Loss: 0.0600(0.0724) Grad: 95743.0391  LR: 0.00000585  \n",
      "Epoch: [4][320/366] Elapsed 3m 23s (remain 0m 28s) Loss: 0.0674(0.0720) Grad: 101125.7344  LR: 0.00000559  \n",
      "Epoch: [4][340/366] Elapsed 3m 36s (remain 0m 15s) Loss: 0.0803(0.0720) Grad: 160641.2188  LR: 0.00000534  \n",
      "Epoch: [4][360/366] Elapsed 3m 49s (remain 0m 3s) Loss: 0.0515(0.0721) Grad: 139995.9531  LR: 0.00000509  \n",
      "Epoch: [4][365/366] Elapsed 3m 52s (remain 0m 0s) Loss: 0.1061(0.0721) Grad: 131537.1562  LR: 0.00000502  \n",
      "EVAL: [0/62] Elapsed 0m 1s (remain 1m 3s) Loss: 0.1302(0.1302) \n",
      "EVAL: [20/62] Elapsed 0m 15s (remain 0m 31s) Loss: 0.1108(0.1141) \n",
      "EVAL: [40/62] Elapsed 0m 30s (remain 0m 15s) Loss: 0.0907(0.1114) \n"
     ]
    },
    {
     "name": "stderr",
     "output_type": "stream",
     "text": [
      "Epoch 4 - avg_train_loss: 0.0721  avg_val_loss: 0.1138  time: 278s\n",
      "Epoch 4 - Score: 0.4790  Scores: [0.5195791884341145, 0.47013560066703974, 0.4423953765652039, 0.47642859343175403, 0.48743909958470116, 0.4781822752666805]\n"
     ]
    },
    {
     "name": "stdout",
     "output_type": "stream",
     "text": [
      "EVAL: [60/62] Elapsed 0m 45s (remain 0m 0s) Loss: 0.1106(0.1136) \n",
      "EVAL: [61/62] Elapsed 0m 46s (remain 0m 0s) Loss: 0.2052(0.1138) \n",
      "Epoch: [5][0/366] Elapsed 0m 0s (remain 5m 42s) Loss: 0.0520(0.0520) Grad: 131036.8125  LR: 0.00000501  \n",
      "Epoch: [5][20/366] Elapsed 0m 13s (remain 3m 42s) Loss: 0.0404(0.0653) Grad: 95387.6484  LR: 0.00000477  \n",
      "Epoch: [5][40/366] Elapsed 0m 26s (remain 3m 27s) Loss: 0.0478(0.0634) Grad: 157250.4375  LR: 0.00000453  \n",
      "Epoch: [5][60/366] Elapsed 0m 38s (remain 3m 14s) Loss: 0.0636(0.0645) Grad: 107127.6953  LR: 0.00000429  \n",
      "Epoch: [5][80/366] Elapsed 0m 51s (remain 3m 2s) Loss: 0.0387(0.0636) Grad: 110723.6406  LR: 0.00000406  \n",
      "Epoch: [5][100/366] Elapsed 1m 4s (remain 2m 48s) Loss: 0.0455(0.0628) Grad: 90974.5391  LR: 0.00000383  \n",
      "Epoch: [5][120/366] Elapsed 1m 16s (remain 2m 35s) Loss: 0.0811(0.0621) Grad: 161299.4062  LR: 0.00000361  \n",
      "Epoch: [5][140/366] Elapsed 1m 29s (remain 2m 22s) Loss: 0.0778(0.0617) Grad: 191489.2344  LR: 0.00000339  \n",
      "Epoch: [5][160/366] Elapsed 1m 42s (remain 2m 10s) Loss: 0.0605(0.0623) Grad: 107651.4844  LR: 0.00000318  \n",
      "Epoch: [5][180/366] Elapsed 1m 55s (remain 1m 57s) Loss: 0.0728(0.0624) Grad: 143169.5469  LR: 0.00000297  \n",
      "Epoch: [5][200/366] Elapsed 2m 7s (remain 1m 44s) Loss: 0.0514(0.0627) Grad: 113417.5156  LR: 0.00000277  \n",
      "Epoch: [5][220/366] Elapsed 2m 20s (remain 1m 32s) Loss: 0.0618(0.0627) Grad: 131630.1719  LR: 0.00000258  \n",
      "Epoch: [5][240/366] Elapsed 2m 32s (remain 1m 19s) Loss: 0.0587(0.0624) Grad: 107845.2891  LR: 0.00000239  \n",
      "Epoch: [5][260/366] Elapsed 2m 45s (remain 1m 6s) Loss: 0.0631(0.0620) Grad: 115665.3516  LR: 0.00000221  \n",
      "Epoch: [5][280/366] Elapsed 2m 58s (remain 0m 53s) Loss: 0.0441(0.0615) Grad: 85589.0156  LR: 0.00000203  \n",
      "Epoch: [5][300/366] Elapsed 3m 11s (remain 0m 41s) Loss: 0.0496(0.0614) Grad: 155715.2344  LR: 0.00000186  \n",
      "Epoch: [5][320/366] Elapsed 3m 23s (remain 0m 28s) Loss: 0.0679(0.0614) Grad: 135537.8594  LR: 0.00000170  \n",
      "Epoch: [5][340/366] Elapsed 3m 36s (remain 0m 15s) Loss: 0.0494(0.0613) Grad: 116587.5312  LR: 0.00000154  \n",
      "Epoch: [5][360/366] Elapsed 3m 49s (remain 0m 3s) Loss: 0.0508(0.0612) Grad: 72007.6562  LR: 0.00000139  \n",
      "Epoch: [5][365/366] Elapsed 3m 52s (remain 0m 0s) Loss: 0.0532(0.0611) Grad: 97321.0156  LR: 0.00000136  \n",
      "EVAL: [0/62] Elapsed 0m 1s (remain 1m 2s) Loss: 0.1312(0.1312) \n",
      "EVAL: [20/62] Elapsed 0m 15s (remain 0m 31s) Loss: 0.1126(0.1141) \n",
      "EVAL: [40/62] Elapsed 0m 30s (remain 0m 15s) Loss: 0.0939(0.1101) \n"
     ]
    },
    {
     "name": "stderr",
     "output_type": "stream",
     "text": [
      "Epoch 5 - avg_train_loss: 0.0611  avg_val_loss: 0.1122  time: 278s\n",
      "Epoch 5 - Score: 0.4759  Scores: [0.5043181561519121, 0.472026770534133, 0.4357781244445089, 0.47443860920401126, 0.4935783708497145, 0.4754596658943503]\n"
     ]
    },
    {
     "name": "stdout",
     "output_type": "stream",
     "text": [
      "EVAL: [60/62] Elapsed 0m 45s (remain 0m 0s) Loss: 0.1086(0.1120) \n",
      "EVAL: [61/62] Elapsed 0m 46s (remain 0m 0s) Loss: 0.1924(0.1122) \n",
      "Epoch: [6][0/366] Elapsed 0m 0s (remain 5m 43s) Loss: 0.0565(0.0565) Grad: 118260.8203  LR: 0.00000135  \n",
      "Epoch: [6][20/366] Elapsed 0m 13s (remain 3m 46s) Loss: 0.0500(0.0523) Grad: 62562.2344  LR: 0.00000121  \n",
      "Epoch: [6][40/366] Elapsed 0m 26s (remain 3m 29s) Loss: 0.0678(0.0555) Grad: 132293.1406  LR: 0.00000108  \n",
      "Epoch: [6][60/366] Elapsed 0m 39s (remain 3m 15s) Loss: 0.0443(0.0548) Grad: 81690.2812  LR: 0.00000095  \n",
      "Epoch: [6][80/366] Elapsed 0m 51s (remain 3m 1s) Loss: 0.0509(0.0544) Grad: 121560.8594  LR: 0.00000083  \n",
      "Epoch: [6][100/366] Elapsed 1m 4s (remain 2m 48s) Loss: 0.0624(0.0541) Grad: 187425.8281  LR: 0.00000072  \n",
      "Epoch: [6][120/366] Elapsed 1m 17s (remain 2m 36s) Loss: 0.0505(0.0536) Grad: 81540.4766  LR: 0.00000062  \n",
      "Epoch: [6][140/366] Elapsed 1m 29s (remain 2m 23s) Loss: 0.0392(0.0547) Grad: 51848.9414  LR: 0.00000053  \n",
      "Epoch: [6][160/366] Elapsed 1m 42s (remain 2m 10s) Loss: 0.0507(0.0549) Grad: 115858.8594  LR: 0.00000044  \n",
      "Epoch: [6][180/366] Elapsed 1m 54s (remain 1m 57s) Loss: 0.0549(0.0553) Grad: 144227.1875  LR: 0.00000036  \n",
      "Epoch: [6][200/366] Elapsed 2m 7s (remain 1m 44s) Loss: 0.0466(0.0550) Grad: 112798.4844  LR: 0.00000029  \n",
      "Epoch: [6][220/366] Elapsed 2m 20s (remain 1m 32s) Loss: 0.0754(0.0550) Grad: 144643.4844  LR: 0.00000022  \n",
      "Epoch: [6][240/366] Elapsed 2m 33s (remain 1m 19s) Loss: 0.0598(0.0550) Grad: 128850.0625  LR: 0.00000017  \n",
      "Epoch: [6][260/366] Elapsed 2m 45s (remain 1m 6s) Loss: 0.0407(0.0552) Grad: 62693.9023  LR: 0.00000012  \n",
      "Epoch: [6][280/366] Elapsed 2m 58s (remain 0m 53s) Loss: 0.0459(0.0555) Grad: 70826.5859  LR: 0.00000008  \n",
      "Epoch: [6][300/366] Elapsed 3m 11s (remain 0m 41s) Loss: 0.0524(0.0554) Grad: 78427.3750  LR: 0.00000005  \n",
      "Epoch: [6][320/366] Elapsed 3m 23s (remain 0m 28s) Loss: 0.0535(0.0552) Grad: 99274.5781  LR: 0.00000002  \n",
      "Epoch: [6][340/366] Elapsed 3m 36s (remain 0m 15s) Loss: 0.0664(0.0554) Grad: 138192.8750  LR: 0.00000001  \n",
      "Epoch: [6][360/366] Elapsed 3m 49s (remain 0m 3s) Loss: 0.0650(0.0554) Grad: 127260.7578  LR: 0.00000000  \n",
      "Epoch: [6][365/366] Elapsed 3m 52s (remain 0m 0s) Loss: 0.0557(0.0554) Grad: 107532.1250  LR: 0.00000000  \n",
      "EVAL: [0/62] Elapsed 0m 1s (remain 1m 3s) Loss: 0.1296(0.1296) \n",
      "EVAL: [20/62] Elapsed 0m 16s (remain 0m 31s) Loss: 0.1155(0.1139) \n",
      "EVAL: [40/62] Elapsed 0m 31s (remain 0m 15s) Loss: 0.0920(0.1099) \n"
     ]
    },
    {
     "name": "stderr",
     "output_type": "stream",
     "text": [
      "Epoch 6 - avg_train_loss: 0.0554  avg_val_loss: 0.1122  time: 278s\n",
      "Epoch 6 - Score: 0.4760  Scores: [0.5042651632787721, 0.4730262027529182, 0.4364809294786432, 0.47327547720167523, 0.4919389505711393, 0.4768301684472562]\n"
     ]
    },
    {
     "name": "stdout",
     "output_type": "stream",
     "text": [
      "EVAL: [60/62] Elapsed 0m 46s (remain 0m 0s) Loss: 0.1066(0.1121) \n",
      "EVAL: [61/62] Elapsed 0m 46s (remain 0m 0s) Loss: 0.1949(0.1122) \n"
     ]
    },
    {
     "name": "stderr",
     "output_type": "stream",
     "text": [
      "========== fold: 2 result ==========\n",
      "Score: 0.4718  Scores: [0.49694680185386875, 0.48735890104940466, 0.43098766321398424, 0.46341712454090195, 0.47385169054745446, 0.47838438540154843]\n",
      "========== fold: 3 training ==========\n",
      "FunnelConfig {\n",
      "  \"_name_or_path\": \"/home/jupyter/models/funnel/intermediate/\",\n",
      "  \"activation_dropout\": 0.0,\n",
      "  \"architectures\": [\n",
      "    \"FunnelModel\"\n",
      "  ],\n",
      "  \"attention_dropout\": 0.0,\n",
      "  \"attention_probs_dropout_prob\": 0.0,\n",
      "  \"attention_type\": \"relative_shift\",\n",
      "  \"block_repeats\": [\n",
      "    1,\n",
      "    1,\n",
      "    1\n",
      "  ],\n",
      "  \"block_sizes\": [\n",
      "    6,\n",
      "    6,\n",
      "    6\n",
      "  ],\n",
      "  \"d_head\": 64,\n",
      "  \"d_inner\": 3072,\n",
      "  \"d_model\": 768,\n",
      "  \"hidden_act\": \"gelu_new\",\n",
      "  \"hidden_dropout\": 0.0,\n",
      "  \"hidden_dropout_prob\": 0.0,\n",
      "  \"initializer_range\": 0.1,\n",
      "  \"initializer_std\": null,\n",
      "  \"layer_norm_eps\": 1e-09,\n",
      "  \"max_position_embeddings\": 512,\n",
      "  \"model_type\": \"funnel\",\n",
      "  \"n_head\": 12,\n",
      "  \"num_decoder_layers\": 2,\n",
      "  \"output_hidden_states\": true,\n",
      "  \"pool_q_only\": true,\n",
      "  \"pooling_type\": \"mean\",\n",
      "  \"rel_attn_type\": \"factorized\",\n",
      "  \"separate_cls\": true,\n",
      "  \"transformers_version\": \"4.21.2\",\n",
      "  \"truncate_seq\": true,\n",
      "  \"type_vocab_size\": 3,\n",
      "  \"vocab_size\": 30522\n",
      "}\n",
      "\n"
     ]
    },
    {
     "name": "stdout",
     "output_type": "stream",
     "text": [
      "Epoch: [1][0/366] Elapsed 0m 0s (remain 5m 34s) Loss: 2.0068(2.0068) Grad: inf  LR: 0.00002000  \n",
      "Epoch: [1][20/366] Elapsed 0m 13s (remain 3m 42s) Loss: 0.1963(0.7531) Grad: 252445.7656  LR: 0.00002000  \n",
      "Epoch: [1][40/366] Elapsed 0m 26s (remain 3m 27s) Loss: 0.1279(0.4691) Grad: 70020.2266  LR: 0.00001998  \n",
      "Epoch: [1][60/366] Elapsed 0m 39s (remain 3m 15s) Loss: 0.2327(0.3608) Grad: 86752.7812  LR: 0.00001996  \n",
      "Epoch: [1][80/366] Elapsed 0m 51s (remain 3m 1s) Loss: 0.1423(0.3062) Grad: 96488.0781  LR: 0.00001993  \n",
      "Epoch: [1][100/366] Elapsed 1m 4s (remain 2m 48s) Loss: 0.1336(0.2694) Grad: 86354.9688  LR: 0.00001990  \n",
      "Epoch: [1][120/366] Elapsed 1m 16s (remain 2m 35s) Loss: 0.0739(0.2457) Grad: 83130.3516  LR: 0.00001985  \n",
      "Epoch: [1][140/366] Elapsed 1m 29s (remain 2m 23s) Loss: 0.1182(0.2316) Grad: 115465.6953  LR: 0.00001980  \n",
      "Epoch: [1][160/366] Elapsed 1m 42s (remain 2m 10s) Loss: 0.1755(0.2209) Grad: 220417.5781  LR: 0.00001974  \n",
      "Epoch: [1][180/366] Elapsed 1m 55s (remain 1m 57s) Loss: 0.1089(0.2106) Grad: 127500.5547  LR: 0.00001967  \n",
      "Epoch: [1][200/366] Elapsed 2m 7s (remain 1m 44s) Loss: 0.1372(0.2015) Grad: 102137.3203  LR: 0.00001959  \n",
      "Epoch: [1][220/366] Elapsed 2m 20s (remain 1m 32s) Loss: 0.1466(0.1951) Grad: 42403.8594  LR: 0.00001951  \n",
      "Epoch: [1][240/366] Elapsed 2m 33s (remain 1m 19s) Loss: 0.0858(0.1881) Grad: 52763.2031  LR: 0.00001941  \n",
      "Epoch: [1][260/366] Elapsed 2m 45s (remain 1m 6s) Loss: 0.0990(0.1820) Grad: 104595.9141  LR: 0.00001931  \n",
      "Epoch: [1][280/366] Elapsed 2m 58s (remain 0m 53s) Loss: 0.1335(0.1777) Grad: 110032.9375  LR: 0.00001920  \n",
      "Epoch: [1][300/366] Elapsed 3m 10s (remain 0m 41s) Loss: 0.0733(0.1735) Grad: 80375.5000  LR: 0.00001909  \n",
      "Epoch: [1][320/366] Elapsed 3m 23s (remain 0m 28s) Loss: 0.1144(0.1699) Grad: 51694.0547  LR: 0.00001897  \n",
      "Epoch: [1][340/366] Elapsed 3m 36s (remain 0m 15s) Loss: 0.0850(0.1671) Grad: 141004.3125  LR: 0.00001884  \n",
      "Epoch: [1][360/366] Elapsed 3m 48s (remain 0m 3s) Loss: 0.1423(0.1657) Grad: 144705.5781  LR: 0.00001870  \n",
      "Epoch: [1][365/366] Elapsed 3m 52s (remain 0m 0s) Loss: 0.1308(0.1655) Grad: 50849.1914  LR: 0.00001866  \n",
      "EVAL: [0/62] Elapsed 0m 1s (remain 1m 5s) Loss: 0.0981(0.0981) \n",
      "EVAL: [20/62] Elapsed 0m 16s (remain 0m 31s) Loss: 0.1338(0.1346) \n",
      "EVAL: [40/62] Elapsed 0m 31s (remain 0m 15s) Loss: 0.1565(0.1403) \n"
     ]
    },
    {
     "name": "stderr",
     "output_type": "stream",
     "text": [
      "Epoch 1 - avg_train_loss: 0.1655  avg_val_loss: 0.1417  time: 278s\n",
      "Epoch 1 - Score: 0.5346  Scores: [0.5223740000027711, 0.4834567208477145, 0.4844226118893346, 0.5534447734465716, 0.6011555398891831, 0.5630283429191315]\n",
      "Epoch 1 - Save Best Score: 0.5346 Model\n"
     ]
    },
    {
     "name": "stdout",
     "output_type": "stream",
     "text": [
      "EVAL: [60/62] Elapsed 0m 46s (remain 0m 0s) Loss: 0.1266(0.1418) \n",
      "EVAL: [61/62] Elapsed 0m 46s (remain 0m 0s) Loss: 0.0789(0.1417) \n",
      "Epoch: [2][0/366] Elapsed 0m 0s (remain 5m 49s) Loss: 0.1411(0.1411) Grad: 232036.7031  LR: 0.00001866  \n",
      "Epoch: [2][20/366] Elapsed 0m 13s (remain 3m 43s) Loss: 0.0965(0.1400) Grad: 94397.1328  LR: 0.00001851  \n",
      "Epoch: [2][40/366] Elapsed 0m 26s (remain 3m 27s) Loss: 0.1628(0.1188) Grad: 152860.2188  LR: 0.00001836  \n",
      "Epoch: [2][60/366] Elapsed 0m 38s (remain 3m 14s) Loss: 0.0846(0.1126) Grad: 75790.2422  LR: 0.00001820  \n",
      "Epoch: [2][80/366] Elapsed 0m 51s (remain 3m 2s) Loss: 0.1038(0.1074) Grad: 107202.8906  LR: 0.00001803  \n",
      "Epoch: [2][100/366] Elapsed 1m 4s (remain 2m 49s) Loss: 0.1115(0.1056) Grad: 240581.4062  LR: 0.00001786  \n",
      "Epoch: [2][120/366] Elapsed 1m 17s (remain 2m 35s) Loss: 0.1085(0.1044) Grad: 102055.5000  LR: 0.00001768  \n",
      "Epoch: [2][140/366] Elapsed 1m 29s (remain 2m 23s) Loss: 0.1277(0.1038) Grad: 177614.7812  LR: 0.00001749  \n",
      "Epoch: [2][160/366] Elapsed 1m 42s (remain 2m 10s) Loss: 0.0530(0.1035) Grad: 81209.3047  LR: 0.00001730  \n",
      "Epoch: [2][180/366] Elapsed 1m 55s (remain 1m 57s) Loss: 0.0762(0.1033) Grad: 112527.5547  LR: 0.00001710  \n",
      "Epoch: [2][200/366] Elapsed 2m 7s (remain 1m 44s) Loss: 0.0916(0.1026) Grad: 120395.8828  LR: 0.00001689  \n",
      "Epoch: [2][220/366] Elapsed 2m 20s (remain 1m 32s) Loss: 0.0704(0.1030) Grad: 133196.4531  LR: 0.00001668  \n",
      "Epoch: [2][240/366] Elapsed 2m 33s (remain 1m 19s) Loss: 0.1206(0.1022) Grad: 178560.5469  LR: 0.00001647  \n",
      "Epoch: [2][260/366] Elapsed 2m 45s (remain 1m 6s) Loss: 0.0635(0.1019) Grad: 81578.0156  LR: 0.00001625  \n",
      "Epoch: [2][280/366] Elapsed 2m 58s (remain 0m 54s) Loss: 0.0964(0.1017) Grad: 154802.4062  LR: 0.00001602  \n",
      "Epoch: [2][300/366] Elapsed 3m 11s (remain 0m 41s) Loss: 0.0755(0.1019) Grad: 153194.6094  LR: 0.00001579  \n",
      "Epoch: [2][320/366] Elapsed 3m 23s (remain 0m 28s) Loss: 0.0622(0.1017) Grad: 149548.1562  LR: 0.00001556  \n",
      "Epoch: [2][340/366] Elapsed 3m 36s (remain 0m 15s) Loss: 0.1017(0.1013) Grad: 105642.9688  LR: 0.00001532  \n",
      "Epoch: [2][360/366] Elapsed 3m 49s (remain 0m 3s) Loss: 0.0791(0.1012) Grad: 183307.5312  LR: 0.00001507  \n",
      "Epoch: [2][365/366] Elapsed 3m 52s (remain 0m 0s) Loss: 0.0799(0.1011) Grad: 137504.4062  LR: 0.00001501  \n",
      "EVAL: [0/62] Elapsed 0m 1s (remain 1m 4s) Loss: 0.1025(0.1025) \n",
      "EVAL: [20/62] Elapsed 0m 16s (remain 0m 31s) Loss: 0.0816(0.1049) \n",
      "EVAL: [40/62] Elapsed 0m 31s (remain 0m 15s) Loss: 0.1099(0.1068) \n"
     ]
    },
    {
     "name": "stderr",
     "output_type": "stream",
     "text": [
      "Epoch 2 - avg_train_loss: 0.1011  avg_val_loss: 0.1066  time: 279s\n",
      "Epoch 2 - Score: 0.4630  Scores: [0.495473454968675, 0.45947201574197266, 0.4247375379993438, 0.45392891192096657, 0.4789833095403754, 0.46529390662873654]\n",
      "Epoch 2 - Save Best Score: 0.4630 Model\n"
     ]
    },
    {
     "name": "stdout",
     "output_type": "stream",
     "text": [
      "EVAL: [60/62] Elapsed 0m 46s (remain 0m 0s) Loss: 0.0951(0.1068) \n",
      "EVAL: [61/62] Elapsed 0m 46s (remain 0m 0s) Loss: 0.0419(0.1066) \n",
      "Epoch: [3][0/366] Elapsed 0m 1s (remain 6m 6s) Loss: 0.0870(0.0870) Grad: 87309.1562  LR: 0.00001500  \n",
      "Epoch: [3][20/366] Elapsed 0m 13s (remain 3m 49s) Loss: 0.0881(0.0921) Grad: 101601.5469  LR: 0.00001475  \n",
      "Epoch: [3][40/366] Elapsed 0m 26s (remain 3m 30s) Loss: 0.0503(0.0880) Grad: 124361.1016  LR: 0.00001450  \n",
      "Epoch: [3][60/366] Elapsed 0m 39s (remain 3m 16s) Loss: 0.0601(0.0858) Grad: 198039.4688  LR: 0.00001424  \n",
      "Epoch: [3][80/366] Elapsed 0m 51s (remain 3m 2s) Loss: 0.0996(0.0881) Grad: 129423.7344  LR: 0.00001398  \n",
      "Epoch: [3][100/366] Elapsed 1m 4s (remain 2m 49s) Loss: 0.0565(0.0882) Grad: 94026.6328  LR: 0.00001372  \n",
      "Epoch: [3][120/366] Elapsed 1m 17s (remain 2m 36s) Loss: 0.0754(0.0873) Grad: 125858.3438  LR: 0.00001345  \n",
      "Epoch: [3][140/366] Elapsed 1m 29s (remain 2m 23s) Loss: 0.0789(0.0867) Grad: 111475.4766  LR: 0.00001318  \n",
      "Epoch: [3][160/366] Elapsed 1m 42s (remain 2m 10s) Loss: 0.1367(0.0870) Grad: 321205.6250  LR: 0.00001291  \n",
      "Epoch: [3][180/366] Elapsed 1m 54s (remain 1m 57s) Loss: 0.0471(0.0861) Grad: 103574.8828  LR: 0.00001263  \n",
      "Epoch: [3][200/366] Elapsed 2m 7s (remain 1m 44s) Loss: 0.0804(0.0865) Grad: 184014.3594  LR: 0.00001236  \n",
      "Epoch: [3][220/366] Elapsed 2m 20s (remain 1m 32s) Loss: 0.0852(0.0863) Grad: 95282.5156  LR: 0.00001208  \n",
      "Epoch: [3][240/366] Elapsed 2m 32s (remain 1m 19s) Loss: 0.0534(0.0859) Grad: 133908.5625  LR: 0.00001180  \n",
      "Epoch: [3][260/366] Elapsed 2m 45s (remain 1m 6s) Loss: 0.1240(0.0862) Grad: 217880.3438  LR: 0.00001152  \n",
      "Epoch: [3][280/366] Elapsed 2m 58s (remain 0m 53s) Loss: 0.1071(0.0862) Grad: 136950.4062  LR: 0.00001123  \n",
      "Epoch: [3][300/366] Elapsed 3m 10s (remain 0m 41s) Loss: 0.0843(0.0863) Grad: 102718.0234  LR: 0.00001095  \n",
      "Epoch: [3][320/366] Elapsed 3m 23s (remain 0m 28s) Loss: 0.0858(0.0864) Grad: 153490.1094  LR: 0.00001066  \n",
      "Epoch: [3][340/366] Elapsed 3m 36s (remain 0m 15s) Loss: 0.1045(0.0861) Grad: 94628.6016  LR: 0.00001038  \n",
      "Epoch: [3][360/366] Elapsed 3m 48s (remain 0m 3s) Loss: 0.0689(0.0860) Grad: 150589.6406  LR: 0.00001009  \n",
      "Epoch: [3][365/366] Elapsed 3m 51s (remain 0m 0s) Loss: 0.0813(0.0858) Grad: 115643.5859  LR: 0.00001002  \n",
      "EVAL: [0/62] Elapsed 0m 1s (remain 1m 5s) Loss: 0.0904(0.0904) \n",
      "EVAL: [20/62] Elapsed 0m 16s (remain 0m 31s) Loss: 0.1003(0.1102) \n",
      "EVAL: [40/62] Elapsed 0m 30s (remain 0m 15s) Loss: 0.1318(0.1139) \n"
     ]
    },
    {
     "name": "stderr",
     "output_type": "stream",
     "text": [
      "Epoch 3 - avg_train_loss: 0.0858  avg_val_loss: 0.1156  time: 278s\n",
      "Epoch 3 - Score: 0.4824  Scores: [0.5175077435265238, 0.4779994019166271, 0.45196763987738353, 0.4648945688508021, 0.5084145943293288, 0.47387043175721755]\n"
     ]
    },
    {
     "name": "stdout",
     "output_type": "stream",
     "text": [
      "EVAL: [60/62] Elapsed 0m 45s (remain 0m 0s) Loss: 0.0996(0.1157) \n",
      "EVAL: [61/62] Elapsed 0m 46s (remain 0m 0s) Loss: 0.0628(0.1156) \n",
      "Epoch: [4][0/366] Elapsed 0m 0s (remain 5m 45s) Loss: 0.1036(0.1036) Grad: 290603.7812  LR: 0.00001001  \n",
      "Epoch: [4][20/366] Elapsed 0m 13s (remain 3m 42s) Loss: 0.0845(0.0754) Grad: 172720.5156  LR: 0.00000972  \n",
      "Epoch: [4][40/366] Elapsed 0m 26s (remain 3m 28s) Loss: 0.0545(0.0744) Grad: 152595.2031  LR: 0.00000944  \n",
      "Epoch: [4][60/366] Elapsed 0m 38s (remain 3m 14s) Loss: 0.0594(0.0731) Grad: 92509.4219  LR: 0.00000915  \n",
      "Epoch: [4][80/366] Elapsed 0m 51s (remain 3m 1s) Loss: 0.0806(0.0713) Grad: 186543.5938  LR: 0.00000887  \n",
      "Epoch: [4][100/366] Elapsed 1m 4s (remain 2m 48s) Loss: 0.0788(0.0716) Grad: 164568.6562  LR: 0.00000858  \n",
      "Epoch: [4][120/366] Elapsed 1m 16s (remain 2m 35s) Loss: 0.0811(0.0719) Grad: 116779.8672  LR: 0.00000830  \n",
      "Epoch: [4][140/366] Elapsed 1m 29s (remain 2m 22s) Loss: 0.0771(0.0717) Grad: 112634.4297  LR: 0.00000802  \n",
      "Epoch: [4][160/366] Elapsed 1m 42s (remain 2m 9s) Loss: 0.0665(0.0712) Grad: 114354.9688  LR: 0.00000774  \n",
      "Epoch: [4][180/366] Elapsed 1m 54s (remain 1m 57s) Loss: 0.0873(0.0701) Grad: 123436.1484  LR: 0.00000746  \n",
      "Epoch: [4][200/366] Elapsed 2m 7s (remain 1m 44s) Loss: 0.0758(0.0699) Grad: 213620.2969  LR: 0.00000719  \n",
      "Epoch: [4][220/366] Elapsed 2m 19s (remain 1m 31s) Loss: 0.0725(0.0701) Grad: 170724.9531  LR: 0.00000692  \n",
      "Epoch: [4][240/366] Elapsed 2m 32s (remain 1m 19s) Loss: 0.0531(0.0700) Grad: 69930.6250  LR: 0.00000664  \n",
      "Epoch: [4][260/366] Elapsed 2m 45s (remain 1m 6s) Loss: 0.0753(0.0702) Grad: 178380.8281  LR: 0.00000638  \n",
      "Epoch: [4][280/366] Elapsed 2m 57s (remain 0m 53s) Loss: 0.1053(0.0698) Grad: 223424.8750  LR: 0.00000611  \n",
      "Epoch: [4][300/366] Elapsed 3m 10s (remain 0m 41s) Loss: 0.0498(0.0699) Grad: 117057.0938  LR: 0.00000585  \n",
      "Epoch: [4][320/366] Elapsed 3m 23s (remain 0m 28s) Loss: 0.0504(0.0696) Grad: 88816.4688  LR: 0.00000559  \n",
      "Epoch: [4][340/366] Elapsed 3m 36s (remain 0m 15s) Loss: 0.0767(0.0700) Grad: 108864.9141  LR: 0.00000534  \n",
      "Epoch: [4][360/366] Elapsed 3m 48s (remain 0m 3s) Loss: 0.0626(0.0697) Grad: 82967.3203  LR: 0.00000509  \n",
      "Epoch: [4][365/366] Elapsed 3m 51s (remain 0m 0s) Loss: 0.1215(0.0699) Grad: 146192.2656  LR: 0.00000502  \n",
      "EVAL: [0/62] Elapsed 0m 1s (remain 1m 3s) Loss: 0.1221(0.1221) \n",
      "EVAL: [20/62] Elapsed 0m 16s (remain 0m 31s) Loss: 0.0912(0.1159) \n",
      "EVAL: [40/62] Elapsed 0m 30s (remain 0m 15s) Loss: 0.1172(0.1161) \n"
     ]
    },
    {
     "name": "stderr",
     "output_type": "stream",
     "text": [
      "Epoch 4 - avg_train_loss: 0.0699  avg_val_loss: 0.1151  time: 278s\n",
      "Epoch 4 - Score: 0.4810  Scores: [0.5271923077707225, 0.48613615131631466, 0.431431264420712, 0.4672822794990208, 0.4945035710108976, 0.4797088642570851]\n"
     ]
    },
    {
     "name": "stdout",
     "output_type": "stream",
     "text": [
      "EVAL: [60/62] Elapsed 0m 45s (remain 0m 0s) Loss: 0.1082(0.1153) \n",
      "EVAL: [61/62] Elapsed 0m 46s (remain 0m 0s) Loss: 0.0414(0.1151) \n",
      "Epoch: [5][0/366] Elapsed 0m 0s (remain 5m 40s) Loss: 0.0357(0.0357) Grad: 76326.3438  LR: 0.00000501  \n",
      "Epoch: [5][20/366] Elapsed 0m 13s (remain 3m 42s) Loss: 0.0574(0.0604) Grad: 60299.0469  LR: 0.00000477  \n",
      "Epoch: [5][40/366] Elapsed 0m 26s (remain 3m 27s) Loss: 0.0637(0.0593) Grad: 169011.5000  LR: 0.00000453  \n",
      "Epoch: [5][60/366] Elapsed 0m 38s (remain 3m 13s) Loss: 0.0323(0.0576) Grad: 101884.3125  LR: 0.00000429  \n",
      "Epoch: [5][80/366] Elapsed 0m 51s (remain 3m 1s) Loss: 0.0715(0.0567) Grad: 110175.4219  LR: 0.00000406  \n",
      "Epoch: [5][100/366] Elapsed 1m 4s (remain 2m 48s) Loss: 0.0474(0.0571) Grad: 120768.6953  LR: 0.00000383  \n",
      "Epoch: [5][120/366] Elapsed 1m 16s (remain 2m 35s) Loss: 0.0540(0.0573) Grad: 102498.1250  LR: 0.00000361  \n",
      "Epoch: [5][140/366] Elapsed 1m 29s (remain 2m 22s) Loss: 0.0516(0.0566) Grad: 71983.3438  LR: 0.00000339  \n",
      "Epoch: [5][160/366] Elapsed 1m 41s (remain 2m 9s) Loss: 0.0699(0.0569) Grad: 115434.2109  LR: 0.00000318  \n",
      "Epoch: [5][180/366] Elapsed 1m 54s (remain 1m 57s) Loss: 0.0488(0.0565) Grad: 107958.2188  LR: 0.00000297  \n",
      "Epoch: [5][200/366] Elapsed 2m 7s (remain 1m 44s) Loss: 0.0930(0.0566) Grad: 100091.5781  LR: 0.00000277  \n",
      "Epoch: [5][220/366] Elapsed 2m 20s (remain 1m 31s) Loss: 0.0439(0.0563) Grad: 81690.9609  LR: 0.00000258  \n",
      "Epoch: [5][240/366] Elapsed 2m 32s (remain 1m 19s) Loss: 0.0555(0.0562) Grad: 125629.5078  LR: 0.00000239  \n",
      "Epoch: [5][260/366] Elapsed 2m 45s (remain 1m 6s) Loss: 0.0396(0.0563) Grad: 77159.8438  LR: 0.00000221  \n",
      "Epoch: [5][280/366] Elapsed 2m 57s (remain 0m 53s) Loss: 0.0586(0.0563) Grad: 95744.1484  LR: 0.00000203  \n",
      "Epoch: [5][300/366] Elapsed 3m 10s (remain 0m 41s) Loss: 0.0677(0.0561) Grad: 131181.5156  LR: 0.00000186  \n",
      "Epoch: [5][320/366] Elapsed 3m 23s (remain 0m 28s) Loss: 0.0475(0.0558) Grad: 121415.9766  LR: 0.00000170  \n",
      "Epoch: [5][340/366] Elapsed 3m 35s (remain 0m 15s) Loss: 0.0549(0.0557) Grad: 139764.3281  LR: 0.00000154  \n",
      "Epoch: [5][360/366] Elapsed 3m 48s (remain 0m 3s) Loss: 0.0574(0.0555) Grad: 167096.8906  LR: 0.00000139  \n",
      "Epoch: [5][365/366] Elapsed 3m 51s (remain 0m 0s) Loss: 0.0454(0.0554) Grad: 93844.6719  LR: 0.00000136  \n",
      "EVAL: [0/62] Elapsed 0m 1s (remain 1m 3s) Loss: 0.1072(0.1072) \n",
      "EVAL: [20/62] Elapsed 0m 16s (remain 0m 31s) Loss: 0.1011(0.1154) \n",
      "EVAL: [40/62] Elapsed 0m 31s (remain 0m 15s) Loss: 0.1321(0.1164) \n"
     ]
    },
    {
     "name": "stderr",
     "output_type": "stream",
     "text": [
      "Epoch 5 - avg_train_loss: 0.0554  avg_val_loss: 0.1165  time: 278s\n",
      "Epoch 5 - Score: 0.4841  Scores: [0.5227389166023237, 0.48075390444283794, 0.446142526750225, 0.4754094774464717, 0.5043876122947974, 0.4751499194705888]\n"
     ]
    },
    {
     "name": "stdout",
     "output_type": "stream",
     "text": [
      "EVAL: [60/62] Elapsed 0m 46s (remain 0m 0s) Loss: 0.1070(0.1166) \n",
      "EVAL: [61/62] Elapsed 0m 46s (remain 0m 0s) Loss: 0.0559(0.1165) \n",
      "Epoch: [6][0/366] Elapsed 0m 0s (remain 5m 38s) Loss: 0.0462(0.0462) Grad: 128373.2031  LR: 0.00000135  \n",
      "Epoch: [6][20/366] Elapsed 0m 13s (remain 3m 46s) Loss: 0.0639(0.0441) Grad: 171791.1875  LR: 0.00000121  \n",
      "Epoch: [6][40/366] Elapsed 0m 26s (remain 3m 28s) Loss: 0.0310(0.0460) Grad: 57660.0000  LR: 0.00000108  \n",
      "Epoch: [6][60/366] Elapsed 0m 38s (remain 3m 14s) Loss: 0.0579(0.0460) Grad: 98475.3516  LR: 0.00000095  \n",
      "Epoch: [6][80/366] Elapsed 0m 51s (remain 3m 1s) Loss: 0.0539(0.0466) Grad: 134862.7031  LR: 0.00000083  \n",
      "Epoch: [6][100/366] Elapsed 1m 4s (remain 2m 48s) Loss: 0.0393(0.0477) Grad: 67719.3203  LR: 0.00000072  \n",
      "Epoch: [6][120/366] Elapsed 1m 16s (remain 2m 35s) Loss: 0.0606(0.0481) Grad: 128504.6562  LR: 0.00000062  \n",
      "Epoch: [6][140/366] Elapsed 1m 29s (remain 2m 22s) Loss: 0.0551(0.0478) Grad: 172022.0312  LR: 0.00000053  \n",
      "Epoch: [6][160/366] Elapsed 1m 41s (remain 2m 9s) Loss: 0.0438(0.0479) Grad: 93851.6953  LR: 0.00000044  \n",
      "Epoch: [6][180/366] Elapsed 1m 54s (remain 1m 57s) Loss: 0.0398(0.0477) Grad: 116502.9766  LR: 0.00000036  \n",
      "Epoch: [6][200/366] Elapsed 2m 7s (remain 1m 44s) Loss: 0.0544(0.0481) Grad: 137179.7500  LR: 0.00000029  \n",
      "Epoch: [6][220/366] Elapsed 2m 20s (remain 1m 31s) Loss: 0.0455(0.0483) Grad: 175579.1094  LR: 0.00000022  \n",
      "Epoch: [6][240/366] Elapsed 2m 32s (remain 1m 19s) Loss: 0.0516(0.0483) Grad: 193357.4844  LR: 0.00000017  \n",
      "Epoch: [6][260/366] Elapsed 2m 45s (remain 1m 6s) Loss: 0.0744(0.0482) Grad: 111483.9922  LR: 0.00000012  \n",
      "Epoch: [6][280/366] Elapsed 2m 57s (remain 0m 53s) Loss: 0.0504(0.0485) Grad: 114176.2031  LR: 0.00000008  \n",
      "Epoch: [6][300/366] Elapsed 3m 10s (remain 0m 41s) Loss: 0.0364(0.0485) Grad: 89709.2188  LR: 0.00000005  \n",
      "Epoch: [6][320/366] Elapsed 3m 23s (remain 0m 28s) Loss: 0.0574(0.0485) Grad: 93124.4766  LR: 0.00000002  \n",
      "Epoch: [6][340/366] Elapsed 3m 35s (remain 0m 15s) Loss: 0.0703(0.0486) Grad: 133137.8125  LR: 0.00000001  \n",
      "Epoch: [6][360/366] Elapsed 3m 48s (remain 0m 3s) Loss: 0.0525(0.0486) Grad: 122932.9219  LR: 0.00000000  \n",
      "Epoch: [6][365/366] Elapsed 3m 51s (remain 0m 0s) Loss: 0.0582(0.0486) Grad: 99397.8438  LR: 0.00000000  \n",
      "EVAL: [0/62] Elapsed 0m 1s (remain 1m 3s) Loss: 0.1098(0.1098) \n",
      "EVAL: [20/62] Elapsed 0m 16s (remain 0m 31s) Loss: 0.0992(0.1161) \n",
      "EVAL: [40/62] Elapsed 0m 31s (remain 0m 15s) Loss: 0.1315(0.1162) \n"
     ]
    },
    {
     "name": "stderr",
     "output_type": "stream",
     "text": [
      "Epoch 6 - avg_train_loss: 0.0486  avg_val_loss: 0.1160  time: 278s\n",
      "Epoch 6 - Score: 0.4829  Scores: [0.5252005172689923, 0.4835233141486791, 0.43574202063213135, 0.47249541684154767, 0.5060621076707432, 0.47454452301120753]\n"
     ]
    },
    {
     "name": "stdout",
     "output_type": "stream",
     "text": [
      "EVAL: [60/62] Elapsed 0m 46s (remain 0m 0s) Loss: 0.1069(0.1161) \n",
      "EVAL: [61/62] Elapsed 0m 46s (remain 0m 0s) Loss: 0.0512(0.1160) \n"
     ]
    },
    {
     "name": "stderr",
     "output_type": "stream",
     "text": [
      "========== fold: 3 result ==========\n",
      "Score: 0.4630  Scores: [0.495473454968675, 0.45947201574197266, 0.4247375379993438, 0.45392891192096657, 0.4789833095403754, 0.46529390662873654]\n",
      "========== CV ==========\n",
      "Score: 0.4645  Scores: [0.4938098460543921, 0.46181244790089493, 0.42338075198399694, 0.46028171829402215, 0.47987051448913387, 0.46793835834106373]\n"
     ]
    },
    {
     "data": {
      "text/html": [
       "Waiting for W&B process to finish... <strong style=\"color:green\">(success).</strong>"
      ],
      "text/plain": [
       "<IPython.core.display.HTML object>"
      ]
     },
     "metadata": {},
     "output_type": "display_data"
    },
    {
     "data": {
      "application/vnd.jupyter.widget-view+json": {
       "model_id": "",
       "version_major": 2,
       "version_minor": 0
      },
      "text/plain": [
       "VBox(children=(Label(value='0.000 MB of 0.000 MB uploaded (0.000 MB deduped)\\r'), FloatProgress(value=1.0, max…"
      ]
     },
     "metadata": {},
     "output_type": "display_data"
    },
    {
     "data": {
      "text/html": [
       "<style>\n",
       "    table.wandb td:nth-child(1) { padding: 0 10px; text-align: left ; width: auto;} td:nth-child(2) {text-align: left ; width: 100%}\n",
       "    .wandb-row { display: flex; flex-direction: row; flex-wrap: wrap; justify-content: flex-start; width: 100% }\n",
       "    .wandb-col { display: flex; flex-direction: column; flex-basis: 100%; flex: 1; padding: 10px; }\n",
       "    </style>\n",
       "<div class=\"wandb-row\"><div class=\"wandb-col\"><h3>Run history:</h3><br/><table class=\"wandb\"><tr><td>[fold0] avg_train_loss</td><td>█▃▃▂▁▁</td></tr><tr><td>[fold0] avg_val_loss</td><td>█▂▂▁▁▁</td></tr><tr><td>[fold0] epoch</td><td>▁▂▄▅▇█</td></tr><tr><td>[fold0] loss</td><td>▇█▅▅▆▃█▆▄▂▆▂▃▅▄▅▂▄▂▅▁▃▄▃▃▂▂▄▂▄▂▃▃▂▃▂▂▁▂▄</td></tr><tr><td>[fold0] lr</td><td>███████▇▇▇▇▇▇▆▆▆▆▅▅▅▄▄▄▄▃▃▃▃▂▂▂▂▂▁▁▁▁▁▁▁</td></tr><tr><td>[fold0] score</td><td>█▂▂▁▁▁</td></tr><tr><td>[fold1] avg_train_loss</td><td>█▄▃▂▁▁</td></tr><tr><td>[fold1] avg_val_loss</td><td>▇▃█▁▂▁</td></tr><tr><td>[fold1] epoch</td><td>▁▂▄▅▇█</td></tr><tr><td>[fold1] loss</td><td>▆▆▇▅▆▄▄▄▇▆█▅▅▁▄▆▂▄▄▃▂▄▂▃▃▁▄▂▂▄▃▁▃▂▄▃▂▄▄▂</td></tr><tr><td>[fold1] lr</td><td>███████▇▇▇▇▇▇▆▆▆▆▅▅▅▄▄▄▄▃▃▃▃▂▂▂▂▂▁▁▁▁▁▁▁</td></tr><tr><td>[fold1] score</td><td>▇▃█▁▂▁</td></tr><tr><td>[fold2] avg_train_loss</td><td>█▃▃▂▁▁</td></tr><tr><td>[fold2] avg_val_loss</td><td>█▁▅▆▃▃</td></tr><tr><td>[fold2] epoch</td><td>▁▂▄▅▇█</td></tr><tr><td>[fold2] loss</td><td>█▆▃▆▅▄▅▂▂▄▃▄▄▄▄▃▄▆▄▄▄▃▂▃▃▃▃▂▂▂▂▁▂▂▁▂▃▂▃▂</td></tr><tr><td>[fold2] lr</td><td>███████▇▇▇▇▇▇▆▆▆▆▅▅▅▄▄▄▄▃▃▃▃▂▂▂▂▂▁▁▁▁▁▁▁</td></tr><tr><td>[fold2] score</td><td>█▁▆▆▄▄</td></tr><tr><td>[fold3] avg_train_loss</td><td>█▄▃▂▁▁</td></tr><tr><td>[fold3] avg_val_loss</td><td>█▁▃▃▃▃</td></tr><tr><td>[fold3] epoch</td><td>▁▂▄▅▇█</td></tr><tr><td>[fold3] loss</td><td>▇▅█▂▄▅▄▄▂▃▄▃▃▂▂▂▂▄▃▂▂▂▂▂▂▁▃▂▁▁▁▂▁▁▁▂▁▁▂▂</td></tr><tr><td>[fold3] lr</td><td>███████▇▇▇▇▇▇▆▆▆▆▅▅▅▄▄▄▄▃▃▃▃▂▂▂▂▂▁▁▁▁▁▁▁</td></tr><tr><td>[fold3] score</td><td>█▁▃▃▃▃</td></tr></table><br/></div><div class=\"wandb-col\"><h3>Run summary:</h3><br/><table class=\"wandb\"><tr><td>[fold0] avg_train_loss</td><td>0.07157</td></tr><tr><td>[fold0] avg_val_loss</td><td>0.10615</td></tr><tr><td>[fold0] epoch</td><td>6</td></tr><tr><td>[fold0] loss</td><td>0.09607</td></tr><tr><td>[fold0] lr</td><td>0.0</td></tr><tr><td>[fold0] score</td><td>0.46151</td></tr><tr><td>[fold1] avg_train_loss</td><td>0.06446</td></tr><tr><td>[fold1] avg_val_loss</td><td>0.10728</td></tr><tr><td>[fold1] epoch</td><td>6</td></tr><tr><td>[fold1] loss</td><td>0.06637</td></tr><tr><td>[fold1] lr</td><td>0.0</td></tr><tr><td>[fold1] score</td><td>0.46426</td></tr><tr><td>[fold2] avg_train_loss</td><td>0.05535</td></tr><tr><td>[fold2] avg_val_loss</td><td>0.11224</td></tr><tr><td>[fold2] epoch</td><td>6</td></tr><tr><td>[fold2] loss</td><td>0.05575</td></tr><tr><td>[fold2] lr</td><td>0.0</td></tr><tr><td>[fold2] score</td><td>0.47597</td></tr><tr><td>[fold3] avg_train_loss</td><td>0.04858</td></tr><tr><td>[fold3] avg_val_loss</td><td>0.11601</td></tr><tr><td>[fold3] epoch</td><td>6</td></tr><tr><td>[fold3] loss</td><td>0.05824</td></tr><tr><td>[fold3] lr</td><td>0.0</td></tr><tr><td>[fold3] score</td><td>0.48293</td></tr></table><br/></div></div>"
      ],
      "text/plain": [
       "<IPython.core.display.HTML object>"
      ]
     },
     "metadata": {},
     "output_type": "display_data"
    },
    {
     "data": {
      "text/html": [
       "Synced <strong style=\"color:#cdcd00\">001_202210311829</strong>: <a href=\"https://wandb.ai/hiroki8383/Feedback%20Prize%20-%20English%20Language%20Learning/runs/1jpwa1zi\" target=\"_blank\">https://wandb.ai/hiroki8383/Feedback%20Prize%20-%20English%20Language%20Learning/runs/1jpwa1zi</a><br/>Synced 5 W&B file(s), 0 media file(s), 0 artifact file(s) and 0 other file(s)"
      ],
      "text/plain": [
       "<IPython.core.display.HTML object>"
      ]
     },
     "metadata": {},
     "output_type": "display_data"
    },
    {
     "data": {
      "text/html": [
       "Find logs at: <code>./wandb/run-20221031_092919-1jpwa1zi/logs</code>"
      ],
      "text/plain": [
       "<IPython.core.display.HTML object>"
      ]
     },
     "metadata": {},
     "output_type": "display_data"
    }
   ],
   "source": [
    "if __name__ == '__main__':\n",
    "    \n",
    "    def get_result(oof_df):\n",
    "        labels = oof_df[CFG.target_cols].values\n",
    "        preds = oof_df[[f\"pred_{c}\" for c in CFG.target_cols]].values\n",
    "        score, scores = get_score(labels, preds)\n",
    "        LOGGER.info(f'Score: {score:<.4f}  Scores: {scores}')\n",
    "        return score\n",
    "    \n",
    "    if CFG.train:\n",
    "        oof_df = pd.DataFrame()\n",
    "        for fold in range(CFG.n_fold):\n",
    "            if fold in CFG.trn_fold:\n",
    "                _oof_df = train_loop(train, fold)\n",
    "                oof_df = pd.concat([oof_df, _oof_df])\n",
    "                LOGGER.info(f\"========== fold: {fold} result ==========\")\n",
    "                score = get_result(_oof_df)\n",
    "        oof_df = oof_df.reset_index(drop=True)\n",
    "        LOGGER.info(f\"========== CV ==========\")\n",
    "        score = round(get_result(oof_df),3)\n",
    "        oof_df.to_pickle(OUTPUT_DIR+f'oof_df.pkl')\n",
    "        \n",
    "    # if CFG.DEBUG:\n",
    "    #     import send2trash\n",
    "    #     send2trash.send2trash(OUTPUT_DIR)\n",
    "    CFG.OUTPUT_DIR = OUTPUT_DIR\n",
    "    dict_cfg = {k: vars(CFG)[k] for k in vars(CFG) if \"__\" not in k}\n",
    "    with open(OUTPUT_DIR+\"dict_cfg\", 'wb') as web:\n",
    "        pickle.dump(dict_cfg , web)\n",
    "    with open(OUTPUT_DIR+\"class_cfg\", 'wb') as web:\n",
    "        pickle.dump(CFG , web)\n",
    "    \n",
    "    \n",
    "    if CFG.wandb:\n",
    "        wandb.config.update(class2dict(CFG))\n",
    "        wandb.finish()"
   ]
  },
  {
   "cell_type": "code",
   "execution_count": 18,
   "metadata": {},
   "outputs": [
    {
     "name": "stdout",
     "output_type": "stream",
     "text": [
      "/home/jupyter/output/ex/funnel-intermediate/001/202210311829/\n"
     ]
    }
   ],
   "source": [
    "print(OUTPUT_DIR)"
   ]
  },
  {
   "cell_type": "code",
   "execution_count": 19,
   "metadata": {},
   "outputs": [],
   "source": [
    "# import os\n",
    "# OUTPUT_DIR = \"/home/jupyter/output/ex/roberta-base/004/202210151736/\"\n",
    "# PREDICT_DIR = OUTPUT_DIR.replace(\"output\",\"predict\")\n",
    "# if not os.path.exists(PREDICT_DIR):\n",
    "#     os.makedirs(PREDICT_DIR)\n"
   ]
  },
  {
   "cell_type": "code",
   "execution_count": 20,
   "metadata": {},
   "outputs": [
    {
     "name": "stdout",
     "output_type": "stream",
     "text": [
      "Starting upload for file config.pth\n"
     ]
    },
    {
     "name": "stderr",
     "output_type": "stream",
     "text": [
      "100% 2.55k/2.55k [00:02<00:00, 1.20kB/s]\n"
     ]
    },
    {
     "name": "stdout",
     "output_type": "stream",
     "text": [
      "Upload successful: config.pth (3KB)\n",
      "Starting upload for file funnel-intermediate_fold2_best.pth\n"
     ]
    },
    {
     "name": "stderr",
     "output_type": "stream",
     "text": [
      "100% 676M/676M [00:19<00:00, 36.7MB/s] \n"
     ]
    },
    {
     "name": "stdout",
     "output_type": "stream",
     "text": [
      "Upload successful: funnel-intermediate_fold2_best.pth (676MB)\n",
      "Starting upload for file class_cfg\n"
     ]
    },
    {
     "name": "stderr",
     "output_type": "stream",
     "text": [
      "100% 19.0/19.0 [00:02<00:00, 6.66B/s]\n"
     ]
    },
    {
     "name": "stdout",
     "output_type": "stream",
     "text": [
      "Upload successful: class_cfg (19B)\n",
      "Starting upload for file funnel-intermediate_fold1_best.pth\n"
     ]
    },
    {
     "name": "stderr",
     "output_type": "stream",
     "text": [
      "100% 676M/676M [00:15<00:00, 44.7MB/s] \n"
     ]
    },
    {
     "name": "stdout",
     "output_type": "stream",
     "text": [
      "Upload successful: funnel-intermediate_fold1_best.pth (676MB)\n",
      "Starting upload for file funnel-intermediate_fold3_best.pth\n"
     ]
    },
    {
     "name": "stderr",
     "output_type": "stream",
     "text": [
      "100% 676M/676M [00:21<00:00, 32.2MB/s] \n"
     ]
    },
    {
     "name": "stdout",
     "output_type": "stream",
     "text": [
      "Upload successful: funnel-intermediate_fold3_best.pth (676MB)\n",
      "Starting upload for file oof_df.pkl\n"
     ]
    },
    {
     "name": "stderr",
     "output_type": "stream",
     "text": [
      "100% 9.09M/9.09M [00:02<00:00, 3.19MB/s]\n"
     ]
    },
    {
     "name": "stdout",
     "output_type": "stream",
     "text": [
      "Upload successful: oof_df.pkl (9MB)\n",
      "Starting upload for file train.log\n"
     ]
    },
    {
     "name": "stderr",
     "output_type": "stream",
     "text": [
      "100% 10.3k/10.3k [00:03<00:00, 3.33kB/s]\n"
     ]
    },
    {
     "name": "stdout",
     "output_type": "stream",
     "text": [
      "Upload successful: train.log (10KB)\n",
      "Starting upload for file funnel-intermediate_fold0_best.pth\n"
     ]
    },
    {
     "name": "stderr",
     "output_type": "stream",
     "text": [
      "100% 676M/676M [00:25<00:00, 27.6MB/s] \n"
     ]
    },
    {
     "name": "stdout",
     "output_type": "stream",
     "text": [
      "Upload successful: funnel-intermediate_fold0_best.pth (676MB)\n",
      "Starting upload for file dict_cfg\n"
     ]
    },
    {
     "name": "stderr",
     "output_type": "stream",
     "text": [
      "100% 458k/458k [00:02<00:00, 185kB/s]\n"
     ]
    },
    {
     "name": "stdout",
     "output_type": "stream",
     "text": [
      "Upload successful: dict_cfg (458KB)\n",
      "folder upload\n"
     ]
    }
   ],
   "source": [
    "if CFG.TO_KAGGLE:\n",
    "    UPLOAD_DIR = OUTPUT_DIR\n",
    "    EX_NO = f\"{model_name}-{CFG.file_name}\" # 実験番号などを入れる、folderのpathにする\n",
    "    USERID = 'your_id'\n",
    "\n",
    "\n",
    "    def dataset_upload():\n",
    "        import json\n",
    "        from kaggle.api.kaggle_api_extended import KaggleApi\n",
    "\n",
    "        id = f'{USERID}/{EX_NO}'\n",
    "\n",
    "        dataset_metadata = {}\n",
    "        dataset_metadata['id'] = id\n",
    "        dataset_metadata['licenses'] = [{'name': 'CC0-1.0'}]\n",
    "        dataset_metadata['title'] = f'{EX_NO}'\n",
    "\n",
    "        with open(UPLOAD_DIR +'dataset-metadata.json', 'w') as f:\n",
    "            json.dump(dataset_metadata, f, indent=4)\n",
    "\n",
    "        api = KaggleApi()\n",
    "        api.authenticate()\n",
    "\n",
    "        # データセットがない場合\n",
    "        if f'{USERID}/{EX_NO}' not in [str(d) for d in api.dataset_list(user=USERID, search=f'\"{EX_NO}\"')]:\n",
    "            api.dataset_create_new(folder=UPLOAD_DIR,\n",
    "                                   convert_to_csv=False,\n",
    "                                   dir_mode='skip')\n",
    "            \n",
    "            \n",
    "             #フォルダーを削除\n",
    "            if f'{USERID}/{EX_NO}' not in [str(d) for d in api.dataset_list(user=USERID, search=f'\"{EX_NO}\"')]:\n",
    "                remove_files = glob.glob(OUTPUT_DIR+\"*\")\n",
    "                remove_files.remove(OUTPUT_DIR+\"oof_df.pkl\")\n",
    "                for file in remove_files:\n",
    "                    os.remove(file)\n",
    "                print(\"folder upload\")\n",
    "                            #apiコマンドを書き込む\n",
    "                f = open(f'{model_name}_api_command.txt', 'a')\n",
    "                api_command = f\"!kaggle datasets download -d hiroki8383/{EX_NO}\\n\"\n",
    "                f.write(api_command)\n",
    "                f.close()\n",
    "            else:\n",
    "                print(\"folder not upload\")\n",
    "            \n",
    "            \n",
    "        # データセットがある場合→更新されない場合がある（後で原因追及)\n",
    "        else:\n",
    "            print(\"this folder exsits\")\n",
    "            # api.dataset_create_version(folder=UPLOAD_DIR,\n",
    "            #                            version_notes='update',\n",
    "            #                            convert_to_csv=False,\n",
    "            #                            delete_old_versions=False,\n",
    "            #                            dir_mode='zip')\n",
    "\n",
    "        \n",
    "\n",
    "        \n",
    "    dataset_upload()"
   ]
  },
  {
   "cell_type": "code",
   "execution_count": 22,
   "metadata": {
    "tags": []
   },
   "outputs": [
    {
     "name": "stderr",
     "output_type": "stream",
     "text": [
      "Score: 0.4645  Scores: [0.4938098460543921, 0.46181244790089493, 0.42338075198399694, 0.46028171829402215, 0.47987051448913387, 0.46793835834106373]\n"
     ]
    }
   ],
   "source": [
    "if not CFG.DEBUG:\n",
    "    def to_write_score(CFG):\n",
    "        df = pd.read_csv(CFG.score_path)\n",
    "        def get_result2(oof_df):\n",
    "                labels = oof_df[CFG.target_cols].values\n",
    "                preds = oof_df[[f\"pred_{c}\" for c in CFG.target_cols]].values\n",
    "                score, scores = get_score(labels, preds)\n",
    "                LOGGER.info(f'Score: {score:<.4f}  Scores: {scores}')\n",
    "                return score,scores\n",
    "\n",
    "        score,scores = get_result2(oof_df)\n",
    "        name = \"-\".join(OUTPUT_DIR.split(\"/\")[-4:-2])\n",
    "        base = {\"name\":name,\"score\":score,\"memo\":CFG.MEMO} \n",
    "        base.update(dict(zip(CFG.target_cols,scores)))\n",
    "        df = df.append(base,ignore_index=True)\n",
    "        df.to_csv(CFG.score_path,index=False)\n",
    "    to_write_score(CFG)"
   ]
  },
  {
   "cell_type": "code",
   "execution_count": 23,
   "metadata": {},
   "outputs": [
    {
     "data": {
      "text/html": [
       "<div>\n",
       "<style scoped>\n",
       "    .dataframe tbody tr th:only-of-type {\n",
       "        vertical-align: middle;\n",
       "    }\n",
       "\n",
       "    .dataframe tbody tr th {\n",
       "        vertical-align: top;\n",
       "    }\n",
       "\n",
       "    .dataframe thead th {\n",
       "        text-align: right;\n",
       "    }\n",
       "</style>\n",
       "<table border=\"1\" class=\"dataframe\">\n",
       "  <thead>\n",
       "    <tr style=\"text-align: right;\">\n",
       "      <th></th>\n",
       "      <th>name</th>\n",
       "      <th>memo</th>\n",
       "      <th>LB</th>\n",
       "      <th>score</th>\n",
       "      <th>cohesion</th>\n",
       "      <th>syntax</th>\n",
       "      <th>vocabulary</th>\n",
       "      <th>phraseology</th>\n",
       "      <th>grammar</th>\n",
       "      <th>conventions</th>\n",
       "    </tr>\n",
       "  </thead>\n",
       "  <tbody>\n",
       "    <tr>\n",
       "      <th>0</th>\n",
       "      <td>base-discriminator-001</td>\n",
       "      <td>NaN</td>\n",
       "      <td>0.46</td>\n",
       "      <td>0.466957</td>\n",
       "      <td>0.501431</td>\n",
       "      <td>0.455460</td>\n",
       "      <td>0.428477</td>\n",
       "      <td>0.465690</td>\n",
       "      <td>0.485904</td>\n",
       "      <td>0.464780</td>\n",
       "    </tr>\n",
       "    <tr>\n",
       "      <th>1</th>\n",
       "      <td>base-discriminator-002</td>\n",
       "      <td>NaN</td>\n",
       "      <td>0.45</td>\n",
       "      <td>0.474078</td>\n",
       "      <td>0.504413</td>\n",
       "      <td>0.462707</td>\n",
       "      <td>0.432588</td>\n",
       "      <td>0.469546</td>\n",
       "      <td>0.500918</td>\n",
       "      <td>0.474296</td>\n",
       "    </tr>\n",
       "    <tr>\n",
       "      <th>2</th>\n",
       "      <td>deberta-v3-base-003</td>\n",
       "      <td>2epochs</td>\n",
       "      <td>NaN</td>\n",
       "      <td>0.459342</td>\n",
       "      <td>0.496531</td>\n",
       "      <td>0.450482</td>\n",
       "      <td>0.419448</td>\n",
       "      <td>0.457413</td>\n",
       "      <td>0.476347</td>\n",
       "      <td>0.455832</td>\n",
       "    </tr>\n",
       "    <tr>\n",
       "      <th>3</th>\n",
       "      <td>deberta-v3-base-003</td>\n",
       "      <td>6epochs</td>\n",
       "      <td>0.44</td>\n",
       "      <td>0.456879</td>\n",
       "      <td>0.488333</td>\n",
       "      <td>0.448687</td>\n",
       "      <td>0.417134</td>\n",
       "      <td>0.458769</td>\n",
       "      <td>0.479633</td>\n",
       "      <td>0.448721</td>\n",
       "    </tr>\n",
       "    <tr>\n",
       "      <th>4</th>\n",
       "      <td>deberta-v3-base-006</td>\n",
       "      <td>15folds</td>\n",
       "      <td>NaN</td>\n",
       "      <td>0.463635</td>\n",
       "      <td>0.479650</td>\n",
       "      <td>0.475910</td>\n",
       "      <td>0.442828</td>\n",
       "      <td>0.463557</td>\n",
       "      <td>0.456412</td>\n",
       "      <td>0.463457</td>\n",
       "    </tr>\n",
       "    <tr>\n",
       "      <th>5</th>\n",
       "      <td>deberta-v3-base-006</td>\n",
       "      <td>20folds</td>\n",
       "      <td>NaN</td>\n",
       "      <td>0.449212</td>\n",
       "      <td>0.475585</td>\n",
       "      <td>0.433808</td>\n",
       "      <td>0.415852</td>\n",
       "      <td>0.457436</td>\n",
       "      <td>0.484686</td>\n",
       "      <td>0.427907</td>\n",
       "    </tr>\n",
       "    <tr>\n",
       "      <th>6</th>\n",
       "      <td>deberta-v3-base-006</td>\n",
       "      <td>10folds</td>\n",
       "      <td>NaN</td>\n",
       "      <td>0.446338</td>\n",
       "      <td>0.490661</td>\n",
       "      <td>0.435001</td>\n",
       "      <td>0.409460</td>\n",
       "      <td>0.417236</td>\n",
       "      <td>0.481800</td>\n",
       "      <td>0.443871</td>\n",
       "    </tr>\n",
       "    <tr>\n",
       "      <th>7</th>\n",
       "      <td>distilroberta-base-001</td>\n",
       "      <td>4folds</td>\n",
       "      <td>NaN</td>\n",
       "      <td>0.470528</td>\n",
       "      <td>0.501629</td>\n",
       "      <td>0.459765</td>\n",
       "      <td>0.426740</td>\n",
       "      <td>0.473205</td>\n",
       "      <td>0.501976</td>\n",
       "      <td>0.459850</td>\n",
       "    </tr>\n",
       "    <tr>\n",
       "      <th>8</th>\n",
       "      <td>distilroberta-base-002</td>\n",
       "      <td>バッチ16,4folds</td>\n",
       "      <td>NaN</td>\n",
       "      <td>0.471035</td>\n",
       "      <td>0.503345</td>\n",
       "      <td>0.458993</td>\n",
       "      <td>0.427209</td>\n",
       "      <td>0.471235</td>\n",
       "      <td>0.504850</td>\n",
       "      <td>0.460580</td>\n",
       "    </tr>\n",
       "    <tr>\n",
       "      <th>9</th>\n",
       "      <td>microsoft-deberta-v3-large-001</td>\n",
       "      <td>NaN</td>\n",
       "      <td>0.46</td>\n",
       "      <td>0.450311</td>\n",
       "      <td>0.482961</td>\n",
       "      <td>0.445596</td>\n",
       "      <td>0.410873</td>\n",
       "      <td>0.449346</td>\n",
       "      <td>0.466162</td>\n",
       "      <td>0.446928</td>\n",
       "    </tr>\n",
       "    <tr>\n",
       "      <th>10</th>\n",
       "      <td>microsoft-deberta-v3-large-002</td>\n",
       "      <td>NaN</td>\n",
       "      <td>0.44</td>\n",
       "      <td>0.453782</td>\n",
       "      <td>0.486786</td>\n",
       "      <td>0.446127</td>\n",
       "      <td>0.415995</td>\n",
       "      <td>0.452892</td>\n",
       "      <td>0.472186</td>\n",
       "      <td>0.448703</td>\n",
       "    </tr>\n",
       "    <tr>\n",
       "      <th>11</th>\n",
       "      <td>microsoft-deberta-v3-large-004</td>\n",
       "      <td>unscale</td>\n",
       "      <td>0.44</td>\n",
       "      <td>0.460115</td>\n",
       "      <td>0.494655</td>\n",
       "      <td>0.452659</td>\n",
       "      <td>0.419634</td>\n",
       "      <td>0.461738</td>\n",
       "      <td>0.476507</td>\n",
       "      <td>0.455497</td>\n",
       "    </tr>\n",
       "    <tr>\n",
       "      <th>12</th>\n",
       "      <td>roberta-base-003</td>\n",
       "      <td>1fold</td>\n",
       "      <td>0.45</td>\n",
       "      <td>0.459033</td>\n",
       "      <td>0.486786</td>\n",
       "      <td>0.452983</td>\n",
       "      <td>0.423085</td>\n",
       "      <td>0.463976</td>\n",
       "      <td>0.484316</td>\n",
       "      <td>0.443049</td>\n",
       "    </tr>\n",
       "    <tr>\n",
       "      <th>13</th>\n",
       "      <td>roberta-base-004</td>\n",
       "      <td>4folds</td>\n",
       "      <td>0.44</td>\n",
       "      <td>0.466575</td>\n",
       "      <td>0.498291</td>\n",
       "      <td>0.455092</td>\n",
       "      <td>0.427741</td>\n",
       "      <td>0.468486</td>\n",
       "      <td>0.493240</td>\n",
       "      <td>0.456598</td>\n",
       "    </tr>\n",
       "    <tr>\n",
       "      <th>14</th>\n",
       "      <td>roberta-base-005</td>\n",
       "      <td>バッチ16,4folds</td>\n",
       "      <td>0.44</td>\n",
       "      <td>0.463956</td>\n",
       "      <td>0.496089</td>\n",
       "      <td>0.454223</td>\n",
       "      <td>0.425768</td>\n",
       "      <td>0.464463</td>\n",
       "      <td>0.487668</td>\n",
       "      <td>0.455523</td>\n",
       "    </tr>\n",
       "    <tr>\n",
       "      <th>15</th>\n",
       "      <td>roberta-base-006</td>\n",
       "      <td>バッチ32,4folds</td>\n",
       "      <td>NaN</td>\n",
       "      <td>0.464111</td>\n",
       "      <td>0.497241</td>\n",
       "      <td>0.453315</td>\n",
       "      <td>0.425326</td>\n",
       "      <td>0.463499</td>\n",
       "      <td>0.488895</td>\n",
       "      <td>0.456390</td>\n",
       "    </tr>\n",
       "    <tr>\n",
       "      <th>16</th>\n",
       "      <td>roberta-large-002</td>\n",
       "      <td>バッチ8_4folds</td>\n",
       "      <td>0.44</td>\n",
       "      <td>0.461700</td>\n",
       "      <td>NaN</td>\n",
       "      <td>NaN</td>\n",
       "      <td>NaN</td>\n",
       "      <td>NaN</td>\n",
       "      <td>NaN</td>\n",
       "      <td>NaN</td>\n",
       "    </tr>\n",
       "    <tr>\n",
       "      <th>17</th>\n",
       "      <td>roberta-large-003</td>\n",
       "      <td>バッチ16,2_4fold</td>\n",
       "      <td>NaN</td>\n",
       "      <td>0.469800</td>\n",
       "      <td>0.483395</td>\n",
       "      <td>0.457585</td>\n",
       "      <td>0.424750</td>\n",
       "      <td>0.480469</td>\n",
       "      <td>0.494185</td>\n",
       "      <td>0.478415</td>\n",
       "    </tr>\n",
       "    <tr>\n",
       "      <th>18</th>\n",
       "      <td>roberta-large-004</td>\n",
       "      <td>バッチ32,2_4fold</td>\n",
       "      <td>0.45</td>\n",
       "      <td>0.462673</td>\n",
       "      <td>0.487539</td>\n",
       "      <td>0.450118</td>\n",
       "      <td>0.419088</td>\n",
       "      <td>0.469469</td>\n",
       "      <td>0.482251</td>\n",
       "      <td>0.467571</td>\n",
       "    </tr>\n",
       "    <tr>\n",
       "      <th>19</th>\n",
       "      <td>roberta-large-006</td>\n",
       "      <td>バッチ36,2_4fold</td>\n",
       "      <td>0.45</td>\n",
       "      <td>0.466295</td>\n",
       "      <td>0.490185</td>\n",
       "      <td>0.457640</td>\n",
       "      <td>0.423379</td>\n",
       "      <td>0.469386</td>\n",
       "      <td>0.486419</td>\n",
       "      <td>0.470762</td>\n",
       "    </tr>\n",
       "    <tr>\n",
       "      <th>20</th>\n",
       "      <td>roberta-large-007</td>\n",
       "      <td>バッチ40,2_4fold</td>\n",
       "      <td>0.45</td>\n",
       "      <td>0.466273</td>\n",
       "      <td>0.490215</td>\n",
       "      <td>0.453633</td>\n",
       "      <td>0.423818</td>\n",
       "      <td>0.475021</td>\n",
       "      <td>0.485249</td>\n",
       "      <td>0.469699</td>\n",
       "    </tr>\n",
       "    <tr>\n",
       "      <th>21</th>\n",
       "      <td>roberta-large-008</td>\n",
       "      <td>バッチ32_4folds_epochs10</td>\n",
       "      <td>0.44</td>\n",
       "      <td>0.462800</td>\n",
       "      <td>NaN</td>\n",
       "      <td>NaN</td>\n",
       "      <td>NaN</td>\n",
       "      <td>NaN</td>\n",
       "      <td>NaN</td>\n",
       "      <td>NaN</td>\n",
       "    </tr>\n",
       "    <tr>\n",
       "      <th>22</th>\n",
       "      <td>roberta-large-008</td>\n",
       "      <td>バッチ32_4folds_epochs10</td>\n",
       "      <td>0.44</td>\n",
       "      <td>0.462800</td>\n",
       "      <td>NaN</td>\n",
       "      <td>NaN</td>\n",
       "      <td>NaN</td>\n",
       "      <td>NaN</td>\n",
       "      <td>NaN</td>\n",
       "      <td>NaN</td>\n",
       "    </tr>\n",
       "    <tr>\n",
       "      <th>23</th>\n",
       "      <td>roberta-large-mnli-001</td>\n",
       "      <td>4folds</td>\n",
       "      <td>0.44</td>\n",
       "      <td>0.465286</td>\n",
       "      <td>0.493436</td>\n",
       "      <td>0.456988</td>\n",
       "      <td>0.422165</td>\n",
       "      <td>0.470799</td>\n",
       "      <td>0.487859</td>\n",
       "      <td>0.460470</td>\n",
       "    </tr>\n",
       "    <tr>\n",
       "      <th>24</th>\n",
       "      <td>svr-001</td>\n",
       "      <td>4fold</td>\n",
       "      <td>NaN</td>\n",
       "      <td>0.453306</td>\n",
       "      <td>0.483167</td>\n",
       "      <td>0.448158</td>\n",
       "      <td>0.412874</td>\n",
       "      <td>0.455388</td>\n",
       "      <td>0.473294</td>\n",
       "      <td>0.446953</td>\n",
       "    </tr>\n",
       "    <tr>\n",
       "      <th>25</th>\n",
       "      <td>svr-004</td>\n",
       "      <td>4fold</td>\n",
       "      <td>NaN</td>\n",
       "      <td>0.452746</td>\n",
       "      <td>0.481117</td>\n",
       "      <td>0.447022</td>\n",
       "      <td>0.413401</td>\n",
       "      <td>0.455160</td>\n",
       "      <td>0.472988</td>\n",
       "      <td>0.446788</td>\n",
       "    </tr>\n",
       "    <tr>\n",
       "      <th>26</th>\n",
       "      <td>svr-005</td>\n",
       "      <td>10folds,embedding003を使用</td>\n",
       "      <td>NaN</td>\n",
       "      <td>0.455535</td>\n",
       "      <td>0.485642</td>\n",
       "      <td>0.448309</td>\n",
       "      <td>0.414582</td>\n",
       "      <td>0.458728</td>\n",
       "      <td>0.479231</td>\n",
       "      <td>0.446716</td>\n",
       "    </tr>\n",
       "    <tr>\n",
       "      <th>27</th>\n",
       "      <td>funnel-intermediate-001</td>\n",
       "      <td>ベースライン</td>\n",
       "      <td>NaN</td>\n",
       "      <td>0.464516</td>\n",
       "      <td>0.493810</td>\n",
       "      <td>0.461812</td>\n",
       "      <td>0.423381</td>\n",
       "      <td>0.460282</td>\n",
       "      <td>0.479871</td>\n",
       "      <td>0.467938</td>\n",
       "    </tr>\n",
       "  </tbody>\n",
       "</table>\n",
       "</div>"
      ],
      "text/plain": [
       "                              name                     memo    LB     score  cohesion    syntax  vocabulary  phraseology   grammar  conventions\n",
       "0           base-discriminator-001                      NaN  0.46  0.466957  0.501431  0.455460    0.428477     0.465690  0.485904     0.464780\n",
       "1           base-discriminator-002                      NaN  0.45  0.474078  0.504413  0.462707    0.432588     0.469546  0.500918     0.474296\n",
       "2              deberta-v3-base-003                  2epochs   NaN  0.459342  0.496531  0.450482    0.419448     0.457413  0.476347     0.455832\n",
       "3              deberta-v3-base-003                  6epochs  0.44  0.456879  0.488333  0.448687    0.417134     0.458769  0.479633     0.448721\n",
       "4              deberta-v3-base-006                  15folds   NaN  0.463635  0.479650  0.475910    0.442828     0.463557  0.456412     0.463457\n",
       "5              deberta-v3-base-006                  20folds   NaN  0.449212  0.475585  0.433808    0.415852     0.457436  0.484686     0.427907\n",
       "6              deberta-v3-base-006                  10folds   NaN  0.446338  0.490661  0.435001    0.409460     0.417236  0.481800     0.443871\n",
       "7           distilroberta-base-001                   4folds   NaN  0.470528  0.501629  0.459765    0.426740     0.473205  0.501976     0.459850\n",
       "8           distilroberta-base-002             バッチ16,4folds   NaN  0.471035  0.503345  0.458993    0.427209     0.471235  0.504850     0.460580\n",
       "9   microsoft-deberta-v3-large-001                      NaN  0.46  0.450311  0.482961  0.445596    0.410873     0.449346  0.466162     0.446928\n",
       "10  microsoft-deberta-v3-large-002                      NaN  0.44  0.453782  0.486786  0.446127    0.415995     0.452892  0.472186     0.448703\n",
       "11  microsoft-deberta-v3-large-004                  unscale  0.44  0.460115  0.494655  0.452659    0.419634     0.461738  0.476507     0.455497\n",
       "12                roberta-base-003                    1fold  0.45  0.459033  0.486786  0.452983    0.423085     0.463976  0.484316     0.443049\n",
       "13                roberta-base-004                   4folds  0.44  0.466575  0.498291  0.455092    0.427741     0.468486  0.493240     0.456598\n",
       "14                roberta-base-005             バッチ16,4folds  0.44  0.463956  0.496089  0.454223    0.425768     0.464463  0.487668     0.455523\n",
       "15                roberta-base-006             バッチ32,4folds   NaN  0.464111  0.497241  0.453315    0.425326     0.463499  0.488895     0.456390\n",
       "16               roberta-large-002              バッチ8_4folds  0.44  0.461700       NaN       NaN         NaN          NaN       NaN          NaN\n",
       "17               roberta-large-003            バッチ16,2_4fold   NaN  0.469800  0.483395  0.457585    0.424750     0.480469  0.494185     0.478415\n",
       "18               roberta-large-004            バッチ32,2_4fold  0.45  0.462673  0.487539  0.450118    0.419088     0.469469  0.482251     0.467571\n",
       "19               roberta-large-006            バッチ36,2_4fold  0.45  0.466295  0.490185  0.457640    0.423379     0.469386  0.486419     0.470762\n",
       "20               roberta-large-007            バッチ40,2_4fold  0.45  0.466273  0.490215  0.453633    0.423818     0.475021  0.485249     0.469699\n",
       "21               roberta-large-008    バッチ32_4folds_epochs10  0.44  0.462800       NaN       NaN         NaN          NaN       NaN          NaN\n",
       "22               roberta-large-008    バッチ32_4folds_epochs10  0.44  0.462800       NaN       NaN         NaN          NaN       NaN          NaN\n",
       "23          roberta-large-mnli-001                   4folds  0.44  0.465286  0.493436  0.456988    0.422165     0.470799  0.487859     0.460470\n",
       "24                         svr-001                    4fold   NaN  0.453306  0.483167  0.448158    0.412874     0.455388  0.473294     0.446953\n",
       "25                         svr-004                    4fold   NaN  0.452746  0.481117  0.447022    0.413401     0.455160  0.472988     0.446788\n",
       "26                         svr-005  10folds,embedding003を使用   NaN  0.455535  0.485642  0.448309    0.414582     0.458728  0.479231     0.446716\n",
       "27         funnel-intermediate-001                   ベースライン   NaN  0.464516  0.493810  0.461812    0.423381     0.460282  0.479871     0.467938"
      ]
     },
     "execution_count": 23,
     "metadata": {},
     "output_type": "execute_result"
    }
   ],
   "source": [
    "df = pd.read_csv(CFG.score_path)\n",
    "df"
   ]
  },
  {
   "cell_type": "code",
   "execution_count": null,
   "metadata": {},
   "outputs": [],
   "source": []
  }
 ],
 "metadata": {
  "kernelspec": {
   "display_name": "Python 3 (ipykernel)",
   "language": "python",
   "name": "python3"
  },
  "language_info": {
   "codemirror_mode": {
    "name": "ipython",
    "version": 3
   },
   "file_extension": ".py",
   "mimetype": "text/x-python",
   "name": "python",
   "nbconvert_exporter": "python",
   "pygments_lexer": "ipython3",
   "version": "3.7.12"
  }
 },
 "nbformat": 4,
 "nbformat_minor": 4
}
