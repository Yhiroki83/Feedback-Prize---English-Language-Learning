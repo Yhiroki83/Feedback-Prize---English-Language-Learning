{
 "cells": [
  {
   "cell_type": "code",
   "execution_count": 1,
   "metadata": {
    "papermill": {
     "duration": 0.015868,
     "end_time": "2022-08-31T07:01:57.417077",
     "exception": false,
     "start_time": "2022-08-31T07:01:57.401209",
     "status": "completed"
    },
    "tags": []
   },
   "outputs": [],
   "source": [
    "# ====================================================\n",
    "# CFG\n",
    "# ====================================================\n",
    "import numpy as np\n",
    "class CFG:\n",
    "    wandb = True\n",
    "    DEBUG = False\n",
    "    TO_KAGGLE = True\n",
    "    score_path = \"gs://feedback3/output/scores/scores3.csv\"\n",
    "    MEMO = \"ベースライン\"\n",
    "    file_name = \"001\"\n",
    "    model=\"bert/base-uncased\"\n",
    "    patience = 3\n",
    "    n_fold=4\n",
    "    trn_fold=[0,1,2,3]\n",
    "    model_config_path = f\"/home/jupyter/models/{model}/\"\n",
    "    model_bin_path = f\"/home/jupyter/models/{model}/\"\n",
    "    competition='FB3'\n",
    "    apex=True\n",
    "    print_freq=20\n",
    "    num_workers=4\n",
    "    gradient_checkpointing=True\n",
    "    scheduler='cosine' # ['linear', 'cosine']\n",
    "    batch_scheduler=True\n",
    "    num_cycles=0.5\n",
    "    num_warmup_steps=0\n",
    "    epochs=10\n",
    "    encoder_lr=2e-5\n",
    "    decoder_lr=2e-5\n",
    "    min_lr=1e-6\n",
    "    eps=1e-6\n",
    "    betas=(0.9, 0.999)\n",
    "    batch_size=8\n",
    "    max_len=512\n",
    "    weight_decay=0.01\n",
    "    gradient_accumulation_steps=1\n",
    "    max_grad_norm=1000\n",
    "    target_cols=['cohesion', 'syntax', 'vocabulary', 'phraseology', 'grammar', 'conventions']\n",
    "    seed=42\n",
    "    train=True\n",
    "    \n",
    "if CFG.DEBUG:\n",
    "    CFG.epochs = 2\n",
    "    #CFG.trn_fold = [0]"
   ]
  },
  {
   "cell_type": "code",
   "execution_count": 2,
   "metadata": {},
   "outputs": [
    {
     "name": "stderr",
     "output_type": "stream",
     "text": [
      "\u001b[34m\u001b[1mwandb\u001b[0m: Currently logged in as: \u001b[33mhiroki8383\u001b[0m. Use \u001b[1m`wandb login --relogin`\u001b[0m to force relogin\n",
      "\u001b[34m\u001b[1mwandb\u001b[0m: \u001b[33mWARNING\u001b[0m If you're specifying your api key in code, ensure this code is not shared publicly.\n",
      "\u001b[34m\u001b[1mwandb\u001b[0m: \u001b[33mWARNING\u001b[0m Consider setting the WANDB_API_KEY environment variable, or running `wandb login` from the command line.\n",
      "\u001b[34m\u001b[1mwandb\u001b[0m: Appending key for api.wandb.ai to your netrc file: /root/.netrc\n"
     ]
    },
    {
     "data": {
      "text/html": [
       "wandb version 0.13.5 is available!  To upgrade, please run:\n",
       " $ pip install wandb --upgrade"
      ],
      "text/plain": [
       "<IPython.core.display.HTML object>"
      ]
     },
     "metadata": {},
     "output_type": "display_data"
    },
    {
     "data": {
      "text/html": [
       "Tracking run with wandb version 0.12.21"
      ],
      "text/plain": [
       "<IPython.core.display.HTML object>"
      ]
     },
     "metadata": {},
     "output_type": "display_data"
    },
    {
     "data": {
      "text/html": [
       "Run data is saved locally in <code>/home/jupyter/exp/bert/base/wandb/run-20221109_072646-3qdadn1j</code>"
      ],
      "text/plain": [
       "<IPython.core.display.HTML object>"
      ]
     },
     "metadata": {},
     "output_type": "display_data"
    },
    {
     "data": {
      "text/html": [
       "Syncing run <strong><a href=\"https://wandb.ai/hiroki8383/Feedback%20Prize%20-%20English%20Language%20Learning/runs/3qdadn1j\" target=\"_blank\">001_202211091626</a></strong> to <a href=\"https://wandb.ai/hiroki8383/Feedback%20Prize%20-%20English%20Language%20Learning\" target=\"_blank\">Weights & Biases</a> (<a href=\"https://wandb.me/run\" target=\"_blank\">docs</a>)<br/>"
      ],
      "text/plain": [
       "<IPython.core.display.HTML object>"
      ]
     },
     "metadata": {},
     "output_type": "display_data"
    }
   ],
   "source": [
    "import os\n",
    "import datetime\n",
    "import pickle\n",
    "import glob\n",
    "\n",
    "# ====================================================\n",
    "# datetime\n",
    "# ====================================================\n",
    "t_delta = datetime.timedelta(hours=9)\n",
    "JST = datetime.timezone(t_delta, 'JST')\n",
    "now = datetime.datetime.now(JST)\n",
    "date = now.strftime('%Y%m%d')\n",
    "date2 = now.strftime('%Y%m%d%H%M')\n",
    "\n",
    "\n",
    "# ====================================================\n",
    "# file_path\n",
    "# ====================================================\n",
    "if \"/\" in CFG.model:\n",
    "    model_name = CFG.model.replace(\"/\",\"-\")\n",
    "else:\n",
    "    model_name = CFG.model\n",
    "\n",
    "path =\"/home/jupyter/feedback-prize-english-language-learning/\"\n",
    "if CFG.DEBUG:\n",
    "    OUTPUT_DIR = f'/home/jupyter/output/ex/DEBUG/{model_name}/{CFG.file_name}/{date2}/'\n",
    "else:\n",
    "    OUTPUT_DIR = f'/home/jupyter/output/ex/{model_name}/{CFG.file_name}/{date2}/'\n",
    "if not os.path.exists(OUTPUT_DIR):\n",
    "    os.makedirs(OUTPUT_DIR)\n",
    "\n",
    "\n",
    "\n",
    "# ====================================================\n",
    "# wandb \n",
    "# ====================================================\n",
    "if CFG.wandb:\n",
    "    import wandb\n",
    "    \n",
    "    def class2dict(f):\n",
    "            return dict((name, getattr(f, name)) for name in dir(f) if not name.startswith('__'))\n",
    "        \n",
    "    project='Feedback Prize - English Language Learning'\n",
    "    if CFG.DEBUG:\n",
    "        group = \"DEBUG\"\n",
    "    else:\n",
    "        group = model_name\n",
    "    wandb_name = f\"{CFG.file_name}_{date2}\"\n",
    "    job_type = CFG.file_name  #\"train\"\n",
    "\n",
    "    wandb_api = \"your_wandb_id\"\n",
    "    wandb.login(key=wandb_api)\n",
    "    anony = None\n",
    "    run = wandb.init(project=project, \n",
    "                         name = wandb_name,\n",
    "                         config=class2dict(CFG),\n",
    "                         group=group,\n",
    "                         job_type=job_type,\n",
    "                         anonymous=anony)"
   ]
  },
  {
   "cell_type": "markdown",
   "metadata": {
    "papermill": {
     "duration": 0.008876,
     "end_time": "2022-08-31T07:02:06.467728",
     "exception": false,
     "start_time": "2022-08-31T07:02:06.458852",
     "status": "completed"
    },
    "tags": []
   },
   "source": [
    "# Library"
   ]
  },
  {
   "cell_type": "code",
   "execution_count": 3,
   "metadata": {},
   "outputs": [],
   "source": [
    "# !pip download transformers==4.21.2\n",
    "# !pip download tokenizers==0.12.1"
   ]
  },
  {
   "cell_type": "code",
   "execution_count": 4,
   "metadata": {},
   "outputs": [],
   "source": [
    "# !pip install transformers\n",
    "# !pip install tokenizers"
   ]
  },
  {
   "cell_type": "code",
   "execution_count": 5,
   "metadata": {
    "papermill": {
     "duration": 57.587416,
     "end_time": "2022-08-31T07:03:04.064247",
     "exception": false,
     "start_time": "2022-08-31T07:02:06.476831",
     "status": "completed"
    },
    "tags": []
   },
   "outputs": [
    {
     "name": "stdout",
     "output_type": "stream",
     "text": [
      "Requirement already satisfied: iterative-stratification==0.1.7 in /opt/conda/lib/python3.7/site-packages (0.1.7)\n",
      "Requirement already satisfied: scikit-learn in /opt/conda/lib/python3.7/site-packages (from iterative-stratification==0.1.7) (1.0.2)\n",
      "Requirement already satisfied: numpy in /opt/conda/lib/python3.7/site-packages (from iterative-stratification==0.1.7) (1.21.6)\n",
      "Requirement already satisfied: scipy in /opt/conda/lib/python3.7/site-packages (from iterative-stratification==0.1.7) (1.7.3)\n",
      "Requirement already satisfied: joblib>=0.11 in /opt/conda/lib/python3.7/site-packages (from scikit-learn->iterative-stratification==0.1.7) (1.0.1)\n",
      "Requirement already satisfied: threadpoolctl>=2.0.0 in /opt/conda/lib/python3.7/site-packages (from scikit-learn->iterative-stratification==0.1.7) (3.1.0)\n"
     ]
    },
    {
     "name": "stderr",
     "output_type": "stream",
     "text": [
      "WARNING: Running pip as the 'root' user can result in broken permissions and conflicting behaviour with the system package manager. It is recommended to use a virtual environment instead: https://pip.pypa.io/warnings/venv\n"
     ]
    },
    {
     "name": "stdout",
     "output_type": "stream",
     "text": [
      "Found existing installation: transformers 4.21.2\n",
      "Uninstalling transformers-4.21.2:\n",
      "  Successfully uninstalled transformers-4.21.2\n"
     ]
    },
    {
     "name": "stderr",
     "output_type": "stream",
     "text": [
      "WARNING: Running pip as the 'root' user can result in broken permissions and conflicting behaviour with the system package manager. It is recommended to use a virtual environment instead: https://pip.pypa.io/warnings/venv\n"
     ]
    },
    {
     "name": "stdout",
     "output_type": "stream",
     "text": [
      "Found existing installation: tokenizers 0.12.1\n",
      "Uninstalling tokenizers-0.12.1:\n",
      "  Successfully uninstalled tokenizers-0.12.1\n"
     ]
    },
    {
     "name": "stderr",
     "output_type": "stream",
     "text": [
      "WARNING: Running pip as the 'root' user can result in broken permissions and conflicting behaviour with the system package manager. It is recommended to use a virtual environment instead: https://pip.pypa.io/warnings/venv\n"
     ]
    },
    {
     "name": "stdout",
     "output_type": "stream",
     "text": [
      "Looking in links: /home/jupyter/code_baseline/FB3_pip_wheels\n",
      "Processing /home/jupyter/code_baseline/FB3_pip_wheels/transformers-4.21.2-py3-none-any.whl\n",
      "Requirement already satisfied: huggingface-hub<1.0,>=0.1.0 in /opt/conda/lib/python3.7/site-packages (from transformers) (0.10.1)\n",
      "Requirement already satisfied: requests in /opt/conda/lib/python3.7/site-packages (from transformers) (2.28.1)\n",
      "Requirement already satisfied: regex!=2019.12.17 in /opt/conda/lib/python3.7/site-packages (from transformers) (2021.11.10)\n",
      "Requirement already satisfied: pyyaml>=5.1 in /opt/conda/lib/python3.7/site-packages (from transformers) (6.0)\n",
      "Requirement already satisfied: numpy>=1.17 in /opt/conda/lib/python3.7/site-packages (from transformers) (1.21.6)\n",
      "Processing /home/jupyter/code_baseline/FB3_pip_wheels/tokenizers-0.12.1-cp37-cp37m-manylinux_2_12_x86_64.manylinux2010_x86_64.whl\n",
      "Requirement already satisfied: tqdm>=4.27 in /opt/conda/lib/python3.7/site-packages (from transformers) (4.64.0)\n",
      "Requirement already satisfied: importlib-metadata in /opt/conda/lib/python3.7/site-packages (from transformers) (4.13.0)\n",
      "Requirement already satisfied: filelock in /opt/conda/lib/python3.7/site-packages (from transformers) (3.7.1)\n",
      "Requirement already satisfied: packaging>=20.0 in /opt/conda/lib/python3.7/site-packages (from transformers) (21.3)\n",
      "Requirement already satisfied: typing-extensions>=3.7.4.3 in /opt/conda/lib/python3.7/site-packages (from huggingface-hub<1.0,>=0.1.0->transformers) (4.1.1)\n",
      "Requirement already satisfied: pyparsing!=3.0.5,>=2.0.2 in /opt/conda/lib/python3.7/site-packages (from packaging>=20.0->transformers) (3.0.9)\n",
      "Requirement already satisfied: zipp>=0.5 in /opt/conda/lib/python3.7/site-packages (from importlib-metadata->transformers) (3.8.0)\n",
      "Requirement already satisfied: urllib3<1.27,>=1.21.1 in /opt/conda/lib/python3.7/site-packages (from requests->transformers) (1.26.12)\n",
      "Requirement already satisfied: certifi>=2017.4.17 in /opt/conda/lib/python3.7/site-packages (from requests->transformers) (2022.9.24)\n",
      "Requirement already satisfied: idna<4,>=2.5 in /opt/conda/lib/python3.7/site-packages (from requests->transformers) (3.3)\n",
      "Requirement already satisfied: charset-normalizer<3,>=2 in /opt/conda/lib/python3.7/site-packages (from requests->transformers) (2.1.0)\n",
      "Installing collected packages: tokenizers, transformers\n"
     ]
    },
    {
     "name": "stderr",
     "output_type": "stream",
     "text": [
      "ERROR: pip's dependency resolver does not currently take into account all the packages that are installed. This behaviour is the source of the following dependency conflicts.\n",
      "allennlp 2.10.1 requires transformers<4.21,>=4.1, but you have transformers 4.21.2 which is incompatible.\n",
      "WARNING: Running pip as the 'root' user can result in broken permissions and conflicting behaviour with the system package manager. It is recommended to use a virtual environment instead: https://pip.pypa.io/warnings/venv\n"
     ]
    },
    {
     "name": "stdout",
     "output_type": "stream",
     "text": [
      "Successfully installed tokenizers-0.12.1 transformers-4.21.2\n",
      "Looking in links: /home/jupyter/code_baseline/FB3_pip_wheels\n",
      "Requirement already satisfied: tokenizers in /opt/conda/lib/python3.7/site-packages (0.12.1)\n"
     ]
    },
    {
     "name": "stderr",
     "output_type": "stream",
     "text": [
      "WARNING: Running pip as the 'root' user can result in broken permissions and conflicting behaviour with the system package manager. It is recommended to use a virtual environment instead: https://pip.pypa.io/warnings/venv\n"
     ]
    },
    {
     "name": "stdout",
     "output_type": "stream",
     "text": [
      "env: TOKENIZERS_PARALLELISM=true\n"
     ]
    }
   ],
   "source": [
    "# ====================================================\n",
    "# Library\n",
    "# ====================================================\n",
    "import os\n",
    "import gc\n",
    "import re\n",
    "import ast\n",
    "import sys\n",
    "import copy\n",
    "import json\n",
    "import time\n",
    "import math\n",
    "import string\n",
    "import pickle\n",
    "import random\n",
    "import joblib\n",
    "import itertools\n",
    "import warnings\n",
    "import shutil\n",
    "warnings.filterwarnings(\"ignore\")\n",
    "\n",
    "import scipy as sp\n",
    "import numpy as np\n",
    "import pandas as pd\n",
    "pd.set_option('display.max_rows', 500)\n",
    "pd.set_option('display.max_columns', 500)\n",
    "pd.set_option('display.width', 1000)\n",
    "from tqdm.auto import tqdm\n",
    "from sklearn.metrics import mean_squared_error\n",
    "from sklearn.model_selection import StratifiedKFold, GroupKFold, KFold\n",
    "\n",
    "os.system('pip install iterative-stratification==0.1.7')\n",
    "from iterstrat.ml_stratifiers import MultilabelStratifiedKFold\n",
    "\n",
    "import torch\n",
    "import torch.nn as nn\n",
    "from torch.nn import Parameter\n",
    "import torch.nn.functional as F\n",
    "from torch.optim import Adam, SGD, AdamW\n",
    "from torch.utils.data import DataLoader, Dataset\n",
    "\n",
    "os.system('pip uninstall -y transformers')\n",
    "os.system('pip uninstall -y tokenizers')\n",
    "os.system('python -m pip install --no-index --find-links=/home/jupyter/code_baseline/FB3_pip_wheels transformers')\n",
    "os.system('python -m pip install --no-index --find-links=/home/jupyter/code_baseline/FB3_pip_wheels tokenizers')\n",
    "import tokenizers\n",
    "import transformers\n",
    "# print(f\"tokenizers.__version__: {tokenizers.__version__}\")\n",
    "# print(f\"transformers.__version__: {transformers.__version__}\")\n",
    "from transformers import AutoTokenizer, AutoModel, AutoConfig\n",
    "from transformers import get_linear_schedule_with_warmup, get_cosine_schedule_with_warmup\n",
    "%env TOKENIZERS_PARALLELISM=true\n",
    "\n",
    "device = torch.device('cuda' if torch.cuda.is_available() else 'cpu')"
   ]
  },
  {
   "cell_type": "markdown",
   "metadata": {
    "papermill": {
     "duration": 0.007998,
     "end_time": "2022-08-31T07:03:04.079768",
     "exception": false,
     "start_time": "2022-08-31T07:03:04.07177",
     "status": "completed"
    },
    "tags": []
   },
   "source": [
    "# Utils"
   ]
  },
  {
   "cell_type": "code",
   "execution_count": 6,
   "metadata": {
    "papermill": {
     "duration": 0.024132,
     "end_time": "2022-08-31T07:03:04.111108",
     "exception": false,
     "start_time": "2022-08-31T07:03:04.086976",
     "status": "completed"
    },
    "tags": []
   },
   "outputs": [],
   "source": [
    "# ====================================================\n",
    "# Utils\n",
    "# ====================================================\n",
    "def MCRMSE(y_trues, y_preds):\n",
    "    scores = []\n",
    "    idxes = y_trues.shape[1]\n",
    "    for i in range(idxes):\n",
    "        y_true = y_trues[:,i]\n",
    "        y_pred = y_preds[:,i]\n",
    "        score = mean_squared_error(y_true, y_pred, squared=False) # RMSE\n",
    "        scores.append(score)\n",
    "    mcrmse_score = np.mean(scores)\n",
    "    return mcrmse_score, scores\n",
    "\n",
    "\n",
    "def get_score(y_trues, y_preds):\n",
    "    mcrmse_score, scores = MCRMSE(y_trues, y_preds)\n",
    "    return mcrmse_score, scores\n",
    "\n",
    "\n",
    "def get_logger(filename=OUTPUT_DIR+'train'):\n",
    "    from logging import getLogger, INFO, StreamHandler, FileHandler, Formatter\n",
    "    logger = getLogger(__name__)\n",
    "    logger.setLevel(INFO)\n",
    "    handler1 = StreamHandler()\n",
    "    handler1.setFormatter(Formatter(\"%(message)s\"))\n",
    "    handler2 = FileHandler(filename=f\"{filename}.log\")\n",
    "    handler2.setFormatter(Formatter(\"%(message)s\"))\n",
    "    logger.addHandler(handler1)\n",
    "    logger.addHandler(handler2)\n",
    "    return logger\n",
    "\n",
    "LOGGER = get_logger()\n",
    "\n",
    "\n",
    "def seed_everything(seed=42):\n",
    "    random.seed(seed)\n",
    "    os.environ['PYTHONHASHSEED'] = str(seed)\n",
    "    np.random.seed(seed)\n",
    "    torch.manual_seed(seed)\n",
    "    torch.cuda.manual_seed(seed)\n",
    "    torch.backends.cudnn.deterministic = True\n",
    "    \n",
    "seed_everything(seed=42)"
   ]
  },
  {
   "cell_type": "markdown",
   "metadata": {
    "papermill": {
     "duration": 0.012589,
     "end_time": "2022-08-31T07:03:04.13341",
     "exception": false,
     "start_time": "2022-08-31T07:03:04.120821",
     "status": "completed"
    },
    "tags": []
   },
   "source": [
    "# Data Loading"
   ]
  },
  {
   "cell_type": "code",
   "execution_count": 7,
   "metadata": {
    "papermill": {
     "duration": 0.242687,
     "end_time": "2022-08-31T07:03:04.383434",
     "exception": false,
     "start_time": "2022-08-31T07:03:04.140747",
     "status": "completed"
    },
    "tags": []
   },
   "outputs": [],
   "source": [
    "# ====================================================\n",
    "# Data Loading\n",
    "# ====================================================\n",
    "\n",
    "train = pd.read_csv(path+'train.csv')\n",
    "test = pd.read_csv(path+'test.csv')\n",
    "submission = pd.read_csv(path+'sample_submission.csv')\n",
    "\n",
    "Fold = MultilabelStratifiedKFold(n_splits=CFG.n_fold, shuffle=True, random_state=CFG.seed)\n",
    "for n, (train_index, val_index) in enumerate(Fold.split(train, train[CFG.target_cols])):\n",
    "    train.loc[val_index, 'fold'] = int(n)\n",
    "train['fold'] = train['fold'].astype(int)\n",
    "\n",
    "if CFG.DEBUG:\n",
    "    # display(train.groupby('fold').size())\n",
    "    train = train.sample(n=50, random_state=0).reset_index(drop=True)\n",
    "    # display(train.groupby('fold').size())"
   ]
  },
  {
   "cell_type": "markdown",
   "metadata": {
    "papermill": {
     "duration": 0.007561,
     "end_time": "2022-08-31T07:03:04.604916",
     "exception": false,
     "start_time": "2022-08-31T07:03:04.597355",
     "status": "completed"
    },
    "tags": []
   },
   "source": [
    "# tokenizer"
   ]
  },
  {
   "cell_type": "code",
   "execution_count": 8,
   "metadata": {
    "papermill": {
     "duration": 7.351568,
     "end_time": "2022-08-31T07:03:11.964298",
     "exception": false,
     "start_time": "2022-08-31T07:03:04.61273",
     "status": "completed"
    },
    "tags": []
   },
   "outputs": [],
   "source": [
    "# ====================================================\n",
    "# tokenizer models/roberta/roberta-base/config.json\n",
    "# ====================================================\n",
    "tokenizer = AutoTokenizer.from_pretrained(f\"/home/jupyter/models/{CFG.model}/\")\n",
    "CFG.tokenizer = tokenizer"
   ]
  },
  {
   "cell_type": "markdown",
   "metadata": {
    "papermill": {
     "duration": 0.008127,
     "end_time": "2022-08-31T07:03:11.985369",
     "exception": false,
     "start_time": "2022-08-31T07:03:11.977242",
     "status": "completed"
    },
    "tags": []
   },
   "source": [
    "# Dataset"
   ]
  },
  {
   "cell_type": "code",
   "execution_count": 9,
   "metadata": {
    "papermill": {
     "duration": 5.893032,
     "end_time": "2022-08-31T07:03:17.886504",
     "exception": false,
     "start_time": "2022-08-31T07:03:11.993472",
     "status": "completed"
    },
    "tags": []
   },
   "outputs": [],
   "source": [
    "# ====================================================\n",
    "# Define max_len\n",
    "# ====================================================\n",
    "# lengths = []\n",
    "# tk0 = tqdm(train['full_text'].fillna(\"\").values, total=len(train))\n",
    "# for text in tk0:\n",
    "#     length = len(tokenizer(text, add_special_tokens=False)['input_ids'])\n",
    "#     lengths.append(length)\n",
    "# CFG.max_len = max(lengths) + 3 # cls & sep & sep\n",
    "# LOGGER.info(f\"max_len: {CFG.max_len}\")"
   ]
  },
  {
   "cell_type": "code",
   "execution_count": 10,
   "metadata": {
    "papermill": {
     "duration": 0.020447,
     "end_time": "2022-08-31T07:03:17.916566",
     "exception": false,
     "start_time": "2022-08-31T07:03:17.896119",
     "status": "completed"
    },
    "tags": []
   },
   "outputs": [],
   "source": [
    "# ====================================================\n",
    "# Dataset\n",
    "# ====================================================\n",
    "def prepare_input(cfg, text):\n",
    "    inputs = cfg.tokenizer.encode_plus(\n",
    "        text, \n",
    "        return_tensors=None, \n",
    "        add_special_tokens=True, \n",
    "        max_length=CFG.max_len,\n",
    "        pad_to_max_length=True,\n",
    "        truncation=True\n",
    "    )\n",
    "    for k, v in inputs.items():\n",
    "        inputs[k] = torch.tensor(v, dtype=torch.long)\n",
    "    return inputs\n",
    "\n",
    "\n",
    "class TrainDataset(Dataset):\n",
    "    def __init__(self, cfg, df):\n",
    "        self.cfg = cfg\n",
    "        self.texts = df['full_text'].values\n",
    "        self.labels = df[cfg.target_cols].values\n",
    "\n",
    "    def __len__(self):\n",
    "        return len(self.texts)\n",
    "\n",
    "    def __getitem__(self, item):\n",
    "        inputs = prepare_input(self.cfg, self.texts[item])\n",
    "        label = torch.tensor(self.labels[item], dtype=torch.float)\n",
    "        return inputs, label\n",
    "    \n",
    "\n",
    "def collate(inputs):\n",
    "    mask_len = int(inputs[\"attention_mask\"].sum(axis=1).max())\n",
    "    for k, v in inputs.items():\n",
    "        inputs[k] = inputs[k][:,:mask_len]\n",
    "    return inputs"
   ]
  },
  {
   "cell_type": "markdown",
   "metadata": {
    "papermill": {
     "duration": 0.008073,
     "end_time": "2022-08-31T07:03:17.933189",
     "exception": false,
     "start_time": "2022-08-31T07:03:17.925116",
     "status": "completed"
    },
    "tags": []
   },
   "source": [
    "# Model"
   ]
  },
  {
   "cell_type": "code",
   "execution_count": 11,
   "metadata": {
    "papermill": {
     "duration": 0.033105,
     "end_time": "2022-08-31T07:03:17.97447",
     "exception": false,
     "start_time": "2022-08-31T07:03:17.941365",
     "status": "completed"
    },
    "tags": []
   },
   "outputs": [],
   "source": [
    "# ====================================================\n",
    "# Model\n",
    "# ====================================================\n",
    "#MeanPoolingはoutput_hidden_statesに関係している   https://qiita.com/niship2/items/f84751aed893da869cec\n",
    "class MeanPooling(nn.Module):\n",
    "    def __init__(self):\n",
    "        super(MeanPooling, self).__init__()\n",
    "        \n",
    "    def forward(self, last_hidden_state, attention_mask):\n",
    "        input_mask_expanded = attention_mask.unsqueeze(-1).expand(last_hidden_state.size()).float()\n",
    "        sum_embeddings = torch.sum(last_hidden_state * input_mask_expanded, 1)\n",
    "        sum_mask = input_mask_expanded.sum(1)\n",
    "        sum_mask = torch.clamp(sum_mask, min=1e-9)\n",
    "        mean_embeddings = sum_embeddings / sum_mask\n",
    "        return mean_embeddings\n",
    "    \n",
    "\n",
    "class CustomModel(nn.Module):\n",
    "    def __init__(self, cfg, config_path=None, pretrained=False):\n",
    "        super().__init__()\n",
    "        self.cfg = cfg\n",
    "        if config_path is None:\n",
    "            self.config = AutoConfig.from_pretrained(cfg.model_config_path, output_hidden_states=True)\n",
    "            self.config.hidden_dropout = 0.\n",
    "            self.config.hidden_dropout_prob = 0.\n",
    "            self.config.attention_dropout = 0.\n",
    "            self.config.attention_probs_dropout_prob = 0.\n",
    "            LOGGER.info(self.config)\n",
    "        else:\n",
    "            self.config = torch.load(config_path)\n",
    "        if pretrained:\n",
    "            self.model = AutoModel.from_pretrained(cfg.model_bin_path, config=self.config)\n",
    "        else:\n",
    "            self.model = AutoModel(self.config)\n",
    "        if self.cfg.gradient_checkpointing:\n",
    "            self.model.gradient_checkpointing_enable()\n",
    "        self.pool = MeanPooling()\n",
    "        self.fc = nn.Linear(self.config.hidden_size, 6)\n",
    "        self._init_weights(self.fc)\n",
    "        \n",
    "    def _init_weights(self, module):\n",
    "        if isinstance(module, nn.Linear):\n",
    "            module.weight.data.normal_(mean=0.0, std=self.config.initializer_range)\n",
    "            if module.bias is not None:\n",
    "                module.bias.data.zero_()\n",
    "        elif isinstance(module, nn.Embedding):\n",
    "            module.weight.data.normal_(mean=0.0, std=self.config.initializer_range)\n",
    "            if module.padding_idx is not None:\n",
    "                module.weight.data[module.padding_idx].zero_()\n",
    "        elif isinstance(module, nn.LayerNorm):\n",
    "            module.bias.data.zero_()\n",
    "            module.weight.data.fill_(1.0)\n",
    "        \n",
    "    def feature(self, inputs):\n",
    "        outputs = self.model(**inputs)\n",
    "        last_hidden_states = outputs[0]\n",
    "        feature = self.pool(last_hidden_states, inputs['attention_mask'])\n",
    "        return feature\n",
    "\n",
    "    def forward(self, inputs):\n",
    "        feature = self.feature(inputs)\n",
    "        output = self.fc(feature)\n",
    "        return output"
   ]
  },
  {
   "cell_type": "code",
   "execution_count": 12,
   "metadata": {},
   "outputs": [],
   "source": [
    "# model_config_path = f\"/home/jupyter/models/deberta/{model}/model\"\n",
    "# model_bin_path = f\"/home/jupyter/models/deberta/{CFG.model}/model\""
   ]
  },
  {
   "cell_type": "code",
   "execution_count": 13,
   "metadata": {},
   "outputs": [],
   "source": [
    "# conf = AutoConfig.from_pretrained(f\"/home/jupyter/models/deberta/{CFG.model}/model\", output_hidden_states=True)\n",
    "# AutoModel.from_pretrained(f\"/home/jupyter/models/deberta/{CFG.model}/model\", config=conf)"
   ]
  },
  {
   "cell_type": "markdown",
   "metadata": {
    "papermill": {
     "duration": 0.008106,
     "end_time": "2022-08-31T07:03:17.993861",
     "exception": false,
     "start_time": "2022-08-31T07:03:17.985755",
     "status": "completed"
    },
    "tags": []
   },
   "source": [
    "# Loss"
   ]
  },
  {
   "cell_type": "code",
   "execution_count": 14,
   "metadata": {
    "papermill": {
     "duration": 0.021697,
     "end_time": "2022-08-31T07:03:18.02376",
     "exception": false,
     "start_time": "2022-08-31T07:03:18.002063",
     "status": "completed"
    },
    "tags": []
   },
   "outputs": [],
   "source": [
    "# ====================================================\n",
    "# Loss\n",
    "# ====================================================\n",
    "class RMSELoss(nn.Module):\n",
    "    def __init__(self, reduction='mean', eps=1e-9):\n",
    "        super().__init__()\n",
    "        self.mse = nn.MSELoss(reduction='none')\n",
    "        self.reduction = reduction\n",
    "        self.eps = eps\n",
    "\n",
    "    def forward(self, y_pred, y_true):\n",
    "        loss = torch.sqrt(self.mse(y_pred, y_true) + self.eps)\n",
    "        if self.reduction == 'none':\n",
    "            loss = loss\n",
    "        elif self.reduction == 'sum':\n",
    "            loss = loss.sum()\n",
    "        elif self.reduction == 'mean':\n",
    "            loss = loss.mean()\n",
    "        return loss"
   ]
  },
  {
   "cell_type": "markdown",
   "metadata": {
    "papermill": {
     "duration": 0.008452,
     "end_time": "2022-08-31T07:03:18.041557",
     "exception": false,
     "start_time": "2022-08-31T07:03:18.033105",
     "status": "completed"
    },
    "tags": []
   },
   "source": [
    "# Helpler functions"
   ]
  },
  {
   "cell_type": "code",
   "execution_count": 15,
   "metadata": {
    "papermill": {
     "duration": 0.030759,
     "end_time": "2022-08-31T07:03:18.08056",
     "exception": false,
     "start_time": "2022-08-31T07:03:18.049801",
     "status": "completed"
    },
    "tags": []
   },
   "outputs": [],
   "source": [
    "# ====================================================\n",
    "# Helper functions\n",
    "# ====================================================\n",
    "class AverageMeter(object):\n",
    "    \"\"\"Computes and stores the average and current value\"\"\"\n",
    "    def __init__(self):\n",
    "        self.reset()\n",
    "\n",
    "    def reset(self):\n",
    "        self.val = 0\n",
    "        self.avg = 0\n",
    "        self.sum = 0\n",
    "        self.count = 0\n",
    "\n",
    "    def update(self, val, n=1):\n",
    "        self.val = val\n",
    "        self.sum += val * n\n",
    "        self.count += n\n",
    "        self.avg = self.sum / self.count\n",
    "\n",
    "\n",
    "def asMinutes(s):\n",
    "    m = math.floor(s / 60)\n",
    "    s -= m * 60\n",
    "    return '%dm %ds' % (m, s)\n",
    "\n",
    "\n",
    "def timeSince(since, percent):\n",
    "    now = time.time()\n",
    "    s = now - since\n",
    "    es = s / (percent)\n",
    "    rs = es - s\n",
    "    return '%s (remain %s)' % (asMinutes(s), asMinutes(rs))\n",
    "\n",
    "\n",
    "def train_fn(fold, train_loader, model, criterion, optimizer, epoch, scheduler, device):\n",
    "    model.train()\n",
    "    scaler = torch.cuda.amp.GradScaler(enabled=CFG.apex)\n",
    "    losses = AverageMeter()\n",
    "    start = end = time.time()\n",
    "    global_step = 0\n",
    "    for step, (inputs, labels) in enumerate(train_loader):\n",
    "        inputs = collate(inputs)\n",
    "        for k, v in inputs.items():\n",
    "            inputs[k] = v.to(device)\n",
    "        labels = labels.to(device)\n",
    "        batch_size = labels.size(0)\n",
    "        with torch.cuda.amp.autocast(enabled=CFG.apex):\n",
    "            y_preds = model(inputs)\n",
    "            loss = criterion(y_preds, labels)\n",
    "        if CFG.gradient_accumulation_steps > 1:\n",
    "            loss = loss / CFG.gradient_accumulation_steps\n",
    "        losses.update(loss.item(), batch_size)\n",
    "        scaler.scale(loss).backward()\n",
    "        grad_norm = torch.nn.utils.clip_grad_norm_(model.parameters(), CFG.max_grad_norm)\n",
    "        if (step + 1) % CFG.gradient_accumulation_steps == 0:\n",
    "            scaler.step(optimizer)\n",
    "            scaler.update()\n",
    "            optimizer.zero_grad()\n",
    "            global_step += 1\n",
    "            if CFG.batch_scheduler:\n",
    "                scheduler.step()\n",
    "        end = time.time()\n",
    "        if step % CFG.print_freq == 0 or step == (len(train_loader)-1):\n",
    "            print('Epoch: [{0}][{1}/{2}] '\n",
    "                  'Elapsed {remain:s} '\n",
    "                  'Loss: {loss.val:.4f}({loss.avg:.4f}) '\n",
    "                  'Grad: {grad_norm:.4f}  '\n",
    "                  'LR: {lr:.8f}  '\n",
    "                  .format(epoch+1, step, len(train_loader), \n",
    "                          remain=timeSince(start, float(step+1)/len(train_loader)),\n",
    "                          loss=losses,\n",
    "                          grad_norm=grad_norm,\n",
    "                          lr=scheduler.get_lr()[0]))\n",
    "        if CFG.wandb:\n",
    "            wandb.log({f\"[fold{fold}] loss\": losses.val,\n",
    "                       f\"[fold{fold}] lr\": scheduler.get_lr()[0]})\n",
    "    return losses.avg\n",
    "\n",
    "\n",
    "def valid_fn(valid_loader, model, criterion, device):\n",
    "    losses = AverageMeter()\n",
    "    model.eval()\n",
    "    preds = []\n",
    "    start = end = time.time()\n",
    "    for step, (inputs, labels) in enumerate(valid_loader):\n",
    "        inputs = collate(inputs)\n",
    "        for k, v in inputs.items():\n",
    "            inputs[k] = v.to(device)\n",
    "        labels = labels.to(device)\n",
    "        batch_size = labels.size(0)\n",
    "        with torch.no_grad():\n",
    "            y_preds = model(inputs)\n",
    "            loss = criterion(y_preds, labels)\n",
    "        if CFG.gradient_accumulation_steps > 1:\n",
    "            loss = loss / CFG.gradient_accumulation_steps\n",
    "        losses.update(loss.item(), batch_size)\n",
    "        preds.append(y_preds.to('cpu').numpy())\n",
    "        end = time.time()\n",
    "        if step % CFG.print_freq == 0 or step == (len(valid_loader)-1):\n",
    "            print('EVAL: [{0}/{1}] '\n",
    "                  'Elapsed {remain:s} '\n",
    "                  'Loss: {loss.val:.4f}({loss.avg:.4f}) '\n",
    "                  .format(step, len(valid_loader),\n",
    "                          loss=losses,\n",
    "                          remain=timeSince(start, float(step+1)/len(valid_loader))))\n",
    "    predictions = np.concatenate(preds)\n",
    "    return losses.avg, predictions"
   ]
  },
  {
   "cell_type": "markdown",
   "metadata": {
    "papermill": {
     "duration": 0.0081,
     "end_time": "2022-08-31T07:03:18.100232",
     "exception": false,
     "start_time": "2022-08-31T07:03:18.092132",
     "status": "completed"
    },
    "tags": []
   },
   "source": [
    "# train loop"
   ]
  },
  {
   "cell_type": "code",
   "execution_count": 16,
   "metadata": {
    "papermill": {
     "duration": 0.033332,
     "end_time": "2022-08-31T07:03:18.141812",
     "exception": false,
     "start_time": "2022-08-31T07:03:18.10848",
     "status": "completed"
    },
    "tags": []
   },
   "outputs": [],
   "source": [
    "# ====================================================\n",
    "# train loop\n",
    "# ====================================================\n",
    "def train_loop(folds, fold):\n",
    "    \n",
    "    LOGGER.info(f\"========== fold: {fold} training ==========\")\n",
    "\n",
    "    # ====================================================\n",
    "    # loader\n",
    "    # ====================================================\n",
    "    train_folds = folds[folds['fold'] != fold].reset_index(drop=True)\n",
    "    valid_folds = folds[folds['fold'] == fold].reset_index(drop=True)\n",
    "    valid_labels = valid_folds[CFG.target_cols].values\n",
    "    \n",
    "    train_dataset = TrainDataset(CFG, train_folds)\n",
    "    valid_dataset = TrainDataset(CFG, valid_folds)\n",
    "\n",
    "    train_loader = DataLoader(train_dataset,\n",
    "                              batch_size=CFG.batch_size,\n",
    "                              shuffle=True,\n",
    "                              num_workers=CFG.num_workers, pin_memory=True, drop_last=True)\n",
    "    valid_loader = DataLoader(valid_dataset,\n",
    "                              batch_size=CFG.batch_size * 2,\n",
    "                              shuffle=False,\n",
    "                              num_workers=CFG.num_workers, pin_memory=True, drop_last=False)\n",
    "\n",
    "    # ====================================================\n",
    "    # model & optimizer\n",
    "    # ====================================================\n",
    "    model = CustomModel(CFG, config_path=None, pretrained=True)\n",
    "    torch.save(model.config, OUTPUT_DIR+'config.pth')\n",
    "    model.to(device)\n",
    "    \n",
    "    def get_optimizer_params(model, encoder_lr, decoder_lr, weight_decay=0.0):\n",
    "        param_optimizer = list(model.named_parameters())\n",
    "        no_decay = [\"bias\", \"LayerNorm.bias\", \"LayerNorm.weight\"]\n",
    "        optimizer_parameters = [\n",
    "            {'params': [p for n, p in model.model.named_parameters() if not any(nd in n for nd in no_decay)],\n",
    "             'lr': encoder_lr, 'weight_decay': weight_decay},\n",
    "            {'params': [p for n, p in model.model.named_parameters() if any(nd in n for nd in no_decay)],\n",
    "             'lr': encoder_lr, 'weight_decay': 0.0},\n",
    "            {'params': [p for n, p in model.named_parameters() if \"model\" not in n],\n",
    "             'lr': decoder_lr, 'weight_decay': 0.0}\n",
    "        ]\n",
    "        return optimizer_parameters\n",
    "\n",
    "    optimizer_parameters = get_optimizer_params(model,\n",
    "                                                encoder_lr=CFG.encoder_lr, \n",
    "                                                decoder_lr=CFG.decoder_lr,\n",
    "                                                weight_decay=CFG.weight_decay)\n",
    "    optimizer = AdamW(optimizer_parameters, lr=CFG.encoder_lr, eps=CFG.eps, betas=CFG.betas)\n",
    "    \n",
    "    # ====================================================\n",
    "    # scheduler\n",
    "    # ====================================================\n",
    "    def get_scheduler(cfg, optimizer, num_train_steps):\n",
    "        if cfg.scheduler == 'linear':\n",
    "            scheduler = get_linear_schedule_with_warmup(\n",
    "                optimizer, num_warmup_steps=cfg.num_warmup_steps, num_training_steps=num_train_steps\n",
    "            )\n",
    "        elif cfg.scheduler == 'cosine':\n",
    "            scheduler = get_cosine_schedule_with_warmup(\n",
    "                optimizer, num_warmup_steps=cfg.num_warmup_steps, num_training_steps=num_train_steps, num_cycles=cfg.num_cycles\n",
    "            )\n",
    "        return scheduler\n",
    "    \n",
    "    num_train_steps = int(len(train_folds) / CFG.batch_size * CFG.epochs)\n",
    "    scheduler = get_scheduler(CFG, optimizer, num_train_steps)\n",
    "\n",
    "    # ====================================================\n",
    "    # loop\n",
    "    # ====================================================\n",
    "    criterion = nn.SmoothL1Loss(reduction='mean') # RMSELoss(reduction=\"mean\")\n",
    "    \n",
    "    best_score = np.inf\n",
    "    patience = CFG.patience\n",
    "    for epoch in range(CFG.epochs):\n",
    "\n",
    "        start_time = time.time()\n",
    "\n",
    "        # train\n",
    "        avg_loss = train_fn(fold, train_loader, model, criterion, optimizer, epoch, scheduler, device)\n",
    "\n",
    "        # eval\n",
    "        avg_val_loss, predictions = valid_fn(valid_loader, model, criterion, device)\n",
    "        \n",
    "        # scoring\n",
    "        score, scores = get_score(valid_labels, predictions)\n",
    "\n",
    "        elapsed = time.time() - start_time\n",
    "\n",
    "        LOGGER.info(f'Epoch {epoch+1} - avg_train_loss: {avg_loss:.4f}  avg_val_loss: {avg_val_loss:.4f}  time: {elapsed:.0f}s')\n",
    "        LOGGER.info(f'Epoch {epoch+1} - Score: {score:.4f}  Scores: {scores}')\n",
    "        if CFG.wandb:\n",
    "            wandb.log({f\"[fold{fold}] epoch\": epoch+1, \n",
    "                       f\"[fold{fold}] avg_train_loss\": avg_loss, \n",
    "                       f\"[fold{fold}] avg_val_loss\": avg_val_loss,\n",
    "                       f\"[fold{fold}] score\": score})\n",
    "        \n",
    "        if best_score > score:\n",
    "            best_score = score\n",
    "            LOGGER.info(f'Epoch {epoch+1} - Save Best Score: {best_score:.4f} Model')\n",
    "            torch.save({'model': model.state_dict(),\n",
    "                        'predictions': predictions},\n",
    "                        OUTPUT_DIR+f\"{CFG.model.replace('/', '-')}_fold{fold}_best.pth\")\n",
    "            patience = CFG.patience\n",
    "        else:\n",
    "            patience -= 1\n",
    "            if patience<=0:\n",
    "                break\n",
    "\n",
    "    predictions = torch.load(OUTPUT_DIR+f\"{CFG.model.replace('/', '-')}_fold{fold}_best.pth\", \n",
    "                             map_location=torch.device('cpu'))['predictions']\n",
    "    valid_folds[[f\"pred_{c}\" for c in CFG.target_cols]] = predictions\n",
    "\n",
    "    torch.cuda.empty_cache()\n",
    "    gc.collect()\n",
    "    \n",
    "    return valid_folds"
   ]
  },
  {
   "cell_type": "code",
   "execution_count": 17,
   "metadata": {
    "papermill": {
     "duration": 11935.46951,
     "end_time": "2022-08-31T10:22:13.621316",
     "exception": false,
     "start_time": "2022-08-31T07:03:18.151806",
     "status": "completed"
    },
    "tags": []
   },
   "outputs": [
    {
     "name": "stderr",
     "output_type": "stream",
     "text": [
      "========== fold: 0 training ==========\n",
      "BertConfig {\n",
      "  \"_name_or_path\": \"/home/jupyter/models/bert/base-uncased/\",\n",
      "  \"architectures\": [\n",
      "    \"BertForMaskedLM\"\n",
      "  ],\n",
      "  \"attention_dropout\": 0.0,\n",
      "  \"attention_probs_dropout_prob\": 0.0,\n",
      "  \"classifier_dropout\": null,\n",
      "  \"gradient_checkpointing\": false,\n",
      "  \"hidden_act\": \"gelu\",\n",
      "  \"hidden_dropout\": 0.0,\n",
      "  \"hidden_dropout_prob\": 0.0,\n",
      "  \"hidden_size\": 768,\n",
      "  \"initializer_range\": 0.02,\n",
      "  \"intermediate_size\": 3072,\n",
      "  \"layer_norm_eps\": 1e-12,\n",
      "  \"max_position_embeddings\": 512,\n",
      "  \"model_type\": \"bert\",\n",
      "  \"num_attention_heads\": 12,\n",
      "  \"num_hidden_layers\": 12,\n",
      "  \"output_hidden_states\": true,\n",
      "  \"pad_token_id\": 0,\n",
      "  \"position_embedding_type\": \"absolute\",\n",
      "  \"transformers_version\": \"4.21.2\",\n",
      "  \"type_vocab_size\": 2,\n",
      "  \"use_cache\": true,\n",
      "  \"vocab_size\": 30522\n",
      "}\n",
      "\n",
      "Some weights of the model checkpoint at /home/jupyter/models/bert/base-uncased/ were not used when initializing BertModel: ['cls.predictions.bias', 'cls.seq_relationship.weight', 'cls.predictions.transform.dense.weight', 'cls.predictions.transform.dense.bias', 'cls.predictions.decoder.weight', 'cls.predictions.transform.LayerNorm.bias', 'cls.predictions.transform.LayerNorm.weight', 'cls.seq_relationship.bias']\n",
      "- This IS expected if you are initializing BertModel from the checkpoint of a model trained on another task or with another architecture (e.g. initializing a BertForSequenceClassification model from a BertForPreTraining model).\n",
      "- This IS NOT expected if you are initializing BertModel from the checkpoint of a model that you expect to be exactly identical (initializing a BertForSequenceClassification model from a BertForSequenceClassification model).\n"
     ]
    },
    {
     "name": "stdout",
     "output_type": "stream",
     "text": [
      "Epoch: [1][0/366] Elapsed 0m 1s (remain 8m 27s) Loss: 2.4733(2.4733) Grad: 321285.6250  LR: 0.00002000  \n",
      "Epoch: [1][20/366] Elapsed 0m 9s (remain 2m 34s) Loss: 0.2371(1.3345) Grad: 63837.7930  LR: 0.00002000  \n",
      "Epoch: [1][40/366] Elapsed 0m 17s (remain 2m 21s) Loss: 0.2085(0.7864) Grad: 31567.1113  LR: 0.00001999  \n",
      "Epoch: [1][60/366] Elapsed 0m 26s (remain 2m 11s) Loss: 0.1143(0.5921) Grad: 22287.4883  LR: 0.00001999  \n",
      "Epoch: [1][80/366] Elapsed 0m 34s (remain 2m 2s) Loss: 0.1797(0.4959) Grad: 86597.0703  LR: 0.00001998  \n",
      "Epoch: [1][100/366] Elapsed 0m 43s (remain 1m 53s) Loss: 0.3377(0.4345) Grad: 102879.6797  LR: 0.00001996  \n",
      "Epoch: [1][120/366] Elapsed 0m 52s (remain 1m 45s) Loss: 0.2782(0.3971) Grad: 69509.2891  LR: 0.00001995  \n",
      "Epoch: [1][140/366] Elapsed 1m 0s (remain 1m 37s) Loss: 0.1142(0.3606) Grad: 25844.5020  LR: 0.00001993  \n",
      "Epoch: [1][160/366] Elapsed 1m 9s (remain 1m 28s) Loss: 0.1085(0.3335) Grad: 41502.4766  LR: 0.00001990  \n",
      "Epoch: [1][180/366] Elapsed 1m 17s (remain 1m 19s) Loss: 0.1912(0.3162) Grad: 31963.5742  LR: 0.00001988  \n",
      "Epoch: [1][200/366] Elapsed 1m 26s (remain 1m 11s) Loss: 0.1144(0.2993) Grad: 37723.5625  LR: 0.00001985  \n",
      "Epoch: [1][220/366] Elapsed 1m 34s (remain 1m 2s) Loss: 0.0925(0.2845) Grad: 24803.1074  LR: 0.00001982  \n",
      "Epoch: [1][240/366] Elapsed 1m 43s (remain 0m 53s) Loss: 0.1851(0.2726) Grad: 32622.2070  LR: 0.00001979  \n",
      "Epoch: [1][260/366] Elapsed 1m 51s (remain 0m 44s) Loss: 0.1505(0.2609) Grad: 51082.4023  LR: 0.00001975  \n",
      "Epoch: [1][280/366] Elapsed 2m 0s (remain 0m 36s) Loss: 0.1330(0.2510) Grad: 70438.2734  LR: 0.00001971  \n",
      "Epoch: [1][300/366] Elapsed 2m 8s (remain 0m 27s) Loss: 0.2027(0.2424) Grad: 56280.1250  LR: 0.00001967  \n",
      "Epoch: [1][320/366] Elapsed 2m 17s (remain 0m 19s) Loss: 0.1450(0.2351) Grad: 34819.0078  LR: 0.00001962  \n",
      "Epoch: [1][340/366] Elapsed 2m 26s (remain 0m 10s) Loss: 0.1599(0.2285) Grad: 50994.6992  LR: 0.00001958  \n",
      "Epoch: [1][360/366] Elapsed 2m 34s (remain 0m 2s) Loss: 0.0930(0.2233) Grad: 16156.2695  LR: 0.00001953  \n",
      "Epoch: [1][365/366] Elapsed 2m 36s (remain 0m 0s) Loss: 0.0931(0.2221) Grad: 41598.9297  LR: 0.00001951  \n",
      "EVAL: [0/62] Elapsed 0m 0s (remain 0m 46s) Loss: 0.1038(0.1038) \n",
      "EVAL: [20/62] Elapsed 0m 12s (remain 0m 24s) Loss: 0.0906(0.1183) \n",
      "EVAL: [40/62] Elapsed 0m 24s (remain 0m 12s) Loss: 0.0911(0.1186) \n"
     ]
    },
    {
     "name": "stderr",
     "output_type": "stream",
     "text": [
      "Epoch 1 - avg_train_loss: 0.2221  avg_val_loss: 0.1220  time: 193s\n",
      "Epoch 1 - Score: 0.4955  Scores: [0.5300076869819186, 0.4921409852012469, 0.44275635273547154, 0.49177715442949277, 0.5323197305940262, 0.48378859965188586]\n",
      "Epoch 1 - Save Best Score: 0.4955 Model\n"
     ]
    },
    {
     "name": "stdout",
     "output_type": "stream",
     "text": [
      "EVAL: [60/62] Elapsed 0m 36s (remain 0m 0s) Loss: 0.1095(0.1220) \n",
      "EVAL: [61/62] Elapsed 0m 36s (remain 0m 0s) Loss: 0.1142(0.1220) \n",
      "Epoch: [2][0/366] Elapsed 0m 0s (remain 3m 46s) Loss: 0.0687(0.0687) Grad: 59707.7422  LR: 0.00001951  \n",
      "Epoch: [2][20/366] Elapsed 0m 9s (remain 2m 30s) Loss: 0.0932(0.1181) Grad: 89640.3750  LR: 0.00001946  \n",
      "Epoch: [2][40/366] Elapsed 0m 17s (remain 2m 20s) Loss: 0.0761(0.1132) Grad: 116138.7734  LR: 0.00001940  \n",
      "Epoch: [2][60/366] Elapsed 0m 26s (remain 2m 11s) Loss: 0.0758(0.1101) Grad: 73877.0156  LR: 0.00001934  \n",
      "Epoch: [2][80/366] Elapsed 0m 34s (remain 2m 2s) Loss: 0.1473(0.1135) Grad: 120327.3125  LR: 0.00001928  \n",
      "Epoch: [2][100/366] Elapsed 0m 43s (remain 1m 54s) Loss: 0.1036(0.1126) Grad: 178035.6875  LR: 0.00001921  \n",
      "Epoch: [2][120/366] Elapsed 0m 52s (remain 1m 45s) Loss: 0.0622(0.1106) Grad: 114978.1094  LR: 0.00001914  \n",
      "Epoch: [2][140/366] Elapsed 1m 0s (remain 1m 36s) Loss: 0.0796(0.1100) Grad: 143495.7188  LR: 0.00001907  \n",
      "Epoch: [2][160/366] Elapsed 1m 9s (remain 1m 28s) Loss: 0.1218(0.1095) Grad: 123181.3203  LR: 0.00001900  \n",
      "Epoch: [2][180/366] Elapsed 1m 17s (remain 1m 19s) Loss: 0.0778(0.1095) Grad: 119866.7969  LR: 0.00001892  \n",
      "Epoch: [2][200/366] Elapsed 1m 26s (remain 1m 10s) Loss: 0.0914(0.1097) Grad: 151307.5156  LR: 0.00001884  \n",
      "Epoch: [2][220/366] Elapsed 1m 34s (remain 1m 2s) Loss: 0.1092(0.1090) Grad: 125962.1328  LR: 0.00001876  \n",
      "Epoch: [2][240/366] Elapsed 1m 43s (remain 0m 53s) Loss: 0.0920(0.1082) Grad: 174135.1250  LR: 0.00001868  \n",
      "Epoch: [2][260/366] Elapsed 1m 51s (remain 0m 45s) Loss: 0.0745(0.1076) Grad: 128944.5859  LR: 0.00001859  \n",
      "Epoch: [2][280/366] Elapsed 2m 0s (remain 0m 36s) Loss: 0.0999(0.1074) Grad: 100041.4062  LR: 0.00001850  \n",
      "Epoch: [2][300/366] Elapsed 2m 9s (remain 0m 27s) Loss: 0.1313(0.1077) Grad: 77590.3281  LR: 0.00001841  \n",
      "Epoch: [2][320/366] Elapsed 2m 17s (remain 0m 19s) Loss: 0.1323(0.1075) Grad: 209442.7031  LR: 0.00001832  \n",
      "Epoch: [2][340/366] Elapsed 2m 26s (remain 0m 10s) Loss: 0.0809(0.1078) Grad: 118765.2578  LR: 0.00001822  \n",
      "Epoch: [2][360/366] Elapsed 2m 34s (remain 0m 2s) Loss: 0.1249(0.1075) Grad: 142183.6875  LR: 0.00001812  \n",
      "Epoch: [2][365/366] Elapsed 2m 37s (remain 0m 0s) Loss: 0.0637(0.1070) Grad: 81830.4609  LR: 0.00001810  \n",
      "EVAL: [0/62] Elapsed 0m 0s (remain 0m 48s) Loss: 0.0920(0.0920) \n",
      "EVAL: [20/62] Elapsed 0m 12s (remain 0m 24s) Loss: 0.0985(0.1200) \n",
      "EVAL: [40/62] Elapsed 0m 24s (remain 0m 12s) Loss: 0.1066(0.1203) \n"
     ]
    },
    {
     "name": "stderr",
     "output_type": "stream",
     "text": [
      "Epoch 2 - avg_train_loss: 0.1070  avg_val_loss: 0.1247  time: 193s\n",
      "Epoch 2 - Score: 0.5013  Scores: [0.5212660608158588, 0.5094773693597683, 0.45377002044235387, 0.5259477444810792, 0.5241858422338429, 0.4732278993982285]\n"
     ]
    },
    {
     "name": "stdout",
     "output_type": "stream",
     "text": [
      "EVAL: [60/62] Elapsed 0m 36s (remain 0m 0s) Loss: 0.1195(0.1247) \n",
      "EVAL: [61/62] Elapsed 0m 36s (remain 0m 0s) Loss: 0.1301(0.1247) \n",
      "Epoch: [3][0/366] Elapsed 0m 0s (remain 4m 8s) Loss: 0.1195(0.1195) Grad: 218826.5156  LR: 0.00001809  \n",
      "Epoch: [3][20/366] Elapsed 0m 9s (remain 2m 31s) Loss: 0.0749(0.0977) Grad: 69888.8281  LR: 0.00001799  \n",
      "Epoch: [3][40/366] Elapsed 0m 17s (remain 2m 21s) Loss: 0.1321(0.0962) Grad: 91429.3125  LR: 0.00001789  \n",
      "Epoch: [3][60/366] Elapsed 0m 26s (remain 2m 11s) Loss: 0.0856(0.0974) Grad: 72499.7578  LR: 0.00001778  \n",
      "Epoch: [3][80/366] Elapsed 0m 34s (remain 2m 2s) Loss: 0.0743(0.0970) Grad: 89484.9062  LR: 0.00001767  \n",
      "Epoch: [3][100/366] Elapsed 0m 43s (remain 1m 54s) Loss: 0.0875(0.0969) Grad: 189977.4375  LR: 0.00001756  \n",
      "Epoch: [3][120/366] Elapsed 0m 51s (remain 1m 45s) Loss: 0.1406(0.0962) Grad: 87140.7969  LR: 0.00001745  \n",
      "Epoch: [3][140/366] Elapsed 1m 0s (remain 1m 36s) Loss: 0.1441(0.0970) Grad: 211809.7500  LR: 0.00001733  \n",
      "Epoch: [3][160/366] Elapsed 1m 9s (remain 1m 27s) Loss: 0.0955(0.0969) Grad: 259886.8281  LR: 0.00001721  \n",
      "Epoch: [3][180/366] Elapsed 1m 17s (remain 1m 19s) Loss: 0.0756(0.0967) Grad: 75187.6406  LR: 0.00001709  \n",
      "Epoch: [3][200/366] Elapsed 1m 26s (remain 1m 10s) Loss: 0.1070(0.0969) Grad: 151250.0625  LR: 0.00001697  \n",
      "Epoch: [3][220/366] Elapsed 1m 34s (remain 1m 2s) Loss: 0.1013(0.0969) Grad: 91458.0156  LR: 0.00001685  \n",
      "Epoch: [3][240/366] Elapsed 1m 43s (remain 0m 53s) Loss: 0.1212(0.0973) Grad: 172224.3594  LR: 0.00001672  \n",
      "Epoch: [3][260/366] Elapsed 1m 51s (remain 0m 45s) Loss: 0.1328(0.0975) Grad: 152881.1250  LR: 0.00001659  \n",
      "Epoch: [3][280/366] Elapsed 2m 0s (remain 0m 36s) Loss: 0.0765(0.0977) Grad: 94826.2188  LR: 0.00001646  \n",
      "Epoch: [3][300/366] Elapsed 2m 9s (remain 0m 27s) Loss: 0.1627(0.0973) Grad: 267104.3125  LR: 0.00001633  \n",
      "Epoch: [3][320/366] Elapsed 2m 17s (remain 0m 19s) Loss: 0.0717(0.0969) Grad: 87990.5156  LR: 0.00001620  \n",
      "Epoch: [3][340/366] Elapsed 2m 26s (remain 0m 10s) Loss: 0.1280(0.0970) Grad: 161966.5781  LR: 0.00001606  \n",
      "Epoch: [3][360/366] Elapsed 2m 34s (remain 0m 2s) Loss: 0.0885(0.0968) Grad: 103397.1562  LR: 0.00001592  \n",
      "Epoch: [3][365/366] Elapsed 2m 37s (remain 0m 0s) Loss: 0.1437(0.0968) Grad: 390751.5312  LR: 0.00001589  \n",
      "EVAL: [0/62] Elapsed 0m 0s (remain 0m 47s) Loss: 0.0806(0.0806) \n",
      "EVAL: [20/62] Elapsed 0m 12s (remain 0m 24s) Loss: 0.0884(0.1117) \n",
      "EVAL: [40/62] Elapsed 0m 24s (remain 0m 12s) Loss: 0.1098(0.1136) \n"
     ]
    },
    {
     "name": "stderr",
     "output_type": "stream",
     "text": [
      "Epoch 3 - avg_train_loss: 0.0968  avg_val_loss: 0.1181  time: 193s\n",
      "Epoch 3 - Score: 0.4875  Scores: [0.5187823760255746, 0.47922038807206907, 0.44879470813828387, 0.4817918056931029, 0.5286442514755293, 0.4678878906923298]\n",
      "Epoch 3 - Save Best Score: 0.4875 Model\n"
     ]
    },
    {
     "name": "stdout",
     "output_type": "stream",
     "text": [
      "EVAL: [60/62] Elapsed 0m 36s (remain 0m 0s) Loss: 0.1081(0.1181) \n",
      "EVAL: [61/62] Elapsed 0m 36s (remain 0m 0s) Loss: 0.1076(0.1181) \n",
      "Epoch: [4][0/366] Elapsed 0m 0s (remain 4m 12s) Loss: 0.1388(0.1388) Grad: 154801.6094  LR: 0.00001588  \n",
      "Epoch: [4][20/366] Elapsed 0m 9s (remain 2m 31s) Loss: 0.0777(0.0866) Grad: 92150.7734  LR: 0.00001574  \n",
      "Epoch: [4][40/366] Elapsed 0m 17s (remain 2m 20s) Loss: 0.0677(0.0854) Grad: 139633.8125  LR: 0.00001560  \n",
      "Epoch: [4][60/366] Elapsed 0m 26s (remain 2m 11s) Loss: 0.0959(0.0840) Grad: 122341.8281  LR: 0.00001546  \n",
      "Epoch: [4][80/366] Elapsed 0m 34s (remain 2m 2s) Loss: 0.1000(0.0845) Grad: 92510.0000  LR: 0.00001532  \n",
      "Epoch: [4][100/366] Elapsed 0m 43s (remain 1m 54s) Loss: 0.0836(0.0850) Grad: 111588.0000  LR: 0.00001517  \n",
      "Epoch: [4][120/366] Elapsed 0m 52s (remain 1m 45s) Loss: 0.0758(0.0851) Grad: 109120.8516  LR: 0.00001502  \n",
      "Epoch: [4][140/366] Elapsed 1m 0s (remain 1m 37s) Loss: 0.0532(0.0844) Grad: 83914.0859  LR: 0.00001487  \n",
      "Epoch: [4][160/366] Elapsed 1m 9s (remain 1m 28s) Loss: 0.0911(0.0843) Grad: 244232.7500  LR: 0.00001472  \n",
      "Epoch: [4][180/366] Elapsed 1m 18s (remain 1m 19s) Loss: 0.0608(0.0834) Grad: 72232.8594  LR: 0.00001457  \n",
      "Epoch: [4][200/366] Elapsed 1m 26s (remain 1m 11s) Loss: 0.0655(0.0838) Grad: 93546.0234  LR: 0.00001442  \n",
      "Epoch: [4][220/366] Elapsed 1m 35s (remain 1m 2s) Loss: 0.0859(0.0837) Grad: 159599.3438  LR: 0.00001426  \n",
      "Epoch: [4][240/366] Elapsed 1m 43s (remain 0m 53s) Loss: 0.0869(0.0840) Grad: 131416.2500  LR: 0.00001411  \n",
      "Epoch: [4][260/366] Elapsed 1m 52s (remain 0m 45s) Loss: 0.0805(0.0838) Grad: 53384.0742  LR: 0.00001395  \n",
      "Epoch: [4][280/366] Elapsed 2m 0s (remain 0m 36s) Loss: 0.0790(0.0839) Grad: 112983.2500  LR: 0.00001379  \n",
      "Epoch: [4][300/366] Elapsed 2m 9s (remain 0m 27s) Loss: 0.1674(0.0846) Grad: 307821.5625  LR: 0.00001363  \n",
      "Epoch: [4][320/366] Elapsed 2m 17s (remain 0m 19s) Loss: 0.0827(0.0847) Grad: 135091.2188  LR: 0.00001347  \n",
      "Epoch: [4][340/366] Elapsed 2m 26s (remain 0m 10s) Loss: 0.0955(0.0846) Grad: 204091.2188  LR: 0.00001331  \n",
      "Epoch: [4][360/366] Elapsed 2m 34s (remain 0m 2s) Loss: 0.0773(0.0841) Grad: 112484.6328  LR: 0.00001315  \n",
      "Epoch: [4][365/366] Elapsed 2m 37s (remain 0m 0s) Loss: 0.0904(0.0842) Grad: 174671.0469  LR: 0.00001311  \n",
      "EVAL: [0/62] Elapsed 0m 1s (remain 1m 3s) Loss: 0.0951(0.0951) \n",
      "EVAL: [20/62] Elapsed 0m 12s (remain 0m 25s) Loss: 0.0825(0.1087) \n",
      "EVAL: [40/62] Elapsed 0m 24s (remain 0m 12s) Loss: 0.0986(0.1109) \n"
     ]
    },
    {
     "name": "stderr",
     "output_type": "stream",
     "text": [
      "Epoch 4 - avg_train_loss: 0.0842  avg_val_loss: 0.1144  time: 194s\n",
      "Epoch 4 - Score: 0.4792  Scores: [0.5217535070890511, 0.47146145282253216, 0.429789752403832, 0.4784089956507883, 0.5079077617693444, 0.4658690553213661]\n",
      "Epoch 4 - Save Best Score: 0.4792 Model\n"
     ]
    },
    {
     "name": "stdout",
     "output_type": "stream",
     "text": [
      "EVAL: [60/62] Elapsed 0m 36s (remain 0m 0s) Loss: 0.0966(0.1144) \n",
      "EVAL: [61/62] Elapsed 0m 36s (remain 0m 0s) Loss: 0.1049(0.1144) \n",
      "Epoch: [5][0/366] Elapsed 0m 0s (remain 4m 8s) Loss: 0.0700(0.0700) Grad: 64726.9688  LR: 0.00001310  \n",
      "Epoch: [5][20/366] Elapsed 0m 9s (remain 2m 28s) Loss: 0.0883(0.0773) Grad: 112213.8203  LR: 0.00001294  \n",
      "Epoch: [5][40/366] Elapsed 0m 17s (remain 2m 18s) Loss: 0.0750(0.0758) Grad: 130705.2109  LR: 0.00001277  \n",
      "Epoch: [5][60/366] Elapsed 0m 26s (remain 2m 11s) Loss: 0.1126(0.0730) Grad: 118790.0469  LR: 0.00001261  \n",
      "Epoch: [5][80/366] Elapsed 0m 34s (remain 2m 3s) Loss: 0.0820(0.0739) Grad: 124957.7109  LR: 0.00001244  \n",
      "Epoch: [5][100/366] Elapsed 0m 43s (remain 1m 54s) Loss: 0.0793(0.0742) Grad: 123535.7031  LR: 0.00001228  \n",
      "Epoch: [5][120/366] Elapsed 0m 52s (remain 1m 45s) Loss: 0.0832(0.0736) Grad: 146299.0625  LR: 0.00001211  \n",
      "Epoch: [5][140/366] Elapsed 1m 0s (remain 1m 36s) Loss: 0.0661(0.0736) Grad: 182925.5312  LR: 0.00001194  \n",
      "Epoch: [5][160/366] Elapsed 1m 9s (remain 1m 28s) Loss: 0.0968(0.0732) Grad: 266241.9375  LR: 0.00001177  \n",
      "Epoch: [5][180/366] Elapsed 1m 17s (remain 1m 19s) Loss: 0.0682(0.0735) Grad: 107811.5469  LR: 0.00001160  \n",
      "Epoch: [5][200/366] Elapsed 1m 26s (remain 1m 10s) Loss: 0.0704(0.0738) Grad: 91793.6797  LR: 0.00001143  \n",
      "Epoch: [5][220/366] Elapsed 1m 35s (remain 1m 2s) Loss: 0.0454(0.0735) Grad: 74351.9688  LR: 0.00001126  \n",
      "Epoch: [5][240/366] Elapsed 1m 43s (remain 0m 53s) Loss: 0.0540(0.0732) Grad: 55590.6445  LR: 0.00001109  \n",
      "Epoch: [5][260/366] Elapsed 1m 52s (remain 0m 45s) Loss: 0.0583(0.0728) Grad: 94073.2969  LR: 0.00001092  \n",
      "Epoch: [5][280/366] Elapsed 2m 0s (remain 0m 36s) Loss: 0.0675(0.0733) Grad: 87669.8203  LR: 0.00001075  \n",
      "Epoch: [5][300/366] Elapsed 2m 9s (remain 0m 27s) Loss: 0.0952(0.0733) Grad: 64861.8594  LR: 0.00001058  \n",
      "Epoch: [5][320/366] Elapsed 2m 17s (remain 0m 19s) Loss: 0.0617(0.0735) Grad: 83311.0859  LR: 0.00001041  \n",
      "Epoch: [5][340/366] Elapsed 2m 26s (remain 0m 10s) Loss: 0.0969(0.0733) Grad: 119283.5391  LR: 0.00001024  \n",
      "Epoch: [5][360/366] Elapsed 2m 35s (remain 0m 2s) Loss: 0.0542(0.0732) Grad: 119421.5312  LR: 0.00001007  \n",
      "Epoch: [5][365/366] Elapsed 2m 37s (remain 0m 0s) Loss: 0.0469(0.0732) Grad: 105847.9531  LR: 0.00001003  \n",
      "EVAL: [0/62] Elapsed 0m 0s (remain 0m 46s) Loss: 0.0881(0.0881) \n",
      "EVAL: [20/62] Elapsed 0m 12s (remain 0m 24s) Loss: 0.0877(0.1117) \n",
      "EVAL: [40/62] Elapsed 0m 24s (remain 0m 12s) Loss: 0.0983(0.1135) \n"
     ]
    },
    {
     "name": "stderr",
     "output_type": "stream",
     "text": [
      "Epoch 5 - avg_train_loss: 0.0732  avg_val_loss: 0.1176  time: 194s\n",
      "Epoch 5 - Score: 0.4862  Scores: [0.5257968730275401, 0.47086707285740936, 0.43834636713555436, 0.4857673161165605, 0.5231109813610268, 0.47346443112923203]\n"
     ]
    },
    {
     "name": "stdout",
     "output_type": "stream",
     "text": [
      "EVAL: [60/62] Elapsed 0m 36s (remain 0m 0s) Loss: 0.0945(0.1176) \n",
      "EVAL: [61/62] Elapsed 0m 36s (remain 0m 0s) Loss: 0.0855(0.1176) \n",
      "Epoch: [6][0/366] Elapsed 0m 0s (remain 3m 42s) Loss: 0.0420(0.0420) Grad: 74547.5000  LR: 0.00001002  \n",
      "Epoch: [6][20/366] Elapsed 0m 9s (remain 2m 30s) Loss: 0.0564(0.0680) Grad: 125431.5781  LR: 0.00000985  \n",
      "Epoch: [6][40/366] Elapsed 0m 17s (remain 2m 20s) Loss: 0.0500(0.0671) Grad: 137007.4531  LR: 0.00000967  \n",
      "Epoch: [6][60/366] Elapsed 0m 26s (remain 2m 10s) Loss: 0.0584(0.0675) Grad: 86465.5234  LR: 0.00000950  \n",
      "Epoch: [6][80/366] Elapsed 0m 34s (remain 2m 2s) Loss: 0.0376(0.0650) Grad: 80058.8359  LR: 0.00000933  \n",
      "Epoch: [6][100/366] Elapsed 0m 43s (remain 1m 53s) Loss: 0.0570(0.0639) Grad: 85433.9297  LR: 0.00000916  \n",
      "Epoch: [6][120/366] Elapsed 0m 51s (remain 1m 45s) Loss: 0.0679(0.0637) Grad: 100474.7109  LR: 0.00000899  \n",
      "Epoch: [6][140/366] Elapsed 1m 0s (remain 1m 36s) Loss: 0.0837(0.0631) Grad: 108780.4453  LR: 0.00000882  \n",
      "Epoch: [6][160/366] Elapsed 1m 9s (remain 1m 28s) Loss: 0.0778(0.0635) Grad: 153371.4688  LR: 0.00000865  \n",
      "Epoch: [6][180/366] Elapsed 1m 17s (remain 1m 19s) Loss: 0.0617(0.0629) Grad: 91306.6172  LR: 0.00000848  \n",
      "Epoch: [6][200/366] Elapsed 1m 26s (remain 1m 10s) Loss: 0.0680(0.0629) Grad: 97080.7969  LR: 0.00000831  \n",
      "Epoch: [6][220/366] Elapsed 1m 34s (remain 1m 2s) Loss: 0.0619(0.0630) Grad: 130747.4297  LR: 0.00000814  \n",
      "Epoch: [6][240/366] Elapsed 1m 43s (remain 0m 53s) Loss: 0.0708(0.0633) Grad: 85165.7109  LR: 0.00000797  \n",
      "Epoch: [6][260/366] Elapsed 1m 51s (remain 0m 45s) Loss: 0.0644(0.0632) Grad: 129903.9219  LR: 0.00000781  \n",
      "Epoch: [6][280/366] Elapsed 2m 0s (remain 0m 36s) Loss: 0.0637(0.0630) Grad: 100758.8125  LR: 0.00000764  \n",
      "Epoch: [6][300/366] Elapsed 2m 9s (remain 0m 27s) Loss: 0.0831(0.0630) Grad: 152641.6875  LR: 0.00000747  \n",
      "Epoch: [6][320/366] Elapsed 2m 17s (remain 0m 19s) Loss: 0.0666(0.0627) Grad: 74786.2812  LR: 0.00000731  \n",
      "Epoch: [6][340/366] Elapsed 2m 26s (remain 0m 10s) Loss: 0.0769(0.0627) Grad: 126096.5156  LR: 0.00000714  \n",
      "Epoch: [6][360/366] Elapsed 2m 34s (remain 0m 2s) Loss: 0.0508(0.0627) Grad: 82536.2656  LR: 0.00000698  \n",
      "Epoch: [6][365/366] Elapsed 2m 37s (remain 0m 0s) Loss: 0.0456(0.0626) Grad: 104623.0859  LR: 0.00000694  \n",
      "EVAL: [0/62] Elapsed 0m 0s (remain 0m 48s) Loss: 0.0865(0.0865) \n",
      "EVAL: [20/62] Elapsed 0m 12s (remain 0m 24s) Loss: 0.0939(0.1143) \n",
      "EVAL: [40/62] Elapsed 0m 24s (remain 0m 12s) Loss: 0.1006(0.1165) \n"
     ]
    },
    {
     "name": "stderr",
     "output_type": "stream",
     "text": [
      "Epoch 6 - avg_train_loss: 0.0626  avg_val_loss: 0.1202  time: 194s\n",
      "Epoch 6 - Score: 0.4920  Scores: [0.5210866229191061, 0.4816782481843507, 0.44518012746663704, 0.49519643641174804, 0.5297469384859484, 0.479308243933381]\n"
     ]
    },
    {
     "name": "stdout",
     "output_type": "stream",
     "text": [
      "EVAL: [60/62] Elapsed 0m 36s (remain 0m 0s) Loss: 0.0933(0.1203) \n",
      "EVAL: [61/62] Elapsed 0m 36s (remain 0m 0s) Loss: 0.0943(0.1202) \n",
      "Epoch: [7][0/366] Elapsed 0m 0s (remain 3m 52s) Loss: 0.0637(0.0637) Grad: 162919.3438  LR: 0.00000693  \n",
      "Epoch: [7][20/366] Elapsed 0m 9s (remain 2m 30s) Loss: 0.0529(0.0584) Grad: 71171.4453  LR: 0.00000677  \n",
      "Epoch: [7][40/366] Elapsed 0m 17s (remain 2m 20s) Loss: 0.0622(0.0565) Grad: 182022.3750  LR: 0.00000661  \n",
      "Epoch: [7][60/366] Elapsed 0m 26s (remain 2m 10s) Loss: 0.0624(0.0559) Grad: 160354.7031  LR: 0.00000645  \n",
      "Epoch: [7][80/366] Elapsed 0m 34s (remain 2m 2s) Loss: 0.0413(0.0550) Grad: 100380.6250  LR: 0.00000629  \n",
      "Epoch: [7][100/366] Elapsed 0m 43s (remain 1m 53s) Loss: 0.0451(0.0550) Grad: 91407.0625  LR: 0.00000613  \n",
      "Epoch: [7][120/366] Elapsed 0m 51s (remain 1m 44s) Loss: 0.0557(0.0541) Grad: 76049.4766  LR: 0.00000597  \n",
      "Epoch: [7][140/366] Elapsed 1m 0s (remain 1m 36s) Loss: 0.0521(0.0542) Grad: 105458.3594  LR: 0.00000581  \n",
      "Epoch: [7][160/366] Elapsed 1m 9s (remain 1m 28s) Loss: 0.0638(0.0541) Grad: 69061.7734  LR: 0.00000566  \n",
      "Epoch: [7][180/366] Elapsed 1m 17s (remain 1m 19s) Loss: 0.0523(0.0540) Grad: 82082.6250  LR: 0.00000551  \n",
      "Epoch: [7][200/366] Elapsed 1m 26s (remain 1m 10s) Loss: 0.0487(0.0540) Grad: 78675.8203  LR: 0.00000535  \n",
      "Epoch: [7][220/366] Elapsed 1m 34s (remain 1m 2s) Loss: 0.0430(0.0541) Grad: 114430.1719  LR: 0.00000520  \n",
      "Epoch: [7][240/366] Elapsed 1m 43s (remain 0m 53s) Loss: 0.0534(0.0543) Grad: 52775.6797  LR: 0.00000505  \n",
      "Epoch: [7][260/366] Elapsed 1m 51s (remain 0m 45s) Loss: 0.0627(0.0547) Grad: 57011.9805  LR: 0.00000490  \n",
      "Epoch: [7][280/366] Elapsed 2m 0s (remain 0m 36s) Loss: 0.0568(0.0546) Grad: 120379.5703  LR: 0.00000476  \n",
      "Epoch: [7][300/366] Elapsed 2m 9s (remain 0m 27s) Loss: 0.0553(0.0547) Grad: 61634.6641  LR: 0.00000461  \n",
      "Epoch: [7][320/366] Elapsed 2m 17s (remain 0m 19s) Loss: 0.0460(0.0549) Grad: 69892.1172  LR: 0.00000447  \n",
      "Epoch: [7][340/366] Elapsed 2m 26s (remain 0m 10s) Loss: 0.0530(0.0550) Grad: 66277.9141  LR: 0.00000433  \n",
      "Epoch: [7][360/366] Elapsed 2m 34s (remain 0m 2s) Loss: 0.0410(0.0548) Grad: 77885.8984  LR: 0.00000419  \n",
      "Epoch: [7][365/366] Elapsed 2m 36s (remain 0m 0s) Loss: 0.0707(0.0548) Grad: 133168.5781  LR: 0.00000415  \n",
      "EVAL: [0/62] Elapsed 0m 0s (remain 0m 47s) Loss: 0.0846(0.0846) \n",
      "EVAL: [20/62] Elapsed 0m 12s (remain 0m 24s) Loss: 0.0922(0.1120) \n",
      "EVAL: [40/62] Elapsed 0m 24s (remain 0m 12s) Loss: 0.1114(0.1149) \n"
     ]
    },
    {
     "name": "stderr",
     "output_type": "stream",
     "text": [
      "Epoch 7 - avg_train_loss: 0.0548  avg_val_loss: 0.1195  time: 193s\n",
      "Epoch 7 - Score: 0.4906  Scores: [0.5289582469461255, 0.47956230352470736, 0.44544292833156385, 0.48815677629082926, 0.5188360723670388, 0.4824044939971592]\n"
     ]
    },
    {
     "name": "stdout",
     "output_type": "stream",
     "text": [
      "EVAL: [60/62] Elapsed 0m 36s (remain 0m 0s) Loss: 0.1029(0.1195) \n",
      "EVAL: [61/62] Elapsed 0m 36s (remain 0m 0s) Loss: 0.1032(0.1195) \n"
     ]
    },
    {
     "name": "stderr",
     "output_type": "stream",
     "text": [
      "========== fold: 0 result ==========\n",
      "Score: 0.4792  Scores: [0.5217535070890511, 0.47146145282253216, 0.429789752403832, 0.4784089956507883, 0.5079077617693444, 0.4658690553213661]\n",
      "========== fold: 1 training ==========\n",
      "BertConfig {\n",
      "  \"_name_or_path\": \"/home/jupyter/models/bert/base-uncased/\",\n",
      "  \"architectures\": [\n",
      "    \"BertForMaskedLM\"\n",
      "  ],\n",
      "  \"attention_dropout\": 0.0,\n",
      "  \"attention_probs_dropout_prob\": 0.0,\n",
      "  \"classifier_dropout\": null,\n",
      "  \"gradient_checkpointing\": false,\n",
      "  \"hidden_act\": \"gelu\",\n",
      "  \"hidden_dropout\": 0.0,\n",
      "  \"hidden_dropout_prob\": 0.0,\n",
      "  \"hidden_size\": 768,\n",
      "  \"initializer_range\": 0.02,\n",
      "  \"intermediate_size\": 3072,\n",
      "  \"layer_norm_eps\": 1e-12,\n",
      "  \"max_position_embeddings\": 512,\n",
      "  \"model_type\": \"bert\",\n",
      "  \"num_attention_heads\": 12,\n",
      "  \"num_hidden_layers\": 12,\n",
      "  \"output_hidden_states\": true,\n",
      "  \"pad_token_id\": 0,\n",
      "  \"position_embedding_type\": \"absolute\",\n",
      "  \"transformers_version\": \"4.21.2\",\n",
      "  \"type_vocab_size\": 2,\n",
      "  \"use_cache\": true,\n",
      "  \"vocab_size\": 30522\n",
      "}\n",
      "\n",
      "Some weights of the model checkpoint at /home/jupyter/models/bert/base-uncased/ were not used when initializing BertModel: ['cls.predictions.bias', 'cls.seq_relationship.weight', 'cls.predictions.transform.dense.weight', 'cls.predictions.transform.dense.bias', 'cls.predictions.decoder.weight', 'cls.predictions.transform.LayerNorm.bias', 'cls.predictions.transform.LayerNorm.weight', 'cls.seq_relationship.bias']\n",
      "- This IS expected if you are initializing BertModel from the checkpoint of a model trained on another task or with another architecture (e.g. initializing a BertForSequenceClassification model from a BertForPreTraining model).\n",
      "- This IS NOT expected if you are initializing BertModel from the checkpoint of a model that you expect to be exactly identical (initializing a BertForSequenceClassification model from a BertForSequenceClassification model).\n"
     ]
    },
    {
     "name": "stdout",
     "output_type": "stream",
     "text": [
      "Epoch: [1][0/366] Elapsed 0m 0s (remain 4m 17s) Loss: 2.3664(2.3664) Grad: 303490.5312  LR: 0.00002000  \n",
      "Epoch: [1][20/366] Elapsed 0m 9s (remain 2m 30s) Loss: 0.6523(1.4625) Grad: 201646.7500  LR: 0.00002000  \n",
      "Epoch: [1][40/366] Elapsed 0m 17s (remain 2m 20s) Loss: 0.2314(0.8660) Grad: 77218.5625  LR: 0.00001999  \n",
      "Epoch: [1][60/366] Elapsed 0m 26s (remain 2m 10s) Loss: 0.1150(0.6531) Grad: 55056.1055  LR: 0.00001999  \n",
      "Epoch: [1][80/366] Elapsed 0m 34s (remain 2m 2s) Loss: 0.1191(0.5321) Grad: 31119.6484  LR: 0.00001998  \n",
      "Epoch: [1][100/366] Elapsed 0m 43s (remain 1m 53s) Loss: 0.1371(0.4559) Grad: 38157.0352  LR: 0.00001996  \n",
      "Epoch: [1][120/366] Elapsed 0m 52s (remain 1m 45s) Loss: 0.1126(0.4035) Grad: 35433.6914  LR: 0.00001995  \n",
      "Epoch: [1][140/366] Elapsed 1m 0s (remain 1m 36s) Loss: 0.1821(0.3660) Grad: 117117.6953  LR: 0.00001993  \n",
      "Epoch: [1][160/366] Elapsed 1m 9s (remain 1m 27s) Loss: 0.1434(0.3366) Grad: 42314.1211  LR: 0.00001991  \n",
      "Epoch: [1][180/366] Elapsed 1m 17s (remain 1m 19s) Loss: 0.2523(0.3155) Grad: 48216.8047  LR: 0.00001988  \n",
      "Epoch: [1][200/366] Elapsed 1m 26s (remain 1m 10s) Loss: 0.2516(0.2979) Grad: 72457.0859  LR: 0.00001985  \n",
      "Epoch: [1][220/366] Elapsed 1m 34s (remain 1m 2s) Loss: 0.1512(0.2848) Grad: 23689.7656  LR: 0.00001982  \n",
      "Epoch: [1][240/366] Elapsed 1m 43s (remain 0m 53s) Loss: 0.1407(0.2736) Grad: 32300.6191  LR: 0.00001979  \n",
      "Epoch: [1][260/366] Elapsed 1m 51s (remain 0m 44s) Loss: 0.2066(0.2647) Grad: 64993.7305  LR: 0.00001975  \n",
      "Epoch: [1][280/366] Elapsed 2m 0s (remain 0m 36s) Loss: 0.1760(0.2561) Grad: 66792.6484  LR: 0.00001971  \n",
      "Epoch: [1][300/366] Elapsed 2m 8s (remain 0m 27s) Loss: 0.0977(0.2485) Grad: 39375.7148  LR: 0.00001967  \n",
      "Epoch: [1][320/366] Elapsed 2m 17s (remain 0m 19s) Loss: 0.0698(0.2397) Grad: 25859.0293  LR: 0.00001962  \n",
      "Epoch: [1][340/366] Elapsed 2m 25s (remain 0m 10s) Loss: 0.1417(0.2338) Grad: 34425.3125  LR: 0.00001958  \n",
      "Epoch: [1][360/366] Elapsed 2m 34s (remain 0m 2s) Loss: 0.0824(0.2275) Grad: 19886.9355  LR: 0.00001953  \n",
      "Epoch: [1][365/366] Elapsed 2m 36s (remain 0m 0s) Loss: 0.1065(0.2264) Grad: 22157.7578  LR: 0.00001951  \n",
      "EVAL: [0/62] Elapsed 0m 0s (remain 0m 56s) Loss: 0.1084(0.1084) \n",
      "EVAL: [20/62] Elapsed 0m 12s (remain 0m 24s) Loss: 0.1402(0.1364) \n",
      "EVAL: [40/62] Elapsed 0m 24s (remain 0m 12s) Loss: 0.1301(0.1388) \n"
     ]
    },
    {
     "name": "stderr",
     "output_type": "stream",
     "text": [
      "Epoch 1 - avg_train_loss: 0.2264  avg_val_loss: 0.1395  time: 193s\n",
      "Epoch 1 - Score: 0.5305  Scores: [0.568001300181823, 0.5097938375156567, 0.46112590844894785, 0.5167486553827894, 0.6014154279178476, 0.5259997873724864]\n",
      "Epoch 1 - Save Best Score: 0.5305 Model\n"
     ]
    },
    {
     "name": "stdout",
     "output_type": "stream",
     "text": [
      "EVAL: [60/62] Elapsed 0m 36s (remain 0m 0s) Loss: 0.1513(0.1396) \n",
      "EVAL: [61/62] Elapsed 0m 36s (remain 0m 0s) Loss: 0.0502(0.1395) \n",
      "Epoch: [2][0/366] Elapsed 0m 0s (remain 3m 52s) Loss: 0.1083(0.1083) Grad: 109306.1562  LR: 0.00001951  \n",
      "Epoch: [2][20/366] Elapsed 0m 9s (remain 2m 30s) Loss: 0.0635(0.1197) Grad: 141696.9219  LR: 0.00001946  \n",
      "Epoch: [2][40/366] Elapsed 0m 17s (remain 2m 20s) Loss: 0.1615(0.1180) Grad: 103085.6875  LR: 0.00001940  \n",
      "Epoch: [2][60/366] Elapsed 0m 26s (remain 2m 12s) Loss: 0.0873(0.1134) Grad: 86236.0547  LR: 0.00001934  \n",
      "Epoch: [2][80/366] Elapsed 0m 35s (remain 2m 3s) Loss: 0.1214(0.1116) Grad: 119593.2656  LR: 0.00001928  \n",
      "Epoch: [2][100/366] Elapsed 0m 43s (remain 1m 54s) Loss: 0.1141(0.1106) Grad: 239319.8750  LR: 0.00001921  \n",
      "Epoch: [2][120/366] Elapsed 0m 52s (remain 1m 45s) Loss: 0.1404(0.1101) Grad: 119027.6484  LR: 0.00001914  \n",
      "Epoch: [2][140/366] Elapsed 1m 0s (remain 1m 36s) Loss: 0.0985(0.1085) Grad: 147328.4844  LR: 0.00001907  \n",
      "Epoch: [2][160/366] Elapsed 1m 9s (remain 1m 28s) Loss: 0.0994(0.1084) Grad: 98065.5547  LR: 0.00001900  \n",
      "Epoch: [2][180/366] Elapsed 1m 17s (remain 1m 19s) Loss: 0.0959(0.1083) Grad: 96909.4766  LR: 0.00001892  \n",
      "Epoch: [2][200/366] Elapsed 1m 26s (remain 1m 11s) Loss: 0.1293(0.1084) Grad: 148301.5781  LR: 0.00001884  \n",
      "Epoch: [2][220/366] Elapsed 1m 35s (remain 1m 2s) Loss: 0.1513(0.1083) Grad: 102029.2422  LR: 0.00001876  \n",
      "Epoch: [2][240/366] Elapsed 1m 43s (remain 0m 53s) Loss: 0.1210(0.1074) Grad: 223893.4844  LR: 0.00001868  \n",
      "Epoch: [2][260/366] Elapsed 1m 52s (remain 0m 45s) Loss: 0.1032(0.1077) Grad: 190789.5312  LR: 0.00001859  \n",
      "Epoch: [2][280/366] Elapsed 2m 0s (remain 0m 36s) Loss: 0.0618(0.1073) Grad: 70066.3984  LR: 0.00001850  \n",
      "Epoch: [2][300/366] Elapsed 2m 9s (remain 0m 27s) Loss: 0.0890(0.1069) Grad: 125685.9453  LR: 0.00001841  \n",
      "Epoch: [2][320/366] Elapsed 2m 17s (remain 0m 19s) Loss: 0.0922(0.1071) Grad: 146384.2500  LR: 0.00001832  \n",
      "Epoch: [2][340/366] Elapsed 2m 26s (remain 0m 10s) Loss: 0.0681(0.1075) Grad: 86050.6250  LR: 0.00001822  \n",
      "Epoch: [2][360/366] Elapsed 2m 35s (remain 0m 2s) Loss: 0.1822(0.1077) Grad: 263892.5938  LR: 0.00001812  \n",
      "Epoch: [2][365/366] Elapsed 2m 37s (remain 0m 0s) Loss: 0.0625(0.1076) Grad: 73642.5859  LR: 0.00001810  \n",
      "EVAL: [0/62] Elapsed 0m 0s (remain 0m 49s) Loss: 0.0791(0.0791) \n",
      "EVAL: [20/62] Elapsed 0m 12s (remain 0m 24s) Loss: 0.1309(0.1194) \n",
      "EVAL: [40/62] Elapsed 0m 24s (remain 0m 12s) Loss: 0.1084(0.1194) \n"
     ]
    },
    {
     "name": "stderr",
     "output_type": "stream",
     "text": [
      "Epoch 2 - avg_train_loss: 0.1076  avg_val_loss: 0.1170  time: 194s\n",
      "Epoch 2 - Score: 0.4849  Scores: [0.5299424339657822, 0.47295389329134657, 0.43452815529655286, 0.4777267117882534, 0.516491403562632, 0.47782439493389917]\n",
      "Epoch 2 - Save Best Score: 0.4849 Model\n"
     ]
    },
    {
     "name": "stdout",
     "output_type": "stream",
     "text": [
      "EVAL: [60/62] Elapsed 0m 36s (remain 0m 0s) Loss: 0.1036(0.1171) \n",
      "EVAL: [61/62] Elapsed 0m 36s (remain 0m 0s) Loss: 0.0432(0.1170) \n",
      "Epoch: [3][0/366] Elapsed 0m 0s (remain 4m 23s) Loss: 0.0799(0.0799) Grad: 79747.7891  LR: 0.00001809  \n",
      "Epoch: [3][20/366] Elapsed 0m 9s (remain 2m 35s) Loss: 0.1240(0.0999) Grad: 245339.5156  LR: 0.00001799  \n",
      "Epoch: [3][40/366] Elapsed 0m 18s (remain 2m 23s) Loss: 0.1483(0.0974) Grad: 221942.0938  LR: 0.00001789  \n",
      "Epoch: [3][60/366] Elapsed 0m 26s (remain 2m 13s) Loss: 0.1162(0.0970) Grad: 127630.6484  LR: 0.00001778  \n",
      "Epoch: [3][80/366] Elapsed 0m 35s (remain 2m 3s) Loss: 0.1361(0.0944) Grad: 139353.9844  LR: 0.00001767  \n",
      "Epoch: [3][100/366] Elapsed 0m 43s (remain 1m 54s) Loss: 0.1022(0.0959) Grad: 96660.0703  LR: 0.00001756  \n",
      "Epoch: [3][120/366] Elapsed 0m 52s (remain 1m 45s) Loss: 0.0909(0.0942) Grad: 135530.2031  LR: 0.00001745  \n",
      "Epoch: [3][140/366] Elapsed 1m 0s (remain 1m 36s) Loss: 0.0721(0.0941) Grad: 63691.1836  LR: 0.00001733  \n",
      "Epoch: [3][160/366] Elapsed 1m 9s (remain 1m 28s) Loss: 0.0681(0.0943) Grad: 84541.5781  LR: 0.00001721  \n",
      "Epoch: [3][180/366] Elapsed 1m 17s (remain 1m 19s) Loss: 0.0938(0.0955) Grad: 114025.0156  LR: 0.00001709  \n",
      "Epoch: [3][200/366] Elapsed 1m 26s (remain 1m 10s) Loss: 0.1304(0.0962) Grad: 135358.3750  LR: 0.00001697  \n",
      "Epoch: [3][220/366] Elapsed 1m 34s (remain 1m 2s) Loss: 0.0859(0.0960) Grad: 142275.7188  LR: 0.00001685  \n",
      "Epoch: [3][240/366] Elapsed 1m 43s (remain 0m 53s) Loss: 0.1090(0.0966) Grad: 120546.1016  LR: 0.00001672  \n",
      "Epoch: [3][260/366] Elapsed 1m 52s (remain 0m 45s) Loss: 0.0889(0.0972) Grad: 166690.8125  LR: 0.00001659  \n",
      "Epoch: [3][280/366] Elapsed 2m 0s (remain 0m 36s) Loss: 0.0886(0.0967) Grad: 83402.7031  LR: 0.00001646  \n",
      "Epoch: [3][300/366] Elapsed 2m 9s (remain 0m 27s) Loss: 0.1317(0.0972) Grad: 155381.3906  LR: 0.00001633  \n",
      "Epoch: [3][320/366] Elapsed 2m 18s (remain 0m 19s) Loss: 0.0594(0.0976) Grad: 59595.1367  LR: 0.00001620  \n",
      "Epoch: [3][340/366] Elapsed 2m 26s (remain 0m 10s) Loss: 0.1117(0.0975) Grad: 136775.2188  LR: 0.00001606  \n",
      "Epoch: [3][360/366] Elapsed 2m 35s (remain 0m 2s) Loss: 0.0682(0.0977) Grad: 134672.6406  LR: 0.00001593  \n",
      "Epoch: [3][365/366] Elapsed 2m 37s (remain 0m 0s) Loss: 0.0862(0.0974) Grad: 124230.5469  LR: 0.00001589  \n",
      "EVAL: [0/62] Elapsed 0m 0s (remain 0m 47s) Loss: 0.0791(0.0791) \n",
      "EVAL: [20/62] Elapsed 0m 12s (remain 0m 24s) Loss: 0.1337(0.1169) \n",
      "EVAL: [40/62] Elapsed 0m 24s (remain 0m 12s) Loss: 0.1111(0.1174) \n"
     ]
    },
    {
     "name": "stderr",
     "output_type": "stream",
     "text": [
      "Epoch 3 - avg_train_loss: 0.0974  avg_val_loss: 0.1153  time: 194s\n",
      "Epoch 3 - Score: 0.4813  Scores: [0.5232091972120243, 0.470346092427657, 0.4327141156074233, 0.4725839734188628, 0.5115338796150383, 0.47715338688958636]\n",
      "Epoch 3 - Save Best Score: 0.4813 Model\n"
     ]
    },
    {
     "name": "stdout",
     "output_type": "stream",
     "text": [
      "EVAL: [60/62] Elapsed 0m 36s (remain 0m 0s) Loss: 0.1079(0.1153) \n",
      "EVAL: [61/62] Elapsed 0m 36s (remain 0m 0s) Loss: 0.0486(0.1153) \n",
      "Epoch: [4][0/366] Elapsed 0m 0s (remain 4m 13s) Loss: 0.0995(0.0995) Grad: 102398.8281  LR: 0.00001589  \n",
      "Epoch: [4][20/366] Elapsed 0m 9s (remain 2m 28s) Loss: 0.1009(0.0857) Grad: 124505.1250  LR: 0.00001575  \n",
      "Epoch: [4][40/366] Elapsed 0m 17s (remain 2m 18s) Loss: 0.1008(0.0851) Grad: 101501.8594  LR: 0.00001561  \n",
      "Epoch: [4][60/366] Elapsed 0m 26s (remain 2m 10s) Loss: 0.0944(0.0846) Grad: 117314.5938  LR: 0.00001546  \n",
      "Epoch: [4][80/366] Elapsed 0m 34s (remain 2m 2s) Loss: 0.1293(0.0870) Grad: 282635.6562  LR: 0.00001532  \n",
      "Epoch: [4][100/366] Elapsed 0m 43s (remain 1m 54s) Loss: 0.1043(0.0887) Grad: 198578.3281  LR: 0.00001517  \n",
      "Epoch: [4][120/366] Elapsed 0m 52s (remain 1m 45s) Loss: 0.0976(0.0893) Grad: 150101.5312  LR: 0.00001502  \n",
      "Epoch: [4][140/366] Elapsed 1m 0s (remain 1m 37s) Loss: 0.0751(0.0921) Grad: 95090.1250  LR: 0.00001488  \n",
      "Epoch: [4][160/366] Elapsed 1m 9s (remain 1m 28s) Loss: 0.0622(0.0918) Grad: 118141.3672  LR: 0.00001473  \n",
      "Epoch: [4][180/366] Elapsed 1m 17s (remain 1m 19s) Loss: 0.0771(0.0917) Grad: 111409.6719  LR: 0.00001457  \n",
      "Epoch: [4][200/366] Elapsed 1m 26s (remain 1m 10s) Loss: 0.0935(0.0911) Grad: 183645.2500  LR: 0.00001442  \n",
      "Epoch: [4][220/366] Elapsed 1m 34s (remain 1m 2s) Loss: 0.0823(0.0908) Grad: 154556.9062  LR: 0.00001427  \n",
      "Epoch: [4][240/366] Elapsed 1m 43s (remain 0m 53s) Loss: 0.0890(0.0904) Grad: 148669.7344  LR: 0.00001411  \n",
      "Epoch: [4][260/366] Elapsed 1m 52s (remain 0m 45s) Loss: 0.0915(0.0899) Grad: 180169.7031  LR: 0.00001395  \n",
      "Epoch: [4][280/366] Elapsed 2m 0s (remain 0m 36s) Loss: 0.0755(0.0894) Grad: 125736.8047  LR: 0.00001380  \n",
      "Epoch: [4][300/366] Elapsed 2m 9s (remain 0m 27s) Loss: 0.0841(0.0885) Grad: 134084.4062  LR: 0.00001364  \n",
      "Epoch: [4][320/366] Elapsed 2m 18s (remain 0m 19s) Loss: 0.0722(0.0879) Grad: 165203.0156  LR: 0.00001348  \n",
      "Epoch: [4][340/366] Elapsed 2m 26s (remain 0m 10s) Loss: 0.0912(0.0877) Grad: 113873.4297  LR: 0.00001332  \n",
      "Epoch: [4][360/366] Elapsed 2m 35s (remain 0m 2s) Loss: 0.1435(0.0881) Grad: 164888.1406  LR: 0.00001315  \n",
      "Epoch: [4][365/366] Elapsed 2m 37s (remain 0m 0s) Loss: 0.0796(0.0881) Grad: 187883.8281  LR: 0.00001311  \n",
      "EVAL: [0/62] Elapsed 0m 0s (remain 0m 48s) Loss: 0.0963(0.0963) \n",
      "EVAL: [20/62] Elapsed 0m 12s (remain 0m 24s) Loss: 0.1306(0.1255) \n",
      "EVAL: [40/62] Elapsed 0m 24s (remain 0m 12s) Loss: 0.1103(0.1294) \n"
     ]
    },
    {
     "name": "stderr",
     "output_type": "stream",
     "text": [
      "Epoch 4 - avg_train_loss: 0.0881  avg_val_loss: 0.1293  time: 194s\n",
      "Epoch 4 - Score: 0.5103  Scores: [0.5669040541617647, 0.4959220282462299, 0.4371898782049777, 0.5357691731813996, 0.5231733931563514, 0.5028660698787404]\n"
     ]
    },
    {
     "name": "stdout",
     "output_type": "stream",
     "text": [
      "EVAL: [60/62] Elapsed 0m 36s (remain 0m 0s) Loss: 0.1207(0.1293) \n",
      "EVAL: [61/62] Elapsed 0m 36s (remain 0m 0s) Loss: 0.0837(0.1293) \n",
      "Epoch: [5][0/366] Elapsed 0m 0s (remain 3m 48s) Loss: 0.1393(0.1393) Grad: 250715.8750  LR: 0.00001310  \n",
      "Epoch: [5][20/366] Elapsed 0m 9s (remain 2m 30s) Loss: 0.0724(0.0851) Grad: 120320.4688  LR: 0.00001294  \n",
      "Epoch: [5][40/366] Elapsed 0m 17s (remain 2m 20s) Loss: 0.0639(0.0767) Grad: 80535.6172  LR: 0.00001278  \n",
      "Epoch: [5][60/366] Elapsed 0m 26s (remain 2m 10s) Loss: 0.0982(0.0792) Grad: 142961.1094  LR: 0.00001261  \n",
      "Epoch: [5][80/366] Elapsed 0m 34s (remain 2m 1s) Loss: 0.0671(0.0781) Grad: 87938.5703  LR: 0.00001245  \n",
      "Epoch: [5][100/366] Elapsed 0m 43s (remain 1m 53s) Loss: 0.0484(0.0779) Grad: 88564.1250  LR: 0.00001228  \n",
      "Epoch: [5][120/366] Elapsed 0m 51s (remain 1m 45s) Loss: 0.0694(0.0774) Grad: 218337.3594  LR: 0.00001211  \n",
      "Epoch: [5][140/366] Elapsed 1m 0s (remain 1m 36s) Loss: 0.0838(0.0788) Grad: 87606.4297  LR: 0.00001195  \n",
      "Epoch: [5][160/366] Elapsed 1m 9s (remain 1m 27s) Loss: 0.0711(0.0782) Grad: 97708.4219  LR: 0.00001178  \n",
      "Epoch: [5][180/366] Elapsed 1m 17s (remain 1m 19s) Loss: 0.0774(0.0777) Grad: 154596.8594  LR: 0.00001161  \n",
      "Epoch: [5][200/366] Elapsed 1m 26s (remain 1m 10s) Loss: 0.0686(0.0771) Grad: 161577.6875  LR: 0.00001144  \n",
      "Epoch: [5][220/366] Elapsed 1m 34s (remain 1m 2s) Loss: 0.1328(0.0772) Grad: 247396.4688  LR: 0.00001127  \n",
      "Epoch: [5][240/366] Elapsed 1m 43s (remain 0m 53s) Loss: 0.0822(0.0771) Grad: 131508.2500  LR: 0.00001110  \n",
      "Epoch: [5][260/366] Elapsed 1m 51s (remain 0m 45s) Loss: 0.0797(0.0766) Grad: 83985.8750  LR: 0.00001093  \n",
      "Epoch: [5][280/366] Elapsed 2m 0s (remain 0m 36s) Loss: 0.0735(0.0762) Grad: 98602.0859  LR: 0.00001076  \n",
      "Epoch: [5][300/366] Elapsed 2m 8s (remain 0m 27s) Loss: 0.0846(0.0770) Grad: 120395.7266  LR: 0.00001059  \n",
      "Epoch: [5][320/366] Elapsed 2m 17s (remain 0m 19s) Loss: 0.0979(0.0772) Grad: 196931.0625  LR: 0.00001042  \n",
      "Epoch: [5][340/366] Elapsed 2m 25s (remain 0m 10s) Loss: 0.0829(0.0770) Grad: 103128.8359  LR: 0.00001024  \n",
      "Epoch: [5][360/366] Elapsed 2m 34s (remain 0m 2s) Loss: 0.0561(0.0773) Grad: 98967.6406  LR: 0.00001007  \n",
      "Epoch: [5][365/366] Elapsed 2m 36s (remain 0m 0s) Loss: 0.0665(0.0773) Grad: 127465.2344  LR: 0.00001003  \n",
      "EVAL: [0/62] Elapsed 0m 1s (remain 1m 6s) Loss: 0.0801(0.0801) \n",
      "EVAL: [20/62] Elapsed 0m 13s (remain 0m 25s) Loss: 0.1320(0.1182) \n",
      "EVAL: [40/62] Elapsed 0m 25s (remain 0m 12s) Loss: 0.1103(0.1196) \n"
     ]
    },
    {
     "name": "stderr",
     "output_type": "stream",
     "text": [
      "Epoch 5 - avg_train_loss: 0.0773  avg_val_loss: 0.1177  time: 194s\n",
      "Epoch 5 - Score: 0.4866  Scores: [0.5224075018116097, 0.48512646404590065, 0.4328962626566109, 0.47787131443758507, 0.5182083022484901, 0.4831319059484514]\n"
     ]
    },
    {
     "name": "stdout",
     "output_type": "stream",
     "text": [
      "EVAL: [60/62] Elapsed 0m 36s (remain 0m 0s) Loss: 0.1104(0.1178) \n",
      "EVAL: [61/62] Elapsed 0m 36s (remain 0m 0s) Loss: 0.0493(0.1177) \n",
      "Epoch: [6][0/366] Elapsed 0m 0s (remain 3m 56s) Loss: 0.0578(0.0578) Grad: 68571.6172  LR: 0.00001002  \n",
      "Epoch: [6][20/366] Elapsed 0m 9s (remain 2m 29s) Loss: 0.0693(0.0684) Grad: 113561.5547  LR: 0.00000985  \n",
      "Epoch: [6][40/366] Elapsed 0m 17s (remain 2m 19s) Loss: 0.0657(0.0680) Grad: 115172.0156  LR: 0.00000968  \n",
      "Epoch: [6][60/366] Elapsed 0m 26s (remain 2m 10s) Loss: 0.0730(0.0671) Grad: 170663.6094  LR: 0.00000951  \n",
      "Epoch: [6][80/366] Elapsed 0m 34s (remain 2m 2s) Loss: 0.0653(0.0675) Grad: 138727.7344  LR: 0.00000934  \n",
      "Epoch: [6][100/366] Elapsed 0m 43s (remain 1m 53s) Loss: 0.1016(0.0677) Grad: 258070.7031  LR: 0.00000917  \n",
      "Epoch: [6][120/366] Elapsed 0m 51s (remain 1m 45s) Loss: 0.1155(0.0685) Grad: 182436.2188  LR: 0.00000900  \n",
      "Epoch: [6][140/366] Elapsed 1m 0s (remain 1m 36s) Loss: 0.0816(0.0688) Grad: 83291.1406  LR: 0.00000882  \n",
      "Epoch: [6][160/366] Elapsed 1m 9s (remain 1m 27s) Loss: 0.0823(0.0685) Grad: 148298.5312  LR: 0.00000865  \n",
      "Epoch: [6][180/366] Elapsed 1m 17s (remain 1m 19s) Loss: 0.0430(0.0681) Grad: 164613.2344  LR: 0.00000849  \n",
      "Epoch: [6][200/366] Elapsed 1m 26s (remain 1m 10s) Loss: 0.0641(0.0674) Grad: 102022.8438  LR: 0.00000832  \n",
      "Epoch: [6][220/366] Elapsed 1m 34s (remain 1m 2s) Loss: 0.0507(0.0670) Grad: 138370.7031  LR: 0.00000815  \n",
      "Epoch: [6][240/366] Elapsed 1m 43s (remain 0m 53s) Loss: 0.0499(0.0672) Grad: 103160.8047  LR: 0.00000798  \n",
      "Epoch: [6][260/366] Elapsed 1m 52s (remain 0m 45s) Loss: 0.0667(0.0674) Grad: 76030.8672  LR: 0.00000781  \n",
      "Epoch: [6][280/366] Elapsed 2m 0s (remain 0m 36s) Loss: 0.0714(0.0672) Grad: 148393.5156  LR: 0.00000764  \n",
      "Epoch: [6][300/366] Elapsed 2m 9s (remain 0m 27s) Loss: 0.0698(0.0674) Grad: 105242.7188  LR: 0.00000748  \n",
      "Epoch: [6][320/366] Elapsed 2m 17s (remain 0m 19s) Loss: 0.0941(0.0668) Grad: 159879.3750  LR: 0.00000731  \n",
      "Epoch: [6][340/366] Elapsed 2m 26s (remain 0m 10s) Loss: 0.0665(0.0669) Grad: 81246.6719  LR: 0.00000715  \n",
      "Epoch: [6][360/366] Elapsed 2m 34s (remain 0m 2s) Loss: 0.0646(0.0669) Grad: 109286.2344  LR: 0.00000698  \n",
      "Epoch: [6][365/366] Elapsed 2m 36s (remain 0m 0s) Loss: 0.0753(0.0669) Grad: 250992.3281  LR: 0.00000694  \n",
      "EVAL: [0/62] Elapsed 0m 0s (remain 0m 48s) Loss: 0.0831(0.0831) \n",
      "EVAL: [20/62] Elapsed 0m 12s (remain 0m 24s) Loss: 0.1299(0.1191) \n",
      "EVAL: [40/62] Elapsed 0m 24s (remain 0m 12s) Loss: 0.1067(0.1231) \n"
     ]
    },
    {
     "name": "stderr",
     "output_type": "stream",
     "text": [
      "Epoch 6 - avg_train_loss: 0.0669  avg_val_loss: 0.1225  time: 193s\n",
      "Epoch 6 - Score: 0.4969  Scores: [0.5316602805111412, 0.48921016583691257, 0.44109240225539265, 0.4971549411817701, 0.5287121523626368, 0.4936406551215787]\n"
     ]
    },
    {
     "name": "stdout",
     "output_type": "stream",
     "text": [
      "EVAL: [60/62] Elapsed 0m 36s (remain 0m 0s) Loss: 0.1126(0.1226) \n",
      "EVAL: [61/62] Elapsed 0m 36s (remain 0m 0s) Loss: 0.0635(0.1225) \n"
     ]
    },
    {
     "name": "stderr",
     "output_type": "stream",
     "text": [
      "========== fold: 1 result ==========\n",
      "Score: 0.4813  Scores: [0.5232091972120243, 0.470346092427657, 0.4327141156074233, 0.4725839734188628, 0.5115338796150383, 0.47715338688958636]\n",
      "========== fold: 2 training ==========\n",
      "BertConfig {\n",
      "  \"_name_or_path\": \"/home/jupyter/models/bert/base-uncased/\",\n",
      "  \"architectures\": [\n",
      "    \"BertForMaskedLM\"\n",
      "  ],\n",
      "  \"attention_dropout\": 0.0,\n",
      "  \"attention_probs_dropout_prob\": 0.0,\n",
      "  \"classifier_dropout\": null,\n",
      "  \"gradient_checkpointing\": false,\n",
      "  \"hidden_act\": \"gelu\",\n",
      "  \"hidden_dropout\": 0.0,\n",
      "  \"hidden_dropout_prob\": 0.0,\n",
      "  \"hidden_size\": 768,\n",
      "  \"initializer_range\": 0.02,\n",
      "  \"intermediate_size\": 3072,\n",
      "  \"layer_norm_eps\": 1e-12,\n",
      "  \"max_position_embeddings\": 512,\n",
      "  \"model_type\": \"bert\",\n",
      "  \"num_attention_heads\": 12,\n",
      "  \"num_hidden_layers\": 12,\n",
      "  \"output_hidden_states\": true,\n",
      "  \"pad_token_id\": 0,\n",
      "  \"position_embedding_type\": \"absolute\",\n",
      "  \"transformers_version\": \"4.21.2\",\n",
      "  \"type_vocab_size\": 2,\n",
      "  \"use_cache\": true,\n",
      "  \"vocab_size\": 30522\n",
      "}\n",
      "\n",
      "Some weights of the model checkpoint at /home/jupyter/models/bert/base-uncased/ were not used when initializing BertModel: ['cls.predictions.bias', 'cls.seq_relationship.weight', 'cls.predictions.transform.dense.weight', 'cls.predictions.transform.dense.bias', 'cls.predictions.decoder.weight', 'cls.predictions.transform.LayerNorm.bias', 'cls.predictions.transform.LayerNorm.weight', 'cls.seq_relationship.bias']\n",
      "- This IS expected if you are initializing BertModel from the checkpoint of a model trained on another task or with another architecture (e.g. initializing a BertForSequenceClassification model from a BertForPreTraining model).\n",
      "- This IS NOT expected if you are initializing BertModel from the checkpoint of a model that you expect to be exactly identical (initializing a BertForSequenceClassification model from a BertForSequenceClassification model).\n"
     ]
    },
    {
     "name": "stdout",
     "output_type": "stream",
     "text": [
      "Epoch: [1][0/366] Elapsed 0m 0s (remain 4m 20s) Loss: 2.3756(2.3756) Grad: 333704.9688  LR: 0.00002000  \n",
      "Epoch: [1][20/366] Elapsed 0m 9s (remain 2m 31s) Loss: 0.2156(1.2713) Grad: 73812.1484  LR: 0.00002000  \n",
      "Epoch: [1][40/366] Elapsed 0m 17s (remain 2m 20s) Loss: 0.1995(0.7537) Grad: 51879.2578  LR: 0.00001999  \n",
      "Epoch: [1][60/366] Elapsed 0m 26s (remain 2m 11s) Loss: 0.1053(0.5590) Grad: 130867.8047  LR: 0.00001999  \n",
      "Epoch: [1][80/366] Elapsed 0m 34s (remain 2m 2s) Loss: 0.1981(0.4631) Grad: 334126.0938  LR: 0.00001998  \n",
      "Epoch: [1][100/366] Elapsed 0m 43s (remain 1m 54s) Loss: 0.1720(0.4109) Grad: 86553.3203  LR: 0.00001996  \n",
      "Epoch: [1][120/366] Elapsed 0m 52s (remain 1m 45s) Loss: 0.1719(0.3729) Grad: 218439.8906  LR: 0.00001995  \n",
      "Epoch: [1][140/366] Elapsed 1m 0s (remain 1m 36s) Loss: 0.1258(0.3414) Grad: 117559.4609  LR: 0.00001993  \n",
      "Epoch: [1][160/366] Elapsed 1m 9s (remain 1m 28s) Loss: 0.1104(0.3176) Grad: 228317.6406  LR: 0.00001990  \n",
      "Epoch: [1][180/366] Elapsed 1m 17s (remain 1m 19s) Loss: 0.0763(0.2988) Grad: 37454.3281  LR: 0.00001988  \n",
      "Epoch: [1][200/366] Elapsed 1m 26s (remain 1m 10s) Loss: 0.1149(0.2823) Grad: 80472.2812  LR: 0.00001985  \n",
      "Epoch: [1][220/366] Elapsed 1m 34s (remain 1m 2s) Loss: 0.2575(0.2699) Grad: 368083.7500  LR: 0.00001982  \n",
      "Epoch: [1][240/366] Elapsed 1m 43s (remain 0m 53s) Loss: 0.1861(0.2598) Grad: 155078.4531  LR: 0.00001979  \n",
      "Epoch: [1][260/366] Elapsed 1m 51s (remain 0m 44s) Loss: 0.1074(0.2514) Grad: 64291.5586  LR: 0.00001975  \n",
      "Epoch: [1][280/366] Elapsed 2m 0s (remain 0m 36s) Loss: 0.1753(0.2433) Grad: 152423.7969  LR: 0.00001971  \n",
      "Epoch: [1][300/366] Elapsed 2m 8s (remain 0m 27s) Loss: 0.1221(0.2365) Grad: 67612.7188  LR: 0.00001967  \n",
      "Epoch: [1][320/366] Elapsed 2m 17s (remain 0m 19s) Loss: 0.1419(0.2298) Grad: 102777.1562  LR: 0.00001962  \n",
      "Epoch: [1][340/366] Elapsed 2m 26s (remain 0m 10s) Loss: 0.1948(0.2243) Grad: 169686.2031  LR: 0.00001958  \n",
      "Epoch: [1][360/366] Elapsed 2m 34s (remain 0m 2s) Loss: 0.1218(0.2206) Grad: 62040.3633  LR: 0.00001953  \n",
      "Epoch: [1][365/366] Elapsed 2m 36s (remain 0m 0s) Loss: 0.1290(0.2197) Grad: 71313.5469  LR: 0.00001951  \n",
      "EVAL: [0/62] Elapsed 0m 0s (remain 0m 49s) Loss: 0.1484(0.1484) \n",
      "EVAL: [20/62] Elapsed 0m 12s (remain 0m 24s) Loss: 0.1115(0.1616) \n",
      "EVAL: [40/62] Elapsed 0m 24s (remain 0m 12s) Loss: 0.1340(0.1558) \n"
     ]
    },
    {
     "name": "stderr",
     "output_type": "stream",
     "text": [
      "Epoch 1 - avg_train_loss: 0.2197  avg_val_loss: 0.1543  time: 193s\n",
      "Epoch 1 - Score: 0.5582  Scores: [0.5789479644030019, 0.5733233991428828, 0.4610550516563031, 0.5981376028162552, 0.5419494979632233, 0.5956627131521081]\n",
      "Epoch 1 - Save Best Score: 0.5582 Model\n"
     ]
    },
    {
     "name": "stdout",
     "output_type": "stream",
     "text": [
      "EVAL: [60/62] Elapsed 0m 36s (remain 0m 0s) Loss: 0.1215(0.1542) \n",
      "EVAL: [61/62] Elapsed 0m 36s (remain 0m 0s) Loss: 0.2009(0.1543) \n",
      "Epoch: [2][0/366] Elapsed 0m 0s (remain 3m 58s) Loss: 0.1896(0.1896) Grad: 247048.4688  LR: 0.00001951  \n",
      "Epoch: [2][20/366] Elapsed 0m 9s (remain 2m 30s) Loss: 0.1362(0.1323) Grad: 197920.5312  LR: 0.00001946  \n",
      "Epoch: [2][40/366] Elapsed 0m 17s (remain 2m 19s) Loss: 0.1559(0.1292) Grad: 278462.2812  LR: 0.00001940  \n",
      "Epoch: [2][60/366] Elapsed 0m 26s (remain 2m 11s) Loss: 0.1171(0.1240) Grad: 124141.4844  LR: 0.00001934  \n",
      "Epoch: [2][80/366] Elapsed 0m 34s (remain 2m 2s) Loss: 0.1344(0.1210) Grad: 160944.3594  LR: 0.00001928  \n",
      "Epoch: [2][100/366] Elapsed 0m 43s (remain 1m 54s) Loss: 0.1504(0.1200) Grad: 279080.1562  LR: 0.00001921  \n",
      "Epoch: [2][120/366] Elapsed 0m 52s (remain 1m 45s) Loss: 0.0646(0.1208) Grad: 205045.4375  LR: 0.00001914  \n",
      "Epoch: [2][140/366] Elapsed 1m 0s (remain 1m 37s) Loss: 0.0666(0.1184) Grad: 79048.3203  LR: 0.00001907  \n",
      "Epoch: [2][160/366] Elapsed 1m 9s (remain 1m 28s) Loss: 0.1192(0.1180) Grad: 290403.8125  LR: 0.00001900  \n",
      "Epoch: [2][180/366] Elapsed 1m 17s (remain 1m 19s) Loss: 0.1165(0.1181) Grad: 184298.2031  LR: 0.00001892  \n",
      "Epoch: [2][200/366] Elapsed 1m 26s (remain 1m 10s) Loss: 0.1106(0.1174) Grad: 284094.7812  LR: 0.00001884  \n",
      "Epoch: [2][220/366] Elapsed 1m 34s (remain 1m 2s) Loss: 0.1270(0.1184) Grad: 120357.3359  LR: 0.00001876  \n",
      "Epoch: [2][240/366] Elapsed 1m 43s (remain 0m 53s) Loss: 0.0894(0.1171) Grad: 138156.6094  LR: 0.00001868  \n",
      "Epoch: [2][260/366] Elapsed 1m 51s (remain 0m 45s) Loss: 0.0965(0.1170) Grad: 181402.6250  LR: 0.00001859  \n",
      "Epoch: [2][280/366] Elapsed 2m 0s (remain 0m 36s) Loss: 0.0492(0.1173) Grad: 106801.9141  LR: 0.00001850  \n",
      "Epoch: [2][300/366] Elapsed 2m 9s (remain 0m 27s) Loss: 0.1094(0.1168) Grad: 229902.7656  LR: 0.00001841  \n",
      "Epoch: [2][320/366] Elapsed 2m 17s (remain 0m 19s) Loss: 0.1885(0.1165) Grad: 479416.9062  LR: 0.00001832  \n",
      "Epoch: [2][340/366] Elapsed 2m 26s (remain 0m 10s) Loss: 0.1422(0.1168) Grad: 131395.4531  LR: 0.00001822  \n",
      "Epoch: [2][360/366] Elapsed 2m 34s (remain 0m 2s) Loss: 0.1292(0.1173) Grad: 158980.8438  LR: 0.00001812  \n",
      "Epoch: [2][365/366] Elapsed 2m 37s (remain 0m 0s) Loss: 0.0761(0.1172) Grad: 90704.1328  LR: 0.00001810  \n",
      "EVAL: [0/62] Elapsed 0m 0s (remain 0m 49s) Loss: 0.1290(0.1290) \n",
      "EVAL: [20/62] Elapsed 0m 12s (remain 0m 24s) Loss: 0.0897(0.1251) \n",
      "EVAL: [40/62] Elapsed 0m 24s (remain 0m 12s) Loss: 0.1057(0.1220) \n"
     ]
    },
    {
     "name": "stderr",
     "output_type": "stream",
     "text": [
      "Epoch 2 - avg_train_loss: 0.1172  avg_val_loss: 0.1209  time: 193s\n",
      "Epoch 2 - Score: 0.4934  Scores: [0.5184443584370546, 0.4774809265175726, 0.4483794015983286, 0.5177346677445366, 0.5159636805957222, 0.4823068058029185]\n",
      "Epoch 2 - Save Best Score: 0.4934 Model\n"
     ]
    },
    {
     "name": "stdout",
     "output_type": "stream",
     "text": [
      "EVAL: [60/62] Elapsed 0m 36s (remain 0m 0s) Loss: 0.0910(0.1207) \n",
      "EVAL: [61/62] Elapsed 0m 36s (remain 0m 0s) Loss: 0.2355(0.1209) \n",
      "Epoch: [3][0/366] Elapsed 0m 0s (remain 4m 24s) Loss: 0.0727(0.0727) Grad: 119285.7578  LR: 0.00001809  \n",
      "Epoch: [3][20/366] Elapsed 0m 9s (remain 2m 31s) Loss: 0.1030(0.1094) Grad: 78921.7031  LR: 0.00001799  \n",
      "Epoch: [3][40/366] Elapsed 0m 17s (remain 2m 20s) Loss: 0.0696(0.1062) Grad: 168142.0312  LR: 0.00001789  \n",
      "Epoch: [3][60/366] Elapsed 0m 26s (remain 2m 11s) Loss: 0.0682(0.1044) Grad: 152611.2031  LR: 0.00001778  \n",
      "Epoch: [3][80/366] Elapsed 0m 34s (remain 2m 3s) Loss: 0.0868(0.1052) Grad: 115299.7109  LR: 0.00001767  \n",
      "Epoch: [3][100/366] Elapsed 0m 43s (remain 1m 54s) Loss: 0.0662(0.1035) Grad: 141540.5625  LR: 0.00001756  \n",
      "Epoch: [3][120/366] Elapsed 0m 52s (remain 1m 45s) Loss: 0.0671(0.1034) Grad: 105416.3438  LR: 0.00001745  \n",
      "Epoch: [3][140/366] Elapsed 1m 0s (remain 1m 37s) Loss: 0.0885(0.1033) Grad: 125351.8672  LR: 0.00001733  \n",
      "Epoch: [3][160/366] Elapsed 1m 9s (remain 1m 28s) Loss: 0.1249(0.1036) Grad: 76660.6562  LR: 0.00001721  \n",
      "Epoch: [3][180/366] Elapsed 1m 17s (remain 1m 19s) Loss: 0.1395(0.1047) Grad: 253519.5625  LR: 0.00001709  \n",
      "Epoch: [3][200/366] Elapsed 1m 26s (remain 1m 10s) Loss: 0.1350(0.1070) Grad: 326069.2812  LR: 0.00001697  \n",
      "Epoch: [3][220/366] Elapsed 1m 34s (remain 1m 2s) Loss: 0.0648(0.1073) Grad: 83968.6641  LR: 0.00001685  \n",
      "Epoch: [3][240/366] Elapsed 1m 43s (remain 0m 53s) Loss: 0.1310(0.1069) Grad: 157587.7500  LR: 0.00001672  \n",
      "Epoch: [3][260/366] Elapsed 1m 52s (remain 0m 45s) Loss: 0.1372(0.1065) Grad: 98092.4922  LR: 0.00001659  \n",
      "Epoch: [3][280/366] Elapsed 2m 0s (remain 0m 36s) Loss: 0.0575(0.1066) Grad: 39705.1953  LR: 0.00001646  \n",
      "Epoch: [3][300/366] Elapsed 2m 9s (remain 0m 27s) Loss: 0.2372(0.1069) Grad: 105846.8516  LR: 0.00001633  \n",
      "Epoch: [3][320/366] Elapsed 2m 17s (remain 0m 19s) Loss: 0.1291(0.1070) Grad: 194718.6094  LR: 0.00001620  \n",
      "Epoch: [3][340/366] Elapsed 2m 26s (remain 0m 10s) Loss: 0.1017(0.1070) Grad: 54184.4609  LR: 0.00001606  \n",
      "Epoch: [3][360/366] Elapsed 2m 34s (remain 0m 2s) Loss: 0.1364(0.1073) Grad: 102946.0703  LR: 0.00001592  \n",
      "Epoch: [3][365/366] Elapsed 2m 37s (remain 0m 0s) Loss: 0.1259(0.1072) Grad: 78476.9375  LR: 0.00001589  \n",
      "EVAL: [0/62] Elapsed 0m 0s (remain 1m 0s) Loss: 0.1561(0.1561) \n",
      "EVAL: [20/62] Elapsed 0m 12s (remain 0m 25s) Loss: 0.0789(0.1335) \n",
      "EVAL: [40/62] Elapsed 0m 24s (remain 0m 12s) Loss: 0.1139(0.1325) \n"
     ]
    },
    {
     "name": "stderr",
     "output_type": "stream",
     "text": [
      "Epoch 3 - avg_train_loss: 0.1072  avg_val_loss: 0.1295  time: 194s\n",
      "Epoch 3 - Score: 0.5116  Scores: [0.5540066382216136, 0.4975544534825576, 0.4449549563567792, 0.5625902774227105, 0.5154058929257315, 0.494797798133292]\n"
     ]
    },
    {
     "name": "stdout",
     "output_type": "stream",
     "text": [
      "EVAL: [60/62] Elapsed 0m 36s (remain 0m 0s) Loss: 0.1177(0.1294) \n",
      "EVAL: [61/62] Elapsed 0m 36s (remain 0m 0s) Loss: 0.1552(0.1295) \n",
      "Epoch: [4][0/366] Elapsed 0m 0s (remain 3m 59s) Loss: 0.0936(0.0936) Grad: 178708.3906  LR: 0.00001588  \n",
      "Epoch: [4][20/366] Elapsed 0m 9s (remain 2m 30s) Loss: 0.0742(0.0933) Grad: 112271.1406  LR: 0.00001574  \n",
      "Epoch: [4][40/366] Elapsed 0m 17s (remain 2m 19s) Loss: 0.1177(0.0944) Grad: 92983.5547  LR: 0.00001560  \n",
      "Epoch: [4][60/366] Elapsed 0m 26s (remain 2m 11s) Loss: 0.0813(0.0941) Grad: 231946.3906  LR: 0.00001546  \n",
      "Epoch: [4][80/366] Elapsed 0m 34s (remain 2m 2s) Loss: 0.0927(0.0947) Grad: 283552.1562  LR: 0.00001532  \n",
      "Epoch: [4][100/366] Elapsed 0m 43s (remain 1m 53s) Loss: 0.0742(0.0937) Grad: 112884.7969  LR: 0.00001517  \n",
      "Epoch: [4][120/366] Elapsed 0m 51s (remain 1m 45s) Loss: 0.0756(0.0934) Grad: 135735.7344  LR: 0.00001502  \n",
      "Epoch: [4][140/366] Elapsed 1m 0s (remain 1m 36s) Loss: 0.0751(0.0926) Grad: 92214.5703  LR: 0.00001487  \n",
      "Epoch: [4][160/366] Elapsed 1m 9s (remain 1m 27s) Loss: 0.0657(0.0926) Grad: 107271.7500  LR: 0.00001472  \n",
      "Epoch: [4][180/366] Elapsed 1m 17s (remain 1m 19s) Loss: 0.0883(0.0925) Grad: 250355.6094  LR: 0.00001457  \n",
      "Epoch: [4][200/366] Elapsed 1m 26s (remain 1m 10s) Loss: 0.0610(0.0919) Grad: 71742.3203  LR: 0.00001442  \n",
      "Epoch: [4][220/366] Elapsed 1m 34s (remain 1m 2s) Loss: 0.0686(0.0918) Grad: 145152.9375  LR: 0.00001426  \n",
      "Epoch: [4][240/366] Elapsed 1m 43s (remain 0m 53s) Loss: 0.0888(0.0913) Grad: 140734.7500  LR: 0.00001411  \n",
      "Epoch: [4][260/366] Elapsed 1m 52s (remain 0m 45s) Loss: 0.0902(0.0911) Grad: 279548.6875  LR: 0.00001395  \n",
      "Epoch: [4][280/366] Elapsed 2m 0s (remain 0m 36s) Loss: 0.0694(0.0910) Grad: 91373.0078  LR: 0.00001379  \n",
      "Epoch: [4][300/366] Elapsed 2m 9s (remain 0m 27s) Loss: 0.1061(0.0903) Grad: 231737.5625  LR: 0.00001363  \n",
      "Epoch: [4][320/366] Elapsed 2m 17s (remain 0m 19s) Loss: 0.0675(0.0901) Grad: 205516.7031  LR: 0.00001347  \n",
      "Epoch: [4][340/366] Elapsed 2m 26s (remain 0m 10s) Loss: 0.0776(0.0904) Grad: 155187.6094  LR: 0.00001331  \n",
      "Epoch: [4][360/366] Elapsed 2m 34s (remain 0m 2s) Loss: 0.0598(0.0906) Grad: 216703.8750  LR: 0.00001315  \n",
      "Epoch: [4][365/366] Elapsed 2m 37s (remain 0m 0s) Loss: 0.1205(0.0905) Grad: 248691.1875  LR: 0.00001311  \n",
      "EVAL: [0/62] Elapsed 0m 0s (remain 0m 51s) Loss: 0.1313(0.1313) \n",
      "EVAL: [20/62] Elapsed 0m 12s (remain 0m 25s) Loss: 0.1288(0.1269) \n",
      "EVAL: [40/62] Elapsed 0m 24s (remain 0m 12s) Loss: 0.1294(0.1252) \n"
     ]
    },
    {
     "name": "stderr",
     "output_type": "stream",
     "text": [
      "Epoch 4 - avg_train_loss: 0.0905  avg_val_loss: 0.1248  time: 194s\n",
      "Epoch 4 - Score: 0.5014  Scores: [0.545072065126784, 0.4909387727769927, 0.44762881822021017, 0.5020819077376256, 0.5377048958518595, 0.484717117420186]\n"
     ]
    },
    {
     "name": "stdout",
     "output_type": "stream",
     "text": [
      "EVAL: [60/62] Elapsed 0m 36s (remain 0m 0s) Loss: 0.0934(0.1244) \n",
      "EVAL: [61/62] Elapsed 0m 36s (remain 0m 0s) Loss: 0.3072(0.1248) \n",
      "Epoch: [5][0/366] Elapsed 0m 0s (remain 3m 55s) Loss: 0.0715(0.0715) Grad: 239855.7656  LR: 0.00001310  \n",
      "Epoch: [5][20/366] Elapsed 0m 9s (remain 2m 33s) Loss: 0.0694(0.0765) Grad: 186290.7656  LR: 0.00001294  \n",
      "Epoch: [5][40/366] Elapsed 0m 17s (remain 2m 22s) Loss: 0.0717(0.0783) Grad: 104211.5703  LR: 0.00001277  \n",
      "Epoch: [5][60/366] Elapsed 0m 26s (remain 2m 12s) Loss: 0.0891(0.0808) Grad: 107623.7812  LR: 0.00001261  \n",
      "Epoch: [5][80/366] Elapsed 0m 35s (remain 2m 3s) Loss: 0.0893(0.0821) Grad: 318647.7188  LR: 0.00001244  \n",
      "Epoch: [5][100/366] Elapsed 0m 43s (remain 1m 54s) Loss: 0.0719(0.0807) Grad: 114593.4141  LR: 0.00001228  \n",
      "Epoch: [5][120/366] Elapsed 0m 52s (remain 1m 45s) Loss: 0.0918(0.0794) Grad: 128543.5234  LR: 0.00001211  \n",
      "Epoch: [5][140/366] Elapsed 1m 0s (remain 1m 36s) Loss: 0.0490(0.0784) Grad: 91377.1953  LR: 0.00001194  \n",
      "Epoch: [5][160/366] Elapsed 1m 9s (remain 1m 28s) Loss: 0.0497(0.0799) Grad: 113829.8594  LR: 0.00001177  \n",
      "Epoch: [5][180/366] Elapsed 1m 18s (remain 1m 19s) Loss: 0.0487(0.0801) Grad: 85830.4453  LR: 0.00001160  \n",
      "Epoch: [5][200/366] Elapsed 1m 26s (remain 1m 11s) Loss: 0.1142(0.0794) Grad: 169590.0938  LR: 0.00001143  \n",
      "Epoch: [5][220/366] Elapsed 1m 35s (remain 1m 2s) Loss: 0.1069(0.0800) Grad: 152652.2344  LR: 0.00001126  \n",
      "Epoch: [5][240/366] Elapsed 1m 43s (remain 0m 53s) Loss: 0.0546(0.0798) Grad: 222021.2344  LR: 0.00001109  \n",
      "Epoch: [5][260/366] Elapsed 1m 52s (remain 0m 45s) Loss: 0.1089(0.0795) Grad: 346941.6562  LR: 0.00001092  \n",
      "Epoch: [5][280/366] Elapsed 2m 0s (remain 0m 36s) Loss: 0.0791(0.0790) Grad: 122279.0391  LR: 0.00001075  \n",
      "Epoch: [5][300/366] Elapsed 2m 9s (remain 0m 27s) Loss: 0.1027(0.0786) Grad: 125489.6484  LR: 0.00001058  \n",
      "Epoch: [5][320/366] Elapsed 2m 18s (remain 0m 19s) Loss: 0.1022(0.0787) Grad: 233414.8125  LR: 0.00001041  \n",
      "Epoch: [5][340/366] Elapsed 2m 26s (remain 0m 10s) Loss: 0.0722(0.0784) Grad: 123422.9922  LR: 0.00001024  \n",
      "Epoch: [5][360/366] Elapsed 2m 35s (remain 0m 2s) Loss: 0.0594(0.0781) Grad: 168558.3281  LR: 0.00001007  \n",
      "Epoch: [5][365/366] Elapsed 2m 37s (remain 0m 0s) Loss: 0.0573(0.0779) Grad: 87037.4062  LR: 0.00001003  \n",
      "EVAL: [0/62] Elapsed 0m 0s (remain 0m 49s) Loss: 0.1210(0.1210) \n",
      "EVAL: [20/62] Elapsed 0m 12s (remain 0m 24s) Loss: 0.0894(0.1276) \n",
      "EVAL: [40/62] Elapsed 0m 24s (remain 0m 12s) Loss: 0.1116(0.1254) \n"
     ]
    },
    {
     "name": "stderr",
     "output_type": "stream",
     "text": [
      "Epoch 5 - avg_train_loss: 0.0779  avg_val_loss: 0.1244  time: 194s\n",
      "Epoch 5 - Score: 0.5016  Scores: [0.5183660137384171, 0.49753565423558077, 0.45695628123132037, 0.5092011086997502, 0.5295421505570822, 0.4982535759157456]\n"
     ]
    },
    {
     "name": "stdout",
     "output_type": "stream",
     "text": [
      "EVAL: [60/62] Elapsed 0m 36s (remain 0m 0s) Loss: 0.0990(0.1243) \n",
      "EVAL: [61/62] Elapsed 0m 36s (remain 0m 0s) Loss: 0.1609(0.1244) \n"
     ]
    },
    {
     "name": "stderr",
     "output_type": "stream",
     "text": [
      "========== fold: 2 result ==========\n",
      "Score: 0.4934  Scores: [0.5184443584370546, 0.4774809265175726, 0.4483794015983286, 0.5177346677445366, 0.5159636805957222, 0.4823068058029185]\n",
      "========== fold: 3 training ==========\n",
      "BertConfig {\n",
      "  \"_name_or_path\": \"/home/jupyter/models/bert/base-uncased/\",\n",
      "  \"architectures\": [\n",
      "    \"BertForMaskedLM\"\n",
      "  ],\n",
      "  \"attention_dropout\": 0.0,\n",
      "  \"attention_probs_dropout_prob\": 0.0,\n",
      "  \"classifier_dropout\": null,\n",
      "  \"gradient_checkpointing\": false,\n",
      "  \"hidden_act\": \"gelu\",\n",
      "  \"hidden_dropout\": 0.0,\n",
      "  \"hidden_dropout_prob\": 0.0,\n",
      "  \"hidden_size\": 768,\n",
      "  \"initializer_range\": 0.02,\n",
      "  \"intermediate_size\": 3072,\n",
      "  \"layer_norm_eps\": 1e-12,\n",
      "  \"max_position_embeddings\": 512,\n",
      "  \"model_type\": \"bert\",\n",
      "  \"num_attention_heads\": 12,\n",
      "  \"num_hidden_layers\": 12,\n",
      "  \"output_hidden_states\": true,\n",
      "  \"pad_token_id\": 0,\n",
      "  \"position_embedding_type\": \"absolute\",\n",
      "  \"transformers_version\": \"4.21.2\",\n",
      "  \"type_vocab_size\": 2,\n",
      "  \"use_cache\": true,\n",
      "  \"vocab_size\": 30522\n",
      "}\n",
      "\n",
      "Some weights of the model checkpoint at /home/jupyter/models/bert/base-uncased/ were not used when initializing BertModel: ['cls.predictions.bias', 'cls.seq_relationship.weight', 'cls.predictions.transform.dense.weight', 'cls.predictions.transform.dense.bias', 'cls.predictions.decoder.weight', 'cls.predictions.transform.LayerNorm.bias', 'cls.predictions.transform.LayerNorm.weight', 'cls.seq_relationship.bias']\n",
      "- This IS expected if you are initializing BertModel from the checkpoint of a model trained on another task or with another architecture (e.g. initializing a BertForSequenceClassification model from a BertForPreTraining model).\n",
      "- This IS NOT expected if you are initializing BertModel from the checkpoint of a model that you expect to be exactly identical (initializing a BertForSequenceClassification model from a BertForSequenceClassification model).\n"
     ]
    },
    {
     "name": "stdout",
     "output_type": "stream",
     "text": [
      "Epoch: [1][0/366] Elapsed 0m 0s (remain 4m 26s) Loss: 2.9089(2.9089) Grad: 301719.8438  LR: 0.00002000  \n",
      "Epoch: [1][20/366] Elapsed 0m 9s (remain 2m 31s) Loss: 0.4142(1.6950) Grad: 163448.3750  LR: 0.00002000  \n",
      "Epoch: [1][40/366] Elapsed 0m 17s (remain 2m 20s) Loss: 0.2178(0.9738) Grad: 173597.7812  LR: 0.00001999  \n",
      "Epoch: [1][60/366] Elapsed 0m 26s (remain 2m 11s) Loss: 0.3060(0.7241) Grad: 269402.0625  LR: 0.00001999  \n",
      "Epoch: [1][80/366] Elapsed 0m 34s (remain 2m 2s) Loss: 0.1903(0.5878) Grad: 88931.5312  LR: 0.00001998  \n",
      "Epoch: [1][100/366] Elapsed 0m 43s (remain 1m 53s) Loss: 0.1787(0.5045) Grad: 244509.7656  LR: 0.00001996  \n",
      "Epoch: [1][120/366] Elapsed 0m 51s (remain 1m 44s) Loss: 0.1909(0.4469) Grad: 276873.1250  LR: 0.00001995  \n",
      "Epoch: [1][140/366] Elapsed 1m 0s (remain 1m 36s) Loss: 0.3049(0.4102) Grad: 154655.8594  LR: 0.00001993  \n",
      "Epoch: [1][160/366] Elapsed 1m 9s (remain 1m 27s) Loss: 0.1797(0.3808) Grad: 105550.0312  LR: 0.00001990  \n",
      "Epoch: [1][180/366] Elapsed 1m 17s (remain 1m 19s) Loss: 0.2451(0.3551) Grad: 133989.2500  LR: 0.00001988  \n",
      "Epoch: [1][200/366] Elapsed 1m 26s (remain 1m 10s) Loss: 0.1708(0.3340) Grad: 54665.9609  LR: 0.00001985  \n",
      "Epoch: [1][220/366] Elapsed 1m 34s (remain 1m 2s) Loss: 0.1148(0.3160) Grad: 75206.5156  LR: 0.00001982  \n",
      "Epoch: [1][240/366] Elapsed 1m 43s (remain 0m 53s) Loss: 0.0970(0.3002) Grad: 82846.1797  LR: 0.00001979  \n",
      "Epoch: [1][260/366] Elapsed 1m 51s (remain 0m 44s) Loss: 0.1112(0.2868) Grad: 92712.8203  LR: 0.00001975  \n",
      "Epoch: [1][280/366] Elapsed 2m 0s (remain 0m 36s) Loss: 0.1708(0.2774) Grad: 38492.8672  LR: 0.00001971  \n",
      "Epoch: [1][300/366] Elapsed 2m 9s (remain 0m 27s) Loss: 0.1724(0.2671) Grad: 208246.7031  LR: 0.00001967  \n",
      "Epoch: [1][320/366] Elapsed 2m 17s (remain 0m 19s) Loss: 0.1676(0.2590) Grad: 55943.0547  LR: 0.00001962  \n",
      "Epoch: [1][340/366] Elapsed 2m 26s (remain 0m 10s) Loss: 0.1852(0.2520) Grad: 154198.8906  LR: 0.00001958  \n",
      "Epoch: [1][360/366] Elapsed 2m 34s (remain 0m 2s) Loss: 0.1815(0.2452) Grad: 157730.0938  LR: 0.00001953  \n",
      "Epoch: [1][365/366] Elapsed 2m 36s (remain 0m 0s) Loss: 0.0794(0.2437) Grad: 33391.2344  LR: 0.00001951  \n",
      "EVAL: [0/62] Elapsed 0m 0s (remain 0m 51s) Loss: 0.1372(0.1372) \n",
      "EVAL: [20/62] Elapsed 0m 12s (remain 0m 24s) Loss: 0.0994(0.1191) \n",
      "EVAL: [40/62] Elapsed 0m 24s (remain 0m 12s) Loss: 0.1054(0.1223) \n"
     ]
    },
    {
     "name": "stderr",
     "output_type": "stream",
     "text": [
      "Epoch 1 - avg_train_loss: 0.2437  avg_val_loss: 0.1212  time: 194s\n",
      "Epoch 1 - Score: 0.4943  Scores: [0.522385566518544, 0.484715463283327, 0.45477986211011606, 0.4851364070613481, 0.5217641257420619, 0.4968573456163106]\n",
      "Epoch 1 - Save Best Score: 0.4943 Model\n"
     ]
    },
    {
     "name": "stdout",
     "output_type": "stream",
     "text": [
      "EVAL: [60/62] Elapsed 0m 36s (remain 0m 0s) Loss: 0.0968(0.1213) \n",
      "EVAL: [61/62] Elapsed 0m 36s (remain 0m 0s) Loss: 0.0711(0.1212) \n",
      "Epoch: [2][0/366] Elapsed 0m 0s (remain 3m 54s) Loss: 0.1189(0.1189) Grad: 102267.1406  LR: 0.00001951  \n",
      "Epoch: [2][20/366] Elapsed 0m 9s (remain 2m 31s) Loss: 0.1352(0.1140) Grad: 161581.1250  LR: 0.00001946  \n",
      "Epoch: [2][40/366] Elapsed 0m 17s (remain 2m 20s) Loss: 0.1379(0.1121) Grad: 194521.9688  LR: 0.00001940  \n",
      "Epoch: [2][60/366] Elapsed 0m 26s (remain 2m 11s) Loss: 0.0870(0.1139) Grad: 86948.2109  LR: 0.00001934  \n",
      "Epoch: [2][80/366] Elapsed 0m 34s (remain 2m 2s) Loss: 0.0761(0.1111) Grad: 170621.6719  LR: 0.00001928  \n",
      "Epoch: [2][100/366] Elapsed 0m 43s (remain 1m 54s) Loss: 0.0972(0.1127) Grad: 297886.7188  LR: 0.00001921  \n",
      "Epoch: [2][120/366] Elapsed 0m 52s (remain 1m 45s) Loss: 0.0867(0.1136) Grad: 108498.5391  LR: 0.00001914  \n",
      "Epoch: [2][140/366] Elapsed 1m 0s (remain 1m 36s) Loss: 0.1113(0.1139) Grad: 191520.7656  LR: 0.00001907  \n",
      "Epoch: [2][160/366] Elapsed 1m 9s (remain 1m 27s) Loss: 0.0969(0.1136) Grad: 266975.5625  LR: 0.00001900  \n",
      "Epoch: [2][180/366] Elapsed 1m 17s (remain 1m 19s) Loss: 0.1289(0.1138) Grad: 186477.1250  LR: 0.00001892  \n",
      "Epoch: [2][200/366] Elapsed 1m 26s (remain 1m 10s) Loss: 0.0816(0.1130) Grad: 97299.5391  LR: 0.00001884  \n",
      "Epoch: [2][220/366] Elapsed 1m 34s (remain 1m 2s) Loss: 0.1094(0.1118) Grad: 113771.1484  LR: 0.00001876  \n",
      "Epoch: [2][240/366] Elapsed 1m 43s (remain 0m 53s) Loss: 0.1309(0.1126) Grad: 101075.6094  LR: 0.00001868  \n",
      "Epoch: [2][260/366] Elapsed 1m 52s (remain 0m 45s) Loss: 0.1542(0.1136) Grad: 126918.5156  LR: 0.00001859  \n",
      "Epoch: [2][280/366] Elapsed 2m 0s (remain 0m 36s) Loss: 0.0886(0.1138) Grad: 212359.9062  LR: 0.00001850  \n",
      "Epoch: [2][300/366] Elapsed 2m 9s (remain 0m 27s) Loss: 0.1202(0.1144) Grad: 124148.8672  LR: 0.00001841  \n",
      "Epoch: [2][320/366] Elapsed 2m 17s (remain 0m 19s) Loss: 0.0847(0.1141) Grad: 137291.2188  LR: 0.00001832  \n",
      "Epoch: [2][340/366] Elapsed 2m 26s (remain 0m 10s) Loss: 0.1292(0.1146) Grad: 216310.6875  LR: 0.00001822  \n",
      "Epoch: [2][360/366] Elapsed 2m 34s (remain 0m 2s) Loss: 0.0680(0.1144) Grad: 105079.9766  LR: 0.00001812  \n",
      "Epoch: [2][365/366] Elapsed 2m 37s (remain 0m 0s) Loss: 0.0760(0.1143) Grad: 76183.4688  LR: 0.00001810  \n",
      "EVAL: [0/62] Elapsed 0m 1s (remain 1m 4s) Loss: 0.1139(0.1139) \n",
      "EVAL: [20/62] Elapsed 0m 12s (remain 0m 25s) Loss: 0.1143(0.1393) \n",
      "EVAL: [40/62] Elapsed 0m 24s (remain 0m 12s) Loss: 0.1531(0.1407) \n"
     ]
    },
    {
     "name": "stderr",
     "output_type": "stream",
     "text": [
      "Epoch 2 - avg_train_loss: 0.1143  avg_val_loss: 0.1417  time: 194s\n",
      "Epoch 2 - Score: 0.5352  Scores: [0.5469711147780923, 0.5131067001975704, 0.5089249909523877, 0.492881456144627, 0.5944941994106142, 0.5548891873646523]\n"
     ]
    },
    {
     "name": "stdout",
     "output_type": "stream",
     "text": [
      "EVAL: [60/62] Elapsed 0m 36s (remain 0m 0s) Loss: 0.1349(0.1419) \n",
      "EVAL: [61/62] Elapsed 0m 36s (remain 0m 0s) Loss: 0.0727(0.1417) \n",
      "Epoch: [3][0/366] Elapsed 0m 0s (remain 4m 4s) Loss: 0.1660(0.1660) Grad: 195324.9219  LR: 0.00001809  \n",
      "Epoch: [3][20/366] Elapsed 0m 9s (remain 2m 29s) Loss: 0.0729(0.1048) Grad: 55450.8672  LR: 0.00001799  \n",
      "Epoch: [3][40/366] Elapsed 0m 17s (remain 2m 19s) Loss: 0.1087(0.0987) Grad: 152900.5469  LR: 0.00001789  \n",
      "Epoch: [3][60/366] Elapsed 0m 26s (remain 2m 12s) Loss: 0.0548(0.1008) Grad: 89266.3750  LR: 0.00001778  \n",
      "Epoch: [3][80/366] Elapsed 0m 34s (remain 2m 3s) Loss: 0.1010(0.0992) Grad: 108051.5859  LR: 0.00001767  \n",
      "Epoch: [3][100/366] Elapsed 0m 43s (remain 1m 54s) Loss: 0.0780(0.1017) Grad: 252369.2031  LR: 0.00001756  \n",
      "Epoch: [3][120/366] Elapsed 0m 52s (remain 1m 45s) Loss: 0.1076(0.1010) Grad: 182291.8594  LR: 0.00001745  \n",
      "Epoch: [3][140/366] Elapsed 1m 0s (remain 1m 36s) Loss: 0.0707(0.1004) Grad: 91656.4297  LR: 0.00001733  \n",
      "Epoch: [3][160/366] Elapsed 1m 9s (remain 1m 27s) Loss: 0.0996(0.1005) Grad: 107560.6328  LR: 0.00001721  \n",
      "Epoch: [3][180/366] Elapsed 1m 17s (remain 1m 19s) Loss: 0.0878(0.1001) Grad: 104498.8203  LR: 0.00001709  \n",
      "Epoch: [3][200/366] Elapsed 1m 26s (remain 1m 10s) Loss: 0.1145(0.1000) Grad: 142687.0312  LR: 0.00001697  \n",
      "Epoch: [3][220/366] Elapsed 1m 34s (remain 1m 2s) Loss: 0.1226(0.1004) Grad: 134612.3125  LR: 0.00001685  \n",
      "Epoch: [3][240/366] Elapsed 1m 43s (remain 0m 53s) Loss: 0.0816(0.1001) Grad: 163475.5938  LR: 0.00001672  \n",
      "Epoch: [3][260/366] Elapsed 1m 52s (remain 0m 45s) Loss: 0.0663(0.0996) Grad: 88810.8594  LR: 0.00001659  \n",
      "Epoch: [3][280/366] Elapsed 2m 0s (remain 0m 36s) Loss: 0.1325(0.1000) Grad: 261281.6875  LR: 0.00001646  \n",
      "Epoch: [3][300/366] Elapsed 2m 9s (remain 0m 27s) Loss: 0.0854(0.1007) Grad: 138228.5625  LR: 0.00001633  \n",
      "Epoch: [3][320/366] Elapsed 2m 17s (remain 0m 19s) Loss: 0.1699(0.1014) Grad: 410020.9062  LR: 0.00001620  \n",
      "Epoch: [3][340/366] Elapsed 2m 26s (remain 0m 10s) Loss: 0.1614(0.1020) Grad: 145346.3125  LR: 0.00001606  \n",
      "Epoch: [3][360/366] Elapsed 2m 35s (remain 0m 2s) Loss: 0.0965(0.1015) Grad: 141955.7188  LR: 0.00001592  \n",
      "Epoch: [3][365/366] Elapsed 2m 37s (remain 0m 0s) Loss: 0.1668(0.1017) Grad: 258975.0000  LR: 0.00001589  \n",
      "EVAL: [0/62] Elapsed 0m 0s (remain 0m 49s) Loss: 0.1045(0.1045) \n",
      "EVAL: [20/62] Elapsed 0m 12s (remain 0m 24s) Loss: 0.0926(0.1202) \n",
      "EVAL: [40/62] Elapsed 0m 24s (remain 0m 12s) Loss: 0.1358(0.1216) \n"
     ]
    },
    {
     "name": "stderr",
     "output_type": "stream",
     "text": [
      "Epoch 3 - avg_train_loss: 0.1017  avg_val_loss: 0.1208  time: 194s\n",
      "Epoch 3 - Score: 0.4931  Scores: [0.5687236815892729, 0.47598062593866136, 0.4502979410412266, 0.4901753930016232, 0.508419567725088, 0.46514087489417644]\n",
      "Epoch 3 - Save Best Score: 0.4931 Model\n"
     ]
    },
    {
     "name": "stdout",
     "output_type": "stream",
     "text": [
      "EVAL: [60/62] Elapsed 0m 36s (remain 0m 0s) Loss: 0.1175(0.1209) \n",
      "EVAL: [61/62] Elapsed 0m 36s (remain 0m 0s) Loss: 0.0577(0.1208) \n",
      "Epoch: [4][0/366] Elapsed 0m 0s (remain 4m 18s) Loss: 0.0701(0.0701) Grad: 60611.1953  LR: 0.00001588  \n",
      "Epoch: [4][20/366] Elapsed 0m 9s (remain 2m 33s) Loss: 0.0983(0.0790) Grad: 91208.1250  LR: 0.00001574  \n",
      "Epoch: [4][40/366] Elapsed 0m 17s (remain 2m 21s) Loss: 0.1031(0.0814) Grad: 120377.3281  LR: 0.00001560  \n",
      "Epoch: [4][60/366] Elapsed 0m 26s (remain 2m 12s) Loss: 0.0811(0.0836) Grad: 94485.4375  LR: 0.00001546  \n",
      "Epoch: [4][80/366] Elapsed 0m 35s (remain 2m 3s) Loss: 0.0595(0.0851) Grad: 90122.1875  LR: 0.00001532  \n",
      "Epoch: [4][100/366] Elapsed 0m 43s (remain 1m 54s) Loss: 0.0912(0.0863) Grad: 165328.9375  LR: 0.00001517  \n",
      "Epoch: [4][120/366] Elapsed 0m 52s (remain 1m 45s) Loss: 0.1017(0.0878) Grad: 154979.2031  LR: 0.00001502  \n",
      "Epoch: [4][140/366] Elapsed 1m 0s (remain 1m 37s) Loss: 0.0940(0.0879) Grad: 122750.7031  LR: 0.00001487  \n",
      "Epoch: [4][160/366] Elapsed 1m 9s (remain 1m 28s) Loss: 0.1189(0.0884) Grad: 269683.3438  LR: 0.00001472  \n",
      "Epoch: [4][180/366] Elapsed 1m 17s (remain 1m 19s) Loss: 0.1048(0.0885) Grad: 163095.8906  LR: 0.00001457  \n",
      "Epoch: [4][200/366] Elapsed 1m 26s (remain 1m 11s) Loss: 0.1052(0.0883) Grad: 99834.1406  LR: 0.00001442  \n",
      "Epoch: [4][220/366] Elapsed 1m 35s (remain 1m 2s) Loss: 0.0576(0.0874) Grad: 109588.5859  LR: 0.00001426  \n",
      "Epoch: [4][240/366] Elapsed 1m 43s (remain 0m 53s) Loss: 0.0699(0.0868) Grad: 98918.1016  LR: 0.00001411  \n",
      "Epoch: [4][260/366] Elapsed 1m 52s (remain 0m 45s) Loss: 0.0859(0.0871) Grad: 99758.5547  LR: 0.00001395  \n",
      "Epoch: [4][280/366] Elapsed 2m 0s (remain 0m 36s) Loss: 0.1129(0.0875) Grad: 102281.1719  LR: 0.00001379  \n",
      "Epoch: [4][300/366] Elapsed 2m 9s (remain 0m 27s) Loss: 0.0807(0.0872) Grad: 95278.1953  LR: 0.00001363  \n",
      "Epoch: [4][320/366] Elapsed 2m 18s (remain 0m 19s) Loss: 0.0737(0.0868) Grad: 146993.8750  LR: 0.00001347  \n",
      "Epoch: [4][340/366] Elapsed 2m 26s (remain 0m 10s) Loss: 0.0684(0.0865) Grad: 88257.1641  LR: 0.00001331  \n",
      "Epoch: [4][360/366] Elapsed 2m 35s (remain 0m 2s) Loss: 0.1187(0.0859) Grad: 164233.7031  LR: 0.00001315  \n",
      "Epoch: [4][365/366] Elapsed 2m 37s (remain 0m 0s) Loss: 0.1223(0.0858) Grad: 151032.3906  LR: 0.00001311  \n",
      "EVAL: [0/62] Elapsed 0m 0s (remain 0m 49s) Loss: 0.1215(0.1215) \n",
      "EVAL: [20/62] Elapsed 0m 12s (remain 0m 24s) Loss: 0.0703(0.1143) \n",
      "EVAL: [40/62] Elapsed 0m 24s (remain 0m 12s) Loss: 0.1305(0.1163) \n"
     ]
    },
    {
     "name": "stderr",
     "output_type": "stream",
     "text": [
      "Epoch 4 - avg_train_loss: 0.0858  avg_val_loss: 0.1160  time: 194s\n",
      "Epoch 4 - Score: 0.4837  Scores: [0.5185812961760935, 0.5019436967011748, 0.43296422975153526, 0.4780624512847233, 0.5049197719738762, 0.46576647509730135]\n",
      "Epoch 4 - Save Best Score: 0.4837 Model\n"
     ]
    },
    {
     "name": "stdout",
     "output_type": "stream",
     "text": [
      "EVAL: [60/62] Elapsed 0m 36s (remain 0m 0s) Loss: 0.1146(0.1161) \n",
      "EVAL: [61/62] Elapsed 0m 36s (remain 0m 0s) Loss: 0.0489(0.1160) \n",
      "Epoch: [5][0/366] Elapsed 0m 0s (remain 4m 13s) Loss: 0.1000(0.1000) Grad: 99326.5078  LR: 0.00001310  \n",
      "Epoch: [5][20/366] Elapsed 0m 9s (remain 2m 30s) Loss: 0.1077(0.0726) Grad: 178688.0625  LR: 0.00001294  \n",
      "Epoch: [5][40/366] Elapsed 0m 17s (remain 2m 20s) Loss: 0.1105(0.0734) Grad: 157098.2344  LR: 0.00001277  \n",
      "Epoch: [5][60/366] Elapsed 0m 26s (remain 2m 11s) Loss: 0.0628(0.0735) Grad: 120910.0391  LR: 0.00001261  \n",
      "Epoch: [5][80/366] Elapsed 0m 34s (remain 2m 2s) Loss: 0.0694(0.0714) Grad: 129133.2656  LR: 0.00001244  \n",
      "Epoch: [5][100/366] Elapsed 0m 43s (remain 1m 53s) Loss: 0.1295(0.0717) Grad: 376659.8125  LR: 0.00001228  \n",
      "Epoch: [5][120/366] Elapsed 0m 52s (remain 1m 45s) Loss: 0.0601(0.0717) Grad: 86057.5938  LR: 0.00001211  \n",
      "Epoch: [5][140/366] Elapsed 1m 0s (remain 1m 36s) Loss: 0.0820(0.0720) Grad: 148286.2188  LR: 0.00001194  \n",
      "Epoch: [5][160/366] Elapsed 1m 9s (remain 1m 28s) Loss: 0.0757(0.0717) Grad: 101673.2344  LR: 0.00001177  \n",
      "Epoch: [5][180/366] Elapsed 1m 17s (remain 1m 19s) Loss: 0.0686(0.0714) Grad: 118543.7656  LR: 0.00001160  \n",
      "Epoch: [5][200/366] Elapsed 1m 26s (remain 1m 10s) Loss: 0.0543(0.0717) Grad: 74301.1094  LR: 0.00001143  \n",
      "Epoch: [5][220/366] Elapsed 1m 34s (remain 1m 2s) Loss: 0.0686(0.0715) Grad: 139829.5625  LR: 0.00001126  \n",
      "Epoch: [5][240/366] Elapsed 1m 43s (remain 0m 53s) Loss: 0.0906(0.0715) Grad: 80403.3828  LR: 0.00001109  \n",
      "Epoch: [5][260/366] Elapsed 1m 52s (remain 0m 45s) Loss: 0.0515(0.0715) Grad: 65162.9570  LR: 0.00001092  \n",
      "Epoch: [5][280/366] Elapsed 2m 0s (remain 0m 36s) Loss: 0.0647(0.0718) Grad: 149754.2812  LR: 0.00001075  \n",
      "Epoch: [5][300/366] Elapsed 2m 9s (remain 0m 27s) Loss: 0.0769(0.0720) Grad: 129858.8047  LR: 0.00001058  \n",
      "Epoch: [5][320/366] Elapsed 2m 17s (remain 0m 19s) Loss: 0.0447(0.0718) Grad: 91022.5000  LR: 0.00001041  \n",
      "Epoch: [5][340/366] Elapsed 2m 26s (remain 0m 10s) Loss: 0.0686(0.0718) Grad: 109577.9062  LR: 0.00001024  \n",
      "Epoch: [5][360/366] Elapsed 2m 35s (remain 0m 2s) Loss: 0.0735(0.0718) Grad: 95116.0156  LR: 0.00001007  \n",
      "Epoch: [5][365/366] Elapsed 2m 37s (remain 0m 0s) Loss: 0.0799(0.0717) Grad: 87535.5547  LR: 0.00001003  \n",
      "EVAL: [0/62] Elapsed 0m 0s (remain 0m 49s) Loss: 0.1083(0.1083) \n",
      "EVAL: [20/62] Elapsed 0m 12s (remain 0m 24s) Loss: 0.0859(0.1221) \n",
      "EVAL: [40/62] Elapsed 0m 24s (remain 0m 12s) Loss: 0.1463(0.1205) \n"
     ]
    },
    {
     "name": "stderr",
     "output_type": "stream",
     "text": [
      "Epoch 5 - avg_train_loss: 0.0717  avg_val_loss: 0.1215  time: 194s\n",
      "Epoch 5 - Score: 0.4947  Scores: [0.5447327764978729, 0.4883392692242142, 0.4444363464744573, 0.4979184900822073, 0.5245372071618862, 0.46825870203324466]\n"
     ]
    },
    {
     "name": "stdout",
     "output_type": "stream",
     "text": [
      "EVAL: [60/62] Elapsed 0m 36s (remain 0m 0s) Loss: 0.1177(0.1216) \n",
      "EVAL: [61/62] Elapsed 0m 36s (remain 0m 0s) Loss: 0.0448(0.1215) \n",
      "Epoch: [6][0/366] Elapsed 0m 0s (remain 3m 56s) Loss: 0.0695(0.0695) Grad: 93565.9219  LR: 0.00001002  \n",
      "Epoch: [6][20/366] Elapsed 0m 9s (remain 2m 31s) Loss: 0.0528(0.0587) Grad: 64802.7539  LR: 0.00000985  \n",
      "Epoch: [6][40/366] Elapsed 0m 17s (remain 2m 20s) Loss: 0.0618(0.0598) Grad: 147714.0625  LR: 0.00000967  \n",
      "Epoch: [6][60/366] Elapsed 0m 26s (remain 2m 10s) Loss: 0.0380(0.0597) Grad: 68846.6484  LR: 0.00000950  \n",
      "Epoch: [6][80/366] Elapsed 0m 34s (remain 2m 2s) Loss: 0.0638(0.0588) Grad: 89104.1406  LR: 0.00000933  \n",
      "Epoch: [6][100/366] Elapsed 0m 43s (remain 1m 53s) Loss: 0.1010(0.0610) Grad: 235782.9375  LR: 0.00000916  \n",
      "Epoch: [6][120/366] Elapsed 0m 51s (remain 1m 45s) Loss: 0.0486(0.0610) Grad: 99474.3438  LR: 0.00000899  \n",
      "Epoch: [6][140/366] Elapsed 1m 0s (remain 1m 36s) Loss: 0.0780(0.0608) Grad: 235706.9531  LR: 0.00000882  \n",
      "Epoch: [6][160/366] Elapsed 1m 9s (remain 1m 28s) Loss: 0.0661(0.0609) Grad: 110326.2422  LR: 0.00000865  \n",
      "Epoch: [6][180/366] Elapsed 1m 17s (remain 1m 19s) Loss: 0.0489(0.0610) Grad: 97216.2891  LR: 0.00000848  \n",
      "Epoch: [6][200/366] Elapsed 1m 26s (remain 1m 10s) Loss: 0.0653(0.0609) Grad: 175229.4688  LR: 0.00000831  \n",
      "Epoch: [6][220/366] Elapsed 1m 34s (remain 1m 2s) Loss: 0.0576(0.0609) Grad: 183383.6250  LR: 0.00000814  \n",
      "Epoch: [6][240/366] Elapsed 1m 43s (remain 0m 53s) Loss: 0.0517(0.0612) Grad: 83170.9688  LR: 0.00000797  \n",
      "Epoch: [6][260/366] Elapsed 1m 52s (remain 0m 45s) Loss: 0.0552(0.0613) Grad: 89195.7109  LR: 0.00000781  \n",
      "Epoch: [6][280/366] Elapsed 2m 0s (remain 0m 36s) Loss: 0.0416(0.0615) Grad: 118798.4141  LR: 0.00000764  \n",
      "Epoch: [6][300/366] Elapsed 2m 9s (remain 0m 27s) Loss: 0.0626(0.0613) Grad: 185876.8906  LR: 0.00000747  \n",
      "Epoch: [6][320/366] Elapsed 2m 17s (remain 0m 19s) Loss: 0.0685(0.0612) Grad: 185143.1875  LR: 0.00000731  \n",
      "Epoch: [6][340/366] Elapsed 2m 26s (remain 0m 10s) Loss: 0.0699(0.0611) Grad: 109565.4453  LR: 0.00000714  \n",
      "Epoch: [6][360/366] Elapsed 2m 34s (remain 0m 2s) Loss: 0.0481(0.0611) Grad: 73161.9531  LR: 0.00000698  \n",
      "Epoch: [6][365/366] Elapsed 2m 36s (remain 0m 0s) Loss: 0.0486(0.0610) Grad: 65713.4609  LR: 0.00000694  \n",
      "EVAL: [0/62] Elapsed 0m 1s (remain 1m 3s) Loss: 0.1194(0.1194) \n",
      "EVAL: [20/62] Elapsed 0m 12s (remain 0m 25s) Loss: 0.0787(0.1185) \n",
      "EVAL: [40/62] Elapsed 0m 24s (remain 0m 12s) Loss: 0.1360(0.1175) \n"
     ]
    },
    {
     "name": "stderr",
     "output_type": "stream",
     "text": [
      "Epoch 6 - avg_train_loss: 0.0610  avg_val_loss: 0.1190  time: 194s\n",
      "Epoch 6 - Score: 0.4900  Scores: [0.5213170796867417, 0.49226031292152617, 0.4448770885965959, 0.49609070426460466, 0.5134792247936678, 0.4721647301672746]\n"
     ]
    },
    {
     "name": "stdout",
     "output_type": "stream",
     "text": [
      "EVAL: [60/62] Elapsed 0m 36s (remain 0m 0s) Loss: 0.1229(0.1192) \n",
      "EVAL: [61/62] Elapsed 0m 36s (remain 0m 0s) Loss: 0.0449(0.1190) \n",
      "Epoch: [7][0/366] Elapsed 0m 0s (remain 3m 57s) Loss: 0.0480(0.0480) Grad: 88105.3516  LR: 0.00000693  \n",
      "Epoch: [7][20/366] Elapsed 0m 9s (remain 2m 30s) Loss: 0.0603(0.0548) Grad: 106298.1328  LR: 0.00000677  \n",
      "Epoch: [7][40/366] Elapsed 0m 17s (remain 2m 19s) Loss: 0.0418(0.0524) Grad: 85010.3906  LR: 0.00000661  \n",
      "Epoch: [7][60/366] Elapsed 0m 26s (remain 2m 12s) Loss: 0.0562(0.0533) Grad: 73327.2578  LR: 0.00000645  \n",
      "Epoch: [7][80/366] Elapsed 0m 34s (remain 2m 3s) Loss: 0.0357(0.0532) Grad: 45453.6484  LR: 0.00000629  \n",
      "Epoch: [7][100/366] Elapsed 0m 43s (remain 1m 54s) Loss: 0.0585(0.0533) Grad: 100448.4609  LR: 0.00000613  \n",
      "Epoch: [7][120/366] Elapsed 0m 52s (remain 1m 45s) Loss: 0.0759(0.0528) Grad: 88539.6562  LR: 0.00000597  \n",
      "Epoch: [7][140/366] Elapsed 1m 0s (remain 1m 36s) Loss: 0.0417(0.0522) Grad: 96529.1094  LR: 0.00000581  \n",
      "Epoch: [7][160/366] Elapsed 1m 9s (remain 1m 28s) Loss: 0.0578(0.0522) Grad: 61081.8281  LR: 0.00000566  \n",
      "Epoch: [7][180/366] Elapsed 1m 17s (remain 1m 19s) Loss: 0.0473(0.0521) Grad: 101551.7344  LR: 0.00000551  \n",
      "Epoch: [7][200/366] Elapsed 1m 26s (remain 1m 11s) Loss: 0.0482(0.0525) Grad: 169363.2031  LR: 0.00000535  \n",
      "Epoch: [7][220/366] Elapsed 1m 35s (remain 1m 2s) Loss: 0.0544(0.0526) Grad: 82898.6484  LR: 0.00000520  \n",
      "Epoch: [7][240/366] Elapsed 1m 43s (remain 0m 53s) Loss: 0.0389(0.0527) Grad: 125263.1406  LR: 0.00000505  \n",
      "Epoch: [7][260/366] Elapsed 1m 52s (remain 0m 45s) Loss: 0.0556(0.0527) Grad: 105964.9375  LR: 0.00000490  \n",
      "Epoch: [7][280/366] Elapsed 2m 0s (remain 0m 36s) Loss: 0.0402(0.0528) Grad: 104406.1094  LR: 0.00000476  \n",
      "Epoch: [7][300/366] Elapsed 2m 9s (remain 0m 27s) Loss: 0.0621(0.0531) Grad: 121521.5078  LR: 0.00000461  \n",
      "Epoch: [7][320/366] Elapsed 2m 17s (remain 0m 19s) Loss: 0.0487(0.0535) Grad: 79326.4766  LR: 0.00000447  \n",
      "Epoch: [7][340/366] Elapsed 2m 26s (remain 0m 10s) Loss: 0.0581(0.0533) Grad: 113466.2578  LR: 0.00000433  \n",
      "Epoch: [7][360/366] Elapsed 2m 35s (remain 0m 2s) Loss: 0.0519(0.0532) Grad: 57357.1406  LR: 0.00000419  \n",
      "Epoch: [7][365/366] Elapsed 2m 37s (remain 0m 0s) Loss: 0.0571(0.0533) Grad: 134454.8750  LR: 0.00000415  \n",
      "EVAL: [0/62] Elapsed 0m 0s (remain 0m 49s) Loss: 0.1204(0.1204) \n",
      "EVAL: [20/62] Elapsed 0m 12s (remain 0m 24s) Loss: 0.0753(0.1178) \n",
      "EVAL: [40/62] Elapsed 0m 24s (remain 0m 12s) Loss: 0.1356(0.1170) \n"
     ]
    },
    {
     "name": "stderr",
     "output_type": "stream",
     "text": [
      "Epoch 7 - avg_train_loss: 0.0533  avg_val_loss: 0.1188  time: 194s\n",
      "Epoch 7 - Score: 0.4896  Scores: [0.5193863406387215, 0.49191921772171837, 0.44231517670687137, 0.4911110736277397, 0.5205253629922174, 0.47207521871125296]\n"
     ]
    },
    {
     "name": "stdout",
     "output_type": "stream",
     "text": [
      "EVAL: [60/62] Elapsed 0m 36s (remain 0m 0s) Loss: 0.1198(0.1190) \n",
      "EVAL: [61/62] Elapsed 0m 36s (remain 0m 0s) Loss: 0.0393(0.1188) \n"
     ]
    },
    {
     "name": "stderr",
     "output_type": "stream",
     "text": [
      "========== fold: 3 result ==========\n",
      "Score: 0.4837  Scores: [0.5185812961760935, 0.5019436967011748, 0.43296422975153526, 0.4780624512847233, 0.5049197719738762, 0.46576647509730135]\n",
      "========== CV ==========\n",
      "Score: 0.4845  Scores: [0.5205004344348271, 0.4804806736494826, 0.43602344797960735, 0.4870364086478878, 0.5100975886816853, 0.4728275038598936]\n"
     ]
    },
    {
     "data": {
      "text/html": [
       "Waiting for W&B process to finish... <strong style=\"color:green\">(success).</strong>"
      ],
      "text/plain": [
       "<IPython.core.display.HTML object>"
      ]
     },
     "metadata": {},
     "output_type": "display_data"
    },
    {
     "data": {
      "application/vnd.jupyter.widget-view+json": {
       "model_id": "",
       "version_major": 2,
       "version_minor": 0
      },
      "text/plain": [
       "VBox(children=(Label(value='0.000 MB of 0.000 MB uploaded (0.000 MB deduped)\\r'), FloatProgress(value=1.0, max…"
      ]
     },
     "metadata": {},
     "output_type": "display_data"
    },
    {
     "data": {
      "text/html": [
       "<style>\n",
       "    table.wandb td:nth-child(1) { padding: 0 10px; text-align: left ; width: auto;} td:nth-child(2) {text-align: left ; width: 100%}\n",
       "    .wandb-row { display: flex; flex-direction: row; flex-wrap: wrap; justify-content: flex-start; width: 100% }\n",
       "    .wandb-col { display: flex; flex-direction: column; flex-basis: 100%; flex: 1; padding: 10px; }\n",
       "    </style>\n",
       "<div class=\"wandb-row\"><div class=\"wandb-col\"><h3>Run history:</h3><br/><table class=\"wandb\"><tr><td>[fold0] avg_train_loss</td><td>█▃▃▂▂▁▁</td></tr><tr><td>[fold0] avg_val_loss</td><td>▆█▄▁▃▅▄</td></tr><tr><td>[fold0] epoch</td><td>▁▂▃▅▆▇█</td></tr><tr><td>[fold0] loss</td><td>▇▅▄██▄▂▃▄▆▆▁▃▄▅▃▂▃▃▄▅▃▃▃▃▄▂▃▂▃▁▁▂▂▂▂▂▃▂▂</td></tr><tr><td>[fold0] lr</td><td>█████████▇▇▇▇▇▇▆▆▆▆▆▅▅▅▅▅▄▄▄▄▃▃▃▃▂▂▂▂▂▁▁</td></tr><tr><td>[fold0] score</td><td>▆█▄▁▃▅▅</td></tr><tr><td>[fold1] avg_train_loss</td><td>█▃▂▂▁▁</td></tr><tr><td>[fold1] avg_val_loss</td><td>█▂▁▅▂▃</td></tr><tr><td>[fold1] epoch</td><td>▁▂▄▅▇█</td></tr><tr><td>[fold1] loss</td><td>███▇▆▆▄▅▄▄▆▅▂▄▃▂▄▅▂▆▃▂▃▃▄▃▄▂▂▃▃▂▂▄▂▂▁▂▂▃</td></tr><tr><td>[fold1] lr</td><td>█████████▇▇▇▇▇▇▇▆▆▆▆▆▅▅▅▅▅▄▄▄▄▃▃▃▃▂▂▂▂▁▁</td></tr><tr><td>[fold1] score</td><td>█▂▁▅▂▃</td></tr><tr><td>[fold2] avg_train_loss</td><td>█▃▂▂▁</td></tr><tr><td>[fold2] avg_val_loss</td><td>█▁▃▂▂</td></tr><tr><td>[fold2] epoch</td><td>▁▃▅▆█</td></tr><tr><td>[fold2] loss</td><td>█▄▄▃▂▃▅▄▂▂▃▃▃▃▃▂▃▃▂▂▂▂▃▂▂▂▂▂▂▂▁▂▂▂▁▂▂▂▁▂</td></tr><tr><td>[fold2] lr</td><td>██████████▇▇▇▇▇▇▇▆▆▆▆▆▅▅▅▅▅▄▄▄▄▃▃▃▂▂▂▂▁▁</td></tr><tr><td>[fold2] score</td><td>█▁▃▂▂</td></tr><tr><td>[fold3] avg_train_loss</td><td>█▃▃▂▂▁▁</td></tr><tr><td>[fold3] avg_val_loss</td><td>▂█▂▁▂▂▂</td></tr><tr><td>[fold3] epoch</td><td>▁▂▃▅▆▇█</td></tr><tr><td>[fold3] loss</td><td>▄▃█▂▄▂▂▃▃▂▂▄▂▃▂▃▂▁▂▂▂▂▁▂▂▂▁▁▂▂▁▁▁▁▁▁▁▁▁▂</td></tr><tr><td>[fold3] lr</td><td>█████████▇▇▇▇▇▇▆▆▆▆▆▅▅▅▅▅▄▄▄▄▃▃▃▃▂▂▂▂▂▁▁</td></tr><tr><td>[fold3] score</td><td>▂█▂▁▂▂▂</td></tr></table><br/></div><div class=\"wandb-col\"><h3>Run summary:</h3><br/><table class=\"wandb\"><tr><td>[fold0] avg_train_loss</td><td>0.05478</td></tr><tr><td>[fold0] avg_val_loss</td><td>0.11952</td></tr><tr><td>[fold0] epoch</td><td>7</td></tr><tr><td>[fold0] loss</td><td>0.07074</td></tr><tr><td>[fold0] lr</td><td>0.0</td></tr><tr><td>[fold0] score</td><td>0.49056</td></tr><tr><td>[fold1] avg_train_loss</td><td>0.06694</td></tr><tr><td>[fold1] avg_val_loss</td><td>0.12249</td></tr><tr><td>[fold1] epoch</td><td>6</td></tr><tr><td>[fold1] loss</td><td>0.07534</td></tr><tr><td>[fold1] lr</td><td>1e-05</td></tr><tr><td>[fold1] score</td><td>0.49691</td></tr><tr><td>[fold2] avg_train_loss</td><td>0.07795</td></tr><tr><td>[fold2] avg_val_loss</td><td>0.12441</td></tr><tr><td>[fold2] epoch</td><td>5</td></tr><tr><td>[fold2] loss</td><td>0.05733</td></tr><tr><td>[fold2] lr</td><td>1e-05</td></tr><tr><td>[fold2] score</td><td>0.50164</td></tr><tr><td>[fold3] avg_train_loss</td><td>0.0533</td></tr><tr><td>[fold3] avg_val_loss</td><td>0.11883</td></tr><tr><td>[fold3] epoch</td><td>7</td></tr><tr><td>[fold3] loss</td><td>0.05709</td></tr><tr><td>[fold3] lr</td><td>0.0</td></tr><tr><td>[fold3] score</td><td>0.48956</td></tr></table><br/></div></div>"
      ],
      "text/plain": [
       "<IPython.core.display.HTML object>"
      ]
     },
     "metadata": {},
     "output_type": "display_data"
    },
    {
     "data": {
      "text/html": [
       "Synced <strong style=\"color:#cdcd00\">001_202211091626</strong>: <a href=\"https://wandb.ai/hiroki8383/Feedback%20Prize%20-%20English%20Language%20Learning/runs/3qdadn1j\" target=\"_blank\">https://wandb.ai/hiroki8383/Feedback%20Prize%20-%20English%20Language%20Learning/runs/3qdadn1j</a><br/>Synced 6 W&B file(s), 0 media file(s), 0 artifact file(s) and 0 other file(s)"
      ],
      "text/plain": [
       "<IPython.core.display.HTML object>"
      ]
     },
     "metadata": {},
     "output_type": "display_data"
    },
    {
     "data": {
      "text/html": [
       "Find logs at: <code>./wandb/run-20221109_072646-3qdadn1j/logs</code>"
      ],
      "text/plain": [
       "<IPython.core.display.HTML object>"
      ]
     },
     "metadata": {},
     "output_type": "display_data"
    }
   ],
   "source": [
    "if __name__ == '__main__':\n",
    "    \n",
    "    def get_result(oof_df):\n",
    "        labels = oof_df[CFG.target_cols].values\n",
    "        preds = oof_df[[f\"pred_{c}\" for c in CFG.target_cols]].values\n",
    "        score, scores = get_score(labels, preds)\n",
    "        LOGGER.info(f'Score: {score:<.4f}  Scores: {scores}')\n",
    "        return score\n",
    "    \n",
    "    if CFG.train:\n",
    "        oof_df = pd.DataFrame()\n",
    "        for fold in range(CFG.n_fold):\n",
    "            if fold in CFG.trn_fold:\n",
    "                _oof_df = train_loop(train, fold)\n",
    "                oof_df = pd.concat([oof_df, _oof_df])\n",
    "                LOGGER.info(f\"========== fold: {fold} result ==========\")\n",
    "                score = get_result(_oof_df)\n",
    "        oof_df = oof_df.reset_index(drop=True)\n",
    "        LOGGER.info(f\"========== CV ==========\")\n",
    "        score = round(get_result(oof_df),3)\n",
    "        oof_df.to_pickle(OUTPUT_DIR+f'oof_df.pkl')\n",
    "        \n",
    "    # if CFG.DEBUG:\n",
    "    #     import send2trash\n",
    "    #     send2trash.send2trash(OUTPUT_DIR)\n",
    "    CFG.OUTPUT_DIR = OUTPUT_DIR\n",
    "    dict_cfg = {k: vars(CFG)[k] for k in vars(CFG) if \"__\" not in k}\n",
    "    with open(OUTPUT_DIR+\"dict_cfg\", 'wb') as web:\n",
    "        pickle.dump(dict_cfg , web)\n",
    "    with open(OUTPUT_DIR+\"class_cfg\", 'wb') as web:\n",
    "        pickle.dump(CFG , web)\n",
    "    \n",
    "    \n",
    "    if CFG.wandb:\n",
    "        wandb.config.update(class2dict(CFG))\n",
    "        wandb.finish()"
   ]
  },
  {
   "cell_type": "code",
   "execution_count": 18,
   "metadata": {},
   "outputs": [
    {
     "name": "stdout",
     "output_type": "stream",
     "text": [
      "/home/jupyter/output/ex/bert-base-uncased/001/202211091626/\n"
     ]
    }
   ],
   "source": [
    "print(OUTPUT_DIR)"
   ]
  },
  {
   "cell_type": "code",
   "execution_count": 19,
   "metadata": {},
   "outputs": [],
   "source": [
    "# import os\n",
    "# OUTPUT_DIR = \"/home/jupyter/output/ex/roberta-base/004/202210151736/\"\n",
    "# PREDICT_DIR = OUTPUT_DIR.replace(\"output\",\"predict\")\n",
    "# if not os.path.exists(PREDICT_DIR):\n",
    "#     os.makedirs(PREDICT_DIR)\n"
   ]
  },
  {
   "cell_type": "code",
   "execution_count": 20,
   "metadata": {},
   "outputs": [
    {
     "name": "stdout",
     "output_type": "stream",
     "text": [
      "Starting upload for file config.pth\n"
     ]
    },
    {
     "name": "stderr",
     "output_type": "stream",
     "text": [
      "100% 2.36k/2.36k [00:03<00:00, 797B/s]\n"
     ]
    },
    {
     "name": "stdout",
     "output_type": "stream",
     "text": [
      "Upload successful: config.pth (2KB)\n",
      "Starting upload for file class_cfg\n"
     ]
    },
    {
     "name": "stderr",
     "output_type": "stream",
     "text": [
      "100% 19.0/19.0 [00:02<00:00, 8.15B/s]\n"
     ]
    },
    {
     "name": "stdout",
     "output_type": "stream",
     "text": [
      "Upload successful: class_cfg (19B)\n",
      "Starting upload for file bert-base-uncased_fold2_best.pth\n"
     ]
    },
    {
     "name": "stderr",
     "output_type": "stream",
     "text": [
      "100% 418M/418M [00:12<00:00, 35.0MB/s] \n"
     ]
    },
    {
     "name": "stdout",
     "output_type": "stream",
     "text": [
      "Upload successful: bert-base-uncased_fold2_best.pth (418MB)\n",
      "Starting upload for file bert-base-uncased_fold3_best.pth\n"
     ]
    },
    {
     "name": "stderr",
     "output_type": "stream",
     "text": [
      "100% 418M/418M [00:13<00:00, 32.2MB/s] \n"
     ]
    },
    {
     "name": "stdout",
     "output_type": "stream",
     "text": [
      "Upload successful: bert-base-uncased_fold3_best.pth (418MB)\n",
      "Starting upload for file oof_df.pkl\n"
     ]
    },
    {
     "name": "stderr",
     "output_type": "stream",
     "text": [
      "100% 9.09M/9.09M [00:03<00:00, 3.11MB/s]\n"
     ]
    },
    {
     "name": "stdout",
     "output_type": "stream",
     "text": [
      "Upload successful: oof_df.pkl (9MB)\n",
      "Starting upload for file train.log\n"
     ]
    },
    {
     "name": "stderr",
     "output_type": "stream",
     "text": [
      "100% 9.83k/9.83k [00:03<00:00, 3.29kB/s]\n"
     ]
    },
    {
     "name": "stdout",
     "output_type": "stream",
     "text": [
      "Upload successful: train.log (10KB)\n",
      "Starting upload for file bert-base-uncased_fold0_best.pth\n"
     ]
    },
    {
     "name": "stderr",
     "output_type": "stream",
     "text": [
      "100% 418M/418M [00:14<00:00, 29.3MB/s] \n"
     ]
    },
    {
     "name": "stdout",
     "output_type": "stream",
     "text": [
      "Upload successful: bert-base-uncased_fold0_best.pth (418MB)\n",
      "Starting upload for file bert-base-uncased_fold1_best.pth\n"
     ]
    },
    {
     "name": "stderr",
     "output_type": "stream",
     "text": [
      "100% 418M/418M [00:13<00:00, 31.8MB/s] \n"
     ]
    },
    {
     "name": "stdout",
     "output_type": "stream",
     "text": [
      "Upload successful: bert-base-uncased_fold1_best.pth (418MB)\n",
      "Starting upload for file dict_cfg\n"
     ]
    },
    {
     "name": "stderr",
     "output_type": "stream",
     "text": [
      "100% 457k/457k [00:02<00:00, 181kB/s]\n"
     ]
    },
    {
     "name": "stdout",
     "output_type": "stream",
     "text": [
      "Upload successful: dict_cfg (457KB)\n",
      "folder upload\n"
     ]
    }
   ],
   "source": [
    "if CFG.TO_KAGGLE:\n",
    "    UPLOAD_DIR = OUTPUT_DIR\n",
    "    EX_NO = f\"{model_name}-{CFG.file_name}\" # 実験番号などを入れる、folderのpathにする\n",
    "    USERID = 'your_id'\n",
    "\n",
    "\n",
    "    def dataset_upload():\n",
    "        import json\n",
    "        from kaggle.api.kaggle_api_extended import KaggleApi\n",
    "\n",
    "        id = f'{USERID}/{EX_NO}'\n",
    "\n",
    "        dataset_metadata = {}\n",
    "        dataset_metadata['id'] = id\n",
    "        dataset_metadata['licenses'] = [{'name': 'CC0-1.0'}]\n",
    "        dataset_metadata['title'] = f'{EX_NO}'\n",
    "\n",
    "        with open(UPLOAD_DIR +'dataset-metadata.json', 'w') as f:\n",
    "            json.dump(dataset_metadata, f, indent=4)\n",
    "\n",
    "        api = KaggleApi()\n",
    "        api.authenticate()\n",
    "\n",
    "        # データセットがない場合\n",
    "        if f'{USERID}/{EX_NO}' not in [str(d) for d in api.dataset_list(user=USERID, search=f'\"{EX_NO}\"')]:\n",
    "            api.dataset_create_new(folder=UPLOAD_DIR,\n",
    "                                   convert_to_csv=False,\n",
    "                                   dir_mode='skip')\n",
    "            \n",
    "            \n",
    "             #フォルダーを削除\n",
    "            if f'{USERID}/{EX_NO}' not in [str(d) for d in api.dataset_list(user=USERID, search=f'\"{EX_NO}\"')]:\n",
    "                remove_files = glob.glob(OUTPUT_DIR+\"*\")\n",
    "                remove_files.remove(OUTPUT_DIR+\"oof_df.pkl\")\n",
    "                for file in remove_files:\n",
    "                    os.remove(file)\n",
    "                print(\"folder upload\")\n",
    "                            #apiコマンドを書き込む\n",
    "                f = open(f'{model_name}_api_command.txt', 'a')\n",
    "                api_command = f\"!kaggle datasets download -d hiroki8383/{EX_NO}\\n\"\n",
    "                f.write(api_command)\n",
    "                f.close()\n",
    "            else:\n",
    "                print(\"folder not upload\")\n",
    "            \n",
    "            \n",
    "        # データセットがある場合→更新されない場合がある（後で原因追及)\n",
    "        else:\n",
    "            print(\"this folder exsits\")\n",
    "            # api.dataset_create_version(folder=UPLOAD_DIR,\n",
    "            #                            version_notes='update',\n",
    "            #                            convert_to_csv=False,\n",
    "            #                            delete_old_versions=False,\n",
    "            #                            dir_mode='zip')\n",
    "\n",
    "        \n",
    "\n",
    "        \n",
    "    dataset_upload()"
   ]
  },
  {
   "cell_type": "code",
   "execution_count": 21,
   "metadata": {
    "tags": []
   },
   "outputs": [
    {
     "name": "stderr",
     "output_type": "stream",
     "text": [
      "Score: 0.4845  Scores: [0.5205004344348271, 0.4804806736494826, 0.43602344797960735, 0.4870364086478878, 0.5100975886816853, 0.4728275038598936]\n"
     ]
    }
   ],
   "source": [
    "if not CFG.DEBUG:\n",
    "    def to_write_score(CFG):\n",
    "        df = pd.read_csv(CFG.score_path)\n",
    "        def get_result2(oof_df):\n",
    "                labels = oof_df[CFG.target_cols].values\n",
    "                preds = oof_df[[f\"pred_{c}\" for c in CFG.target_cols]].values\n",
    "                score, scores = get_score(labels, preds)\n",
    "                LOGGER.info(f'Score: {score:<.4f}  Scores: {scores}')\n",
    "                return score,scores\n",
    "\n",
    "        score,scores = get_result2(oof_df)\n",
    "        name = \"-\".join(OUTPUT_DIR.split(\"/\")[-4:-2])\n",
    "        base = {\"name\":name,\"score\":score,\"memo\":CFG.MEMO} \n",
    "        base.update(dict(zip(CFG.target_cols,scores)))\n",
    "        df = df.append(base,ignore_index=True)\n",
    "        df.to_csv(CFG.score_path,index=False)\n",
    "    to_write_score(CFG)"
   ]
  },
  {
   "cell_type": "code",
   "execution_count": 22,
   "metadata": {},
   "outputs": [
    {
     "data": {
      "text/html": [
       "<div>\n",
       "<style scoped>\n",
       "    .dataframe tbody tr th:only-of-type {\n",
       "        vertical-align: middle;\n",
       "    }\n",
       "\n",
       "    .dataframe tbody tr th {\n",
       "        vertical-align: top;\n",
       "    }\n",
       "\n",
       "    .dataframe thead th {\n",
       "        text-align: right;\n",
       "    }\n",
       "</style>\n",
       "<table border=\"1\" class=\"dataframe\">\n",
       "  <thead>\n",
       "    <tr style=\"text-align: right;\">\n",
       "      <th></th>\n",
       "      <th>name</th>\n",
       "      <th>memo</th>\n",
       "      <th>LB</th>\n",
       "      <th>score</th>\n",
       "      <th>cohesion</th>\n",
       "      <th>syntax</th>\n",
       "      <th>vocabulary</th>\n",
       "      <th>phraseology</th>\n",
       "      <th>grammar</th>\n",
       "      <th>conventions</th>\n",
       "    </tr>\n",
       "  </thead>\n",
       "  <tbody>\n",
       "    <tr>\n",
       "      <th>0</th>\n",
       "      <td>base-discriminator-001</td>\n",
       "      <td>NaN</td>\n",
       "      <td>0.46</td>\n",
       "      <td>0.466957</td>\n",
       "      <td>0.501431</td>\n",
       "      <td>0.455460</td>\n",
       "      <td>0.428477</td>\n",
       "      <td>0.465690</td>\n",
       "      <td>0.485904</td>\n",
       "      <td>0.464780</td>\n",
       "    </tr>\n",
       "    <tr>\n",
       "      <th>1</th>\n",
       "      <td>base-discriminator-002</td>\n",
       "      <td>NaN</td>\n",
       "      <td>0.45</td>\n",
       "      <td>0.474078</td>\n",
       "      <td>0.504413</td>\n",
       "      <td>0.462707</td>\n",
       "      <td>0.432588</td>\n",
       "      <td>0.469546</td>\n",
       "      <td>0.500918</td>\n",
       "      <td>0.474296</td>\n",
       "    </tr>\n",
       "    <tr>\n",
       "      <th>2</th>\n",
       "      <td>deberta-v3-base-003</td>\n",
       "      <td>2epochs</td>\n",
       "      <td>NaN</td>\n",
       "      <td>0.459342</td>\n",
       "      <td>0.496531</td>\n",
       "      <td>0.450482</td>\n",
       "      <td>0.419448</td>\n",
       "      <td>0.457413</td>\n",
       "      <td>0.476347</td>\n",
       "      <td>0.455832</td>\n",
       "    </tr>\n",
       "    <tr>\n",
       "      <th>3</th>\n",
       "      <td>deberta-v3-base-003</td>\n",
       "      <td>6epochs</td>\n",
       "      <td>0.44</td>\n",
       "      <td>0.456879</td>\n",
       "      <td>0.488333</td>\n",
       "      <td>0.448687</td>\n",
       "      <td>0.417134</td>\n",
       "      <td>0.458769</td>\n",
       "      <td>0.479633</td>\n",
       "      <td>0.448721</td>\n",
       "    </tr>\n",
       "    <tr>\n",
       "      <th>4</th>\n",
       "      <td>deberta-v3-base-006</td>\n",
       "      <td>15folds</td>\n",
       "      <td>NaN</td>\n",
       "      <td>0.463635</td>\n",
       "      <td>0.479650</td>\n",
       "      <td>0.475910</td>\n",
       "      <td>0.442828</td>\n",
       "      <td>0.463557</td>\n",
       "      <td>0.456412</td>\n",
       "      <td>0.463457</td>\n",
       "    </tr>\n",
       "    <tr>\n",
       "      <th>5</th>\n",
       "      <td>deberta-v3-base-006</td>\n",
       "      <td>20folds</td>\n",
       "      <td>NaN</td>\n",
       "      <td>0.449212</td>\n",
       "      <td>0.475585</td>\n",
       "      <td>0.433808</td>\n",
       "      <td>0.415852</td>\n",
       "      <td>0.457436</td>\n",
       "      <td>0.484686</td>\n",
       "      <td>0.427907</td>\n",
       "    </tr>\n",
       "    <tr>\n",
       "      <th>6</th>\n",
       "      <td>deberta-v3-base-006</td>\n",
       "      <td>10folds</td>\n",
       "      <td>NaN</td>\n",
       "      <td>0.446338</td>\n",
       "      <td>0.490661</td>\n",
       "      <td>0.435001</td>\n",
       "      <td>0.409460</td>\n",
       "      <td>0.417236</td>\n",
       "      <td>0.481800</td>\n",
       "      <td>0.443871</td>\n",
       "    </tr>\n",
       "    <tr>\n",
       "      <th>7</th>\n",
       "      <td>distilroberta-base-001</td>\n",
       "      <td>4folds</td>\n",
       "      <td>NaN</td>\n",
       "      <td>0.470528</td>\n",
       "      <td>0.501629</td>\n",
       "      <td>0.459765</td>\n",
       "      <td>0.426740</td>\n",
       "      <td>0.473205</td>\n",
       "      <td>0.501976</td>\n",
       "      <td>0.459850</td>\n",
       "    </tr>\n",
       "    <tr>\n",
       "      <th>8</th>\n",
       "      <td>distilroberta-base-002</td>\n",
       "      <td>バッチ16,4folds</td>\n",
       "      <td>NaN</td>\n",
       "      <td>0.471035</td>\n",
       "      <td>0.503345</td>\n",
       "      <td>0.458993</td>\n",
       "      <td>0.427209</td>\n",
       "      <td>0.471235</td>\n",
       "      <td>0.504850</td>\n",
       "      <td>0.460580</td>\n",
       "    </tr>\n",
       "    <tr>\n",
       "      <th>9</th>\n",
       "      <td>microsoft-deberta-v3-large-001</td>\n",
       "      <td>NaN</td>\n",
       "      <td>0.46</td>\n",
       "      <td>0.450311</td>\n",
       "      <td>0.482961</td>\n",
       "      <td>0.445596</td>\n",
       "      <td>0.410873</td>\n",
       "      <td>0.449346</td>\n",
       "      <td>0.466162</td>\n",
       "      <td>0.446928</td>\n",
       "    </tr>\n",
       "    <tr>\n",
       "      <th>10</th>\n",
       "      <td>microsoft-deberta-v3-large-002</td>\n",
       "      <td>NaN</td>\n",
       "      <td>0.44</td>\n",
       "      <td>0.453782</td>\n",
       "      <td>0.486786</td>\n",
       "      <td>0.446127</td>\n",
       "      <td>0.415995</td>\n",
       "      <td>0.452892</td>\n",
       "      <td>0.472186</td>\n",
       "      <td>0.448703</td>\n",
       "    </tr>\n",
       "    <tr>\n",
       "      <th>11</th>\n",
       "      <td>microsoft-deberta-v3-large-004</td>\n",
       "      <td>unscale</td>\n",
       "      <td>0.44</td>\n",
       "      <td>0.460115</td>\n",
       "      <td>0.494655</td>\n",
       "      <td>0.452659</td>\n",
       "      <td>0.419634</td>\n",
       "      <td>0.461738</td>\n",
       "      <td>0.476507</td>\n",
       "      <td>0.455497</td>\n",
       "    </tr>\n",
       "    <tr>\n",
       "      <th>12</th>\n",
       "      <td>roberta-base-003</td>\n",
       "      <td>1fold</td>\n",
       "      <td>0.45</td>\n",
       "      <td>0.459033</td>\n",
       "      <td>0.486786</td>\n",
       "      <td>0.452983</td>\n",
       "      <td>0.423085</td>\n",
       "      <td>0.463976</td>\n",
       "      <td>0.484316</td>\n",
       "      <td>0.443049</td>\n",
       "    </tr>\n",
       "    <tr>\n",
       "      <th>13</th>\n",
       "      <td>roberta-base-004</td>\n",
       "      <td>4folds</td>\n",
       "      <td>0.44</td>\n",
       "      <td>0.466575</td>\n",
       "      <td>0.498291</td>\n",
       "      <td>0.455092</td>\n",
       "      <td>0.427741</td>\n",
       "      <td>0.468486</td>\n",
       "      <td>0.493240</td>\n",
       "      <td>0.456598</td>\n",
       "    </tr>\n",
       "    <tr>\n",
       "      <th>14</th>\n",
       "      <td>roberta-base-005</td>\n",
       "      <td>バッチ16,4folds</td>\n",
       "      <td>0.44</td>\n",
       "      <td>0.463956</td>\n",
       "      <td>0.496089</td>\n",
       "      <td>0.454223</td>\n",
       "      <td>0.425768</td>\n",
       "      <td>0.464463</td>\n",
       "      <td>0.487668</td>\n",
       "      <td>0.455523</td>\n",
       "    </tr>\n",
       "    <tr>\n",
       "      <th>15</th>\n",
       "      <td>roberta-base-006</td>\n",
       "      <td>バッチ32,4folds</td>\n",
       "      <td>NaN</td>\n",
       "      <td>0.464111</td>\n",
       "      <td>0.497241</td>\n",
       "      <td>0.453315</td>\n",
       "      <td>0.425326</td>\n",
       "      <td>0.463499</td>\n",
       "      <td>0.488895</td>\n",
       "      <td>0.456390</td>\n",
       "    </tr>\n",
       "    <tr>\n",
       "      <th>16</th>\n",
       "      <td>roberta-large-002</td>\n",
       "      <td>バッチ8_4folds</td>\n",
       "      <td>0.44</td>\n",
       "      <td>0.461700</td>\n",
       "      <td>NaN</td>\n",
       "      <td>NaN</td>\n",
       "      <td>NaN</td>\n",
       "      <td>NaN</td>\n",
       "      <td>NaN</td>\n",
       "      <td>NaN</td>\n",
       "    </tr>\n",
       "    <tr>\n",
       "      <th>17</th>\n",
       "      <td>roberta-large-003</td>\n",
       "      <td>バッチ16,2_4fold</td>\n",
       "      <td>NaN</td>\n",
       "      <td>0.469800</td>\n",
       "      <td>0.483395</td>\n",
       "      <td>0.457585</td>\n",
       "      <td>0.424750</td>\n",
       "      <td>0.480469</td>\n",
       "      <td>0.494185</td>\n",
       "      <td>0.478415</td>\n",
       "    </tr>\n",
       "    <tr>\n",
       "      <th>18</th>\n",
       "      <td>roberta-large-004</td>\n",
       "      <td>バッチ32,2_4fold</td>\n",
       "      <td>0.45</td>\n",
       "      <td>0.462673</td>\n",
       "      <td>0.487539</td>\n",
       "      <td>0.450118</td>\n",
       "      <td>0.419088</td>\n",
       "      <td>0.469469</td>\n",
       "      <td>0.482251</td>\n",
       "      <td>0.467571</td>\n",
       "    </tr>\n",
       "    <tr>\n",
       "      <th>19</th>\n",
       "      <td>roberta-large-006</td>\n",
       "      <td>バッチ36,2_4fold</td>\n",
       "      <td>0.45</td>\n",
       "      <td>0.466295</td>\n",
       "      <td>0.490185</td>\n",
       "      <td>0.457640</td>\n",
       "      <td>0.423379</td>\n",
       "      <td>0.469386</td>\n",
       "      <td>0.486419</td>\n",
       "      <td>0.470762</td>\n",
       "    </tr>\n",
       "    <tr>\n",
       "      <th>20</th>\n",
       "      <td>roberta-large-007</td>\n",
       "      <td>バッチ40,2_4fold</td>\n",
       "      <td>0.45</td>\n",
       "      <td>0.466273</td>\n",
       "      <td>0.490215</td>\n",
       "      <td>0.453633</td>\n",
       "      <td>0.423818</td>\n",
       "      <td>0.475021</td>\n",
       "      <td>0.485249</td>\n",
       "      <td>0.469699</td>\n",
       "    </tr>\n",
       "    <tr>\n",
       "      <th>21</th>\n",
       "      <td>roberta-large-008</td>\n",
       "      <td>バッチ32_4folds_epochs10</td>\n",
       "      <td>0.44</td>\n",
       "      <td>0.462800</td>\n",
       "      <td>NaN</td>\n",
       "      <td>NaN</td>\n",
       "      <td>NaN</td>\n",
       "      <td>NaN</td>\n",
       "      <td>NaN</td>\n",
       "      <td>NaN</td>\n",
       "    </tr>\n",
       "    <tr>\n",
       "      <th>22</th>\n",
       "      <td>roberta-large-008</td>\n",
       "      <td>バッチ32_4folds_epochs10</td>\n",
       "      <td>0.44</td>\n",
       "      <td>0.462800</td>\n",
       "      <td>NaN</td>\n",
       "      <td>NaN</td>\n",
       "      <td>NaN</td>\n",
       "      <td>NaN</td>\n",
       "      <td>NaN</td>\n",
       "      <td>NaN</td>\n",
       "    </tr>\n",
       "    <tr>\n",
       "      <th>23</th>\n",
       "      <td>roberta-large-mnli-001</td>\n",
       "      <td>4folds</td>\n",
       "      <td>0.44</td>\n",
       "      <td>0.465286</td>\n",
       "      <td>0.493436</td>\n",
       "      <td>0.456988</td>\n",
       "      <td>0.422165</td>\n",
       "      <td>0.470799</td>\n",
       "      <td>0.487859</td>\n",
       "      <td>0.460470</td>\n",
       "    </tr>\n",
       "    <tr>\n",
       "      <th>24</th>\n",
       "      <td>svr-001</td>\n",
       "      <td>4fold</td>\n",
       "      <td>NaN</td>\n",
       "      <td>0.453306</td>\n",
       "      <td>0.483167</td>\n",
       "      <td>0.448158</td>\n",
       "      <td>0.412874</td>\n",
       "      <td>0.455388</td>\n",
       "      <td>0.473294</td>\n",
       "      <td>0.446953</td>\n",
       "    </tr>\n",
       "    <tr>\n",
       "      <th>25</th>\n",
       "      <td>svr-004</td>\n",
       "      <td>4fold</td>\n",
       "      <td>NaN</td>\n",
       "      <td>0.452746</td>\n",
       "      <td>0.481117</td>\n",
       "      <td>0.447022</td>\n",
       "      <td>0.413401</td>\n",
       "      <td>0.455160</td>\n",
       "      <td>0.472988</td>\n",
       "      <td>0.446788</td>\n",
       "    </tr>\n",
       "    <tr>\n",
       "      <th>26</th>\n",
       "      <td>svr-005</td>\n",
       "      <td>10folds,embedding003を使用</td>\n",
       "      <td>NaN</td>\n",
       "      <td>0.455535</td>\n",
       "      <td>0.485642</td>\n",
       "      <td>0.448309</td>\n",
       "      <td>0.414582</td>\n",
       "      <td>0.458728</td>\n",
       "      <td>0.479231</td>\n",
       "      <td>0.446716</td>\n",
       "    </tr>\n",
       "    <tr>\n",
       "      <th>27</th>\n",
       "      <td>funnel-intermediate-001</td>\n",
       "      <td>ベースライン</td>\n",
       "      <td>0.44</td>\n",
       "      <td>0.464516</td>\n",
       "      <td>0.493810</td>\n",
       "      <td>0.461812</td>\n",
       "      <td>0.423381</td>\n",
       "      <td>0.460282</td>\n",
       "      <td>0.479871</td>\n",
       "      <td>0.467938</td>\n",
       "    </tr>\n",
       "    <tr>\n",
       "      <th>28</th>\n",
       "      <td>roberta-base-007</td>\n",
       "      <td>tensorflow ベースライン</td>\n",
       "      <td>0.44</td>\n",
       "      <td>0.460693</td>\n",
       "      <td>0.494831</td>\n",
       "      <td>0.451108</td>\n",
       "      <td>0.421364</td>\n",
       "      <td>0.462382</td>\n",
       "      <td>0.483491</td>\n",
       "      <td>0.450982</td>\n",
       "    </tr>\n",
       "    <tr>\n",
       "      <th>29</th>\n",
       "      <td>roberta-large-020</td>\n",
       "      <td>tensorflowベースライン</td>\n",
       "      <td>0.44</td>\n",
       "      <td>0.461600</td>\n",
       "      <td>NaN</td>\n",
       "      <td>NaN</td>\n",
       "      <td>NaN</td>\n",
       "      <td>NaN</td>\n",
       "      <td>NaN</td>\n",
       "      <td>NaN</td>\n",
       "    </tr>\n",
       "    <tr>\n",
       "      <th>30</th>\n",
       "      <td>funnel-large-001</td>\n",
       "      <td>ベースライン</td>\n",
       "      <td>0.45</td>\n",
       "      <td>0.469392</td>\n",
       "      <td>0.500464</td>\n",
       "      <td>0.465704</td>\n",
       "      <td>0.426260</td>\n",
       "      <td>0.472609</td>\n",
       "      <td>0.485169</td>\n",
       "      <td>0.466142</td>\n",
       "    </tr>\n",
       "    <tr>\n",
       "      <th>31</th>\n",
       "      <td>bigbird-roberta-base-001</td>\n",
       "      <td>ベースライン</td>\n",
       "      <td>0.45</td>\n",
       "      <td>0.472852</td>\n",
       "      <td>0.504070</td>\n",
       "      <td>0.459654</td>\n",
       "      <td>0.433966</td>\n",
       "      <td>0.472433</td>\n",
       "      <td>0.500781</td>\n",
       "      <td>0.466208</td>\n",
       "    </tr>\n",
       "    <tr>\n",
       "      <th>32</th>\n",
       "      <td>bigbird-roberta-large-001</td>\n",
       "      <td>ベースライン</td>\n",
       "      <td>NaN</td>\n",
       "      <td>0.522820</td>\n",
       "      <td>0.544521</td>\n",
       "      <td>0.518818</td>\n",
       "      <td>0.469761</td>\n",
       "      <td>0.522330</td>\n",
       "      <td>0.551040</td>\n",
       "      <td>0.530452</td>\n",
       "    </tr>\n",
       "    <tr>\n",
       "      <th>33</th>\n",
       "      <td>albert-albert-xxlarge-v2-001</td>\n",
       "      <td>ベースライン</td>\n",
       "      <td>0.45</td>\n",
       "      <td>0.470328</td>\n",
       "      <td>0.501257</td>\n",
       "      <td>0.458780</td>\n",
       "      <td>0.427188</td>\n",
       "      <td>0.471476</td>\n",
       "      <td>0.493227</td>\n",
       "      <td>0.470040</td>\n",
       "    </tr>\n",
       "    <tr>\n",
       "      <th>34</th>\n",
       "      <td>muppet-roberta-large-001</td>\n",
       "      <td>ベースライン</td>\n",
       "      <td>NaN</td>\n",
       "      <td>0.467267</td>\n",
       "      <td>0.500692</td>\n",
       "      <td>0.459510</td>\n",
       "      <td>0.422984</td>\n",
       "      <td>0.465804</td>\n",
       "      <td>0.493313</td>\n",
       "      <td>0.461302</td>\n",
       "    </tr>\n",
       "    <tr>\n",
       "      <th>35</th>\n",
       "      <td>muppet-roberta-large-002</td>\n",
       "      <td>llrd,reinit</td>\n",
       "      <td>0.45</td>\n",
       "      <td>0.469194</td>\n",
       "      <td>0.493739</td>\n",
       "      <td>0.461056</td>\n",
       "      <td>0.428373</td>\n",
       "      <td>0.460448</td>\n",
       "      <td>0.500035</td>\n",
       "      <td>0.471513</td>\n",
       "    </tr>\n",
       "    <tr>\n",
       "      <th>36</th>\n",
       "      <td>muppet-roberta-large-003</td>\n",
       "      <td>ベースライン</td>\n",
       "      <td>0.44</td>\n",
       "      <td>0.467267</td>\n",
       "      <td>0.500692</td>\n",
       "      <td>0.459510</td>\n",
       "      <td>0.422984</td>\n",
       "      <td>0.465804</td>\n",
       "      <td>0.493313</td>\n",
       "      <td>0.461302</td>\n",
       "    </tr>\n",
       "    <tr>\n",
       "      <th>37</th>\n",
       "      <td>xlnet-xlnet-base-cased-002</td>\n",
       "      <td>ベースライン</td>\n",
       "      <td>NaN</td>\n",
       "      <td>0.490887</td>\n",
       "      <td>0.516941</td>\n",
       "      <td>0.478326</td>\n",
       "      <td>0.446448</td>\n",
       "      <td>0.491658</td>\n",
       "      <td>0.520468</td>\n",
       "      <td>0.491484</td>\n",
       "    </tr>\n",
       "    <tr>\n",
       "      <th>38</th>\n",
       "      <td>bert-base-uncased-001</td>\n",
       "      <td>ベースライン</td>\n",
       "      <td>NaN</td>\n",
       "      <td>0.484494</td>\n",
       "      <td>0.520500</td>\n",
       "      <td>0.480481</td>\n",
       "      <td>0.436023</td>\n",
       "      <td>0.487036</td>\n",
       "      <td>0.510098</td>\n",
       "      <td>0.472828</td>\n",
       "    </tr>\n",
       "  </tbody>\n",
       "</table>\n",
       "</div>"
      ],
      "text/plain": [
       "                              name                     memo    LB     score  cohesion    syntax  vocabulary  phraseology   grammar  conventions\n",
       "0           base-discriminator-001                      NaN  0.46  0.466957  0.501431  0.455460    0.428477     0.465690  0.485904     0.464780\n",
       "1           base-discriminator-002                      NaN  0.45  0.474078  0.504413  0.462707    0.432588     0.469546  0.500918     0.474296\n",
       "2              deberta-v3-base-003                  2epochs   NaN  0.459342  0.496531  0.450482    0.419448     0.457413  0.476347     0.455832\n",
       "3              deberta-v3-base-003                  6epochs  0.44  0.456879  0.488333  0.448687    0.417134     0.458769  0.479633     0.448721\n",
       "4              deberta-v3-base-006                  15folds   NaN  0.463635  0.479650  0.475910    0.442828     0.463557  0.456412     0.463457\n",
       "5              deberta-v3-base-006                  20folds   NaN  0.449212  0.475585  0.433808    0.415852     0.457436  0.484686     0.427907\n",
       "6              deberta-v3-base-006                  10folds   NaN  0.446338  0.490661  0.435001    0.409460     0.417236  0.481800     0.443871\n",
       "7           distilroberta-base-001                   4folds   NaN  0.470528  0.501629  0.459765    0.426740     0.473205  0.501976     0.459850\n",
       "8           distilroberta-base-002             バッチ16,4folds   NaN  0.471035  0.503345  0.458993    0.427209     0.471235  0.504850     0.460580\n",
       "9   microsoft-deberta-v3-large-001                      NaN  0.46  0.450311  0.482961  0.445596    0.410873     0.449346  0.466162     0.446928\n",
       "10  microsoft-deberta-v3-large-002                      NaN  0.44  0.453782  0.486786  0.446127    0.415995     0.452892  0.472186     0.448703\n",
       "11  microsoft-deberta-v3-large-004                  unscale  0.44  0.460115  0.494655  0.452659    0.419634     0.461738  0.476507     0.455497\n",
       "12                roberta-base-003                    1fold  0.45  0.459033  0.486786  0.452983    0.423085     0.463976  0.484316     0.443049\n",
       "13                roberta-base-004                   4folds  0.44  0.466575  0.498291  0.455092    0.427741     0.468486  0.493240     0.456598\n",
       "14                roberta-base-005             バッチ16,4folds  0.44  0.463956  0.496089  0.454223    0.425768     0.464463  0.487668     0.455523\n",
       "15                roberta-base-006             バッチ32,4folds   NaN  0.464111  0.497241  0.453315    0.425326     0.463499  0.488895     0.456390\n",
       "16               roberta-large-002              バッチ8_4folds  0.44  0.461700       NaN       NaN         NaN          NaN       NaN          NaN\n",
       "17               roberta-large-003            バッチ16,2_4fold   NaN  0.469800  0.483395  0.457585    0.424750     0.480469  0.494185     0.478415\n",
       "18               roberta-large-004            バッチ32,2_4fold  0.45  0.462673  0.487539  0.450118    0.419088     0.469469  0.482251     0.467571\n",
       "19               roberta-large-006            バッチ36,2_4fold  0.45  0.466295  0.490185  0.457640    0.423379     0.469386  0.486419     0.470762\n",
       "20               roberta-large-007            バッチ40,2_4fold  0.45  0.466273  0.490215  0.453633    0.423818     0.475021  0.485249     0.469699\n",
       "21               roberta-large-008    バッチ32_4folds_epochs10  0.44  0.462800       NaN       NaN         NaN          NaN       NaN          NaN\n",
       "22               roberta-large-008    バッチ32_4folds_epochs10  0.44  0.462800       NaN       NaN         NaN          NaN       NaN          NaN\n",
       "23          roberta-large-mnli-001                   4folds  0.44  0.465286  0.493436  0.456988    0.422165     0.470799  0.487859     0.460470\n",
       "24                         svr-001                    4fold   NaN  0.453306  0.483167  0.448158    0.412874     0.455388  0.473294     0.446953\n",
       "25                         svr-004                    4fold   NaN  0.452746  0.481117  0.447022    0.413401     0.455160  0.472988     0.446788\n",
       "26                         svr-005  10folds,embedding003を使用   NaN  0.455535  0.485642  0.448309    0.414582     0.458728  0.479231     0.446716\n",
       "27         funnel-intermediate-001                   ベースライン  0.44  0.464516  0.493810  0.461812    0.423381     0.460282  0.479871     0.467938\n",
       "28                roberta-base-007        tensorflow ベースライン  0.44  0.460693  0.494831  0.451108    0.421364     0.462382  0.483491     0.450982\n",
       "29               roberta-large-020         tensorflowベースライン  0.44  0.461600       NaN       NaN         NaN          NaN       NaN          NaN\n",
       "30                funnel-large-001                   ベースライン  0.45  0.469392  0.500464  0.465704    0.426260     0.472609  0.485169     0.466142\n",
       "31        bigbird-roberta-base-001                   ベースライン  0.45  0.472852  0.504070  0.459654    0.433966     0.472433  0.500781     0.466208\n",
       "32       bigbird-roberta-large-001                   ベースライン   NaN  0.522820  0.544521  0.518818    0.469761     0.522330  0.551040     0.530452\n",
       "33    albert-albert-xxlarge-v2-001                   ベースライン  0.45  0.470328  0.501257  0.458780    0.427188     0.471476  0.493227     0.470040\n",
       "34        muppet-roberta-large-001                   ベースライン   NaN  0.467267  0.500692  0.459510    0.422984     0.465804  0.493313     0.461302\n",
       "35        muppet-roberta-large-002              llrd,reinit  0.45  0.469194  0.493739  0.461056    0.428373     0.460448  0.500035     0.471513\n",
       "36        muppet-roberta-large-003                   ベースライン  0.44  0.467267  0.500692  0.459510    0.422984     0.465804  0.493313     0.461302\n",
       "37      xlnet-xlnet-base-cased-002                   ベースライン   NaN  0.490887  0.516941  0.478326    0.446448     0.491658  0.520468     0.491484\n",
       "38           bert-base-uncased-001                   ベースライン   NaN  0.484494  0.520500  0.480481    0.436023     0.487036  0.510098     0.472828"
      ]
     },
     "execution_count": 22,
     "metadata": {},
     "output_type": "execute_result"
    }
   ],
   "source": [
    "df = pd.read_csv(CFG.score_path)\n",
    "df"
   ]
  }
 ],
 "metadata": {
  "kernelspec": {
   "display_name": "Python 3",
   "language": "python",
   "name": "python3"
  },
  "language_info": {
   "codemirror_mode": {
    "name": "ipython",
    "version": 3
   },
   "file_extension": ".py",
   "mimetype": "text/x-python",
   "name": "python",
   "nbconvert_exporter": "python",
   "pygments_lexer": "ipython3",
   "version": "3.7.3 (v3.7.3:ef4ec6ed12, Mar 25 2019, 22:22:05) [MSC v.1916 64 bit (AMD64)]"
  },
  "vscode": {
   "interpreter": {
    "hash": "93b49097727f0fa9adcd5aafc99dd1cd7ea79cb7347d81ea1db36b3c60bc51bc"
   }
  }
 },
 "nbformat": 4,
 "nbformat_minor": 4
}
