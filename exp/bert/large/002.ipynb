{
 "cells": [
  {
   "cell_type": "code",
   "execution_count": 1,
   "metadata": {
    "papermill": {
     "duration": 0.015868,
     "end_time": "2022-08-31T07:01:57.417077",
     "exception": false,
     "start_time": "2022-08-31T07:01:57.401209",
     "status": "completed"
    },
    "tags": []
   },
   "outputs": [],
   "source": [
    "# ====================================================\n",
    "# CFG\n",
    "# ====================================================\n",
    "import numpy as np\n",
    "class CFG:\n",
    "    wandb = False\n",
    "    DEBUG = False\n",
    "    TO_KAGGLE = False\n",
    "    score_path = \"gs://feedback3/output/scores/scores3.csv\"\n",
    "    MEMO = \"ベースライン\"\n",
    "    file_name = \"002\"\n",
    "    model=\"bert/large-uncased\"\n",
    "    patience = 3\n",
    "    n_fold=4\n",
    "    trn_fold=[0,1,2,3]\n",
    "    model_config_path = f\"/home/jupyter/models/{model}/\"\n",
    "    model_bin_path = f\"/home/jupyter/models/{model}/\"\n",
    "    competition='FB3'\n",
    "    apex=True\n",
    "    print_freq=20\n",
    "    num_workers=4\n",
    "    gradient_checkpointing=True\n",
    "    scheduler='cosine' # ['linear', 'cosine']\n",
    "    batch_scheduler=True\n",
    "    num_cycles=0.5\n",
    "    num_warmup_steps=0\n",
    "    epochs=10\n",
    "    encoder_lr=2e-5\n",
    "    decoder_lr=2e-5\n",
    "    min_lr=1e-6\n",
    "    eps=1e-6\n",
    "    betas=(0.9, 0.999)\n",
    "    batch_size=8\n",
    "    max_len=512\n",
    "    weight_decay=0.01\n",
    "    gradient_accumulation_steps=1\n",
    "    max_grad_norm=1000\n",
    "    target_cols=['cohesion', 'syntax', 'vocabulary', 'phraseology', 'grammar', 'conventions']\n",
    "    seed=42\n",
    "    train=True\n",
    "    \n",
    "if CFG.DEBUG:\n",
    "    CFG.epochs = 2\n",
    "    #CFG.trn_fold = [0]"
   ]
  },
  {
   "cell_type": "code",
   "execution_count": 2,
   "metadata": {},
   "outputs": [],
   "source": [
    "import os\n",
    "import datetime\n",
    "import pickle\n",
    "import glob\n",
    "\n",
    "# ====================================================\n",
    "# datetime\n",
    "# ====================================================\n",
    "t_delta = datetime.timedelta(hours=9)\n",
    "JST = datetime.timezone(t_delta, 'JST')\n",
    "now = datetime.datetime.now(JST)\n",
    "date = now.strftime('%Y%m%d')\n",
    "date2 = now.strftime('%Y%m%d%H%M')\n",
    "\n",
    "\n",
    "# ====================================================\n",
    "# file_path\n",
    "# ====================================================\n",
    "if \"/\" in CFG.model:\n",
    "    model_name = CFG.model.replace(\"/\",\"-\")\n",
    "else:\n",
    "    model_name = CFG.model\n",
    "\n",
    "path =\"/home/jupyter/feedback-prize-english-language-learning/\"\n",
    "if CFG.DEBUG:\n",
    "    OUTPUT_DIR = f'/home/jupyter/output/ex/DEBUG/{model_name}/{CFG.file_name}/{date2}/'\n",
    "else:\n",
    "    OUTPUT_DIR = f'/home/jupyter/output/ex/{model_name}/{CFG.file_name}/{date2}/'\n",
    "if not os.path.exists(OUTPUT_DIR):\n",
    "    os.makedirs(OUTPUT_DIR)\n",
    "\n",
    "\n",
    "\n",
    "# ====================================================\n",
    "# wandb \n",
    "# ====================================================\n",
    "if CFG.wandb:\n",
    "    import wandb\n",
    "    \n",
    "    def class2dict(f):\n",
    "            return dict((name, getattr(f, name)) for name in dir(f) if not name.startswith('__'))\n",
    "        \n",
    "    project='Feedback Prize - English Language Learning'\n",
    "    if CFG.DEBUG:\n",
    "        group = \"DEBUG\"\n",
    "    else:\n",
    "        group = model_name\n",
    "    wandb_name = f\"{CFG.file_name}_{date2}\"\n",
    "    job_type = CFG.file_name  #\"train\"\n",
    "\n",
    "    wandb_api = \"your_id\"\n",
    "    wandb.login(key=wandb_api)\n",
    "    anony = None\n",
    "    run = wandb.init(project=project, \n",
    "                         name = wandb_name,\n",
    "                         config=class2dict(CFG),\n",
    "                         group=group,\n",
    "                         job_type=job_type,\n",
    "                         anonymous=anony)"
   ]
  },
  {
   "cell_type": "markdown",
   "metadata": {
    "papermill": {
     "duration": 0.008876,
     "end_time": "2022-08-31T07:02:06.467728",
     "exception": false,
     "start_time": "2022-08-31T07:02:06.458852",
     "status": "completed"
    },
    "tags": []
   },
   "source": [
    "# Library"
   ]
  },
  {
   "cell_type": "code",
   "execution_count": 3,
   "metadata": {},
   "outputs": [],
   "source": [
    "import numpy as np \n",
    "import pandas as pd \n",
    "import os, gc, re, warnings\n",
    "from iterstrat.ml_stratifiers import MultilabelStratifiedKFold\n",
    "\n",
    "warnings.filterwarnings(\"ignore\")\n",
    "\n",
    "from transformers import AutoModel,AutoTokenizer\n",
    "import torch\n",
    "import torch.nn.functional as F\n",
    "from tqdm import tqdm"
   ]
  },
  {
   "cell_type": "code",
   "execution_count": 4,
   "metadata": {},
   "outputs": [],
   "source": [
    "def mean_pooling(model_output, attention_mask):\n",
    "    token_embeddings = model_output.last_hidden_state.detach().cpu()\n",
    "    input_mask_expanded = (\n",
    "        attention_mask.unsqueeze(-1).expand(token_embeddings.size()).float()\n",
    "    )\n",
    "    return torch.sum(token_embeddings * input_mask_expanded, 1) / torch.clamp(\n",
    "        input_mask_expanded.sum(1), min=1e-9\n",
    "    )"
   ]
  },
  {
   "cell_type": "code",
   "execution_count": 5,
   "metadata": {},
   "outputs": [],
   "source": [
    "class EmbedDataset(torch.utils.data.Dataset):\n",
    "    def __init__(self,df):\n",
    "        self.df = df.reset_index(drop=True)\n",
    "    def __len__(self):\n",
    "        return len(self.df)\n",
    "    def __getitem__(self,idx):\n",
    "        text = self.df.loc[idx,\"full_text\"]\n",
    "        tokens = tokenizer(\n",
    "                text,\n",
    "                None,\n",
    "                add_special_tokens=True,\n",
    "                padding='max_length',\n",
    "                truncation=True,\n",
    "                max_length=MAX_LEN,return_tensors=\"pt\")\n",
    "        tokens = {k:v.squeeze(0) for k,v in tokens.items()}\n",
    "        return tokens\n",
    "\n",
    "def get_embeddings(MODEL_NM='', MAX=512, BATCH_SIZE=4, verbose=True):\n",
    "    global tokenizer, MAX_LEN\n",
    "    DEVICE=\"cuda\"\n",
    "    model = AutoModel.from_pretrained( MODEL_NM )\n",
    "    tokenizer = AutoTokenizer.from_pretrained( MODEL_NM )\n",
    "    MAX_LEN = MAX\n",
    "    \n",
    "    model = model.to(DEVICE)\n",
    "    model.eval()\n",
    "    all_train_text_feats = []\n",
    "    for batch in tqdm(embed_dataloader_tr,total=len(embed_dataloader_tr)):\n",
    "        input_ids = batch[\"input_ids\"].to(DEVICE)\n",
    "        attention_mask = batch[\"attention_mask\"].to(DEVICE)\n",
    "        with torch.no_grad():\n",
    "            model_output = model(input_ids=input_ids,attention_mask=attention_mask)\n",
    "        sentence_embeddings = mean_pooling(model_output, attention_mask.detach().cpu())\n",
    "        # Normalize the embeddings\n",
    "        sentence_embeddings = F.normalize(sentence_embeddings, p=2, dim=1)\n",
    "        sentence_embeddings =  sentence_embeddings.squeeze(0).detach().cpu().numpy()\n",
    "        all_train_text_feats.extend(sentence_embeddings)\n",
    "    all_train_text_feats = np.array(all_train_text_feats)\n",
    "    if verbose:\n",
    "        print('Train embeddings shape',all_train_text_feats.shape)\n",
    "        \n",
    "    te_text_feats = []\n",
    "    for batch in tqdm(embed_dataloader_te,total=len(embed_dataloader_te)):\n",
    "        input_ids = batch[\"input_ids\"].to(DEVICE)\n",
    "        attention_mask = batch[\"attention_mask\"].to(DEVICE)\n",
    "        with torch.no_grad():\n",
    "            model_output = model(input_ids=input_ids,attention_mask=attention_mask)\n",
    "        sentence_embeddings = mean_pooling(model_output, attention_mask.detach().cpu())\n",
    "        # Normalize the embeddings\n",
    "        sentence_embeddings = F.normalize(sentence_embeddings, p=2, dim=1)\n",
    "        sentence_embeddings =  sentence_embeddings.squeeze(0).detach().cpu().numpy()\n",
    "        te_text_feats.extend(sentence_embeddings)\n",
    "    te_text_feats = np.array(te_text_feats)\n",
    "    if verbose:\n",
    "        print('Test embeddings shape',te_text_feats.shape)\n",
    "        \n",
    "    return all_train_text_feats, te_text_feats"
   ]
  },
  {
   "cell_type": "code",
   "execution_count": 6,
   "metadata": {},
   "outputs": [],
   "source": [
    "# ====================================================\n",
    "# Data Loading\n",
    "# ====================================================\n",
    "\n",
    "train = pd.read_csv(path+'train.csv')\n",
    "test = pd.read_csv(path+'test.csv')\n",
    "submission = pd.read_csv(path+'sample_submission.csv')\n",
    "\n",
    "fold = np.load(\"/home/jupyter/output/fold/4fold.npy\")\n",
    "train[\"fold\"] = fold\n",
    "train['fold'] = train['fold'].astype(int)\n",
    "\n",
    "if CFG.DEBUG:\n",
    "    # display(train.groupby('fold').size())\n",
    "    train = train.sample(n=50, random_state=0).reset_index(drop=True)\n",
    "    # display(train.groupby('fold').size())"
   ]
  },
  {
   "cell_type": "code",
   "execution_count": 7,
   "metadata": {},
   "outputs": [],
   "source": [
    "BATCH_SIZE = 4\n",
    "ds_tr = EmbedDataset(train)\n",
    "embed_dataloader_tr = torch.utils.data.DataLoader(ds_tr,\\\n",
    "                        batch_size=BATCH_SIZE,\\\n",
    "                        shuffle=False)\n",
    "ds_te = EmbedDataset(test)\n",
    "embed_dataloader_te = torch.utils.data.DataLoader(ds_te,\\\n",
    "                        batch_size=BATCH_SIZE,\\\n",
    "                        shuffle=False)"
   ]
  },
  {
   "cell_type": "code",
   "execution_count": 8,
   "metadata": {},
   "outputs": [],
   "source": [
    "tokenizer = None\n",
    "MAX_LEN = CFG.max_len"
   ]
  },
  {
   "cell_type": "code",
   "execution_count": 9,
   "metadata": {},
   "outputs": [
    {
     "name": "stderr",
     "output_type": "stream",
     "text": [
      "Some weights of the model checkpoint at /home/jupyter/models/bert/large-uncased/ were not used when initializing BertModel: ['cls.predictions.bias', 'cls.predictions.transform.LayerNorm.bias', 'cls.predictions.transform.LayerNorm.weight', 'cls.seq_relationship.bias', 'cls.predictions.transform.dense.weight', 'cls.predictions.transform.dense.bias', 'cls.seq_relationship.weight', 'cls.predictions.decoder.weight']\n",
      "- This IS expected if you are initializing BertModel from the checkpoint of a model trained on another task or with another architecture (e.g. initializing a BertForSequenceClassification model from a BertForPreTraining model).\n",
      "- This IS NOT expected if you are initializing BertModel from the checkpoint of a model that you expect to be exactly identical (initializing a BertForSequenceClassification model from a BertForSequenceClassification model).\n",
      "100% 978/978 [07:56<00:00,  2.05it/s]\n"
     ]
    },
    {
     "name": "stdout",
     "output_type": "stream",
     "text": [
      "Train embeddings shape (3911, 1024)\n"
     ]
    },
    {
     "name": "stderr",
     "output_type": "stream",
     "text": [
      "100% 1/1 [00:00<00:00,  2.78it/s]"
     ]
    },
    {
     "name": "stdout",
     "output_type": "stream",
     "text": [
      "Test embeddings shape (3, 1024)\n"
     ]
    },
    {
     "name": "stderr",
     "output_type": "stream",
     "text": [
      "\n"
     ]
    }
   ],
   "source": [
    "MODEL_NM = '../input/huggingface-deberta-variants/deberta-base/deberta-base'\n",
    "MODEL_NM = CFG.model_config_path\n",
    "#all_train_text_feats, te_text_feats = get_embeddings(MODEL_NM)\n",
    "all_train_text_feats, te_text_feats = get_embeddings(MODEL_NM=MODEL_NM, MAX=CFG.max_len,\\\n",
    "                                                     BATCH_SIZE=4, verbose=True)"
   ]
  },
  {
   "cell_type": "code",
   "execution_count": 18,
   "metadata": {},
   "outputs": [],
   "source": [
    "np.save(OUTPUT_DIR+\"train_embedding.npy\",all_train_text_feats)\n",
    "np.save(OUTPUT_DIR+\"test_embedding.npy\",te_text_feats)"
   ]
  },
  {
   "cell_type": "code",
   "execution_count": 20,
   "metadata": {},
   "outputs": [],
   "source": [
    "s = np.load(OUTPUT_DIR+\"train_embedding.npy\")"
   ]
  },
  {
   "cell_type": "markdown",
   "metadata": {},
   "source": [
    "# SVR"
   ]
  },
  {
   "cell_type": "code",
   "execution_count": 23,
   "metadata": {},
   "outputs": [
    {
     "name": "stdout",
     "output_type": "stream",
     "text": [
      "RAPIDS version 21.10.02\n"
     ]
    }
   ],
   "source": [
    "from cuml.svm import SVR\n",
    "import cuml\n",
    "print('RAPIDS version',cuml.__version__)"
   ]
  },
  {
   "cell_type": "code",
   "execution_count": 32,
   "metadata": {},
   "outputs": [],
   "source": [
    "def MCRMSE(y_trues, y_preds):\n",
    "    scores = []\n",
    "    idxes = y_trues.shape[1]\n",
    "    for i in range(idxes):\n",
    "        y_true = y_trues[:,i]\n",
    "        y_pred = y_preds[:,i]\n",
    "        score = mean_squared_error(y_true, y_pred, squared=False) # RMSE\n",
    "        scores.append(score)\n",
    "    mcrmse_score = np.mean(scores)\n",
    "    return mcrmse_score, scores\n",
    "\n",
    "\n",
    "def get_score(y_trues, y_preds):\n",
    "    mcrmse_score, scores = MCRMSE(y_trues, y_preds)\n",
    "    return mcrmse_score, scores\n",
    "\n",
    "def get_result2(oof_df):\n",
    "    labels = oof_df[target_cols].values\n",
    "    preds = oof_df[[f\"pred_{c}\" for c in target_cols]].values\n",
    "    score, scores = get_score(labels, preds)\n",
    "    #LOGGER.info(f'Score: {score:<.4f}  Scores: {scores}')\n",
    "    return score,scores\n",
    "\n",
    "def comp_score(y_true,y_pred):\n",
    "    rmse_scores = []\n",
    "    for i in range(len(target_cols)):\n",
    "        rmse_scores.append(np.sqrt(mean_squared_error(y_true[:,i],y_pred[:,i])))\n",
    "    return np.mean(rmse_scores)"
   ]
  },
  {
   "cell_type": "code",
   "execution_count": 26,
   "metadata": {},
   "outputs": [
    {
     "name": "stdout",
     "output_type": "stream",
     "text": [
      "Train shape: (3911, 9) Test shape: (3, 3) Test columns: Index(['text_id', 'full_text', 'src'], dtype='object')\n"
     ]
    }
   ],
   "source": [
    "target_cols = ['cohesion', 'syntax', 'vocabulary', 'phraseology', 'grammar', 'conventions',]\n",
    "\n",
    "dftr = pd.read_csv(\"/home/jupyter/feedback-prize-english-language-learning/train.csv\")\n",
    "dftr[\"src\"]=\"train\"\n",
    "dfte = pd.read_csv(\"/home/jupyter/feedback-prize-english-language-learning/test.csv\")\n",
    "dfte[\"src\"]=\"test\"\n",
    "print('Train shape:',dftr.shape,'Test shape:',dfte.shape,'Test columns:',dfte.columns)\n",
    "df = pd.concat([dftr,dfte],ignore_index=True)\n",
    "\n",
    "fold = np.load(\"/home/jupyter/output/fold/4fold.npy\")\n",
    "\n",
    "dftr[\"FOLD\"] = fold\n",
    "if CFG.DEBUG:\n",
    "    dftr = dftr.head(20)\n",
    "    \n",
    "all_train_text_feats = np.load(OUTPUT_DIR+\"train_embedding.npy\")\n",
    "if CFG.DEBUG:\n",
    "    all_train_text_feats = all_train_text_feats[:20]"
   ]
  },
  {
   "cell_type": "markdown",
   "metadata": {},
   "source": [
    "# Cの検討"
   ]
  },
  {
   "cell_type": "code",
   "execution_count": 44,
   "metadata": {},
   "outputs": [],
   "source": [
    "base_param = {\"C\":0.5}\n",
    "params = []\n",
    "for a in [0.5,1.0,1.5]:\n",
    "    param = base_param.copy()\n",
    "    param[\"C\"] = a\n",
    "    params.append(param)"
   ]
  },
  {
   "cell_type": "code",
   "execution_count": 50,
   "metadata": {
    "collapsed": true,
    "jupyter": {
     "outputs_hidden": true
    },
    "tags": []
   },
   "outputs": [
    {
     "name": "stdout",
     "output_type": "stream",
     "text": [
      "#########################\n",
      "### Fold 1\n",
      "#########################\n",
      "cohesion , syntax , vocabulary , phraseology , grammar , conventions , \n",
      "Fold : 0 RSME score: 0.46865737392084544\n",
      "#########################\n",
      "### Fold 2\n",
      "#########################\n",
      "cohesion , syntax , vocabulary , phraseology , grammar , conventions , \n",
      "Fold : 1 RSME score: 0.48026806341887784\n",
      "#########################\n",
      "### Fold 3\n",
      "#########################\n",
      "cohesion , syntax , vocabulary , phraseology , grammar , conventions , \n",
      "Fold : 2 RSME score: 0.48036945589294966\n",
      "#########################\n",
      "### Fold 4\n",
      "#########################\n",
      "cohesion , syntax , vocabulary , phraseology , grammar , conventions , \n",
      "Fold : 3 RSME score: 0.472070928930217\n",
      "#########################\n",
      "### Fold 1\n",
      "#########################\n",
      "cohesion , syntax , vocabulary , phraseology , grammar , conventions , \n",
      "Fold : 0 RSME score: 0.4678840808414653\n",
      "#########################\n",
      "### Fold 2\n",
      "#########################\n",
      "cohesion , syntax , vocabulary , phraseology , grammar , conventions , \n",
      "Fold : 1 RSME score: 0.47827508942733915\n",
      "#########################\n",
      "### Fold 3\n",
      "#########################\n",
      "cohesion , syntax , vocabulary , phraseology , grammar , conventions , \n",
      "Fold : 2 RSME score: 0.4784672157401224\n",
      "#########################\n",
      "### Fold 4\n",
      "#########################\n",
      "cohesion , syntax , vocabulary , phraseology , grammar , conventions , \n",
      "Fold : 3 RSME score: 0.47078252209041077\n",
      "#########################\n",
      "### Fold 1\n",
      "#########################\n",
      "cohesion , syntax , vocabulary , phraseology , grammar , conventions , \n",
      "Fold : 0 RSME score: 0.4685356522432527\n",
      "#########################\n",
      "### Fold 2\n",
      "#########################\n",
      "cohesion , syntax , vocabulary , phraseology , grammar , conventions , \n",
      "Fold : 1 RSME score: 0.4786976791111577\n",
      "#########################\n",
      "### Fold 3\n",
      "#########################\n",
      "cohesion , syntax , vocabulary , phraseology , grammar , conventions , \n",
      "Fold : 2 RSME score: 0.4785070402713458\n",
      "#########################\n",
      "### Fold 4\n",
      "#########################\n",
      "cohesion , syntax , vocabulary , phraseology , grammar , conventions , \n",
      "Fold : 3 RSME score: 0.47113488435950773\n"
     ]
    }
   ],
   "source": [
    "from sklearn.metrics import mean_squared_error\n",
    "import joblib\n",
    "\n",
    "score_list = []\n",
    "for param in params:\n",
    "    for fold in range(dftr.FOLD.nunique()):\n",
    "        print('#'*25)\n",
    "        print('### Fold',fold+1)\n",
    "        print('#'*25)\n",
    "\n",
    "        dftr_ = dftr[dftr[\"FOLD\"]!=fold]\n",
    "        dfev_ = dftr[dftr[\"FOLD\"]==fold]\n",
    "\n",
    "\n",
    "        tr_text_feats = all_train_text_feats[list(dftr_.index),:]\n",
    "        ev_text_feats = all_train_text_feats[list(dfev_.index),:]\n",
    "\n",
    "        ev_preds = np.zeros((len(ev_text_feats),6))\n",
    "        for i,t in enumerate(target_cols):\n",
    "            print(t,', ',end='')\n",
    "            modelname = OUTPUT_DIR+f'svr_{t}_fold{fold}.sav'\n",
    "            clf = SVR(**param)\n",
    "            clf.fit(tr_text_feats, dftr_[t].values)\n",
    "            joblib.dump(clf, modelname)\n",
    "            loaded_model = joblib.load(modelname)\n",
    "            ev_preds[:,i] = loaded_model .predict(ev_text_feats)\n",
    "\n",
    "        cols = [f\"pred_{t}\" for t in target_cols]\n",
    "        dftr.loc[list(dfev_.index),cols] = ev_preds\n",
    "        print()\n",
    "        score = comp_score(dfev_[target_cols].values,ev_preds)\n",
    "        scores.append(score)\n",
    "        print(\"Fold : {} RSME score: {}\".format(fold,score))\n",
    "\n",
    "    dftr.to_pickle(OUTPUT_DIR+f'oof_df.pkl')\n",
    "    score,scores = get_result2(dftr)\n",
    "    score_list.append(score)\n"
   ]
  },
  {
   "cell_type": "code",
   "execution_count": 51,
   "metadata": {},
   "outputs": [
    {
     "data": {
      "text/plain": [
       "[0.4753795493553871, 0.4738845189505026, 0.474249576116155]"
      ]
     },
     "execution_count": 51,
     "metadata": {},
     "output_type": "execute_result"
    }
   ],
   "source": [
    "score_list"
   ]
  },
  {
   "cell_type": "markdown",
   "metadata": {},
   "source": [
    "# Cを１周りで絞り込む"
   ]
  },
  {
   "cell_type": "code",
   "execution_count": 55,
   "metadata": {},
   "outputs": [],
   "source": [
    "base_param = {\"C\":0.5}\n",
    "params = []\n",
    "for a in list(np.arange(0.6,1.5,0.1)):\n",
    "    param = base_param.copy()\n",
    "    param[\"C\"] = a\n",
    "    params.append(param)"
   ]
  },
  {
   "cell_type": "code",
   "execution_count": 57,
   "metadata": {},
   "outputs": [],
   "source": [
    "from sklearn.metrics import mean_squared_error\n",
    "import joblib\n",
    "\n",
    "score_list = []\n",
    "for param in params:\n",
    "    for fold in range(dftr.FOLD.nunique()):\n",
    "\n",
    "        dftr_ = dftr[dftr[\"FOLD\"]!=fold]\n",
    "        dfev_ = dftr[dftr[\"FOLD\"]==fold]\n",
    "\n",
    "\n",
    "        tr_text_feats = all_train_text_feats[list(dftr_.index),:]\n",
    "        ev_text_feats = all_train_text_feats[list(dfev_.index),:]\n",
    "\n",
    "        ev_preds = np.zeros((len(ev_text_feats),6))\n",
    "        for i,t in enumerate(target_cols):\n",
    "            modelname = OUTPUT_DIR+f'svr_{t}_fold{fold}.sav'\n",
    "            clf = SVR(**param)\n",
    "            clf.fit(tr_text_feats, dftr_[t].values)\n",
    "            joblib.dump(clf, modelname)\n",
    "            loaded_model = joblib.load(modelname)\n",
    "            ev_preds[:,i] = loaded_model .predict(ev_text_feats)\n",
    "\n",
    "        cols = [f\"pred_{t}\" for t in target_cols]\n",
    "        dftr.loc[list(dfev_.index),cols] = ev_preds\n",
    "        score = comp_score(dfev_[target_cols].values,ev_preds)\n",
    "        scores.append(score)\n",
    "\n",
    "    dftr.to_pickle(OUTPUT_DIR+f'oof_df.pkl')\n",
    "    score,scores = get_result2(dftr)\n",
    "    score_list.append(score)\n"
   ]
  },
  {
   "cell_type": "code",
   "execution_count": 58,
   "metadata": {},
   "outputs": [
    {
     "data": {
      "text/plain": [
       "[0.4748174238376634,\n",
       " 0.4744070171147456,\n",
       " 0.47413053070620337,\n",
       " 0.47394395231466385,\n",
       " 0.4738845189505026,\n",
       " 0.47391101115521866,\n",
       " 0.4739800727380115,\n",
       " 0.4740316069864546,\n",
       " 0.4741348862371693]"
      ]
     },
     "execution_count": 58,
     "metadata": {},
     "output_type": "execute_result"
    }
   ],
   "source": [
    "score_list"
   ]
  },
  {
   "cell_type": "code",
   "execution_count": 60,
   "metadata": {},
   "outputs": [
    {
     "data": {
      "text/plain": [
       "{'C': 0.9999999999999999}"
      ]
     },
     "execution_count": 60,
     "metadata": {},
     "output_type": "execute_result"
    }
   ],
   "source": [
    "min_index = score_list.index(min(score_list))\n",
    "params[min_index]"
   ]
  },
  {
   "cell_type": "markdown",
   "metadata": {},
   "source": [
    "# Cを１に決定する"
   ]
  },
  {
   "cell_type": "code",
   "execution_count": 63,
   "metadata": {},
   "outputs": [
    {
     "data": {
      "text/plain": [
       "10"
      ]
     },
     "execution_count": 63,
     "metadata": {},
     "output_type": "execute_result"
    }
   ],
   "source": [
    "len(list(np.arange(0,5,0.5)))"
   ]
  },
  {
   "cell_type": "code",
   "execution_count": 68,
   "metadata": {},
   "outputs": [
    {
     "name": "stdout",
     "output_type": "stream",
     "text": [
      "5 0.47479528329317816\n",
      "5 0.4738845189505026\n",
      "5 0.4733526635038084\n",
      "5 0.47321443957002446\n"
     ]
    }
   ],
   "source": [
    "from sklearn.metrics import mean_squared_error\n",
    "import joblib\n",
    "\n",
    "score_list = []\n",
    "best_score = np.inf\n",
    "for i,epsilon in enumerate(np.arange(0,1,0.1)): \n",
    "    param = {\n",
    "        'C': 1.0,\n",
    "        'epsilon': epsilon\n",
    "    }\n",
    "    for fold in range(dftr.FOLD.nunique()):\n",
    "\n",
    "        dftr_ = dftr[dftr[\"FOLD\"]!=fold]\n",
    "        dfev_ = dftr[dftr[\"FOLD\"]==fold]\n",
    "\n",
    "\n",
    "        tr_text_feats = all_train_text_feats[list(dftr_.index),:]\n",
    "        ev_text_feats = all_train_text_feats[list(dfev_.index),:]\n",
    "\n",
    "        ev_preds = np.zeros((len(ev_text_feats),6))\n",
    "        for i,t in enumerate(target_cols):\n",
    "\n",
    "            modelname = OUTPUT_DIR+f'svr_{t}_fold{fold}.sav'\n",
    "            clf = SVR(**param)\n",
    "            clf.fit(tr_text_feats, dftr_[t].values)\n",
    "            joblib.dump(clf, modelname)\n",
    "            loaded_model = joblib.load(modelname)\n",
    "            ev_preds[:,i] = loaded_model .predict(ev_text_feats)\n",
    "\n",
    "        cols = [f\"pred_{t}\" for t in target_cols]\n",
    "        dftr.loc[list(dfev_.index),cols] = ev_preds\n",
    "\n",
    "        score = comp_score(dfev_[target_cols].values,ev_preds)\n",
    "        scores.append(score)\n",
    "\n",
    "\n",
    "    dftr.to_pickle(OUTPUT_DIR+f'oof_df.pkl')\n",
    "    score,scores = get_result2(dftr)\n",
    "    score_list.append(score)\n",
    "    if score<best_score:\n",
    "        print(i,score)\n",
    "        best_score = score\n",
    "        best_param = param"
   ]
  },
  {
   "cell_type": "code",
   "execution_count": 70,
   "metadata": {},
   "outputs": [
    {
     "data": {
      "text/plain": [
       "[<matplotlib.lines.Line2D at 0x7f70c99893d0>]"
      ]
     },
     "execution_count": 70,
     "metadata": {},
     "output_type": "execute_result"
    },
    {
     "data": {
      "image/png": "[encoded data removed]",
      "text/plain": [
       "<Figure size 432x288 with 1 Axes>"
      ]
     },
     "metadata": {
      "needs_background": "light"
     },
     "output_type": "display_data"
    }
   ],
   "source": [
    "import matplotlib.pyplot as plt\n",
    "plt.plot(np.arange(0,1,0.1),score_list)"
   ]
  },
  {
   "cell_type": "code",
   "execution_count": 67,
   "metadata": {},
   "outputs": [
    {
     "data": {
      "text/plain": [
       "{'C': 1.0, 'epsilon': 0.30000000000000004}"
      ]
     },
     "execution_count": 67,
     "metadata": {},
     "output_type": "execute_result"
    }
   ],
   "source": [
    "best_param"
   ]
  },
  {
   "cell_type": "markdown",
   "metadata": {},
   "source": [
    "# eplisonを絞り込む"
   ]
  },
  {
   "cell_type": "code",
   "execution_count": 71,
   "metadata": {},
   "outputs": [
    {
     "name": "stdout",
     "output_type": "stream",
     "text": [
      "5 0.4731777575765652\n"
     ]
    }
   ],
   "source": [
    "from sklearn.metrics import mean_squared_error\n",
    "import joblib\n",
    "\n",
    "score_list = []\n",
    "best_score = np.inf\n",
    "for i,epsilon in enumerate(np.arange(0.25,0.35,0.01)): \n",
    "    param = {\n",
    "        'C': 1.0,\n",
    "        'epsilon': epsilon\n",
    "    }\n",
    "    for fold in range(dftr.FOLD.nunique()):\n",
    "\n",
    "        dftr_ = dftr[dftr[\"FOLD\"]!=fold]\n",
    "        dfev_ = dftr[dftr[\"FOLD\"]==fold]\n",
    "\n",
    "\n",
    "        tr_text_feats = all_train_text_feats[list(dftr_.index),:]\n",
    "        ev_text_feats = all_train_text_feats[list(dfev_.index),:]\n",
    "\n",
    "        ev_preds = np.zeros((len(ev_text_feats),6))\n",
    "        for i,t in enumerate(target_cols):\n",
    "\n",
    "            modelname = OUTPUT_DIR+f'svr_{t}_fold{fold}.sav'\n",
    "            clf = SVR(**param)\n",
    "            clf.fit(tr_text_feats, dftr_[t].values)\n",
    "            joblib.dump(clf, modelname)\n",
    "            loaded_model = joblib.load(modelname)\n",
    "            ev_preds[:,i] = loaded_model .predict(ev_text_feats)\n",
    "\n",
    "        cols = [f\"pred_{t}\" for t in target_cols]\n",
    "        dftr.loc[list(dfev_.index),cols] = ev_preds\n",
    "\n",
    "        score = comp_score(dfev_[target_cols].values,ev_preds)\n",
    "        scores.append(score)\n",
    "\n",
    "\n",
    "    dftr.to_pickle(OUTPUT_DIR+f'oof_df.pkl')\n",
    "    score,scores = get_result2(dftr)\n",
    "    score_list.append(score)\n",
    "    if score<best_score:\n",
    "        print(i,score)\n",
    "        best_score = score\n",
    "        best_param = param"
   ]
  },
  {
   "cell_type": "code",
   "execution_count": 72,
   "metadata": {},
   "outputs": [
    {
     "data": {
      "text/plain": [
       "[<matplotlib.lines.Line2D at 0x7f70c99cdd10>]"
      ]
     },
     "execution_count": 72,
     "metadata": {},
     "output_type": "execute_result"
    },
    {
     "data": {
      "image/png": "[encoded data removed]",
      "text/plain": [
       "<Figure size 432x288 with 1 Axes>"
      ]
     },
     "metadata": {
      "needs_background": "light"
     },
     "output_type": "display_data"
    }
   ],
   "source": [
    "import matplotlib.pyplot as plt\n",
    "plt.plot(np.arange(0.25,0.35,0.01),score_list)"
   ]
  },
  {
   "cell_type": "code",
   "execution_count": 74,
   "metadata": {},
   "outputs": [
    {
     "data": {
      "text/plain": [
       "(0.4731777575765652, {'C': 1.0, 'epsilon': 0.25})"
      ]
     },
     "execution_count": 74,
     "metadata": {},
     "output_type": "execute_result"
    }
   ],
   "source": [
    "best_score,best_param"
   ]
  },
  {
   "cell_type": "markdown",
   "metadata": {},
   "source": [
    "# 最終的なSVR"
   ]
  },
  {
   "cell_type": "code",
   "execution_count": 76,
   "metadata": {},
   "outputs": [
    {
     "name": "stdout",
     "output_type": "stream",
     "text": [
      "#########################\n",
      "### Fold 1\n",
      "#########################\n",
      "cohesion , syntax , vocabulary , phraseology , grammar , conventions , \n",
      "Fold : 0 RSME score: 0.4678718604152902\n",
      "#########################\n",
      "### Fold 2\n",
      "#########################\n",
      "cohesion , syntax , vocabulary , phraseology , grammar , conventions , \n",
      "Fold : 1 RSME score: 0.4775672134214997\n",
      "#########################\n",
      "### Fold 3\n",
      "#########################\n",
      "cohesion , syntax , vocabulary , phraseology , grammar , conventions , \n",
      "Fold : 2 RSME score: 0.47728238304276777\n",
      "#########################\n",
      "### Fold 4\n",
      "#########################\n",
      "cohesion , syntax , vocabulary , phraseology , grammar , conventions , \n",
      "Fold : 3 RSME score: 0.46986171984226405\n",
      "#########################\n",
      "0.4731777575765652\n"
     ]
    }
   ],
   "source": [
    "from sklearn.metrics import mean_squared_error\n",
    "import joblib\n",
    "\n",
    "param = best_param\n",
    "\n",
    "scores = []\n",
    "# for param in params:\n",
    "for fold in range(dftr.FOLD.nunique()):\n",
    "    print('#'*25)\n",
    "    print('### Fold',fold+1)\n",
    "    print('#'*25)\n",
    "    \n",
    "    dftr_ = dftr[dftr[\"FOLD\"]!=fold]\n",
    "    dfev_ = dftr[dftr[\"FOLD\"]==fold]\n",
    "    \n",
    "\n",
    "    tr_text_feats = all_train_text_feats[list(dftr_.index),:]\n",
    "    ev_text_feats = all_train_text_feats[list(dfev_.index),:]\n",
    "    \n",
    "    ev_preds = np.zeros((len(ev_text_feats),6))\n",
    "    for i,t in enumerate(target_cols):\n",
    "        print(t,', ',end='')\n",
    "        modelname = OUTPUT_DIR+f'svr_{t}_fold{fold}.sav'\n",
    "        clf = SVR(**best_param)\n",
    "        clf.fit(tr_text_feats, dftr_[t].values)\n",
    "        joblib.dump(clf, modelname)\n",
    "        loaded_model = joblib.load(modelname)\n",
    "        ev_preds[:,i] = loaded_model .predict(ev_text_feats)\n",
    "        \n",
    "    cols = [f\"pred_{t}\" for t in target_cols]\n",
    "    dftr.loc[list(dfev_.index),cols] = ev_preds\n",
    "    print()\n",
    "    score = comp_score(dfev_[target_cols].values,ev_preds)\n",
    "    scores.append(score)\n",
    "    print(\"Fold : {} RSME score: {}\".format(fold,score))\n",
    "\n",
    "dftr.to_pickle(OUTPUT_DIR+f'oof_df.pkl')\n",
    "score,scores = get_result2(dftr)\n",
    "print('#'*25)\n",
    "print(score)"
   ]
  },
  {
   "cell_type": "markdown",
   "metadata": {},
   "source": [
    "# ridge回帰"
   ]
  },
  {
   "cell_type": "code",
   "execution_count": 79,
   "metadata": {},
   "outputs": [
    {
     "name": "stdout",
     "output_type": "stream",
     "text": [
      "5 0.5712472268431372\n",
      "5 0.5568494565875634\n",
      "5 0.5447147761316596\n",
      "5 0.5089171189034098\n",
      "5 0.49558964672990413\n",
      "5 0.4770940638548213\n",
      "5 0.47390727911997055\n"
     ]
    }
   ],
   "source": [
    "from sklearn.metrics import mean_squared_error\n",
    "import joblib\n",
    "from sklearn import linear_model\n",
    "\n",
    "score_list = []\n",
    "best_score = np.inf\n",
    "alpha_list = [0.0001, 0.0005, 0.001, 0.005, 0.01, 0.05, 0.1, 0.5, 1.0, 5.0, 10.0, 50, 100, 500, 1000]\n",
    "for alpha in alpha_list: \n",
    "    param = {\n",
    "        'alpha': alpha,\n",
    "        \"random_state\":0\n",
    "    }\n",
    "    for fold in range(dftr.FOLD.nunique()):\n",
    "\n",
    "        dftr_ = dftr[dftr[\"FOLD\"]!=fold]\n",
    "        dfev_ = dftr[dftr[\"FOLD\"]==fold]\n",
    "\n",
    "\n",
    "        tr_text_feats = all_train_text_feats[list(dftr_.index),:]\n",
    "        ev_text_feats = all_train_text_feats[list(dfev_.index),:]\n",
    "\n",
    "        ev_preds = np.zeros((len(ev_text_feats),6))\n",
    "        for i,t in enumerate(target_cols):\n",
    "\n",
    "            modelname = OUTPUT_DIR+f'ridge_{t}_fold{fold}.sav'\n",
    "            clf = linear_model.Ridge(**param)\n",
    "            clf.fit(tr_text_feats, dftr_[t].values)\n",
    "            joblib.dump(clf, modelname)\n",
    "            loaded_model = joblib.load(modelname)\n",
    "            ev_preds[:,i] = loaded_model .predict(ev_text_feats)\n",
    "\n",
    "        cols = [f\"pred_{t}\" for t in target_cols]\n",
    "        dftr.loc[list(dfev_.index),cols] = ev_preds\n",
    "\n",
    "        score = comp_score(dfev_[target_cols].values,ev_preds)\n",
    "        scores.append(score)\n",
    "\n",
    "\n",
    "    dftr.to_pickle(OUTPUT_DIR+f'oof_df_ridge.pkl')\n",
    "    score,scores = get_result2(dftr)\n",
    "    score_list.append(score)\n",
    "    if score<best_score:\n",
    "        print(i,score)\n",
    "        best_score = score\n",
    "        best_param = param"
   ]
  },
  {
   "cell_type": "code",
   "execution_count": 81,
   "metadata": {},
   "outputs": [
    {
     "data": {
      "text/plain": [
       "[<matplotlib.lines.Line2D at 0x7f70c98351d0>]"
      ]
     },
     "execution_count": 81,
     "metadata": {},
     "output_type": "execute_result"
    },
    {
     "data": {
      "image/png": "[encoded data removed]",
      "text/plain": [
       "<Figure size 432x288 with 1 Axes>"
      ]
     },
     "metadata": {
      "needs_background": "light"
     },
     "output_type": "display_data"
    }
   ],
   "source": [
    "import matplotlib.pyplot as plt\n",
    "plt.plot(score_list)"
   ]
  },
  {
   "cell_type": "code",
   "execution_count": 83,
   "metadata": {},
   "outputs": [
    {
     "data": {
      "text/plain": [
       "{'alpha': 0.1, 'random_state': 0}"
      ]
     },
     "execution_count": 83,
     "metadata": {},
     "output_type": "execute_result"
    }
   ],
   "source": [
    "best_param"
   ]
  },
  {
   "cell_type": "code",
   "execution_count": 86,
   "metadata": {},
   "outputs": [
    {
     "name": "stdout",
     "output_type": "stream",
     "text": [
      "5 0.4770940638548213\n",
      "5 0.476020187143912\n",
      "5 0.47524861008195957\n",
      "5 0.4746761292793396\n",
      "5 0.47424183608009557\n",
      "5 0.47390727911997055\n",
      "5 0.47364702703713224\n",
      "5 0.473443506987626\n",
      "5 0.47328421635609236\n",
      "5 0.4731600320639669\n"
     ]
    }
   ],
   "source": [
    "from sklearn.metrics import mean_squared_error\n",
    "import joblib\n",
    "from sklearn import linear_model\n",
    "\n",
    "score_list = []\n",
    "best_score = np.inf\n",
    "alpha_list = list(np.arange(0.05,0.15,0.01))\n",
    "for alpha in alpha_list: \n",
    "    param = {\n",
    "        'alpha': alpha,\n",
    "        \"random_state\":0\n",
    "    }\n",
    "    for fold in range(dftr.FOLD.nunique()):\n",
    "\n",
    "        dftr_ = dftr[dftr[\"FOLD\"]!=fold]\n",
    "        dfev_ = dftr[dftr[\"FOLD\"]==fold]\n",
    "\n",
    "\n",
    "        tr_text_feats = all_train_text_feats[list(dftr_.index),:]\n",
    "        ev_text_feats = all_train_text_feats[list(dfev_.index),:]\n",
    "\n",
    "        ev_preds = np.zeros((len(ev_text_feats),6))\n",
    "        for i,t in enumerate(target_cols):\n",
    "\n",
    "            modelname = OUTPUT_DIR+f'ridge_{t}_fold{fold}.sav'\n",
    "            clf = linear_model.Ridge(**param)\n",
    "            clf.fit(tr_text_feats, dftr_[t].values)\n",
    "            joblib.dump(clf, modelname)\n",
    "            loaded_model = joblib.load(modelname)\n",
    "            ev_preds[:,i] = loaded_model .predict(ev_text_feats)\n",
    "\n",
    "        cols = [f\"pred_{t}\" for t in target_cols]\n",
    "        dftr.loc[list(dfev_.index),cols] = ev_preds\n",
    "\n",
    "        score = comp_score(dfev_[target_cols].values,ev_preds)\n",
    "        scores.append(score)\n",
    "\n",
    "\n",
    "    dftr.to_pickle(OUTPUT_DIR+f'oof_df_ridge.pkl')\n",
    "    score,scores = get_result2(dftr)\n",
    "    score_list.append(score)\n",
    "    if score<best_score:\n",
    "        print(i,score)\n",
    "        best_score = score\n",
    "        best_param = param"
   ]
  },
  {
   "cell_type": "code",
   "execution_count": 87,
   "metadata": {},
   "outputs": [
    {
     "data": {
      "text/plain": [
       "[<matplotlib.lines.Line2D at 0x7f70d20abf90>]"
      ]
     },
     "execution_count": 87,
     "metadata": {},
     "output_type": "execute_result"
    },
    {
     "data": {
      "image/png": "[encoded data removed]",
      "text/plain": [
       "<Figure size 432x288 with 1 Axes>"
      ]
     },
     "metadata": {
      "needs_background": "light"
     },
     "output_type": "display_data"
    }
   ],
   "source": [
    "import matplotlib.pyplot as plt\n",
    "plt.plot(score_list)"
   ]
  },
  {
   "cell_type": "code",
   "execution_count": 88,
   "metadata": {},
   "outputs": [
    {
     "data": {
      "text/plain": [
       "{'alpha': 0.14, 'random_state': 0}"
      ]
     },
     "execution_count": 88,
     "metadata": {},
     "output_type": "execute_result"
    }
   ],
   "source": [
    "best_param"
   ]
  },
  {
   "cell_type": "code",
   "execution_count": 89,
   "metadata": {},
   "outputs": [
    {
     "name": "stdout",
     "output_type": "stream",
     "text": [
      "5 0.4731600320639669\n",
      "5 0.47306409329033733\n",
      "5 0.47299118000981083\n",
      "5 0.47293727402450686\n",
      "5 0.472899155403246\n",
      "5 0.4728743067409942\n",
      "5 0.47286066556456396\n",
      "5 0.47285657009865756\n"
     ]
    }
   ],
   "source": [
    "from sklearn.metrics import mean_squared_error\n",
    "import joblib\n",
    "from sklearn import linear_model\n",
    "\n",
    "score_list = []\n",
    "best_score = np.inf\n",
    "alpha_list = list(np.arange(0.14,0.4,0.01))\n",
    "for alpha in alpha_list: \n",
    "    param = {\n",
    "        'alpha': alpha,\n",
    "        \"random_state\":0\n",
    "    }\n",
    "    for fold in range(dftr.FOLD.nunique()):\n",
    "\n",
    "        dftr_ = dftr[dftr[\"FOLD\"]!=fold]\n",
    "        dfev_ = dftr[dftr[\"FOLD\"]==fold]\n",
    "\n",
    "\n",
    "        tr_text_feats = all_train_text_feats[list(dftr_.index),:]\n",
    "        ev_text_feats = all_train_text_feats[list(dfev_.index),:]\n",
    "\n",
    "        ev_preds = np.zeros((len(ev_text_feats),6))\n",
    "        for i,t in enumerate(target_cols):\n",
    "\n",
    "            modelname = OUTPUT_DIR+f'ridge_{t}_fold{fold}.sav'\n",
    "            clf = linear_model.Ridge(**param)\n",
    "            clf.fit(tr_text_feats, dftr_[t].values)\n",
    "            joblib.dump(clf, modelname)\n",
    "            loaded_model = joblib.load(modelname)\n",
    "            ev_preds[:,i] = loaded_model .predict(ev_text_feats)\n",
    "\n",
    "        cols = [f\"pred_{t}\" for t in target_cols]\n",
    "        dftr.loc[list(dfev_.index),cols] = ev_preds\n",
    "\n",
    "        score = comp_score(dfev_[target_cols].values,ev_preds)\n",
    "        scores.append(score)\n",
    "\n",
    "\n",
    "    dftr.to_pickle(OUTPUT_DIR+f'oof_df_ridge.pkl')\n",
    "    score,scores = get_result2(dftr)\n",
    "    score_list.append(score)\n",
    "    if score<best_score:\n",
    "        print(i,score)\n",
    "        best_score = score\n",
    "        best_param = param"
   ]
  },
  {
   "cell_type": "code",
   "execution_count": 90,
   "metadata": {},
   "outputs": [
    {
     "data": {
      "text/plain": [
       "[<matplotlib.lines.Line2D at 0x7f70d2066a10>]"
      ]
     },
     "execution_count": 90,
     "metadata": {},
     "output_type": "execute_result"
    },
    {
     "data": {
      "image/png": "[encoded data removed]",
      "text/plain": [
       "<Figure size 432x288 with 1 Axes>"
      ]
     },
     "metadata": {
      "needs_background": "light"
     },
     "output_type": "display_data"
    }
   ],
   "source": [
    "import matplotlib.pyplot as plt\n",
    "plt.plot(score_list)"
   ]
  },
  {
   "cell_type": "code",
   "execution_count": 91,
   "metadata": {},
   "outputs": [
    {
     "data": {
      "text/plain": [
       "{'alpha': 0.21000000000000008, 'random_state': 0}"
      ]
     },
     "execution_count": 91,
     "metadata": {},
     "output_type": "execute_result"
    }
   ],
   "source": [
    "best_param"
   ]
  },
  {
   "cell_type": "markdown",
   "metadata": {},
   "source": [
    "# ridge回帰　パラメーター方針を変える"
   ]
  },
  {
   "cell_type": "code",
   "execution_count": 102,
   "metadata": {},
   "outputs": [],
   "source": [
    "from sklearn import linear_model\n",
    "from sklearn.metrics import mean_squared_error\n",
    "import joblib\n",
    "\n",
    "\n",
    "alpha_list = [0.0001, 0.0005, 0.001, 0.005, 0.01, 0.05, 0.1, 0.5, 1.0, 5.0, 10.0, 50, 100, 500, 1000]\n",
    "pred_cols2 = []\n",
    "for t in CFG.target_cols:\n",
    "    files_path = []\n",
    "    best_score = np.inf\n",
    "    best_alpha = np.nan\n",
    "    for alpha in alpha_list:\n",
    "        for fold in range(dftr.FOLD.nunique()):    \n",
    "            dftr_ = dftr[dftr[\"FOLD\"]!=fold]\n",
    "            dfev_ = dftr[dftr[\"FOLD\"]==fold]\n",
    "\n",
    "            tr_text_feats = all_train_text_feats[list(dftr_.index),:]\n",
    "            ev_text_feats = all_train_text_feats[list(dfev_.index),:]\n",
    "\n",
    "            clf = linear_model.Ridge(alpha=alpha,random_state=0)\n",
    "            clf.fit(tr_text_feats, dftr_[t].values)\n",
    "            \n",
    "            filename = OUTPUT_DIR+f'ridge_{t}_fold{fold}_alpha{alpha}.sav'\n",
    "            files_path.append(filename)\n",
    "            pickle.dump(clf, open(filename, 'wb'))\n",
    "            \n",
    "            preds = clf.predict(ev_text_feats)\n",
    "            preds = np.clip(preds,1,5)\n",
    "            dftr.loc[dftr[\"FOLD\"]==fold,f\"{t}_preds_ridge_alpha{alpha}\"] = preds\n",
    "\n",
    "        score = np.sqrt(mean_squared_error(dftr[f\"{t}_preds_ridge_alpha{alpha}\"].to_numpy()\\\n",
    "                                  ,dftr[t].to_numpy()))\n",
    "\n",
    "        if score < best_score:\n",
    "            best_score = score\n",
    "            best_alpha = alpha\n",
    "            #print(f\"best_score:alpha_{alpha}\",score)\n",
    "            \n",
    "    drop_files = [s for s in files_path if s not in \\\n",
    "              [OUTPUT_DIR+f'ridge_{t}_fold{fold}_alpha{best_alpha}.sav'\\\n",
    "               for fold in range(dftr.FOLD.nunique())]]\n",
    "    pred_cols2.append(f\"{t}_preds_ridge_alpha{best_alpha}\")\n",
    "    for file in drop_files:\n",
    "        os.remove(file)"
   ]
  },
  {
   "cell_type": "code",
   "execution_count": 105,
   "metadata": {},
   "outputs": [
    {
     "name": "stdout",
     "output_type": "stream",
     "text": [
      "0.4732015416503437\n"
     ]
    }
   ],
   "source": [
    "score, scores = get_score(dftr[pred_cols2].to_numpy(), dftr[CFG.target_cols].to_numpy())\n",
    "print(score)"
   ]
  },
  {
   "cell_type": "code",
   "execution_count": 106,
   "metadata": {},
   "outputs": [
    {
     "data": {
      "text/plain": [
       "['cohesion_preds_ridge_alpha0.1',\n",
       " 'syntax_preds_ridge_alpha0.1',\n",
       " 'vocabulary_preds_ridge_alpha0.1',\n",
       " 'phraseology_preds_ridge_alpha0.5',\n",
       " 'grammar_preds_ridge_alpha0.5',\n",
       " 'conventions_preds_ridge_alpha0.5']"
      ]
     },
     "execution_count": 106,
     "metadata": {},
     "output_type": "execute_result"
    }
   ],
   "source": [
    "pred_cols2"
   ]
  },
  {
   "cell_type": "markdown",
   "metadata": {},
   "source": [
    "# alphaを絞る"
   ]
  },
  {
   "cell_type": "code",
   "execution_count": 109,
   "metadata": {},
   "outputs": [
    {
     "data": {
      "text/plain": [
       "[0.05,\n",
       " 0.1,\n",
       " 0.15000000000000002,\n",
       " 0.2,\n",
       " 0.25,\n",
       " 0.3,\n",
       " 0.35000000000000003,\n",
       " 0.4,\n",
       " 0.45,\n",
       " 0.5,\n",
       " 0.55,\n",
       " 0.6000000000000001,\n",
       " 0.6500000000000001,\n",
       " 0.7000000000000001,\n",
       " 0.7500000000000001,\n",
       " 0.8,\n",
       " 0.8500000000000001,\n",
       " 0.9000000000000001,\n",
       " 0.9500000000000001]"
      ]
     },
     "execution_count": 109,
     "metadata": {},
     "output_type": "execute_result"
    }
   ],
   "source": [
    "list(np.arange(0.05,1.0,0.05))"
   ]
  },
  {
   "cell_type": "code",
   "execution_count": 126,
   "metadata": {},
   "outputs": [
    {
     "data": {
      "image/png": "[encoded data removed]",
      "text/plain": [
       "<Figure size 432x288 with 1 Axes>"
      ]
     },
     "metadata": {
      "needs_background": "light"
     },
     "output_type": "display_data"
    },
    {
     "data": {
      "image/png": "[encoded data removed]",
      "text/plain": [
       "<Figure size 432x288 with 1 Axes>"
      ]
     },
     "metadata": {
      "needs_background": "light"
     },
     "output_type": "display_data"
    },
    {
     "data": {
      "image/png": "[encoded data removed]",
      "text/plain": [
       "<Figure size 432x288 with 1 Axes>"
      ]
     },
     "metadata": {
      "needs_background": "light"
     },
     "output_type": "display_data"
    },
    {
     "data": {
      "image/png": "[encoded data removed]",
      "text/plain": [
       "<Figure size 432x288 with 1 Axes>"
      ]
     },
     "metadata": {
      "needs_background": "light"
     },
     "output_type": "display_data"
    },
    {
     "data": {
      "image/png": "[encoded data removed]",
      "text/plain": [
       "<Figure size 432x288 with 1 Axes>"
      ]
     },
     "metadata": {
      "needs_background": "light"
     },
     "output_type": "display_data"
    },
    {
     "data": {
      "image/png": "[encoded data removed]",
      "text/plain": [
       "<Figure size 432x288 with 1 Axes>"
      ]
     },
     "metadata": {
      "needs_background": "light"
     },
     "output_type": "display_data"
    },
    {
     "name": "stdout",
     "output_type": "stream",
     "text": [
      "0.4727046113744207\n"
     ]
    }
   ],
   "source": [
    "from sklearn import linear_model\n",
    "from sklearn.metrics import mean_squared_error\n",
    "import joblib\n",
    "\n",
    "\n",
    "alpha_list = list(np.arange(0.05,1.0,0.05))\n",
    "pred_cols2 = []\n",
    "for t in CFG.target_cols:\n",
    "    files_path = []\n",
    "    best_score = np.inf\n",
    "    best_alpha = np.nan\n",
    "    _ = []\n",
    "    for alpha in alpha_list:\n",
    "        for fold in range(dftr.FOLD.nunique()):    \n",
    "            dftr_ = dftr[dftr[\"FOLD\"]!=fold]\n",
    "            dfev_ = dftr[dftr[\"FOLD\"]==fold]\n",
    "\n",
    "            tr_text_feats = all_train_text_feats[list(dftr_.index),:]\n",
    "            ev_text_feats = all_train_text_feats[list(dfev_.index),:]\n",
    "\n",
    "            clf = linear_model.Ridge(alpha=alpha,random_state=0)\n",
    "            clf.fit(tr_text_feats, dftr_[t].values)\n",
    "            \n",
    "            filename = OUTPUT_DIR+f'ridge_{t}_fold{fold}_alpha{alpha}.sav'\n",
    "            files_path.append(filename)\n",
    "            pickle.dump(clf, open(filename, 'wb'))\n",
    "            \n",
    "            preds = clf.predict(ev_text_feats)\n",
    "            preds = np.clip(preds,1,5)\n",
    "            dftr.loc[dftr[\"FOLD\"]==fold,f\"{t}_preds_ridge_alpha{alpha}\"] = preds\n",
    "\n",
    "        score = np.sqrt(mean_squared_error(dftr[f\"{t}_preds_ridge_alpha{alpha}\"].to_numpy()\\\n",
    "                                  ,dftr[t].to_numpy()))\n",
    "        _.append(score)\n",
    "\n",
    "        if score < best_score:\n",
    "            best_score = score\n",
    "            best_alpha = alpha\n",
    "            #print(f\"best_score:alpha_{alpha}\",score)\n",
    "            \n",
    "    fig = plt.figure()\n",
    "    plt.plot(_)\n",
    "    plt.title(t)\n",
    "    plt.show()\n",
    "            \n",
    "    drop_files = [s for s in files_path if s not in \\\n",
    "              [OUTPUT_DIR+f'ridge_{t}_fold{fold}_alpha{best_alpha}.sav'\\\n",
    "               for fold in range(dftr.FOLD.nunique())]]\n",
    "    pred_cols2.append(f\"{t}_preds_ridge_alpha{best_alpha}\")\n",
    "    for file in drop_files:\n",
    "        os.remove(file)\n",
    "        \n",
    "score, scores = get_score(dftr[pred_cols2].to_numpy(), dftr[CFG.target_cols].to_numpy())\n",
    "print(score)"
   ]
  },
  {
   "cell_type": "code",
   "execution_count": 127,
   "metadata": {},
   "outputs": [
    {
     "data": {
      "text/plain": [
       "['cohesion_preds_ridge_alpha0.15000000000000002',\n",
       " 'syntax_preds_ridge_alpha0.15000000000000002',\n",
       " 'vocabulary_preds_ridge_alpha0.2',\n",
       " 'phraseology_preds_ridge_alpha0.25',\n",
       " 'grammar_preds_ridge_alpha0.35000000000000003',\n",
       " 'conventions_preds_ridge_alpha0.3']"
      ]
     },
     "execution_count": 127,
     "metadata": {},
     "output_type": "execute_result"
    }
   ],
   "source": [
    "pred_cols2"
   ]
  },
  {
   "cell_type": "code",
   "execution_count": 128,
   "metadata": {},
   "outputs": [],
   "source": [
    "pred_ridge = pred_cols2"
   ]
  },
  {
   "cell_type": "code",
   "execution_count": 129,
   "metadata": {},
   "outputs": [],
   "source": [
    "dftr[[\"text_id\",\"FOLD\"]+pred_ridge+CFG.target_cols].to_pickle(OUTPUT_DIR+\"oof_df_ridge.pkl\")\n",
    "s = pd.read_pickle(OUTPUT_DIR+\"oof_df_ridge.pkl\").rename(columns={\"FOLD\":\"fold\"})\n",
    "s[[\"text_id\",\"fold\"]+pred_ridge+CFG.target_cols].to_pickle(OUTPUT_DIR+\"oof_df_ridge.pkl\")"
   ]
  },
  {
   "cell_type": "code",
   "execution_count": 121,
   "metadata": {},
   "outputs": [
    {
     "data": {
      "text/plain": [
       "'/home/jupyter/output/ex/bert-large-uncased/002/202211092216/'"
      ]
     },
     "execution_count": 121,
     "metadata": {},
     "output_type": "execute_result"
    }
   ],
   "source": [
    "OUTPUT_DIR"
   ]
  },
  {
   "cell_type": "markdown",
   "metadata": {},
   "source": [
    "# lasso回帰"
   ]
  },
  {
   "cell_type": "code",
   "execution_count": 137,
   "metadata": {},
   "outputs": [
    {
     "name": "stdout",
     "output_type": "stream",
     "text": [
      "Train shape: (3911, 9) Test shape: (3, 3) Test columns: Index(['text_id', 'full_text', 'src'], dtype='object')\n"
     ]
    }
   ],
   "source": [
    "target_cols = ['cohesion', 'syntax', 'vocabulary', 'phraseology', 'grammar', 'conventions',]\n",
    "\n",
    "dftr = pd.read_csv(\"/home/jupyter/feedback-prize-english-language-learning/train.csv\")\n",
    "dftr[\"src\"]=\"train\"\n",
    "dfte = pd.read_csv(\"/home/jupyter/feedback-prize-english-language-learning/test.csv\")\n",
    "dfte[\"src\"]=\"test\"\n",
    "print('Train shape:',dftr.shape,'Test shape:',dfte.shape,'Test columns:',dfte.columns)\n",
    "df = pd.concat([dftr,dfte],ignore_index=True)\n",
    "\n",
    "fold = np.load(\"/home/jupyter/output/fold/4fold.npy\")\n",
    "\n",
    "dftr[\"fold\"] = fold\n",
    "if CFG.DEBUG:\n",
    "    dftr = dftr.head(20)\n",
    "    \n",
    "all_train_text_feats = np.load(OUTPUT_DIR+\"train_embedding.npy\")\n",
    "if CFG.DEBUG:\n",
    "    all_train_text_feats = all_train_text_feats[:20]"
   ]
  },
  {
   "cell_type": "code",
   "execution_count": 138,
   "metadata": {},
   "outputs": [
    {
     "name": "stdout",
     "output_type": "stream",
     "text": [
      "0.4781470159698391\n"
     ]
    }
   ],
   "source": [
    "from sklearn import linear_model\n",
    "from sklearn.metrics import mean_squared_error\n",
    "import joblib\n",
    "\n",
    "\n",
    "alpha_list = [0.0001, 0.0005, 0.001, 0.005, 0.01, 0.05, 0.1, 0.5, 1.0, 5.0, 10.0, 50, 100, 500, 1000]\n",
    "pred_cols2 = []\n",
    "for t in CFG.target_cols:\n",
    "    files_path = []\n",
    "    best_score = np.inf\n",
    "    best_alpha = np.nan\n",
    "    for alpha in alpha_list:\n",
    "        for fold in range(dftr.fold.nunique()):    \n",
    "            dftr_ = dftr[dftr[\"fold\"]!=fold]\n",
    "            dfev_ = dftr[dftr[\"fold\"]==fold]\n",
    "\n",
    "            tr_text_feats = all_train_text_feats[list(dftr_.index),:]\n",
    "            ev_text_feats = all_train_text_feats[list(dfev_.index),:]\n",
    "\n",
    "            clf = linear_model.Lasso(alpha=alpha,random_state=0)\n",
    "            clf.fit(tr_text_feats, dftr_[t].values)\n",
    "            \n",
    "            # filename = OUTPUT_DIR+f'lasso_{t}_fold{fold}_alpha{alpha}.sav'\n",
    "            # files_path.append(filename)\n",
    "            # pickle.dump(clf, open(filename, 'wb'))\n",
    "            \n",
    "            preds = clf.predict(ev_text_feats)\n",
    "            preds = np.clip(preds,1,5)\n",
    "            dftr.loc[dftr[\"fold\"]==fold,f\"{t}_preds_lasso_alpha{alpha}\"] = preds\n",
    "\n",
    "        score = np.sqrt(mean_squared_error(dftr[f\"{t}_preds_lasso_alpha{alpha}\"].to_numpy()\\\n",
    "                                  ,dftr[t].to_numpy()))\n",
    "\n",
    "        if score < best_score:\n",
    "            best_score = score\n",
    "            best_alpha = alpha\n",
    "            #print(f\"best_score:alpha_{alpha}\",score)\n",
    "            \n",
    "    pred_cols2.append(f\"{t}_preds_lasso_alpha{best_alpha}\")\n",
    "    # for file in files_path:\n",
    "    #     os.remove(file)\n",
    "    \n",
    "score, scores = get_score(dftr[pred_cols2].to_numpy(), dftr[CFG.target_cols].to_numpy())\n",
    "print(score)"
   ]
  },
  {
   "cell_type": "code",
   "execution_count": 139,
   "metadata": {},
   "outputs": [
    {
     "data": {
      "text/plain": [
       "['cohesion_preds_lasso_alpha0.0001',\n",
       " 'syntax_preds_lasso_alpha0.0001',\n",
       " 'vocabulary_preds_lasso_alpha0.0001',\n",
       " 'phraseology_preds_lasso_alpha0.0001',\n",
       " 'grammar_preds_lasso_alpha0.0001',\n",
       " 'conventions_preds_lasso_alpha0.0001']"
      ]
     },
     "execution_count": 139,
     "metadata": {},
     "output_type": "execute_result"
    }
   ],
   "source": [
    "pred_cols2"
   ]
  },
  {
   "cell_type": "code",
   "execution_count": 140,
   "metadata": {},
   "outputs": [
    {
     "data": {
      "image/png": "[encoded data removed]",
      "text/plain": [
       "<Figure size 432x288 with 1 Axes>"
      ]
     },
     "metadata": {
      "needs_background": "light"
     },
     "output_type": "display_data"
    },
    {
     "data": {
      "image/png": "[encoded data removed]",
      "text/plain": [
       "<Figure size 432x288 with 1 Axes>"
      ]
     },
     "metadata": {
      "needs_background": "light"
     },
     "output_type": "display_data"
    },
    {
     "data": {
      "image/png": "[encoded data removed]",
      "text/plain": [
       "<Figure size 432x288 with 1 Axes>"
      ]
     },
     "metadata": {
      "needs_background": "light"
     },
     "output_type": "display_data"
    },
    {
     "data": {
      "image/png": "[encoded data removed]",
      "text/plain": [
       "<Figure size 432x288 with 1 Axes>"
      ]
     },
     "metadata": {
      "needs_background": "light"
     },
     "output_type": "display_data"
    },
    {
     "data": {
      "image/png": "[encoded data removed]",
      "text/plain": [
       "<Figure size 432x288 with 1 Axes>"
      ]
     },
     "metadata": {
      "needs_background": "light"
     },
     "output_type": "display_data"
    },
    {
     "data": {
      "image/png": "[encoded data removed]",
      "text/plain": [
       "<Figure size 432x288 with 1 Axes>"
      ]
     },
     "metadata": {
      "needs_background": "light"
     },
     "output_type": "display_data"
    },
    {
     "name": "stdout",
     "output_type": "stream",
     "text": [
      "0.4756157320085593\n"
     ]
    }
   ],
   "source": [
    "from sklearn import linear_model\n",
    "from sklearn.metrics import mean_squared_error\n",
    "import joblib\n",
    "\n",
    "\n",
    "alpha_list = [0.00001, 0.00005,0.0001]\n",
    "pred_cols2 = []\n",
    "for t in CFG.target_cols:\n",
    "    files_path = []\n",
    "    best_score = np.inf\n",
    "    best_alpha = np.nan\n",
    "    _ = []\n",
    "    for alpha in alpha_list:\n",
    "        for fold in range(dftr.fold.nunique()):    \n",
    "            dftr_ = dftr[dftr[\"fold\"]!=fold]\n",
    "            dfev_ = dftr[dftr[\"fold\"]==fold]\n",
    "\n",
    "            tr_text_feats = all_train_text_feats[list(dftr_.index),:]\n",
    "            ev_text_feats = all_train_text_feats[list(dfev_.index),:]\n",
    "\n",
    "            clf = linear_model.Lasso(alpha=alpha,random_state=0)\n",
    "            clf.fit(tr_text_feats, dftr_[t].values)\n",
    "            \n",
    "            # filename = OUTPUT_DIR+f'lasso_{t}_fold{fold}_alpha{alpha}.sav'\n",
    "            # files_path.append(filename)\n",
    "            # pickle.dump(clf, open(filename, 'wb'))\n",
    "            \n",
    "            preds = clf.predict(ev_text_feats)\n",
    "            preds = np.clip(preds,1,5)\n",
    "            dftr.loc[dftr[\"fold\"]==fold,f\"{t}_preds_lasso_alpha{alpha}\"] = preds\n",
    "\n",
    "        score = np.sqrt(mean_squared_error(dftr[f\"{t}_preds_lasso_alpha{alpha}\"].to_numpy()\\\n",
    "                                  ,dftr[t].to_numpy()))\n",
    "        _.append(score)\n",
    "        if score < best_score:\n",
    "            best_score = score\n",
    "            best_alpha = alpha\n",
    "            #print(f\"best_score:alpha_{alpha}\",score)\n",
    "            \n",
    "    fig = plt.figure()\n",
    "    plt.plot(_)\n",
    "    plt.title(t)\n",
    "    plt.show()\n",
    "            \n",
    "    pred_cols2.append(f\"{t}_preds_lasso_alpha{best_alpha}\")\n",
    "    # for file in files_path:\n",
    "    #     os.remove(file)\n",
    "    \n",
    "score, scores = get_score(dftr[pred_cols2].to_numpy(), dftr[CFG.target_cols].to_numpy())\n",
    "print(score)"
   ]
  },
  {
   "cell_type": "code",
   "execution_count": 141,
   "metadata": {},
   "outputs": [
    {
     "data": {
      "text/plain": [
       "['cohesion_preds_lasso_alpha5e-05',\n",
       " 'syntax_preds_lasso_alpha5e-05',\n",
       " 'vocabulary_preds_lasso_alpha5e-05',\n",
       " 'phraseology_preds_lasso_alpha5e-05',\n",
       " 'grammar_preds_lasso_alpha5e-05',\n",
       " 'conventions_preds_lasso_alpha5e-05']"
      ]
     },
     "execution_count": 141,
     "metadata": {},
     "output_type": "execute_result"
    }
   ],
   "source": [
    "pred_cols2"
   ]
  },
  {
   "cell_type": "code",
   "execution_count": 143,
   "metadata": {},
   "outputs": [
    {
     "data": {
      "image/png": "[encoded data removed]",
      "text/plain": [
       "<Figure size 432x288 with 1 Axes>"
      ]
     },
     "metadata": {
      "needs_background": "light"
     },
     "output_type": "display_data"
    },
    {
     "data": {
      "image/png": "[encoded data removed]",
      "text/plain": [
       "<Figure size 432x288 with 1 Axes>"
      ]
     },
     "metadata": {
      "needs_background": "light"
     },
     "output_type": "display_data"
    },
    {
     "data": {
      "image/png": "[encoded data removed]",
      "text/plain": [
       "<Figure size 432x288 with 1 Axes>"
      ]
     },
     "metadata": {
      "needs_background": "light"
     },
     "output_type": "display_data"
    },
    {
     "data": {
      "image/png": "[encoded data removed]",
      "text/plain": [
       "<Figure size 432x288 with 1 Axes>"
      ]
     },
     "metadata": {
      "needs_background": "light"
     },
     "output_type": "display_data"
    },
    {
     "data": {
      "image/png": "[encoded data removed]",
      "text/plain": [
       "<Figure size 432x288 with 1 Axes>"
      ]
     },
     "metadata": {
      "needs_background": "light"
     },
     "output_type": "display_data"
    },
    {
     "data": {
      "image/png": "[encoded data removed]",
      "text/plain": [
       "<Figure size 432x288 with 1 Axes>"
      ]
     },
     "metadata": {
      "needs_background": "light"
     },
     "output_type": "display_data"
    },
    {
     "name": "stdout",
     "output_type": "stream",
     "text": [
      "0.4753492491641018\n"
     ]
    }
   ],
   "source": [
    "from sklearn import linear_model\n",
    "from sklearn.metrics import mean_squared_error\n",
    "import joblib\n",
    "\n",
    "\n",
    "alpha_list = list(np.arange(0.00001,0.0001,0.00001))\n",
    "pred_cols2 = []\n",
    "for t in CFG.target_cols:\n",
    "    files_path = []\n",
    "    best_score = np.inf\n",
    "    best_alpha = np.nan\n",
    "    _ = []\n",
    "    for alpha in alpha_list:\n",
    "        for fold in range(dftr.fold.nunique()):    \n",
    "            dftr_ = dftr[dftr[\"fold\"]!=fold]\n",
    "            dfev_ = dftr[dftr[\"fold\"]==fold]\n",
    "\n",
    "            tr_text_feats = all_train_text_feats[list(dftr_.index),:]\n",
    "            ev_text_feats = all_train_text_feats[list(dfev_.index),:]\n",
    "\n",
    "            clf = linear_model.Lasso(alpha=alpha,random_state=0)\n",
    "            clf.fit(tr_text_feats, dftr_[t].values)\n",
    "            \n",
    "            filename = OUTPUT_DIR+f'lasso_{t}_fold{fold}_alpha{alpha}.sav'\n",
    "            files_path.append(filename)\n",
    "            pickle.dump(clf, open(filename, 'wb'))\n",
    "            \n",
    "            preds = clf.predict(ev_text_feats)\n",
    "            preds = np.clip(preds,1,5)\n",
    "            dftr.loc[dftr[\"fold\"]==fold,f\"{t}_preds_lasso_alpha{alpha}\"] = preds\n",
    "\n",
    "        score = np.sqrt(mean_squared_error(dftr[f\"{t}_preds_lasso_alpha{alpha}\"].to_numpy()\\\n",
    "                                  ,dftr[t].to_numpy()))\n",
    "        _.append(score)\n",
    "        if score < best_score:\n",
    "            best_score = score\n",
    "            best_alpha = alpha\n",
    "            #print(f\"best_score:alpha_{alpha}\",score)\n",
    "            \n",
    "    fig = plt.figure()\n",
    "    plt.plot(_)\n",
    "    plt.title(t)\n",
    "    plt.show()\n",
    "            \n",
    "    drop_files = [s for s in files_path if s not in \\\n",
    "              [OUTPUT_DIR+f'lasso_{t}_fold{fold}_alpha{best_alpha}.sav'\\\n",
    "               for fold in range(dftr.fold.nunique())]]\n",
    "    pred_cols2.append(f\"{t}_preds_lasso_alpha{best_alpha}\")\n",
    "    for file in drop_files:\n",
    "        os.remove(file)\n",
    "    \n",
    "score, scores = get_score(dftr[pred_cols2].to_numpy(), dftr[CFG.target_cols].to_numpy())\n",
    "print(score)"
   ]
  },
  {
   "cell_type": "code",
   "execution_count": 144,
   "metadata": {},
   "outputs": [],
   "source": [
    "pred_lasso = pred_cols2\n",
    "dftr[[\"text_id\",\"fold\"]+pred_lasso+CFG.target_cols].to_pickle(OUTPUT_DIR+\"oof_df_lasso.pkl\")"
   ]
  },
  {
   "cell_type": "code",
   "execution_count": null,
   "metadata": {},
   "outputs": [],
   "source": []
  },
  {
   "cell_type": "markdown",
   "metadata": {
    "tags": []
   },
   "source": [
    "# kaggle"
   ]
  },
  {
   "cell_type": "code",
   "execution_count": 145,
   "metadata": {},
   "outputs": [],
   "source": [
    "CFG.TO_KAGGLE = True"
   ]
  },
  {
   "cell_type": "code",
   "execution_count": 146,
   "metadata": {
    "collapsed": true,
    "jupyter": {
     "outputs_hidden": true
    },
    "tags": []
   },
   "outputs": [
    {
     "name": "stdout",
     "output_type": "stream",
     "text": [
      "Starting upload for file ridge_phraseology_fold3_alpha0.25.sav\n"
     ]
    },
    {
     "name": "stderr",
     "output_type": "stream",
     "text": [
      "100% 4.60k/4.60k [00:02<00:00, 1.84kB/s]\n"
     ]
    },
    {
     "name": "stdout",
     "output_type": "stream",
     "text": [
      "Upload successful: ridge_phraseology_fold3_alpha0.25.sav (5KB)\n",
      "Starting upload for file ridge_conventions_fold0_alpha0.3.sav\n"
     ]
    },
    {
     "name": "stderr",
     "output_type": "stream",
     "text": [
      "100% 4.60k/4.60k [00:02<00:00, 2.03kB/s]\n"
     ]
    },
    {
     "name": "stdout",
     "output_type": "stream",
     "text": [
      "Upload successful: ridge_conventions_fold0_alpha0.3.sav (5KB)\n",
      "Starting upload for file lasso_cohesion_fold2_alpha4e-05.sav\n"
     ]
    },
    {
     "name": "stderr",
     "output_type": "stream",
     "text": [
      "100% 4.69k/4.69k [00:03<00:00, 1.57kB/s]\n"
     ]
    },
    {
     "name": "stdout",
     "output_type": "stream",
     "text": [
      "Upload successful: lasso_cohesion_fold2_alpha4e-05.sav (5KB)\n",
      "Starting upload for file lasso_phraseology_fold0_alpha6e-05.sav\n"
     ]
    },
    {
     "name": "stderr",
     "output_type": "stream",
     "text": [
      "100% 4.69k/4.69k [00:02<00:00, 1.98kB/s]\n"
     ]
    },
    {
     "name": "stdout",
     "output_type": "stream",
     "text": [
      "Upload successful: lasso_phraseology_fold0_alpha6e-05.sav (5KB)\n",
      "Starting upload for file ridge_phraseology_fold2_alpha0.25.sav\n"
     ]
    },
    {
     "name": "stderr",
     "output_type": "stream",
     "text": [
      "100% 4.60k/4.60k [00:02<00:00, 1.82kB/s]\n"
     ]
    },
    {
     "name": "stdout",
     "output_type": "stream",
     "text": [
      "Upload successful: ridge_phraseology_fold2_alpha0.25.sav (5KB)\n",
      "Starting upload for file ridge_conventions_fold1_alpha0.3.sav\n"
     ]
    },
    {
     "name": "stderr",
     "output_type": "stream",
     "text": [
      "100% 4.60k/4.60k [00:02<00:00, 2.29kB/s]\n"
     ]
    },
    {
     "name": "stdout",
     "output_type": "stream",
     "text": [
      "Upload successful: ridge_conventions_fold1_alpha0.3.sav (5KB)\n",
      "Starting upload for file ridge_conventions_fold2_alpha0.3.sav\n"
     ]
    },
    {
     "name": "stderr",
     "output_type": "stream",
     "text": [
      "100% 4.60k/4.60k [00:02<00:00, 2.22kB/s]\n"
     ]
    },
    {
     "name": "stdout",
     "output_type": "stream",
     "text": [
      "Upload successful: ridge_conventions_fold2_alpha0.3.sav (5KB)\n",
      "Starting upload for file lasso_vocabulary_fold0_alpha5e-05.sav\n"
     ]
    },
    {
     "name": "stderr",
     "output_type": "stream",
     "text": [
      "100% 4.69k/4.69k [00:02<00:00, 1.97kB/s]\n"
     ]
    },
    {
     "name": "stdout",
     "output_type": "stream",
     "text": [
      "Upload successful: lasso_vocabulary_fold0_alpha5e-05.sav (5KB)\n",
      "Starting upload for file ridge_cohesion_fold1_alpha0.15000000000000002.sav\n"
     ]
    },
    {
     "name": "stderr",
     "output_type": "stream",
     "text": [
      "100% 4.60k/4.60k [00:02<00:00, 1.64kB/s]\n"
     ]
    },
    {
     "name": "stdout",
     "output_type": "stream",
     "text": [
      "Upload successful: ridge_cohesion_fold1_alpha0.15000000000000002.sav (5KB)\n",
      "Starting upload for file lasso_conventions_fold2_alpha7.000000000000001e-05.sav\n"
     ]
    },
    {
     "name": "stderr",
     "output_type": "stream",
     "text": [
      "100% 4.69k/4.69k [00:02<00:00, 1.76kB/s]\n"
     ]
    },
    {
     "name": "stdout",
     "output_type": "stream",
     "text": [
      "Upload successful: lasso_conventions_fold2_alpha7.000000000000001e-05.sav (5KB)\n",
      "Starting upload for file ridge_grammar_fold0_alpha0.35000000000000003.sav\n"
     ]
    },
    {
     "name": "stderr",
     "output_type": "stream",
     "text": [
      "100% 4.60k/4.60k [00:02<00:00, 1.70kB/s]\n"
     ]
    },
    {
     "name": "stdout",
     "output_type": "stream",
     "text": [
      "Upload successful: ridge_grammar_fold0_alpha0.35000000000000003.sav (5KB)\n",
      "Starting upload for file train_embedding.npy\n"
     ]
    },
    {
     "name": "stderr",
     "output_type": "stream",
     "text": [
      "100% 15.3M/15.3M [00:03<00:00, 4.48MB/s]\n"
     ]
    },
    {
     "name": "stdout",
     "output_type": "stream",
     "text": [
      "Upload successful: train_embedding.npy (15MB)\n",
      "Starting upload for file ridge_grammar_fold2_alpha0.35000000000000003.sav\n"
     ]
    },
    {
     "name": "stderr",
     "output_type": "stream",
     "text": [
      "100% 4.60k/4.60k [00:03<00:00, 1.57kB/s]\n"
     ]
    },
    {
     "name": "stdout",
     "output_type": "stream",
     "text": [
      "Upload successful: ridge_grammar_fold2_alpha0.35000000000000003.sav (5KB)\n",
      "Starting upload for file lasso_phraseology_fold3_alpha6e-05.sav\n"
     ]
    },
    {
     "name": "stderr",
     "output_type": "stream",
     "text": [
      "100% 4.69k/4.69k [00:02<00:00, 1.75kB/s]\n"
     ]
    },
    {
     "name": "stdout",
     "output_type": "stream",
     "text": [
      "Upload successful: lasso_phraseology_fold3_alpha6e-05.sav (5KB)\n",
      "Starting upload for file ridge_vocabulary_fold0_alpha0.2.sav\n"
     ]
    },
    {
     "name": "stderr",
     "output_type": "stream",
     "text": [
      "100% 4.60k/4.60k [00:02<00:00, 1.64kB/s]\n"
     ]
    },
    {
     "name": "stdout",
     "output_type": "stream",
     "text": [
      "Upload successful: ridge_vocabulary_fold0_alpha0.2.sav (5KB)\n",
      "Starting upload for file lasso_conventions_fold0_alpha7.000000000000001e-05.sav\n"
     ]
    },
    {
     "name": "stderr",
     "output_type": "stream",
     "text": [
      "100% 4.69k/4.69k [00:02<00:00, 1.65kB/s]\n"
     ]
    },
    {
     "name": "stdout",
     "output_type": "stream",
     "text": [
      "Upload successful: lasso_conventions_fold0_alpha7.000000000000001e-05.sav (5KB)\n",
      "Starting upload for file ridge_phraseology_fold0_alpha0.25.sav\n"
     ]
    },
    {
     "name": "stderr",
     "output_type": "stream",
     "text": [
      "100% 4.60k/4.60k [00:02<00:00, 1.72kB/s]\n"
     ]
    },
    {
     "name": "stdout",
     "output_type": "stream",
     "text": [
      "Upload successful: ridge_phraseology_fold0_alpha0.25.sav (5KB)\n",
      "Starting upload for file lasso_grammar_fold0_alpha7.000000000000001e-05.sav\n"
     ]
    },
    {
     "name": "stderr",
     "output_type": "stream",
     "text": [
      "100% 4.69k/4.69k [00:03<00:00, 1.51kB/s]\n"
     ]
    },
    {
     "name": "stdout",
     "output_type": "stream",
     "text": [
      "Upload successful: lasso_grammar_fold0_alpha7.000000000000001e-05.sav (5KB)\n",
      "Starting upload for file ridge_syntax_fold2_alpha0.15000000000000002.sav\n"
     ]
    },
    {
     "name": "stderr",
     "output_type": "stream",
     "text": [
      "100% 4.60k/4.60k [00:02<00:00, 1.79kB/s]\n"
     ]
    },
    {
     "name": "stdout",
     "output_type": "stream",
     "text": [
      "Upload successful: ridge_syntax_fold2_alpha0.15000000000000002.sav (5KB)\n",
      "Starting upload for file lasso_vocabulary_fold2_alpha5e-05.sav\n"
     ]
    },
    {
     "name": "stderr",
     "output_type": "stream",
     "text": [
      "100% 4.69k/4.69k [00:02<00:00, 2.32kB/s]\n"
     ]
    },
    {
     "name": "stdout",
     "output_type": "stream",
     "text": [
      "Upload successful: lasso_vocabulary_fold2_alpha5e-05.sav (5KB)\n",
      "Starting upload for file lasso_grammar_fold1_alpha7.000000000000001e-05.sav\n"
     ]
    },
    {
     "name": "stderr",
     "output_type": "stream",
     "text": [
      "100% 4.69k/4.69k [00:02<00:00, 1.69kB/s]\n"
     ]
    },
    {
     "name": "stdout",
     "output_type": "stream",
     "text": [
      "Upload successful: lasso_grammar_fold1_alpha7.000000000000001e-05.sav (5KB)\n",
      "Starting upload for file ridge_vocabulary_fold3_alpha0.2.sav\n"
     ]
    },
    {
     "name": "stderr",
     "output_type": "stream",
     "text": [
      "100% 4.60k/4.60k [00:02<00:00, 1.69kB/s]\n"
     ]
    },
    {
     "name": "stdout",
     "output_type": "stream",
     "text": [
      "Upload successful: ridge_vocabulary_fold3_alpha0.2.sav (5KB)\n",
      "Starting upload for file lasso_grammar_fold3_alpha7.000000000000001e-05.sav\n"
     ]
    },
    {
     "name": "stderr",
     "output_type": "stream",
     "text": [
      "100% 4.69k/4.69k [00:02<00:00, 1.75kB/s]\n"
     ]
    },
    {
     "name": "stdout",
     "output_type": "stream",
     "text": [
      "Upload successful: lasso_grammar_fold3_alpha7.000000000000001e-05.sav (5KB)\n",
      "Starting upload for file ridge_syntax_fold1_alpha0.15000000000000002.sav\n"
     ]
    },
    {
     "name": "stderr",
     "output_type": "stream",
     "text": [
      "100% 4.60k/4.60k [00:02<00:00, 1.75kB/s]\n"
     ]
    },
    {
     "name": "stdout",
     "output_type": "stream",
     "text": [
      "Upload successful: ridge_syntax_fold1_alpha0.15000000000000002.sav (5KB)\n",
      "Starting upload for file lasso_cohesion_fold3_alpha4e-05.sav\n"
     ]
    },
    {
     "name": "stderr",
     "output_type": "stream",
     "text": [
      "100% 4.69k/4.69k [00:02<00:00, 2.13kB/s]\n"
     ]
    },
    {
     "name": "stdout",
     "output_type": "stream",
     "text": [
      "Upload successful: lasso_cohesion_fold3_alpha4e-05.sav (5KB)\n",
      "Starting upload for file ridge_phraseology_fold1_alpha0.25.sav\n"
     ]
    },
    {
     "name": "stderr",
     "output_type": "stream",
     "text": [
      "100% 4.60k/4.60k [00:02<00:00, 1.78kB/s]\n"
     ]
    },
    {
     "name": "stdout",
     "output_type": "stream",
     "text": [
      "Upload successful: ridge_phraseology_fold1_alpha0.25.sav (5KB)\n",
      "Starting upload for file ridge_cohesion_fold3_alpha0.15000000000000002.sav\n"
     ]
    },
    {
     "name": "stderr",
     "output_type": "stream",
     "text": [
      "100% 4.60k/4.60k [00:02<00:00, 1.87kB/s]\n"
     ]
    },
    {
     "name": "stdout",
     "output_type": "stream",
     "text": [
      "Upload successful: ridge_cohesion_fold3_alpha0.15000000000000002.sav (5KB)\n",
      "Starting upload for file ridge_vocabulary_fold1_alpha0.2.sav\n"
     ]
    },
    {
     "name": "stderr",
     "output_type": "stream",
     "text": [
      "100% 4.60k/4.60k [00:02<00:00, 1.89kB/s]\n"
     ]
    },
    {
     "name": "stdout",
     "output_type": "stream",
     "text": [
      "Upload successful: ridge_vocabulary_fold1_alpha0.2.sav (5KB)\n",
      "Starting upload for file lasso_vocabulary_fold3_alpha5e-05.sav\n"
     ]
    },
    {
     "name": "stderr",
     "output_type": "stream",
     "text": [
      "100% 4.69k/4.69k [00:02<00:00, 1.82kB/s]\n"
     ]
    },
    {
     "name": "stdout",
     "output_type": "stream",
     "text": [
      "Upload successful: lasso_vocabulary_fold3_alpha5e-05.sav (5KB)\n",
      "Starting upload for file lasso_syntax_fold0_alpha4e-05.sav\n"
     ]
    },
    {
     "name": "stderr",
     "output_type": "stream",
     "text": [
      "100% 4.69k/4.69k [00:02<00:00, 1.73kB/s]\n"
     ]
    },
    {
     "name": "stdout",
     "output_type": "stream",
     "text": [
      "Upload successful: lasso_syntax_fold0_alpha4e-05.sav (5KB)\n",
      "Starting upload for file lasso_conventions_fold1_alpha7.000000000000001e-05.sav\n"
     ]
    },
    {
     "name": "stderr",
     "output_type": "stream",
     "text": [
      "100% 4.69k/4.69k [00:02<00:00, 1.73kB/s]\n"
     ]
    },
    {
     "name": "stdout",
     "output_type": "stream",
     "text": [
      "Upload successful: lasso_conventions_fold1_alpha7.000000000000001e-05.sav (5KB)\n",
      "Starting upload for file lasso_cohesion_fold1_alpha4e-05.sav\n"
     ]
    },
    {
     "name": "stderr",
     "output_type": "stream",
     "text": [
      "100% 4.69k/4.69k [00:02<00:00, 1.68kB/s]\n"
     ]
    },
    {
     "name": "stdout",
     "output_type": "stream",
     "text": [
      "Upload successful: lasso_cohesion_fold1_alpha4e-05.sav (5KB)\n",
      "Starting upload for file lasso_phraseology_fold1_alpha6e-05.sav\n"
     ]
    },
    {
     "name": "stderr",
     "output_type": "stream",
     "text": [
      "100% 4.69k/4.69k [00:02<00:00, 1.95kB/s]\n"
     ]
    },
    {
     "name": "stdout",
     "output_type": "stream",
     "text": [
      "Upload successful: lasso_phraseology_fold1_alpha6e-05.sav (5KB)\n",
      "Starting upload for file ridge_cohesion_fold0_alpha0.15000000000000002.sav\n"
     ]
    },
    {
     "name": "stderr",
     "output_type": "stream",
     "text": [
      "100% 4.60k/4.60k [00:02<00:00, 1.93kB/s]\n"
     ]
    },
    {
     "name": "stdout",
     "output_type": "stream",
     "text": [
      "Upload successful: ridge_cohesion_fold0_alpha0.15000000000000002.sav (5KB)\n",
      "Starting upload for file lasso_grammar_fold2_alpha7.000000000000001e-05.sav\n"
     ]
    },
    {
     "name": "stderr",
     "output_type": "stream",
     "text": [
      "100% 4.69k/4.69k [00:02<00:00, 1.61kB/s]\n"
     ]
    },
    {
     "name": "stdout",
     "output_type": "stream",
     "text": [
      "Upload successful: lasso_grammar_fold2_alpha7.000000000000001e-05.sav (5KB)\n",
      "Starting upload for file ridge_cohesion_fold2_alpha0.15000000000000002.sav\n"
     ]
    },
    {
     "name": "stderr",
     "output_type": "stream",
     "text": [
      "100% 4.60k/4.60k [00:02<00:00, 1.76kB/s]\n"
     ]
    },
    {
     "name": "stdout",
     "output_type": "stream",
     "text": [
      "Upload successful: ridge_cohesion_fold2_alpha0.15000000000000002.sav (5KB)\n",
      "Starting upload for file lasso_syntax_fold2_alpha4e-05.sav\n"
     ]
    },
    {
     "name": "stderr",
     "output_type": "stream",
     "text": [
      "100% 4.69k/4.69k [00:03<00:00, 1.59kB/s]\n"
     ]
    },
    {
     "name": "stdout",
     "output_type": "stream",
     "text": [
      "Upload successful: lasso_syntax_fold2_alpha4e-05.sav (5KB)\n",
      "Starting upload for file ridge_syntax_fold3_alpha0.15000000000000002.sav\n"
     ]
    },
    {
     "name": "stderr",
     "output_type": "stream",
     "text": [
      "100% 4.60k/4.60k [00:02<00:00, 2.31kB/s]\n"
     ]
    },
    {
     "name": "stdout",
     "output_type": "stream",
     "text": [
      "Upload successful: ridge_syntax_fold3_alpha0.15000000000000002.sav (5KB)\n",
      "Starting upload for file ridge_grammar_fold1_alpha0.35000000000000003.sav\n"
     ]
    },
    {
     "name": "stderr",
     "output_type": "stream",
     "text": [
      "100% 4.60k/4.60k [00:02<00:00, 1.60kB/s]\n"
     ]
    },
    {
     "name": "stdout",
     "output_type": "stream",
     "text": [
      "Upload successful: ridge_grammar_fold1_alpha0.35000000000000003.sav (5KB)\n",
      "Starting upload for file lasso_syntax_fold1_alpha4e-05.sav\n"
     ]
    },
    {
     "name": "stderr",
     "output_type": "stream",
     "text": [
      "100% 4.69k/4.69k [00:01<00:00, 2.46kB/s]\n"
     ]
    },
    {
     "name": "stdout",
     "output_type": "stream",
     "text": [
      "Upload successful: lasso_syntax_fold1_alpha4e-05.sav (5KB)\n",
      "Starting upload for file oof_df_lasso.pkl\n"
     ]
    },
    {
     "name": "stderr",
     "output_type": "stream",
     "text": [
      "100% 364k/364k [00:02<00:00, 163kB/s]\n"
     ]
    },
    {
     "name": "stdout",
     "output_type": "stream",
     "text": [
      "Upload successful: oof_df_lasso.pkl (364KB)\n",
      "Starting upload for file lasso_conventions_fold3_alpha7.000000000000001e-05.sav\n"
     ]
    },
    {
     "name": "stderr",
     "output_type": "stream",
     "text": [
      "100% 4.69k/4.69k [00:02<00:00, 1.86kB/s]\n"
     ]
    },
    {
     "name": "stdout",
     "output_type": "stream",
     "text": [
      "Upload successful: lasso_conventions_fold3_alpha7.000000000000001e-05.sav (5KB)\n",
      "Starting upload for file ridge_conventions_fold3_alpha0.3.sav\n"
     ]
    },
    {
     "name": "stderr",
     "output_type": "stream",
     "text": [
      "100% 4.60k/4.60k [00:02<00:00, 2.05kB/s]\n"
     ]
    },
    {
     "name": "stdout",
     "output_type": "stream",
     "text": [
      "Upload successful: ridge_conventions_fold3_alpha0.3.sav (5KB)\n",
      "Starting upload for file oof_df_ridge.pkl\n"
     ]
    },
    {
     "name": "stderr",
     "output_type": "stream",
     "text": [
      "100% 364k/364k [00:02<00:00, 126kB/s]\n"
     ]
    },
    {
     "name": "stdout",
     "output_type": "stream",
     "text": [
      "Upload successful: oof_df_ridge.pkl (364KB)\n",
      "Starting upload for file lasso_cohesion_fold0_alpha4e-05.sav\n"
     ]
    },
    {
     "name": "stderr",
     "output_type": "stream",
     "text": [
      "100% 4.69k/4.69k [00:03<00:00, 1.58kB/s]\n"
     ]
    },
    {
     "name": "stdout",
     "output_type": "stream",
     "text": [
      "Upload successful: lasso_cohesion_fold0_alpha4e-05.sav (5KB)\n",
      "Starting upload for file ridge_grammar_fold3_alpha0.35000000000000003.sav\n"
     ]
    },
    {
     "name": "stderr",
     "output_type": "stream",
     "text": [
      "100% 4.60k/4.60k [00:02<00:00, 1.94kB/s]\n"
     ]
    },
    {
     "name": "stdout",
     "output_type": "stream",
     "text": [
      "Upload successful: ridge_grammar_fold3_alpha0.35000000000000003.sav (5KB)\n",
      "Starting upload for file lasso_syntax_fold3_alpha4e-05.sav\n"
     ]
    },
    {
     "name": "stderr",
     "output_type": "stream",
     "text": [
      "100% 4.69k/4.69k [00:02<00:00, 2.11kB/s]\n"
     ]
    },
    {
     "name": "stdout",
     "output_type": "stream",
     "text": [
      "Upload successful: lasso_syntax_fold3_alpha4e-05.sav (5KB)\n",
      "Starting upload for file lasso_vocabulary_fold1_alpha5e-05.sav\n"
     ]
    },
    {
     "name": "stderr",
     "output_type": "stream",
     "text": [
      "100% 4.69k/4.69k [00:02<00:00, 1.75kB/s]\n"
     ]
    },
    {
     "name": "stdout",
     "output_type": "stream",
     "text": [
      "Upload successful: lasso_vocabulary_fold1_alpha5e-05.sav (5KB)\n",
      "Starting upload for file lasso_phraseology_fold2_alpha6e-05.sav\n"
     ]
    },
    {
     "name": "stderr",
     "output_type": "stream",
     "text": [
      "100% 4.69k/4.69k [00:02<00:00, 1.79kB/s]\n"
     ]
    },
    {
     "name": "stdout",
     "output_type": "stream",
     "text": [
      "Upload successful: lasso_phraseology_fold2_alpha6e-05.sav (5KB)\n",
      "Starting upload for file ridge_syntax_fold0_alpha0.15000000000000002.sav\n"
     ]
    },
    {
     "name": "stderr",
     "output_type": "stream",
     "text": [
      "100% 4.60k/4.60k [00:02<00:00, 1.95kB/s]\n"
     ]
    },
    {
     "name": "stdout",
     "output_type": "stream",
     "text": [
      "Upload successful: ridge_syntax_fold0_alpha0.15000000000000002.sav (5KB)\n",
      "Starting upload for file ridge_vocabulary_fold2_alpha0.2.sav\n"
     ]
    },
    {
     "name": "stderr",
     "output_type": "stream",
     "text": [
      "100% 4.60k/4.60k [00:02<00:00, 2.09kB/s]\n"
     ]
    },
    {
     "name": "stdout",
     "output_type": "stream",
     "text": [
      "Upload successful: ridge_vocabulary_fold2_alpha0.2.sav (5KB)\n",
      "folder upload\n"
     ]
    }
   ],
   "source": [
    "if CFG.TO_KAGGLE:\n",
    "    UPLOAD_DIR = OUTPUT_DIR\n",
    "    EX_NO = f\"{model_name}-{CFG.file_name}\" # 実験番号などを入れる、folderのpathにする\n",
    "    USERID = 'your_id'\n",
    "\n",
    "\n",
    "    def dataset_upload():\n",
    "        import json\n",
    "        from kaggle.api.kaggle_api_extended import KaggleApi\n",
    "\n",
    "        id = f'{USERID}/{EX_NO}'\n",
    "\n",
    "        dataset_metadata = {}\n",
    "        dataset_metadata['id'] = id\n",
    "        dataset_metadata['licenses'] = [{'name': 'CC0-1.0'}]\n",
    "        dataset_metadata['title'] = f'{EX_NO}'\n",
    "\n",
    "        with open(UPLOAD_DIR +'dataset-metadata.json', 'w') as f:\n",
    "            json.dump(dataset_metadata, f, indent=4)\n",
    "\n",
    "        api = KaggleApi()\n",
    "        api.authenticate()\n",
    "\n",
    "        # データセットがない場合\n",
    "        if f'{USERID}/{EX_NO}' not in [str(d) for d in api.dataset_list(user=USERID, search=f'\"{EX_NO}\"')]:\n",
    "            api.dataset_create_new(folder=UPLOAD_DIR,\n",
    "                                   convert_to_csv=False,\n",
    "                                   dir_mode='skip')\n",
    "\n",
    "             #フォルダーを削除\n",
    "            if f'{USERID}/{EX_NO}' not in [str(d) for d in api.dataset_list(user=USERID, search=f'\"{EX_NO}\"')]:\n",
    "                print(\"folder upload\")\n",
    "            else:\n",
    "                print(\"folder not upload\")\n",
    "\n",
    "        # データセットがある場合→更新されない場合がある（後で原因追及)\n",
    "        else:\n",
    "            print(\"this folder exsits\")\n",
    "    dataset_upload()"
   ]
  },
  {
   "cell_type": "code",
   "execution_count": 156,
   "metadata": {},
   "outputs": [],
   "source": [
    "def get_logger(filename=OUTPUT_DIR+'train'):\n",
    "    from logging import getLogger, INFO, StreamHandler, FileHandler, Formatter\n",
    "    logger = getLogger(__name__)\n",
    "    logger.setLevel(INFO)\n",
    "    handler1 = StreamHandler()\n",
    "    handler1.setFormatter(Formatter(\"%(message)s\"))\n",
    "    handler2 = FileHandler(filename=f\"{filename}.log\")\n",
    "    handler2.setFormatter(Formatter(\"%(message)s\"))\n",
    "    logger.addHandler(handler1)\n",
    "    logger.addHandler(handler2)\n",
    "    return logger\n",
    "\n",
    "LOGGER = get_logger()\n",
    "\n",
    "def to_write_score(CFG,oof_df):\n",
    "    df = pd.read_csv(CFG.score_path)\n",
    "    def get_result2(oof_df):\n",
    "            labels = oof_df[CFG.target_cols].values\n",
    "            preds = oof_df[[f\"pred_{c}\" for c in CFG.target_cols]].values\n",
    "            score, scores = get_score(labels, preds)\n",
    "            LOGGER.info(f'Score: {score:<.4f}  Scores: {scores}')\n",
    "            return score,scores\n",
    "\n",
    "    score,scores = get_result2(oof_df)\n",
    "    name = \"-\".join(OUTPUT_DIR.split(\"/\")[-4:-2])\n",
    "    base = {\"name\":name,\"score\":score,\"memo\":CFG.MEMO} \n",
    "    base.update(dict(zip(CFG.target_cols,scores)))\n",
    "    df = df.append(base,ignore_index=True)\n",
    "    df.to_csv(CFG.score_path,index=False)\n"
   ]
  },
  {
   "cell_type": "code",
   "execution_count": 157,
   "metadata": {},
   "outputs": [
    {
     "name": "stderr",
     "output_type": "stream",
     "text": [
      "Score: 0.4753  Scores: [0.5065573069108552, 0.46350985113309506, 0.43079235499710083, 0.4724036347754674, 0.5014239960458493, 0.4774083511222429]\n"
     ]
    }
   ],
   "source": [
    "oof_df = pd.read_pickle(OUTPUT_DIR+\"oof_df_lasso.pkl\")\n",
    "CFG.MEMO = \"lasso\"\n",
    "\n",
    "re_cols = ['pred_cohesion', 'pred_syntax', 'pred_vocabulary', 'pred_phraseology'\\\n",
    "           ,'pred_grammar', 'pred_conventions']\n",
    "cols = oof_df.columns[2:8]\n",
    "oof_df = oof_df.rename(columns=dict(zip(cols,re_cols)))\n",
    "\n",
    "to_write_score(CFG,oof_df)"
   ]
  },
  {
   "cell_type": "code",
   "execution_count": 159,
   "metadata": {},
   "outputs": [
    {
     "name": "stderr",
     "output_type": "stream",
     "text": [
      "Score: 0.4727  Scores: [0.502826906352543, 0.4629854207439849, 0.4274383491507307, 0.4711436095050198, 0.4996538762757504, 0.47217950621849514]\n"
     ]
    }
   ],
   "source": [
    "oof_df = pd.read_pickle(OUTPUT_DIR+\"oof_df_ridge.pkl\")\n",
    "CFG.MEMO = \"ridge\"\n",
    "\n",
    "re_cols = ['pred_cohesion', 'pred_syntax', 'pred_vocabulary', 'pred_phraseology'\\\n",
    "           ,'pred_grammar', 'pred_conventions']\n",
    "cols = oof_df.columns[2:8]\n",
    "oof_df = oof_df.rename(columns=dict(zip(cols,re_cols)))\n",
    "\n",
    "to_write_score(CFG,oof_df)"
   ]
  },
  {
   "cell_type": "code",
   "execution_count": 160,
   "metadata": {},
   "outputs": [
    {
     "data": {
      "text/html": [
       "<div>\n",
       "<style scoped>\n",
       "    .dataframe tbody tr th:only-of-type {\n",
       "        vertical-align: middle;\n",
       "    }\n",
       "\n",
       "    .dataframe tbody tr th {\n",
       "        vertical-align: top;\n",
       "    }\n",
       "\n",
       "    .dataframe thead th {\n",
       "        text-align: right;\n",
       "    }\n",
       "</style>\n",
       "<table border=\"1\" class=\"dataframe\">\n",
       "  <thead>\n",
       "    <tr style=\"text-align: right;\">\n",
       "      <th></th>\n",
       "      <th>name</th>\n",
       "      <th>memo</th>\n",
       "      <th>LB</th>\n",
       "      <th>score</th>\n",
       "      <th>cohesion</th>\n",
       "      <th>syntax</th>\n",
       "      <th>vocabulary</th>\n",
       "      <th>phraseology</th>\n",
       "      <th>grammar</th>\n",
       "      <th>conventions</th>\n",
       "    </tr>\n",
       "  </thead>\n",
       "  <tbody>\n",
       "    <tr>\n",
       "      <th>0</th>\n",
       "      <td>base-discriminator-001</td>\n",
       "      <td>NaN</td>\n",
       "      <td>0.46</td>\n",
       "      <td>0.466957</td>\n",
       "      <td>0.501431</td>\n",
       "      <td>0.455460</td>\n",
       "      <td>0.428477</td>\n",
       "      <td>0.465690</td>\n",
       "      <td>0.485904</td>\n",
       "      <td>0.464780</td>\n",
       "    </tr>\n",
       "    <tr>\n",
       "      <th>1</th>\n",
       "      <td>base-discriminator-002</td>\n",
       "      <td>NaN</td>\n",
       "      <td>0.45</td>\n",
       "      <td>0.474078</td>\n",
       "      <td>0.504413</td>\n",
       "      <td>0.462707</td>\n",
       "      <td>0.432588</td>\n",
       "      <td>0.469546</td>\n",
       "      <td>0.500918</td>\n",
       "      <td>0.474296</td>\n",
       "    </tr>\n",
       "    <tr>\n",
       "      <th>2</th>\n",
       "      <td>deberta-v3-base-003</td>\n",
       "      <td>2epochs</td>\n",
       "      <td>NaN</td>\n",
       "      <td>0.459342</td>\n",
       "      <td>0.496531</td>\n",
       "      <td>0.450482</td>\n",
       "      <td>0.419448</td>\n",
       "      <td>0.457413</td>\n",
       "      <td>0.476347</td>\n",
       "      <td>0.455832</td>\n",
       "    </tr>\n",
       "    <tr>\n",
       "      <th>3</th>\n",
       "      <td>deberta-v3-base-003</td>\n",
       "      <td>6epochs</td>\n",
       "      <td>0.44</td>\n",
       "      <td>0.456879</td>\n",
       "      <td>0.488333</td>\n",
       "      <td>0.448687</td>\n",
       "      <td>0.417134</td>\n",
       "      <td>0.458769</td>\n",
       "      <td>0.479633</td>\n",
       "      <td>0.448721</td>\n",
       "    </tr>\n",
       "    <tr>\n",
       "      <th>4</th>\n",
       "      <td>deberta-v3-base-006</td>\n",
       "      <td>15folds</td>\n",
       "      <td>NaN</td>\n",
       "      <td>0.463635</td>\n",
       "      <td>0.479650</td>\n",
       "      <td>0.475910</td>\n",
       "      <td>0.442828</td>\n",
       "      <td>0.463557</td>\n",
       "      <td>0.456412</td>\n",
       "      <td>0.463457</td>\n",
       "    </tr>\n",
       "    <tr>\n",
       "      <th>5</th>\n",
       "      <td>deberta-v3-base-006</td>\n",
       "      <td>20folds</td>\n",
       "      <td>NaN</td>\n",
       "      <td>0.449212</td>\n",
       "      <td>0.475585</td>\n",
       "      <td>0.433808</td>\n",
       "      <td>0.415852</td>\n",
       "      <td>0.457436</td>\n",
       "      <td>0.484686</td>\n",
       "      <td>0.427907</td>\n",
       "    </tr>\n",
       "    <tr>\n",
       "      <th>6</th>\n",
       "      <td>deberta-v3-base-006</td>\n",
       "      <td>10folds</td>\n",
       "      <td>NaN</td>\n",
       "      <td>0.446338</td>\n",
       "      <td>0.490661</td>\n",
       "      <td>0.435001</td>\n",
       "      <td>0.409460</td>\n",
       "      <td>0.417236</td>\n",
       "      <td>0.481800</td>\n",
       "      <td>0.443871</td>\n",
       "    </tr>\n",
       "    <tr>\n",
       "      <th>7</th>\n",
       "      <td>distilroberta-base-001</td>\n",
       "      <td>4folds</td>\n",
       "      <td>NaN</td>\n",
       "      <td>0.470528</td>\n",
       "      <td>0.501629</td>\n",
       "      <td>0.459765</td>\n",
       "      <td>0.426740</td>\n",
       "      <td>0.473205</td>\n",
       "      <td>0.501976</td>\n",
       "      <td>0.459850</td>\n",
       "    </tr>\n",
       "    <tr>\n",
       "      <th>8</th>\n",
       "      <td>distilroberta-base-002</td>\n",
       "      <td>バッチ16,4folds</td>\n",
       "      <td>NaN</td>\n",
       "      <td>0.471035</td>\n",
       "      <td>0.503345</td>\n",
       "      <td>0.458993</td>\n",
       "      <td>0.427209</td>\n",
       "      <td>0.471235</td>\n",
       "      <td>0.504850</td>\n",
       "      <td>0.460580</td>\n",
       "    </tr>\n",
       "    <tr>\n",
       "      <th>9</th>\n",
       "      <td>microsoft-deberta-v3-large-001</td>\n",
       "      <td>NaN</td>\n",
       "      <td>0.46</td>\n",
       "      <td>0.450311</td>\n",
       "      <td>0.482961</td>\n",
       "      <td>0.445596</td>\n",
       "      <td>0.410873</td>\n",
       "      <td>0.449346</td>\n",
       "      <td>0.466162</td>\n",
       "      <td>0.446928</td>\n",
       "    </tr>\n",
       "    <tr>\n",
       "      <th>10</th>\n",
       "      <td>microsoft-deberta-v3-large-002</td>\n",
       "      <td>NaN</td>\n",
       "      <td>0.44</td>\n",
       "      <td>0.453782</td>\n",
       "      <td>0.486786</td>\n",
       "      <td>0.446127</td>\n",
       "      <td>0.415995</td>\n",
       "      <td>0.452892</td>\n",
       "      <td>0.472186</td>\n",
       "      <td>0.448703</td>\n",
       "    </tr>\n",
       "    <tr>\n",
       "      <th>11</th>\n",
       "      <td>microsoft-deberta-v3-large-004</td>\n",
       "      <td>unscale</td>\n",
       "      <td>0.44</td>\n",
       "      <td>0.460115</td>\n",
       "      <td>0.494655</td>\n",
       "      <td>0.452659</td>\n",
       "      <td>0.419634</td>\n",
       "      <td>0.461738</td>\n",
       "      <td>0.476507</td>\n",
       "      <td>0.455497</td>\n",
       "    </tr>\n",
       "    <tr>\n",
       "      <th>12</th>\n",
       "      <td>roberta-base-003</td>\n",
       "      <td>1fold</td>\n",
       "      <td>0.45</td>\n",
       "      <td>0.459033</td>\n",
       "      <td>0.486786</td>\n",
       "      <td>0.452983</td>\n",
       "      <td>0.423085</td>\n",
       "      <td>0.463976</td>\n",
       "      <td>0.484316</td>\n",
       "      <td>0.443049</td>\n",
       "    </tr>\n",
       "    <tr>\n",
       "      <th>13</th>\n",
       "      <td>roberta-base-004</td>\n",
       "      <td>4folds</td>\n",
       "      <td>0.44</td>\n",
       "      <td>0.466575</td>\n",
       "      <td>0.498291</td>\n",
       "      <td>0.455092</td>\n",
       "      <td>0.427741</td>\n",
       "      <td>0.468486</td>\n",
       "      <td>0.493240</td>\n",
       "      <td>0.456598</td>\n",
       "    </tr>\n",
       "    <tr>\n",
       "      <th>14</th>\n",
       "      <td>roberta-base-005</td>\n",
       "      <td>バッチ16,4folds</td>\n",
       "      <td>0.44</td>\n",
       "      <td>0.463956</td>\n",
       "      <td>0.496089</td>\n",
       "      <td>0.454223</td>\n",
       "      <td>0.425768</td>\n",
       "      <td>0.464463</td>\n",
       "      <td>0.487668</td>\n",
       "      <td>0.455523</td>\n",
       "    </tr>\n",
       "    <tr>\n",
       "      <th>15</th>\n",
       "      <td>roberta-base-006</td>\n",
       "      <td>バッチ32,4folds</td>\n",
       "      <td>NaN</td>\n",
       "      <td>0.464111</td>\n",
       "      <td>0.497241</td>\n",
       "      <td>0.453315</td>\n",
       "      <td>0.425326</td>\n",
       "      <td>0.463499</td>\n",
       "      <td>0.488895</td>\n",
       "      <td>0.456390</td>\n",
       "    </tr>\n",
       "    <tr>\n",
       "      <th>16</th>\n",
       "      <td>roberta-large-002</td>\n",
       "      <td>バッチ8_4folds</td>\n",
       "      <td>0.44</td>\n",
       "      <td>0.461700</td>\n",
       "      <td>NaN</td>\n",
       "      <td>NaN</td>\n",
       "      <td>NaN</td>\n",
       "      <td>NaN</td>\n",
       "      <td>NaN</td>\n",
       "      <td>NaN</td>\n",
       "    </tr>\n",
       "    <tr>\n",
       "      <th>17</th>\n",
       "      <td>roberta-large-003</td>\n",
       "      <td>バッチ16,2_4fold</td>\n",
       "      <td>NaN</td>\n",
       "      <td>0.469800</td>\n",
       "      <td>0.483395</td>\n",
       "      <td>0.457585</td>\n",
       "      <td>0.424750</td>\n",
       "      <td>0.480469</td>\n",
       "      <td>0.494185</td>\n",
       "      <td>0.478415</td>\n",
       "    </tr>\n",
       "    <tr>\n",
       "      <th>18</th>\n",
       "      <td>roberta-large-004</td>\n",
       "      <td>バッチ32,2_4fold</td>\n",
       "      <td>0.45</td>\n",
       "      <td>0.462673</td>\n",
       "      <td>0.487539</td>\n",
       "      <td>0.450118</td>\n",
       "      <td>0.419088</td>\n",
       "      <td>0.469469</td>\n",
       "      <td>0.482251</td>\n",
       "      <td>0.467571</td>\n",
       "    </tr>\n",
       "    <tr>\n",
       "      <th>19</th>\n",
       "      <td>roberta-large-006</td>\n",
       "      <td>バッチ36,2_4fold</td>\n",
       "      <td>0.45</td>\n",
       "      <td>0.466295</td>\n",
       "      <td>0.490185</td>\n",
       "      <td>0.457640</td>\n",
       "      <td>0.423379</td>\n",
       "      <td>0.469386</td>\n",
       "      <td>0.486419</td>\n",
       "      <td>0.470762</td>\n",
       "    </tr>\n",
       "    <tr>\n",
       "      <th>20</th>\n",
       "      <td>roberta-large-007</td>\n",
       "      <td>バッチ40,2_4fold</td>\n",
       "      <td>0.45</td>\n",
       "      <td>0.466273</td>\n",
       "      <td>0.490215</td>\n",
       "      <td>0.453633</td>\n",
       "      <td>0.423818</td>\n",
       "      <td>0.475021</td>\n",
       "      <td>0.485249</td>\n",
       "      <td>0.469699</td>\n",
       "    </tr>\n",
       "    <tr>\n",
       "      <th>21</th>\n",
       "      <td>roberta-large-008</td>\n",
       "      <td>バッチ32_4folds_epochs10</td>\n",
       "      <td>0.44</td>\n",
       "      <td>0.462800</td>\n",
       "      <td>NaN</td>\n",
       "      <td>NaN</td>\n",
       "      <td>NaN</td>\n",
       "      <td>NaN</td>\n",
       "      <td>NaN</td>\n",
       "      <td>NaN</td>\n",
       "    </tr>\n",
       "    <tr>\n",
       "      <th>22</th>\n",
       "      <td>roberta-large-008</td>\n",
       "      <td>バッチ32_4folds_epochs10</td>\n",
       "      <td>0.44</td>\n",
       "      <td>0.462800</td>\n",
       "      <td>NaN</td>\n",
       "      <td>NaN</td>\n",
       "      <td>NaN</td>\n",
       "      <td>NaN</td>\n",
       "      <td>NaN</td>\n",
       "      <td>NaN</td>\n",
       "    </tr>\n",
       "    <tr>\n",
       "      <th>23</th>\n",
       "      <td>roberta-large-mnli-001</td>\n",
       "      <td>4folds</td>\n",
       "      <td>0.44</td>\n",
       "      <td>0.465286</td>\n",
       "      <td>0.493436</td>\n",
       "      <td>0.456988</td>\n",
       "      <td>0.422165</td>\n",
       "      <td>0.470799</td>\n",
       "      <td>0.487859</td>\n",
       "      <td>0.460470</td>\n",
       "    </tr>\n",
       "    <tr>\n",
       "      <th>24</th>\n",
       "      <td>svr-001</td>\n",
       "      <td>4fold</td>\n",
       "      <td>NaN</td>\n",
       "      <td>0.453306</td>\n",
       "      <td>0.483167</td>\n",
       "      <td>0.448158</td>\n",
       "      <td>0.412874</td>\n",
       "      <td>0.455388</td>\n",
       "      <td>0.473294</td>\n",
       "      <td>0.446953</td>\n",
       "    </tr>\n",
       "    <tr>\n",
       "      <th>25</th>\n",
       "      <td>svr-004</td>\n",
       "      <td>4fold</td>\n",
       "      <td>NaN</td>\n",
       "      <td>0.452746</td>\n",
       "      <td>0.481117</td>\n",
       "      <td>0.447022</td>\n",
       "      <td>0.413401</td>\n",
       "      <td>0.455160</td>\n",
       "      <td>0.472988</td>\n",
       "      <td>0.446788</td>\n",
       "    </tr>\n",
       "    <tr>\n",
       "      <th>26</th>\n",
       "      <td>svr-005</td>\n",
       "      <td>10folds,embedding003を使用</td>\n",
       "      <td>NaN</td>\n",
       "      <td>0.455535</td>\n",
       "      <td>0.485642</td>\n",
       "      <td>0.448309</td>\n",
       "      <td>0.414582</td>\n",
       "      <td>0.458728</td>\n",
       "      <td>0.479231</td>\n",
       "      <td>0.446716</td>\n",
       "    </tr>\n",
       "    <tr>\n",
       "      <th>27</th>\n",
       "      <td>funnel-intermediate-001</td>\n",
       "      <td>ベースライン</td>\n",
       "      <td>0.44</td>\n",
       "      <td>0.464516</td>\n",
       "      <td>0.493810</td>\n",
       "      <td>0.461812</td>\n",
       "      <td>0.423381</td>\n",
       "      <td>0.460282</td>\n",
       "      <td>0.479871</td>\n",
       "      <td>0.467938</td>\n",
       "    </tr>\n",
       "    <tr>\n",
       "      <th>28</th>\n",
       "      <td>roberta-base-007</td>\n",
       "      <td>tensorflow ベースライン</td>\n",
       "      <td>0.44</td>\n",
       "      <td>0.460693</td>\n",
       "      <td>0.494831</td>\n",
       "      <td>0.451108</td>\n",
       "      <td>0.421364</td>\n",
       "      <td>0.462382</td>\n",
       "      <td>0.483491</td>\n",
       "      <td>0.450982</td>\n",
       "    </tr>\n",
       "    <tr>\n",
       "      <th>29</th>\n",
       "      <td>roberta-large-020</td>\n",
       "      <td>tensorflowベースライン</td>\n",
       "      <td>0.44</td>\n",
       "      <td>0.461600</td>\n",
       "      <td>NaN</td>\n",
       "      <td>NaN</td>\n",
       "      <td>NaN</td>\n",
       "      <td>NaN</td>\n",
       "      <td>NaN</td>\n",
       "      <td>NaN</td>\n",
       "    </tr>\n",
       "    <tr>\n",
       "      <th>30</th>\n",
       "      <td>funnel-large-001</td>\n",
       "      <td>ベースライン</td>\n",
       "      <td>0.45</td>\n",
       "      <td>0.469392</td>\n",
       "      <td>0.500464</td>\n",
       "      <td>0.465704</td>\n",
       "      <td>0.426260</td>\n",
       "      <td>0.472609</td>\n",
       "      <td>0.485169</td>\n",
       "      <td>0.466142</td>\n",
       "    </tr>\n",
       "    <tr>\n",
       "      <th>31</th>\n",
       "      <td>bigbird-roberta-base-001</td>\n",
       "      <td>ベースライン</td>\n",
       "      <td>0.45</td>\n",
       "      <td>0.472852</td>\n",
       "      <td>0.504070</td>\n",
       "      <td>0.459654</td>\n",
       "      <td>0.433966</td>\n",
       "      <td>0.472433</td>\n",
       "      <td>0.500781</td>\n",
       "      <td>0.466208</td>\n",
       "    </tr>\n",
       "    <tr>\n",
       "      <th>32</th>\n",
       "      <td>bigbird-roberta-large-001</td>\n",
       "      <td>ベースライン</td>\n",
       "      <td>NaN</td>\n",
       "      <td>0.522820</td>\n",
       "      <td>0.544521</td>\n",
       "      <td>0.518818</td>\n",
       "      <td>0.469761</td>\n",
       "      <td>0.522330</td>\n",
       "      <td>0.551040</td>\n",
       "      <td>0.530452</td>\n",
       "    </tr>\n",
       "    <tr>\n",
       "      <th>33</th>\n",
       "      <td>albert-albert-xxlarge-v2-001</td>\n",
       "      <td>ベースライン</td>\n",
       "      <td>0.45</td>\n",
       "      <td>0.470328</td>\n",
       "      <td>0.501257</td>\n",
       "      <td>0.458780</td>\n",
       "      <td>0.427188</td>\n",
       "      <td>0.471476</td>\n",
       "      <td>0.493227</td>\n",
       "      <td>0.470040</td>\n",
       "    </tr>\n",
       "    <tr>\n",
       "      <th>34</th>\n",
       "      <td>muppet-roberta-large-001</td>\n",
       "      <td>ベースライン</td>\n",
       "      <td>NaN</td>\n",
       "      <td>0.467267</td>\n",
       "      <td>0.500692</td>\n",
       "      <td>0.459510</td>\n",
       "      <td>0.422984</td>\n",
       "      <td>0.465804</td>\n",
       "      <td>0.493313</td>\n",
       "      <td>0.461302</td>\n",
       "    </tr>\n",
       "    <tr>\n",
       "      <th>35</th>\n",
       "      <td>muppet-roberta-large-002</td>\n",
       "      <td>llrd,reinit</td>\n",
       "      <td>0.45</td>\n",
       "      <td>0.469194</td>\n",
       "      <td>0.493739</td>\n",
       "      <td>0.461056</td>\n",
       "      <td>0.428373</td>\n",
       "      <td>0.460448</td>\n",
       "      <td>0.500035</td>\n",
       "      <td>0.471513</td>\n",
       "    </tr>\n",
       "    <tr>\n",
       "      <th>36</th>\n",
       "      <td>muppet-roberta-large-003</td>\n",
       "      <td>ベースライン</td>\n",
       "      <td>0.44</td>\n",
       "      <td>0.467267</td>\n",
       "      <td>0.500692</td>\n",
       "      <td>0.459510</td>\n",
       "      <td>0.422984</td>\n",
       "      <td>0.465804</td>\n",
       "      <td>0.493313</td>\n",
       "      <td>0.461302</td>\n",
       "    </tr>\n",
       "    <tr>\n",
       "      <th>37</th>\n",
       "      <td>xlnet-xlnet-base-cased-002</td>\n",
       "      <td>ベースライン</td>\n",
       "      <td>NaN</td>\n",
       "      <td>0.490887</td>\n",
       "      <td>0.516941</td>\n",
       "      <td>0.478326</td>\n",
       "      <td>0.446448</td>\n",
       "      <td>0.491658</td>\n",
       "      <td>0.520468</td>\n",
       "      <td>0.491484</td>\n",
       "    </tr>\n",
       "    <tr>\n",
       "      <th>38</th>\n",
       "      <td>bert-base-uncased-001</td>\n",
       "      <td>ベースライン</td>\n",
       "      <td>NaN</td>\n",
       "      <td>0.484494</td>\n",
       "      <td>0.520500</td>\n",
       "      <td>0.480481</td>\n",
       "      <td>0.436023</td>\n",
       "      <td>0.487036</td>\n",
       "      <td>0.510098</td>\n",
       "      <td>0.472828</td>\n",
       "    </tr>\n",
       "    <tr>\n",
       "      <th>39</th>\n",
       "      <td>bert-large-uncased-001</td>\n",
       "      <td>ベースライン</td>\n",
       "      <td>NaN</td>\n",
       "      <td>0.475687</td>\n",
       "      <td>0.510415</td>\n",
       "      <td>0.469146</td>\n",
       "      <td>0.431448</td>\n",
       "      <td>0.472482</td>\n",
       "      <td>0.500130</td>\n",
       "      <td>0.470502</td>\n",
       "    </tr>\n",
       "    <tr>\n",
       "      <th>40</th>\n",
       "      <td>bert-large-uncased-002</td>\n",
       "      <td>lasso</td>\n",
       "      <td>NaN</td>\n",
       "      <td>0.475349</td>\n",
       "      <td>0.506557</td>\n",
       "      <td>0.463510</td>\n",
       "      <td>0.430792</td>\n",
       "      <td>0.472404</td>\n",
       "      <td>0.501424</td>\n",
       "      <td>0.477408</td>\n",
       "    </tr>\n",
       "    <tr>\n",
       "      <th>41</th>\n",
       "      <td>bert-large-uncased-002</td>\n",
       "      <td>ridge</td>\n",
       "      <td>NaN</td>\n",
       "      <td>0.472705</td>\n",
       "      <td>0.502827</td>\n",
       "      <td>0.462985</td>\n",
       "      <td>0.427438</td>\n",
       "      <td>0.471144</td>\n",
       "      <td>0.499654</td>\n",
       "      <td>0.472180</td>\n",
       "    </tr>\n",
       "  </tbody>\n",
       "</table>\n",
       "</div>"
      ],
      "text/plain": [
       "                              name                     memo    LB     score  \\\n",
       "0           base-discriminator-001                      NaN  0.46  0.466957   \n",
       "1           base-discriminator-002                      NaN  0.45  0.474078   \n",
       "2              deberta-v3-base-003                  2epochs   NaN  0.459342   \n",
       "3              deberta-v3-base-003                  6epochs  0.44  0.456879   \n",
       "4              deberta-v3-base-006                  15folds   NaN  0.463635   \n",
       "5              deberta-v3-base-006                  20folds   NaN  0.449212   \n",
       "6              deberta-v3-base-006                  10folds   NaN  0.446338   \n",
       "7           distilroberta-base-001                   4folds   NaN  0.470528   \n",
       "8           distilroberta-base-002             バッチ16,4folds   NaN  0.471035   \n",
       "9   microsoft-deberta-v3-large-001                      NaN  0.46  0.450311   \n",
       "10  microsoft-deberta-v3-large-002                      NaN  0.44  0.453782   \n",
       "11  microsoft-deberta-v3-large-004                  unscale  0.44  0.460115   \n",
       "12                roberta-base-003                    1fold  0.45  0.459033   \n",
       "13                roberta-base-004                   4folds  0.44  0.466575   \n",
       "14                roberta-base-005             バッチ16,4folds  0.44  0.463956   \n",
       "15                roberta-base-006             バッチ32,4folds   NaN  0.464111   \n",
       "16               roberta-large-002              バッチ8_4folds  0.44  0.461700   \n",
       "17               roberta-large-003            バッチ16,2_4fold   NaN  0.469800   \n",
       "18               roberta-large-004            バッチ32,2_4fold  0.45  0.462673   \n",
       "19               roberta-large-006            バッチ36,2_4fold  0.45  0.466295   \n",
       "20               roberta-large-007            バッチ40,2_4fold  0.45  0.466273   \n",
       "21               roberta-large-008    バッチ32_4folds_epochs10  0.44  0.462800   \n",
       "22               roberta-large-008    バッチ32_4folds_epochs10  0.44  0.462800   \n",
       "23          roberta-large-mnli-001                   4folds  0.44  0.465286   \n",
       "24                         svr-001                    4fold   NaN  0.453306   \n",
       "25                         svr-004                    4fold   NaN  0.452746   \n",
       "26                         svr-005  10folds,embedding003を使用   NaN  0.455535   \n",
       "27         funnel-intermediate-001                   ベースライン  0.44  0.464516   \n",
       "28                roberta-base-007        tensorflow ベースライン  0.44  0.460693   \n",
       "29               roberta-large-020         tensorflowベースライン  0.44  0.461600   \n",
       "30                funnel-large-001                   ベースライン  0.45  0.469392   \n",
       "31        bigbird-roberta-base-001                   ベースライン  0.45  0.472852   \n",
       "32       bigbird-roberta-large-001                   ベースライン   NaN  0.522820   \n",
       "33    albert-albert-xxlarge-v2-001                   ベースライン  0.45  0.470328   \n",
       "34        muppet-roberta-large-001                   ベースライン   NaN  0.467267   \n",
       "35        muppet-roberta-large-002              llrd,reinit  0.45  0.469194   \n",
       "36        muppet-roberta-large-003                   ベースライン  0.44  0.467267   \n",
       "37      xlnet-xlnet-base-cased-002                   ベースライン   NaN  0.490887   \n",
       "38           bert-base-uncased-001                   ベースライン   NaN  0.484494   \n",
       "39          bert-large-uncased-001                   ベースライン   NaN  0.475687   \n",
       "40          bert-large-uncased-002                    lasso   NaN  0.475349   \n",
       "41          bert-large-uncased-002                    ridge   NaN  0.472705   \n",
       "\n",
       "    cohesion    syntax  vocabulary  phraseology   grammar  conventions  \n",
       "0   0.501431  0.455460    0.428477     0.465690  0.485904     0.464780  \n",
       "1   0.504413  0.462707    0.432588     0.469546  0.500918     0.474296  \n",
       "2   0.496531  0.450482    0.419448     0.457413  0.476347     0.455832  \n",
       "3   0.488333  0.448687    0.417134     0.458769  0.479633     0.448721  \n",
       "4   0.479650  0.475910    0.442828     0.463557  0.456412     0.463457  \n",
       "5   0.475585  0.433808    0.415852     0.457436  0.484686     0.427907  \n",
       "6   0.490661  0.435001    0.409460     0.417236  0.481800     0.443871  \n",
       "7   0.501629  0.459765    0.426740     0.473205  0.501976     0.459850  \n",
       "8   0.503345  0.458993    0.427209     0.471235  0.504850     0.460580  \n",
       "9   0.482961  0.445596    0.410873     0.449346  0.466162     0.446928  \n",
       "10  0.486786  0.446127    0.415995     0.452892  0.472186     0.448703  \n",
       "11  0.494655  0.452659    0.419634     0.461738  0.476507     0.455497  \n",
       "12  0.486786  0.452983    0.423085     0.463976  0.484316     0.443049  \n",
       "13  0.498291  0.455092    0.427741     0.468486  0.493240     0.456598  \n",
       "14  0.496089  0.454223    0.425768     0.464463  0.487668     0.455523  \n",
       "15  0.497241  0.453315    0.425326     0.463499  0.488895     0.456390  \n",
       "16       NaN       NaN         NaN          NaN       NaN          NaN  \n",
       "17  0.483395  0.457585    0.424750     0.480469  0.494185     0.478415  \n",
       "18  0.487539  0.450118    0.419088     0.469469  0.482251     0.467571  \n",
       "19  0.490185  0.457640    0.423379     0.469386  0.486419     0.470762  \n",
       "20  0.490215  0.453633    0.423818     0.475021  0.485249     0.469699  \n",
       "21       NaN       NaN         NaN          NaN       NaN          NaN  \n",
       "22       NaN       NaN         NaN          NaN       NaN          NaN  \n",
       "23  0.493436  0.456988    0.422165     0.470799  0.487859     0.460470  \n",
       "24  0.483167  0.448158    0.412874     0.455388  0.473294     0.446953  \n",
       "25  0.481117  0.447022    0.413401     0.455160  0.472988     0.446788  \n",
       "26  0.485642  0.448309    0.414582     0.458728  0.479231     0.446716  \n",
       "27  0.493810  0.461812    0.423381     0.460282  0.479871     0.467938  \n",
       "28  0.494831  0.451108    0.421364     0.462382  0.483491     0.450982  \n",
       "29       NaN       NaN         NaN          NaN       NaN          NaN  \n",
       "30  0.500464  0.465704    0.426260     0.472609  0.485169     0.466142  \n",
       "31  0.504070  0.459654    0.433966     0.472433  0.500781     0.466208  \n",
       "32  0.544521  0.518818    0.469761     0.522330  0.551040     0.530452  \n",
       "33  0.501257  0.458780    0.427188     0.471476  0.493227     0.470040  \n",
       "34  0.500692  0.459510    0.422984     0.465804  0.493313     0.461302  \n",
       "35  0.493739  0.461056    0.428373     0.460448  0.500035     0.471513  \n",
       "36  0.500692  0.459510    0.422984     0.465804  0.493313     0.461302  \n",
       "37  0.516941  0.478326    0.446448     0.491658  0.520468     0.491484  \n",
       "38  0.520500  0.480481    0.436023     0.487036  0.510098     0.472828  \n",
       "39  0.510415  0.469146    0.431448     0.472482  0.500130     0.470502  \n",
       "40  0.506557  0.463510    0.430792     0.472404  0.501424     0.477408  \n",
       "41  0.502827  0.462985    0.427438     0.471144  0.499654     0.472180  "
      ]
     },
     "execution_count": 160,
     "metadata": {},
     "output_type": "execute_result"
    }
   ],
   "source": [
    "df = pd.read_csv(CFG.score_path)\n",
    "df"
   ]
  },
  {
   "cell_type": "code",
   "execution_count": null,
   "metadata": {},
   "outputs": [],
   "source": [
    "# !pip install transformers\n",
    "# !pip install tokenizers"
   ]
  },
  {
   "cell_type": "code",
   "execution_count": null,
   "metadata": {
    "papermill": {
     "duration": 57.587416,
     "end_time": "2022-08-31T07:03:04.064247",
     "exception": false,
     "start_time": "2022-08-31T07:02:06.476831",
     "status": "completed"
    },
    "tags": []
   },
   "outputs": [],
   "source": [
    "# ====================================================\n",
    "# Library\n",
    "# ====================================================\n",
    "import os\n",
    "import gc\n",
    "import re\n",
    "import ast\n",
    "import sys\n",
    "import copy\n",
    "import json\n",
    "import time\n",
    "import math\n",
    "import string\n",
    "import pickle\n",
    "import random\n",
    "import joblib\n",
    "import itertools\n",
    "import warnings\n",
    "import shutil\n",
    "warnings.filterwarnings(\"ignore\")\n",
    "\n",
    "import scipy as sp\n",
    "import numpy as np\n",
    "import pandas as pd\n",
    "pd.set_option('display.max_rows', 500)\n",
    "pd.set_option('display.max_columns', 500)\n",
    "pd.set_option('display.width', 1000)\n",
    "from tqdm.auto import tqdm\n",
    "from sklearn.metrics import mean_squared_error\n",
    "from sklearn.model_selection import StratifiedKFold, GroupKFold, KFold\n",
    "\n",
    "os.system('pip install iterative-stratification==0.1.7')\n",
    "from iterstrat.ml_stratifiers import MultilabelStratifiedKFold\n",
    "\n",
    "import torch\n",
    "import torch.nn as nn\n",
    "from torch.nn import Parameter\n",
    "import torch.nn.functional as F\n",
    "from torch.optim import Adam, SGD, AdamW\n",
    "from torch.utils.data import DataLoader, Dataset\n",
    "\n",
    "os.system('pip uninstall -y transformers')\n",
    "os.system('pip uninstall -y tokenizers')\n",
    "os.system('python -m pip install --no-index --find-links=/home/jupyter/code_baseline/FB3_pip_wheels transformers')\n",
    "os.system('python -m pip install --no-index --find-links=/home/jupyter/code_baseline/FB3_pip_wheels tokenizers')\n",
    "import tokenizers\n",
    "import transformers\n",
    "# print(f\"tokenizers.__version__: {tokenizers.__version__}\")\n",
    "# print(f\"transformers.__version__: {transformers.__version__}\")\n",
    "from transformers import AutoTokenizer, AutoModel, AutoConfig\n",
    "from transformers import get_linear_schedule_with_warmup, get_cosine_schedule_with_warmup\n",
    "%env TOKENIZERS_PARALLELISM=true\n",
    "\n",
    "device = torch.device('cuda' if torch.cuda.is_available() else 'cpu')"
   ]
  },
  {
   "cell_type": "markdown",
   "metadata": {
    "papermill": {
     "duration": 0.007998,
     "end_time": "2022-08-31T07:03:04.079768",
     "exception": false,
     "start_time": "2022-08-31T07:03:04.07177",
     "status": "completed"
    },
    "tags": []
   },
   "source": [
    "# Utils"
   ]
  },
  {
   "cell_type": "code",
   "execution_count": null,
   "metadata": {
    "papermill": {
     "duration": 0.024132,
     "end_time": "2022-08-31T07:03:04.111108",
     "exception": false,
     "start_time": "2022-08-31T07:03:04.086976",
     "status": "completed"
    },
    "tags": []
   },
   "outputs": [],
   "source": [
    "# ====================================================\n",
    "# Utils\n",
    "# ====================================================\n",
    "def MCRMSE(y_trues, y_preds):\n",
    "    scores = []\n",
    "    idxes = y_trues.shape[1]\n",
    "    for i in range(idxes):\n",
    "        y_true = y_trues[:,i]\n",
    "        y_pred = y_preds[:,i]\n",
    "        score = mean_squared_error(y_true, y_pred, squared=False) # RMSE\n",
    "        scores.append(score)\n",
    "    mcrmse_score = np.mean(scores)\n",
    "    return mcrmse_score, scores\n",
    "\n",
    "\n",
    "def get_score(y_trues, y_preds):\n",
    "    mcrmse_score, scores = MCRMSE(y_trues, y_preds)\n",
    "    return mcrmse_score, scores\n",
    "\n",
    "\n",
    "def get_logger(filename=OUTPUT_DIR+'train'):\n",
    "    from logging import getLogger, INFO, StreamHandler, FileHandler, Formatter\n",
    "    logger = getLogger(__name__)\n",
    "    logger.setLevel(INFO)\n",
    "    handler1 = StreamHandler()\n",
    "    handler1.setFormatter(Formatter(\"%(message)s\"))\n",
    "    handler2 = FileHandler(filename=f\"{filename}.log\")\n",
    "    handler2.setFormatter(Formatter(\"%(message)s\"))\n",
    "    logger.addHandler(handler1)\n",
    "    logger.addHandler(handler2)\n",
    "    return logger\n",
    "\n",
    "LOGGER = get_logger()\n",
    "\n",
    "\n",
    "def seed_everything(seed=42):\n",
    "    random.seed(seed)\n",
    "    os.environ['PYTHONHASHSEED'] = str(seed)\n",
    "    np.random.seed(seed)\n",
    "    torch.manual_seed(seed)\n",
    "    torch.cuda.manual_seed(seed)\n",
    "    torch.backends.cudnn.deterministic = True\n",
    "    \n",
    "seed_everything(seed=42)"
   ]
  },
  {
   "cell_type": "markdown",
   "metadata": {
    "papermill": {
     "duration": 0.012589,
     "end_time": "2022-08-31T07:03:04.13341",
     "exception": false,
     "start_time": "2022-08-31T07:03:04.120821",
     "status": "completed"
    },
    "tags": []
   },
   "source": [
    "# Data Loading"
   ]
  },
  {
   "cell_type": "code",
   "execution_count": null,
   "metadata": {
    "papermill": {
     "duration": 0.242687,
     "end_time": "2022-08-31T07:03:04.383434",
     "exception": false,
     "start_time": "2022-08-31T07:03:04.140747",
     "status": "completed"
    },
    "tags": []
   },
   "outputs": [],
   "source": [
    "# ====================================================\n",
    "# Data Loading\n",
    "# ====================================================\n",
    "\n",
    "train = pd.read_csv(path+'train.csv')\n",
    "test = pd.read_csv(path+'test.csv')\n",
    "submission = pd.read_csv(path+'sample_submission.csv')\n",
    "\n",
    "Fold = MultilabelStratifiedKFold(n_splits=CFG.n_fold, shuffle=True, random_state=CFG.seed)\n",
    "for n, (train_index, val_index) in enumerate(Fold.split(train, train[CFG.target_cols])):\n",
    "    train.loc[val_index, 'fold'] = int(n)\n",
    "train['fold'] = train['fold'].astype(int)\n",
    "\n",
    "if CFG.DEBUG:\n",
    "    # display(train.groupby('fold').size())\n",
    "    train = train.sample(n=50, random_state=0).reset_index(drop=True)\n",
    "    # display(train.groupby('fold').size())"
   ]
  },
  {
   "cell_type": "markdown",
   "metadata": {
    "papermill": {
     "duration": 0.007561,
     "end_time": "2022-08-31T07:03:04.604916",
     "exception": false,
     "start_time": "2022-08-31T07:03:04.597355",
     "status": "completed"
    },
    "tags": []
   },
   "source": [
    "# tokenizer"
   ]
  },
  {
   "cell_type": "code",
   "execution_count": null,
   "metadata": {
    "papermill": {
     "duration": 7.351568,
     "end_time": "2022-08-31T07:03:11.964298",
     "exception": false,
     "start_time": "2022-08-31T07:03:04.61273",
     "status": "completed"
    },
    "tags": []
   },
   "outputs": [],
   "source": [
    "# ====================================================\n",
    "# tokenizer models/roberta/roberta-base/config.json\n",
    "# ====================================================\n",
    "tokenizer = AutoTokenizer.from_pretrained(f\"/home/jupyter/models/{CFG.model}/\")\n",
    "CFG.tokenizer = tokenizer"
   ]
  },
  {
   "cell_type": "markdown",
   "metadata": {
    "papermill": {
     "duration": 0.008127,
     "end_time": "2022-08-31T07:03:11.985369",
     "exception": false,
     "start_time": "2022-08-31T07:03:11.977242",
     "status": "completed"
    },
    "tags": []
   },
   "source": [
    "# Dataset"
   ]
  },
  {
   "cell_type": "code",
   "execution_count": null,
   "metadata": {
    "papermill": {
     "duration": 5.893032,
     "end_time": "2022-08-31T07:03:17.886504",
     "exception": false,
     "start_time": "2022-08-31T07:03:11.993472",
     "status": "completed"
    },
    "tags": []
   },
   "outputs": [],
   "source": [
    "# ====================================================\n",
    "# Define max_len\n",
    "# ====================================================\n",
    "# lengths = []\n",
    "# tk0 = tqdm(train['full_text'].fillna(\"\").values, total=len(train))\n",
    "# for text in tk0:\n",
    "#     length = len(tokenizer(text, add_special_tokens=False)['input_ids'])\n",
    "#     lengths.append(length)\n",
    "# CFG.max_len = max(lengths) + 3 # cls & sep & sep\n",
    "# LOGGER.info(f\"max_len: {CFG.max_len}\")"
   ]
  },
  {
   "cell_type": "code",
   "execution_count": null,
   "metadata": {
    "papermill": {
     "duration": 0.020447,
     "end_time": "2022-08-31T07:03:17.916566",
     "exception": false,
     "start_time": "2022-08-31T07:03:17.896119",
     "status": "completed"
    },
    "tags": []
   },
   "outputs": [],
   "source": [
    "# ====================================================\n",
    "# Dataset\n",
    "# ====================================================\n",
    "def prepare_input(cfg, text):\n",
    "    inputs = cfg.tokenizer.encode_plus(\n",
    "        text, \n",
    "        return_tensors=None, \n",
    "        add_special_tokens=True, \n",
    "        max_length=CFG.max_len,\n",
    "        pad_to_max_length=True,\n",
    "        truncation=True\n",
    "    )\n",
    "    for k, v in inputs.items():\n",
    "        inputs[k] = torch.tensor(v, dtype=torch.long)\n",
    "    return inputs\n",
    "\n",
    "\n",
    "class TrainDataset(Dataset):\n",
    "    def __init__(self, cfg, df):\n",
    "        self.cfg = cfg\n",
    "        self.texts = df['full_text'].values\n",
    "        self.labels = df[cfg.target_cols].values\n",
    "\n",
    "    def __len__(self):\n",
    "        return len(self.texts)\n",
    "\n",
    "    def __getitem__(self, item):\n",
    "        inputs = prepare_input(self.cfg, self.texts[item])\n",
    "        label = torch.tensor(self.labels[item], dtype=torch.float)\n",
    "        return inputs, label\n",
    "    \n",
    "\n",
    "def collate(inputs):\n",
    "    mask_len = int(inputs[\"attention_mask\"].sum(axis=1).max())\n",
    "    for k, v in inputs.items():\n",
    "        inputs[k] = inputs[k][:,:mask_len]\n",
    "    return inputs"
   ]
  },
  {
   "cell_type": "markdown",
   "metadata": {
    "papermill": {
     "duration": 0.008073,
     "end_time": "2022-08-31T07:03:17.933189",
     "exception": false,
     "start_time": "2022-08-31T07:03:17.925116",
     "status": "completed"
    },
    "tags": []
   },
   "source": [
    "# Model"
   ]
  },
  {
   "cell_type": "code",
   "execution_count": null,
   "metadata": {
    "papermill": {
     "duration": 0.033105,
     "end_time": "2022-08-31T07:03:17.97447",
     "exception": false,
     "start_time": "2022-08-31T07:03:17.941365",
     "status": "completed"
    },
    "tags": []
   },
   "outputs": [],
   "source": [
    "# ====================================================\n",
    "# Model\n",
    "# ====================================================\n",
    "#MeanPoolingはoutput_hidden_statesに関係している   https://qiita.com/niship2/items/f84751aed893da869cec\n",
    "class MeanPooling(nn.Module):\n",
    "    def __init__(self):\n",
    "        super(MeanPooling, self).__init__()\n",
    "        \n",
    "    def forward(self, last_hidden_state, attention_mask):\n",
    "        input_mask_expanded = attention_mask.unsqueeze(-1).expand(last_hidden_state.size()).float()\n",
    "        sum_embeddings = torch.sum(last_hidden_state * input_mask_expanded, 1)\n",
    "        sum_mask = input_mask_expanded.sum(1)\n",
    "        sum_mask = torch.clamp(sum_mask, min=1e-9)\n",
    "        mean_embeddings = sum_embeddings / sum_mask\n",
    "        return mean_embeddings\n",
    "    \n",
    "\n",
    "class CustomModel(nn.Module):\n",
    "    def __init__(self, cfg, config_path=None, pretrained=False):\n",
    "        super().__init__()\n",
    "        self.cfg = cfg\n",
    "        if config_path is None:\n",
    "            self.config = AutoConfig.from_pretrained(cfg.model_config_path, output_hidden_states=True)\n",
    "            self.config.hidden_dropout = 0.\n",
    "            self.config.hidden_dropout_prob = 0.\n",
    "            self.config.attention_dropout = 0.\n",
    "            self.config.attention_probs_dropout_prob = 0.\n",
    "            LOGGER.info(self.config)\n",
    "        else:\n",
    "            self.config = torch.load(config_path)\n",
    "        if pretrained:\n",
    "            self.model = AutoModel.from_pretrained(cfg.model_bin_path, config=self.config)\n",
    "        else:\n",
    "            self.model = AutoModel(self.config)\n",
    "        if self.cfg.gradient_checkpointing:\n",
    "            self.model.gradient_checkpointing_enable()\n",
    "        self.pool = MeanPooling()\n",
    "        self.fc = nn.Linear(self.config.hidden_size, 6)\n",
    "        self._init_weights(self.fc)\n",
    "        \n",
    "    def _init_weights(self, module):\n",
    "        if isinstance(module, nn.Linear):\n",
    "            module.weight.data.normal_(mean=0.0, std=self.config.initializer_range)\n",
    "            if module.bias is not None:\n",
    "                module.bias.data.zero_()\n",
    "        elif isinstance(module, nn.Embedding):\n",
    "            module.weight.data.normal_(mean=0.0, std=self.config.initializer_range)\n",
    "            if module.padding_idx is not None:\n",
    "                module.weight.data[module.padding_idx].zero_()\n",
    "        elif isinstance(module, nn.LayerNorm):\n",
    "            module.bias.data.zero_()\n",
    "            module.weight.data.fill_(1.0)\n",
    "        \n",
    "    def feature(self, inputs):\n",
    "        outputs = self.model(**inputs)\n",
    "        last_hidden_states = outputs[0]\n",
    "        feature = self.pool(last_hidden_states, inputs['attention_mask'])\n",
    "        return feature\n",
    "\n",
    "    def forward(self, inputs):\n",
    "        feature = self.feature(inputs)\n",
    "        output = self.fc(feature)\n",
    "        return output"
   ]
  },
  {
   "cell_type": "code",
   "execution_count": null,
   "metadata": {},
   "outputs": [],
   "source": [
    "# model_config_path = f\"/home/jupyter/models/deberta/{model}/model\"\n",
    "# model_bin_path = f\"/home/jupyter/models/deberta/{CFG.model}/model\""
   ]
  },
  {
   "cell_type": "code",
   "execution_count": null,
   "metadata": {},
   "outputs": [],
   "source": [
    "# conf = AutoConfig.from_pretrained(f\"/home/jupyter/models/deberta/{CFG.model}/model\", output_hidden_states=True)\n",
    "# AutoModel.from_pretrained(f\"/home/jupyter/models/deberta/{CFG.model}/model\", config=conf)"
   ]
  },
  {
   "cell_type": "markdown",
   "metadata": {
    "papermill": {
     "duration": 0.008106,
     "end_time": "2022-08-31T07:03:17.993861",
     "exception": false,
     "start_time": "2022-08-31T07:03:17.985755",
     "status": "completed"
    },
    "tags": []
   },
   "source": [
    "# Loss"
   ]
  },
  {
   "cell_type": "code",
   "execution_count": null,
   "metadata": {
    "papermill": {
     "duration": 0.021697,
     "end_time": "2022-08-31T07:03:18.02376",
     "exception": false,
     "start_time": "2022-08-31T07:03:18.002063",
     "status": "completed"
    },
    "tags": []
   },
   "outputs": [],
   "source": [
    "# ====================================================\n",
    "# Loss\n",
    "# ====================================================\n",
    "class RMSELoss(nn.Module):\n",
    "    def __init__(self, reduction='mean', eps=1e-9):\n",
    "        super().__init__()\n",
    "        self.mse = nn.MSELoss(reduction='none')\n",
    "        self.reduction = reduction\n",
    "        self.eps = eps\n",
    "\n",
    "    def forward(self, y_pred, y_true):\n",
    "        loss = torch.sqrt(self.mse(y_pred, y_true) + self.eps)\n",
    "        if self.reduction == 'none':\n",
    "            loss = loss\n",
    "        elif self.reduction == 'sum':\n",
    "            loss = loss.sum()\n",
    "        elif self.reduction == 'mean':\n",
    "            loss = loss.mean()\n",
    "        return loss"
   ]
  },
  {
   "cell_type": "markdown",
   "metadata": {
    "papermill": {
     "duration": 0.008452,
     "end_time": "2022-08-31T07:03:18.041557",
     "exception": false,
     "start_time": "2022-08-31T07:03:18.033105",
     "status": "completed"
    },
    "tags": []
   },
   "source": [
    "# Helpler functions"
   ]
  },
  {
   "cell_type": "code",
   "execution_count": null,
   "metadata": {
    "papermill": {
     "duration": 0.030759,
     "end_time": "2022-08-31T07:03:18.08056",
     "exception": false,
     "start_time": "2022-08-31T07:03:18.049801",
     "status": "completed"
    },
    "tags": []
   },
   "outputs": [],
   "source": [
    "# ====================================================\n",
    "# Helper functions\n",
    "# ====================================================\n",
    "class AverageMeter(object):\n",
    "    \"\"\"Computes and stores the average and current value\"\"\"\n",
    "    def __init__(self):\n",
    "        self.reset()\n",
    "\n",
    "    def reset(self):\n",
    "        self.val = 0\n",
    "        self.avg = 0\n",
    "        self.sum = 0\n",
    "        self.count = 0\n",
    "\n",
    "    def update(self, val, n=1):\n",
    "        self.val = val\n",
    "        self.sum += val * n\n",
    "        self.count += n\n",
    "        self.avg = self.sum / self.count\n",
    "\n",
    "\n",
    "def asMinutes(s):\n",
    "    m = math.floor(s / 60)\n",
    "    s -= m * 60\n",
    "    return '%dm %ds' % (m, s)\n",
    "\n",
    "\n",
    "def timeSince(since, percent):\n",
    "    now = time.time()\n",
    "    s = now - since\n",
    "    es = s / (percent)\n",
    "    rs = es - s\n",
    "    return '%s (remain %s)' % (asMinutes(s), asMinutes(rs))\n",
    "\n",
    "\n",
    "def train_fn(fold, train_loader, model, criterion, optimizer, epoch, scheduler, device):\n",
    "    model.train()\n",
    "    scaler = torch.cuda.amp.GradScaler(enabled=CFG.apex)\n",
    "    losses = AverageMeter()\n",
    "    start = end = time.time()\n",
    "    global_step = 0\n",
    "    for step, (inputs, labels) in enumerate(train_loader):\n",
    "        inputs = collate(inputs)\n",
    "        for k, v in inputs.items():\n",
    "            inputs[k] = v.to(device)\n",
    "        labels = labels.to(device)\n",
    "        batch_size = labels.size(0)\n",
    "        with torch.cuda.amp.autocast(enabled=CFG.apex):\n",
    "            y_preds = model(inputs)\n",
    "            loss = criterion(y_preds, labels)\n",
    "        if CFG.gradient_accumulation_steps > 1:\n",
    "            loss = loss / CFG.gradient_accumulation_steps\n",
    "        losses.update(loss.item(), batch_size)\n",
    "        scaler.scale(loss).backward()\n",
    "        grad_norm = torch.nn.utils.clip_grad_norm_(model.parameters(), CFG.max_grad_norm)\n",
    "        if (step + 1) % CFG.gradient_accumulation_steps == 0:\n",
    "            scaler.step(optimizer)\n",
    "            scaler.update()\n",
    "            optimizer.zero_grad()\n",
    "            global_step += 1\n",
    "            if CFG.batch_scheduler:\n",
    "                scheduler.step()\n",
    "        end = time.time()\n",
    "        if step % CFG.print_freq == 0 or step == (len(train_loader)-1):\n",
    "            print('Epoch: [{0}][{1}/{2}] '\n",
    "                  'Elapsed {remain:s} '\n",
    "                  'Loss: {loss.val:.4f}({loss.avg:.4f}) '\n",
    "                  'Grad: {grad_norm:.4f}  '\n",
    "                  'LR: {lr:.8f}  '\n",
    "                  .format(epoch+1, step, len(train_loader), \n",
    "                          remain=timeSince(start, float(step+1)/len(train_loader)),\n",
    "                          loss=losses,\n",
    "                          grad_norm=grad_norm,\n",
    "                          lr=scheduler.get_lr()[0]))\n",
    "        if CFG.wandb:\n",
    "            wandb.log({f\"[fold{fold}] loss\": losses.val,\n",
    "                       f\"[fold{fold}] lr\": scheduler.get_lr()[0]})\n",
    "    return losses.avg\n",
    "\n",
    "\n",
    "def valid_fn(valid_loader, model, criterion, device):\n",
    "    losses = AverageMeter()\n",
    "    model.eval()\n",
    "    preds = []\n",
    "    start = end = time.time()\n",
    "    for step, (inputs, labels) in enumerate(valid_loader):\n",
    "        inputs = collate(inputs)\n",
    "        for k, v in inputs.items():\n",
    "            inputs[k] = v.to(device)\n",
    "        labels = labels.to(device)\n",
    "        batch_size = labels.size(0)\n",
    "        with torch.no_grad():\n",
    "            y_preds = model(inputs)\n",
    "            loss = criterion(y_preds, labels)\n",
    "        if CFG.gradient_accumulation_steps > 1:\n",
    "            loss = loss / CFG.gradient_accumulation_steps\n",
    "        losses.update(loss.item(), batch_size)\n",
    "        preds.append(y_preds.to('cpu').numpy())\n",
    "        end = time.time()\n",
    "        if step % CFG.print_freq == 0 or step == (len(valid_loader)-1):\n",
    "            print('EVAL: [{0}/{1}] '\n",
    "                  'Elapsed {remain:s} '\n",
    "                  'Loss: {loss.val:.4f}({loss.avg:.4f}) '\n",
    "                  .format(step, len(valid_loader),\n",
    "                          loss=losses,\n",
    "                          remain=timeSince(start, float(step+1)/len(valid_loader))))\n",
    "    predictions = np.concatenate(preds)\n",
    "    return losses.avg, predictions"
   ]
  },
  {
   "cell_type": "markdown",
   "metadata": {
    "papermill": {
     "duration": 0.0081,
     "end_time": "2022-08-31T07:03:18.100232",
     "exception": false,
     "start_time": "2022-08-31T07:03:18.092132",
     "status": "completed"
    },
    "tags": []
   },
   "source": [
    "# train loop"
   ]
  },
  {
   "cell_type": "code",
   "execution_count": null,
   "metadata": {
    "papermill": {
     "duration": 0.033332,
     "end_time": "2022-08-31T07:03:18.141812",
     "exception": false,
     "start_time": "2022-08-31T07:03:18.10848",
     "status": "completed"
    },
    "tags": []
   },
   "outputs": [],
   "source": [
    "# ====================================================\n",
    "# train loop\n",
    "# ====================================================\n",
    "def train_loop(folds, fold):\n",
    "    \n",
    "    LOGGER.info(f\"========== fold: {fold} training ==========\")\n",
    "\n",
    "    # ====================================================\n",
    "    # loader\n",
    "    # ====================================================\n",
    "    train_folds = folds[folds['fold'] != fold].reset_index(drop=True)\n",
    "    valid_folds = folds[folds['fold'] == fold].reset_index(drop=True)\n",
    "    valid_labels = valid_folds[CFG.target_cols].values\n",
    "    \n",
    "    train_dataset = TrainDataset(CFG, train_folds)\n",
    "    valid_dataset = TrainDataset(CFG, valid_folds)\n",
    "\n",
    "    train_loader = DataLoader(train_dataset,\n",
    "                              batch_size=CFG.batch_size,\n",
    "                              shuffle=True,\n",
    "                              num_workers=CFG.num_workers, pin_memory=True, drop_last=True)\n",
    "    valid_loader = DataLoader(valid_dataset,\n",
    "                              batch_size=CFG.batch_size * 2,\n",
    "                              shuffle=False,\n",
    "                              num_workers=CFG.num_workers, pin_memory=True, drop_last=False)\n",
    "\n",
    "    # ====================================================\n",
    "    # model & optimizer\n",
    "    # ====================================================\n",
    "    model = CustomModel(CFG, config_path=None, pretrained=True)\n",
    "    torch.save(model.config, OUTPUT_DIR+'config.pth')\n",
    "    model.to(device)\n",
    "    \n",
    "    def get_optimizer_params(model, encoder_lr, decoder_lr, weight_decay=0.0):\n",
    "        param_optimizer = list(model.named_parameters())\n",
    "        no_decay = [\"bias\", \"LayerNorm.bias\", \"LayerNorm.weight\"]\n",
    "        optimizer_parameters = [\n",
    "            {'params': [p for n, p in model.model.named_parameters() if not any(nd in n for nd in no_decay)],\n",
    "             'lr': encoder_lr, 'weight_decay': weight_decay},\n",
    "            {'params': [p for n, p in model.model.named_parameters() if any(nd in n for nd in no_decay)],\n",
    "             'lr': encoder_lr, 'weight_decay': 0.0},\n",
    "            {'params': [p for n, p in model.named_parameters() if \"model\" not in n],\n",
    "             'lr': decoder_lr, 'weight_decay': 0.0}\n",
    "        ]\n",
    "        return optimizer_parameters\n",
    "\n",
    "    optimizer_parameters = get_optimizer_params(model,\n",
    "                                                encoder_lr=CFG.encoder_lr, \n",
    "                                                decoder_lr=CFG.decoder_lr,\n",
    "                                                weight_decay=CFG.weight_decay)\n",
    "    optimizer = AdamW(optimizer_parameters, lr=CFG.encoder_lr, eps=CFG.eps, betas=CFG.betas)\n",
    "    \n",
    "    # ====================================================\n",
    "    # scheduler\n",
    "    # ====================================================\n",
    "    def get_scheduler(cfg, optimizer, num_train_steps):\n",
    "        if cfg.scheduler == 'linear':\n",
    "            scheduler = get_linear_schedule_with_warmup(\n",
    "                optimizer, num_warmup_steps=cfg.num_warmup_steps, num_training_steps=num_train_steps\n",
    "            )\n",
    "        elif cfg.scheduler == 'cosine':\n",
    "            scheduler = get_cosine_schedule_with_warmup(\n",
    "                optimizer, num_warmup_steps=cfg.num_warmup_steps, num_training_steps=num_train_steps, num_cycles=cfg.num_cycles\n",
    "            )\n",
    "        return scheduler\n",
    "    \n",
    "    num_train_steps = int(len(train_folds) / CFG.batch_size * CFG.epochs)\n",
    "    scheduler = get_scheduler(CFG, optimizer, num_train_steps)\n",
    "\n",
    "    # ====================================================\n",
    "    # loop\n",
    "    # ====================================================\n",
    "    criterion = nn.SmoothL1Loss(reduction='mean') # RMSELoss(reduction=\"mean\")\n",
    "    \n",
    "    best_score = np.inf\n",
    "    patience = CFG.patience\n",
    "    for epoch in range(CFG.epochs):\n",
    "\n",
    "        start_time = time.time()\n",
    "\n",
    "        # train\n",
    "        avg_loss = train_fn(fold, train_loader, model, criterion, optimizer, epoch, scheduler, device)\n",
    "\n",
    "        # eval\n",
    "        avg_val_loss, predictions = valid_fn(valid_loader, model, criterion, device)\n",
    "        \n",
    "        # scoring\n",
    "        score, scores = get_score(valid_labels, predictions)\n",
    "\n",
    "        elapsed = time.time() - start_time\n",
    "\n",
    "        LOGGER.info(f'Epoch {epoch+1} - avg_train_loss: {avg_loss:.4f}  avg_val_loss: {avg_val_loss:.4f}  time: {elapsed:.0f}s')\n",
    "        LOGGER.info(f'Epoch {epoch+1} - Score: {score:.4f}  Scores: {scores}')\n",
    "        if CFG.wandb:\n",
    "            wandb.log({f\"[fold{fold}] epoch\": epoch+1, \n",
    "                       f\"[fold{fold}] avg_train_loss\": avg_loss, \n",
    "                       f\"[fold{fold}] avg_val_loss\": avg_val_loss,\n",
    "                       f\"[fold{fold}] score\": score})\n",
    "        \n",
    "        if best_score > score:\n",
    "            best_score = score\n",
    "            LOGGER.info(f'Epoch {epoch+1} - Save Best Score: {best_score:.4f} Model')\n",
    "            torch.save({'model': model.state_dict(),\n",
    "                        'predictions': predictions},\n",
    "                        OUTPUT_DIR+f\"{CFG.model.replace('/', '-')}_fold{fold}_best.pth\")\n",
    "            patience = CFG.patience\n",
    "        else:\n",
    "            patience -= 1\n",
    "            if patience<=0:\n",
    "                break\n",
    "\n",
    "    predictions = torch.load(OUTPUT_DIR+f\"{CFG.model.replace('/', '-')}_fold{fold}_best.pth\", \n",
    "                             map_location=torch.device('cpu'))['predictions']\n",
    "    valid_folds[[f\"pred_{c}\" for c in CFG.target_cols]] = predictions\n",
    "\n",
    "    torch.cuda.empty_cache()\n",
    "    gc.collect()\n",
    "    \n",
    "    return valid_folds"
   ]
  },
  {
   "cell_type": "code",
   "execution_count": null,
   "metadata": {
    "papermill": {
     "duration": 11935.46951,
     "end_time": "2022-08-31T10:22:13.621316",
     "exception": false,
     "start_time": "2022-08-31T07:03:18.151806",
     "status": "completed"
    },
    "tags": []
   },
   "outputs": [],
   "source": [
    "if __name__ == '__main__':\n",
    "    \n",
    "    def get_result(oof_df):\n",
    "        labels = oof_df[CFG.target_cols].values\n",
    "        preds = oof_df[[f\"pred_{c}\" for c in CFG.target_cols]].values\n",
    "        score, scores = get_score(labels, preds)\n",
    "        LOGGER.info(f'Score: {score:<.4f}  Scores: {scores}')\n",
    "        return score\n",
    "    \n",
    "    if CFG.train:\n",
    "        oof_df = pd.DataFrame()\n",
    "        for fold in range(CFG.n_fold):\n",
    "            if fold in CFG.trn_fold:\n",
    "                _oof_df = train_loop(train, fold)\n",
    "                oof_df = pd.concat([oof_df, _oof_df])\n",
    "                LOGGER.info(f\"========== fold: {fold} result ==========\")\n",
    "                score = get_result(_oof_df)\n",
    "        oof_df = oof_df.reset_index(drop=True)\n",
    "        LOGGER.info(f\"========== CV ==========\")\n",
    "        score = round(get_result(oof_df),3)\n",
    "        oof_df.to_pickle(OUTPUT_DIR+f'oof_df.pkl')\n",
    "        \n",
    "    # if CFG.DEBUG:\n",
    "    #     import send2trash\n",
    "    #     send2trash.send2trash(OUTPUT_DIR)\n",
    "    CFG.OUTPUT_DIR = OUTPUT_DIR\n",
    "    dict_cfg = {k: vars(CFG)[k] for k in vars(CFG) if \"__\" not in k}\n",
    "    with open(OUTPUT_DIR+\"dict_cfg\", 'wb') as web:\n",
    "        pickle.dump(dict_cfg , web)\n",
    "    with open(OUTPUT_DIR+\"class_cfg\", 'wb') as web:\n",
    "        pickle.dump(CFG , web)\n",
    "    \n",
    "    \n",
    "    if CFG.wandb:\n",
    "        wandb.config.update(class2dict(CFG))\n",
    "        wandb.finish()"
   ]
  },
  {
   "cell_type": "code",
   "execution_count": null,
   "metadata": {},
   "outputs": [],
   "source": [
    "print(OUTPUT_DIR)"
   ]
  },
  {
   "cell_type": "code",
   "execution_count": null,
   "metadata": {},
   "outputs": [],
   "source": [
    "# import os\n",
    "# OUTPUT_DIR = \"/home/jupyter/output/ex/roberta-base/004/202210151736/\"\n",
    "# PREDICT_DIR = OUTPUT_DIR.replace(\"output\",\"predict\")\n",
    "# if not os.path.exists(PREDICT_DIR):\n",
    "#     os.makedirs(PREDICT_DIR)\n"
   ]
  },
  {
   "cell_type": "code",
   "execution_count": null,
   "metadata": {},
   "outputs": [],
   "source": [
    "if CFG.TO_KAGGLE:\n",
    "    UPLOAD_DIR = OUTPUT_DIR\n",
    "    EX_NO = f\"{model_name}-{CFG.file_name}\" # 実験番号などを入れる、folderのpathにする\n",
    "    USERID = 'your_id'\n",
    "\n",
    "\n",
    "    def dataset_upload():\n",
    "        import json\n",
    "        from kaggle.api.kaggle_api_extended import KaggleApi\n",
    "\n",
    "        id = f'{USERID}/{EX_NO}'\n",
    "\n",
    "        dataset_metadata = {}\n",
    "        dataset_metadata['id'] = id\n",
    "        dataset_metadata['licenses'] = [{'name': 'CC0-1.0'}]\n",
    "        dataset_metadata['title'] = f'{EX_NO}'\n",
    "\n",
    "        with open(UPLOAD_DIR +'dataset-metadata.json', 'w') as f:\n",
    "            json.dump(dataset_metadata, f, indent=4)\n",
    "\n",
    "        api = KaggleApi()\n",
    "        api.authenticate()\n",
    "\n",
    "        # データセットがない場合\n",
    "        if f'{USERID}/{EX_NO}' not in [str(d) for d in api.dataset_list(user=USERID, search=f'\"{EX_NO}\"')]:\n",
    "            api.dataset_create_new(folder=UPLOAD_DIR,\n",
    "                                   convert_to_csv=False,\n",
    "                                   dir_mode='skip')\n",
    "            \n",
    "            \n",
    "             #フォルダーを削除\n",
    "            if f'{USERID}/{EX_NO}' not in [str(d) for d in api.dataset_list(user=USERID, search=f'\"{EX_NO}\"')]:\n",
    "                remove_files = glob.glob(OUTPUT_DIR+\"*\")\n",
    "                remove_files.remove(OUTPUT_DIR+\"oof_df.pkl\")\n",
    "                for file in remove_files:\n",
    "                    os.remove(file)\n",
    "                print(\"folder upload\")\n",
    "                            #apiコマンドを書き込む\n",
    "                f = open(f'{model_name}_api_command.txt', 'a')\n",
    "                api_command = f\"!kaggle datasets download -d hiroki8383/{EX_NO}\\n\"\n",
    "                f.write(api_command)\n",
    "                f.close()\n",
    "            else:\n",
    "                print(\"folder not upload\")\n",
    "            \n",
    "            \n",
    "        # データセットがある場合→更新されない場合がある（後で原因追及)\n",
    "        else:\n",
    "            print(\"this folder exsits\")\n",
    "            # api.dataset_create_version(folder=UPLOAD_DIR,\n",
    "            #                            version_notes='update',\n",
    "            #                            convert_to_csv=False,\n",
    "            #                            delete_old_versions=False,\n",
    "            #                            dir_mode='zip')\n",
    "\n",
    "        \n",
    "\n",
    "        \n",
    "    dataset_upload()"
   ]
  },
  {
   "cell_type": "code",
   "execution_count": null,
   "metadata": {
    "tags": []
   },
   "outputs": [],
   "source": [
    "if not CFG.DEBUG:\n",
    "    def to_write_score(CFG):\n",
    "        df = pd.read_csv(CFG.score_path)\n",
    "        def get_result2(oof_df):\n",
    "                labels = oof_df[CFG.target_cols].values\n",
    "                preds = oof_df[[f\"pred_{c}\" for c in CFG.target_cols]].values\n",
    "                score, scores = get_score(labels, preds)\n",
    "                LOGGER.info(f'Score: {score:<.4f}  Scores: {scores}')\n",
    "                return score,scores\n",
    "\n",
    "        score,scores = get_result2(oof_df)\n",
    "        name = \"-\".join(OUTPUT_DIR.split(\"/\")[-4:-2])\n",
    "        base = {\"name\":name,\"score\":score,\"memo\":CFG.MEMO} \n",
    "        base.update(dict(zip(CFG.target_cols,scores)))\n",
    "        df = df.append(base,ignore_index=True)\n",
    "        df.to_csv(CFG.score_path,index=False)\n",
    "    to_write_score(CFG)"
   ]
  },
  {
   "cell_type": "code",
   "execution_count": null,
   "metadata": {},
   "outputs": [],
   "source": [
    "df = pd.read_csv(CFG.score_path)\n",
    "df"
   ]
  }
 ],
 "metadata": {
  "kernelspec": {
   "display_name": "Python 3",
   "language": "python",
   "name": "python3"
  },
  "language_info": {
   "codemirror_mode": {
    "name": "ipython",
    "version": 3
   },
   "file_extension": ".py",
   "mimetype": "text/x-python",
   "name": "python",
   "nbconvert_exporter": "python",
   "pygments_lexer": "ipython3",
   "version": "3.7.3 (v3.7.3:ef4ec6ed12, Mar 25 2019, 22:22:05) [MSC v.1916 64 bit (AMD64)]"
  },
  "vscode": {
   "interpreter": {
    "hash": "93b49097727f0fa9adcd5aafc99dd1cd7ea79cb7347d81ea1db36b3c60bc51bc"
   }
  }
 },
 "nbformat": 4,
 "nbformat_minor": 4
}
