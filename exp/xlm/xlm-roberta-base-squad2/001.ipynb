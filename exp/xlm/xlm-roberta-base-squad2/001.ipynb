{
 "cells": [
  {
   "cell_type": "code",
   "execution_count": 1,
   "metadata": {
    "papermill": {
     "duration": 0.015868,
     "end_time": "2022-08-31T07:01:57.417077",
     "exception": false,
     "start_time": "2022-08-31T07:01:57.401209",
     "status": "completed"
    },
    "tags": []
   },
   "outputs": [],
   "source": [
    "# ====================================================\n",
    "# CFG\n",
    "# ====================================================\n",
    "import numpy as np\n",
    "class CFG:\n",
    "    wandb = True\n",
    "    DEBUG = False\n",
    "    TO_KAGGLE = True\n",
    "    score_path = \"gs://feedback3/output/scores/scores3.csv\"\n",
    "    MEMO = \"ベースライン\"\n",
    "    file_name = \"001\"\n",
    "    model=\"xlm/xlm-roberta-base-squad2\"\n",
    "    patience = 3\n",
    "    n_fold=4\n",
    "    trn_fold=[0,1,2,3]\n",
    "    model_config_path = f\"/home/jupyter/models/{model}/\"\n",
    "    model_bin_path = f\"/home/jupyter/models/{model}/\"\n",
    "    competition='FB3'\n",
    "    apex=True\n",
    "    print_freq=20\n",
    "    num_workers=4\n",
    "    gradient_checkpointing=True\n",
    "    scheduler='cosine' # ['linear', 'cosine']\n",
    "    batch_scheduler=True\n",
    "    num_cycles=0.5\n",
    "    num_warmup_steps=0\n",
    "    epochs=10\n",
    "    encoder_lr=2e-5\n",
    "    decoder_lr=2e-5\n",
    "    min_lr=1e-6\n",
    "    eps=1e-6\n",
    "    betas=(0.9, 0.999)\n",
    "    batch_size=8\n",
    "    max_len=512\n",
    "    weight_decay=0.01\n",
    "    gradient_accumulation_steps=1\n",
    "    max_grad_norm=1000\n",
    "    target_cols=['cohesion', 'syntax', 'vocabulary', 'phraseology', 'grammar', 'conventions']\n",
    "    seed=42\n",
    "    train=True\n",
    "    \n",
    "if CFG.DEBUG:\n",
    "    CFG.epochs = 2\n",
    "    #CFG.trn_fold = [0]"
   ]
  },
  {
   "cell_type": "code",
   "execution_count": 2,
   "metadata": {},
   "outputs": [
    {
     "name": "stderr",
     "output_type": "stream",
     "text": [
      "\u001b[34m\u001b[1mwandb\u001b[0m: Currently logged in as: \u001b[33mhiroki8383\u001b[0m. Use \u001b[1m`wandb login --relogin`\u001b[0m to force relogin\n",
      "\u001b[34m\u001b[1mwandb\u001b[0m: \u001b[33mWARNING\u001b[0m If you're specifying your api key in code, ensure this code is not shared publicly.\n",
      "\u001b[34m\u001b[1mwandb\u001b[0m: \u001b[33mWARNING\u001b[0m Consider setting the WANDB_API_KEY environment variable, or running `wandb login` from the command line.\n",
      "\u001b[34m\u001b[1mwandb\u001b[0m: Appending key for api.wandb.ai to your netrc file: /root/.netrc\n"
     ]
    },
    {
     "data": {
      "text/html": [
       "wandb version 0.13.5 is available!  To upgrade, please run:\n",
       " $ pip install wandb --upgrade"
      ],
      "text/plain": [
       "<IPython.core.display.HTML object>"
      ]
     },
     "metadata": {},
     "output_type": "display_data"
    },
    {
     "data": {
      "text/html": [
       "Tracking run with wandb version 0.12.21"
      ],
      "text/plain": [
       "<IPython.core.display.HTML object>"
      ]
     },
     "metadata": {},
     "output_type": "display_data"
    },
    {
     "data": {
      "text/html": [
       "Run data is saved locally in <code>/home/jupyter/exp/xlm/xlm-roberta-base-squad2/wandb/run-20221111_045015-1jydtprl</code>"
      ],
      "text/plain": [
       "<IPython.core.display.HTML object>"
      ]
     },
     "metadata": {},
     "output_type": "display_data"
    },
    {
     "data": {
      "text/html": [
       "Syncing run <strong><a href=\"https://wandb.ai/hiroki8383/Feedback%20Prize%20-%20English%20Language%20Learning/runs/1jydtprl\" target=\"_blank\">001_202211111350</a></strong> to <a href=\"https://wandb.ai/hiroki8383/Feedback%20Prize%20-%20English%20Language%20Learning\" target=\"_blank\">Weights & Biases</a> (<a href=\"https://wandb.me/run\" target=\"_blank\">docs</a>)<br/>"
      ],
      "text/plain": [
       "<IPython.core.display.HTML object>"
      ]
     },
     "metadata": {},
     "output_type": "display_data"
    }
   ],
   "source": [
    "import os\n",
    "import datetime\n",
    "import pickle\n",
    "import glob\n",
    "\n",
    "# ====================================================\n",
    "# datetime\n",
    "# ====================================================\n",
    "t_delta = datetime.timedelta(hours=9)\n",
    "JST = datetime.timezone(t_delta, 'JST')\n",
    "now = datetime.datetime.now(JST)\n",
    "date = now.strftime('%Y%m%d')\n",
    "date2 = now.strftime('%Y%m%d%H%M')\n",
    "\n",
    "\n",
    "# ====================================================\n",
    "# file_path\n",
    "# ====================================================\n",
    "if \"/\" in CFG.model:\n",
    "    model_name = CFG.model.replace(\"/\",\"-\")\n",
    "else:\n",
    "    model_name = CFG.model\n",
    "\n",
    "path =\"/home/jupyter/feedback-prize-english-language-learning/\"\n",
    "if CFG.DEBUG:\n",
    "    OUTPUT_DIR = f'/home/jupyter/output/ex/DEBUG/{model_name}/{CFG.file_name}/{date2}/'\n",
    "else:\n",
    "    OUTPUT_DIR = f'/home/jupyter/output/ex/{model_name}/{CFG.file_name}/{date2}/'\n",
    "if not os.path.exists(OUTPUT_DIR):\n",
    "    os.makedirs(OUTPUT_DIR)\n",
    "\n",
    "\n",
    "\n",
    "# ====================================================\n",
    "# wandb \n",
    "# ====================================================\n",
    "if CFG.wandb:\n",
    "    import wandb\n",
    "    \n",
    "    def class2dict(f):\n",
    "            return dict((name, getattr(f, name)) for name in dir(f) if not name.startswith('__'))\n",
    "        \n",
    "    project='Feedback Prize - English Language Learning'\n",
    "    if CFG.DEBUG:\n",
    "        group = \"DEBUG\"\n",
    "    else:\n",
    "        group = model_name\n",
    "    wandb_name = f\"{CFG.file_name}_{date2}\"\n",
    "    job_type = CFG.file_name  #\"train\"\n",
    "\n",
    "    wandb_api = \"your_id\"\n",
    "    wandb.login(key=wandb_api)\n",
    "    anony = None\n",
    "    run = wandb.init(project=project, \n",
    "                         name = wandb_name,\n",
    "                         config=class2dict(CFG),\n",
    "                         group=group,\n",
    "                         job_type=job_type,\n",
    "                         anonymous=anony)"
   ]
  },
  {
   "cell_type": "markdown",
   "metadata": {
    "papermill": {
     "duration": 0.008876,
     "end_time": "2022-08-31T07:02:06.467728",
     "exception": false,
     "start_time": "2022-08-31T07:02:06.458852",
     "status": "completed"
    },
    "tags": []
   },
   "source": [
    "# Library"
   ]
  },
  {
   "cell_type": "code",
   "execution_count": 3,
   "metadata": {},
   "outputs": [],
   "source": [
    "# !pip download transformers==4.21.2\n",
    "# !pip download tokenizers==0.12.1"
   ]
  },
  {
   "cell_type": "code",
   "execution_count": 4,
   "metadata": {},
   "outputs": [],
   "source": [
    "# !pip install transformers\n",
    "# !pip install tokenizers"
   ]
  },
  {
   "cell_type": "code",
   "execution_count": 5,
   "metadata": {
    "papermill": {
     "duration": 57.587416,
     "end_time": "2022-08-31T07:03:04.064247",
     "exception": false,
     "start_time": "2022-08-31T07:02:06.476831",
     "status": "completed"
    },
    "tags": []
   },
   "outputs": [
    {
     "name": "stdout",
     "output_type": "stream",
     "text": [
      "Requirement already satisfied: iterative-stratification==0.1.7 in /opt/conda/lib/python3.7/site-packages (0.1.7)\n",
      "Requirement already satisfied: scipy in /opt/conda/lib/python3.7/site-packages (from iterative-stratification==0.1.7) (1.7.3)\n",
      "Requirement already satisfied: numpy in /opt/conda/lib/python3.7/site-packages (from iterative-stratification==0.1.7) (1.21.6)\n",
      "Requirement already satisfied: scikit-learn in /opt/conda/lib/python3.7/site-packages (from iterative-stratification==0.1.7) (1.0.2)\n",
      "Requirement already satisfied: threadpoolctl>=2.0.0 in /opt/conda/lib/python3.7/site-packages (from scikit-learn->iterative-stratification==0.1.7) (3.1.0)\n",
      "Requirement already satisfied: joblib>=0.11 in /opt/conda/lib/python3.7/site-packages (from scikit-learn->iterative-stratification==0.1.7) (1.0.1)\n"
     ]
    },
    {
     "name": "stderr",
     "output_type": "stream",
     "text": [
      "WARNING: Running pip as the 'root' user can result in broken permissions and conflicting behaviour with the system package manager. It is recommended to use a virtual environment instead: https://pip.pypa.io/warnings/venv\n"
     ]
    },
    {
     "name": "stdout",
     "output_type": "stream",
     "text": [
      "Found existing installation: transformers 4.21.2\n",
      "Uninstalling transformers-4.21.2:\n",
      "  Successfully uninstalled transformers-4.21.2\n"
     ]
    },
    {
     "name": "stderr",
     "output_type": "stream",
     "text": [
      "WARNING: Running pip as the 'root' user can result in broken permissions and conflicting behaviour with the system package manager. It is recommended to use a virtual environment instead: https://pip.pypa.io/warnings/venv\n"
     ]
    },
    {
     "name": "stdout",
     "output_type": "stream",
     "text": [
      "Found existing installation: tokenizers 0.12.1\n",
      "Uninstalling tokenizers-0.12.1:\n",
      "  Successfully uninstalled tokenizers-0.12.1\n"
     ]
    },
    {
     "name": "stderr",
     "output_type": "stream",
     "text": [
      "WARNING: Running pip as the 'root' user can result in broken permissions and conflicting behaviour with the system package manager. It is recommended to use a virtual environment instead: https://pip.pypa.io/warnings/venv\n"
     ]
    },
    {
     "name": "stdout",
     "output_type": "stream",
     "text": [
      "Looking in links: /home/jupyter/code_baseline/FB3_pip_wheels\n",
      "Processing /home/jupyter/code_baseline/FB3_pip_wheels/transformers-4.21.2-py3-none-any.whl\n",
      "Requirement already satisfied: huggingface-hub<1.0,>=0.1.0 in /opt/conda/lib/python3.7/site-packages (from transformers) (0.10.1)\n",
      "Requirement already satisfied: pyyaml>=5.1 in /opt/conda/lib/python3.7/site-packages (from transformers) (6.0)\n",
      "Requirement already satisfied: requests in /opt/conda/lib/python3.7/site-packages (from transformers) (2.28.1)\n",
      "Requirement already satisfied: tqdm>=4.27 in /opt/conda/lib/python3.7/site-packages (from transformers) (4.64.0)\n",
      "Requirement already satisfied: numpy>=1.17 in /opt/conda/lib/python3.7/site-packages (from transformers) (1.21.6)\n",
      "Requirement already satisfied: packaging>=20.0 in /opt/conda/lib/python3.7/site-packages (from transformers) (21.3)\n",
      "Requirement already satisfied: regex!=2019.12.17 in /opt/conda/lib/python3.7/site-packages (from transformers) (2021.11.10)\n",
      "Processing /home/jupyter/code_baseline/FB3_pip_wheels/tokenizers-0.12.1-cp37-cp37m-manylinux_2_12_x86_64.manylinux2010_x86_64.whl\n",
      "Requirement already satisfied: filelock in /opt/conda/lib/python3.7/site-packages (from transformers) (3.7.1)\n",
      "Requirement already satisfied: importlib-metadata in /opt/conda/lib/python3.7/site-packages (from transformers) (4.13.0)\n",
      "Requirement already satisfied: typing-extensions>=3.7.4.3 in /opt/conda/lib/python3.7/site-packages (from huggingface-hub<1.0,>=0.1.0->transformers) (4.1.1)\n",
      "Requirement already satisfied: pyparsing!=3.0.5,>=2.0.2 in /opt/conda/lib/python3.7/site-packages (from packaging>=20.0->transformers) (3.0.9)\n",
      "Requirement already satisfied: zipp>=0.5 in /opt/conda/lib/python3.7/site-packages (from importlib-metadata->transformers) (3.8.0)\n",
      "Requirement already satisfied: urllib3<1.27,>=1.21.1 in /opt/conda/lib/python3.7/site-packages (from requests->transformers) (1.26.12)\n",
      "Requirement already satisfied: certifi>=2017.4.17 in /opt/conda/lib/python3.7/site-packages (from requests->transformers) (2022.9.24)\n",
      "Requirement already satisfied: charset-normalizer<3,>=2 in /opt/conda/lib/python3.7/site-packages (from requests->transformers) (2.1.0)\n",
      "Requirement already satisfied: idna<4,>=2.5 in /opt/conda/lib/python3.7/site-packages (from requests->transformers) (3.3)\n",
      "Installing collected packages: tokenizers, transformers\n"
     ]
    },
    {
     "name": "stderr",
     "output_type": "stream",
     "text": [
      "ERROR: pip's dependency resolver does not currently take into account all the packages that are installed. This behaviour is the source of the following dependency conflicts.\n",
      "allennlp 2.10.1 requires transformers<4.21,>=4.1, but you have transformers 4.21.2 which is incompatible.\n",
      "WARNING: Running pip as the 'root' user can result in broken permissions and conflicting behaviour with the system package manager. It is recommended to use a virtual environment instead: https://pip.pypa.io/warnings/venv\n"
     ]
    },
    {
     "name": "stdout",
     "output_type": "stream",
     "text": [
      "Successfully installed tokenizers-0.12.1 transformers-4.21.2\n",
      "Looking in links: /home/jupyter/code_baseline/FB3_pip_wheels\n",
      "Requirement already satisfied: tokenizers in /opt/conda/lib/python3.7/site-packages (0.12.1)\n"
     ]
    },
    {
     "name": "stderr",
     "output_type": "stream",
     "text": [
      "WARNING: Running pip as the 'root' user can result in broken permissions and conflicting behaviour with the system package manager. It is recommended to use a virtual environment instead: https://pip.pypa.io/warnings/venv\n"
     ]
    },
    {
     "name": "stdout",
     "output_type": "stream",
     "text": [
      "env: TOKENIZERS_PARALLELISM=true\n"
     ]
    }
   ],
   "source": [
    "# ====================================================\n",
    "# Library\n",
    "# ====================================================\n",
    "import os\n",
    "import gc\n",
    "import re\n",
    "import ast\n",
    "import sys\n",
    "import copy\n",
    "import json\n",
    "import time\n",
    "import math\n",
    "import string\n",
    "import pickle\n",
    "import random\n",
    "import joblib\n",
    "import itertools\n",
    "import warnings\n",
    "import shutil\n",
    "warnings.filterwarnings(\"ignore\")\n",
    "\n",
    "import scipy as sp\n",
    "import numpy as np\n",
    "import pandas as pd\n",
    "pd.set_option('display.max_rows', 500)\n",
    "pd.set_option('display.max_columns', 500)\n",
    "pd.set_option('display.width', 1000)\n",
    "from tqdm.auto import tqdm\n",
    "from sklearn.metrics import mean_squared_error\n",
    "from sklearn.model_selection import StratifiedKFold, GroupKFold, KFold\n",
    "\n",
    "os.system('pip install iterative-stratification==0.1.7')\n",
    "from iterstrat.ml_stratifiers import MultilabelStratifiedKFold\n",
    "\n",
    "import torch\n",
    "import torch.nn as nn\n",
    "from torch.nn import Parameter\n",
    "import torch.nn.functional as F\n",
    "from torch.optim import Adam, SGD, AdamW\n",
    "from torch.utils.data import DataLoader, Dataset\n",
    "\n",
    "os.system('pip uninstall -y transformers')\n",
    "os.system('pip uninstall -y tokenizers')\n",
    "os.system('python -m pip install --no-index --find-links=/home/jupyter/code_baseline/FB3_pip_wheels transformers')\n",
    "os.system('python -m pip install --no-index --find-links=/home/jupyter/code_baseline/FB3_pip_wheels tokenizers')\n",
    "import tokenizers\n",
    "import transformers\n",
    "# print(f\"tokenizers.__version__: {tokenizers.__version__}\")\n",
    "# print(f\"transformers.__version__: {transformers.__version__}\")\n",
    "from transformers import AutoTokenizer, AutoModel, AutoConfig\n",
    "from transformers import get_linear_schedule_with_warmup, get_cosine_schedule_with_warmup\n",
    "%env TOKENIZERS_PARALLELISM=true\n",
    "\n",
    "device = torch.device('cuda' if torch.cuda.is_available() else 'cpu')"
   ]
  },
  {
   "cell_type": "markdown",
   "metadata": {
    "papermill": {
     "duration": 0.007998,
     "end_time": "2022-08-31T07:03:04.079768",
     "exception": false,
     "start_time": "2022-08-31T07:03:04.07177",
     "status": "completed"
    },
    "tags": []
   },
   "source": [
    "# Utils"
   ]
  },
  {
   "cell_type": "code",
   "execution_count": 6,
   "metadata": {
    "papermill": {
     "duration": 0.024132,
     "end_time": "2022-08-31T07:03:04.111108",
     "exception": false,
     "start_time": "2022-08-31T07:03:04.086976",
     "status": "completed"
    },
    "tags": []
   },
   "outputs": [],
   "source": [
    "# ====================================================\n",
    "# Utils\n",
    "# ====================================================\n",
    "def MCRMSE(y_trues, y_preds):\n",
    "    scores = []\n",
    "    idxes = y_trues.shape[1]\n",
    "    for i in range(idxes):\n",
    "        y_true = y_trues[:,i]\n",
    "        y_pred = y_preds[:,i]\n",
    "        score = mean_squared_error(y_true, y_pred, squared=False) # RMSE\n",
    "        scores.append(score)\n",
    "    mcrmse_score = np.mean(scores)\n",
    "    return mcrmse_score, scores\n",
    "\n",
    "\n",
    "def get_score(y_trues, y_preds):\n",
    "    mcrmse_score, scores = MCRMSE(y_trues, y_preds)\n",
    "    return mcrmse_score, scores\n",
    "\n",
    "\n",
    "def get_logger(filename=OUTPUT_DIR+'train'):\n",
    "    from logging import getLogger, INFO, StreamHandler, FileHandler, Formatter\n",
    "    logger = getLogger(__name__)\n",
    "    logger.setLevel(INFO)\n",
    "    handler1 = StreamHandler()\n",
    "    handler1.setFormatter(Formatter(\"%(message)s\"))\n",
    "    handler2 = FileHandler(filename=f\"{filename}.log\")\n",
    "    handler2.setFormatter(Formatter(\"%(message)s\"))\n",
    "    logger.addHandler(handler1)\n",
    "    logger.addHandler(handler2)\n",
    "    return logger\n",
    "\n",
    "LOGGER = get_logger()\n",
    "\n",
    "\n",
    "def seed_everything(seed=42):\n",
    "    random.seed(seed)\n",
    "    os.environ['PYTHONHASHSEED'] = str(seed)\n",
    "    np.random.seed(seed)\n",
    "    torch.manual_seed(seed)\n",
    "    torch.cuda.manual_seed(seed)\n",
    "    torch.backends.cudnn.deterministic = True\n",
    "    \n",
    "seed_everything(seed=42)"
   ]
  },
  {
   "cell_type": "markdown",
   "metadata": {
    "papermill": {
     "duration": 0.012589,
     "end_time": "2022-08-31T07:03:04.13341",
     "exception": false,
     "start_time": "2022-08-31T07:03:04.120821",
     "status": "completed"
    },
    "tags": []
   },
   "source": [
    "# Data Loading"
   ]
  },
  {
   "cell_type": "code",
   "execution_count": 7,
   "metadata": {
    "papermill": {
     "duration": 0.242687,
     "end_time": "2022-08-31T07:03:04.383434",
     "exception": false,
     "start_time": "2022-08-31T07:03:04.140747",
     "status": "completed"
    },
    "tags": []
   },
   "outputs": [],
   "source": [
    "# ====================================================\n",
    "# Data Loading\n",
    "# ====================================================\n",
    "\n",
    "train = pd.read_csv(path+'train.csv')\n",
    "test = pd.read_csv(path+'test.csv')\n",
    "submission = pd.read_csv(path+'sample_submission.csv')\n",
    "\n",
    "Fold = MultilabelStratifiedKFold(n_splits=CFG.n_fold, shuffle=True, random_state=CFG.seed)\n",
    "for n, (train_index, val_index) in enumerate(Fold.split(train, train[CFG.target_cols])):\n",
    "    train.loc[val_index, 'fold'] = int(n)\n",
    "train['fold'] = train['fold'].astype(int)\n",
    "\n",
    "if CFG.DEBUG:\n",
    "    # display(train.groupby('fold').size())\n",
    "    train = train.sample(n=50, random_state=0).reset_index(drop=True)\n",
    "    # display(train.groupby('fold').size())"
   ]
  },
  {
   "cell_type": "markdown",
   "metadata": {
    "papermill": {
     "duration": 0.007561,
     "end_time": "2022-08-31T07:03:04.604916",
     "exception": false,
     "start_time": "2022-08-31T07:03:04.597355",
     "status": "completed"
    },
    "tags": []
   },
   "source": [
    "# tokenizer"
   ]
  },
  {
   "cell_type": "code",
   "execution_count": 8,
   "metadata": {
    "papermill": {
     "duration": 7.351568,
     "end_time": "2022-08-31T07:03:11.964298",
     "exception": false,
     "start_time": "2022-08-31T07:03:04.61273",
     "status": "completed"
    },
    "tags": []
   },
   "outputs": [],
   "source": [
    "# ====================================================\n",
    "# tokenizer models/roberta/roberta-base/config.json\n",
    "# ====================================================\n",
    "tokenizer = AutoTokenizer.from_pretrained(f\"/home/jupyter/models/{CFG.model}/\")\n",
    "CFG.tokenizer = tokenizer"
   ]
  },
  {
   "cell_type": "markdown",
   "metadata": {
    "papermill": {
     "duration": 0.008127,
     "end_time": "2022-08-31T07:03:11.985369",
     "exception": false,
     "start_time": "2022-08-31T07:03:11.977242",
     "status": "completed"
    },
    "tags": []
   },
   "source": [
    "# Dataset"
   ]
  },
  {
   "cell_type": "code",
   "execution_count": 9,
   "metadata": {
    "papermill": {
     "duration": 5.893032,
     "end_time": "2022-08-31T07:03:17.886504",
     "exception": false,
     "start_time": "2022-08-31T07:03:11.993472",
     "status": "completed"
    },
    "tags": []
   },
   "outputs": [],
   "source": [
    "# ====================================================\n",
    "# Define max_len\n",
    "# ====================================================\n",
    "# lengths = []\n",
    "# tk0 = tqdm(train['full_text'].fillna(\"\").values, total=len(train))\n",
    "# for text in tk0:\n",
    "#     length = len(tokenizer(text, add_special_tokens=False)['input_ids'])\n",
    "#     lengths.append(length)\n",
    "# CFG.max_len = max(lengths) + 3 # cls & sep & sep\n",
    "# LOGGER.info(f\"max_len: {CFG.max_len}\")"
   ]
  },
  {
   "cell_type": "code",
   "execution_count": 10,
   "metadata": {
    "papermill": {
     "duration": 0.020447,
     "end_time": "2022-08-31T07:03:17.916566",
     "exception": false,
     "start_time": "2022-08-31T07:03:17.896119",
     "status": "completed"
    },
    "tags": []
   },
   "outputs": [],
   "source": [
    "# ====================================================\n",
    "# Dataset\n",
    "# ====================================================\n",
    "def prepare_input(cfg, text):\n",
    "    inputs = cfg.tokenizer.encode_plus(\n",
    "        text, \n",
    "        return_tensors=None, \n",
    "        add_special_tokens=True, \n",
    "        max_length=CFG.max_len,\n",
    "        pad_to_max_length=True,\n",
    "        truncation=True\n",
    "    )\n",
    "    for k, v in inputs.items():\n",
    "        inputs[k] = torch.tensor(v, dtype=torch.long)\n",
    "    return inputs\n",
    "\n",
    "\n",
    "class TrainDataset(Dataset):\n",
    "    def __init__(self, cfg, df):\n",
    "        self.cfg = cfg\n",
    "        self.texts = df['full_text'].values\n",
    "        self.labels = df[cfg.target_cols].values\n",
    "\n",
    "    def __len__(self):\n",
    "        return len(self.texts)\n",
    "\n",
    "    def __getitem__(self, item):\n",
    "        inputs = prepare_input(self.cfg, self.texts[item])\n",
    "        label = torch.tensor(self.labels[item], dtype=torch.float)\n",
    "        return inputs, label\n",
    "    \n",
    "\n",
    "def collate(inputs):\n",
    "    mask_len = int(inputs[\"attention_mask\"].sum(axis=1).max())\n",
    "    for k, v in inputs.items():\n",
    "        inputs[k] = inputs[k][:,:mask_len]\n",
    "    return inputs"
   ]
  },
  {
   "cell_type": "markdown",
   "metadata": {
    "papermill": {
     "duration": 0.008073,
     "end_time": "2022-08-31T07:03:17.933189",
     "exception": false,
     "start_time": "2022-08-31T07:03:17.925116",
     "status": "completed"
    },
    "tags": []
   },
   "source": [
    "# Model"
   ]
  },
  {
   "cell_type": "code",
   "execution_count": 11,
   "metadata": {
    "papermill": {
     "duration": 0.033105,
     "end_time": "2022-08-31T07:03:17.97447",
     "exception": false,
     "start_time": "2022-08-31T07:03:17.941365",
     "status": "completed"
    },
    "tags": []
   },
   "outputs": [],
   "source": [
    "# ====================================================\n",
    "# Model\n",
    "# ====================================================\n",
    "#MeanPoolingはoutput_hidden_statesに関係している   https://qiita.com/niship2/items/f84751aed893da869cec\n",
    "class MeanPooling(nn.Module):\n",
    "    def __init__(self):\n",
    "        super(MeanPooling, self).__init__()\n",
    "        \n",
    "    def forward(self, last_hidden_state, attention_mask):\n",
    "        input_mask_expanded = attention_mask.unsqueeze(-1).expand(last_hidden_state.size()).float()\n",
    "        sum_embeddings = torch.sum(last_hidden_state * input_mask_expanded, 1)\n",
    "        sum_mask = input_mask_expanded.sum(1)\n",
    "        sum_mask = torch.clamp(sum_mask, min=1e-9)\n",
    "        mean_embeddings = sum_embeddings / sum_mask\n",
    "        return mean_embeddings\n",
    "    \n",
    "\n",
    "class CustomModel(nn.Module):\n",
    "    def __init__(self, cfg, config_path=None, pretrained=False):\n",
    "        super().__init__()\n",
    "        self.cfg = cfg\n",
    "        if config_path is None:\n",
    "            self.config = AutoConfig.from_pretrained(cfg.model_config_path, output_hidden_states=True)\n",
    "            self.config.hidden_dropout = 0.\n",
    "            self.config.hidden_dropout_prob = 0.\n",
    "            self.config.attention_dropout = 0.\n",
    "            self.config.attention_probs_dropout_prob = 0.\n",
    "            LOGGER.info(self.config)\n",
    "        else:\n",
    "            self.config = torch.load(config_path)\n",
    "        if pretrained:\n",
    "            self.model = AutoModel.from_pretrained(cfg.model_bin_path, config=self.config)\n",
    "        else:\n",
    "            self.model = AutoModel(self.config)\n",
    "        if self.cfg.gradient_checkpointing:\n",
    "            self.model.gradient_checkpointing_enable()\n",
    "        self.pool = MeanPooling()\n",
    "        self.fc = nn.Linear(self.config.hidden_size, 6)\n",
    "        self._init_weights(self.fc)\n",
    "        \n",
    "    def _init_weights(self, module):\n",
    "        if isinstance(module, nn.Linear):\n",
    "            module.weight.data.normal_(mean=0.0, std=self.config.initializer_range)\n",
    "            if module.bias is not None:\n",
    "                module.bias.data.zero_()\n",
    "        elif isinstance(module, nn.Embedding):\n",
    "            module.weight.data.normal_(mean=0.0, std=self.config.initializer_range)\n",
    "            if module.padding_idx is not None:\n",
    "                module.weight.data[module.padding_idx].zero_()\n",
    "        elif isinstance(module, nn.LayerNorm):\n",
    "            module.bias.data.zero_()\n",
    "            module.weight.data.fill_(1.0)\n",
    "        \n",
    "    def feature(self, inputs):\n",
    "        outputs = self.model(**inputs)\n",
    "        last_hidden_states = outputs[0]\n",
    "        feature = self.pool(last_hidden_states, inputs['attention_mask'])\n",
    "        return feature\n",
    "\n",
    "    def forward(self, inputs):\n",
    "        feature = self.feature(inputs)\n",
    "        output = self.fc(feature)\n",
    "        return output"
   ]
  },
  {
   "cell_type": "code",
   "execution_count": 12,
   "metadata": {},
   "outputs": [],
   "source": [
    "# model_config_path = f\"/home/jupyter/models/deberta/{model}/model\"\n",
    "# model_bin_path = f\"/home/jupyter/models/deberta/{CFG.model}/model\""
   ]
  },
  {
   "cell_type": "code",
   "execution_count": 13,
   "metadata": {},
   "outputs": [],
   "source": [
    "# conf = AutoConfig.from_pretrained(f\"/home/jupyter/models/deberta/{CFG.model}/model\", output_hidden_states=True)\n",
    "# AutoModel.from_pretrained(f\"/home/jupyter/models/deberta/{CFG.model}/model\", config=conf)"
   ]
  },
  {
   "cell_type": "markdown",
   "metadata": {
    "papermill": {
     "duration": 0.008106,
     "end_time": "2022-08-31T07:03:17.993861",
     "exception": false,
     "start_time": "2022-08-31T07:03:17.985755",
     "status": "completed"
    },
    "tags": []
   },
   "source": [
    "# Loss"
   ]
  },
  {
   "cell_type": "code",
   "execution_count": 14,
   "metadata": {
    "papermill": {
     "duration": 0.021697,
     "end_time": "2022-08-31T07:03:18.02376",
     "exception": false,
     "start_time": "2022-08-31T07:03:18.002063",
     "status": "completed"
    },
    "tags": []
   },
   "outputs": [],
   "source": [
    "# ====================================================\n",
    "# Loss\n",
    "# ====================================================\n",
    "class RMSELoss(nn.Module):\n",
    "    def __init__(self, reduction='mean', eps=1e-9):\n",
    "        super().__init__()\n",
    "        self.mse = nn.MSELoss(reduction='none')\n",
    "        self.reduction = reduction\n",
    "        self.eps = eps\n",
    "\n",
    "    def forward(self, y_pred, y_true):\n",
    "        loss = torch.sqrt(self.mse(y_pred, y_true) + self.eps)\n",
    "        if self.reduction == 'none':\n",
    "            loss = loss\n",
    "        elif self.reduction == 'sum':\n",
    "            loss = loss.sum()\n",
    "        elif self.reduction == 'mean':\n",
    "            loss = loss.mean()\n",
    "        return loss"
   ]
  },
  {
   "cell_type": "markdown",
   "metadata": {
    "papermill": {
     "duration": 0.008452,
     "end_time": "2022-08-31T07:03:18.041557",
     "exception": false,
     "start_time": "2022-08-31T07:03:18.033105",
     "status": "completed"
    },
    "tags": []
   },
   "source": [
    "# Helpler functions"
   ]
  },
  {
   "cell_type": "code",
   "execution_count": 15,
   "metadata": {
    "papermill": {
     "duration": 0.030759,
     "end_time": "2022-08-31T07:03:18.08056",
     "exception": false,
     "start_time": "2022-08-31T07:03:18.049801",
     "status": "completed"
    },
    "tags": []
   },
   "outputs": [],
   "source": [
    "# ====================================================\n",
    "# Helper functions\n",
    "# ====================================================\n",
    "class AverageMeter(object):\n",
    "    \"\"\"Computes and stores the average and current value\"\"\"\n",
    "    def __init__(self):\n",
    "        self.reset()\n",
    "\n",
    "    def reset(self):\n",
    "        self.val = 0\n",
    "        self.avg = 0\n",
    "        self.sum = 0\n",
    "        self.count = 0\n",
    "\n",
    "    def update(self, val, n=1):\n",
    "        self.val = val\n",
    "        self.sum += val * n\n",
    "        self.count += n\n",
    "        self.avg = self.sum / self.count\n",
    "\n",
    "\n",
    "def asMinutes(s):\n",
    "    m = math.floor(s / 60)\n",
    "    s -= m * 60\n",
    "    return '%dm %ds' % (m, s)\n",
    "\n",
    "\n",
    "def timeSince(since, percent):\n",
    "    now = time.time()\n",
    "    s = now - since\n",
    "    es = s / (percent)\n",
    "    rs = es - s\n",
    "    return '%s (remain %s)' % (asMinutes(s), asMinutes(rs))\n",
    "\n",
    "\n",
    "def train_fn(fold, train_loader, model, criterion, optimizer, epoch, scheduler, device):\n",
    "    model.train()\n",
    "    scaler = torch.cuda.amp.GradScaler(enabled=CFG.apex)\n",
    "    losses = AverageMeter()\n",
    "    start = end = time.time()\n",
    "    global_step = 0\n",
    "    for step, (inputs, labels) in enumerate(train_loader):\n",
    "        inputs = collate(inputs)\n",
    "        for k, v in inputs.items():\n",
    "            inputs[k] = v.to(device)\n",
    "        labels = labels.to(device)\n",
    "        batch_size = labels.size(0)\n",
    "        with torch.cuda.amp.autocast(enabled=CFG.apex):\n",
    "            y_preds = model(inputs)\n",
    "            loss = criterion(y_preds, labels)\n",
    "        if CFG.gradient_accumulation_steps > 1:\n",
    "            loss = loss / CFG.gradient_accumulation_steps\n",
    "        losses.update(loss.item(), batch_size)\n",
    "        scaler.scale(loss).backward()\n",
    "        grad_norm = torch.nn.utils.clip_grad_norm_(model.parameters(), CFG.max_grad_norm)\n",
    "        if (step + 1) % CFG.gradient_accumulation_steps == 0:\n",
    "            scaler.step(optimizer)\n",
    "            scaler.update()\n",
    "            optimizer.zero_grad()\n",
    "            global_step += 1\n",
    "            if CFG.batch_scheduler:\n",
    "                scheduler.step()\n",
    "        end = time.time()\n",
    "        if step % CFG.print_freq == 0 or step == (len(train_loader)-1):\n",
    "            print('Epoch: [{0}][{1}/{2}] '\n",
    "                  'Elapsed {remain:s} '\n",
    "                  'Loss: {loss.val:.4f}({loss.avg:.4f}) '\n",
    "                  'Grad: {grad_norm:.4f}  '\n",
    "                  'LR: {lr:.8f}  '\n",
    "                  .format(epoch+1, step, len(train_loader), \n",
    "                          remain=timeSince(start, float(step+1)/len(train_loader)),\n",
    "                          loss=losses,\n",
    "                          grad_norm=grad_norm,\n",
    "                          lr=scheduler.get_lr()[0]))\n",
    "        if CFG.wandb:\n",
    "            wandb.log({f\"[fold{fold}] loss\": losses.val,\n",
    "                       f\"[fold{fold}] lr\": scheduler.get_lr()[0]})\n",
    "    return losses.avg\n",
    "\n",
    "\n",
    "def valid_fn(valid_loader, model, criterion, device):\n",
    "    losses = AverageMeter()\n",
    "    model.eval()\n",
    "    preds = []\n",
    "    start = end = time.time()\n",
    "    for step, (inputs, labels) in enumerate(valid_loader):\n",
    "        inputs = collate(inputs)\n",
    "        for k, v in inputs.items():\n",
    "            inputs[k] = v.to(device)\n",
    "        labels = labels.to(device)\n",
    "        batch_size = labels.size(0)\n",
    "        with torch.no_grad():\n",
    "            y_preds = model(inputs)\n",
    "            loss = criterion(y_preds, labels)\n",
    "        if CFG.gradient_accumulation_steps > 1:\n",
    "            loss = loss / CFG.gradient_accumulation_steps\n",
    "        losses.update(loss.item(), batch_size)\n",
    "        preds.append(y_preds.to('cpu').numpy())\n",
    "        end = time.time()\n",
    "        if step % CFG.print_freq == 0 or step == (len(valid_loader)-1):\n",
    "            print('EVAL: [{0}/{1}] '\n",
    "                  'Elapsed {remain:s} '\n",
    "                  'Loss: {loss.val:.4f}({loss.avg:.4f}) '\n",
    "                  .format(step, len(valid_loader),\n",
    "                          loss=losses,\n",
    "                          remain=timeSince(start, float(step+1)/len(valid_loader))))\n",
    "    predictions = np.concatenate(preds)\n",
    "    return losses.avg, predictions"
   ]
  },
  {
   "cell_type": "markdown",
   "metadata": {
    "papermill": {
     "duration": 0.0081,
     "end_time": "2022-08-31T07:03:18.100232",
     "exception": false,
     "start_time": "2022-08-31T07:03:18.092132",
     "status": "completed"
    },
    "tags": []
   },
   "source": [
    "# train loop"
   ]
  },
  {
   "cell_type": "code",
   "execution_count": 16,
   "metadata": {
    "papermill": {
     "duration": 0.033332,
     "end_time": "2022-08-31T07:03:18.141812",
     "exception": false,
     "start_time": "2022-08-31T07:03:18.10848",
     "status": "completed"
    },
    "tags": []
   },
   "outputs": [],
   "source": [
    "# ====================================================\n",
    "# train loop\n",
    "# ====================================================\n",
    "def train_loop(folds, fold):\n",
    "    \n",
    "    LOGGER.info(f\"========== fold: {fold} training ==========\")\n",
    "\n",
    "    # ====================================================\n",
    "    # loader\n",
    "    # ====================================================\n",
    "    train_folds = folds[folds['fold'] != fold].reset_index(drop=True)\n",
    "    valid_folds = folds[folds['fold'] == fold].reset_index(drop=True)\n",
    "    valid_labels = valid_folds[CFG.target_cols].values\n",
    "    \n",
    "    train_dataset = TrainDataset(CFG, train_folds)\n",
    "    valid_dataset = TrainDataset(CFG, valid_folds)\n",
    "\n",
    "    train_loader = DataLoader(train_dataset,\n",
    "                              batch_size=CFG.batch_size,\n",
    "                              shuffle=True,\n",
    "                              num_workers=CFG.num_workers, pin_memory=True, drop_last=True)\n",
    "    valid_loader = DataLoader(valid_dataset,\n",
    "                              batch_size=CFG.batch_size * 2,\n",
    "                              shuffle=False,\n",
    "                              num_workers=CFG.num_workers, pin_memory=True, drop_last=False)\n",
    "\n",
    "    # ====================================================\n",
    "    # model & optimizer\n",
    "    # ====================================================\n",
    "    model = CustomModel(CFG, config_path=None, pretrained=True)\n",
    "    torch.save(model.config, OUTPUT_DIR+'config.pth')\n",
    "    model.to(device)\n",
    "    \n",
    "    def get_optimizer_params(model, encoder_lr, decoder_lr, weight_decay=0.0):\n",
    "        param_optimizer = list(model.named_parameters())\n",
    "        no_decay = [\"bias\", \"LayerNorm.bias\", \"LayerNorm.weight\"]\n",
    "        optimizer_parameters = [\n",
    "            {'params': [p for n, p in model.model.named_parameters() if not any(nd in n for nd in no_decay)],\n",
    "             'lr': encoder_lr, 'weight_decay': weight_decay},\n",
    "            {'params': [p for n, p in model.model.named_parameters() if any(nd in n for nd in no_decay)],\n",
    "             'lr': encoder_lr, 'weight_decay': 0.0},\n",
    "            {'params': [p for n, p in model.named_parameters() if \"model\" not in n],\n",
    "             'lr': decoder_lr, 'weight_decay': 0.0}\n",
    "        ]\n",
    "        return optimizer_parameters\n",
    "\n",
    "    optimizer_parameters = get_optimizer_params(model,\n",
    "                                                encoder_lr=CFG.encoder_lr, \n",
    "                                                decoder_lr=CFG.decoder_lr,\n",
    "                                                weight_decay=CFG.weight_decay)\n",
    "    optimizer = AdamW(optimizer_parameters, lr=CFG.encoder_lr, eps=CFG.eps, betas=CFG.betas)\n",
    "    \n",
    "    # ====================================================\n",
    "    # scheduler\n",
    "    # ====================================================\n",
    "    def get_scheduler(cfg, optimizer, num_train_steps):\n",
    "        if cfg.scheduler == 'linear':\n",
    "            scheduler = get_linear_schedule_with_warmup(\n",
    "                optimizer, num_warmup_steps=cfg.num_warmup_steps, num_training_steps=num_train_steps\n",
    "            )\n",
    "        elif cfg.scheduler == 'cosine':\n",
    "            scheduler = get_cosine_schedule_with_warmup(\n",
    "                optimizer, num_warmup_steps=cfg.num_warmup_steps, num_training_steps=num_train_steps, num_cycles=cfg.num_cycles\n",
    "            )\n",
    "        return scheduler\n",
    "    \n",
    "    num_train_steps = int(len(train_folds) / CFG.batch_size * CFG.epochs)\n",
    "    scheduler = get_scheduler(CFG, optimizer, num_train_steps)\n",
    "\n",
    "    # ====================================================\n",
    "    # loop\n",
    "    # ====================================================\n",
    "    criterion = nn.SmoothL1Loss(reduction='mean') # RMSELoss(reduction=\"mean\")\n",
    "    \n",
    "    best_score = np.inf\n",
    "    patience = CFG.patience\n",
    "    for epoch in range(CFG.epochs):\n",
    "\n",
    "        start_time = time.time()\n",
    "\n",
    "        # train\n",
    "        avg_loss = train_fn(fold, train_loader, model, criterion, optimizer, epoch, scheduler, device)\n",
    "\n",
    "        # eval\n",
    "        avg_val_loss, predictions = valid_fn(valid_loader, model, criterion, device)\n",
    "        \n",
    "        # scoring\n",
    "        score, scores = get_score(valid_labels, predictions)\n",
    "\n",
    "        elapsed = time.time() - start_time\n",
    "\n",
    "        LOGGER.info(f'Epoch {epoch+1} - avg_train_loss: {avg_loss:.4f}  avg_val_loss: {avg_val_loss:.4f}  time: {elapsed:.0f}s')\n",
    "        LOGGER.info(f'Epoch {epoch+1} - Score: {score:.4f}  Scores: {scores}')\n",
    "        if CFG.wandb:\n",
    "            wandb.log({f\"[fold{fold}] epoch\": epoch+1, \n",
    "                       f\"[fold{fold}] avg_train_loss\": avg_loss, \n",
    "                       f\"[fold{fold}] avg_val_loss\": avg_val_loss,\n",
    "                       f\"[fold{fold}] score\": score})\n",
    "        \n",
    "        if best_score > score:\n",
    "            best_score = score\n",
    "            LOGGER.info(f'Epoch {epoch+1} - Save Best Score: {best_score:.4f} Model')\n",
    "            torch.save({'model': model.state_dict(),\n",
    "                        'predictions': predictions},\n",
    "                        OUTPUT_DIR+f\"{CFG.model.replace('/', '-')}_fold{fold}_best.pth\")\n",
    "            patience = CFG.patience\n",
    "        else:\n",
    "            patience -= 1\n",
    "            if patience<=0:\n",
    "                break\n",
    "\n",
    "    predictions = torch.load(OUTPUT_DIR+f\"{CFG.model.replace('/', '-')}_fold{fold}_best.pth\", \n",
    "                             map_location=torch.device('cpu'))['predictions']\n",
    "    valid_folds[[f\"pred_{c}\" for c in CFG.target_cols]] = predictions\n",
    "\n",
    "    torch.cuda.empty_cache()\n",
    "    gc.collect()\n",
    "    \n",
    "    return valid_folds"
   ]
  },
  {
   "cell_type": "code",
   "execution_count": 17,
   "metadata": {
    "papermill": {
     "duration": 11935.46951,
     "end_time": "2022-08-31T10:22:13.621316",
     "exception": false,
     "start_time": "2022-08-31T07:03:18.151806",
     "status": "completed"
    },
    "tags": []
   },
   "outputs": [
    {
     "name": "stderr",
     "output_type": "stream",
     "text": [
      "========== fold: 0 training ==========\n",
      "XLMRobertaConfig {\n",
      "  \"_name_or_path\": \"/home/jupyter/models/xlm/xlm-roberta-base-squad2/\",\n",
      "  \"architectures\": [\n",
      "    \"XLMRobertaForQuestionAnswering\"\n",
      "  ],\n",
      "  \"attention_dropout\": 0.0,\n",
      "  \"attention_probs_dropout_prob\": 0.0,\n",
      "  \"bos_token_id\": 0,\n",
      "  \"classifier_dropout\": null,\n",
      "  \"eos_token_id\": 2,\n",
      "  \"gradient_checkpointing\": false,\n",
      "  \"hidden_act\": \"gelu\",\n",
      "  \"hidden_dropout\": 0.0,\n",
      "  \"hidden_dropout_prob\": 0.0,\n",
      "  \"hidden_size\": 768,\n",
      "  \"initializer_range\": 0.02,\n",
      "  \"intermediate_size\": 3072,\n",
      "  \"language\": \"english\",\n",
      "  \"layer_norm_eps\": 1e-05,\n",
      "  \"max_position_embeddings\": 514,\n",
      "  \"model_type\": \"xlm-roberta\",\n",
      "  \"name\": \"XLMRoberta\",\n",
      "  \"num_attention_heads\": 12,\n",
      "  \"num_hidden_layers\": 12,\n",
      "  \"output_hidden_states\": true,\n",
      "  \"output_past\": true,\n",
      "  \"pad_token_id\": 1,\n",
      "  \"position_embedding_type\": \"absolute\",\n",
      "  \"transformers_version\": \"4.21.2\",\n",
      "  \"type_vocab_size\": 1,\n",
      "  \"use_cache\": true,\n",
      "  \"vocab_size\": 250002\n",
      "}\n",
      "\n",
      "Some weights of the model checkpoint at /home/jupyter/models/xlm/xlm-roberta-base-squad2/ were not used when initializing XLMRobertaModel: ['qa_outputs.bias', 'qa_outputs.weight']\n",
      "- This IS expected if you are initializing XLMRobertaModel from the checkpoint of a model trained on another task or with another architecture (e.g. initializing a BertForSequenceClassification model from a BertForPreTraining model).\n",
      "- This IS NOT expected if you are initializing XLMRobertaModel from the checkpoint of a model that you expect to be exactly identical (initializing a BertForSequenceClassification model from a BertForSequenceClassification model).\n",
      "Some weights of XLMRobertaModel were not initialized from the model checkpoint at /home/jupyter/models/xlm/xlm-roberta-base-squad2/ and are newly initialized: ['roberta.pooler.dense.bias', 'roberta.pooler.dense.weight']\n",
      "You should probably TRAIN this model on a down-stream task to be able to use it for predictions and inference.\n"
     ]
    },
    {
     "name": "stdout",
     "output_type": "stream",
     "text": [
      "Epoch: [1][0/366] Elapsed 0m 1s (remain 8m 45s) Loss: 2.1030(2.1030) Grad: 865825.0000  LR: 0.00002000  \n",
      "Epoch: [1][20/366] Elapsed 0m 11s (remain 3m 1s) Loss: 0.1968(0.7900) Grad: 279856.4375  LR: 0.00002000  \n",
      "Epoch: [1][40/366] Elapsed 0m 20s (remain 2m 44s) Loss: 0.3543(0.5130) Grad: 560208.7500  LR: 0.00001999  \n",
      "Epoch: [1][60/366] Elapsed 0m 30s (remain 2m 33s) Loss: 0.1465(0.4094) Grad: 60057.5781  LR: 0.00001999  \n",
      "Epoch: [1][80/366] Elapsed 0m 40s (remain 2m 23s) Loss: 0.1977(0.3500) Grad: 44517.7383  LR: 0.00001998  \n",
      "Epoch: [1][100/366] Elapsed 0m 51s (remain 2m 13s) Loss: 0.1310(0.3081) Grad: 81695.1641  LR: 0.00001996  \n",
      "Epoch: [1][120/366] Elapsed 1m 1s (remain 2m 4s) Loss: 0.1726(0.2839) Grad: 148850.9844  LR: 0.00001995  \n",
      "Epoch: [1][140/366] Elapsed 1m 11s (remain 1m 54s) Loss: 0.1020(0.2632) Grad: 42887.2578  LR: 0.00001993  \n",
      "Epoch: [1][160/366] Elapsed 1m 21s (remain 1m 44s) Loss: 0.1240(0.2486) Grad: 43999.8672  LR: 0.00001990  \n",
      "Epoch: [1][180/366] Elapsed 1m 31s (remain 1m 33s) Loss: 0.0941(0.2385) Grad: 100965.0938  LR: 0.00001988  \n",
      "Epoch: [1][200/366] Elapsed 1m 41s (remain 1m 23s) Loss: 0.1521(0.2274) Grad: 141012.7500  LR: 0.00001985  \n",
      "Epoch: [1][220/366] Elapsed 1m 52s (remain 1m 13s) Loss: 0.1787(0.2196) Grad: 174036.8906  LR: 0.00001982  \n",
      "Epoch: [1][240/366] Elapsed 2m 2s (remain 1m 3s) Loss: 0.1444(0.2123) Grad: 37138.8047  LR: 0.00001979  \n",
      "Epoch: [1][260/366] Elapsed 2m 12s (remain 0m 53s) Loss: 0.1568(0.2061) Grad: 79920.0625  LR: 0.00001975  \n",
      "Epoch: [1][280/366] Elapsed 2m 22s (remain 0m 43s) Loss: 0.2647(0.2014) Grad: 88322.3203  LR: 0.00001971  \n",
      "Epoch: [1][300/366] Elapsed 2m 32s (remain 0m 32s) Loss: 0.2583(0.1975) Grad: 222633.9531  LR: 0.00001967  \n",
      "Epoch: [1][320/366] Elapsed 2m 42s (remain 0m 22s) Loss: 0.0899(0.1947) Grad: 49000.2227  LR: 0.00001962  \n",
      "Epoch: [1][340/366] Elapsed 2m 53s (remain 0m 12s) Loss: 0.1359(0.1914) Grad: 33463.3594  LR: 0.00001958  \n",
      "Epoch: [1][360/366] Elapsed 3m 3s (remain 0m 2s) Loss: 0.1528(0.1886) Grad: 90157.5859  LR: 0.00001953  \n",
      "Epoch: [1][365/366] Elapsed 3m 5s (remain 0m 0s) Loss: 0.1525(0.1876) Grad: 119882.6172  LR: 0.00001951  \n",
      "EVAL: [0/62] Elapsed 0m 0s (remain 0m 45s) Loss: 0.1316(0.1316) \n",
      "EVAL: [20/62] Elapsed 0m 11s (remain 0m 23s) Loss: 0.1171(0.1338) \n",
      "EVAL: [40/62] Elapsed 0m 23s (remain 0m 11s) Loss: 0.0860(0.1338) \n"
     ]
    },
    {
     "name": "stderr",
     "output_type": "stream",
     "text": [
      "Epoch 1 - avg_train_loss: 0.1876  avg_val_loss: 0.1337  time: 220s\n",
      "Epoch 1 - Score: 0.5194  Scores: [0.5385317937177115, 0.5012229091049838, 0.4955115346306834, 0.506930613491683, 0.583786591705041, 0.49070745018682727]\n",
      "Epoch 1 - Save Best Score: 0.5194 Model\n"
     ]
    },
    {
     "name": "stdout",
     "output_type": "stream",
     "text": [
      "EVAL: [60/62] Elapsed 0m 34s (remain 0m 0s) Loss: 0.1149(0.1338) \n",
      "EVAL: [61/62] Elapsed 0m 34s (remain 0m 0s) Loss: 0.0637(0.1337) \n",
      "Epoch: [2][0/366] Elapsed 0m 0s (remain 4m 51s) Loss: 0.1239(0.1239) Grad: 302794.3438  LR: 0.00001951  \n",
      "Epoch: [2][20/366] Elapsed 0m 11s (remain 3m 2s) Loss: 0.1022(0.1240) Grad: 208596.3594  LR: 0.00001946  \n",
      "Epoch: [2][40/366] Elapsed 0m 21s (remain 2m 48s) Loss: 0.1193(0.1141) Grad: 142825.8906  LR: 0.00001940  \n",
      "Epoch: [2][60/366] Elapsed 0m 31s (remain 2m 37s) Loss: 0.0687(0.1140) Grad: 90964.7266  LR: 0.00001934  \n",
      "Epoch: [2][80/366] Elapsed 0m 41s (remain 2m 26s) Loss: 0.1141(0.1115) Grad: 323769.9375  LR: 0.00001928  \n",
      "Epoch: [2][100/366] Elapsed 0m 51s (remain 2m 15s) Loss: 0.0936(0.1117) Grad: 155877.5156  LR: 0.00001921  \n",
      "Epoch: [2][120/366] Elapsed 1m 1s (remain 2m 5s) Loss: 0.1445(0.1124) Grad: 316583.6875  LR: 0.00001914  \n",
      "Epoch: [2][140/366] Elapsed 1m 12s (remain 1m 55s) Loss: 0.1209(0.1118) Grad: 242593.6875  LR: 0.00001907  \n",
      "Epoch: [2][160/366] Elapsed 1m 22s (remain 1m 45s) Loss: 0.0781(0.1112) Grad: 139043.9688  LR: 0.00001900  \n",
      "Epoch: [2][180/366] Elapsed 1m 32s (remain 1m 34s) Loss: 0.0976(0.1093) Grad: 300695.6562  LR: 0.00001892  \n",
      "Epoch: [2][200/366] Elapsed 1m 42s (remain 1m 24s) Loss: 0.1539(0.1094) Grad: 452330.7500  LR: 0.00001884  \n",
      "Epoch: [2][220/366] Elapsed 1m 53s (remain 1m 14s) Loss: 0.1037(0.1095) Grad: 191861.2969  LR: 0.00001876  \n",
      "Epoch: [2][240/366] Elapsed 2m 3s (remain 1m 3s) Loss: 0.0773(0.1085) Grad: 132739.8906  LR: 0.00001868  \n",
      "Epoch: [2][260/366] Elapsed 2m 13s (remain 0m 53s) Loss: 0.1180(0.1082) Grad: 314789.5938  LR: 0.00001859  \n",
      "Epoch: [2][280/366] Elapsed 2m 23s (remain 0m 43s) Loss: 0.0696(0.1080) Grad: 85002.9688  LR: 0.00001850  \n",
      "Epoch: [2][300/366] Elapsed 2m 33s (remain 0m 33s) Loss: 0.0771(0.1072) Grad: 87627.1797  LR: 0.00001841  \n",
      "Epoch: [2][320/366] Elapsed 2m 43s (remain 0m 22s) Loss: 0.0923(0.1060) Grad: 96088.9609  LR: 0.00001832  \n",
      "Epoch: [2][340/366] Elapsed 2m 53s (remain 0m 12s) Loss: 0.0744(0.1059) Grad: 85649.2422  LR: 0.00001822  \n",
      "Epoch: [2][360/366] Elapsed 3m 4s (remain 0m 2s) Loss: 0.0901(0.1058) Grad: 63557.3398  LR: 0.00001812  \n",
      "Epoch: [2][365/366] Elapsed 3m 6s (remain 0m 0s) Loss: 0.1314(0.1060) Grad: 206893.3906  LR: 0.00001810  \n",
      "EVAL: [0/62] Elapsed 0m 0s (remain 0m 59s) Loss: 0.0843(0.0843) \n",
      "EVAL: [20/62] Elapsed 0m 12s (remain 0m 23s) Loss: 0.0817(0.1114) \n",
      "EVAL: [40/62] Elapsed 0m 23s (remain 0m 12s) Loss: 0.0829(0.1108) \n"
     ]
    },
    {
     "name": "stderr",
     "output_type": "stream",
     "text": [
      "Epoch 2 - avg_train_loss: 0.1060  avg_val_loss: 0.1138  time: 222s\n",
      "Epoch 2 - Score: 0.4783  Scores: [0.5089037512132497, 0.4639100903264174, 0.43376537820951055, 0.4813355901713248, 0.5050237779977454, 0.476904235264046]\n",
      "Epoch 2 - Save Best Score: 0.4783 Model\n"
     ]
    },
    {
     "name": "stdout",
     "output_type": "stream",
     "text": [
      "EVAL: [60/62] Elapsed 0m 34s (remain 0m 0s) Loss: 0.1083(0.1138) \n",
      "EVAL: [61/62] Elapsed 0m 34s (remain 0m 0s) Loss: 0.1132(0.1138) \n",
      "Epoch: [3][0/366] Elapsed 0m 0s (remain 4m 40s) Loss: 0.0897(0.0897) Grad: 154925.6250  LR: 0.00001809  \n",
      "Epoch: [3][20/366] Elapsed 0m 10s (remain 2m 57s) Loss: 0.1043(0.0886) Grad: 146707.4844  LR: 0.00001799  \n",
      "Epoch: [3][40/366] Elapsed 0m 21s (remain 2m 48s) Loss: 0.1114(0.0936) Grad: 167445.6250  LR: 0.00001789  \n",
      "Epoch: [3][60/366] Elapsed 0m 31s (remain 2m 38s) Loss: 0.0991(0.0927) Grad: 294112.4062  LR: 0.00001778  \n",
      "Epoch: [3][80/366] Elapsed 0m 41s (remain 2m 27s) Loss: 0.0930(0.0921) Grad: 187269.3438  LR: 0.00001767  \n",
      "Epoch: [3][100/366] Elapsed 0m 52s (remain 2m 16s) Loss: 0.0689(0.0934) Grad: 132634.5625  LR: 0.00001756  \n",
      "Epoch: [3][120/366] Elapsed 1m 2s (remain 2m 6s) Loss: 0.0927(0.0911) Grad: 210900.2031  LR: 0.00001745  \n",
      "Epoch: [3][140/366] Elapsed 1m 12s (remain 1m 55s) Loss: 0.0946(0.0913) Grad: 421828.9375  LR: 0.00001733  \n",
      "Epoch: [3][160/366] Elapsed 1m 22s (remain 1m 45s) Loss: 0.1222(0.0915) Grad: 294845.4375  LR: 0.00001721  \n",
      "Epoch: [3][180/366] Elapsed 1m 32s (remain 1m 34s) Loss: 0.0794(0.0920) Grad: 99560.5625  LR: 0.00001709  \n",
      "Epoch: [3][200/366] Elapsed 1m 42s (remain 1m 24s) Loss: 0.0952(0.0918) Grad: 406848.2500  LR: 0.00001697  \n",
      "Epoch: [3][220/366] Elapsed 1m 53s (remain 1m 14s) Loss: 0.0745(0.0910) Grad: 103923.2344  LR: 0.00001685  \n",
      "Epoch: [3][240/366] Elapsed 2m 3s (remain 1m 3s) Loss: 0.0833(0.0903) Grad: 348484.0625  LR: 0.00001672  \n",
      "Epoch: [3][260/366] Elapsed 2m 13s (remain 0m 53s) Loss: 0.0579(0.0907) Grad: 176529.2656  LR: 0.00001659  \n",
      "Epoch: [3][280/366] Elapsed 2m 23s (remain 0m 43s) Loss: 0.1020(0.0906) Grad: 151803.0000  LR: 0.00001646  \n",
      "Epoch: [3][300/366] Elapsed 2m 33s (remain 0m 33s) Loss: 0.0925(0.0902) Grad: 137431.1875  LR: 0.00001633  \n",
      "Epoch: [3][320/366] Elapsed 2m 43s (remain 0m 22s) Loss: 0.0830(0.0901) Grad: 235779.1406  LR: 0.00001620  \n",
      "Epoch: [3][340/366] Elapsed 2m 54s (remain 0m 12s) Loss: 0.0715(0.0896) Grad: 168595.9375  LR: 0.00001606  \n",
      "Epoch: [3][360/366] Elapsed 3m 4s (remain 0m 2s) Loss: 0.0859(0.0896) Grad: 339592.1875  LR: 0.00001592  \n",
      "Epoch: [3][365/366] Elapsed 3m 6s (remain 0m 0s) Loss: 0.0729(0.0893) Grad: 234985.0000  LR: 0.00001589  \n",
      "EVAL: [0/62] Elapsed 0m 0s (remain 0m 45s) Loss: 0.0664(0.0664) \n",
      "EVAL: [20/62] Elapsed 0m 11s (remain 0m 23s) Loss: 0.0980(0.1122) \n",
      "EVAL: [40/62] Elapsed 0m 23s (remain 0m 11s) Loss: 0.1111(0.1122) \n"
     ]
    },
    {
     "name": "stderr",
     "output_type": "stream",
     "text": [
      "Epoch 3 - avg_train_loss: 0.0893  avg_val_loss: 0.1161  time: 221s\n",
      "Epoch 3 - Score: 0.4831  Scores: [0.5185511150389983, 0.4776633532037075, 0.42928351703592615, 0.487598551166804, 0.5097012342400616, 0.4757428880301071]\n"
     ]
    },
    {
     "name": "stdout",
     "output_type": "stream",
     "text": [
      "EVAL: [60/62] Elapsed 0m 34s (remain 0m 0s) Loss: 0.1066(0.1161) \n",
      "EVAL: [61/62] Elapsed 0m 34s (remain 0m 0s) Loss: 0.1345(0.1161) \n",
      "Epoch: [4][0/366] Elapsed 0m 0s (remain 4m 21s) Loss: 0.0659(0.0659) Grad: 208830.8750  LR: 0.00001588  \n",
      "Epoch: [4][20/366] Elapsed 0m 10s (remain 2m 58s) Loss: 0.1019(0.0754) Grad: 199464.1719  LR: 0.00001574  \n",
      "Epoch: [4][40/366] Elapsed 0m 20s (remain 2m 46s) Loss: 0.0757(0.0749) Grad: 165749.4844  LR: 0.00001560  \n",
      "Epoch: [4][60/366] Elapsed 0m 31s (remain 2m 35s) Loss: 0.0902(0.0758) Grad: 234529.8438  LR: 0.00001546  \n",
      "Epoch: [4][80/366] Elapsed 0m 41s (remain 2m 25s) Loss: 0.0820(0.0751) Grad: 303067.6562  LR: 0.00001532  \n",
      "Epoch: [4][100/366] Elapsed 0m 51s (remain 2m 15s) Loss: 0.0795(0.0734) Grad: 153871.5781  LR: 0.00001517  \n",
      "Epoch: [4][120/366] Elapsed 1m 1s (remain 2m 4s) Loss: 0.0970(0.0743) Grad: 362041.5312  LR: 0.00001502  \n",
      "Epoch: [4][140/366] Elapsed 1m 11s (remain 1m 54s) Loss: 0.0930(0.0752) Grad: 337368.7500  LR: 0.00001487  \n",
      "Epoch: [4][160/366] Elapsed 1m 21s (remain 1m 44s) Loss: 0.0837(0.0759) Grad: 388114.6562  LR: 0.00001472  \n",
      "Epoch: [4][180/366] Elapsed 1m 32s (remain 1m 34s) Loss: 0.0685(0.0758) Grad: 238669.7656  LR: 0.00001457  \n",
      "Epoch: [4][200/366] Elapsed 1m 42s (remain 1m 24s) Loss: 0.0667(0.0753) Grad: 170376.5938  LR: 0.00001442  \n",
      "Epoch: [4][220/366] Elapsed 1m 52s (remain 1m 13s) Loss: 0.1309(0.0759) Grad: 188081.8750  LR: 0.00001426  \n",
      "Epoch: [4][240/366] Elapsed 2m 2s (remain 1m 3s) Loss: 0.0686(0.0759) Grad: 215016.0781  LR: 0.00001411  \n",
      "Epoch: [4][260/366] Elapsed 2m 13s (remain 0m 53s) Loss: 0.0586(0.0754) Grad: 109161.6250  LR: 0.00001395  \n",
      "Epoch: [4][280/366] Elapsed 2m 23s (remain 0m 43s) Loss: 0.0654(0.0751) Grad: 122000.0000  LR: 0.00001379  \n",
      "Epoch: [4][300/366] Elapsed 2m 33s (remain 0m 33s) Loss: 0.1164(0.0756) Grad: 208860.3438  LR: 0.00001363  \n",
      "Epoch: [4][320/366] Elapsed 2m 43s (remain 0m 22s) Loss: 0.0710(0.0754) Grad: 131928.7812  LR: 0.00001347  \n",
      "Epoch: [4][340/366] Elapsed 2m 53s (remain 0m 12s) Loss: 0.1217(0.0754) Grad: 206838.7500  LR: 0.00001331  \n",
      "Epoch: [4][360/366] Elapsed 3m 3s (remain 0m 2s) Loss: 0.0738(0.0756) Grad: 216634.1250  LR: 0.00001315  \n",
      "Epoch: [4][365/366] Elapsed 3m 6s (remain 0m 0s) Loss: 0.0767(0.0756) Grad: 164521.4062  LR: 0.00001311  \n",
      "EVAL: [0/62] Elapsed 0m 0s (remain 0m 45s) Loss: 0.0740(0.0740) \n",
      "EVAL: [20/62] Elapsed 0m 11s (remain 0m 23s) Loss: 0.0871(0.1119) \n",
      "EVAL: [40/62] Elapsed 0m 23s (remain 0m 11s) Loss: 0.0975(0.1108) \n"
     ]
    },
    {
     "name": "stderr",
     "output_type": "stream",
     "text": [
      "Epoch 4 - avg_train_loss: 0.0756  avg_val_loss: 0.1133  time: 221s\n",
      "Epoch 4 - Score: 0.4768  Scores: [0.5061942323025878, 0.48277977385749427, 0.42599504476986827, 0.4855865903594306, 0.5019157585000774, 0.45855535074635545]\n",
      "Epoch 4 - Save Best Score: 0.4768 Model\n"
     ]
    },
    {
     "name": "stdout",
     "output_type": "stream",
     "text": [
      "EVAL: [60/62] Elapsed 0m 34s (remain 0m 0s) Loss: 0.1026(0.1133) \n",
      "EVAL: [61/62] Elapsed 0m 34s (remain 0m 0s) Loss: 0.0980(0.1133) \n",
      "Epoch: [5][0/366] Elapsed 0m 0s (remain 4m 40s) Loss: 0.0531(0.0531) Grad: 141688.9062  LR: 0.00001310  \n",
      "Epoch: [5][20/366] Elapsed 0m 10s (remain 2m 56s) Loss: 0.1005(0.0656) Grad: 162775.6719  LR: 0.00001294  \n",
      "Epoch: [5][40/366] Elapsed 0m 20s (remain 2m 45s) Loss: 0.0498(0.0645) Grad: 107394.4141  LR: 0.00001277  \n",
      "Epoch: [5][60/366] Elapsed 0m 31s (remain 2m 36s) Loss: 0.0599(0.0658) Grad: 108524.5234  LR: 0.00001261  \n",
      "Epoch: [5][80/366] Elapsed 0m 41s (remain 2m 26s) Loss: 0.0627(0.0657) Grad: 156586.8125  LR: 0.00001244  \n",
      "Epoch: [5][100/366] Elapsed 0m 51s (remain 2m 16s) Loss: 0.0496(0.0656) Grad: 164692.8125  LR: 0.00001228  \n",
      "Epoch: [5][120/366] Elapsed 1m 2s (remain 2m 5s) Loss: 0.0539(0.0643) Grad: 160851.2031  LR: 0.00001211  \n",
      "Epoch: [5][140/366] Elapsed 1m 12s (remain 1m 55s) Loss: 0.0532(0.0640) Grad: 183053.7188  LR: 0.00001194  \n",
      "Epoch: [5][160/366] Elapsed 1m 22s (remain 1m 44s) Loss: 0.0625(0.0639) Grad: 157580.1875  LR: 0.00001177  \n",
      "Epoch: [5][180/366] Elapsed 1m 32s (remain 1m 34s) Loss: 0.0512(0.0634) Grad: 81044.0391  LR: 0.00001160  \n",
      "Epoch: [5][200/366] Elapsed 1m 42s (remain 1m 24s) Loss: 0.0655(0.0630) Grad: 257638.5000  LR: 0.00001143  \n",
      "Epoch: [5][220/366] Elapsed 1m 52s (remain 1m 14s) Loss: 0.0580(0.0630) Grad: 124329.8594  LR: 0.00001126  \n",
      "Epoch: [5][240/366] Elapsed 2m 2s (remain 1m 3s) Loss: 0.1326(0.0629) Grad: inf  LR: 0.00001109  \n",
      "Epoch: [5][260/366] Elapsed 2m 13s (remain 0m 53s) Loss: 0.0856(0.0626) Grad: 152844.0938  LR: 0.00001092  \n",
      "Epoch: [5][280/366] Elapsed 2m 23s (remain 0m 43s) Loss: 0.0805(0.0631) Grad: 176533.9219  LR: 0.00001075  \n",
      "Epoch: [5][300/366] Elapsed 2m 33s (remain 0m 33s) Loss: 0.0310(0.0632) Grad: 59294.9375  LR: 0.00001058  \n",
      "Epoch: [5][320/366] Elapsed 2m 43s (remain 0m 22s) Loss: 0.0534(0.0632) Grad: 147894.0156  LR: 0.00001041  \n",
      "Epoch: [5][340/366] Elapsed 2m 53s (remain 0m 12s) Loss: 0.0610(0.0635) Grad: 54708.1992  LR: 0.00001024  \n",
      "Epoch: [5][360/366] Elapsed 3m 3s (remain 0m 2s) Loss: 0.0608(0.0637) Grad: 119483.9062  LR: 0.00001007  \n",
      "Epoch: [5][365/366] Elapsed 3m 6s (remain 0m 0s) Loss: 0.0598(0.0638) Grad: 126168.5859  LR: 0.00001003  \n",
      "EVAL: [0/62] Elapsed 0m 0s (remain 0m 45s) Loss: 0.0830(0.0830) \n",
      "EVAL: [20/62] Elapsed 0m 11s (remain 0m 23s) Loss: 0.1117(0.1269) \n",
      "EVAL: [40/62] Elapsed 0m 23s (remain 0m 11s) Loss: 0.1373(0.1248) \n"
     ]
    },
    {
     "name": "stderr",
     "output_type": "stream",
     "text": [
      "Epoch 5 - avg_train_loss: 0.0638  avg_val_loss: 0.1283  time: 221s\n",
      "Epoch 5 - Score: 0.5084  Scores: [0.5562879373090458, 0.4995094939328253, 0.45712765578686887, 0.5254253421310253, 0.5272807677626089, 0.48489557801954014]\n"
     ]
    },
    {
     "name": "stdout",
     "output_type": "stream",
     "text": [
      "EVAL: [60/62] Elapsed 0m 34s (remain 0m 0s) Loss: 0.1203(0.1281) \n",
      "EVAL: [61/62] Elapsed 0m 34s (remain 0m 0s) Loss: 0.2201(0.1283) \n",
      "Epoch: [6][0/366] Elapsed 0m 0s (remain 4m 52s) Loss: 0.0768(0.0768) Grad: 287038.2812  LR: 0.00001002  \n",
      "Epoch: [6][20/366] Elapsed 0m 10s (remain 3m 0s) Loss: 0.0619(0.0630) Grad: 113550.0156  LR: 0.00000985  \n",
      "Epoch: [6][40/366] Elapsed 0m 21s (remain 2m 47s) Loss: 0.0582(0.0608) Grad: 135866.8438  LR: 0.00000967  \n",
      "Epoch: [6][60/366] Elapsed 0m 31s (remain 2m 36s) Loss: 0.0423(0.0595) Grad: 118538.7031  LR: 0.00000950  \n",
      "Epoch: [6][80/366] Elapsed 0m 41s (remain 2m 25s) Loss: 0.0641(0.0598) Grad: 97193.5703  LR: 0.00000933  \n",
      "Epoch: [6][100/366] Elapsed 0m 51s (remain 2m 15s) Loss: 0.0465(0.0593) Grad: 157656.6250  LR: 0.00000916  \n",
      "Epoch: [6][120/366] Elapsed 1m 1s (remain 2m 5s) Loss: 0.0518(0.0586) Grad: 181387.7031  LR: 0.00000899  \n",
      "Epoch: [6][140/366] Elapsed 1m 12s (remain 1m 54s) Loss: 0.0570(0.0587) Grad: 87270.2188  LR: 0.00000882  \n",
      "Epoch: [6][160/366] Elapsed 1m 22s (remain 1m 44s) Loss: 0.0461(0.0582) Grad: 140679.5625  LR: 0.00000865  \n",
      "Epoch: [6][180/366] Elapsed 1m 32s (remain 1m 34s) Loss: 0.0574(0.0582) Grad: 105818.6719  LR: 0.00000848  \n",
      "Epoch: [6][200/366] Elapsed 1m 42s (remain 1m 24s) Loss: 0.0439(0.0575) Grad: 83745.1953  LR: 0.00000831  \n",
      "Epoch: [6][220/366] Elapsed 1m 52s (remain 1m 13s) Loss: 0.0603(0.0573) Grad: 134325.1406  LR: 0.00000814  \n",
      "Epoch: [6][240/366] Elapsed 2m 2s (remain 1m 3s) Loss: 0.0354(0.0570) Grad: 97123.9141  LR: 0.00000797  \n",
      "Epoch: [6][260/366] Elapsed 2m 13s (remain 0m 53s) Loss: 0.0708(0.0564) Grad: 156508.7969  LR: 0.00000781  \n",
      "Epoch: [6][280/366] Elapsed 2m 23s (remain 0m 43s) Loss: 0.0354(0.0561) Grad: 98886.0078  LR: 0.00000764  \n",
      "Epoch: [6][300/366] Elapsed 2m 33s (remain 0m 33s) Loss: 0.0526(0.0561) Grad: 108176.3125  LR: 0.00000747  \n",
      "Epoch: [6][320/366] Elapsed 2m 43s (remain 0m 22s) Loss: 0.0400(0.0559) Grad: 105919.3438  LR: 0.00000731  \n",
      "Epoch: [6][340/366] Elapsed 2m 53s (remain 0m 12s) Loss: 0.0573(0.0557) Grad: 138322.1562  LR: 0.00000714  \n",
      "Epoch: [6][360/366] Elapsed 3m 3s (remain 0m 2s) Loss: 0.0614(0.0554) Grad: 134022.8594  LR: 0.00000698  \n",
      "Epoch: [6][365/366] Elapsed 3m 6s (remain 0m 0s) Loss: 0.0378(0.0554) Grad: 79923.6953  LR: 0.00000694  \n",
      "EVAL: [0/62] Elapsed 0m 0s (remain 0m 46s) Loss: 0.0819(0.0819) \n",
      "EVAL: [20/62] Elapsed 0m 11s (remain 0m 23s) Loss: 0.0851(0.1114) \n",
      "EVAL: [40/62] Elapsed 0m 23s (remain 0m 11s) Loss: 0.1015(0.1111) \n"
     ]
    },
    {
     "name": "stderr",
     "output_type": "stream",
     "text": [
      "Epoch 6 - avg_train_loss: 0.0554  avg_val_loss: 0.1142  time: 221s\n",
      "Epoch 6 - Score: 0.4789  Scores: [0.504301486678285, 0.4733088916883418, 0.4293871162439675, 0.4961437300232523, 0.5096752854479445, 0.46038818125495706]\n"
     ]
    },
    {
     "name": "stdout",
     "output_type": "stream",
     "text": [
      "EVAL: [60/62] Elapsed 0m 34s (remain 0m 0s) Loss: 0.1051(0.1142) \n",
      "EVAL: [61/62] Elapsed 0m 34s (remain 0m 0s) Loss: 0.0968(0.1142) \n",
      "Epoch: [7][0/366] Elapsed 0m 0s (remain 4m 15s) Loss: 0.0567(0.0567) Grad: 115238.2734  LR: 0.00000693  \n",
      "Epoch: [7][20/366] Elapsed 0m 10s (remain 2m 58s) Loss: 0.0455(0.0505) Grad: 79800.7266  LR: 0.00000677  \n",
      "Epoch: [7][40/366] Elapsed 0m 21s (remain 2m 47s) Loss: 0.0332(0.0492) Grad: 83806.9766  LR: 0.00000661  \n",
      "Epoch: [7][60/366] Elapsed 0m 31s (remain 2m 36s) Loss: 0.0596(0.0495) Grad: 147182.0156  LR: 0.00000645  \n",
      "Epoch: [7][80/366] Elapsed 0m 41s (remain 2m 25s) Loss: 0.0477(0.0499) Grad: 126617.8750  LR: 0.00000629  \n",
      "Epoch: [7][100/366] Elapsed 0m 51s (remain 2m 15s) Loss: 0.0540(0.0493) Grad: 112818.3125  LR: 0.00000613  \n",
      "Epoch: [7][120/366] Elapsed 1m 1s (remain 2m 4s) Loss: 0.0676(0.0493) Grad: 175727.4062  LR: 0.00000597  \n",
      "Epoch: [7][140/366] Elapsed 1m 11s (remain 1m 54s) Loss: 0.0299(0.0488) Grad: 107164.0078  LR: 0.00000581  \n",
      "Epoch: [7][160/366] Elapsed 1m 21s (remain 1m 44s) Loss: 0.0457(0.0485) Grad: 97442.4297  LR: 0.00000566  \n",
      "Epoch: [7][180/366] Elapsed 1m 32s (remain 1m 34s) Loss: 0.0403(0.0487) Grad: 113243.1719  LR: 0.00000551  \n",
      "Epoch: [7][200/366] Elapsed 1m 42s (remain 1m 23s) Loss: 0.0413(0.0485) Grad: 86931.8594  LR: 0.00000535  \n",
      "Epoch: [7][220/366] Elapsed 1m 52s (remain 1m 13s) Loss: 0.0692(0.0485) Grad: 166832.3281  LR: 0.00000520  \n",
      "Epoch: [7][240/366] Elapsed 2m 2s (remain 1m 3s) Loss: 0.0463(0.0485) Grad: 88640.0859  LR: 0.00000505  \n",
      "Epoch: [7][260/366] Elapsed 2m 12s (remain 0m 53s) Loss: 0.0436(0.0483) Grad: 72194.2891  LR: 0.00000490  \n",
      "Epoch: [7][280/366] Elapsed 2m 23s (remain 0m 43s) Loss: 0.0285(0.0481) Grad: 90095.1406  LR: 0.00000476  \n",
      "Epoch: [7][300/366] Elapsed 2m 33s (remain 0m 33s) Loss: 0.0564(0.0484) Grad: 146455.3281  LR: 0.00000461  \n",
      "Epoch: [7][320/366] Elapsed 2m 43s (remain 0m 22s) Loss: 0.0516(0.0484) Grad: 97908.9531  LR: 0.00000447  \n",
      "Epoch: [7][340/366] Elapsed 2m 53s (remain 0m 12s) Loss: 0.0601(0.0486) Grad: 149161.4844  LR: 0.00000433  \n",
      "Epoch: [7][360/366] Elapsed 3m 3s (remain 0m 2s) Loss: 0.0452(0.0485) Grad: 181328.5625  LR: 0.00000419  \n",
      "Epoch: [7][365/366] Elapsed 3m 6s (remain 0m 0s) Loss: 0.0684(0.0486) Grad: 130425.1406  LR: 0.00000415  \n",
      "EVAL: [0/62] Elapsed 0m 0s (remain 0m 46s) Loss: 0.0791(0.0791) \n",
      "EVAL: [20/62] Elapsed 0m 11s (remain 0m 23s) Loss: 0.0927(0.1163) \n",
      "EVAL: [40/62] Elapsed 0m 23s (remain 0m 11s) Loss: 0.1146(0.1154) \n"
     ]
    },
    {
     "name": "stderr",
     "output_type": "stream",
     "text": [
      "Epoch 7 - avg_train_loss: 0.0486  avg_val_loss: 0.1192  time: 221s\n",
      "Epoch 7 - Score: 0.4897  Scores: [0.526559571752173, 0.4822045101340211, 0.4446247034534747, 0.5039915727452983, 0.5123281151649139, 0.4684686326988742]\n"
     ]
    },
    {
     "name": "stdout",
     "output_type": "stream",
     "text": [
      "EVAL: [60/62] Elapsed 0m 34s (remain 0m 0s) Loss: 0.1092(0.1192) \n",
      "EVAL: [61/62] Elapsed 0m 34s (remain 0m 0s) Loss: 0.1423(0.1192) \n"
     ]
    },
    {
     "name": "stderr",
     "output_type": "stream",
     "text": [
      "========== fold: 0 result ==========\n",
      "Score: 0.4768  Scores: [0.5061942323025878, 0.48277977385749427, 0.42599504476986827, 0.4855865903594306, 0.5019157585000774, 0.45855535074635545]\n",
      "========== fold: 1 training ==========\n",
      "XLMRobertaConfig {\n",
      "  \"_name_or_path\": \"/home/jupyter/models/xlm/xlm-roberta-base-squad2/\",\n",
      "  \"architectures\": [\n",
      "    \"XLMRobertaForQuestionAnswering\"\n",
      "  ],\n",
      "  \"attention_dropout\": 0.0,\n",
      "  \"attention_probs_dropout_prob\": 0.0,\n",
      "  \"bos_token_id\": 0,\n",
      "  \"classifier_dropout\": null,\n",
      "  \"eos_token_id\": 2,\n",
      "  \"gradient_checkpointing\": false,\n",
      "  \"hidden_act\": \"gelu\",\n",
      "  \"hidden_dropout\": 0.0,\n",
      "  \"hidden_dropout_prob\": 0.0,\n",
      "  \"hidden_size\": 768,\n",
      "  \"initializer_range\": 0.02,\n",
      "  \"intermediate_size\": 3072,\n",
      "  \"language\": \"english\",\n",
      "  \"layer_norm_eps\": 1e-05,\n",
      "  \"max_position_embeddings\": 514,\n",
      "  \"model_type\": \"xlm-roberta\",\n",
      "  \"name\": \"XLMRoberta\",\n",
      "  \"num_attention_heads\": 12,\n",
      "  \"num_hidden_layers\": 12,\n",
      "  \"output_hidden_states\": true,\n",
      "  \"output_past\": true,\n",
      "  \"pad_token_id\": 1,\n",
      "  \"position_embedding_type\": \"absolute\",\n",
      "  \"transformers_version\": \"4.21.2\",\n",
      "  \"type_vocab_size\": 1,\n",
      "  \"use_cache\": true,\n",
      "  \"vocab_size\": 250002\n",
      "}\n",
      "\n",
      "Some weights of the model checkpoint at /home/jupyter/models/xlm/xlm-roberta-base-squad2/ were not used when initializing XLMRobertaModel: ['qa_outputs.bias', 'qa_outputs.weight']\n",
      "- This IS expected if you are initializing XLMRobertaModel from the checkpoint of a model trained on another task or with another architecture (e.g. initializing a BertForSequenceClassification model from a BertForPreTraining model).\n",
      "- This IS NOT expected if you are initializing XLMRobertaModel from the checkpoint of a model that you expect to be exactly identical (initializing a BertForSequenceClassification model from a BertForSequenceClassification model).\n",
      "Some weights of XLMRobertaModel were not initialized from the model checkpoint at /home/jupyter/models/xlm/xlm-roberta-base-squad2/ and are newly initialized: ['roberta.pooler.dense.bias', 'roberta.pooler.dense.weight']\n",
      "You should probably TRAIN this model on a down-stream task to be able to use it for predictions and inference.\n"
     ]
    },
    {
     "name": "stdout",
     "output_type": "stream",
     "text": [
      "Epoch: [1][0/366] Elapsed 0m 0s (remain 4m 46s) Loss: 2.6060(2.6060) Grad: 774355.3750  LR: 0.00002000  \n",
      "Epoch: [1][20/366] Elapsed 0m 10s (remain 2m 56s) Loss: 0.1414(1.1231) Grad: 250267.4844  LR: 0.00002000  \n",
      "Epoch: [1][40/366] Elapsed 0m 20s (remain 2m 45s) Loss: 0.2508(0.6801) Grad: 310258.4062  LR: 0.00001999  \n",
      "Epoch: [1][60/366] Elapsed 0m 31s (remain 2m 35s) Loss: 0.2123(0.5377) Grad: 131410.2031  LR: 0.00001999  \n",
      "Epoch: [1][80/366] Elapsed 0m 41s (remain 2m 24s) Loss: 0.3567(0.4522) Grad: 606940.4375  LR: 0.00001998  \n",
      "Epoch: [1][100/366] Elapsed 0m 51s (remain 2m 14s) Loss: 0.1334(0.4008) Grad: 89832.4766  LR: 0.00001996  \n",
      "Epoch: [1][120/366] Elapsed 1m 1s (remain 2m 4s) Loss: 0.1329(0.3639) Grad: 60516.7695  LR: 0.00001995  \n",
      "Epoch: [1][140/366] Elapsed 1m 11s (remain 1m 54s) Loss: 0.2092(0.3367) Grad: 75962.5391  LR: 0.00001993  \n",
      "Epoch: [1][160/366] Elapsed 1m 21s (remain 1m 44s) Loss: 0.1388(0.3119) Grad: 62499.5742  LR: 0.00001991  \n",
      "Epoch: [1][180/366] Elapsed 1m 31s (remain 1m 33s) Loss: 0.1263(0.2924) Grad: 77430.9219  LR: 0.00001988  \n",
      "Epoch: [1][200/366] Elapsed 1m 42s (remain 1m 23s) Loss: 0.0994(0.2750) Grad: 83454.0547  LR: 0.00001985  \n",
      "Epoch: [1][220/366] Elapsed 1m 52s (remain 1m 13s) Loss: 0.1552(0.2619) Grad: 52433.6641  LR: 0.00001982  \n",
      "Epoch: [1][240/366] Elapsed 2m 2s (remain 1m 3s) Loss: 0.2140(0.2516) Grad: 51762.5391  LR: 0.00001979  \n",
      "Epoch: [1][260/366] Elapsed 2m 12s (remain 0m 53s) Loss: 0.1587(0.2416) Grad: 153640.8125  LR: 0.00001975  \n",
      "Epoch: [1][280/366] Elapsed 2m 22s (remain 0m 43s) Loss: 0.1922(0.2328) Grad: 108221.6797  LR: 0.00001971  \n",
      "Epoch: [1][300/366] Elapsed 2m 32s (remain 0m 33s) Loss: 0.1166(0.2265) Grad: 47210.1172  LR: 0.00001967  \n",
      "Epoch: [1][320/366] Elapsed 2m 43s (remain 0m 22s) Loss: 0.1245(0.2225) Grad: 104828.3281  LR: 0.00001962  \n",
      "Epoch: [1][340/366] Elapsed 2m 53s (remain 0m 12s) Loss: 0.1178(0.2174) Grad: 108939.8281  LR: 0.00001958  \n",
      "Epoch: [1][360/366] Elapsed 3m 3s (remain 0m 2s) Loss: 0.1275(0.2129) Grad: 94574.5469  LR: 0.00001953  \n",
      "Epoch: [1][365/366] Elapsed 3m 5s (remain 0m 0s) Loss: 0.1194(0.2118) Grad: 86201.8828  LR: 0.00001951  \n",
      "EVAL: [0/62] Elapsed 0m 0s (remain 0m 45s) Loss: 0.1104(0.1104) \n",
      "EVAL: [20/62] Elapsed 0m 12s (remain 0m 23s) Loss: 0.1554(0.1377) \n",
      "EVAL: [40/62] Elapsed 0m 23s (remain 0m 11s) Loss: 0.1026(0.1328) \n"
     ]
    },
    {
     "name": "stderr",
     "output_type": "stream",
     "text": [
      "Epoch 1 - avg_train_loss: 0.2118  avg_val_loss: 0.1283  time: 221s\n",
      "Epoch 1 - Score: 0.5078  Scores: [0.5399533018543731, 0.49147067225874447, 0.44518902023049434, 0.5351670801544991, 0.562636621448479, 0.47220450806899844]\n",
      "Epoch 1 - Save Best Score: 0.5078 Model\n"
     ]
    },
    {
     "name": "stdout",
     "output_type": "stream",
     "text": [
      "EVAL: [60/62] Elapsed 0m 34s (remain 0m 0s) Loss: 0.1119(0.1283) \n",
      "EVAL: [61/62] Elapsed 0m 34s (remain 0m 0s) Loss: 0.0486(0.1283) \n",
      "Epoch: [2][0/366] Elapsed 0m 0s (remain 4m 50s) Loss: 0.0942(0.0942) Grad: 176039.4531  LR: 0.00001951  \n",
      "Epoch: [2][20/366] Elapsed 0m 10s (remain 2m 59s) Loss: 0.1050(0.1108) Grad: 207546.3594  LR: 0.00001946  \n",
      "Epoch: [2][40/366] Elapsed 0m 21s (remain 2m 46s) Loss: 0.0824(0.1104) Grad: 155546.9375  LR: 0.00001940  \n",
      "Epoch: [2][60/366] Elapsed 0m 31s (remain 2m 35s) Loss: 0.1263(0.1077) Grad: 449108.2188  LR: 0.00001934  \n",
      "Epoch: [2][80/366] Elapsed 0m 41s (remain 2m 25s) Loss: 0.1332(0.1061) Grad: 608736.3750  LR: 0.00001928  \n",
      "Epoch: [2][100/366] Elapsed 0m 51s (remain 2m 15s) Loss: 0.1102(0.1041) Grad: 257856.3594  LR: 0.00001921  \n",
      "Epoch: [2][120/366] Elapsed 1m 1s (remain 2m 4s) Loss: 0.1068(0.1027) Grad: 101061.6953  LR: 0.00001914  \n",
      "Epoch: [2][140/366] Elapsed 1m 11s (remain 1m 54s) Loss: 0.0754(0.1038) Grad: 229374.7812  LR: 0.00001907  \n",
      "Epoch: [2][160/366] Elapsed 1m 21s (remain 1m 44s) Loss: 0.0948(0.1055) Grad: 234764.0156  LR: 0.00001900  \n",
      "Epoch: [2][180/366] Elapsed 1m 32s (remain 1m 34s) Loss: 0.0844(0.1047) Grad: 109475.2812  LR: 0.00001892  \n",
      "Epoch: [2][200/366] Elapsed 1m 42s (remain 1m 23s) Loss: 0.1552(0.1058) Grad: 426511.5312  LR: 0.00001884  \n",
      "Epoch: [2][220/366] Elapsed 1m 52s (remain 1m 13s) Loss: 0.0951(0.1048) Grad: 127237.6875  LR: 0.00001876  \n",
      "Epoch: [2][240/366] Elapsed 2m 2s (remain 1m 3s) Loss: 0.1272(0.1048) Grad: 242109.6406  LR: 0.00001868  \n",
      "Epoch: [2][260/366] Elapsed 2m 12s (remain 0m 53s) Loss: 0.0608(0.1038) Grad: 156245.7656  LR: 0.00001859  \n",
      "Epoch: [2][280/366] Elapsed 2m 22s (remain 0m 43s) Loss: 0.0770(0.1032) Grad: 199678.4375  LR: 0.00001850  \n",
      "Epoch: [2][300/366] Elapsed 2m 33s (remain 0m 33s) Loss: 0.0976(0.1035) Grad: 255394.5625  LR: 0.00001841  \n",
      "Epoch: [2][320/366] Elapsed 2m 43s (remain 0m 22s) Loss: 0.1638(0.1044) Grad: 210407.8594  LR: 0.00001832  \n",
      "Epoch: [2][340/366] Elapsed 2m 53s (remain 0m 12s) Loss: 0.1061(0.1043) Grad: 74070.5234  LR: 0.00001822  \n",
      "Epoch: [2][360/366] Elapsed 3m 3s (remain 0m 2s) Loss: 0.1096(0.1041) Grad: 162744.5000  LR: 0.00001812  \n",
      "Epoch: [2][365/366] Elapsed 3m 6s (remain 0m 0s) Loss: 0.1552(0.1041) Grad: 151220.9531  LR: 0.00001810  \n",
      "EVAL: [0/62] Elapsed 0m 0s (remain 0m 46s) Loss: 0.0965(0.0965) \n",
      "EVAL: [20/62] Elapsed 0m 12s (remain 0m 23s) Loss: 0.1219(0.1201) \n",
      "EVAL: [40/62] Elapsed 0m 23s (remain 0m 11s) Loss: 0.0995(0.1206) \n"
     ]
    },
    {
     "name": "stderr",
     "output_type": "stream",
     "text": [
      "Epoch 2 - avg_train_loss: 0.1041  avg_val_loss: 0.1202  time: 221s\n",
      "Epoch 2 - Score: 0.4913  Scores: [0.5497773036757883, 0.47631229991240487, 0.44075080224268437, 0.4858373213686815, 0.531579426015351, 0.46337841404855606]\n",
      "Epoch 2 - Save Best Score: 0.4913 Model\n"
     ]
    },
    {
     "name": "stdout",
     "output_type": "stream",
     "text": [
      "EVAL: [60/62] Elapsed 0m 34s (remain 0m 0s) Loss: 0.1164(0.1203) \n",
      "EVAL: [61/62] Elapsed 0m 34s (remain 0m 0s) Loss: 0.0331(0.1202) \n",
      "Epoch: [3][0/366] Elapsed 0m 0s (remain 5m 58s) Loss: 0.0706(0.0706) Grad: 159177.7969  LR: 0.00001809  \n",
      "Epoch: [3][20/366] Elapsed 0m 11s (remain 3m 0s) Loss: 0.0841(0.1010) Grad: 125069.9141  LR: 0.00001799  \n",
      "Epoch: [3][40/366] Elapsed 0m 21s (remain 2m 47s) Loss: 0.0818(0.0973) Grad: 73674.5781  LR: 0.00001789  \n",
      "Epoch: [3][60/366] Elapsed 0m 31s (remain 2m 38s) Loss: 0.0972(0.0965) Grad: 65749.6250  LR: 0.00001778  \n",
      "Epoch: [3][80/366] Elapsed 0m 42s (remain 2m 28s) Loss: 0.1213(0.0974) Grad: 182615.8438  LR: 0.00001767  \n",
      "Epoch: [3][100/366] Elapsed 0m 52s (remain 2m 17s) Loss: 0.1365(0.0996) Grad: 134602.6562  LR: 0.00001756  \n",
      "Epoch: [3][120/366] Elapsed 1m 2s (remain 2m 6s) Loss: 0.0888(0.0980) Grad: 169479.2812  LR: 0.00001745  \n",
      "Epoch: [3][140/366] Elapsed 1m 12s (remain 1m 55s) Loss: 0.1330(0.0981) Grad: 101917.4375  LR: 0.00001733  \n",
      "Epoch: [3][160/366] Elapsed 1m 22s (remain 1m 45s) Loss: 0.0968(0.0963) Grad: 117288.6328  LR: 0.00001721  \n",
      "Epoch: [3][180/366] Elapsed 1m 32s (remain 1m 34s) Loss: 0.0897(0.0959) Grad: 57731.1172  LR: 0.00001709  \n",
      "Epoch: [3][200/366] Elapsed 1m 42s (remain 1m 24s) Loss: 0.1490(0.0959) Grad: 69120.7266  LR: 0.00001697  \n",
      "Epoch: [3][220/366] Elapsed 1m 53s (remain 1m 14s) Loss: 0.0983(0.0955) Grad: 86697.5234  LR: 0.00001685  \n",
      "Epoch: [3][240/366] Elapsed 2m 3s (remain 1m 3s) Loss: 0.0916(0.0947) Grad: 86006.8984  LR: 0.00001672  \n",
      "Epoch: [3][260/366] Elapsed 2m 13s (remain 0m 53s) Loss: 0.0975(0.0945) Grad: 230425.1719  LR: 0.00001659  \n",
      "Epoch: [3][280/366] Elapsed 2m 23s (remain 0m 43s) Loss: 0.0961(0.0939) Grad: 157492.1250  LR: 0.00001646  \n",
      "Epoch: [3][300/366] Elapsed 2m 33s (remain 0m 33s) Loss: 0.1007(0.0937) Grad: 170363.9219  LR: 0.00001633  \n",
      "Epoch: [3][320/366] Elapsed 2m 43s (remain 0m 22s) Loss: 0.1124(0.0940) Grad: 124349.4453  LR: 0.00001620  \n",
      "Epoch: [3][340/366] Elapsed 2m 53s (remain 0m 12s) Loss: 0.1184(0.0941) Grad: 161589.2656  LR: 0.00001606  \n",
      "Epoch: [3][360/366] Elapsed 3m 4s (remain 0m 2s) Loss: 0.1013(0.0950) Grad: 168613.7500  LR: 0.00001593  \n",
      "Epoch: [3][365/366] Elapsed 3m 6s (remain 0m 0s) Loss: 0.1230(0.0952) Grad: 243318.2969  LR: 0.00001589  \n",
      "EVAL: [0/62] Elapsed 0m 0s (remain 0m 47s) Loss: 0.1024(0.1024) \n",
      "EVAL: [20/62] Elapsed 0m 12s (remain 0m 23s) Loss: 0.1218(0.1247) \n",
      "EVAL: [40/62] Elapsed 0m 23s (remain 0m 11s) Loss: 0.1039(0.1243) \n"
     ]
    },
    {
     "name": "stderr",
     "output_type": "stream",
     "text": [
      "Epoch 3 - avg_train_loss: 0.0952  avg_val_loss: 0.1238  time: 221s\n",
      "Epoch 3 - Score: 0.4994  Scores: [0.5378795757332253, 0.47403782647310866, 0.45633220756613907, 0.5042267705634265, 0.5388088962962654, 0.48527231787014685]\n"
     ]
    },
    {
     "name": "stdout",
     "output_type": "stream",
     "text": [
      "EVAL: [60/62] Elapsed 0m 34s (remain 0m 0s) Loss: 0.1272(0.1238) \n",
      "EVAL: [61/62] Elapsed 0m 34s (remain 0m 0s) Loss: 0.1208(0.1238) \n",
      "Epoch: [4][0/366] Elapsed 0m 0s (remain 4m 16s) Loss: 0.0648(0.0648) Grad: 149889.1094  LR: 0.00001589  \n",
      "Epoch: [4][20/366] Elapsed 0m 10s (remain 2m 58s) Loss: 0.0578(0.0752) Grad: 97676.1172  LR: 0.00001575  \n",
      "Epoch: [4][40/366] Elapsed 0m 21s (remain 2m 46s) Loss: 0.0446(0.0727) Grad: 113935.9844  LR: 0.00001561  \n",
      "Epoch: [4][60/366] Elapsed 0m 31s (remain 2m 36s) Loss: 0.0803(0.0722) Grad: 150870.1875  LR: 0.00001546  \n",
      "Epoch: [4][80/366] Elapsed 0m 41s (remain 2m 25s) Loss: 0.0764(0.0713) Grad: 276838.6562  LR: 0.00001532  \n",
      "Epoch: [4][100/366] Elapsed 0m 51s (remain 2m 15s) Loss: 0.0769(0.0717) Grad: 161549.8750  LR: 0.00001517  \n",
      "Epoch: [4][120/366] Elapsed 1m 1s (remain 2m 4s) Loss: 0.1369(0.0724) Grad: 233459.5781  LR: 0.00001502  \n",
      "Epoch: [4][140/366] Elapsed 1m 11s (remain 1m 54s) Loss: 0.0789(0.0724) Grad: 265664.4375  LR: 0.00001488  \n",
      "Epoch: [4][160/366] Elapsed 1m 22s (remain 1m 44s) Loss: 0.0653(0.0727) Grad: 101725.0781  LR: 0.00001473  \n",
      "Epoch: [4][180/366] Elapsed 1m 32s (remain 1m 34s) Loss: 0.0478(0.0727) Grad: 161312.6406  LR: 0.00001457  \n",
      "Epoch: [4][200/366] Elapsed 1m 42s (remain 1m 24s) Loss: 0.0719(0.0719) Grad: 133757.3594  LR: 0.00001442  \n",
      "Epoch: [4][220/366] Elapsed 1m 52s (remain 1m 13s) Loss: 0.0516(0.0720) Grad: 234487.3750  LR: 0.00001427  \n",
      "Epoch: [4][240/366] Elapsed 2m 2s (remain 1m 3s) Loss: 0.0672(0.0716) Grad: 201744.9062  LR: 0.00001411  \n",
      "Epoch: [4][260/366] Elapsed 2m 12s (remain 0m 53s) Loss: 0.0574(0.0710) Grad: 84364.7656  LR: 0.00001395  \n",
      "Epoch: [4][280/366] Elapsed 2m 23s (remain 0m 43s) Loss: 0.0636(0.0710) Grad: 150465.4062  LR: 0.00001380  \n",
      "Epoch: [4][300/366] Elapsed 2m 33s (remain 0m 33s) Loss: 0.0787(0.0711) Grad: 203929.3594  LR: 0.00001364  \n",
      "Epoch: [4][320/366] Elapsed 2m 43s (remain 0m 22s) Loss: 0.0481(0.0707) Grad: 148777.4375  LR: 0.00001348  \n",
      "Epoch: [4][340/366] Elapsed 2m 53s (remain 0m 12s) Loss: 0.0688(0.0712) Grad: 162634.6406  LR: 0.00001332  \n",
      "Epoch: [4][360/366] Elapsed 3m 3s (remain 0m 2s) Loss: 0.0589(0.0713) Grad: 148667.6875  LR: 0.00001315  \n",
      "Epoch: [4][365/366] Elapsed 3m 6s (remain 0m 0s) Loss: 0.0542(0.0711) Grad: 85659.2422  LR: 0.00001311  \n",
      "EVAL: [0/62] Elapsed 0m 0s (remain 0m 46s) Loss: 0.1060(0.1060) \n",
      "EVAL: [20/62] Elapsed 0m 12s (remain 0m 23s) Loss: 0.1263(0.1173) \n",
      "EVAL: [40/62] Elapsed 0m 23s (remain 0m 11s) Loss: 0.1092(0.1162) \n"
     ]
    },
    {
     "name": "stderr",
     "output_type": "stream",
     "text": [
      "Epoch 4 - avg_train_loss: 0.0711  avg_val_loss: 0.1166  time: 221s\n",
      "Epoch 4 - Score: 0.4841  Scores: [0.5093143195486974, 0.4886454701979497, 0.446272961643257, 0.4825553662811196, 0.5153532120011589, 0.462757387878337]\n",
      "Epoch 4 - Save Best Score: 0.4841 Model\n"
     ]
    },
    {
     "name": "stdout",
     "output_type": "stream",
     "text": [
      "EVAL: [60/62] Elapsed 0m 34s (remain 0m 0s) Loss: 0.1120(0.1166) \n",
      "EVAL: [61/62] Elapsed 0m 34s (remain 0m 0s) Loss: 0.0637(0.1166) \n",
      "Epoch: [5][0/366] Elapsed 0m 0s (remain 4m 44s) Loss: 0.0510(0.0510) Grad: 62287.6680  LR: 0.00001310  \n",
      "Epoch: [5][20/366] Elapsed 0m 10s (remain 2m 58s) Loss: 0.0680(0.0615) Grad: 249513.0625  LR: 0.00001294  \n",
      "Epoch: [5][40/366] Elapsed 0m 21s (remain 2m 47s) Loss: 0.0447(0.0643) Grad: 110457.9453  LR: 0.00001278  \n",
      "Epoch: [5][60/366] Elapsed 0m 31s (remain 2m 38s) Loss: 0.0991(0.0633) Grad: 222021.9531  LR: 0.00001261  \n",
      "Epoch: [5][80/366] Elapsed 0m 42s (remain 2m 27s) Loss: 0.0687(0.0652) Grad: 110420.4766  LR: 0.00001245  \n",
      "Epoch: [5][100/366] Elapsed 0m 52s (remain 2m 16s) Loss: 0.0422(0.0645) Grad: 246971.6875  LR: 0.00001228  \n",
      "Epoch: [5][120/366] Elapsed 1m 2s (remain 2m 6s) Loss: 0.0585(0.0641) Grad: 125581.3906  LR: 0.00001211  \n",
      "Epoch: [5][140/366] Elapsed 1m 12s (remain 1m 55s) Loss: 0.0569(0.0638) Grad: 110242.5234  LR: 0.00001195  \n",
      "Epoch: [5][160/366] Elapsed 1m 22s (remain 1m 44s) Loss: 0.0597(0.0640) Grad: 94752.1406  LR: 0.00001178  \n",
      "Epoch: [5][180/366] Elapsed 1m 32s (remain 1m 34s) Loss: 0.0460(0.0628) Grad: 156592.4375  LR: 0.00001161  \n",
      "Epoch: [5][200/366] Elapsed 1m 42s (remain 1m 24s) Loss: 0.0619(0.0626) Grad: 134812.9375  LR: 0.00001144  \n",
      "Epoch: [5][220/366] Elapsed 1m 52s (remain 1m 14s) Loss: 0.0578(0.0618) Grad: 124149.0469  LR: 0.00001127  \n",
      "Epoch: [5][240/366] Elapsed 2m 3s (remain 1m 3s) Loss: 0.0514(0.0620) Grad: 140845.9844  LR: 0.00001110  \n",
      "Epoch: [5][260/366] Elapsed 2m 13s (remain 0m 53s) Loss: 0.0444(0.0618) Grad: 66272.6406  LR: 0.00001093  \n",
      "Epoch: [5][280/366] Elapsed 2m 23s (remain 0m 43s) Loss: 0.0442(0.0615) Grad: 116515.0625  LR: 0.00001076  \n",
      "Epoch: [5][300/366] Elapsed 2m 33s (remain 0m 33s) Loss: 0.0470(0.0614) Grad: 150559.2500  LR: 0.00001059  \n",
      "Epoch: [5][320/366] Elapsed 2m 43s (remain 0m 22s) Loss: 0.0760(0.0611) Grad: 140505.3438  LR: 0.00001042  \n",
      "Epoch: [5][340/366] Elapsed 2m 53s (remain 0m 12s) Loss: 0.0442(0.0610) Grad: 78346.4688  LR: 0.00001024  \n",
      "Epoch: [5][360/366] Elapsed 3m 4s (remain 0m 2s) Loss: 0.0618(0.0611) Grad: 117424.3594  LR: 0.00001007  \n",
      "Epoch: [5][365/366] Elapsed 3m 6s (remain 0m 0s) Loss: 0.0647(0.0611) Grad: 108083.2500  LR: 0.00001003  \n",
      "EVAL: [0/62] Elapsed 0m 0s (remain 0m 46s) Loss: 0.1079(0.1079) \n",
      "EVAL: [20/62] Elapsed 0m 12s (remain 0m 23s) Loss: 0.1303(0.1247) \n",
      "EVAL: [40/62] Elapsed 0m 23s (remain 0m 11s) Loss: 0.1038(0.1207) \n"
     ]
    },
    {
     "name": "stderr",
     "output_type": "stream",
     "text": [
      "Epoch 5 - avg_train_loss: 0.0611  avg_val_loss: 0.1203  time: 221s\n",
      "Epoch 5 - Score: 0.4922  Scores: [0.5291125767802927, 0.47295428852785903, 0.4550492129209009, 0.49500310019661675, 0.5310010675775534, 0.4701541785042213]\n"
     ]
    },
    {
     "name": "stdout",
     "output_type": "stream",
     "text": [
      "EVAL: [60/62] Elapsed 0m 34s (remain 0m 0s) Loss: 0.1133(0.1204) \n",
      "EVAL: [61/62] Elapsed 0m 34s (remain 0m 0s) Loss: 0.0678(0.1203) \n",
      "Epoch: [6][0/366] Elapsed 0m 0s (remain 4m 21s) Loss: 0.0564(0.0564) Grad: 146498.1250  LR: 0.00001002  \n",
      "Epoch: [6][20/366] Elapsed 0m 10s (remain 2m 58s) Loss: 0.0526(0.0560) Grad: 87652.3359  LR: 0.00000985  \n",
      "Epoch: [6][40/366] Elapsed 0m 20s (remain 2m 46s) Loss: 0.0560(0.0556) Grad: 145611.3750  LR: 0.00000968  \n",
      "Epoch: [6][60/366] Elapsed 0m 31s (remain 2m 35s) Loss: 0.0561(0.0566) Grad: 134084.2188  LR: 0.00000951  \n",
      "Epoch: [6][80/366] Elapsed 0m 41s (remain 2m 25s) Loss: 0.0502(0.0558) Grad: 99141.5156  LR: 0.00000934  \n",
      "Epoch: [6][100/366] Elapsed 0m 51s (remain 2m 15s) Loss: 0.0326(0.0554) Grad: 78641.9141  LR: 0.00000917  \n",
      "Epoch: [6][120/366] Elapsed 1m 1s (remain 2m 5s) Loss: 0.0579(0.0548) Grad: 115202.1875  LR: 0.00000900  \n",
      "Epoch: [6][140/366] Elapsed 1m 12s (remain 1m 54s) Loss: 0.0378(0.0548) Grad: 99848.8438  LR: 0.00000882  \n",
      "Epoch: [6][160/366] Elapsed 1m 22s (remain 1m 44s) Loss: 0.0506(0.0545) Grad: 98221.2031  LR: 0.00000865  \n",
      "Epoch: [6][180/366] Elapsed 1m 32s (remain 1m 34s) Loss: 0.0540(0.0544) Grad: 142231.5312  LR: 0.00000849  \n",
      "Epoch: [6][200/366] Elapsed 1m 42s (remain 1m 24s) Loss: 0.0305(0.0542) Grad: 131922.6406  LR: 0.00000832  \n",
      "Epoch: [6][220/366] Elapsed 1m 52s (remain 1m 13s) Loss: 0.0552(0.0546) Grad: 160920.7969  LR: 0.00000815  \n",
      "Epoch: [6][240/366] Elapsed 2m 2s (remain 1m 3s) Loss: 0.0512(0.0546) Grad: 103967.3828  LR: 0.00000798  \n",
      "Epoch: [6][260/366] Elapsed 2m 13s (remain 0m 53s) Loss: 0.0653(0.0546) Grad: 109385.7109  LR: 0.00000781  \n",
      "Epoch: [6][280/366] Elapsed 2m 23s (remain 0m 43s) Loss: 0.0564(0.0545) Grad: 140609.9531  LR: 0.00000764  \n",
      "Epoch: [6][300/366] Elapsed 2m 33s (remain 0m 33s) Loss: 0.0508(0.0539) Grad: 105386.0938  LR: 0.00000748  \n",
      "Epoch: [6][320/366] Elapsed 2m 43s (remain 0m 22s) Loss: 0.0545(0.0541) Grad: 105636.6562  LR: 0.00000731  \n",
      "Epoch: [6][340/366] Elapsed 2m 53s (remain 0m 12s) Loss: 0.0304(0.0539) Grad: 152186.2969  LR: 0.00000715  \n",
      "Epoch: [6][360/366] Elapsed 3m 3s (remain 0m 2s) Loss: 0.0544(0.0539) Grad: 159961.1406  LR: 0.00000698  \n",
      "Epoch: [6][365/366] Elapsed 3m 6s (remain 0m 0s) Loss: 0.0380(0.0539) Grad: 91896.1641  LR: 0.00000694  \n",
      "EVAL: [0/62] Elapsed 0m 0s (remain 0m 46s) Loss: 0.1034(0.1034) \n",
      "EVAL: [20/62] Elapsed 0m 12s (remain 0m 23s) Loss: 0.1322(0.1209) \n",
      "EVAL: [40/62] Elapsed 0m 23s (remain 0m 11s) Loss: 0.1040(0.1181) \n"
     ]
    },
    {
     "name": "stderr",
     "output_type": "stream",
     "text": [
      "Epoch 6 - avg_train_loss: 0.0539  avg_val_loss: 0.1182  time: 221s\n",
      "Epoch 6 - Score: 0.4876  Scores: [0.5147631205443425, 0.47147262038158094, 0.4427159735822005, 0.4953239332108923, 0.5292035977789791, 0.47216247668832323]\n"
     ]
    },
    {
     "name": "stdout",
     "output_type": "stream",
     "text": [
      "EVAL: [60/62] Elapsed 0m 34s (remain 0m 0s) Loss: 0.1134(0.1183) \n",
      "EVAL: [61/62] Elapsed 0m 34s (remain 0m 0s) Loss: 0.0462(0.1182) \n",
      "Epoch: [7][0/366] Elapsed 0m 0s (remain 4m 16s) Loss: 0.0674(0.0674) Grad: 67761.7422  LR: 0.00000694  \n",
      "Epoch: [7][20/366] Elapsed 0m 10s (remain 2m 58s) Loss: 0.0502(0.0482) Grad: 114388.3750  LR: 0.00000677  \n",
      "Epoch: [7][40/366] Elapsed 0m 20s (remain 2m 46s) Loss: 0.0546(0.0497) Grad: 100992.9766  LR: 0.00000661  \n",
      "Epoch: [7][60/366] Elapsed 0m 31s (remain 2m 35s) Loss: 0.0486(0.0502) Grad: 99709.0859  LR: 0.00000645  \n",
      "Epoch: [7][80/366] Elapsed 0m 41s (remain 2m 25s) Loss: 0.0317(0.0495) Grad: 66762.4375  LR: 0.00000629  \n",
      "Epoch: [7][100/366] Elapsed 0m 51s (remain 2m 15s) Loss: 0.0575(0.0489) Grad: 139795.5000  LR: 0.00000613  \n",
      "Epoch: [7][120/366] Elapsed 1m 1s (remain 2m 4s) Loss: 0.0631(0.0488) Grad: 152111.6719  LR: 0.00000598  \n",
      "Epoch: [7][140/366] Elapsed 1m 11s (remain 1m 54s) Loss: 0.0432(0.0490) Grad: 86544.6641  LR: 0.00000582  \n",
      "Epoch: [7][160/366] Elapsed 1m 21s (remain 1m 44s) Loss: 0.0549(0.0493) Grad: 91067.0703  LR: 0.00000566  \n",
      "Epoch: [7][180/366] Elapsed 1m 32s (remain 1m 34s) Loss: 0.0460(0.0490) Grad: 86347.0391  LR: 0.00000551  \n",
      "Epoch: [7][200/366] Elapsed 1m 42s (remain 1m 23s) Loss: 0.0516(0.0490) Grad: 62050.1562  LR: 0.00000536  \n",
      "Epoch: [7][220/366] Elapsed 1m 52s (remain 1m 13s) Loss: 0.0512(0.0489) Grad: 120931.0469  LR: 0.00000521  \n",
      "Epoch: [7][240/366] Elapsed 2m 2s (remain 1m 3s) Loss: 0.0504(0.0489) Grad: 79457.9688  LR: 0.00000506  \n",
      "Epoch: [7][260/366] Elapsed 2m 12s (remain 0m 53s) Loss: 0.0399(0.0488) Grad: 68859.7656  LR: 0.00000491  \n",
      "Epoch: [7][280/366] Elapsed 2m 22s (remain 0m 43s) Loss: 0.0486(0.0487) Grad: 128075.1016  LR: 0.00000476  \n",
      "Epoch: [7][300/366] Elapsed 2m 33s (remain 0m 33s) Loss: 0.0840(0.0489) Grad: 231104.6719  LR: 0.00000462  \n",
      "Epoch: [7][320/366] Elapsed 2m 43s (remain 0m 22s) Loss: 0.0521(0.0489) Grad: 141432.9531  LR: 0.00000447  \n",
      "Epoch: [7][340/366] Elapsed 2m 53s (remain 0m 12s) Loss: 0.0448(0.0491) Grad: 132893.6719  LR: 0.00000433  \n",
      "Epoch: [7][360/366] Elapsed 3m 3s (remain 0m 2s) Loss: 0.0348(0.0493) Grad: 87825.7422  LR: 0.00000419  \n",
      "Epoch: [7][365/366] Elapsed 3m 6s (remain 0m 0s) Loss: 0.0535(0.0492) Grad: 106585.4219  LR: 0.00000416  \n",
      "EVAL: [0/62] Elapsed 0m 0s (remain 0m 59s) Loss: 0.1065(0.1065) \n",
      "EVAL: [20/62] Elapsed 0m 12s (remain 0m 23s) Loss: 0.1316(0.1228) \n",
      "EVAL: [40/62] Elapsed 0m 23s (remain 0m 11s) Loss: 0.1045(0.1198) \n"
     ]
    },
    {
     "name": "stderr",
     "output_type": "stream",
     "text": [
      "Epoch 7 - avg_train_loss: 0.0492  avg_val_loss: 0.1206  time: 221s\n",
      "Epoch 7 - Score: 0.4927  Scores: [0.5273640295620338, 0.4756731795633726, 0.44465371604445025, 0.4965249833167249, 0.5285618097427982, 0.48347986375430724]\n"
     ]
    },
    {
     "name": "stdout",
     "output_type": "stream",
     "text": [
      "EVAL: [60/62] Elapsed 0m 34s (remain 0m 0s) Loss: 0.1185(0.1206) \n",
      "EVAL: [61/62] Elapsed 0m 34s (remain 0m 0s) Loss: 0.0544(0.1206) \n"
     ]
    },
    {
     "name": "stderr",
     "output_type": "stream",
     "text": [
      "========== fold: 1 result ==========\n",
      "Score: 0.4841  Scores: [0.5093143195486974, 0.4886454701979497, 0.446272961643257, 0.4825553662811196, 0.5153532120011589, 0.462757387878337]\n",
      "========== fold: 2 training ==========\n",
      "XLMRobertaConfig {\n",
      "  \"_name_or_path\": \"/home/jupyter/models/xlm/xlm-roberta-base-squad2/\",\n",
      "  \"architectures\": [\n",
      "    \"XLMRobertaForQuestionAnswering\"\n",
      "  ],\n",
      "  \"attention_dropout\": 0.0,\n",
      "  \"attention_probs_dropout_prob\": 0.0,\n",
      "  \"bos_token_id\": 0,\n",
      "  \"classifier_dropout\": null,\n",
      "  \"eos_token_id\": 2,\n",
      "  \"gradient_checkpointing\": false,\n",
      "  \"hidden_act\": \"gelu\",\n",
      "  \"hidden_dropout\": 0.0,\n",
      "  \"hidden_dropout_prob\": 0.0,\n",
      "  \"hidden_size\": 768,\n",
      "  \"initializer_range\": 0.02,\n",
      "  \"intermediate_size\": 3072,\n",
      "  \"language\": \"english\",\n",
      "  \"layer_norm_eps\": 1e-05,\n",
      "  \"max_position_embeddings\": 514,\n",
      "  \"model_type\": \"xlm-roberta\",\n",
      "  \"name\": \"XLMRoberta\",\n",
      "  \"num_attention_heads\": 12,\n",
      "  \"num_hidden_layers\": 12,\n",
      "  \"output_hidden_states\": true,\n",
      "  \"output_past\": true,\n",
      "  \"pad_token_id\": 1,\n",
      "  \"position_embedding_type\": \"absolute\",\n",
      "  \"transformers_version\": \"4.21.2\",\n",
      "  \"type_vocab_size\": 1,\n",
      "  \"use_cache\": true,\n",
      "  \"vocab_size\": 250002\n",
      "}\n",
      "\n",
      "Some weights of the model checkpoint at /home/jupyter/models/xlm/xlm-roberta-base-squad2/ were not used when initializing XLMRobertaModel: ['qa_outputs.bias', 'qa_outputs.weight']\n",
      "- This IS expected if you are initializing XLMRobertaModel from the checkpoint of a model trained on another task or with another architecture (e.g. initializing a BertForSequenceClassification model from a BertForPreTraining model).\n",
      "- This IS NOT expected if you are initializing XLMRobertaModel from the checkpoint of a model that you expect to be exactly identical (initializing a BertForSequenceClassification model from a BertForSequenceClassification model).\n",
      "Some weights of XLMRobertaModel were not initialized from the model checkpoint at /home/jupyter/models/xlm/xlm-roberta-base-squad2/ and are newly initialized: ['roberta.pooler.dense.bias', 'roberta.pooler.dense.weight']\n",
      "You should probably TRAIN this model on a down-stream task to be able to use it for predictions and inference.\n"
     ]
    },
    {
     "name": "stdout",
     "output_type": "stream",
     "text": [
      "Epoch: [1][0/366] Elapsed 0m 0s (remain 5m 4s) Loss: 2.6896(2.6896) Grad: 859155.2500  LR: 0.00002000  \n",
      "Epoch: [1][20/366] Elapsed 0m 10s (remain 2m 57s) Loss: 0.2003(1.1462) Grad: 99091.4062  LR: 0.00002000  \n",
      "Epoch: [1][40/366] Elapsed 0m 21s (remain 2m 46s) Loss: 0.2099(0.6916) Grad: 182089.6562  LR: 0.00001999  \n",
      "Epoch: [1][60/366] Elapsed 0m 31s (remain 2m 36s) Loss: 0.1444(0.5298) Grad: 127193.8828  LR: 0.00001999  \n",
      "Epoch: [1][80/366] Elapsed 0m 41s (remain 2m 25s) Loss: 0.1039(0.4457) Grad: 106949.9062  LR: 0.00001998  \n",
      "Epoch: [1][100/366] Elapsed 0m 51s (remain 2m 15s) Loss: 0.1745(0.4136) Grad: 131721.1406  LR: 0.00001996  \n",
      "Epoch: [1][120/366] Elapsed 1m 1s (remain 2m 4s) Loss: 0.0795(0.3726) Grad: 91948.8047  LR: 0.00001995  \n",
      "Epoch: [1][140/366] Elapsed 1m 11s (remain 1m 54s) Loss: 0.1268(0.3405) Grad: 32973.2773  LR: 0.00001993  \n",
      "Epoch: [1][160/366] Elapsed 1m 21s (remain 1m 44s) Loss: 0.1165(0.3162) Grad: 64059.2617  LR: 0.00001990  \n",
      "Epoch: [1][180/366] Elapsed 1m 32s (remain 1m 34s) Loss: 0.0920(0.2983) Grad: 45162.1406  LR: 0.00001988  \n",
      "Epoch: [1][200/366] Elapsed 1m 42s (remain 1m 23s) Loss: 0.1106(0.2846) Grad: 55212.0586  LR: 0.00001985  \n",
      "Epoch: [1][220/366] Elapsed 1m 52s (remain 1m 13s) Loss: 0.1501(0.2712) Grad: 52979.3359  LR: 0.00001982  \n",
      "Epoch: [1][240/366] Elapsed 2m 2s (remain 1m 3s) Loss: 0.1077(0.2588) Grad: 42470.5469  LR: 0.00001979  \n",
      "Epoch: [1][260/366] Elapsed 2m 12s (remain 0m 53s) Loss: 0.0870(0.2490) Grad: 56839.8438  LR: 0.00001975  \n",
      "Epoch: [1][280/366] Elapsed 2m 23s (remain 0m 43s) Loss: 0.1480(0.2421) Grad: 40715.9258  LR: 0.00001971  \n",
      "Epoch: [1][300/366] Elapsed 2m 33s (remain 0m 33s) Loss: 0.1011(0.2359) Grad: 83253.1016  LR: 0.00001967  \n",
      "Epoch: [1][320/366] Elapsed 2m 43s (remain 0m 22s) Loss: 0.1246(0.2282) Grad: 65893.3828  LR: 0.00001962  \n",
      "Epoch: [1][340/366] Elapsed 2m 53s (remain 0m 12s) Loss: 0.1183(0.2215) Grad: 33714.5391  LR: 0.00001958  \n",
      "Epoch: [1][360/366] Elapsed 3m 3s (remain 0m 2s) Loss: 0.0860(0.2162) Grad: 21634.1016  LR: 0.00001953  \n",
      "Epoch: [1][365/366] Elapsed 3m 6s (remain 0m 0s) Loss: 0.0850(0.2146) Grad: 19841.4336  LR: 0.00001951  \n",
      "EVAL: [0/62] Elapsed 0m 0s (remain 0m 45s) Loss: 0.1449(0.1449) \n",
      "EVAL: [20/62] Elapsed 0m 11s (remain 0m 23s) Loss: 0.1163(0.1240) \n",
      "EVAL: [40/62] Elapsed 0m 23s (remain 0m 11s) Loss: 0.1132(0.1230) \n"
     ]
    },
    {
     "name": "stderr",
     "output_type": "stream",
     "text": [
      "Epoch 1 - avg_train_loss: 0.2146  avg_val_loss: 0.1216  time: 221s\n",
      "Epoch 1 - Score: 0.4952  Scores: [0.5249876059089947, 0.4670875706883441, 0.4730344881098927, 0.5045543724881232, 0.5136892151165898, 0.48790420438733734]\n",
      "Epoch 1 - Save Best Score: 0.4952 Model\n"
     ]
    },
    {
     "name": "stdout",
     "output_type": "stream",
     "text": [
      "EVAL: [60/62] Elapsed 0m 34s (remain 0m 0s) Loss: 0.0855(0.1213) \n",
      "EVAL: [61/62] Elapsed 0m 34s (remain 0m 0s) Loss: 0.2534(0.1216) \n",
      "Epoch: [2][0/366] Elapsed 0m 0s (remain 4m 36s) Loss: 0.1030(0.1030) Grad: 220191.8125  LR: 0.00001951  \n",
      "Epoch: [2][20/366] Elapsed 0m 10s (remain 2m 58s) Loss: 0.0705(0.1013) Grad: 179406.1875  LR: 0.00001946  \n",
      "Epoch: [2][40/366] Elapsed 0m 21s (remain 2m 46s) Loss: 0.0979(0.1024) Grad: 225115.2188  LR: 0.00001940  \n",
      "Epoch: [2][60/366] Elapsed 0m 31s (remain 2m 35s) Loss: 0.1024(0.1006) Grad: 286793.5625  LR: 0.00001934  \n",
      "Epoch: [2][80/366] Elapsed 0m 41s (remain 2m 25s) Loss: 0.0772(0.1020) Grad: 148698.4531  LR: 0.00001928  \n",
      "Epoch: [2][100/366] Elapsed 0m 51s (remain 2m 15s) Loss: 0.0864(0.1019) Grad: 190619.1875  LR: 0.00001921  \n",
      "Epoch: [2][120/366] Elapsed 1m 1s (remain 2m 5s) Loss: 0.1373(0.1011) Grad: 188882.3750  LR: 0.00001914  \n",
      "Epoch: [2][140/366] Elapsed 1m 11s (remain 1m 54s) Loss: 0.1142(0.0999) Grad: 163729.8906  LR: 0.00001907  \n",
      "Epoch: [2][160/366] Elapsed 1m 22s (remain 1m 44s) Loss: 0.0844(0.1001) Grad: 324059.8438  LR: 0.00001900  \n",
      "Epoch: [2][180/366] Elapsed 1m 32s (remain 1m 34s) Loss: 0.1084(0.1000) Grad: 321253.6562  LR: 0.00001892  \n",
      "Epoch: [2][200/366] Elapsed 1m 42s (remain 1m 24s) Loss: 0.0834(0.1005) Grad: 113937.0703  LR: 0.00001884  \n",
      "Epoch: [2][220/366] Elapsed 1m 52s (remain 1m 13s) Loss: 0.1629(0.1004) Grad: inf  LR: 0.00001876  \n",
      "Epoch: [2][240/366] Elapsed 2m 2s (remain 1m 3s) Loss: 0.0958(0.1011) Grad: 68653.7422  LR: 0.00001868  \n",
      "Epoch: [2][260/366] Elapsed 2m 12s (remain 0m 53s) Loss: 0.1463(0.1013) Grad: 200627.3750  LR: 0.00001859  \n",
      "Epoch: [2][280/366] Elapsed 2m 22s (remain 0m 43s) Loss: 0.1169(0.1009) Grad: 191084.5469  LR: 0.00001850  \n",
      "Epoch: [2][300/366] Elapsed 2m 32s (remain 0m 33s) Loss: 0.1032(0.1014) Grad: 72742.6875  LR: 0.00001841  \n",
      "Epoch: [2][320/366] Elapsed 2m 43s (remain 0m 22s) Loss: 0.0875(0.1021) Grad: 76080.5938  LR: 0.00001832  \n",
      "Epoch: [2][340/366] Elapsed 2m 53s (remain 0m 12s) Loss: 0.1400(0.1026) Grad: 79157.1797  LR: 0.00001822  \n",
      "Epoch: [2][360/366] Elapsed 3m 3s (remain 0m 2s) Loss: 0.1569(0.1031) Grad: 73879.6328  LR: 0.00001812  \n",
      "Epoch: [2][365/366] Elapsed 3m 6s (remain 0m 0s) Loss: 0.1631(0.1032) Grad: 256602.3750  LR: 0.00001810  \n",
      "EVAL: [0/62] Elapsed 0m 0s (remain 0m 47s) Loss: 0.1431(0.1431) \n",
      "EVAL: [20/62] Elapsed 0m 12s (remain 0m 23s) Loss: 0.0707(0.1202) \n",
      "EVAL: [40/62] Elapsed 0m 23s (remain 0m 11s) Loss: 0.1088(0.1192) \n",
      "EVAL: [60/62] Elapsed 0m 34s (remain 0m 0s) Loss: 0.0889(0.1174) \n",
      "EVAL: [61/62] Elapsed 0m 34s (remain 0m 0s) Loss: 0.1080(0.1174) \n"
     ]
    },
    {
     "name": "stderr",
     "output_type": "stream",
     "text": [
      "Epoch 2 - avg_train_loss: 0.1032  avg_val_loss: 0.1174  time: 221s\n",
      "Epoch 2 - Score: 0.4865  Scores: [0.5103431991532423, 0.46282367591585866, 0.4487350000073778, 0.5003946492896563, 0.5189219199673767, 0.4777560839673345]\n",
      "Epoch 2 - Save Best Score: 0.4865 Model\n"
     ]
    },
    {
     "name": "stdout",
     "output_type": "stream",
     "text": [
      "Epoch: [3][0/366] Elapsed 0m 0s (remain 4m 43s) Loss: 0.0767(0.0767) Grad: 213607.7656  LR: 0.00001809  \n",
      "Epoch: [3][20/366] Elapsed 0m 10s (remain 2m 57s) Loss: 0.1214(0.0879) Grad: 336311.0625  LR: 0.00001799  \n",
      "Epoch: [3][40/366] Elapsed 0m 20s (remain 2m 46s) Loss: 0.0675(0.0826) Grad: 240904.7500  LR: 0.00001789  \n",
      "Epoch: [3][60/366] Elapsed 0m 31s (remain 2m 37s) Loss: 0.1077(0.0855) Grad: 237666.8438  LR: 0.00001778  \n",
      "Epoch: [3][80/366] Elapsed 0m 41s (remain 2m 27s) Loss: 0.0791(0.0860) Grad: 186355.7188  LR: 0.00001767  \n",
      "Epoch: [3][100/366] Elapsed 0m 52s (remain 2m 17s) Loss: 0.0603(0.0856) Grad: 101556.1641  LR: 0.00001756  \n",
      "Epoch: [3][120/366] Elapsed 1m 2s (remain 2m 6s) Loss: 0.0771(0.0854) Grad: 147331.4688  LR: 0.00001745  \n",
      "Epoch: [3][140/366] Elapsed 1m 12s (remain 1m 55s) Loss: 0.0978(0.0856) Grad: 186969.0312  LR: 0.00001733  \n",
      "Epoch: [3][160/366] Elapsed 1m 22s (remain 1m 45s) Loss: 0.1540(0.0854) Grad: 424876.4062  LR: 0.00001721  \n",
      "Epoch: [3][180/366] Elapsed 1m 32s (remain 1m 34s) Loss: 0.0715(0.0866) Grad: 245142.3281  LR: 0.00001709  \n",
      "Epoch: [3][200/366] Elapsed 1m 42s (remain 1m 24s) Loss: 0.0676(0.0870) Grad: 74084.8672  LR: 0.00001697  \n",
      "Epoch: [3][220/366] Elapsed 1m 53s (remain 1m 14s) Loss: 0.0903(0.0867) Grad: 237927.0312  LR: 0.00001685  \n",
      "Epoch: [3][240/366] Elapsed 2m 3s (remain 1m 4s) Loss: 0.1128(0.0875) Grad: 132777.7812  LR: 0.00001672  \n",
      "Epoch: [3][260/366] Elapsed 2m 13s (remain 0m 53s) Loss: 0.0884(0.0880) Grad: 178096.0469  LR: 0.00001659  \n",
      "Epoch: [3][280/366] Elapsed 2m 23s (remain 0m 43s) Loss: 0.0768(0.0877) Grad: 126057.1562  LR: 0.00001646  \n",
      "Epoch: [3][300/366] Elapsed 2m 33s (remain 0m 33s) Loss: 0.0864(0.0872) Grad: 179364.1719  LR: 0.00001633  \n",
      "Epoch: [3][320/366] Elapsed 2m 43s (remain 0m 22s) Loss: 0.0976(0.0875) Grad: 116090.5469  LR: 0.00001620  \n",
      "Epoch: [3][340/366] Elapsed 2m 54s (remain 0m 12s) Loss: 0.0696(0.0875) Grad: 203100.6875  LR: 0.00001606  \n",
      "Epoch: [3][360/366] Elapsed 3m 4s (remain 0m 2s) Loss: 0.1039(0.0877) Grad: 133100.1875  LR: 0.00001592  \n",
      "Epoch: [3][365/366] Elapsed 3m 6s (remain 0m 0s) Loss: 0.0760(0.0876) Grad: 185866.9375  LR: 0.00001589  \n",
      "EVAL: [0/62] Elapsed 0m 0s (remain 0m 47s) Loss: 0.1372(0.1372) \n",
      "EVAL: [20/62] Elapsed 0m 11s (remain 0m 23s) Loss: 0.0873(0.1138) \n",
      "EVAL: [40/62] Elapsed 0m 23s (remain 0m 11s) Loss: 0.1150(0.1156) \n"
     ]
    },
    {
     "name": "stderr",
     "output_type": "stream",
     "text": [
      "Epoch 3 - avg_train_loss: 0.0876  avg_val_loss: 0.1144  time: 222s\n",
      "Epoch 3 - Score: 0.4798  Scores: [0.5204718460161802, 0.4654144439189659, 0.43028477697027817, 0.48761707259795223, 0.5092405153210483, 0.4656812054815574]\n",
      "Epoch 3 - Save Best Score: 0.4798 Model\n"
     ]
    },
    {
     "name": "stdout",
     "output_type": "stream",
     "text": [
      "EVAL: [60/62] Elapsed 0m 34s (remain 0m 0s) Loss: 0.0895(0.1143) \n",
      "EVAL: [61/62] Elapsed 0m 34s (remain 0m 0s) Loss: 0.1699(0.1144) \n",
      "Epoch: [4][0/366] Elapsed 0m 0s (remain 4m 55s) Loss: 0.0815(0.0815) Grad: 147420.6406  LR: 0.00001588  \n",
      "Epoch: [4][20/366] Elapsed 0m 10s (remain 2m 57s) Loss: 0.0880(0.0778) Grad: 292602.1875  LR: 0.00001574  \n",
      "Epoch: [4][40/366] Elapsed 0m 21s (remain 2m 46s) Loss: 0.0692(0.0771) Grad: 97544.0391  LR: 0.00001560  \n",
      "Epoch: [4][60/366] Elapsed 0m 31s (remain 2m 36s) Loss: 0.0507(0.0759) Grad: 129470.1797  LR: 0.00001546  \n",
      "Epoch: [4][80/366] Elapsed 0m 41s (remain 2m 26s) Loss: 0.0558(0.0762) Grad: 115954.4766  LR: 0.00001532  \n",
      "Epoch: [4][100/366] Elapsed 0m 51s (remain 2m 16s) Loss: 0.0551(0.0756) Grad: 112814.6484  LR: 0.00001517  \n",
      "Epoch: [4][120/366] Elapsed 1m 2s (remain 2m 5s) Loss: 0.0794(0.0756) Grad: 181358.9531  LR: 0.00001502  \n",
      "Epoch: [4][140/366] Elapsed 1m 12s (remain 1m 55s) Loss: 0.0534(0.0751) Grad: 92191.5000  LR: 0.00001487  \n",
      "Epoch: [4][160/366] Elapsed 1m 22s (remain 1m 44s) Loss: 0.0825(0.0761) Grad: 116332.5078  LR: 0.00001472  \n",
      "Epoch: [4][180/366] Elapsed 1m 32s (remain 1m 34s) Loss: 0.0962(0.0764) Grad: 158108.0469  LR: 0.00001457  \n",
      "Epoch: [4][200/366] Elapsed 1m 42s (remain 1m 24s) Loss: 0.0693(0.0762) Grad: 301276.5000  LR: 0.00001442  \n",
      "Epoch: [4][220/366] Elapsed 1m 52s (remain 1m 14s) Loss: 0.0567(0.0764) Grad: 71237.2578  LR: 0.00001426  \n",
      "Epoch: [4][240/366] Elapsed 2m 3s (remain 1m 3s) Loss: 0.0820(0.0762) Grad: 131712.7656  LR: 0.00001411  \n",
      "Epoch: [4][260/366] Elapsed 2m 13s (remain 0m 53s) Loss: 0.0758(0.0756) Grad: 233306.8125  LR: 0.00001395  \n",
      "Epoch: [4][280/366] Elapsed 2m 23s (remain 0m 43s) Loss: 0.0660(0.0752) Grad: 170365.2969  LR: 0.00001379  \n",
      "Epoch: [4][300/366] Elapsed 2m 33s (remain 0m 33s) Loss: 0.0592(0.0752) Grad: 142946.9531  LR: 0.00001363  \n",
      "Epoch: [4][320/366] Elapsed 2m 43s (remain 0m 22s) Loss: 0.0615(0.0750) Grad: 81354.3281  LR: 0.00001347  \n",
      "Epoch: [4][340/366] Elapsed 2m 53s (remain 0m 12s) Loss: 0.0788(0.0751) Grad: 164599.0156  LR: 0.00001331  \n",
      "Epoch: [4][360/366] Elapsed 3m 4s (remain 0m 2s) Loss: 0.0628(0.0752) Grad: 181924.3906  LR: 0.00001315  \n",
      "Epoch: [4][365/366] Elapsed 3m 6s (remain 0m 0s) Loss: 0.0804(0.0751) Grad: 209649.4844  LR: 0.00001311  \n",
      "EVAL: [0/62] Elapsed 0m 0s (remain 0m 46s) Loss: 0.1472(0.1472) \n",
      "EVAL: [20/62] Elapsed 0m 12s (remain 0m 23s) Loss: 0.0831(0.1187) \n",
      "EVAL: [40/62] Elapsed 0m 23s (remain 0m 11s) Loss: 0.1229(0.1206) \n"
     ]
    },
    {
     "name": "stderr",
     "output_type": "stream",
     "text": [
      "Epoch 4 - avg_train_loss: 0.0751  avg_val_loss: 0.1177  time: 222s\n",
      "Epoch 4 - Score: 0.4871  Scores: [0.5183228195177189, 0.4655471070017468, 0.4398818529395138, 0.5118700811526293, 0.5150434202085511, 0.47166978213390764]\n"
     ]
    },
    {
     "name": "stdout",
     "output_type": "stream",
     "text": [
      "EVAL: [60/62] Elapsed 0m 34s (remain 0m 0s) Loss: 0.0839(0.1176) \n",
      "EVAL: [61/62] Elapsed 0m 34s (remain 0m 0s) Loss: 0.1793(0.1177) \n",
      "Epoch: [5][0/366] Elapsed 0m 0s (remain 4m 24s) Loss: 0.0713(0.0713) Grad: 113880.9766  LR: 0.00001310  \n",
      "Epoch: [5][20/366] Elapsed 0m 10s (remain 2m 58s) Loss: 0.0495(0.0690) Grad: 191140.1406  LR: 0.00001294  \n",
      "Epoch: [5][40/366] Elapsed 0m 21s (remain 2m 47s) Loss: 0.0478(0.0668) Grad: 93084.8906  LR: 0.00001277  \n",
      "Epoch: [5][60/366] Elapsed 0m 31s (remain 2m 36s) Loss: 0.0425(0.0658) Grad: 128064.0547  LR: 0.00001261  \n",
      "Epoch: [5][80/366] Elapsed 0m 41s (remain 2m 25s) Loss: 0.0839(0.0652) Grad: 330560.3438  LR: 0.00001244  \n",
      "Epoch: [5][100/366] Elapsed 0m 51s (remain 2m 15s) Loss: 0.0529(0.0659) Grad: 172275.6406  LR: 0.00001228  \n",
      "Epoch: [5][120/366] Elapsed 1m 1s (remain 2m 5s) Loss: 0.0711(0.0654) Grad: 153811.2812  LR: 0.00001211  \n",
      "Epoch: [5][140/366] Elapsed 1m 11s (remain 1m 54s) Loss: 0.0880(0.0647) Grad: 237943.2500  LR: 0.00001194  \n",
      "Epoch: [5][160/366] Elapsed 1m 22s (remain 1m 44s) Loss: 0.0433(0.0648) Grad: 71064.7812  LR: 0.00001177  \n",
      "Epoch: [5][180/366] Elapsed 1m 32s (remain 1m 34s) Loss: 0.0402(0.0644) Grad: 194060.5938  LR: 0.00001160  \n",
      "Epoch: [5][200/366] Elapsed 1m 42s (remain 1m 24s) Loss: 0.0633(0.0647) Grad: 288360.9062  LR: 0.00001143  \n",
      "Epoch: [5][220/366] Elapsed 1m 52s (remain 1m 13s) Loss: 0.0494(0.0648) Grad: 154276.1094  LR: 0.00001126  \n",
      "Epoch: [5][240/366] Elapsed 2m 2s (remain 1m 3s) Loss: 0.0487(0.0645) Grad: 109320.3828  LR: 0.00001109  \n",
      "Epoch: [5][260/366] Elapsed 2m 12s (remain 0m 53s) Loss: 0.0783(0.0645) Grad: 168495.6719  LR: 0.00001092  \n",
      "Epoch: [5][280/366] Elapsed 2m 23s (remain 0m 43s) Loss: 0.0843(0.0644) Grad: 146474.0781  LR: 0.00001075  \n",
      "Epoch: [5][300/366] Elapsed 2m 33s (remain 0m 33s) Loss: 0.0940(0.0645) Grad: 149828.3594  LR: 0.00001058  \n",
      "Epoch: [5][320/366] Elapsed 2m 43s (remain 0m 22s) Loss: 0.0657(0.0642) Grad: 187412.3906  LR: 0.00001041  \n",
      "Epoch: [5][340/366] Elapsed 2m 53s (remain 0m 12s) Loss: 0.0508(0.0641) Grad: 125519.1562  LR: 0.00001024  \n",
      "Epoch: [5][360/366] Elapsed 3m 3s (remain 0m 2s) Loss: 0.0855(0.0639) Grad: 156940.6406  LR: 0.00001007  \n",
      "Epoch: [5][365/366] Elapsed 3m 6s (remain 0m 0s) Loss: 0.0683(0.0639) Grad: 156318.7031  LR: 0.00001003  \n",
      "EVAL: [0/62] Elapsed 0m 0s (remain 0m 46s) Loss: 0.1453(0.1453) \n",
      "EVAL: [20/62] Elapsed 0m 11s (remain 0m 23s) Loss: 0.0859(0.1189) \n",
      "EVAL: [40/62] Elapsed 0m 23s (remain 0m 11s) Loss: 0.1429(0.1219) \n"
     ]
    },
    {
     "name": "stderr",
     "output_type": "stream",
     "text": [
      "Epoch 5 - avg_train_loss: 0.0639  avg_val_loss: 0.1194  time: 221s\n",
      "Epoch 5 - Score: 0.4909  Scores: [0.5132482986233844, 0.4784215306981792, 0.43927525857918887, 0.5089819092420719, 0.5229260762645844, 0.482503785471932]\n"
     ]
    },
    {
     "name": "stdout",
     "output_type": "stream",
     "text": [
      "EVAL: [60/62] Elapsed 0m 34s (remain 0m 0s) Loss: 0.0965(0.1193) \n",
      "EVAL: [61/62] Elapsed 0m 34s (remain 0m 0s) Loss: 0.1729(0.1194) \n",
      "Epoch: [6][0/366] Elapsed 0m 0s (remain 4m 21s) Loss: 0.0574(0.0574) Grad: 126642.0781  LR: 0.00001002  \n",
      "Epoch: [6][20/366] Elapsed 0m 10s (remain 2m 58s) Loss: 0.0453(0.0524) Grad: 102914.0312  LR: 0.00000985  \n",
      "Epoch: [6][40/366] Elapsed 0m 21s (remain 2m 46s) Loss: 0.0674(0.0560) Grad: 133666.6875  LR: 0.00000967  \n",
      "Epoch: [6][60/366] Elapsed 0m 31s (remain 2m 35s) Loss: 0.0512(0.0567) Grad: 80344.8594  LR: 0.00000950  \n",
      "Epoch: [6][80/366] Elapsed 0m 41s (remain 2m 25s) Loss: 0.0637(0.0575) Grad: 160777.3750  LR: 0.00000933  \n",
      "Epoch: [6][100/366] Elapsed 0m 51s (remain 2m 15s) Loss: 0.0444(0.0573) Grad: 137444.3750  LR: 0.00000916  \n",
      "Epoch: [6][120/366] Elapsed 1m 1s (remain 2m 4s) Loss: 0.0673(0.0566) Grad: 115868.7266  LR: 0.00000899  \n",
      "Epoch: [6][140/366] Elapsed 1m 11s (remain 1m 54s) Loss: 0.0411(0.0567) Grad: 102780.4219  LR: 0.00000882  \n",
      "Epoch: [6][160/366] Elapsed 1m 21s (remain 1m 44s) Loss: 0.0540(0.0561) Grad: 87247.9609  LR: 0.00000865  \n",
      "Epoch: [6][180/366] Elapsed 1m 32s (remain 1m 34s) Loss: 0.0831(0.0561) Grad: 231763.0781  LR: 0.00000848  \n",
      "Epoch: [6][200/366] Elapsed 1m 42s (remain 1m 24s) Loss: 0.0539(0.0562) Grad: 99643.8594  LR: 0.00000831  \n",
      "Epoch: [6][220/366] Elapsed 1m 52s (remain 1m 13s) Loss: 0.0710(0.0564) Grad: 190405.2969  LR: 0.00000814  \n",
      "Epoch: [6][240/366] Elapsed 2m 2s (remain 1m 3s) Loss: 0.0687(0.0566) Grad: 232845.1562  LR: 0.00000797  \n",
      "Epoch: [6][260/366] Elapsed 2m 12s (remain 0m 53s) Loss: 0.0533(0.0564) Grad: 118615.4453  LR: 0.00000781  \n",
      "Epoch: [6][280/366] Elapsed 2m 23s (remain 0m 43s) Loss: 0.0493(0.0562) Grad: 184557.3125  LR: 0.00000764  \n",
      "Epoch: [6][300/366] Elapsed 2m 33s (remain 0m 33s) Loss: 0.0777(0.0560) Grad: 154143.1719  LR: 0.00000747  \n",
      "Epoch: [6][320/366] Elapsed 2m 43s (remain 0m 22s) Loss: 0.0493(0.0554) Grad: 123714.3047  LR: 0.00000731  \n",
      "Epoch: [6][340/366] Elapsed 2m 53s (remain 0m 12s) Loss: 0.0666(0.0556) Grad: 163884.7031  LR: 0.00000714  \n",
      "Epoch: [6][360/366] Elapsed 3m 3s (remain 0m 2s) Loss: 0.0447(0.0558) Grad: 100036.2969  LR: 0.00000698  \n",
      "Epoch: [6][365/366] Elapsed 3m 6s (remain 0m 0s) Loss: 0.0665(0.0557) Grad: 238286.1250  LR: 0.00000694  \n",
      "EVAL: [0/62] Elapsed 0m 0s (remain 0m 47s) Loss: 0.1404(0.1404) \n",
      "EVAL: [20/62] Elapsed 0m 11s (remain 0m 23s) Loss: 0.0897(0.1186) \n",
      "EVAL: [40/62] Elapsed 0m 23s (remain 0m 11s) Loss: 0.1296(0.1218) \n"
     ]
    },
    {
     "name": "stderr",
     "output_type": "stream",
     "text": [
      "Epoch 6 - avg_train_loss: 0.0557  avg_val_loss: 0.1197  time: 221s\n",
      "Epoch 6 - Score: 0.4915  Scores: [0.5180753633121948, 0.47150298684342007, 0.44491523390139565, 0.5126542397747577, 0.5249126716619521, 0.4770548909413311]\n"
     ]
    },
    {
     "name": "stdout",
     "output_type": "stream",
     "text": [
      "EVAL: [60/62] Elapsed 0m 34s (remain 0m 0s) Loss: 0.0926(0.1196) \n",
      "EVAL: [61/62] Elapsed 0m 34s (remain 0m 0s) Loss: 0.1730(0.1197) \n"
     ]
    },
    {
     "name": "stderr",
     "output_type": "stream",
     "text": [
      "========== fold: 2 result ==========\n",
      "Score: 0.4798  Scores: [0.5204718460161802, 0.4654144439189659, 0.43028477697027817, 0.48761707259795223, 0.5092405153210483, 0.4656812054815574]\n",
      "========== fold: 3 training ==========\n",
      "XLMRobertaConfig {\n",
      "  \"_name_or_path\": \"/home/jupyter/models/xlm/xlm-roberta-base-squad2/\",\n",
      "  \"architectures\": [\n",
      "    \"XLMRobertaForQuestionAnswering\"\n",
      "  ],\n",
      "  \"attention_dropout\": 0.0,\n",
      "  \"attention_probs_dropout_prob\": 0.0,\n",
      "  \"bos_token_id\": 0,\n",
      "  \"classifier_dropout\": null,\n",
      "  \"eos_token_id\": 2,\n",
      "  \"gradient_checkpointing\": false,\n",
      "  \"hidden_act\": \"gelu\",\n",
      "  \"hidden_dropout\": 0.0,\n",
      "  \"hidden_dropout_prob\": 0.0,\n",
      "  \"hidden_size\": 768,\n",
      "  \"initializer_range\": 0.02,\n",
      "  \"intermediate_size\": 3072,\n",
      "  \"language\": \"english\",\n",
      "  \"layer_norm_eps\": 1e-05,\n",
      "  \"max_position_embeddings\": 514,\n",
      "  \"model_type\": \"xlm-roberta\",\n",
      "  \"name\": \"XLMRoberta\",\n",
      "  \"num_attention_heads\": 12,\n",
      "  \"num_hidden_layers\": 12,\n",
      "  \"output_hidden_states\": true,\n",
      "  \"output_past\": true,\n",
      "  \"pad_token_id\": 1,\n",
      "  \"position_embedding_type\": \"absolute\",\n",
      "  \"transformers_version\": \"4.21.2\",\n",
      "  \"type_vocab_size\": 1,\n",
      "  \"use_cache\": true,\n",
      "  \"vocab_size\": 250002\n",
      "}\n",
      "\n",
      "Some weights of the model checkpoint at /home/jupyter/models/xlm/xlm-roberta-base-squad2/ were not used when initializing XLMRobertaModel: ['qa_outputs.bias', 'qa_outputs.weight']\n",
      "- This IS expected if you are initializing XLMRobertaModel from the checkpoint of a model trained on another task or with another architecture (e.g. initializing a BertForSequenceClassification model from a BertForPreTraining model).\n",
      "- This IS NOT expected if you are initializing XLMRobertaModel from the checkpoint of a model that you expect to be exactly identical (initializing a BertForSequenceClassification model from a BertForSequenceClassification model).\n",
      "Some weights of XLMRobertaModel were not initialized from the model checkpoint at /home/jupyter/models/xlm/xlm-roberta-base-squad2/ and are newly initialized: ['roberta.pooler.dense.bias', 'roberta.pooler.dense.weight']\n",
      "You should probably TRAIN this model on a down-stream task to be able to use it for predictions and inference.\n"
     ]
    },
    {
     "name": "stdout",
     "output_type": "stream",
     "text": [
      "Epoch: [1][0/366] Elapsed 0m 0s (remain 4m 50s) Loss: 2.3478(2.3478) Grad: 798368.2500  LR: 0.00002000  \n",
      "Epoch: [1][20/366] Elapsed 0m 10s (remain 2m 57s) Loss: 0.1666(1.1970) Grad: 163717.3438  LR: 0.00002000  \n",
      "Epoch: [1][40/366] Elapsed 0m 20s (remain 2m 45s) Loss: 0.2215(0.7091) Grad: 185642.8594  LR: 0.00001999  \n",
      "Epoch: [1][60/366] Elapsed 0m 30s (remain 2m 34s) Loss: 0.4303(0.5643) Grad: 405675.9688  LR: 0.00001999  \n",
      "Epoch: [1][80/366] Elapsed 0m 41s (remain 2m 24s) Loss: 0.1857(0.4801) Grad: 104928.1328  LR: 0.00001998  \n",
      "Epoch: [1][100/366] Elapsed 0m 51s (remain 2m 14s) Loss: 0.1493(0.4154) Grad: 106364.3828  LR: 0.00001996  \n",
      "Epoch: [1][120/366] Elapsed 1m 1s (remain 2m 4s) Loss: 0.2190(0.3733) Grad: 158426.9219  LR: 0.00001995  \n",
      "Epoch: [1][140/366] Elapsed 1m 11s (remain 1m 54s) Loss: 0.1145(0.3477) Grad: 117327.3203  LR: 0.00001993  \n",
      "Epoch: [1][160/366] Elapsed 1m 21s (remain 1m 44s) Loss: 0.1699(0.3219) Grad: 77936.5859  LR: 0.00001990  \n",
      "Epoch: [1][180/366] Elapsed 1m 31s (remain 1m 33s) Loss: 0.1684(0.3017) Grad: 72001.2344  LR: 0.00001988  \n",
      "Epoch: [1][200/366] Elapsed 1m 41s (remain 1m 23s) Loss: 0.0829(0.2858) Grad: 53950.5547  LR: 0.00001985  \n",
      "Epoch: [1][220/366] Elapsed 1m 52s (remain 1m 13s) Loss: 0.1459(0.2706) Grad: 78144.3516  LR: 0.00001982  \n",
      "Epoch: [1][240/366] Elapsed 2m 2s (remain 1m 3s) Loss: 0.1166(0.2591) Grad: 76737.8203  LR: 0.00001979  \n",
      "Epoch: [1][260/366] Elapsed 2m 12s (remain 0m 53s) Loss: 0.0917(0.2489) Grad: 37272.0195  LR: 0.00001975  \n",
      "Epoch: [1][280/366] Elapsed 2m 22s (remain 0m 43s) Loss: 0.0901(0.2408) Grad: 26313.4648  LR: 0.00001971  \n",
      "Epoch: [1][300/366] Elapsed 2m 32s (remain 0m 32s) Loss: 0.1404(0.2337) Grad: 73859.9609  LR: 0.00001967  \n",
      "Epoch: [1][320/366] Elapsed 2m 42s (remain 0m 22s) Loss: 0.1083(0.2270) Grad: 36525.5000  LR: 0.00001962  \n",
      "Epoch: [1][340/366] Elapsed 2m 53s (remain 0m 12s) Loss: 0.1680(0.2219) Grad: 49489.7773  LR: 0.00001958  \n",
      "Epoch: [1][360/366] Elapsed 3m 3s (remain 0m 2s) Loss: 0.1351(0.2171) Grad: 60421.4844  LR: 0.00001953  \n",
      "Epoch: [1][365/366] Elapsed 3m 5s (remain 0m 0s) Loss: 0.0974(0.2160) Grad: 57200.7656  LR: 0.00001951  \n",
      "EVAL: [0/62] Elapsed 0m 0s (remain 0m 48s) Loss: 0.1586(0.1586) \n",
      "EVAL: [20/62] Elapsed 0m 12s (remain 0m 23s) Loss: 0.1004(0.1248) \n",
      "EVAL: [40/62] Elapsed 0m 23s (remain 0m 11s) Loss: 0.1060(0.1244) \n"
     ]
    },
    {
     "name": "stderr",
     "output_type": "stream",
     "text": [
      "Epoch 1 - avg_train_loss: 0.2160  avg_val_loss: 0.1240  time: 220s\n",
      "Epoch 1 - Score: 0.5012  Scores: [0.5015145222234854, 0.5200750995565728, 0.4595315468057735, 0.48854198633840423, 0.5309749565033188, 0.5067543295620381]\n",
      "Epoch 1 - Save Best Score: 0.5012 Model\n"
     ]
    },
    {
     "name": "stdout",
     "output_type": "stream",
     "text": [
      "EVAL: [60/62] Elapsed 0m 34s (remain 0m 0s) Loss: 0.1072(0.1241) \n",
      "EVAL: [61/62] Elapsed 0m 34s (remain 0m 0s) Loss: 0.0615(0.1240) \n",
      "Epoch: [2][0/366] Elapsed 0m 0s (remain 5m 0s) Loss: 0.1231(0.1231) Grad: 178168.4844  LR: 0.00001951  \n",
      "Epoch: [2][20/366] Elapsed 0m 11s (remain 3m 1s) Loss: 0.0920(0.1115) Grad: 179644.7500  LR: 0.00001946  \n",
      "Epoch: [2][40/366] Elapsed 0m 21s (remain 2m 47s) Loss: 0.1002(0.1090) Grad: 148875.0938  LR: 0.00001940  \n",
      "Epoch: [2][60/366] Elapsed 0m 31s (remain 2m 36s) Loss: 0.1130(0.1123) Grad: 154606.7031  LR: 0.00001934  \n",
      "Epoch: [2][80/366] Elapsed 0m 41s (remain 2m 25s) Loss: 0.1259(0.1140) Grad: 120434.2188  LR: 0.00001928  \n",
      "Epoch: [2][100/366] Elapsed 0m 51s (remain 2m 15s) Loss: 0.0753(0.1196) Grad: 64777.7148  LR: 0.00001921  \n",
      "Epoch: [2][120/366] Elapsed 1m 1s (remain 2m 4s) Loss: 0.1597(0.1170) Grad: 134482.9375  LR: 0.00001914  \n",
      "Epoch: [2][140/366] Elapsed 1m 11s (remain 1m 54s) Loss: 0.0692(0.1146) Grad: 54361.0859  LR: 0.00001907  \n",
      "Epoch: [2][160/366] Elapsed 1m 21s (remain 1m 44s) Loss: 0.0760(0.1140) Grad: 162610.7500  LR: 0.00001900  \n",
      "Epoch: [2][180/366] Elapsed 1m 32s (remain 1m 34s) Loss: 0.0840(0.1134) Grad: 170854.5000  LR: 0.00001892  \n",
      "Epoch: [2][200/366] Elapsed 1m 42s (remain 1m 23s) Loss: 0.1762(0.1132) Grad: 184963.5938  LR: 0.00001884  \n",
      "Epoch: [2][220/366] Elapsed 1m 52s (remain 1m 13s) Loss: 0.0742(0.1130) Grad: 99253.9375  LR: 0.00001876  \n",
      "Epoch: [2][240/366] Elapsed 2m 2s (remain 1m 3s) Loss: 0.0645(0.1117) Grad: 49913.7031  LR: 0.00001868  \n",
      "Epoch: [2][260/366] Elapsed 2m 12s (remain 0m 53s) Loss: 0.0668(0.1115) Grad: 43916.9688  LR: 0.00001859  \n",
      "Epoch: [2][280/366] Elapsed 2m 22s (remain 0m 43s) Loss: 0.0809(0.1111) Grad: 143123.8750  LR: 0.00001850  \n",
      "Epoch: [2][300/366] Elapsed 2m 33s (remain 0m 33s) Loss: 0.1268(0.1108) Grad: 118742.7500  LR: 0.00001841  \n",
      "Epoch: [2][320/366] Elapsed 2m 43s (remain 0m 22s) Loss: 0.1271(0.1107) Grad: 244400.5312  LR: 0.00001832  \n",
      "Epoch: [2][340/366] Elapsed 2m 53s (remain 0m 12s) Loss: 0.0938(0.1105) Grad: 167359.1875  LR: 0.00001822  \n",
      "Epoch: [2][360/366] Elapsed 3m 3s (remain 0m 2s) Loss: 0.1332(0.1098) Grad: 201251.2188  LR: 0.00001812  \n",
      "Epoch: [2][365/366] Elapsed 3m 6s (remain 0m 0s) Loss: 0.1160(0.1099) Grad: 139352.3906  LR: 0.00001810  \n",
      "EVAL: [0/62] Elapsed 0m 1s (remain 1m 3s) Loss: 0.1671(0.1671) \n",
      "EVAL: [20/62] Elapsed 0m 12s (remain 0m 24s) Loss: 0.0831(0.1268) \n",
      "EVAL: [40/62] Elapsed 0m 23s (remain 0m 12s) Loss: 0.1394(0.1274) \n"
     ]
    },
    {
     "name": "stderr",
     "output_type": "stream",
     "text": [
      "Epoch 2 - avg_train_loss: 0.1099  avg_val_loss: 0.1243  time: 221s\n",
      "Epoch 2 - Score: 0.5009  Scores: [0.54674108722409, 0.5034427756288105, 0.45645056434001413, 0.47069646031455065, 0.5610125928266048, 0.46722444282890785]\n",
      "Epoch 2 - Save Best Score: 0.5009 Model\n"
     ]
    },
    {
     "name": "stdout",
     "output_type": "stream",
     "text": [
      "EVAL: [60/62] Elapsed 0m 34s (remain 0m 0s) Loss: 0.1154(0.1245) \n",
      "EVAL: [61/62] Elapsed 0m 34s (remain 0m 0s) Loss: 0.0541(0.1243) \n",
      "Epoch: [3][0/366] Elapsed 0m 0s (remain 4m 47s) Loss: 0.1124(0.1124) Grad: 339798.7812  LR: 0.00001809  \n",
      "Epoch: [3][20/366] Elapsed 0m 10s (remain 2m 57s) Loss: 0.0901(0.0999) Grad: 96910.6016  LR: 0.00001799  \n",
      "Epoch: [3][40/366] Elapsed 0m 21s (remain 2m 47s) Loss: 0.0519(0.0928) Grad: 164865.9531  LR: 0.00001789  \n",
      "Epoch: [3][60/366] Elapsed 0m 31s (remain 2m 37s) Loss: 0.0812(0.0905) Grad: 187288.3906  LR: 0.00001778  \n",
      "Epoch: [3][80/366] Elapsed 0m 41s (remain 2m 27s) Loss: 0.1234(0.0912) Grad: 190301.2656  LR: 0.00001767  \n",
      "Epoch: [3][100/366] Elapsed 0m 52s (remain 2m 16s) Loss: 0.1118(0.0886) Grad: 309752.8750  LR: 0.00001756  \n",
      "Epoch: [3][120/366] Elapsed 1m 2s (remain 2m 5s) Loss: 0.1287(0.0894) Grad: 229427.0625  LR: 0.00001745  \n",
      "Epoch: [3][140/366] Elapsed 1m 12s (remain 1m 55s) Loss: 0.1131(0.0899) Grad: 233248.5938  LR: 0.00001733  \n",
      "Epoch: [3][160/366] Elapsed 1m 22s (remain 1m 45s) Loss: 0.0509(0.0889) Grad: 185496.5938  LR: 0.00001721  \n",
      "Epoch: [3][180/366] Elapsed 1m 32s (remain 1m 34s) Loss: 0.0786(0.0890) Grad: 219797.5938  LR: 0.00001709  \n",
      "Epoch: [3][200/366] Elapsed 1m 42s (remain 1m 24s) Loss: 0.0457(0.0888) Grad: 224391.5781  LR: 0.00001697  \n",
      "Epoch: [3][220/366] Elapsed 1m 52s (remain 1m 14s) Loss: 0.1349(0.0894) Grad: 173798.2344  LR: 0.00001685  \n",
      "Epoch: [3][240/366] Elapsed 2m 3s (remain 1m 3s) Loss: 0.0823(0.0887) Grad: 170572.5625  LR: 0.00001672  \n",
      "Epoch: [3][260/366] Elapsed 2m 13s (remain 0m 53s) Loss: 0.0971(0.0886) Grad: 318683.0625  LR: 0.00001659  \n",
      "Epoch: [3][280/366] Elapsed 2m 23s (remain 0m 43s) Loss: 0.1402(0.0886) Grad: 490602.2500  LR: 0.00001646  \n",
      "Epoch: [3][300/366] Elapsed 2m 33s (remain 0m 33s) Loss: 0.0469(0.0879) Grad: 84715.1797  LR: 0.00001633  \n",
      "Epoch: [3][320/366] Elapsed 2m 43s (remain 0m 22s) Loss: 0.0931(0.0873) Grad: 185556.6406  LR: 0.00001620  \n",
      "Epoch: [3][340/366] Elapsed 2m 53s (remain 0m 12s) Loss: 0.0644(0.0878) Grad: 134305.0625  LR: 0.00001606  \n",
      "Epoch: [3][360/366] Elapsed 3m 4s (remain 0m 2s) Loss: 0.0715(0.0877) Grad: 110665.8047  LR: 0.00001592  \n",
      "Epoch: [3][365/366] Elapsed 3m 6s (remain 0m 0s) Loss: 0.1315(0.0880) Grad: 272066.7188  LR: 0.00001589  \n",
      "EVAL: [0/62] Elapsed 0m 0s (remain 0m 48s) Loss: 0.1456(0.1456) \n",
      "EVAL: [20/62] Elapsed 0m 12s (remain 0m 23s) Loss: 0.0717(0.1114) \n",
      "EVAL: [40/62] Elapsed 0m 23s (remain 0m 11s) Loss: 0.1300(0.1109) \n"
     ]
    },
    {
     "name": "stderr",
     "output_type": "stream",
     "text": [
      "Epoch 3 - avg_train_loss: 0.0880  avg_val_loss: 0.1107  time: 221s\n",
      "Epoch 3 - Score: 0.4724  Scores: [0.5031477241189198, 0.4564600801724499, 0.42877458199540763, 0.45687109878035853, 0.5036157594595347, 0.48558993220944024]\n",
      "Epoch 3 - Save Best Score: 0.4724 Model\n"
     ]
    },
    {
     "name": "stdout",
     "output_type": "stream",
     "text": [
      "EVAL: [60/62] Elapsed 0m 34s (remain 0m 0s) Loss: 0.0922(0.1108) \n",
      "EVAL: [61/62] Elapsed 0m 34s (remain 0m 0s) Loss: 0.0568(0.1107) \n",
      "Epoch: [4][0/366] Elapsed 0m 0s (remain 4m 44s) Loss: 0.0667(0.0667) Grad: 162385.6406  LR: 0.00001588  \n",
      "Epoch: [4][20/366] Elapsed 0m 10s (remain 2m 57s) Loss: 0.0628(0.0752) Grad: 141099.9375  LR: 0.00001574  \n",
      "Epoch: [4][40/366] Elapsed 0m 21s (remain 2m 46s) Loss: 0.0620(0.0734) Grad: 172179.7656  LR: 0.00001560  \n",
      "Epoch: [4][60/366] Elapsed 0m 31s (remain 2m 37s) Loss: 0.0878(0.0739) Grad: 204544.7656  LR: 0.00001546  \n",
      "Epoch: [4][80/366] Elapsed 0m 41s (remain 2m 27s) Loss: 0.0756(0.0738) Grad: 158783.8750  LR: 0.00001532  \n",
      "Epoch: [4][100/366] Elapsed 0m 52s (remain 2m 16s) Loss: 0.0538(0.0737) Grad: 130351.9375  LR: 0.00001517  \n",
      "Epoch: [4][120/366] Elapsed 1m 2s (remain 2m 6s) Loss: 0.0776(0.0734) Grad: 204583.3281  LR: 0.00001502  \n",
      "Epoch: [4][140/366] Elapsed 1m 12s (remain 1m 55s) Loss: 0.0618(0.0739) Grad: 99615.4844  LR: 0.00001487  \n",
      "Epoch: [4][160/366] Elapsed 1m 22s (remain 1m 44s) Loss: 0.0657(0.0743) Grad: 251962.6406  LR: 0.00001472  \n",
      "Epoch: [4][180/366] Elapsed 1m 32s (remain 1m 34s) Loss: 0.0669(0.0740) Grad: 173474.9062  LR: 0.00001457  \n",
      "Epoch: [4][200/366] Elapsed 1m 42s (remain 1m 24s) Loss: 0.1016(0.0738) Grad: 197308.5156  LR: 0.00001442  \n",
      "Epoch: [4][220/366] Elapsed 1m 52s (remain 1m 14s) Loss: 0.0514(0.0739) Grad: 202593.3594  LR: 0.00001426  \n",
      "Epoch: [4][240/366] Elapsed 2m 3s (remain 1m 3s) Loss: 0.0835(0.0739) Grad: 436166.0938  LR: 0.00001411  \n",
      "Epoch: [4][260/366] Elapsed 2m 13s (remain 0m 53s) Loss: 0.0458(0.0735) Grad: 156941.0156  LR: 0.00001395  \n",
      "Epoch: [4][280/366] Elapsed 2m 23s (remain 0m 43s) Loss: 0.0984(0.0738) Grad: 263026.3438  LR: 0.00001379  \n",
      "Epoch: [4][300/366] Elapsed 2m 33s (remain 0m 33s) Loss: 0.0812(0.0739) Grad: 145377.6406  LR: 0.00001363  \n",
      "Epoch: [4][320/366] Elapsed 2m 43s (remain 0m 22s) Loss: 0.0732(0.0736) Grad: 316015.5000  LR: 0.00001347  \n",
      "Epoch: [4][340/366] Elapsed 2m 54s (remain 0m 12s) Loss: 0.0910(0.0737) Grad: 256591.7656  LR: 0.00001331  \n",
      "Epoch: [4][360/366] Elapsed 3m 4s (remain 0m 2s) Loss: 0.0891(0.0741) Grad: 251197.2500  LR: 0.00001315  \n",
      "Epoch: [4][365/366] Elapsed 3m 6s (remain 0m 0s) Loss: 0.0640(0.0740) Grad: 298678.2500  LR: 0.00001311  \n",
      "EVAL: [0/62] Elapsed 0m 0s (remain 0m 48s) Loss: 0.1329(0.1329) \n",
      "EVAL: [20/62] Elapsed 0m 12s (remain 0m 23s) Loss: 0.0788(0.1105) \n",
      "EVAL: [40/62] Elapsed 0m 23s (remain 0m 11s) Loss: 0.1594(0.1121) \n"
     ]
    },
    {
     "name": "stderr",
     "output_type": "stream",
     "text": [
      "Epoch 4 - avg_train_loss: 0.0740  avg_val_loss: 0.1136  time: 221s\n",
      "Epoch 4 - Score: 0.4787  Scores: [0.5057034982083856, 0.4776879032354085, 0.43549662681989304, 0.4721533270641871, 0.509205418650251, 0.47198728658386635]\n"
     ]
    },
    {
     "name": "stdout",
     "output_type": "stream",
     "text": [
      "EVAL: [60/62] Elapsed 0m 34s (remain 0m 0s) Loss: 0.0945(0.1137) \n",
      "EVAL: [61/62] Elapsed 0m 34s (remain 0m 0s) Loss: 0.0546(0.1136) \n",
      "Epoch: [5][0/366] Elapsed 0m 0s (remain 4m 23s) Loss: 0.0689(0.0689) Grad: 154220.8594  LR: 0.00001310  \n",
      "Epoch: [5][20/366] Elapsed 0m 10s (remain 2m 58s) Loss: 0.0514(0.0605) Grad: 119563.5703  LR: 0.00001294  \n",
      "Epoch: [5][40/366] Elapsed 0m 20s (remain 2m 46s) Loss: 0.0645(0.0605) Grad: 157685.3906  LR: 0.00001277  \n",
      "Epoch: [5][60/366] Elapsed 0m 31s (remain 2m 35s) Loss: 0.0722(0.0618) Grad: 174025.5156  LR: 0.00001261  \n",
      "Epoch: [5][80/366] Elapsed 0m 41s (remain 2m 25s) Loss: 0.0562(0.0618) Grad: 153250.7500  LR: 0.00001244  \n",
      "Epoch: [5][100/366] Elapsed 0m 51s (remain 2m 15s) Loss: 0.0698(0.0625) Grad: 175842.1406  LR: 0.00001228  \n",
      "Epoch: [5][120/366] Elapsed 1m 1s (remain 2m 5s) Loss: 0.0634(0.0630) Grad: 176768.6562  LR: 0.00001211  \n",
      "Epoch: [5][140/366] Elapsed 1m 11s (remain 1m 54s) Loss: 0.0676(0.0628) Grad: 86336.2578  LR: 0.00001194  \n",
      "Epoch: [5][160/366] Elapsed 1m 22s (remain 1m 44s) Loss: 0.0476(0.0630) Grad: 110833.9375  LR: 0.00001177  \n",
      "Epoch: [5][180/366] Elapsed 1m 32s (remain 1m 34s) Loss: 0.0654(0.0628) Grad: 182463.1250  LR: 0.00001160  \n",
      "Epoch: [5][200/366] Elapsed 1m 42s (remain 1m 24s) Loss: 0.0488(0.0629) Grad: 75555.0156  LR: 0.00001143  \n",
      "Epoch: [5][220/366] Elapsed 1m 52s (remain 1m 13s) Loss: 0.0706(0.0630) Grad: 132175.6406  LR: 0.00001126  \n",
      "Epoch: [5][240/366] Elapsed 2m 2s (remain 1m 3s) Loss: 0.0539(0.0625) Grad: 136306.0781  LR: 0.00001109  \n",
      "Epoch: [5][260/366] Elapsed 2m 12s (remain 0m 53s) Loss: 0.0606(0.0624) Grad: 130140.7422  LR: 0.00001092  \n",
      "Epoch: [5][280/366] Elapsed 2m 23s (remain 0m 43s) Loss: 0.0464(0.0620) Grad: 129156.9922  LR: 0.00001075  \n",
      "Epoch: [5][300/366] Elapsed 2m 33s (remain 0m 33s) Loss: 0.0933(0.0622) Grad: 269511.5312  LR: 0.00001058  \n",
      "Epoch: [5][320/366] Elapsed 2m 43s (remain 0m 22s) Loss: 0.0597(0.0621) Grad: 177366.4531  LR: 0.00001041  \n",
      "Epoch: [5][340/366] Elapsed 2m 53s (remain 0m 12s) Loss: 0.0628(0.0623) Grad: 123779.1406  LR: 0.00001024  \n",
      "Epoch: [5][360/366] Elapsed 3m 3s (remain 0m 2s) Loss: 0.0544(0.0623) Grad: 162042.8438  LR: 0.00001007  \n",
      "Epoch: [5][365/366] Elapsed 3m 6s (remain 0m 0s) Loss: 0.0528(0.0623) Grad: 141187.1719  LR: 0.00001003  \n",
      "EVAL: [0/62] Elapsed 0m 0s (remain 0m 47s) Loss: 0.1449(0.1449) \n",
      "EVAL: [20/62] Elapsed 0m 12s (remain 0m 23s) Loss: 0.0746(0.1152) \n",
      "EVAL: [40/62] Elapsed 0m 23s (remain 0m 11s) Loss: 0.1745(0.1150) \n",
      "EVAL: [60/62] Elapsed 0m 34s (remain 0m 0s) Loss: 0.1035(0.1169) \n",
      "EVAL: [61/62] Elapsed 0m 34s (remain 0m 0s) Loss: 0.0467(0.1168) \n"
     ]
    },
    {
     "name": "stderr",
     "output_type": "stream",
     "text": [
      "Epoch 5 - avg_train_loss: 0.0623  avg_val_loss: 0.1168  time: 221s\n",
      "Epoch 5 - Score: 0.4856  Scores: [0.5193948116350618, 0.47515948586784723, 0.44278921809217875, 0.47180431544732443, 0.5350159635268584, 0.469518591845748]\n"
     ]
    },
    {
     "name": "stdout",
     "output_type": "stream",
     "text": [
      "Epoch: [6][0/366] Elapsed 0m 0s (remain 4m 50s) Loss: 0.0488(0.0488) Grad: 102716.8672  LR: 0.00001002  \n",
      "Epoch: [6][20/366] Elapsed 0m 11s (remain 3m 0s) Loss: 0.0536(0.0535) Grad: 172652.8906  LR: 0.00000985  \n",
      "Epoch: [6][40/366] Elapsed 0m 21s (remain 2m 47s) Loss: 0.0702(0.0555) Grad: 158513.9531  LR: 0.00000967  \n",
      "Epoch: [6][60/366] Elapsed 0m 31s (remain 2m 36s) Loss: 0.0504(0.0554) Grad: 140003.9688  LR: 0.00000950  \n",
      "Epoch: [6][80/366] Elapsed 0m 41s (remain 2m 25s) Loss: 0.0706(0.0552) Grad: 167102.1250  LR: 0.00000933  \n",
      "Epoch: [6][100/366] Elapsed 0m 51s (remain 2m 15s) Loss: 0.0542(0.0556) Grad: 118792.4375  LR: 0.00000916  \n",
      "Epoch: [6][120/366] Elapsed 1m 1s (remain 2m 5s) Loss: 0.0576(0.0552) Grad: 96562.6641  LR: 0.00000899  \n",
      "Epoch: [6][140/366] Elapsed 1m 11s (remain 1m 54s) Loss: 0.0471(0.0550) Grad: 123878.4297  LR: 0.00000882  \n",
      "Epoch: [6][160/366] Elapsed 1m 22s (remain 1m 44s) Loss: 0.0461(0.0551) Grad: 101666.1406  LR: 0.00000865  \n",
      "Epoch: [6][180/366] Elapsed 1m 32s (remain 1m 34s) Loss: 0.0413(0.0548) Grad: 112356.8203  LR: 0.00000848  \n",
      "Epoch: [6][200/366] Elapsed 1m 42s (remain 1m 24s) Loss: 0.0566(0.0546) Grad: 133319.2656  LR: 0.00000831  \n",
      "Epoch: [6][220/366] Elapsed 1m 52s (remain 1m 13s) Loss: 0.0391(0.0547) Grad: 154326.3438  LR: 0.00000814  \n",
      "Epoch: [6][240/366] Elapsed 2m 2s (remain 1m 3s) Loss: 0.0486(0.0546) Grad: 92171.3594  LR: 0.00000797  \n",
      "Epoch: [6][260/366] Elapsed 2m 12s (remain 0m 53s) Loss: 0.0381(0.0543) Grad: 177239.1562  LR: 0.00000781  \n",
      "Epoch: [6][280/366] Elapsed 2m 22s (remain 0m 43s) Loss: 0.0870(0.0544) Grad: 151649.0156  LR: 0.00000764  \n",
      "Epoch: [6][300/366] Elapsed 2m 33s (remain 0m 33s) Loss: 0.0342(0.0544) Grad: 117465.2500  LR: 0.00000747  \n",
      "Epoch: [6][320/366] Elapsed 2m 43s (remain 0m 22s) Loss: 0.0629(0.0546) Grad: 119567.6562  LR: 0.00000731  \n",
      "Epoch: [6][340/366] Elapsed 2m 53s (remain 0m 12s) Loss: 0.0560(0.0544) Grad: 128587.6797  LR: 0.00000714  \n",
      "Epoch: [6][360/366] Elapsed 3m 3s (remain 0m 2s) Loss: 0.0664(0.0544) Grad: 147046.8594  LR: 0.00000698  \n",
      "Epoch: [6][365/366] Elapsed 3m 6s (remain 0m 0s) Loss: 0.0571(0.0545) Grad: 192463.2969  LR: 0.00000694  \n",
      "EVAL: [0/62] Elapsed 0m 0s (remain 0m 47s) Loss: 0.1433(0.1433) \n",
      "EVAL: [20/62] Elapsed 0m 12s (remain 0m 23s) Loss: 0.0788(0.1150) \n",
      "EVAL: [40/62] Elapsed 0m 23s (remain 0m 11s) Loss: 0.1727(0.1147) \n"
     ]
    },
    {
     "name": "stderr",
     "output_type": "stream",
     "text": [
      "Epoch 6 - avg_train_loss: 0.0545  avg_val_loss: 0.1163  time: 221s\n",
      "Epoch 6 - Score: 0.4848  Scores: [0.5176318520025526, 0.48030561650780096, 0.4445151368245349, 0.4777680569899722, 0.5190628144138606, 0.4693942716932689]\n"
     ]
    },
    {
     "name": "stdout",
     "output_type": "stream",
     "text": [
      "EVAL: [60/62] Elapsed 0m 34s (remain 0m 0s) Loss: 0.1004(0.1165) \n",
      "EVAL: [61/62] Elapsed 0m 34s (remain 0m 0s) Loss: 0.0374(0.1163) \n"
     ]
    },
    {
     "name": "stderr",
     "output_type": "stream",
     "text": [
      "========== fold: 3 result ==========\n",
      "Score: 0.4724  Scores: [0.5031477241189198, 0.4564600801724499, 0.42877458199540763, 0.45687109878035853, 0.5036157594595347, 0.48558993220944024]\n",
      "========== CV ==========\n",
      "Score: 0.4784  Scores: [0.5098241812144009, 0.47349820836808604, 0.43290066553634193, 0.4783177461800708, 0.5075566329909585, 0.4682625379623697]\n"
     ]
    },
    {
     "data": {
      "text/html": [
       "Waiting for W&B process to finish... <strong style=\"color:green\">(success).</strong>"
      ],
      "text/plain": [
       "<IPython.core.display.HTML object>"
      ]
     },
     "metadata": {},
     "output_type": "display_data"
    },
    {
     "data": {
      "application/vnd.jupyter.widget-view+json": {
       "model_id": "",
       "version_major": 2,
       "version_minor": 0
      },
      "text/plain": [
       "VBox(children=(Label(value='0.000 MB of 0.000 MB uploaded (0.000 MB deduped)\\r'), FloatProgress(value=1.0, max…"
      ]
     },
     "metadata": {},
     "output_type": "display_data"
    },
    {
     "data": {
      "text/html": [
       "<style>\n",
       "    table.wandb td:nth-child(1) { padding: 0 10px; text-align: left ; width: auto;} td:nth-child(2) {text-align: left ; width: 100%}\n",
       "    .wandb-row { display: flex; flex-direction: row; flex-wrap: wrap; justify-content: flex-start; width: 100% }\n",
       "    .wandb-col { display: flex; flex-direction: column; flex-basis: 100%; flex: 1; padding: 10px; }\n",
       "    </style>\n",
       "<div class=\"wandb-row\"><div class=\"wandb-col\"><h3>Run history:</h3><br/><table class=\"wandb\"><tr><td>[fold0] avg_train_loss</td><td>█▄▃▂▂▁▁</td></tr><tr><td>[fold0] avg_val_loss</td><td>█▁▂▁▆▁▃</td></tr><tr><td>[fold0] epoch</td><td>▁▂▃▅▆▇█</td></tr><tr><td>[fold0] loss</td><td>▆▃▂▄▄▅▂█▃▂▂▃▂▂▃▂▂▂▂▂▁▂▂▂▂▁▂▂▂▂▁▁▁▁▁▂▁▂▁▂</td></tr><tr><td>[fold0] lr</td><td>█████████▇▇▇▇▇▇▆▆▆▆▆▅▅▅▅▅▄▄▄▄▃▃▃▃▂▂▂▂▂▁▁</td></tr><tr><td>[fold0] score</td><td>█▁▂▁▆▁▃</td></tr><tr><td>[fold1] avg_train_loss</td><td>█▃▃▂▂▁▁</td></tr><tr><td>[fold1] avg_val_loss</td><td>█▃▅▁▃▂▃</td></tr><tr><td>[fold1] epoch</td><td>▁▂▃▅▆▇█</td></tr><tr><td>[fold1] loss</td><td>█▂▃▂▂▂▂▂▂▂▂▂▃▃▁▂▂▁▂▂▃▁▁▂▁▁▁▂▂▁▁▁▁▁▁▂▁▁▁▁</td></tr><tr><td>[fold1] lr</td><td>█████████▇▇▇▇▇▇▆▆▆▆▆▅▅▅▅▅▄▄▄▄▃▃▃▃▂▂▂▂▂▁▁</td></tr><tr><td>[fold1] score</td><td>█▃▆▁▃▂▄</td></tr><tr><td>[fold2] avg_train_loss</td><td>█▃▂▂▁▁</td></tr><tr><td>[fold2] avg_val_loss</td><td>█▄▁▄▆▆</td></tr><tr><td>[fold2] epoch</td><td>▁▂▄▅▇█</td></tr><tr><td>[fold2] loss</td><td>▆▄▂█▃▄▂▂▂▃▃▄▃▃▃▃▂▄▃▃▂▂▂▂▂▁▂▂▁▂▁▂▁▁▁▂▁▁▂▂</td></tr><tr><td>[fold2] lr</td><td>█████████▇▇▇▇▇▇▇▆▆▆▆▆▅▅▅▅▅▄▄▄▄▃▃▃▃▂▂▂▂▁▁</td></tr><tr><td>[fold2] score</td><td>█▄▁▄▆▆</td></tr><tr><td>[fold3] avg_train_loss</td><td>█▃▂▂▁▁</td></tr><tr><td>[fold3] avg_val_loss</td><td>██▁▃▄▄</td></tr><tr><td>[fold3] epoch</td><td>▁▂▄▅▇█</td></tr><tr><td>[fold3] loss</td><td>▅█▄▅▄▃▄█▃▆▄▄▇▃▄▃▅▁▄▃▂▂▂▂▂▃▂▂▁▂▂▂▂▃▂▂▁▂▁▂</td></tr><tr><td>[fold3] lr</td><td>█████████▇▇▇▇▇▇▇▆▆▆▆▆▅▅▅▅▅▄▄▄▄▃▃▃▃▂▂▂▂▁▁</td></tr><tr><td>[fold3] score</td><td>██▁▃▄▄</td></tr></table><br/></div><div class=\"wandb-col\"><h3>Run summary:</h3><br/><table class=\"wandb\"><tr><td>[fold0] avg_train_loss</td><td>0.0486</td></tr><tr><td>[fold0] avg_val_loss</td><td>0.11922</td></tr><tr><td>[fold0] epoch</td><td>7</td></tr><tr><td>[fold0] loss</td><td>0.06838</td></tr><tr><td>[fold0] lr</td><td>0.0</td></tr><tr><td>[fold0] score</td><td>0.4897</td></tr><tr><td>[fold1] avg_train_loss</td><td>0.04924</td></tr><tr><td>[fold1] avg_val_loss</td><td>0.12056</td></tr><tr><td>[fold1] epoch</td><td>7</td></tr><tr><td>[fold1] loss</td><td>0.05353</td></tr><tr><td>[fold1] lr</td><td>0.0</td></tr><tr><td>[fold1] score</td><td>0.49271</td></tr><tr><td>[fold2] avg_train_loss</td><td>0.05571</td></tr><tr><td>[fold2] avg_val_loss</td><td>0.11969</td></tr><tr><td>[fold2] epoch</td><td>6</td></tr><tr><td>[fold2] loss</td><td>0.06648</td></tr><tr><td>[fold2] lr</td><td>1e-05</td></tr><tr><td>[fold2] score</td><td>0.49152</td></tr><tr><td>[fold3] avg_train_loss</td><td>0.0545</td></tr><tr><td>[fold3] avg_val_loss</td><td>0.1163</td></tr><tr><td>[fold3] epoch</td><td>6</td></tr><tr><td>[fold3] loss</td><td>0.05714</td></tr><tr><td>[fold3] lr</td><td>1e-05</td></tr><tr><td>[fold3] score</td><td>0.48478</td></tr></table><br/></div></div>"
      ],
      "text/plain": [
       "<IPython.core.display.HTML object>"
      ]
     },
     "metadata": {},
     "output_type": "display_data"
    },
    {
     "data": {
      "text/html": [
       "Synced <strong style=\"color:#cdcd00\">001_202211111350</strong>: <a href=\"https://wandb.ai/hiroki8383/Feedback%20Prize%20-%20English%20Language%20Learning/runs/1jydtprl\" target=\"_blank\">https://wandb.ai/hiroki8383/Feedback%20Prize%20-%20English%20Language%20Learning/runs/1jydtprl</a><br/>Synced 6 W&B file(s), 0 media file(s), 0 artifact file(s) and 0 other file(s)"
      ],
      "text/plain": [
       "<IPython.core.display.HTML object>"
      ]
     },
     "metadata": {},
     "output_type": "display_data"
    },
    {
     "data": {
      "text/html": [
       "Find logs at: <code>./wandb/run-20221111_045015-1jydtprl/logs</code>"
      ],
      "text/plain": [
       "<IPython.core.display.HTML object>"
      ]
     },
     "metadata": {},
     "output_type": "display_data"
    }
   ],
   "source": [
    "if __name__ == '__main__':\n",
    "    \n",
    "    def get_result(oof_df):\n",
    "        labels = oof_df[CFG.target_cols].values\n",
    "        preds = oof_df[[f\"pred_{c}\" for c in CFG.target_cols]].values\n",
    "        score, scores = get_score(labels, preds)\n",
    "        LOGGER.info(f'Score: {score:<.4f}  Scores: {scores}')\n",
    "        return score\n",
    "    \n",
    "    if CFG.train:\n",
    "        oof_df = pd.DataFrame()\n",
    "        for fold in range(CFG.n_fold):\n",
    "            if fold in CFG.trn_fold:\n",
    "                _oof_df = train_loop(train, fold)\n",
    "                oof_df = pd.concat([oof_df, _oof_df])\n",
    "                LOGGER.info(f\"========== fold: {fold} result ==========\")\n",
    "                score = get_result(_oof_df)\n",
    "        oof_df = oof_df.reset_index(drop=True)\n",
    "        LOGGER.info(f\"========== CV ==========\")\n",
    "        score = round(get_result(oof_df),3)\n",
    "        oof_df.to_pickle(OUTPUT_DIR+f'oof_df.pkl')\n",
    "        \n",
    "    # if CFG.DEBUG:\n",
    "    #     import send2trash\n",
    "    #     send2trash.send2trash(OUTPUT_DIR)\n",
    "    CFG.OUTPUT_DIR = OUTPUT_DIR\n",
    "    dict_cfg = {k: vars(CFG)[k] for k in vars(CFG) if \"__\" not in k}\n",
    "    with open(OUTPUT_DIR+\"dict_cfg\", 'wb') as web:\n",
    "        pickle.dump(dict_cfg , web)\n",
    "    with open(OUTPUT_DIR+\"class_cfg\", 'wb') as web:\n",
    "        pickle.dump(CFG , web)\n",
    "    \n",
    "    \n",
    "    if CFG.wandb:\n",
    "        wandb.config.update(class2dict(CFG))\n",
    "        wandb.finish()"
   ]
  },
  {
   "cell_type": "code",
   "execution_count": 18,
   "metadata": {},
   "outputs": [
    {
     "name": "stdout",
     "output_type": "stream",
     "text": [
      "/home/jupyter/output/ex/xlm-xlm-roberta-base-squad2/001/202211111350/\n"
     ]
    }
   ],
   "source": [
    "print(OUTPUT_DIR)"
   ]
  },
  {
   "cell_type": "code",
   "execution_count": 19,
   "metadata": {},
   "outputs": [],
   "source": [
    "# import os\n",
    "# OUTPUT_DIR = \"/home/jupyter/output/ex/roberta-base/004/202210151736/\"\n",
    "# PREDICT_DIR = OUTPUT_DIR.replace(\"output\",\"predict\")\n",
    "# if not os.path.exists(PREDICT_DIR):\n",
    "#     os.makedirs(PREDICT_DIR)\n"
   ]
  },
  {
   "cell_type": "code",
   "execution_count": 20,
   "metadata": {},
   "outputs": [
    {
     "name": "stdout",
     "output_type": "stream",
     "text": [
      "Starting upload for file config.pth\n"
     ]
    },
    {
     "name": "stderr",
     "output_type": "stream",
     "text": [
      "100% 2.48k/2.48k [00:02<00:00, 993B/s]\n"
     ]
    },
    {
     "name": "stdout",
     "output_type": "stream",
     "text": [
      "Upload successful: config.pth (2KB)\n",
      "Starting upload for file xlm-xlm-roberta-base-squad2_fold3_best.pth\n"
     ]
    },
    {
     "name": "stderr",
     "output_type": "stream",
     "text": [
      "100% 1.04G/1.04G [00:23<00:00, 47.1MB/s]\n"
     ]
    },
    {
     "name": "stdout",
     "output_type": "stream",
     "text": [
      "Upload successful: xlm-xlm-roberta-base-squad2_fold3_best.pth (1GB)\n",
      "Starting upload for file class_cfg\n"
     ]
    },
    {
     "name": "stderr",
     "output_type": "stream",
     "text": [
      "100% 19.0/19.0 [00:02<00:00, 6.44B/s]\n"
     ]
    },
    {
     "name": "stdout",
     "output_type": "stream",
     "text": [
      "Upload successful: class_cfg (19B)\n",
      "Starting upload for file xlm-xlm-roberta-base-squad2_fold2_best.pth\n"
     ]
    },
    {
     "name": "stderr",
     "output_type": "stream",
     "text": [
      "100% 1.04G/1.04G [00:24<00:00, 45.3MB/s]\n"
     ]
    },
    {
     "name": "stdout",
     "output_type": "stream",
     "text": [
      "Upload successful: xlm-xlm-roberta-base-squad2_fold2_best.pth (1GB)\n",
      "Starting upload for file oof_df.pkl\n"
     ]
    },
    {
     "name": "stderr",
     "output_type": "stream",
     "text": [
      "100% 9.09M/9.09M [00:02<00:00, 4.51MB/s]\n"
     ]
    },
    {
     "name": "stdout",
     "output_type": "stream",
     "text": [
      "Upload successful: oof_df.pkl (9MB)\n",
      "Starting upload for file xlm-xlm-roberta-base-squad2_fold1_best.pth\n"
     ]
    },
    {
     "name": "stderr",
     "output_type": "stream",
     "text": [
      "100% 1.04G/1.04G [00:23<00:00, 47.3MB/s]\n"
     ]
    },
    {
     "name": "stdout",
     "output_type": "stream",
     "text": [
      "Upload successful: xlm-xlm-roberta-base-squad2_fold1_best.pth (1GB)\n",
      "Starting upload for file train.log\n"
     ]
    },
    {
     "name": "stderr",
     "output_type": "stream",
     "text": [
      "100% 10.7k/10.7k [00:02<00:00, 4.61kB/s]\n"
     ]
    },
    {
     "name": "stdout",
     "output_type": "stream",
     "text": [
      "Upload successful: train.log (11KB)\n",
      "Starting upload for file dict_cfg\n"
     ]
    },
    {
     "name": "stderr",
     "output_type": "stream",
     "text": [
      "100% 8.66M/8.66M [00:03<00:00, 2.47MB/s]\n"
     ]
    },
    {
     "name": "stdout",
     "output_type": "stream",
     "text": [
      "Upload successful: dict_cfg (9MB)\n",
      "Starting upload for file xlm-xlm-roberta-base-squad2_fold0_best.pth\n"
     ]
    },
    {
     "name": "stderr",
     "output_type": "stream",
     "text": [
      "100% 1.04G/1.04G [00:24<00:00, 44.7MB/s]\n"
     ]
    },
    {
     "name": "stdout",
     "output_type": "stream",
     "text": [
      "Upload successful: xlm-xlm-roberta-base-squad2_fold0_best.pth (1GB)\n",
      "folder upload\n"
     ]
    }
   ],
   "source": [
    "if CFG.TO_KAGGLE:\n",
    "    UPLOAD_DIR = OUTPUT_DIR\n",
    "    EX_NO = f\"{model_name}-{CFG.file_name}\" # 実験番号などを入れる、folderのpathにする\n",
    "    USERID = 'your_id'\n",
    "\n",
    "\n",
    "    def dataset_upload():\n",
    "        import json\n",
    "        from kaggle.api.kaggle_api_extended import KaggleApi\n",
    "\n",
    "        id = f'{USERID}/{EX_NO}'\n",
    "\n",
    "        dataset_metadata = {}\n",
    "        dataset_metadata['id'] = id\n",
    "        dataset_metadata['licenses'] = [{'name': 'CC0-1.0'}]\n",
    "        dataset_metadata['title'] = f'{EX_NO}'\n",
    "\n",
    "        with open(UPLOAD_DIR +'dataset-metadata.json', 'w') as f:\n",
    "            json.dump(dataset_metadata, f, indent=4)\n",
    "\n",
    "        api = KaggleApi()\n",
    "        api.authenticate()\n",
    "\n",
    "        # データセットがない場合\n",
    "        if f'{USERID}/{EX_NO}' not in [str(d) for d in api.dataset_list(user=USERID, search=f'\"{EX_NO}\"')]:\n",
    "            api.dataset_create_new(folder=UPLOAD_DIR,\n",
    "                                   convert_to_csv=False,\n",
    "                                   dir_mode='skip')\n",
    "            \n",
    "            \n",
    "             #フォルダーを削除\n",
    "            if f'{USERID}/{EX_NO}' not in [str(d) for d in api.dataset_list(user=USERID, search=f'\"{EX_NO}\"')]:\n",
    "                remove_files = glob.glob(OUTPUT_DIR+\"*\")\n",
    "                remove_files.remove(OUTPUT_DIR+\"oof_df.pkl\")\n",
    "                for file in remove_files:\n",
    "                    os.remove(file)\n",
    "                print(\"folder upload\")\n",
    "                            #apiコマンドを書き込む\n",
    "                f = open(f'{model_name}_api_command.txt', 'a')\n",
    "                api_command = f\"!kaggle datasets download -d hiroki8383/{EX_NO}\\n\"\n",
    "                f.write(api_command)\n",
    "                f.close()\n",
    "            else:\n",
    "                print(\"folder not upload\")\n",
    "            \n",
    "            \n",
    "        # データセットがある場合→更新されない場合がある（後で原因追及)\n",
    "        else:\n",
    "            print(\"this folder exsits\")\n",
    "            # api.dataset_create_version(folder=UPLOAD_DIR,\n",
    "            #                            version_notes='update',\n",
    "            #                            convert_to_csv=False,\n",
    "            #                            delete_old_versions=False,\n",
    "            #                            dir_mode='zip')\n",
    "\n",
    "        \n",
    "\n",
    "        \n",
    "    dataset_upload()"
   ]
  },
  {
   "cell_type": "code",
   "execution_count": 21,
   "metadata": {
    "tags": []
   },
   "outputs": [
    {
     "name": "stderr",
     "output_type": "stream",
     "text": [
      "Score: 0.4784  Scores: [0.5098241812144009, 0.47349820836808604, 0.43290066553634193, 0.4783177461800708, 0.5075566329909585, 0.4682625379623697]\n"
     ]
    }
   ],
   "source": [
    "if not CFG.DEBUG:\n",
    "    def to_write_score(CFG):\n",
    "        df = pd.read_csv(CFG.score_path)\n",
    "        def get_result2(oof_df):\n",
    "                labels = oof_df[CFG.target_cols].values\n",
    "                preds = oof_df[[f\"pred_{c}\" for c in CFG.target_cols]].values\n",
    "                score, scores = get_score(labels, preds)\n",
    "                LOGGER.info(f'Score: {score:<.4f}  Scores: {scores}')\n",
    "                return score,scores\n",
    "\n",
    "        score,scores = get_result2(oof_df)\n",
    "        name = \"-\".join(OUTPUT_DIR.split(\"/\")[-4:-2])\n",
    "        base = {\"name\":name,\"score\":score,\"memo\":CFG.MEMO} \n",
    "        base.update(dict(zip(CFG.target_cols,scores)))\n",
    "        df = df.append(base,ignore_index=True)\n",
    "        df.to_csv(CFG.score_path,index=False)\n",
    "    to_write_score(CFG)"
   ]
  },
  {
   "cell_type": "code",
   "execution_count": 22,
   "metadata": {},
   "outputs": [
    {
     "data": {
      "text/html": [
       "<div>\n",
       "<style scoped>\n",
       "    .dataframe tbody tr th:only-of-type {\n",
       "        vertical-align: middle;\n",
       "    }\n",
       "\n",
       "    .dataframe tbody tr th {\n",
       "        vertical-align: top;\n",
       "    }\n",
       "\n",
       "    .dataframe thead th {\n",
       "        text-align: right;\n",
       "    }\n",
       "</style>\n",
       "<table border=\"1\" class=\"dataframe\">\n",
       "  <thead>\n",
       "    <tr style=\"text-align: right;\">\n",
       "      <th></th>\n",
       "      <th>name</th>\n",
       "      <th>memo</th>\n",
       "      <th>LB</th>\n",
       "      <th>score</th>\n",
       "      <th>cohesion</th>\n",
       "      <th>syntax</th>\n",
       "      <th>vocabulary</th>\n",
       "      <th>phraseology</th>\n",
       "      <th>grammar</th>\n",
       "      <th>conventions</th>\n",
       "    </tr>\n",
       "  </thead>\n",
       "  <tbody>\n",
       "    <tr>\n",
       "      <th>0</th>\n",
       "      <td>base-discriminator-001</td>\n",
       "      <td>NaN</td>\n",
       "      <td>0.46</td>\n",
       "      <td>0.466957</td>\n",
       "      <td>0.501431</td>\n",
       "      <td>0.455460</td>\n",
       "      <td>0.428477</td>\n",
       "      <td>0.465690</td>\n",
       "      <td>0.485904</td>\n",
       "      <td>0.464780</td>\n",
       "    </tr>\n",
       "    <tr>\n",
       "      <th>1</th>\n",
       "      <td>base-discriminator-002</td>\n",
       "      <td>NaN</td>\n",
       "      <td>0.45</td>\n",
       "      <td>0.474078</td>\n",
       "      <td>0.504413</td>\n",
       "      <td>0.462707</td>\n",
       "      <td>0.432588</td>\n",
       "      <td>0.469546</td>\n",
       "      <td>0.500918</td>\n",
       "      <td>0.474296</td>\n",
       "    </tr>\n",
       "    <tr>\n",
       "      <th>2</th>\n",
       "      <td>deberta-v3-base-003</td>\n",
       "      <td>2epochs</td>\n",
       "      <td>NaN</td>\n",
       "      <td>0.459342</td>\n",
       "      <td>0.496531</td>\n",
       "      <td>0.450482</td>\n",
       "      <td>0.419448</td>\n",
       "      <td>0.457413</td>\n",
       "      <td>0.476347</td>\n",
       "      <td>0.455832</td>\n",
       "    </tr>\n",
       "    <tr>\n",
       "      <th>3</th>\n",
       "      <td>deberta-v3-base-003</td>\n",
       "      <td>6epochs</td>\n",
       "      <td>0.44</td>\n",
       "      <td>0.456879</td>\n",
       "      <td>0.488333</td>\n",
       "      <td>0.448687</td>\n",
       "      <td>0.417134</td>\n",
       "      <td>0.458769</td>\n",
       "      <td>0.479633</td>\n",
       "      <td>0.448721</td>\n",
       "    </tr>\n",
       "    <tr>\n",
       "      <th>4</th>\n",
       "      <td>deberta-v3-base-006</td>\n",
       "      <td>15folds</td>\n",
       "      <td>NaN</td>\n",
       "      <td>0.463635</td>\n",
       "      <td>0.479650</td>\n",
       "      <td>0.475910</td>\n",
       "      <td>0.442828</td>\n",
       "      <td>0.463557</td>\n",
       "      <td>0.456412</td>\n",
       "      <td>0.463457</td>\n",
       "    </tr>\n",
       "    <tr>\n",
       "      <th>5</th>\n",
       "      <td>deberta-v3-base-006</td>\n",
       "      <td>20folds</td>\n",
       "      <td>NaN</td>\n",
       "      <td>0.449212</td>\n",
       "      <td>0.475585</td>\n",
       "      <td>0.433808</td>\n",
       "      <td>0.415852</td>\n",
       "      <td>0.457436</td>\n",
       "      <td>0.484686</td>\n",
       "      <td>0.427907</td>\n",
       "    </tr>\n",
       "    <tr>\n",
       "      <th>6</th>\n",
       "      <td>deberta-v3-base-006</td>\n",
       "      <td>10folds</td>\n",
       "      <td>NaN</td>\n",
       "      <td>0.446338</td>\n",
       "      <td>0.490661</td>\n",
       "      <td>0.435001</td>\n",
       "      <td>0.409460</td>\n",
       "      <td>0.417236</td>\n",
       "      <td>0.481800</td>\n",
       "      <td>0.443871</td>\n",
       "    </tr>\n",
       "    <tr>\n",
       "      <th>7</th>\n",
       "      <td>distilroberta-base-001</td>\n",
       "      <td>4folds</td>\n",
       "      <td>NaN</td>\n",
       "      <td>0.470528</td>\n",
       "      <td>0.501629</td>\n",
       "      <td>0.459765</td>\n",
       "      <td>0.426740</td>\n",
       "      <td>0.473205</td>\n",
       "      <td>0.501976</td>\n",
       "      <td>0.459850</td>\n",
       "    </tr>\n",
       "    <tr>\n",
       "      <th>8</th>\n",
       "      <td>distilroberta-base-002</td>\n",
       "      <td>バッチ16,4folds</td>\n",
       "      <td>NaN</td>\n",
       "      <td>0.471035</td>\n",
       "      <td>0.503345</td>\n",
       "      <td>0.458993</td>\n",
       "      <td>0.427209</td>\n",
       "      <td>0.471235</td>\n",
       "      <td>0.504850</td>\n",
       "      <td>0.460580</td>\n",
       "    </tr>\n",
       "    <tr>\n",
       "      <th>9</th>\n",
       "      <td>microsoft-deberta-v3-large-001</td>\n",
       "      <td>NaN</td>\n",
       "      <td>0.46</td>\n",
       "      <td>0.450311</td>\n",
       "      <td>0.482961</td>\n",
       "      <td>0.445596</td>\n",
       "      <td>0.410873</td>\n",
       "      <td>0.449346</td>\n",
       "      <td>0.466162</td>\n",
       "      <td>0.446928</td>\n",
       "    </tr>\n",
       "    <tr>\n",
       "      <th>10</th>\n",
       "      <td>microsoft-deberta-v3-large-002</td>\n",
       "      <td>NaN</td>\n",
       "      <td>0.44</td>\n",
       "      <td>0.453782</td>\n",
       "      <td>0.486786</td>\n",
       "      <td>0.446127</td>\n",
       "      <td>0.415995</td>\n",
       "      <td>0.452892</td>\n",
       "      <td>0.472186</td>\n",
       "      <td>0.448703</td>\n",
       "    </tr>\n",
       "    <tr>\n",
       "      <th>11</th>\n",
       "      <td>microsoft-deberta-v3-large-004</td>\n",
       "      <td>unscale</td>\n",
       "      <td>0.44</td>\n",
       "      <td>0.460115</td>\n",
       "      <td>0.494655</td>\n",
       "      <td>0.452659</td>\n",
       "      <td>0.419634</td>\n",
       "      <td>0.461738</td>\n",
       "      <td>0.476507</td>\n",
       "      <td>0.455497</td>\n",
       "    </tr>\n",
       "    <tr>\n",
       "      <th>12</th>\n",
       "      <td>roberta-base-003</td>\n",
       "      <td>1fold</td>\n",
       "      <td>0.45</td>\n",
       "      <td>0.459033</td>\n",
       "      <td>0.486786</td>\n",
       "      <td>0.452983</td>\n",
       "      <td>0.423085</td>\n",
       "      <td>0.463976</td>\n",
       "      <td>0.484316</td>\n",
       "      <td>0.443049</td>\n",
       "    </tr>\n",
       "    <tr>\n",
       "      <th>13</th>\n",
       "      <td>roberta-base-004</td>\n",
       "      <td>4folds</td>\n",
       "      <td>0.44</td>\n",
       "      <td>0.466575</td>\n",
       "      <td>0.498291</td>\n",
       "      <td>0.455092</td>\n",
       "      <td>0.427741</td>\n",
       "      <td>0.468486</td>\n",
       "      <td>0.493240</td>\n",
       "      <td>0.456598</td>\n",
       "    </tr>\n",
       "    <tr>\n",
       "      <th>14</th>\n",
       "      <td>roberta-base-005</td>\n",
       "      <td>バッチ16,4folds</td>\n",
       "      <td>0.44</td>\n",
       "      <td>0.463956</td>\n",
       "      <td>0.496089</td>\n",
       "      <td>0.454223</td>\n",
       "      <td>0.425768</td>\n",
       "      <td>0.464463</td>\n",
       "      <td>0.487668</td>\n",
       "      <td>0.455523</td>\n",
       "    </tr>\n",
       "    <tr>\n",
       "      <th>15</th>\n",
       "      <td>roberta-base-006</td>\n",
       "      <td>バッチ32,4folds</td>\n",
       "      <td>NaN</td>\n",
       "      <td>0.464111</td>\n",
       "      <td>0.497241</td>\n",
       "      <td>0.453315</td>\n",
       "      <td>0.425326</td>\n",
       "      <td>0.463499</td>\n",
       "      <td>0.488895</td>\n",
       "      <td>0.456390</td>\n",
       "    </tr>\n",
       "    <tr>\n",
       "      <th>16</th>\n",
       "      <td>roberta-large-002</td>\n",
       "      <td>バッチ8_4folds</td>\n",
       "      <td>0.44</td>\n",
       "      <td>0.461700</td>\n",
       "      <td>NaN</td>\n",
       "      <td>NaN</td>\n",
       "      <td>NaN</td>\n",
       "      <td>NaN</td>\n",
       "      <td>NaN</td>\n",
       "      <td>NaN</td>\n",
       "    </tr>\n",
       "    <tr>\n",
       "      <th>17</th>\n",
       "      <td>roberta-large-003</td>\n",
       "      <td>バッチ16,2_4fold</td>\n",
       "      <td>NaN</td>\n",
       "      <td>0.469800</td>\n",
       "      <td>0.483395</td>\n",
       "      <td>0.457585</td>\n",
       "      <td>0.424750</td>\n",
       "      <td>0.480469</td>\n",
       "      <td>0.494185</td>\n",
       "      <td>0.478415</td>\n",
       "    </tr>\n",
       "    <tr>\n",
       "      <th>18</th>\n",
       "      <td>roberta-large-004</td>\n",
       "      <td>バッチ32,2_4fold</td>\n",
       "      <td>0.45</td>\n",
       "      <td>0.462673</td>\n",
       "      <td>0.487539</td>\n",
       "      <td>0.450118</td>\n",
       "      <td>0.419088</td>\n",
       "      <td>0.469469</td>\n",
       "      <td>0.482251</td>\n",
       "      <td>0.467571</td>\n",
       "    </tr>\n",
       "    <tr>\n",
       "      <th>19</th>\n",
       "      <td>roberta-large-006</td>\n",
       "      <td>バッチ36,2_4fold</td>\n",
       "      <td>0.45</td>\n",
       "      <td>0.466295</td>\n",
       "      <td>0.490185</td>\n",
       "      <td>0.457640</td>\n",
       "      <td>0.423379</td>\n",
       "      <td>0.469386</td>\n",
       "      <td>0.486419</td>\n",
       "      <td>0.470762</td>\n",
       "    </tr>\n",
       "    <tr>\n",
       "      <th>20</th>\n",
       "      <td>roberta-large-007</td>\n",
       "      <td>バッチ40,2_4fold</td>\n",
       "      <td>0.45</td>\n",
       "      <td>0.466273</td>\n",
       "      <td>0.490215</td>\n",
       "      <td>0.453633</td>\n",
       "      <td>0.423818</td>\n",
       "      <td>0.475021</td>\n",
       "      <td>0.485249</td>\n",
       "      <td>0.469699</td>\n",
       "    </tr>\n",
       "    <tr>\n",
       "      <th>21</th>\n",
       "      <td>roberta-large-008</td>\n",
       "      <td>バッチ32_4folds_epochs10</td>\n",
       "      <td>0.44</td>\n",
       "      <td>0.462800</td>\n",
       "      <td>NaN</td>\n",
       "      <td>NaN</td>\n",
       "      <td>NaN</td>\n",
       "      <td>NaN</td>\n",
       "      <td>NaN</td>\n",
       "      <td>NaN</td>\n",
       "    </tr>\n",
       "    <tr>\n",
       "      <th>22</th>\n",
       "      <td>roberta-large-008</td>\n",
       "      <td>バッチ32_4folds_epochs10</td>\n",
       "      <td>0.44</td>\n",
       "      <td>0.462800</td>\n",
       "      <td>NaN</td>\n",
       "      <td>NaN</td>\n",
       "      <td>NaN</td>\n",
       "      <td>NaN</td>\n",
       "      <td>NaN</td>\n",
       "      <td>NaN</td>\n",
       "    </tr>\n",
       "    <tr>\n",
       "      <th>23</th>\n",
       "      <td>roberta-large-mnli-001</td>\n",
       "      <td>4folds</td>\n",
       "      <td>0.44</td>\n",
       "      <td>0.465286</td>\n",
       "      <td>0.493436</td>\n",
       "      <td>0.456988</td>\n",
       "      <td>0.422165</td>\n",
       "      <td>0.470799</td>\n",
       "      <td>0.487859</td>\n",
       "      <td>0.460470</td>\n",
       "    </tr>\n",
       "    <tr>\n",
       "      <th>24</th>\n",
       "      <td>svr-001</td>\n",
       "      <td>4fold</td>\n",
       "      <td>NaN</td>\n",
       "      <td>0.453306</td>\n",
       "      <td>0.483167</td>\n",
       "      <td>0.448158</td>\n",
       "      <td>0.412874</td>\n",
       "      <td>0.455388</td>\n",
       "      <td>0.473294</td>\n",
       "      <td>0.446953</td>\n",
       "    </tr>\n",
       "    <tr>\n",
       "      <th>25</th>\n",
       "      <td>svr-004</td>\n",
       "      <td>4fold</td>\n",
       "      <td>NaN</td>\n",
       "      <td>0.452746</td>\n",
       "      <td>0.481117</td>\n",
       "      <td>0.447022</td>\n",
       "      <td>0.413401</td>\n",
       "      <td>0.455160</td>\n",
       "      <td>0.472988</td>\n",
       "      <td>0.446788</td>\n",
       "    </tr>\n",
       "    <tr>\n",
       "      <th>26</th>\n",
       "      <td>svr-005</td>\n",
       "      <td>10folds,embedding003を使用</td>\n",
       "      <td>NaN</td>\n",
       "      <td>0.455535</td>\n",
       "      <td>0.485642</td>\n",
       "      <td>0.448309</td>\n",
       "      <td>0.414582</td>\n",
       "      <td>0.458728</td>\n",
       "      <td>0.479231</td>\n",
       "      <td>0.446716</td>\n",
       "    </tr>\n",
       "    <tr>\n",
       "      <th>27</th>\n",
       "      <td>funnel-intermediate-001</td>\n",
       "      <td>ベースライン</td>\n",
       "      <td>0.44</td>\n",
       "      <td>0.464516</td>\n",
       "      <td>0.493810</td>\n",
       "      <td>0.461812</td>\n",
       "      <td>0.423381</td>\n",
       "      <td>0.460282</td>\n",
       "      <td>0.479871</td>\n",
       "      <td>0.467938</td>\n",
       "    </tr>\n",
       "    <tr>\n",
       "      <th>28</th>\n",
       "      <td>roberta-base-007</td>\n",
       "      <td>tensorflow ベースライン</td>\n",
       "      <td>0.44</td>\n",
       "      <td>0.460693</td>\n",
       "      <td>0.494831</td>\n",
       "      <td>0.451108</td>\n",
       "      <td>0.421364</td>\n",
       "      <td>0.462382</td>\n",
       "      <td>0.483491</td>\n",
       "      <td>0.450982</td>\n",
       "    </tr>\n",
       "    <tr>\n",
       "      <th>29</th>\n",
       "      <td>roberta-large-020</td>\n",
       "      <td>tensorflowベースライン</td>\n",
       "      <td>0.44</td>\n",
       "      <td>0.461600</td>\n",
       "      <td>NaN</td>\n",
       "      <td>NaN</td>\n",
       "      <td>NaN</td>\n",
       "      <td>NaN</td>\n",
       "      <td>NaN</td>\n",
       "      <td>NaN</td>\n",
       "    </tr>\n",
       "    <tr>\n",
       "      <th>30</th>\n",
       "      <td>funnel-large-001</td>\n",
       "      <td>ベースライン</td>\n",
       "      <td>0.45</td>\n",
       "      <td>0.469392</td>\n",
       "      <td>0.500464</td>\n",
       "      <td>0.465704</td>\n",
       "      <td>0.426260</td>\n",
       "      <td>0.472609</td>\n",
       "      <td>0.485169</td>\n",
       "      <td>0.466142</td>\n",
       "    </tr>\n",
       "    <tr>\n",
       "      <th>31</th>\n",
       "      <td>bigbird-roberta-base-001</td>\n",
       "      <td>ベースライン</td>\n",
       "      <td>0.45</td>\n",
       "      <td>0.472852</td>\n",
       "      <td>0.504070</td>\n",
       "      <td>0.459654</td>\n",
       "      <td>0.433966</td>\n",
       "      <td>0.472433</td>\n",
       "      <td>0.500781</td>\n",
       "      <td>0.466208</td>\n",
       "    </tr>\n",
       "    <tr>\n",
       "      <th>32</th>\n",
       "      <td>bigbird-roberta-large-001</td>\n",
       "      <td>ベースライン</td>\n",
       "      <td>NaN</td>\n",
       "      <td>0.522820</td>\n",
       "      <td>0.544521</td>\n",
       "      <td>0.518818</td>\n",
       "      <td>0.469761</td>\n",
       "      <td>0.522330</td>\n",
       "      <td>0.551040</td>\n",
       "      <td>0.530452</td>\n",
       "    </tr>\n",
       "    <tr>\n",
       "      <th>33</th>\n",
       "      <td>albert-albert-xxlarge-v2-001</td>\n",
       "      <td>ベースライン</td>\n",
       "      <td>0.45</td>\n",
       "      <td>0.470328</td>\n",
       "      <td>0.501257</td>\n",
       "      <td>0.458780</td>\n",
       "      <td>0.427188</td>\n",
       "      <td>0.471476</td>\n",
       "      <td>0.493227</td>\n",
       "      <td>0.470040</td>\n",
       "    </tr>\n",
       "    <tr>\n",
       "      <th>34</th>\n",
       "      <td>muppet-roberta-large-001</td>\n",
       "      <td>ベースライン</td>\n",
       "      <td>NaN</td>\n",
       "      <td>0.467267</td>\n",
       "      <td>0.500692</td>\n",
       "      <td>0.459510</td>\n",
       "      <td>0.422984</td>\n",
       "      <td>0.465804</td>\n",
       "      <td>0.493313</td>\n",
       "      <td>0.461302</td>\n",
       "    </tr>\n",
       "    <tr>\n",
       "      <th>35</th>\n",
       "      <td>muppet-roberta-large-002</td>\n",
       "      <td>llrd,reinit</td>\n",
       "      <td>0.45</td>\n",
       "      <td>0.469194</td>\n",
       "      <td>0.493739</td>\n",
       "      <td>0.461056</td>\n",
       "      <td>0.428373</td>\n",
       "      <td>0.460448</td>\n",
       "      <td>0.500035</td>\n",
       "      <td>0.471513</td>\n",
       "    </tr>\n",
       "    <tr>\n",
       "      <th>36</th>\n",
       "      <td>muppet-roberta-large-003</td>\n",
       "      <td>ベースライン</td>\n",
       "      <td>0.44</td>\n",
       "      <td>0.467267</td>\n",
       "      <td>0.500692</td>\n",
       "      <td>0.459510</td>\n",
       "      <td>0.422984</td>\n",
       "      <td>0.465804</td>\n",
       "      <td>0.493313</td>\n",
       "      <td>0.461302</td>\n",
       "    </tr>\n",
       "    <tr>\n",
       "      <th>37</th>\n",
       "      <td>xlnet-xlnet-base-cased-002</td>\n",
       "      <td>ベースライン</td>\n",
       "      <td>NaN</td>\n",
       "      <td>0.490887</td>\n",
       "      <td>0.516941</td>\n",
       "      <td>0.478326</td>\n",
       "      <td>0.446448</td>\n",
       "      <td>0.491658</td>\n",
       "      <td>0.520468</td>\n",
       "      <td>0.491484</td>\n",
       "    </tr>\n",
       "    <tr>\n",
       "      <th>38</th>\n",
       "      <td>bert-base-uncased-001</td>\n",
       "      <td>ベースライン</td>\n",
       "      <td>NaN</td>\n",
       "      <td>0.484494</td>\n",
       "      <td>0.520500</td>\n",
       "      <td>0.480481</td>\n",
       "      <td>0.436023</td>\n",
       "      <td>0.487036</td>\n",
       "      <td>0.510098</td>\n",
       "      <td>0.472828</td>\n",
       "    </tr>\n",
       "    <tr>\n",
       "      <th>39</th>\n",
       "      <td>bert-large-uncased-001</td>\n",
       "      <td>ベースライン</td>\n",
       "      <td>NaN</td>\n",
       "      <td>0.475687</td>\n",
       "      <td>0.510415</td>\n",
       "      <td>0.469146</td>\n",
       "      <td>0.431448</td>\n",
       "      <td>0.472482</td>\n",
       "      <td>0.500130</td>\n",
       "      <td>0.470502</td>\n",
       "    </tr>\n",
       "    <tr>\n",
       "      <th>40</th>\n",
       "      <td>bert-large-uncased-002</td>\n",
       "      <td>lasso</td>\n",
       "      <td>NaN</td>\n",
       "      <td>0.475349</td>\n",
       "      <td>0.506557</td>\n",
       "      <td>0.463510</td>\n",
       "      <td>0.430792</td>\n",
       "      <td>0.472404</td>\n",
       "      <td>0.501424</td>\n",
       "      <td>0.477408</td>\n",
       "    </tr>\n",
       "    <tr>\n",
       "      <th>41</th>\n",
       "      <td>bert-large-uncased-002</td>\n",
       "      <td>ridge</td>\n",
       "      <td>0.46</td>\n",
       "      <td>0.472705</td>\n",
       "      <td>0.502827</td>\n",
       "      <td>0.462985</td>\n",
       "      <td>0.427438</td>\n",
       "      <td>0.471144</td>\n",
       "      <td>0.499654</td>\n",
       "      <td>0.472180</td>\n",
       "    </tr>\n",
       "    <tr>\n",
       "      <th>42</th>\n",
       "      <td>xlm-xlm-roberta-base-squad2-001</td>\n",
       "      <td>ベースライン</td>\n",
       "      <td>NaN</td>\n",
       "      <td>0.478393</td>\n",
       "      <td>0.509824</td>\n",
       "      <td>0.473498</td>\n",
       "      <td>0.432901</td>\n",
       "      <td>0.478318</td>\n",
       "      <td>0.507557</td>\n",
       "      <td>0.468263</td>\n",
       "    </tr>\n",
       "  </tbody>\n",
       "</table>\n",
       "</div>"
      ],
      "text/plain": [
       "                               name                     memo    LB     score  cohesion    syntax  vocabulary  phraseology   grammar  conventions\n",
       "0            base-discriminator-001                      NaN  0.46  0.466957  0.501431  0.455460    0.428477     0.465690  0.485904     0.464780\n",
       "1            base-discriminator-002                      NaN  0.45  0.474078  0.504413  0.462707    0.432588     0.469546  0.500918     0.474296\n",
       "2               deberta-v3-base-003                  2epochs   NaN  0.459342  0.496531  0.450482    0.419448     0.457413  0.476347     0.455832\n",
       "3               deberta-v3-base-003                  6epochs  0.44  0.456879  0.488333  0.448687    0.417134     0.458769  0.479633     0.448721\n",
       "4               deberta-v3-base-006                  15folds   NaN  0.463635  0.479650  0.475910    0.442828     0.463557  0.456412     0.463457\n",
       "5               deberta-v3-base-006                  20folds   NaN  0.449212  0.475585  0.433808    0.415852     0.457436  0.484686     0.427907\n",
       "6               deberta-v3-base-006                  10folds   NaN  0.446338  0.490661  0.435001    0.409460     0.417236  0.481800     0.443871\n",
       "7            distilroberta-base-001                   4folds   NaN  0.470528  0.501629  0.459765    0.426740     0.473205  0.501976     0.459850\n",
       "8            distilroberta-base-002             バッチ16,4folds   NaN  0.471035  0.503345  0.458993    0.427209     0.471235  0.504850     0.460580\n",
       "9    microsoft-deberta-v3-large-001                      NaN  0.46  0.450311  0.482961  0.445596    0.410873     0.449346  0.466162     0.446928\n",
       "10   microsoft-deberta-v3-large-002                      NaN  0.44  0.453782  0.486786  0.446127    0.415995     0.452892  0.472186     0.448703\n",
       "11   microsoft-deberta-v3-large-004                  unscale  0.44  0.460115  0.494655  0.452659    0.419634     0.461738  0.476507     0.455497\n",
       "12                 roberta-base-003                    1fold  0.45  0.459033  0.486786  0.452983    0.423085     0.463976  0.484316     0.443049\n",
       "13                 roberta-base-004                   4folds  0.44  0.466575  0.498291  0.455092    0.427741     0.468486  0.493240     0.456598\n",
       "14                 roberta-base-005             バッチ16,4folds  0.44  0.463956  0.496089  0.454223    0.425768     0.464463  0.487668     0.455523\n",
       "15                 roberta-base-006             バッチ32,4folds   NaN  0.464111  0.497241  0.453315    0.425326     0.463499  0.488895     0.456390\n",
       "16                roberta-large-002              バッチ8_4folds  0.44  0.461700       NaN       NaN         NaN          NaN       NaN          NaN\n",
       "17                roberta-large-003            バッチ16,2_4fold   NaN  0.469800  0.483395  0.457585    0.424750     0.480469  0.494185     0.478415\n",
       "18                roberta-large-004            バッチ32,2_4fold  0.45  0.462673  0.487539  0.450118    0.419088     0.469469  0.482251     0.467571\n",
       "19                roberta-large-006            バッチ36,2_4fold  0.45  0.466295  0.490185  0.457640    0.423379     0.469386  0.486419     0.470762\n",
       "20                roberta-large-007            バッチ40,2_4fold  0.45  0.466273  0.490215  0.453633    0.423818     0.475021  0.485249     0.469699\n",
       "21                roberta-large-008    バッチ32_4folds_epochs10  0.44  0.462800       NaN       NaN         NaN          NaN       NaN          NaN\n",
       "22                roberta-large-008    バッチ32_4folds_epochs10  0.44  0.462800       NaN       NaN         NaN          NaN       NaN          NaN\n",
       "23           roberta-large-mnli-001                   4folds  0.44  0.465286  0.493436  0.456988    0.422165     0.470799  0.487859     0.460470\n",
       "24                          svr-001                    4fold   NaN  0.453306  0.483167  0.448158    0.412874     0.455388  0.473294     0.446953\n",
       "25                          svr-004                    4fold   NaN  0.452746  0.481117  0.447022    0.413401     0.455160  0.472988     0.446788\n",
       "26                          svr-005  10folds,embedding003を使用   NaN  0.455535  0.485642  0.448309    0.414582     0.458728  0.479231     0.446716\n",
       "27          funnel-intermediate-001                   ベースライン  0.44  0.464516  0.493810  0.461812    0.423381     0.460282  0.479871     0.467938\n",
       "28                 roberta-base-007        tensorflow ベースライン  0.44  0.460693  0.494831  0.451108    0.421364     0.462382  0.483491     0.450982\n",
       "29                roberta-large-020         tensorflowベースライン  0.44  0.461600       NaN       NaN         NaN          NaN       NaN          NaN\n",
       "30                 funnel-large-001                   ベースライン  0.45  0.469392  0.500464  0.465704    0.426260     0.472609  0.485169     0.466142\n",
       "31         bigbird-roberta-base-001                   ベースライン  0.45  0.472852  0.504070  0.459654    0.433966     0.472433  0.500781     0.466208\n",
       "32        bigbird-roberta-large-001                   ベースライン   NaN  0.522820  0.544521  0.518818    0.469761     0.522330  0.551040     0.530452\n",
       "33     albert-albert-xxlarge-v2-001                   ベースライン  0.45  0.470328  0.501257  0.458780    0.427188     0.471476  0.493227     0.470040\n",
       "34         muppet-roberta-large-001                   ベースライン   NaN  0.467267  0.500692  0.459510    0.422984     0.465804  0.493313     0.461302\n",
       "35         muppet-roberta-large-002              llrd,reinit  0.45  0.469194  0.493739  0.461056    0.428373     0.460448  0.500035     0.471513\n",
       "36         muppet-roberta-large-003                   ベースライン  0.44  0.467267  0.500692  0.459510    0.422984     0.465804  0.493313     0.461302\n",
       "37       xlnet-xlnet-base-cased-002                   ベースライン   NaN  0.490887  0.516941  0.478326    0.446448     0.491658  0.520468     0.491484\n",
       "38            bert-base-uncased-001                   ベースライン   NaN  0.484494  0.520500  0.480481    0.436023     0.487036  0.510098     0.472828\n",
       "39           bert-large-uncased-001                   ベースライン   NaN  0.475687  0.510415  0.469146    0.431448     0.472482  0.500130     0.470502\n",
       "40           bert-large-uncased-002                    lasso   NaN  0.475349  0.506557  0.463510    0.430792     0.472404  0.501424     0.477408\n",
       "41           bert-large-uncased-002                    ridge  0.46  0.472705  0.502827  0.462985    0.427438     0.471144  0.499654     0.472180\n",
       "42  xlm-xlm-roberta-base-squad2-001                   ベースライン   NaN  0.478393  0.509824  0.473498    0.432901     0.478318  0.507557     0.468263"
      ]
     },
     "execution_count": 22,
     "metadata": {},
     "output_type": "execute_result"
    }
   ],
   "source": [
    "df = pd.read_csv(CFG.score_path)\n",
    "df"
   ]
  }
 ],
 "metadata": {
  "kernelspec": {
   "display_name": "Python 3",
   "language": "python",
   "name": "python3"
  },
  "language_info": {
   "codemirror_mode": {
    "name": "ipython",
    "version": 3
   },
   "file_extension": ".py",
   "mimetype": "text/x-python",
   "name": "python",
   "nbconvert_exporter": "python",
   "pygments_lexer": "ipython3",
   "version": "3.7.3 (v3.7.3:ef4ec6ed12, Mar 25 2019, 22:22:05) [MSC v.1916 64 bit (AMD64)]"
  },
  "vscode": {
   "interpreter": {
    "hash": "93b49097727f0fa9adcd5aafc99dd1cd7ea79cb7347d81ea1db36b3c60bc51bc"
   }
  }
 },
 "nbformat": 4,
 "nbformat_minor": 4
}
